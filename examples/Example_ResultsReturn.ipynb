{
 "cells": [
  {
   "cell_type": "markdown",
   "id": "51b32c36",
   "metadata": {
    "id": "xdsf78IH3_c7"
   },
   "source": [
    "# PiML Toolbox: Results Return\n",
    "\n",
    "This example notebook demonstrates how to use PiML to save a fitted model to pickle file and load a pickle file into PiLM workflow."
   ]
  },
  {
   "cell_type": "markdown",
   "id": "616ba614",
   "metadata": {
    "id": "wJ7N7REOtAgN"
   },
   "source": [
    "# Install PiML package on Google Colab\n",
    "\n",
    "1. Run `!pip install piml` to install the latest version of PiML\n",
    "2. In Colab, you'll need restart the runtime in order to use newly installed PiML version."
   ]
  },
  {
   "cell_type": "code",
   "execution_count": 1,
   "id": "ebfc5de7",
   "metadata": {},
   "outputs": [],
   "source": [
    "!pip install piml"
   ]
  },
  {
   "cell_type": "markdown",
   "id": "a966da9d",
   "metadata": {},
   "source": [
    "# Stage 1: Initialize an experiment, Load and Prepare data"
   ]
  },
  {
   "cell_type": "code",
   "execution_count": 1,
   "id": "2bf9c2aa",
   "metadata": {
    "scrolled": true
   },
   "outputs": [
    {
     "data": {
      "text/html": [
       "<div>\n",
       "<style scoped>\n",
       "    .dataframe tbody tr th:only-of-type {\n",
       "        vertical-align: middle;\n",
       "    }\n",
       "\n",
       "    .dataframe tbody tr th {\n",
       "        vertical-align: top;\n",
       "    }\n",
       "\n",
       "    .dataframe thead th {\n",
       "        text-align: right;\n",
       "    }\n",
       "</style>\n",
       "<table border=\"1\" class=\"dataframe\">\n",
       "  <thead>\n",
       "    <tr style=\"text-align: right;\">\n",
       "      <th></th>\n",
       "      <th>season</th>\n",
       "      <th>yr</th>\n",
       "      <th>mnth</th>\n",
       "      <th>hr</th>\n",
       "      <th>holiday</th>\n",
       "      <th>weekday</th>\n",
       "      <th>workingday</th>\n",
       "      <th>weathersit</th>\n",
       "      <th>temp</th>\n",
       "      <th>atemp</th>\n",
       "      <th>hum</th>\n",
       "      <th>windspeed</th>\n",
       "      <th>cnt</th>\n",
       "    </tr>\n",
       "  </thead>\n",
       "  <tbody>\n",
       "    <tr>\n",
       "      <th>0</th>\n",
       "      <td>1.0</td>\n",
       "      <td>0.0</td>\n",
       "      <td>1.0</td>\n",
       "      <td>0.0</td>\n",
       "      <td>0.0</td>\n",
       "      <td>6.0</td>\n",
       "      <td>0.0</td>\n",
       "      <td>1.0</td>\n",
       "      <td>0.24</td>\n",
       "      <td>0.2879</td>\n",
       "      <td>0.81</td>\n",
       "      <td>0.0000</td>\n",
       "      <td>16.0</td>\n",
       "    </tr>\n",
       "    <tr>\n",
       "      <th>1</th>\n",
       "      <td>1.0</td>\n",
       "      <td>0.0</td>\n",
       "      <td>1.0</td>\n",
       "      <td>1.0</td>\n",
       "      <td>0.0</td>\n",
       "      <td>6.0</td>\n",
       "      <td>0.0</td>\n",
       "      <td>1.0</td>\n",
       "      <td>0.22</td>\n",
       "      <td>0.2727</td>\n",
       "      <td>0.80</td>\n",
       "      <td>0.0000</td>\n",
       "      <td>40.0</td>\n",
       "    </tr>\n",
       "    <tr>\n",
       "      <th>2</th>\n",
       "      <td>1.0</td>\n",
       "      <td>0.0</td>\n",
       "      <td>1.0</td>\n",
       "      <td>2.0</td>\n",
       "      <td>0.0</td>\n",
       "      <td>6.0</td>\n",
       "      <td>0.0</td>\n",
       "      <td>1.0</td>\n",
       "      <td>0.22</td>\n",
       "      <td>0.2727</td>\n",
       "      <td>0.80</td>\n",
       "      <td>0.0000</td>\n",
       "      <td>32.0</td>\n",
       "    </tr>\n",
       "    <tr>\n",
       "      <th>3</th>\n",
       "      <td>1.0</td>\n",
       "      <td>0.0</td>\n",
       "      <td>1.0</td>\n",
       "      <td>3.0</td>\n",
       "      <td>0.0</td>\n",
       "      <td>6.0</td>\n",
       "      <td>0.0</td>\n",
       "      <td>1.0</td>\n",
       "      <td>0.24</td>\n",
       "      <td>0.2879</td>\n",
       "      <td>0.75</td>\n",
       "      <td>0.0000</td>\n",
       "      <td>13.0</td>\n",
       "    </tr>\n",
       "    <tr>\n",
       "      <th>4</th>\n",
       "      <td>1.0</td>\n",
       "      <td>0.0</td>\n",
       "      <td>1.0</td>\n",
       "      <td>4.0</td>\n",
       "      <td>0.0</td>\n",
       "      <td>6.0</td>\n",
       "      <td>0.0</td>\n",
       "      <td>1.0</td>\n",
       "      <td>0.24</td>\n",
       "      <td>0.2879</td>\n",
       "      <td>0.75</td>\n",
       "      <td>0.0000</td>\n",
       "      <td>1.0</td>\n",
       "    </tr>\n",
       "    <tr>\n",
       "      <th>...</th>\n",
       "      <td>...</td>\n",
       "      <td>...</td>\n",
       "      <td>...</td>\n",
       "      <td>...</td>\n",
       "      <td>...</td>\n",
       "      <td>...</td>\n",
       "      <td>...</td>\n",
       "      <td>...</td>\n",
       "      <td>...</td>\n",
       "      <td>...</td>\n",
       "      <td>...</td>\n",
       "      <td>...</td>\n",
       "      <td>...</td>\n",
       "    </tr>\n",
       "    <tr>\n",
       "      <th>17374</th>\n",
       "      <td>1.0</td>\n",
       "      <td>1.0</td>\n",
       "      <td>12.0</td>\n",
       "      <td>19.0</td>\n",
       "      <td>0.0</td>\n",
       "      <td>1.0</td>\n",
       "      <td>1.0</td>\n",
       "      <td>2.0</td>\n",
       "      <td>0.26</td>\n",
       "      <td>0.2576</td>\n",
       "      <td>0.60</td>\n",
       "      <td>0.1642</td>\n",
       "      <td>119.0</td>\n",
       "    </tr>\n",
       "    <tr>\n",
       "      <th>17375</th>\n",
       "      <td>1.0</td>\n",
       "      <td>1.0</td>\n",
       "      <td>12.0</td>\n",
       "      <td>20.0</td>\n",
       "      <td>0.0</td>\n",
       "      <td>1.0</td>\n",
       "      <td>1.0</td>\n",
       "      <td>2.0</td>\n",
       "      <td>0.26</td>\n",
       "      <td>0.2576</td>\n",
       "      <td>0.60</td>\n",
       "      <td>0.1642</td>\n",
       "      <td>89.0</td>\n",
       "    </tr>\n",
       "    <tr>\n",
       "      <th>17376</th>\n",
       "      <td>1.0</td>\n",
       "      <td>1.0</td>\n",
       "      <td>12.0</td>\n",
       "      <td>21.0</td>\n",
       "      <td>0.0</td>\n",
       "      <td>1.0</td>\n",
       "      <td>1.0</td>\n",
       "      <td>1.0</td>\n",
       "      <td>0.26</td>\n",
       "      <td>0.2576</td>\n",
       "      <td>0.60</td>\n",
       "      <td>0.1642</td>\n",
       "      <td>90.0</td>\n",
       "    </tr>\n",
       "    <tr>\n",
       "      <th>17377</th>\n",
       "      <td>1.0</td>\n",
       "      <td>1.0</td>\n",
       "      <td>12.0</td>\n",
       "      <td>22.0</td>\n",
       "      <td>0.0</td>\n",
       "      <td>1.0</td>\n",
       "      <td>1.0</td>\n",
       "      <td>1.0</td>\n",
       "      <td>0.26</td>\n",
       "      <td>0.2727</td>\n",
       "      <td>0.56</td>\n",
       "      <td>0.1343</td>\n",
       "      <td>61.0</td>\n",
       "    </tr>\n",
       "    <tr>\n",
       "      <th>17378</th>\n",
       "      <td>1.0</td>\n",
       "      <td>1.0</td>\n",
       "      <td>12.0</td>\n",
       "      <td>23.0</td>\n",
       "      <td>0.0</td>\n",
       "      <td>1.0</td>\n",
       "      <td>1.0</td>\n",
       "      <td>1.0</td>\n",
       "      <td>0.26</td>\n",
       "      <td>0.2727</td>\n",
       "      <td>0.65</td>\n",
       "      <td>0.1343</td>\n",
       "      <td>49.0</td>\n",
       "    </tr>\n",
       "  </tbody>\n",
       "</table>\n",
       "<p>17379 rows × 13 columns</p>\n",
       "</div>"
      ],
      "text/plain": [
       "       season   yr  mnth    hr  holiday  weekday  workingday  weathersit  \\\n",
       "0         1.0  0.0   1.0   0.0      0.0      6.0         0.0         1.0   \n",
       "1         1.0  0.0   1.0   1.0      0.0      6.0         0.0         1.0   \n",
       "2         1.0  0.0   1.0   2.0      0.0      6.0         0.0         1.0   \n",
       "3         1.0  0.0   1.0   3.0      0.0      6.0         0.0         1.0   \n",
       "4         1.0  0.0   1.0   4.0      0.0      6.0         0.0         1.0   \n",
       "...       ...  ...   ...   ...      ...      ...         ...         ...   \n",
       "17374     1.0  1.0  12.0  19.0      0.0      1.0         1.0         2.0   \n",
       "17375     1.0  1.0  12.0  20.0      0.0      1.0         1.0         2.0   \n",
       "17376     1.0  1.0  12.0  21.0      0.0      1.0         1.0         1.0   \n",
       "17377     1.0  1.0  12.0  22.0      0.0      1.0         1.0         1.0   \n",
       "17378     1.0  1.0  12.0  23.0      0.0      1.0         1.0         1.0   \n",
       "\n",
       "       temp   atemp   hum  windspeed    cnt  \n",
       "0      0.24  0.2879  0.81     0.0000   16.0  \n",
       "1      0.22  0.2727  0.80     0.0000   40.0  \n",
       "2      0.22  0.2727  0.80     0.0000   32.0  \n",
       "3      0.24  0.2879  0.75     0.0000   13.0  \n",
       "4      0.24  0.2879  0.75     0.0000    1.0  \n",
       "...     ...     ...   ...        ...    ...  \n",
       "17374  0.26  0.2576  0.60     0.1642  119.0  \n",
       "17375  0.26  0.2576  0.60     0.1642   89.0  \n",
       "17376  0.26  0.2576  0.60     0.1642   90.0  \n",
       "17377  0.26  0.2727  0.56     0.1343   61.0  \n",
       "17378  0.26  0.2727  0.65     0.1343   49.0  \n",
       "\n",
       "[17379 rows x 13 columns]"
      ]
     },
     "metadata": {},
     "output_type": "display_data"
    }
   ],
   "source": [
    "from piml import Experiment\n",
    "exp = Experiment()\n",
    "exp.data_loader(data=\"BikeSharing\")"
   ]
  },
  {
   "cell_type": "code",
   "execution_count": 2,
   "id": "96dea159",
   "metadata": {
    "scrolled": true
   },
   "outputs": [
    {
     "data": {
      "application/vnd.jupyter.widget-view+json": {
       "model_id": "02bcf6b51ec740288f8cc587de75de58",
       "version_major": 2,
       "version_minor": 0
      },
      "text/plain": [
       "HTML(value='\\n        <style>\\n\\n        .left-label {\\n            width: 30%;\\n        }\\n\\n        .card-pa…"
      ]
     },
     "metadata": {},
     "output_type": "display_data"
    },
    {
     "data": {
      "application/javascript": [
       "\n",
       "        IPython.OutputArea.prototype._should_scroll = function(lines) {\n",
       "            return false;\n",
       "        }"
      ],
      "text/plain": [
       "<IPython.core.display.Javascript object>"
      ]
     },
     "metadata": {},
     "output_type": "display_data"
    },
    {
     "data": {
      "application/vnd.jupyter.widget-view+json": {
       "model_id": "b56948a2dcdb4cfe869fa0fd7808c098",
       "version_major": 2,
       "version_minor": 0
      },
      "text/plain": [
       "HTML(value='<link rel=\"stylesheet\" href=\"//stackpath.bootstrapcdn.com/font-awesome/4.7.0/css/font-awesome.min.…"
      ]
     },
     "metadata": {},
     "output_type": "display_data"
    },
    {
     "data": {
      "application/vnd.jupyter.widget-view+json": {
       "model_id": "2ca8a87a17df495dbd19e816cfa22fd0",
       "version_major": 2,
       "version_minor": 0
      },
      "text/plain": [
       "VBox(children=(HTML(value='Data Shape:(17379, 13)'), Tab(children=(Output(), Output()), _dom_classes=('data-su…"
      ]
     },
     "metadata": {},
     "output_type": "display_data"
    }
   ],
   "source": [
    "exp.data_summary()"
   ]
  },
  {
   "cell_type": "code",
   "execution_count": 3,
   "id": "8a6de4d2",
   "metadata": {},
   "outputs": [
    {
     "data": {
      "application/vnd.jupyter.widget-view+json": {
       "model_id": "33e091089f7d462dab71c6d04203d800",
       "version_major": 2,
       "version_minor": 0
      },
      "text/plain": [
       "HTML(value='\\n        <style>\\n\\n        .left-label {\\n            width: 30%;\\n        }\\n\\n        .card-pa…"
      ]
     },
     "metadata": {},
     "output_type": "display_data"
    },
    {
     "data": {
      "application/javascript": [
       "\n",
       "        IPython.OutputArea.prototype._should_scroll = function(lines) {\n",
       "            return false;\n",
       "        }"
      ],
      "text/plain": [
       "<IPython.core.display.Javascript object>"
      ]
     },
     "metadata": {},
     "output_type": "display_data"
    },
    {
     "data": {
      "application/vnd.jupyter.widget-view+json": {
       "model_id": "1170834de2a74deeabd888c72d60d3c1",
       "version_major": 2,
       "version_minor": 0
      },
      "text/plain": [
       "VBox(children=(HBox(children=(VBox(children=(HTML(value='<p>Target Variable:</p>'), HTML(value='<p>Split Metho…"
      ]
     },
     "metadata": {},
     "output_type": "display_data"
    }
   ],
   "source": [
    "exp.data_prepare()"
   ]
  },
  {
   "cell_type": "markdown",
   "id": "8f86020e",
   "metadata": {
    "id": "8f86020e"
   },
   "source": [
    "# Stage 2. Train intepretable models "
   ]
  },
  {
   "cell_type": "code",
   "execution_count": 4,
   "id": "c4c1d6d1",
   "metadata": {},
   "outputs": [
    {
     "data": {
      "application/vnd.jupyter.widget-view+json": {
       "model_id": "07357d724137442f901cf0ebdbd428cd",
       "version_major": 2,
       "version_minor": 0
      },
      "text/plain": [
       "HTML(value='\\n        <style>\\n\\n        .left-label {\\n            width: 30%;\\n        }\\n\\n        .card-pa…"
      ]
     },
     "metadata": {},
     "output_type": "display_data"
    },
    {
     "data": {
      "application/javascript": [
       "\n",
       "        IPython.OutputArea.prototype._should_scroll = function(lines) {\n",
       "            return false;\n",
       "        }"
      ],
      "text/plain": [
       "<IPython.core.display.Javascript object>"
      ]
     },
     "metadata": {},
     "output_type": "display_data"
    }
   ],
   "source": [
    "from piml.models import GLMRegressor, XGB2Regressor\n",
    "\n",
    "exp.model_train(model=GLMRegressor(), name='GLM')\n",
    "exp.model_train(XGB2Regressor(), name=\"XGB2\")"
   ]
  },
  {
   "cell_type": "markdown",
   "id": "83d58ee1",
   "metadata": {},
   "source": [
    "# Stage 3. Model interpret, explain diagnostics with results return"
   ]
  },
  {
   "cell_type": "markdown",
   "id": "0d3e6a17",
   "metadata": {},
   "source": [
    "Return figure and/or data results for each high-code API, triggered by `return_data=True`.\n",
    "\n",
    "The returned object has two attributes, i.e., `data` and `figure`."
   ]
  },
  {
   "cell_type": "code",
   "execution_count": 5,
   "id": "41ac86e3",
   "metadata": {},
   "outputs": [
    {
     "data": {
      "application/vnd.jupyter.widget-view+json": {
       "model_id": "9c4e58fd5ea8495d983747b1976b1365",
       "version_major": 2,
       "version_minor": 0
      },
      "text/plain": [
       "HTML(value='\\n        <style>\\n\\n        .left-label {\\n            width: 30%;\\n        }\\n\\n        .card-pa…"
      ]
     },
     "metadata": {},
     "output_type": "display_data"
    },
    {
     "data": {
      "application/javascript": [
       "\n",
       "        IPython.OutputArea.prototype._should_scroll = function(lines) {\n",
       "            return false;\n",
       "        }"
      ],
      "text/plain": [
       "<IPython.core.display.Javascript object>"
      ]
     },
     "metadata": {},
     "output_type": "display_data"
    },
    {
     "data": {
      "image/png": "[encoded data removed]",
      "text/plain": [
       "<Figure size 432x360 with 1 Axes>"
      ]
     },
     "metadata": {
      "needs_background": "light"
     },
     "output_type": "display_data"
    }
   ],
   "source": [
    "result = exp.model_interpret(model=\"GLM\", show=\"glm_coef_plot\", centered=True, return_data=True,\n",
    "                             original_scale=True, figsize=(6, 5))"
   ]
  },
  {
   "cell_type": "code",
   "execution_count": 6,
   "id": "5e2aed7e",
   "metadata": {},
   "outputs": [
    {
     "data": {
      "application/vnd.jupyter.widget-view+json": {
       "model_id": "9e1164bb86994298bd76302102d83152",
       "version_major": 2,
       "version_minor": 0
      },
      "text/plain": [
       "HTML(value='\\n        <style>\\n\\n        .left-label {\\n            width: 30%;\\n        }\\n\\n        .card-pa…"
      ]
     },
     "metadata": {},
     "output_type": "display_data"
    },
    {
     "data": {
      "application/javascript": [
       "\n",
       "        IPython.OutputArea.prototype._should_scroll = function(lines) {\n",
       "            return false;\n",
       "        }"
      ],
      "text/plain": [
       "<IPython.core.display.Javascript object>"
      ]
     },
     "metadata": {},
     "output_type": "display_data"
    },
    {
     "data": {
      "text/html": [
       "<div>\n",
       "<style scoped>\n",
       "    .dataframe tbody tr th:only-of-type {\n",
       "        vertical-align: middle;\n",
       "    }\n",
       "\n",
       "    .dataframe tbody tr th {\n",
       "        vertical-align: top;\n",
       "    }\n",
       "\n",
       "    .dataframe thead th {\n",
       "        text-align: right;\n",
       "    }\n",
       "</style>\n",
       "<table border=\"1\" class=\"dataframe\">\n",
       "  <thead>\n",
       "    <tr style=\"text-align: right;\">\n",
       "      <th></th>\n",
       "      <th>Feature Name</th>\n",
       "      <th>Coefficient</th>\n",
       "    </tr>\n",
       "  </thead>\n",
       "  <tbody>\n",
       "    <tr>\n",
       "      <th>17</th>\n",
       "      <td>atemp</td>\n",
       "      <td>1.265512e-01</td>\n",
       "    </tr>\n",
       "    <tr>\n",
       "      <th>3</th>\n",
       "      <td>holiday_0</td>\n",
       "      <td>2.775558e-17</td>\n",
       "    </tr>\n",
       "    <tr>\n",
       "      <th>11</th>\n",
       "      <td>holiday_1</td>\n",
       "      <td>-2.791845e-02</td>\n",
       "    </tr>\n",
       "    <tr>\n",
       "      <th>18</th>\n",
       "      <td>hr</td>\n",
       "      <td>1.786579e-01</td>\n",
       "    </tr>\n",
       "    <tr>\n",
       "      <th>19</th>\n",
       "      <td>hum</td>\n",
       "      <td>-1.879556e-01</td>\n",
       "    </tr>\n",
       "    <tr>\n",
       "      <th>6</th>\n",
       "      <td>mnth</td>\n",
       "      <td>3.941489e-03</td>\n",
       "    </tr>\n",
       "    <tr>\n",
       "      <th>0</th>\n",
       "      <td>season_0</td>\n",
       "      <td>0.000000e+00</td>\n",
       "    </tr>\n",
       "    <tr>\n",
       "      <th>10</th>\n",
       "      <td>season_1</td>\n",
       "      <td>2.026964e-02</td>\n",
       "    </tr>\n",
       "    <tr>\n",
       "      <th>8</th>\n",
       "      <td>season_2</td>\n",
       "      <td>-6.915606e-03</td>\n",
       "    </tr>\n",
       "    <tr>\n",
       "      <th>15</th>\n",
       "      <td>season_3</td>\n",
       "      <td>6.422956e-02</td>\n",
       "    </tr>\n",
       "    <tr>\n",
       "      <th>20</th>\n",
       "      <td>temp</td>\n",
       "      <td>2.436000e-01</td>\n",
       "    </tr>\n",
       "    <tr>\n",
       "      <th>2</th>\n",
       "      <td>weathersit_0</td>\n",
       "      <td>-2.775558e-17</td>\n",
       "    </tr>\n",
       "    <tr>\n",
       "      <th>7</th>\n",
       "      <td>weathersit_1</td>\n",
       "      <td>6.811655e-03</td>\n",
       "    </tr>\n",
       "    <tr>\n",
       "      <th>12</th>\n",
       "      <td>weathersit_2</td>\n",
       "      <td>-3.130013e-02</td>\n",
       "    </tr>\n",
       "    <tr>\n",
       "      <th>14</th>\n",
       "      <td>weathersit_3</td>\n",
       "      <td>4.830268e-02</td>\n",
       "    </tr>\n",
       "    <tr>\n",
       "      <th>9</th>\n",
       "      <td>weekday</td>\n",
       "      <td>1.262736e-02</td>\n",
       "    </tr>\n",
       "    <tr>\n",
       "      <th>13</th>\n",
       "      <td>windspeed</td>\n",
       "      <td>3.371801e-02</td>\n",
       "    </tr>\n",
       "    <tr>\n",
       "      <th>1</th>\n",
       "      <td>workingday_0</td>\n",
       "      <td>0.000000e+00</td>\n",
       "    </tr>\n",
       "    <tr>\n",
       "      <th>5</th>\n",
       "      <td>workingday_1</td>\n",
       "      <td>3.410650e-03</td>\n",
       "    </tr>\n",
       "    <tr>\n",
       "      <th>4</th>\n",
       "      <td>yr_0</td>\n",
       "      <td>-8.326673e-17</td>\n",
       "    </tr>\n",
       "    <tr>\n",
       "      <th>16</th>\n",
       "      <td>yr_1</td>\n",
       "      <td>8.036013e-02</td>\n",
       "    </tr>\n",
       "  </tbody>\n",
       "</table>\n",
       "</div>"
      ],
      "text/plain": [
       "    Feature Name   Coefficient\n",
       "17         atemp  1.265512e-01\n",
       "3      holiday_0  2.775558e-17\n",
       "11     holiday_1 -2.791845e-02\n",
       "18            hr  1.786579e-01\n",
       "19           hum -1.879556e-01\n",
       "6           mnth  3.941489e-03\n",
       "0       season_0  0.000000e+00\n",
       "10      season_1  2.026964e-02\n",
       "8       season_2 -6.915606e-03\n",
       "15      season_3  6.422956e-02\n",
       "20          temp  2.436000e-01\n",
       "2   weathersit_0 -2.775558e-17\n",
       "7   weathersit_1  6.811655e-03\n",
       "12  weathersit_2 -3.130013e-02\n",
       "14  weathersit_3  4.830268e-02\n",
       "9        weekday  1.262736e-02\n",
       "13     windspeed  3.371801e-02\n",
       "1   workingday_0  0.000000e+00\n",
       "5   workingday_1  3.410650e-03\n",
       "4           yr_0 -8.326673e-17\n",
       "16          yr_1  8.036013e-02"
      ]
     },
     "execution_count": 6,
     "metadata": {},
     "output_type": "execute_result"
    }
   ],
   "source": [
    "result.data"
   ]
  },
  {
   "cell_type": "code",
   "execution_count": 7,
   "id": "77efd801",
   "metadata": {},
   "outputs": [
    {
     "data": {
      "application/vnd.jupyter.widget-view+json": {
       "model_id": "6f13fb04731a4ca8ab9b68580297db86",
       "version_major": 2,
       "version_minor": 0
      },
      "text/plain": [
       "HTML(value='\\n        <style>\\n\\n        .left-label {\\n            width: 30%;\\n        }\\n\\n        .card-pa…"
      ]
     },
     "metadata": {},
     "output_type": "display_data"
    },
    {
     "data": {
      "application/javascript": [
       "\n",
       "        IPython.OutputArea.prototype._should_scroll = function(lines) {\n",
       "            return false;\n",
       "        }"
      ],
      "text/plain": [
       "<IPython.core.display.Javascript object>"
      ]
     },
     "metadata": {},
     "output_type": "display_data"
    },
    {
     "data": {
      "image/png": "[encoded data removed]",
      "text/plain": [
       "<Figure size 432x360 with 1 Axes>"
      ]
     },
     "execution_count": 7,
     "metadata": {},
     "output_type": "execute_result"
    }
   ],
   "source": [
    "result.figure"
   ]
  },
  {
   "cell_type": "code",
   "execution_count": 8,
   "id": "cd99f2e1",
   "metadata": {},
   "outputs": [
    {
     "data": {
      "application/vnd.jupyter.widget-view+json": {
       "model_id": "3df10ebac1724e55b960da0138708c44",
       "version_major": 2,
       "version_minor": 0
      },
      "text/plain": [
       "HTML(value='\\n        <style>\\n\\n        .left-label {\\n            width: 30%;\\n        }\\n\\n        .card-pa…"
      ]
     },
     "metadata": {},
     "output_type": "display_data"
    },
    {
     "data": {
      "application/javascript": [
       "\n",
       "        IPython.OutputArea.prototype._should_scroll = function(lines) {\n",
       "            return false;\n",
       "        }"
      ],
      "text/plain": [
       "<IPython.core.display.Javascript object>"
      ]
     },
     "metadata": {},
     "output_type": "display_data"
    },
    {
     "data": {
      "image/png": "[encoded data removed]",
      "text/plain": [
       "<Figure size 432x360 with 1 Axes>"
      ]
     },
     "metadata": {
      "needs_background": "light"
     },
     "output_type": "display_data"
    }
   ],
   "source": [
    "result = exp.model_interpret(model=\"XGB2\", show=\"global_fi\", return_data=True,\n",
    "                             original_scale=True, figsize=(6, 5))"
   ]
  },
  {
   "cell_type": "code",
   "execution_count": 9,
   "id": "c51e5983",
   "metadata": {},
   "outputs": [
    {
     "data": {
      "application/vnd.jupyter.widget-view+json": {
       "model_id": "e647e44055f14109ac6d47222ddee1e6",
       "version_major": 2,
       "version_minor": 0
      },
      "text/plain": [
       "HTML(value='\\n        <style>\\n\\n        .left-label {\\n            width: 30%;\\n        }\\n\\n        .card-pa…"
      ]
     },
     "metadata": {},
     "output_type": "display_data"
    },
    {
     "data": {
      "application/javascript": [
       "\n",
       "        IPython.OutputArea.prototype._should_scroll = function(lines) {\n",
       "            return false;\n",
       "        }"
      ],
      "text/plain": [
       "<IPython.core.display.Javascript object>"
      ]
     },
     "metadata": {},
     "output_type": "display_data"
    },
    {
     "data": {
      "text/html": [
       "<div>\n",
       "<style scoped>\n",
       "    .dataframe tbody tr th:only-of-type {\n",
       "        vertical-align: middle;\n",
       "    }\n",
       "\n",
       "    .dataframe tbody tr th {\n",
       "        vertical-align: top;\n",
       "    }\n",
       "\n",
       "    .dataframe thead th {\n",
       "        text-align: right;\n",
       "    }\n",
       "</style>\n",
       "<table border=\"1\" class=\"dataframe\">\n",
       "  <thead>\n",
       "    <tr style=\"text-align: right;\">\n",
       "      <th></th>\n",
       "      <th>Feature Name</th>\n",
       "      <th>Importance</th>\n",
       "    </tr>\n",
       "  </thead>\n",
       "  <tbody>\n",
       "    <tr>\n",
       "      <th>0</th>\n",
       "      <td>holiday</td>\n",
       "      <td>0.000332</td>\n",
       "    </tr>\n",
       "    <tr>\n",
       "      <th>1</th>\n",
       "      <td>windspeed</td>\n",
       "      <td>0.001400</td>\n",
       "    </tr>\n",
       "    <tr>\n",
       "      <th>2</th>\n",
       "      <td>mnth</td>\n",
       "      <td>0.002148</td>\n",
       "    </tr>\n",
       "    <tr>\n",
       "      <th>3</th>\n",
       "      <td>weekday</td>\n",
       "      <td>0.002495</td>\n",
       "    </tr>\n",
       "    <tr>\n",
       "      <th>4</th>\n",
       "      <td>hum</td>\n",
       "      <td>0.008662</td>\n",
       "    </tr>\n",
       "    <tr>\n",
       "      <th>5</th>\n",
       "      <td>workingday</td>\n",
       "      <td>0.010984</td>\n",
       "    </tr>\n",
       "    <tr>\n",
       "      <th>6</th>\n",
       "      <td>weathersit</td>\n",
       "      <td>0.015306</td>\n",
       "    </tr>\n",
       "    <tr>\n",
       "      <th>7</th>\n",
       "      <td>atemp</td>\n",
       "      <td>0.018995</td>\n",
       "    </tr>\n",
       "    <tr>\n",
       "      <th>8</th>\n",
       "      <td>season</td>\n",
       "      <td>0.023035</td>\n",
       "    </tr>\n",
       "    <tr>\n",
       "      <th>9</th>\n",
       "      <td>temp</td>\n",
       "      <td>0.049240</td>\n",
       "    </tr>\n",
       "    <tr>\n",
       "      <th>10</th>\n",
       "      <td>yr</td>\n",
       "      <td>0.098085</td>\n",
       "    </tr>\n",
       "    <tr>\n",
       "      <th>11</th>\n",
       "      <td>hr</td>\n",
       "      <td>0.769317</td>\n",
       "    </tr>\n",
       "  </tbody>\n",
       "</table>\n",
       "</div>"
      ],
      "text/plain": [
       "   Feature Name  Importance\n",
       "0       holiday    0.000332\n",
       "1     windspeed    0.001400\n",
       "2          mnth    0.002148\n",
       "3       weekday    0.002495\n",
       "4           hum    0.008662\n",
       "5    workingday    0.010984\n",
       "6    weathersit    0.015306\n",
       "7         atemp    0.018995\n",
       "8        season    0.023035\n",
       "9          temp    0.049240\n",
       "10           yr    0.098085\n",
       "11           hr    0.769317"
      ]
     },
     "execution_count": 9,
     "metadata": {},
     "output_type": "execute_result"
    }
   ],
   "source": [
    "result.data"
   ]
  },
  {
   "cell_type": "code",
   "execution_count": 10,
   "id": "88fd0af4",
   "metadata": {},
   "outputs": [
    {
     "data": {
      "application/vnd.jupyter.widget-view+json": {
       "model_id": "403afafda4ae4ac9a8512bc1b773550f",
       "version_major": 2,
       "version_minor": 0
      },
      "text/plain": [
       "HTML(value='\\n        <style>\\n\\n        .left-label {\\n            width: 30%;\\n        }\\n\\n        .card-pa…"
      ]
     },
     "metadata": {},
     "output_type": "display_data"
    },
    {
     "data": {
      "application/javascript": [
       "\n",
       "        IPython.OutputArea.prototype._should_scroll = function(lines) {\n",
       "            return false;\n",
       "        }"
      ],
      "text/plain": [
       "<IPython.core.display.Javascript object>"
      ]
     },
     "metadata": {},
     "output_type": "display_data"
    },
    {
     "data": {
      "image/png": "[encoded data removed]",
      "text/plain": [
       "<Figure size 432x360 with 1 Axes>"
      ]
     },
     "execution_count": 10,
     "metadata": {},
     "output_type": "execute_result"
    }
   ],
   "source": [
    "result.figure"
   ]
  },
  {
   "cell_type": "code",
   "execution_count": 11,
   "id": "656c1cfd",
   "metadata": {},
   "outputs": [
    {
     "data": {
      "application/vnd.jupyter.widget-view+json": {
       "model_id": "78c546e1d0584cefab2f2f5d436549b6",
       "version_major": 2,
       "version_minor": 0
      },
      "text/plain": [
       "HTML(value='\\n        <style>\\n\\n        .left-label {\\n            width: 30%;\\n        }\\n\\n        .card-pa…"
      ]
     },
     "metadata": {},
     "output_type": "display_data"
    },
    {
     "data": {
      "application/javascript": [
       "\n",
       "        IPython.OutputArea.prototype._should_scroll = function(lines) {\n",
       "            return false;\n",
       "        }"
      ],
      "text/plain": [
       "<IPython.core.display.Javascript object>"
      ]
     },
     "metadata": {},
     "output_type": "display_data"
    },
    {
     "data": {
      "image/png": "[encoded data removed]",
      "text/plain": [
       "<Figure size 432x360 with 1 Axes>"
      ]
     },
     "metadata": {
      "needs_background": "light"
     },
     "output_type": "display_data"
    }
   ],
   "source": [
    "result = exp.model_explain(model=\"GLM\", show=\"pfi\", centered=True, return_data=True,\n",
    "                           original_scale=True, figsize=(6, 5))"
   ]
  },
  {
   "cell_type": "code",
   "execution_count": 12,
   "id": "a96ba642",
   "metadata": {},
   "outputs": [
    {
     "data": {
      "application/vnd.jupyter.widget-view+json": {
       "model_id": "df451b3e53f748a186dd0efa26f57f12",
       "version_major": 2,
       "version_minor": 0
      },
      "text/plain": [
       "HTML(value='\\n        <style>\\n\\n        .left-label {\\n            width: 30%;\\n        }\\n\\n        .card-pa…"
      ]
     },
     "metadata": {},
     "output_type": "display_data"
    },
    {
     "data": {
      "application/javascript": [
       "\n",
       "        IPython.OutputArea.prototype._should_scroll = function(lines) {\n",
       "            return false;\n",
       "        }"
      ],
      "text/plain": [
       "<IPython.core.display.Javascript object>"
      ]
     },
     "metadata": {},
     "output_type": "display_data"
    },
    {
     "data": {
      "text/html": [
       "<div>\n",
       "<style scoped>\n",
       "    .dataframe tbody tr th:only-of-type {\n",
       "        vertical-align: middle;\n",
       "    }\n",
       "\n",
       "    .dataframe tbody tr th {\n",
       "        vertical-align: top;\n",
       "    }\n",
       "\n",
       "    .dataframe thead th {\n",
       "        text-align: right;\n",
       "    }\n",
       "</style>\n",
       "<table border=\"1\" class=\"dataframe\">\n",
       "  <thead>\n",
       "    <tr style=\"text-align: right;\">\n",
       "      <th></th>\n",
       "      <th>Feature Name</th>\n",
       "      <th>Importance</th>\n",
       "    </tr>\n",
       "  </thead>\n",
       "  <tbody>\n",
       "    <tr>\n",
       "      <th>0</th>\n",
       "      <td>workingday</td>\n",
       "      <td>0.000002</td>\n",
       "    </tr>\n",
       "    <tr>\n",
       "      <th>1</th>\n",
       "      <td>mnth</td>\n",
       "      <td>0.000005</td>\n",
       "    </tr>\n",
       "    <tr>\n",
       "      <th>2</th>\n",
       "      <td>weekday</td>\n",
       "      <td>0.000030</td>\n",
       "    </tr>\n",
       "    <tr>\n",
       "      <th>3</th>\n",
       "      <td>windspeed</td>\n",
       "      <td>0.000031</td>\n",
       "    </tr>\n",
       "    <tr>\n",
       "      <th>4</th>\n",
       "      <td>holiday</td>\n",
       "      <td>0.000032</td>\n",
       "    </tr>\n",
       "    <tr>\n",
       "      <th>5</th>\n",
       "      <td>weathersit</td>\n",
       "      <td>0.000157</td>\n",
       "    </tr>\n",
       "    <tr>\n",
       "      <th>6</th>\n",
       "      <td>atemp</td>\n",
       "      <td>0.000965</td>\n",
       "    </tr>\n",
       "    <tr>\n",
       "      <th>7</th>\n",
       "      <td>season</td>\n",
       "      <td>0.001547</td>\n",
       "    </tr>\n",
       "    <tr>\n",
       "      <th>8</th>\n",
       "      <td>hum</td>\n",
       "      <td>0.002555</td>\n",
       "    </tr>\n",
       "    <tr>\n",
       "      <th>9</th>\n",
       "      <td>yr</td>\n",
       "      <td>0.003122</td>\n",
       "    </tr>\n",
       "    <tr>\n",
       "      <th>10</th>\n",
       "      <td>temp</td>\n",
       "      <td>0.004581</td>\n",
       "    </tr>\n",
       "    <tr>\n",
       "      <th>11</th>\n",
       "      <td>hr</td>\n",
       "      <td>0.005688</td>\n",
       "    </tr>\n",
       "  </tbody>\n",
       "</table>\n",
       "</div>"
      ],
      "text/plain": [
       "   Feature Name  Importance\n",
       "0    workingday    0.000002\n",
       "1          mnth    0.000005\n",
       "2       weekday    0.000030\n",
       "3     windspeed    0.000031\n",
       "4       holiday    0.000032\n",
       "5    weathersit    0.000157\n",
       "6         atemp    0.000965\n",
       "7        season    0.001547\n",
       "8           hum    0.002555\n",
       "9            yr    0.003122\n",
       "10         temp    0.004581\n",
       "11           hr    0.005688"
      ]
     },
     "execution_count": 12,
     "metadata": {},
     "output_type": "execute_result"
    }
   ],
   "source": [
    "result.data"
   ]
  },
  {
   "cell_type": "code",
   "execution_count": 13,
   "id": "20b8d2b6",
   "metadata": {},
   "outputs": [
    {
     "data": {
      "application/vnd.jupyter.widget-view+json": {
       "model_id": "16f70ecd707547f18f651e474c0fbe6b",
       "version_major": 2,
       "version_minor": 0
      },
      "text/plain": [
       "HTML(value='\\n        <style>\\n\\n        .left-label {\\n            width: 30%;\\n        }\\n\\n        .card-pa…"
      ]
     },
     "metadata": {},
     "output_type": "display_data"
    },
    {
     "data": {
      "application/javascript": [
       "\n",
       "        IPython.OutputArea.prototype._should_scroll = function(lines) {\n",
       "            return false;\n",
       "        }"
      ],
      "text/plain": [
       "<IPython.core.display.Javascript object>"
      ]
     },
     "metadata": {},
     "output_type": "display_data"
    },
    {
     "data": {
      "image/png": "[encoded data removed]",
      "text/plain": [
       "<Figure size 432x360 with 1 Axes>"
      ]
     },
     "execution_count": 13,
     "metadata": {},
     "output_type": "execute_result"
    }
   ],
   "source": [
    "result.figure"
   ]
  },
  {
   "cell_type": "code",
   "execution_count": 14,
   "id": "5a2f82b0",
   "metadata": {},
   "outputs": [
    {
     "data": {
      "application/vnd.jupyter.widget-view+json": {
       "model_id": "0e193ec44b9246149d7b62fc1a3b850f",
       "version_major": 2,
       "version_minor": 0
      },
      "text/plain": [
       "HTML(value='\\n        <style>\\n\\n        .left-label {\\n            width: 30%;\\n        }\\n\\n        .card-pa…"
      ]
     },
     "metadata": {},
     "output_type": "display_data"
    },
    {
     "data": {
      "application/javascript": [
       "\n",
       "        IPython.OutputArea.prototype._should_scroll = function(lines) {\n",
       "            return false;\n",
       "        }"
      ],
      "text/plain": [
       "<IPython.core.display.Javascript object>"
      ]
     },
     "metadata": {},
     "output_type": "display_data"
    },
    {
     "data": {
      "image/png": "[encoded data removed]",
      "text/plain": [
       "<Figure size 432x360 with 2 Axes>"
      ]
     },
     "metadata": {
      "needs_background": "light"
     },
     "output_type": "display_data"
    }
   ],
   "source": [
    "result = exp.model_explain(model=\"GLM\", show=\"lime\", centered=True, return_data=True,\n",
    "                             original_scale=True, figsize=(6, 5))"
   ]
  },
  {
   "cell_type": "code",
   "execution_count": 15,
   "id": "7aef5549",
   "metadata": {},
   "outputs": [
    {
     "data": {
      "application/vnd.jupyter.widget-view+json": {
       "model_id": "8e7b3e19ffc04aa28b17d4fa33002b4b",
       "version_major": 2,
       "version_minor": 0
      },
      "text/plain": [
       "HTML(value='\\n        <style>\\n\\n        .left-label {\\n            width: 30%;\\n        }\\n\\n        .card-pa…"
      ]
     },
     "metadata": {},
     "output_type": "display_data"
    },
    {
     "data": {
      "application/javascript": [
       "\n",
       "        IPython.OutputArea.prototype._should_scroll = function(lines) {\n",
       "            return false;\n",
       "        }"
      ],
      "text/plain": [
       "<IPython.core.display.Javascript object>"
      ]
     },
     "metadata": {},
     "output_type": "display_data"
    },
    {
     "data": {
      "text/html": [
       "<div>\n",
       "<style scoped>\n",
       "    .dataframe tbody tr th:only-of-type {\n",
       "        vertical-align: middle;\n",
       "    }\n",
       "\n",
       "    .dataframe tbody tr th {\n",
       "        vertical-align: top;\n",
       "    }\n",
       "\n",
       "    .dataframe thead th {\n",
       "        text-align: right;\n",
       "    }\n",
       "</style>\n",
       "<table border=\"1\" class=\"dataframe\">\n",
       "  <thead>\n",
       "    <tr style=\"text-align: right;\">\n",
       "      <th></th>\n",
       "      <th>Feature Name</th>\n",
       "      <th>Effect</th>\n",
       "      <th>Weight</th>\n",
       "    </tr>\n",
       "  </thead>\n",
       "  <tbody>\n",
       "    <tr>\n",
       "      <th>0</th>\n",
       "      <td>weekday</td>\n",
       "      <td>-0.000020</td>\n",
       "      <td>0.013026</td>\n",
       "    </tr>\n",
       "    <tr>\n",
       "      <th>1</th>\n",
       "      <td>holiday</td>\n",
       "      <td>0.000824</td>\n",
       "      <td>0.028505</td>\n",
       "    </tr>\n",
       "    <tr>\n",
       "      <th>2</th>\n",
       "      <td>workingday</td>\n",
       "      <td>0.001299</td>\n",
       "      <td>0.004119</td>\n",
       "    </tr>\n",
       "    <tr>\n",
       "      <th>3</th>\n",
       "      <td>mnth</td>\n",
       "      <td>-0.001855</td>\n",
       "      <td>0.003693</td>\n",
       "    </tr>\n",
       "    <tr>\n",
       "      <th>4</th>\n",
       "      <td>hum</td>\n",
       "      <td>0.003095</td>\n",
       "      <td>-0.190109</td>\n",
       "    </tr>\n",
       "    <tr>\n",
       "      <th>5</th>\n",
       "      <td>windspeed</td>\n",
       "      <td>0.003668</td>\n",
       "      <td>0.028872</td>\n",
       "    </tr>\n",
       "    <tr>\n",
       "      <th>6</th>\n",
       "      <td>hr</td>\n",
       "      <td>-0.004117</td>\n",
       "      <td>0.177792</td>\n",
       "    </tr>\n",
       "    <tr>\n",
       "      <th>7</th>\n",
       "      <td>weathersit</td>\n",
       "      <td>0.007880</td>\n",
       "      <td>0.010626</td>\n",
       "    </tr>\n",
       "    <tr>\n",
       "      <th>8</th>\n",
       "      <td>season</td>\n",
       "      <td>-0.019233</td>\n",
       "      <td>-0.025505</td>\n",
       "    </tr>\n",
       "    <tr>\n",
       "      <th>9</th>\n",
       "      <td>atemp</td>\n",
       "      <td>-0.025516</td>\n",
       "      <td>0.125023</td>\n",
       "    </tr>\n",
       "    <tr>\n",
       "      <th>10</th>\n",
       "      <td>yr</td>\n",
       "      <td>0.040290</td>\n",
       "      <td>0.080737</td>\n",
       "    </tr>\n",
       "    <tr>\n",
       "      <th>11</th>\n",
       "      <td>temp</td>\n",
       "      <td>-0.048784</td>\n",
       "      <td>0.241476</td>\n",
       "    </tr>\n",
       "  </tbody>\n",
       "</table>\n",
       "</div>"
      ],
      "text/plain": [
       "   Feature Name    Effect    Weight\n",
       "0       weekday -0.000020  0.013026\n",
       "1       holiday  0.000824  0.028505\n",
       "2    workingday  0.001299  0.004119\n",
       "3          mnth -0.001855  0.003693\n",
       "4           hum  0.003095 -0.190109\n",
       "5     windspeed  0.003668  0.028872\n",
       "6            hr -0.004117  0.177792\n",
       "7    weathersit  0.007880  0.010626\n",
       "8        season -0.019233 -0.025505\n",
       "9         atemp -0.025516  0.125023\n",
       "10           yr  0.040290  0.080737\n",
       "11         temp -0.048784  0.241476"
      ]
     },
     "execution_count": 15,
     "metadata": {},
     "output_type": "execute_result"
    }
   ],
   "source": [
    "result.data"
   ]
  },
  {
   "cell_type": "code",
   "execution_count": 16,
   "id": "6b4120c1",
   "metadata": {},
   "outputs": [
    {
     "data": {
      "application/vnd.jupyter.widget-view+json": {
       "model_id": "73ba564ab8af4141a2a989afcdf79830",
       "version_major": 2,
       "version_minor": 0
      },
      "text/plain": [
       "HTML(value='\\n        <style>\\n\\n        .left-label {\\n            width: 30%;\\n        }\\n\\n        .card-pa…"
      ]
     },
     "metadata": {},
     "output_type": "display_data"
    },
    {
     "data": {
      "application/javascript": [
       "\n",
       "        IPython.OutputArea.prototype._should_scroll = function(lines) {\n",
       "            return false;\n",
       "        }"
      ],
      "text/plain": [
       "<IPython.core.display.Javascript object>"
      ]
     },
     "metadata": {},
     "output_type": "display_data"
    },
    {
     "data": {
      "image/png": "[encoded data removed]",
      "text/plain": [
       "<Figure size 432x360 with 2 Axes>"
      ]
     },
     "execution_count": 16,
     "metadata": {},
     "output_type": "execute_result"
    }
   ],
   "source": [
    "result.figure"
   ]
  },
  {
   "cell_type": "code",
   "execution_count": 17,
   "id": "a05d2266",
   "metadata": {},
   "outputs": [
    {
     "data": {
      "application/vnd.jupyter.widget-view+json": {
       "model_id": "3aa4a5eb869348ac9deb1990d98fe262",
       "version_major": 2,
       "version_minor": 0
      },
      "text/plain": [
       "HTML(value='\\n        <style>\\n\\n        .left-label {\\n            width: 30%;\\n        }\\n\\n        .card-pa…"
      ]
     },
     "metadata": {},
     "output_type": "display_data"
    },
    {
     "data": {
      "application/javascript": [
       "\n",
       "        IPython.OutputArea.prototype._should_scroll = function(lines) {\n",
       "            return false;\n",
       "        }"
      ],
      "text/plain": [
       "<IPython.core.display.Javascript object>"
      ]
     },
     "metadata": {},
     "output_type": "display_data"
    },
    {
     "data": {
      "image/png": "[encoded data removed]",
      "text/plain": [
       "<Figure size 432x360 with 3 Axes>"
      ]
     },
     "metadata": {},
     "output_type": "display_data"
    }
   ],
   "source": [
    "result = exp.model_explain(model=\"GLM\", show=\"shap_waterfall\", centered=True, return_data=True,\n",
    "                           original_scale=True, figsize=(6, 5))"
   ]
  },
  {
   "cell_type": "code",
   "execution_count": 18,
   "id": "7280f203",
   "metadata": {},
   "outputs": [
    {
     "data": {
      "application/vnd.jupyter.widget-view+json": {
       "model_id": "748d6a855cf142309c3c40375b454f29",
       "version_major": 2,
       "version_minor": 0
      },
      "text/plain": [
       "HTML(value='\\n        <style>\\n\\n        .left-label {\\n            width: 30%;\\n        }\\n\\n        .card-pa…"
      ]
     },
     "metadata": {},
     "output_type": "display_data"
    },
    {
     "data": {
      "application/javascript": [
       "\n",
       "        IPython.OutputArea.prototype._should_scroll = function(lines) {\n",
       "            return false;\n",
       "        }"
      ],
      "text/plain": [
       "<IPython.core.display.Javascript object>"
      ]
     },
     "metadata": {},
     "output_type": "display_data"
    },
    {
     "data": {
      "text/html": [
       "<div>\n",
       "<style scoped>\n",
       "    .dataframe tbody tr th:only-of-type {\n",
       "        vertical-align: middle;\n",
       "    }\n",
       "\n",
       "    .dataframe tbody tr th {\n",
       "        vertical-align: top;\n",
       "    }\n",
       "\n",
       "    .dataframe thead th {\n",
       "        text-align: right;\n",
       "    }\n",
       "</style>\n",
       "<table border=\"1\" class=\"dataframe\">\n",
       "  <thead>\n",
       "    <tr style=\"text-align: right;\">\n",
       "      <th></th>\n",
       "      <th>Feature Name</th>\n",
       "      <th>Effect</th>\n",
       "    </tr>\n",
       "  </thead>\n",
       "  <tbody>\n",
       "    <tr>\n",
       "      <th>0</th>\n",
       "      <td>season</td>\n",
       "      <td>-0.019362</td>\n",
       "    </tr>\n",
       "    <tr>\n",
       "      <th>1</th>\n",
       "      <td>yr</td>\n",
       "      <td>0.035358</td>\n",
       "    </tr>\n",
       "    <tr>\n",
       "      <th>2</th>\n",
       "      <td>mnth</td>\n",
       "      <td>-0.002053</td>\n",
       "    </tr>\n",
       "    <tr>\n",
       "      <th>3</th>\n",
       "      <td>hr</td>\n",
       "      <td>0.000544</td>\n",
       "    </tr>\n",
       "    <tr>\n",
       "      <th>4</th>\n",
       "      <td>holiday</td>\n",
       "      <td>0.000838</td>\n",
       "    </tr>\n",
       "    <tr>\n",
       "      <th>5</th>\n",
       "      <td>weekday</td>\n",
       "      <td>-0.000589</td>\n",
       "    </tr>\n",
       "    <tr>\n",
       "      <th>6</th>\n",
       "      <td>workingday</td>\n",
       "      <td>0.001228</td>\n",
       "    </tr>\n",
       "    <tr>\n",
       "      <th>7</th>\n",
       "      <td>weathersit</td>\n",
       "      <td>0.006061</td>\n",
       "    </tr>\n",
       "    <tr>\n",
       "      <th>8</th>\n",
       "      <td>temp</td>\n",
       "      <td>-0.047726</td>\n",
       "    </tr>\n",
       "    <tr>\n",
       "      <th>9</th>\n",
       "      <td>atemp</td>\n",
       "      <td>-0.025351</td>\n",
       "    </tr>\n",
       "    <tr>\n",
       "      <th>10</th>\n",
       "      <td>hum</td>\n",
       "      <td>0.004680</td>\n",
       "    </tr>\n",
       "    <tr>\n",
       "      <th>11</th>\n",
       "      <td>windspeed</td>\n",
       "      <td>0.004791</td>\n",
       "    </tr>\n",
       "  </tbody>\n",
       "</table>\n",
       "</div>"
      ],
      "text/plain": [
       "   Feature Name    Effect\n",
       "0        season -0.019362\n",
       "1            yr  0.035358\n",
       "2          mnth -0.002053\n",
       "3            hr  0.000544\n",
       "4       holiday  0.000838\n",
       "5       weekday -0.000589\n",
       "6    workingday  0.001228\n",
       "7    weathersit  0.006061\n",
       "8          temp -0.047726\n",
       "9         atemp -0.025351\n",
       "10          hum  0.004680\n",
       "11    windspeed  0.004791"
      ]
     },
     "execution_count": 18,
     "metadata": {},
     "output_type": "execute_result"
    }
   ],
   "source": [
    "result.data"
   ]
  },
  {
   "cell_type": "code",
   "execution_count": 19,
   "id": "8c1a6e75",
   "metadata": {},
   "outputs": [
    {
     "data": {
      "application/vnd.jupyter.widget-view+json": {
       "model_id": "0dbbfee470424ba7a0a6ab84ed52c6a6",
       "version_major": 2,
       "version_minor": 0
      },
      "text/plain": [
       "HTML(value='\\n        <style>\\n\\n        .left-label {\\n            width: 30%;\\n        }\\n\\n        .card-pa…"
      ]
     },
     "metadata": {},
     "output_type": "display_data"
    },
    {
     "data": {
      "application/javascript": [
       "\n",
       "        IPython.OutputArea.prototype._should_scroll = function(lines) {\n",
       "            return false;\n",
       "        }"
      ],
      "text/plain": [
       "<IPython.core.display.Javascript object>"
      ]
     },
     "metadata": {},
     "output_type": "display_data"
    },
    {
     "data": {
      "image/png": "[encoded data removed]",
      "text/plain": [
       "<Figure size 432x360 with 3 Axes>"
      ]
     },
     "execution_count": 19,
     "metadata": {},
     "output_type": "execute_result"
    }
   ],
   "source": [
    "result.figure"
   ]
  },
  {
   "cell_type": "code",
   "execution_count": 20,
   "id": "6d735a0b",
   "metadata": {},
   "outputs": [
    {
     "data": {
      "application/vnd.jupyter.widget-view+json": {
       "model_id": "88e3a0dfcb454418b018e85035603cfc",
       "version_major": 2,
       "version_minor": 0
      },
      "text/plain": [
       "HTML(value='\\n        <style>\\n\\n        .left-label {\\n            width: 30%;\\n        }\\n\\n        .card-pa…"
      ]
     },
     "metadata": {},
     "output_type": "display_data"
    },
    {
     "data": {
      "application/javascript": [
       "\n",
       "        IPython.OutputArea.prototype._should_scroll = function(lines) {\n",
       "            return false;\n",
       "        }"
      ],
      "text/plain": [
       "<IPython.core.display.Javascript object>"
      ]
     },
     "metadata": {},
     "output_type": "display_data"
    },
    {
     "data": {
      "image/png": "[encoded data removed]",
      "text/plain": [
       "<Figure size 432x360 with 1 Axes>"
      ]
     },
     "metadata": {
      "needs_background": "light"
     },
     "output_type": "display_data"
    }
   ],
   "source": [
    "result = exp.model_diagnose(model=\"XGB2\", show=\"resilience_distance\", return_data=True, slice_features=[\"hr\"],\n",
    "                            distance_metric=\"WD1\", original_scale=True, figsize=(6, 5))"
   ]
  },
  {
   "cell_type": "code",
   "execution_count": 21,
   "id": "30f5dc4f",
   "metadata": {},
   "outputs": [
    {
     "data": {
      "application/vnd.jupyter.widget-view+json": {
       "model_id": "1fb2f0c79de64f06bfa5a89873512ca9",
       "version_major": 2,
       "version_minor": 0
      },
      "text/plain": [
       "HTML(value='\\n        <style>\\n\\n        .left-label {\\n            width: 30%;\\n        }\\n\\n        .card-pa…"
      ]
     },
     "metadata": {},
     "output_type": "display_data"
    },
    {
     "data": {
      "application/javascript": [
       "\n",
       "        IPython.OutputArea.prototype._should_scroll = function(lines) {\n",
       "            return false;\n",
       "        }"
      ],
      "text/plain": [
       "<IPython.core.display.Javascript object>"
      ]
     },
     "metadata": {},
     "output_type": "display_data"
    },
    {
     "data": {
      "text/html": [
       "<div>\n",
       "<style scoped>\n",
       "    .dataframe tbody tr th:only-of-type {\n",
       "        vertical-align: middle;\n",
       "    }\n",
       "\n",
       "    .dataframe tbody tr th {\n",
       "        vertical-align: top;\n",
       "    }\n",
       "\n",
       "    .dataframe thead th {\n",
       "        text-align: right;\n",
       "    }\n",
       "</style>\n",
       "<table border=\"1\" class=\"dataframe\">\n",
       "  <thead>\n",
       "    <tr style=\"text-align: right;\">\n",
       "      <th></th>\n",
       "      <th>Feature Name</th>\n",
       "      <th>WD1</th>\n",
       "    </tr>\n",
       "  </thead>\n",
       "  <tbody>\n",
       "    <tr>\n",
       "      <th>0</th>\n",
       "      <td>yr</td>\n",
       "      <td>0.3038</td>\n",
       "    </tr>\n",
       "    <tr>\n",
       "      <th>1</th>\n",
       "      <td>workingday</td>\n",
       "      <td>0.1732</td>\n",
       "    </tr>\n",
       "    <tr>\n",
       "      <th>2</th>\n",
       "      <td>hr</td>\n",
       "      <td>0.0946</td>\n",
       "    </tr>\n",
       "    <tr>\n",
       "      <th>3</th>\n",
       "      <td>season</td>\n",
       "      <td>0.0563</td>\n",
       "    </tr>\n",
       "    <tr>\n",
       "      <th>4</th>\n",
       "      <td>mnth</td>\n",
       "      <td>0.0490</td>\n",
       "    </tr>\n",
       "    <tr>\n",
       "      <th>5</th>\n",
       "      <td>temp</td>\n",
       "      <td>0.0469</td>\n",
       "    </tr>\n",
       "    <tr>\n",
       "      <th>6</th>\n",
       "      <td>weekday</td>\n",
       "      <td>0.0424</td>\n",
       "    </tr>\n",
       "    <tr>\n",
       "      <th>7</th>\n",
       "      <td>atemp</td>\n",
       "      <td>0.0394</td>\n",
       "    </tr>\n",
       "    <tr>\n",
       "      <th>8</th>\n",
       "      <td>hum</td>\n",
       "      <td>0.0205</td>\n",
       "    </tr>\n",
       "    <tr>\n",
       "      <th>9</th>\n",
       "      <td>weathersit</td>\n",
       "      <td>0.0171</td>\n",
       "    </tr>\n",
       "  </tbody>\n",
       "</table>\n",
       "</div>"
      ],
      "text/plain": [
       "  Feature Name     WD1\n",
       "0           yr  0.3038\n",
       "1   workingday  0.1732\n",
       "2           hr  0.0946\n",
       "3       season  0.0563\n",
       "4         mnth  0.0490\n",
       "5         temp  0.0469\n",
       "6      weekday  0.0424\n",
       "7        atemp  0.0394\n",
       "8          hum  0.0205\n",
       "9   weathersit  0.0171"
      ]
     },
     "execution_count": 21,
     "metadata": {},
     "output_type": "execute_result"
    }
   ],
   "source": [
    "result.data"
   ]
  },
  {
   "cell_type": "code",
   "execution_count": 22,
   "id": "24b10161",
   "metadata": {},
   "outputs": [
    {
     "data": {
      "application/vnd.jupyter.widget-view+json": {
       "model_id": "a488cf76107445e9a3f4d22bdec98072",
       "version_major": 2,
       "version_minor": 0
      },
      "text/plain": [
       "HTML(value='\\n        <style>\\n\\n        .left-label {\\n            width: 30%;\\n        }\\n\\n        .card-pa…"
      ]
     },
     "metadata": {},
     "output_type": "display_data"
    },
    {
     "data": {
      "application/javascript": [
       "\n",
       "        IPython.OutputArea.prototype._should_scroll = function(lines) {\n",
       "            return false;\n",
       "        }"
      ],
      "text/plain": [
       "<IPython.core.display.Javascript object>"
      ]
     },
     "metadata": {},
     "output_type": "display_data"
    },
    {
     "data": {
      "image/png": "[encoded data removed]",
      "text/plain": [
       "<Figure size 432x360 with 1 Axes>"
      ]
     },
     "execution_count": 22,
     "metadata": {},
     "output_type": "execute_result"
    }
   ],
   "source": [
    "result.figure"
   ]
  }
 ],
 "metadata": {
  "kernelspec": {
   "display_name": "Python 3 (ipykernel)",
   "language": "python",
   "name": "python3"
  },
  "language_info": {
   "codemirror_mode": {
    "name": "ipython",
    "version": 3
   },
   "file_extension": ".py",
   "mimetype": "text/x-python",
   "name": "python",
   "nbconvert_exporter": "python",
   "pygments_lexer": "ipython3",
   "version": "3.8.8"
  },
  "widgets": {
   "application/vnd.jupyter.widget-state+json": {
    "state": {
     "00803775467d486497dcc5399e163284": {
      "model_module": "@jupyter-widgets/base",
      "model_module_version": "1.2.0",
      "model_name": "LayoutModel",
      "state": {}
     },
     "00dd3467a4144e989fb7936e98604806": {
      "model_module": "@jupyter-widgets/base",
      "model_module_version": "1.2.0",
      "model_name": "LayoutModel",
      "state": {}
     },
     "01a0c73328db46a992c6b77bc9667824": {
      "model_module": "@jupyter-widgets/base",
      "model_module_version": "1.2.0",
      "model_name": "LayoutModel",
      "state": {
       "justify_content": "space-between",
       "width": "100%"
      }
     },
     "026b23c038384eb3acee8421ff5a8f76": {
      "model_module": "@jupyter-widgets/base",
      "model_module_version": "1.2.0",
      "model_name": "LayoutModel",
      "state": {
       "align_items": "stretch",
       "width": "55%"
      }
     },
     "02bcf6b51ec740288f8cc587de75de58": {
      "model_module": "@jupyter-widgets/controls",
      "model_module_version": "1.5.0",
      "model_name": "HTMLModel",
      "state": {
       "layout": "IPY_MODEL_980542235ea64d88817fcbd3756a20d2",
       "style": "IPY_MODEL_b265f751ec8d41a189f3455eb003a12e",
       "value": "\n        <style>\n\n        .left-label {\n            width: 30%;\n        }\n\n        .card-panel {\n            -webkit-transition: -webkit-box-shadow .25s;\n            transition: -webkit-box-shadow .25s;\n            transition: box-shadow .25s;\n            transition: box-shadow .25s, -webkit-box-shadow .25s;\n            padding: 24px;\n            margin: 0.5rem 0 1rem 0;\n            border-radius: 2px;\n            background-color: #fff;\n        }\n\n        .card {\n            position: relative;\n            margin: 0.5rem 0.1rem 1rem 0.2rem;\n            background-color: #fff;\n            -webkit-transition: -webkit-box-shadow .25s;\n            transition: -webkit-box-shadow .25s;\n            transition: box-shadow .25s;\n            transition: box-shadow .25s, -webkit-box-shadow .25s;\n            border-radius: 2px;\n            box-shadow: 0 2px 2px 0 rgb(0 0 0 / 14%), 0 3px 1px -2px rgb(0 0 0 / 12%), 0 1px 5px 0 rgb(0 0 0 / 20%);\n            padding: 24px;\n            color: white;\n        }\n\n        .card .card-title {\n            font-size: 24px;\n            font-weight: 300;\n        }\n\n        @media only screen and (min-width: 800px) {\n            /* For notebook: */\n            .card {width: 99% !important;}\n        }\n\n        @media only screen and (min-width: 1400px) {\n            /* For colab: */\n            .card {width: 99% !important;}\n        }\n\n        .blue-grey.darken-1 {\n            background-color: #546e7a !important;\n        }\n\n        .small-card {\n            position: relative;\n            margin: 0.5rem 0 1rem 0;\n            background-color: #fff;\n            -webkit-transition: -webkit-box-shadow .25s;\n            transition: -webkit-box-shadow .25s;\n            transition: box-shadow .25s;\n            transition: box-shadow .25s, -webkit-box-shadow .25s;\n            border-radius: 2px;\n            box-shadow: 0 2px 2px 0 rgb(0 0 0 / 14%), 0 3px 1px -2px rgb(0 0 0 / 12%), 0 1px 5px 0 rgb(0 0 0 / 20%);\n            padding: 0px 5px 0px 5px;\n            color: white;\n        }\n\n        .inner-card {\n            position: relative;\n            background-color: #fff;\n            -webkit-transition: -webkit-box-shadow .25s;\n            transition: -webkit-box-shadow .25s;\n            transition: box-shadow .25s;\n            transition: box-shadow .25s, -webkit-box-shadow .25s;\n            border-radius: 2px;\n            box-shadow: 0 2px 2px 0 rgb(0 0 0 / 14%), 0 3px 1px -2px rgb(0 0 0 / 12%), 0 1px 5px 0 rgb(0 0 0 / 20%);\n            padding: 20px;\n            color: white;\n            margin: 0px 1px 1px 1px;\n        }\n\n        .card-with-tab {\n            position: relative;\n            margin: 0.5rem 0.1rem 1rem 0.2rem;\n            background-color: #fff;\n            -webkit-transition: -webkit-box-shadow .25s;\n            transition: -webkit-box-shadow .25s;\n            transition: box-shadow .25s;\n            transition: box-shadow .25s, -webkit-box-shadow .25s;\n            border-radius: 2px;\n            box-shadow: 0 2px 2px 0 rgb(0 0 0 / 14%), 0 3px 1px -2px rgb(0 0 0 / 12%), 0 1px 5px 0 rgb(0 0 0 / 20%);\n            padding: 24px;\n            color: white;\n        }\n\n        .card-with-tab button {\n            width: auto;\n            padding: 12px 40px;\n        }\n\n        .list {\n            padding: 0px 10px;\n            box-shadow: 0 2px 2px 0 rgb(0 0 0 / 14%), 0 3px 1px -2px rgb(0 0 0 / 12%), 0 1px 5px 0 rgb(0 0 0 / 20%);\n            margin: 0px 1px 60px 1px;\n        }\n\n        .list-item {\n            padding: 10px 0px;\n            border-width: 0;\n            border-style: solid;\n            border-color: rgba(0, 0, 0, 0.08);\n            border-bottom-width: thin;\n        }\n\n        .divider {\n            margin: 10px 0px;\n            border-width: 0;\n            border-style: solid;\n            border-color: rgba(0, 0, 0, 0.08);\n            border-bottom-width: thin;\n        }\n\n        .hr {\n            margin: 0;\n            -webkit-flex-shrink: 0;\n            -ms-flex-negative: 0;\n            flex-shrink: 0;\n            border-width: 0;\n            border-style: solid;\n            border-color: rgba(0, 0, 0, 0.08);\n            border-bottom-width: thin;\n        }\n\n        .notification {\n            transition: box-shadow 300ms cubic-bezier(0.4, 0, 0.2, 1) 0ms;\n            border-radius: 4px;\n            box-shadow: 0 2px 2px 0 rgb(0 0 0 / 14%), 0 3px 1px -2px rgb(0 0 0 / 12%), 0 1px 5px 0 rgb(0 0 0 / 20%);\n            font-family: Roboto, Helvetica, Arial, sans-serif;\n            font-weight: 500;\n            font-size: 12px;\n            line-height: 1.43;\n            letter-spacing: 0.01071em;\n            background-color: rgb(2, 136, 209);\n            display: flex;\n            padding: 6px 16px;\n            color: rgb(255, 255, 255);\n            margin-top: 10px;\n        }\n\n        .success {\n            background-color: #EDF7ED;\n            color: #1E4620;\n        }\n\n        .error {\n            background-color: #FDEDED;\n            color: #5F2120;\n        }\n\n        .info {\n            background-color: #E5F6FD;\n            color: #528298;\n        }\n\n        .warn {\n            background-color: #FFF4E5;\n            color: #663C00;\n        }\n\n        .margin-top-20 {\n            margin-top: 20px;\n        }\n\n        .hide {\n            display: none;\n        }\n\n        .pbtn {\n            display: inline-flex;\n            -webkit-box-align: center;\n            align-items: center;\n            -webkit-box-pack: center;\n            justify-content: center;\n            position: relative;\n            box-sizing: border-box;\n            -webkit-tap-highlight-color: transparent;\n            outline: 0px;\n            border: 0px;\n            margin: 0px;\n            cursor: pointer;\n            user-select: none;\n            vertical-align: middle;\n            appearance: none;\n            text-decoration: none;\n            font-family: Roboto, Helvetica, Arial, sans-serif;\n            font-weight: 550;\n            font-size: 12px;\n            line-height: 1.75;\n            letter-spacing: 0.02857em;\n            text-transform: uppercase;\n            min-width: 64px;\n            padding: 6px 16px;\n            border-radius: 4px;\n            transition: background-color 250ms cubic-bezier(0.4, 0, 0.2, 1) 0ms, box-shadow 250ms cubic-bezier(0.4, 0, 0.2, 1) 0ms, border-color 250ms cubic-bezier(0.4, 0, 0.2, 1) 0ms, color 250ms cubic-bezier(0.4, 0, 0.2, 1) 0ms;\n            color: rgb(255, 255, 255);\n            background-color: #D71E28;\n            box-shadow: rgb(0 0 0 / 20%) 0px 3px 1px -2px, rgb(0 0 0 / 14%) 0px 2px 2px 0px, rgb(0 0 0 / 12%) 0px 1px 5px 0px;\n        }\n\n        .jp-OutputArea-output {\n            flex-grow: 1;\n            flex-shrink: 1;\n            margin: 0px;\n        }\n\n        .output_subarea {\n            padding: 0px !important;\n        }\n\n        .ptable, .pth, .ptd {\n            border: none;\n        }\n\n        .pth, .ptd {\n            max-width: 150px;\n            white-space: nowrap;\n            overflow: hidden;\n            -o-text-overflow: ellipsis;\n            -ms-text-overflow: ellipsis;\n            text-overflow: ellipsis;\n        }\n\n        .ptable {\n            display: table;\n            border-collapse: collapse;\n            border-spacing: 0;\n        }\n\n        .ptable.striped .ptr {\n            border-bottom: none;\n        }\n\n        .ptable.striped > .ptbody > .ptr:nth-child(odd) {\n            background-color: rgba(242, 242, 242, 0.5);\n        }\n\n        .ptable.striped > .ptbody > .ptr > .ptd {\n            border-radius: 0;\n        }\n\n        .ptable.highlight > .ptbody > .ptr {\n            -webkit-transition: background-color .25s ease;\n            transition: background-color .25s ease;\n        }\n\n        .ptable.highlight > .ptbody > .ptr:hover {\n            background-color: rgba(242, 242, 242, 0.5);\n        }\n\n        .ptable.centered .pthead .ptr .pth, .ptable.centered .ptbody .ptr .ptd {\n            text-align: center;\n        }\n\n        .ptr {\n            border-bottom: 1px solid rgba(0, 0, 0, 0.12);\n        }\n\n        .ptr.hightlight {\n            background-color: yellow !important;\n        }\n\n        .ptd, .pth {\n            padding: 0.2rem 0.6rem;\n            display: table-cell;\n            text-align: right;\n            vertical-align: middle;\n            border-radius: 2px;\n            position: relative;\n        }\n\n        .ptr.grey {\n            background-color: grey !important;\n        }\n\n        .ptr.strikeout .ptd:before {\n            content: \" \";\n            position: absolute;\n            top: 50%;\n            left: 0;\n            border-bottom: 1px solid #111;\n            width: 100%;\n        }\n\n        .widget-toggle-button {\n            display: inline-flex;\n            -webkit-box-align: center;\n            align-items: center;\n            -webkit-box-pack: center;\n            justify-content: center;\n            box-sizing: border-box;\n            -webkit-tap-highlight-color: transparent;\n            background-color: transparent !important;\n            outline: 0px;\n            border: 0px;\n            border-bottom: 2px solid #E4E4E4 !important;\n            box-shadow: none !important;\n            margin: 0px !important;\n            border-radius: 0px;\n            cursor: pointer;\n            user-select: none;\n            vertical-align: middle;\n            appearance: none;\n            text-decoration: none;\n            font-family: Roboto, Helvetica, Arial, sans-serif;\n            font-weight: 500;\n            font-size: 14px;\n            line-height: 1.25;\n            letter-spacing: 0.02857em;\n            max-width: 360px;\n            min-width: 90px;\n            position: relative;\n            min-height: 48px;\n            flex-shrink: 0;\n            padding: 12px 16px;\n            overflow: hidden;\n            white-space: normal;\n            text-align: center;\n            flex-direction: column;\n            color: rgba(0, 0, 0, 0.6);\n        }\n\n        .narrow-accordion .jupyter-widget-Accordion-child .jupyter-widget-Collapse-header{\n            padding: 5px;\n        }  \n\n        .mod-active {\n            color: rgb(25, 118, 210) !important;\n            border-bottom: 2px solid rgb(25, 118, 210) !important;\n        }\n\n        .narrow-tab button {\n            max-width: 15%;\n        }\n\n        .narrow-tab-fairness button {\n            max-width: 20%;\n        }\n        .narrow-tab-fs button {\n            max-width: 25%;\n        }\n\n        .overflow-fix .jupyter-widgets {\n            overflow: auto;\n        }\n\n        .inner-padding {\n            padding-top: 20px;\n        }\n\n        .fix-img img {\n            width: 100%;\n        }\n\n        .fix-img-half img {\n            width: 50%;\n        }\n\n        .flex-reverse-for-update-button {\n            flex-direction: row-reverse;\n            margin-right: 50px;\n        }\n\n        .data-summary-tab {\n            max-height: 400px;\n        }\n\n        .restricted_table_height {\n            max-height: 450px\n        }\n\n        .input-width-with-parent .widget-dropdown {\n            width: 100%;\n        }\n\n        .input-width-with-parent .widget-text {\n            width: 100%;\n        }\n\n        .no-margin {\n            margin: 0px;\n        }\n\n        .widget-hprogress label {\n            text-align: left;\n        }\n\n        .widget-dropdown label {\n            margin-right: 10px;\n        }\n\n        .form .widget-dropdown {\n            width: auto;\n        }\n\n        .form .widget-text {\n            width: auto;\n        }\n\n        .form p {\n            margin: 0px;\n        }\n\n        .widget-dropdown {\n            white-space: nowrap;\n            overflow: hidden;\n            -o-text-overflow: ellipsis;\n            -ms-text-overflow: ellipsis;\n            text-overflow: ellipsis;\n        }\n\n        .progress-train label {\n            margin-right: 10px;\n        }\n\n        select {\n            height: 97% !important;\n        }\n\n        .no-overflow {\n            overflow: none;\n        }\n\n        .split-btn button {\n            margin-bottom: 2px;\n        }\n\n        .register-btn {\n            width: 50%\n        }\n\n        .register-btn-colab {\n            width: 40%\n        }\n\n        .fix-config-from-overflow .jp-OutputArea-child {\n            display: inherit;\n        }\n        \n        .checkbox-center input[type=\"checkbox\"] {\n            vertical-align: middle;\n        }\n\n        input[type=\"checkbox\"] {\n            vertical-align: middle;\n        }\n\n        </style>\n        "
      }
     },
     "0353891274b947aab347cded88928d75": {
      "model_module": "@jupyter-widgets/controls",
      "model_module_version": "1.5.0",
      "model_name": "DescriptionStyleModel",
      "state": {
       "description_width": "initial"
      }
     },
     "03f1ceaff1714066b521654d495913bd": {
      "model_module": "@jupyter-widgets/controls",
      "model_module_version": "1.5.0",
      "model_name": "ButtonModel",
      "state": {
       "_dom_classes": [
        "pbtn"
       ],
       "button_style": "danger",
       "description": "UPDATE",
       "layout": "IPY_MODEL_e243e83a00a84f3288b929c1fb41a10a",
       "style": "IPY_MODEL_8480132852ef4546b279126249538f4e"
      }
     },
     "04303605d9d748d0ba5905fe5598e259": {
      "model_module": "@jupyter-widgets/controls",
      "model_module_version": "1.5.0",
      "model_name": "HTMLModel",
      "state": {
       "layout": "IPY_MODEL_f55bac61d80e443baa0e4540019f3071",
       "style": "IPY_MODEL_43e47e9929204a68b453407f6b160cc6",
       "value": "<div style='margin-right: 10px'></div>"
      }
     },
     "04bf3e70590742498ed87f5685e4664b": {
      "model_module": "@jupyter-widgets/controls",
      "model_module_version": "1.5.0",
      "model_name": "ButtonModel",
      "state": {
       "_dom_classes": [
        "pbtn"
       ],
       "button_style": "danger",
       "icon": "history",
       "layout": "IPY_MODEL_8e0c8257024e482a958c2fbcc49522df",
       "style": "IPY_MODEL_b4a339233f2448c9bb3180ea8c1ec7cf"
      }
     },
     "04f0368facd74807971f18b12d3f552f": {
      "model_module": "@jupyter-widgets/base",
      "model_module_version": "1.2.0",
      "model_name": "LayoutModel",
      "state": {
       "overflow": "hidden",
       "width": "auto"
      }
     },
     "0509f4a57f1b44579e37da34efdc0560": {
      "model_module": "@jupyter-widgets/controls",
      "model_module_version": "1.5.0",
      "model_name": "DescriptionStyleModel",
      "state": {
       "description_width": "initial"
      }
     },
     "0568b767fde8477bb4db242dbe37f5b7": {
      "model_module": "@jupyter-widgets/controls",
      "model_module_version": "1.5.0",
      "model_name": "VBoxModel",
      "state": {
       "children": [
        "IPY_MODEL_8db327c36d3c47f2b113b43339b2d34a",
        "IPY_MODEL_bc7cab3dc8b24aab97cc261283907d51",
        "IPY_MODEL_14944652b9ef493987580deecc97da16",
        "IPY_MODEL_d9d119910b46401da154c465d0b6467e"
       ],
       "layout": "IPY_MODEL_7750abfd04494c658416e2fbd4997dff"
      }
     },
     "05c8aa2576234cb4a8ec39446cdf00a1": {
      "model_module": "@jupyter-widgets/output",
      "model_module_version": "1.0.0",
      "model_name": "OutputModel",
      "state": {
       "layout": "IPY_MODEL_4e3d64645d254e459f20b786f6a91796",
       "outputs": [
        {
         "data": {
          "application/vnd.jupyter.widget-view+json": {
           "model_id": "b4f712698bb74d15b955aabab1859590",
           "version_major": 2,
           "version_minor": 0
          },
          "text/plain": "HTML(value=\"\\n        <table class='ptable striped'>\\n            <thead class='pthead'>\\n                <tr …"
         },
         "metadata": {},
         "output_type": "display_data"
        }
       ]
      }
     },
     "05fd6be8f338461c8ec1551fdd532812": {
      "model_module": "@jupyter-widgets/base",
      "model_module_version": "1.2.0",
      "model_name": "LayoutModel",
      "state": {
       "width": "20%"
      }
     },
     "060f13ba97ca497cb2b7b1fc93d0792f": {
      "model_module": "@jupyter-widgets/base",
      "model_module_version": "1.2.0",
      "model_name": "LayoutModel",
      "state": {
       "justify_content": "flex-end",
       "width": "auto"
      }
     },
     "06a082d3b92d4fac8845fd7e8d24a4dd": {
      "model_module": "@jupyter-widgets/controls",
      "model_module_version": "1.5.0",
      "model_name": "HTMLModel",
      "state": {
       "layout": "IPY_MODEL_e4c17eefb6a4437b8980c7efb83e89e5",
       "style": "IPY_MODEL_74272fbe853d488c9285fecc9a153a62",
       "value": "<div class='divider'></div>"
      }
     },
     "06f6c6fd4f264e148e4ea78d354f1794": {
      "model_module": "@jupyter-widgets/controls",
      "model_module_version": "1.5.0",
      "model_name": "TabModel",
      "state": {
       "_dom_classes": [
        "data-summary-tab"
       ],
       "_titles": {
        "0": "Numerical Attributes",
        "1": "Categorical Attributes"
       },
       "children": [
        "IPY_MODEL_bcd899aba9f6450b83361b43e0aff2ad",
        "IPY_MODEL_58aa0325985641cd962861ceeb969abd"
       ],
       "layout": "IPY_MODEL_4548d7ec650742f9b70d40796add5c20"
      }
     },
     "07357d724137442f901cf0ebdbd428cd": {
      "model_module": "@jupyter-widgets/controls",
      "model_module_version": "1.5.0",
      "model_name": "HTMLModel",
      "state": {
       "layout": "IPY_MODEL_4c1b3c7216174d2288056550bbc5ab8f",
       "style": "IPY_MODEL_0f75a35c473840909806d2d92c0cfd6f",
       "value": "\n        <style>\n\n        .left-label {\n            width: 30%;\n        }\n\n        .card-panel {\n            -webkit-transition: -webkit-box-shadow .25s;\n            transition: -webkit-box-shadow .25s;\n            transition: box-shadow .25s;\n            transition: box-shadow .25s, -webkit-box-shadow .25s;\n            padding: 24px;\n            margin: 0.5rem 0 1rem 0;\n            border-radius: 2px;\n            background-color: #fff;\n        }\n\n        .card {\n            position: relative;\n            margin: 0.5rem 0.1rem 1rem 0.2rem;\n            background-color: #fff;\n            -webkit-transition: -webkit-box-shadow .25s;\n            transition: -webkit-box-shadow .25s;\n            transition: box-shadow .25s;\n            transition: box-shadow .25s, -webkit-box-shadow .25s;\n            border-radius: 2px;\n            box-shadow: 0 2px 2px 0 rgb(0 0 0 / 14%), 0 3px 1px -2px rgb(0 0 0 / 12%), 0 1px 5px 0 rgb(0 0 0 / 20%);\n            padding: 24px;\n            color: white;\n        }\n\n        .card .card-title {\n            font-size: 24px;\n            font-weight: 300;\n        }\n\n        @media only screen and (min-width: 800px) {\n            /* For notebook: */\n            .card {width: 99% !important;}\n        }\n\n        @media only screen and (min-width: 1400px) {\n            /* For colab: */\n            .card {width: 99% !important;}\n        }\n\n        .blue-grey.darken-1 {\n            background-color: #546e7a !important;\n        }\n\n        .small-card {\n            position: relative;\n            margin: 0.5rem 0 1rem 0;\n            background-color: #fff;\n            -webkit-transition: -webkit-box-shadow .25s;\n            transition: -webkit-box-shadow .25s;\n            transition: box-shadow .25s;\n            transition: box-shadow .25s, -webkit-box-shadow .25s;\n            border-radius: 2px;\n            box-shadow: 0 2px 2px 0 rgb(0 0 0 / 14%), 0 3px 1px -2px rgb(0 0 0 / 12%), 0 1px 5px 0 rgb(0 0 0 / 20%);\n            padding: 0px 5px 0px 5px;\n            color: white;\n        }\n\n        .inner-card {\n            position: relative;\n            background-color: #fff;\n            -webkit-transition: -webkit-box-shadow .25s;\n            transition: -webkit-box-shadow .25s;\n            transition: box-shadow .25s;\n            transition: box-shadow .25s, -webkit-box-shadow .25s;\n            border-radius: 2px;\n            box-shadow: 0 2px 2px 0 rgb(0 0 0 / 14%), 0 3px 1px -2px rgb(0 0 0 / 12%), 0 1px 5px 0 rgb(0 0 0 / 20%);\n            padding: 20px;\n            color: white;\n            margin: 0px 1px 1px 1px;\n        }\n\n        .card-with-tab {\n            position: relative;\n            margin: 0.5rem 0.1rem 1rem 0.2rem;\n            background-color: #fff;\n            -webkit-transition: -webkit-box-shadow .25s;\n            transition: -webkit-box-shadow .25s;\n            transition: box-shadow .25s;\n            transition: box-shadow .25s, -webkit-box-shadow .25s;\n            border-radius: 2px;\n            box-shadow: 0 2px 2px 0 rgb(0 0 0 / 14%), 0 3px 1px -2px rgb(0 0 0 / 12%), 0 1px 5px 0 rgb(0 0 0 / 20%);\n            padding: 24px;\n            color: white;\n        }\n\n        .card-with-tab button {\n            width: auto;\n            padding: 12px 40px;\n        }\n\n        .list {\n            padding: 0px 10px;\n            box-shadow: 0 2px 2px 0 rgb(0 0 0 / 14%), 0 3px 1px -2px rgb(0 0 0 / 12%), 0 1px 5px 0 rgb(0 0 0 / 20%);\n            margin: 0px 1px 60px 1px;\n        }\n\n        .list-item {\n            padding: 10px 0px;\n            border-width: 0;\n            border-style: solid;\n            border-color: rgba(0, 0, 0, 0.08);\n            border-bottom-width: thin;\n        }\n\n        .divider {\n            margin: 10px 0px;\n            border-width: 0;\n            border-style: solid;\n            border-color: rgba(0, 0, 0, 0.08);\n            border-bottom-width: thin;\n        }\n\n        .hr {\n            margin: 0;\n            -webkit-flex-shrink: 0;\n            -ms-flex-negative: 0;\n            flex-shrink: 0;\n            border-width: 0;\n            border-style: solid;\n            border-color: rgba(0, 0, 0, 0.08);\n            border-bottom-width: thin;\n        }\n\n        .notification {\n            transition: box-shadow 300ms cubic-bezier(0.4, 0, 0.2, 1) 0ms;\n            border-radius: 4px;\n            box-shadow: 0 2px 2px 0 rgb(0 0 0 / 14%), 0 3px 1px -2px rgb(0 0 0 / 12%), 0 1px 5px 0 rgb(0 0 0 / 20%);\n            font-family: Roboto, Helvetica, Arial, sans-serif;\n            font-weight: 500;\n            font-size: 12px;\n            line-height: 1.43;\n            letter-spacing: 0.01071em;\n            background-color: rgb(2, 136, 209);\n            display: flex;\n            padding: 6px 16px;\n            color: rgb(255, 255, 255);\n            margin-top: 10px;\n        }\n\n        .success {\n            background-color: #EDF7ED;\n            color: #1E4620;\n        }\n\n        .error {\n            background-color: #FDEDED;\n            color: #5F2120;\n        }\n\n        .info {\n            background-color: #E5F6FD;\n            color: #528298;\n        }\n\n        .warn {\n            background-color: #FFF4E5;\n            color: #663C00;\n        }\n\n        .margin-top-20 {\n            margin-top: 20px;\n        }\n\n        .hide {\n            display: none;\n        }\n\n        .pbtn {\n            display: inline-flex;\n            -webkit-box-align: center;\n            align-items: center;\n            -webkit-box-pack: center;\n            justify-content: center;\n            position: relative;\n            box-sizing: border-box;\n            -webkit-tap-highlight-color: transparent;\n            outline: 0px;\n            border: 0px;\n            margin: 0px;\n            cursor: pointer;\n            user-select: none;\n            vertical-align: middle;\n            appearance: none;\n            text-decoration: none;\n            font-family: Roboto, Helvetica, Arial, sans-serif;\n            font-weight: 550;\n            font-size: 12px;\n            line-height: 1.75;\n            letter-spacing: 0.02857em;\n            text-transform: uppercase;\n            min-width: 64px;\n            padding: 6px 16px;\n            border-radius: 4px;\n            transition: background-color 250ms cubic-bezier(0.4, 0, 0.2, 1) 0ms, box-shadow 250ms cubic-bezier(0.4, 0, 0.2, 1) 0ms, border-color 250ms cubic-bezier(0.4, 0, 0.2, 1) 0ms, color 250ms cubic-bezier(0.4, 0, 0.2, 1) 0ms;\n            color: rgb(255, 255, 255);\n            background-color: #D71E28;\n            box-shadow: rgb(0 0 0 / 20%) 0px 3px 1px -2px, rgb(0 0 0 / 14%) 0px 2px 2px 0px, rgb(0 0 0 / 12%) 0px 1px 5px 0px;\n        }\n\n        .jp-OutputArea-output {\n            flex-grow: 1;\n            flex-shrink: 1;\n            margin: 0px;\n        }\n\n        .output_subarea {\n            padding: 0px !important;\n        }\n\n        .ptable, .pth, .ptd {\n            border: none;\n        }\n\n        .pth, .ptd {\n            max-width: 150px;\n            white-space: nowrap;\n            overflow: hidden;\n            -o-text-overflow: ellipsis;\n            -ms-text-overflow: ellipsis;\n            text-overflow: ellipsis;\n        }\n\n        .ptable {\n            display: table;\n            border-collapse: collapse;\n            border-spacing: 0;\n        }\n\n        .ptable.striped .ptr {\n            border-bottom: none;\n        }\n\n        .ptable.striped > .ptbody > .ptr:nth-child(odd) {\n            background-color: rgba(242, 242, 242, 0.5);\n        }\n\n        .ptable.striped > .ptbody > .ptr > .ptd {\n            border-radius: 0;\n        }\n\n        .ptable.highlight > .ptbody > .ptr {\n            -webkit-transition: background-color .25s ease;\n            transition: background-color .25s ease;\n        }\n\n        .ptable.highlight > .ptbody > .ptr:hover {\n            background-color: rgba(242, 242, 242, 0.5);\n        }\n\n        .ptable.centered .pthead .ptr .pth, .ptable.centered .ptbody .ptr .ptd {\n            text-align: center;\n        }\n\n        .ptr {\n            border-bottom: 1px solid rgba(0, 0, 0, 0.12);\n        }\n\n        .ptr.hightlight {\n            background-color: yellow !important;\n        }\n\n        .ptd, .pth {\n            padding: 0.2rem 0.6rem;\n            display: table-cell;\n            text-align: right;\n            vertical-align: middle;\n            border-radius: 2px;\n            position: relative;\n        }\n\n        .ptr.grey {\n            background-color: grey !important;\n        }\n\n        .ptr.strikeout .ptd:before {\n            content: \" \";\n            position: absolute;\n            top: 50%;\n            left: 0;\n            border-bottom: 1px solid #111;\n            width: 100%;\n        }\n\n        .widget-toggle-button {\n            display: inline-flex;\n            -webkit-box-align: center;\n            align-items: center;\n            -webkit-box-pack: center;\n            justify-content: center;\n            box-sizing: border-box;\n            -webkit-tap-highlight-color: transparent;\n            background-color: transparent !important;\n            outline: 0px;\n            border: 0px;\n            border-bottom: 2px solid #E4E4E4 !important;\n            box-shadow: none !important;\n            margin: 0px !important;\n            border-radius: 0px;\n            cursor: pointer;\n            user-select: none;\n            vertical-align: middle;\n            appearance: none;\n            text-decoration: none;\n            font-family: Roboto, Helvetica, Arial, sans-serif;\n            font-weight: 500;\n            font-size: 14px;\n            line-height: 1.25;\n            letter-spacing: 0.02857em;\n            max-width: 360px;\n            min-width: 90px;\n            position: relative;\n            min-height: 48px;\n            flex-shrink: 0;\n            padding: 12px 16px;\n            overflow: hidden;\n            white-space: normal;\n            text-align: center;\n            flex-direction: column;\n            color: rgba(0, 0, 0, 0.6);\n        }\n\n        .narrow-accordion .jupyter-widget-Accordion-child .jupyter-widget-Collapse-header{\n            padding: 5px;\n        }  \n\n        .mod-active {\n            color: rgb(25, 118, 210) !important;\n            border-bottom: 2px solid rgb(25, 118, 210) !important;\n        }\n\n        .narrow-tab button {\n            max-width: 15%;\n        }\n\n        .narrow-tab-fairness button {\n            max-width: 20%;\n        }\n        .narrow-tab-fs button {\n            max-width: 25%;\n        }\n\n        .overflow-fix .jupyter-widgets {\n            overflow: auto;\n        }\n\n        .inner-padding {\n            padding-top: 20px;\n        }\n\n        .fix-img img {\n            width: 100%;\n        }\n\n        .fix-img-half img {\n            width: 50%;\n        }\n\n        .flex-reverse-for-update-button {\n            flex-direction: row-reverse;\n            margin-right: 50px;\n        }\n\n        .data-summary-tab {\n            max-height: 400px;\n        }\n\n        .restricted_table_height {\n            max-height: 450px\n        }\n\n        .input-width-with-parent .widget-dropdown {\n            width: 100%;\n        }\n\n        .input-width-with-parent .widget-text {\n            width: 100%;\n        }\n\n        .no-margin {\n            margin: 0px;\n        }\n\n        .widget-hprogress label {\n            text-align: left;\n        }\n\n        .widget-dropdown label {\n            margin-right: 10px;\n        }\n\n        .form .widget-dropdown {\n            width: auto;\n        }\n\n        .form .widget-text {\n            width: auto;\n        }\n\n        .form p {\n            margin: 0px;\n        }\n\n        .widget-dropdown {\n            white-space: nowrap;\n            overflow: hidden;\n            -o-text-overflow: ellipsis;\n            -ms-text-overflow: ellipsis;\n            text-overflow: ellipsis;\n        }\n\n        .progress-train label {\n            margin-right: 10px;\n        }\n\n        select {\n            height: 97% !important;\n        }\n\n        .no-overflow {\n            overflow: none;\n        }\n\n        .split-btn button {\n            margin-bottom: 2px;\n        }\n\n        .register-btn {\n            width: 50%\n        }\n\n        .register-btn-colab {\n            width: 40%\n        }\n\n        .fix-config-from-overflow .jp-OutputArea-child {\n            display: inherit;\n        }\n        \n        .checkbox-center input[type=\"checkbox\"] {\n            vertical-align: middle;\n        }\n\n        input[type=\"checkbox\"] {\n            vertical-align: middle;\n        }\n\n        </style>\n        "
      }
     },
     "0737762f7e6d431294ca373cc8f16fb2": {
      "model_module": "@jupyter-widgets/controls",
      "model_module_version": "1.5.0",
      "model_name": "ButtonStyleModel",
      "state": {}
     },
     "0787447fdcab4928b9817ae639397913": {
      "model_module": "@jupyter-widgets/controls",
      "model_module_version": "1.5.0",
      "model_name": "DescriptionStyleModel",
      "state": {
       "description_width": "initial"
      }
     },
     "079906c403904cd0b47f23bf55a34ec6": {
      "model_module": "@jupyter-widgets/controls",
      "model_module_version": "1.5.0",
      "model_name": "ButtonModel",
      "state": {
       "_dom_classes": [
        "pbtn"
       ],
       "button_style": "danger",
       "description": "UPDATE",
       "layout": "IPY_MODEL_f7b332d74bfe4ed9a9eb43a808203534",
       "style": "IPY_MODEL_ac5697ecc4434e3ebe6090aa9230997e"
      }
     },
     "081c346fd6964ffdadfa1c9ad1378369": {
      "model_module": "@jupyter-widgets/controls",
      "model_module_version": "1.5.0",
      "model_name": "VBoxModel",
      "state": {
       "children": [
        "IPY_MODEL_bb3cb9bc48f14dd3908dcd9fdd4ec090",
        "IPY_MODEL_15a6be935b0f49a49193718bb3dcf1d7",
        "IPY_MODEL_9d89230b5e5c45b3a529360bbf506f96",
        "IPY_MODEL_121f39e2690e4d428a3018875e885551",
        "IPY_MODEL_cd8e3e022f0b4ae4a9ce2a4159d34d98",
        "IPY_MODEL_ff7ea1349b714a1c9ff104de0d2148a3",
        "IPY_MODEL_88b4df68be9d4cd5b4e93b142cf6977e"
       ],
       "layout": "IPY_MODEL_8754d48a901c4e289d510cd675770ef2"
      }
     },
     "0848c38c441f4364ba07f7b4646e6e56": {
      "model_module": "@jupyter-widgets/controls",
      "model_module_version": "1.5.0",
      "model_name": "HTMLModel",
      "state": {
       "layout": "IPY_MODEL_2476bef75df84660be81b6e5288cb92a",
       "style": "IPY_MODEL_2301e375702d4d868301f835d2daff78",
       "value": "\n        <table class='ptable striped'>\n            <thead class='pthead'>\n                <tr class='ptr'>\n                    <th class='pth'></th><th class='pth'>name</th><th class='pth'>n_missing</th><th class='pth'>mean</th><th class='pth'>std</th><th class='pth'>min</th><th class='pth'>q1</th><th class='pth'>median</th><th class='pth'>q3</th><th class='pth'>max</th>\n                </tr>\n            </thead>\n\n            <tbody class='ptbody'>\n                <tr class='ptr'><td class='ptd'>0</td><td class='ptd'>mnth</td><td class='ptd'>0.0</td><td class='ptd'>6.537775</td><td class='ptd'>3.438776</td><td class='ptd'>1.0</td><td class='ptd'>4.0</td><td class='ptd'>7.0</td><td class='ptd'>10.0</td><td class='ptd'>12.0</td></tr><tr class='ptr'><td class='ptd'>1</td><td class='ptd'>hr</td><td class='ptd'>0.0</td><td class='ptd'>11.546752</td><td class='ptd'>6.914405</td><td class='ptd'>0.0</td><td class='ptd'>6.0</td><td class='ptd'>12.0</td><td class='ptd'>18.0</td><td class='ptd'>23.0</td></tr><tr class='ptr'><td class='ptd'>2</td><td class='ptd'>weekday</td><td class='ptd'>0.0</td><td class='ptd'>3.003683</td><td class='ptd'>2.005771</td><td class='ptd'>0.0</td><td class='ptd'>1.0</td><td class='ptd'>3.0</td><td class='ptd'>5.0</td><td class='ptd'>6.0</td></tr><tr class='ptr'><td class='ptd'>3</td><td class='ptd'>temp</td><td class='ptd'>0.0</td><td class='ptd'>0.496987</td><td class='ptd'>0.192556</td><td class='ptd'>0.02</td><td class='ptd'>0.34</td><td class='ptd'>0.5</td><td class='ptd'>0.66</td><td class='ptd'>1.0</td></tr><tr class='ptr grey'><td class='ptd'>4</td><td class='ptd'>atemp</td><td class='ptd'>0.0</td><td class='ptd'>0.475775</td><td class='ptd'>0.17185</td><td class='ptd'>0.0</td><td class='ptd'>0.3333</td><td class='ptd'>0.4848</td><td class='ptd'>0.6212</td><td class='ptd'>1.0</td></tr><tr class='ptr'><td class='ptd'>5</td><td class='ptd'>hum</td><td class='ptd'>0.0</td><td class='ptd'>0.627229</td><td class='ptd'>0.19293</td><td class='ptd'>0.0</td><td class='ptd'>0.48</td><td class='ptd'>0.63</td><td class='ptd'>0.78</td><td class='ptd'>1.0</td></tr><tr class='ptr'><td class='ptd'>6</td><td class='ptd'>windspeed</td><td class='ptd'>0.0</td><td class='ptd'>0.190098</td><td class='ptd'>0.12234</td><td class='ptd'>0.0</td><td class='ptd'>0.1045</td><td class='ptd'>0.194</td><td class='ptd'>0.2537</td><td class='ptd'>0.8507</td></tr><tr class='ptr'><td class='ptd'>7</td><td class='ptd'>cnt</td><td class='ptd'>0.0</td><td class='ptd'>189.463088</td><td class='ptd'>181.387599</td><td class='ptd'>1.0</td><td class='ptd'>40.0</td><td class='ptd'>142.0</td><td class='ptd'>281.0</td><td class='ptd'>977.0</td></tr>\n            </tbody>\n        </table>\n        "
      }
     },
     "095d96e556ff4125a328ee779186ca2d": {
      "model_module": "@jupyter-widgets/controls",
      "model_module_version": "1.5.0",
      "model_name": "HTMLModel",
      "state": {
       "layout": "IPY_MODEL_d854aa05c7944cb6866994f1810b6c1a",
       "style": "IPY_MODEL_6d6320e74013441b9f694c1eb24bbd8d",
       "value": "<p class=\"notification info\">Excluded attribute \"season\"</p>"
      }
     },
     "09bf427995c349168c4d349f328cb36b": {
      "model_module": "@jupyter-widgets/base",
      "model_module_version": "1.2.0",
      "model_name": "LayoutModel",
      "state": {}
     },
     "0a8bcf644aa9441689cd8f5aa254f3af": {
      "model_module": "@jupyter-widgets/controls",
      "model_module_version": "1.5.0",
      "model_name": "HTMLModel",
      "state": {
       "layout": "IPY_MODEL_be5f2bff1ba24f5f994f50f6bb1515e8",
       "style": "IPY_MODEL_1f787e858bb249c09cc7ece6342c68c7",
       "value": "\n        <style>\n\n        .left-label {\n            width: 30%;\n        }\n\n        .card-panel {\n            -webkit-transition: -webkit-box-shadow .25s;\n            transition: -webkit-box-shadow .25s;\n            transition: box-shadow .25s;\n            transition: box-shadow .25s, -webkit-box-shadow .25s;\n            padding: 24px;\n            margin: 0.5rem 0 1rem 0;\n            border-radius: 2px;\n            background-color: #fff;\n        }\n\n        .card {\n            position: relative;\n            margin: 0.5rem 0.1rem 1rem 0.2rem;\n            background-color: #fff;\n            -webkit-transition: -webkit-box-shadow .25s;\n            transition: -webkit-box-shadow .25s;\n            transition: box-shadow .25s;\n            transition: box-shadow .25s, -webkit-box-shadow .25s;\n            border-radius: 2px;\n            box-shadow: 0 2px 2px 0 rgb(0 0 0 / 14%), 0 3px 1px -2px rgb(0 0 0 / 12%), 0 1px 5px 0 rgb(0 0 0 / 20%);\n            padding: 24px;\n            color: white;\n        }\n\n        .card .card-title {\n            font-size: 24px;\n            font-weight: 300;\n        }\n\n        @media only screen and (min-width: 800px) {\n            /* For notebook: */\n            .card {width: 99% !important;}\n        }\n\n        @media only screen and (min-width: 1400px) {\n            /* For colab: */\n            .card {width: 99% !important;}\n        }\n\n        .blue-grey.darken-1 {\n            background-color: #546e7a !important;\n        }\n\n        .small-card {\n            position: relative;\n            margin: 0.5rem 0 1rem 0;\n            background-color: #fff;\n            -webkit-transition: -webkit-box-shadow .25s;\n            transition: -webkit-box-shadow .25s;\n            transition: box-shadow .25s;\n            transition: box-shadow .25s, -webkit-box-shadow .25s;\n            border-radius: 2px;\n            box-shadow: 0 2px 2px 0 rgb(0 0 0 / 14%), 0 3px 1px -2px rgb(0 0 0 / 12%), 0 1px 5px 0 rgb(0 0 0 / 20%);\n            padding: 0px 5px 0px 5px;\n            color: white;\n        }\n\n        .inner-card {\n            position: relative;\n            background-color: #fff;\n            -webkit-transition: -webkit-box-shadow .25s;\n            transition: -webkit-box-shadow .25s;\n            transition: box-shadow .25s;\n            transition: box-shadow .25s, -webkit-box-shadow .25s;\n            border-radius: 2px;\n            box-shadow: 0 2px 2px 0 rgb(0 0 0 / 14%), 0 3px 1px -2px rgb(0 0 0 / 12%), 0 1px 5px 0 rgb(0 0 0 / 20%);\n            padding: 20px;\n            color: white;\n            margin: 0px 1px 1px 1px;\n        }\n\n        .card-with-tab {\n            position: relative;\n            margin: 0.5rem 0.1rem 1rem 0.2rem;\n            background-color: #fff;\n            -webkit-transition: -webkit-box-shadow .25s;\n            transition: -webkit-box-shadow .25s;\n            transition: box-shadow .25s;\n            transition: box-shadow .25s, -webkit-box-shadow .25s;\n            border-radius: 2px;\n            box-shadow: 0 2px 2px 0 rgb(0 0 0 / 14%), 0 3px 1px -2px rgb(0 0 0 / 12%), 0 1px 5px 0 rgb(0 0 0 / 20%);\n            padding: 24px;\n            color: white;\n        }\n\n        .card-with-tab button {\n            width: auto;\n            padding: 12px 40px;\n        }\n\n        .list {\n            padding: 0px 10px;\n            box-shadow: 0 2px 2px 0 rgb(0 0 0 / 14%), 0 3px 1px -2px rgb(0 0 0 / 12%), 0 1px 5px 0 rgb(0 0 0 / 20%);\n            margin: 0px 1px 60px 1px;\n        }\n\n        .list-item {\n            padding: 10px 0px;\n            border-width: 0;\n            border-style: solid;\n            border-color: rgba(0, 0, 0, 0.08);\n            border-bottom-width: thin;\n        }\n\n        .divider {\n            margin: 10px 0px;\n            border-width: 0;\n            border-style: solid;\n            border-color: rgba(0, 0, 0, 0.08);\n            border-bottom-width: thin;\n        }\n\n        .hr {\n            margin: 0;\n            -webkit-flex-shrink: 0;\n            -ms-flex-negative: 0;\n            flex-shrink: 0;\n            border-width: 0;\n            border-style: solid;\n            border-color: rgba(0, 0, 0, 0.08);\n            border-bottom-width: thin;\n        }\n\n        .notification {\n            transition: box-shadow 300ms cubic-bezier(0.4, 0, 0.2, 1) 0ms;\n            border-radius: 4px;\n            box-shadow: 0 2px 2px 0 rgb(0 0 0 / 14%), 0 3px 1px -2px rgb(0 0 0 / 12%), 0 1px 5px 0 rgb(0 0 0 / 20%);\n            font-family: Roboto, Helvetica, Arial, sans-serif;\n            font-weight: 500;\n            font-size: 12px;\n            line-height: 1.43;\n            letter-spacing: 0.01071em;\n            background-color: rgb(2, 136, 209);\n            display: flex;\n            padding: 6px 16px;\n            color: rgb(255, 255, 255);\n            margin-top: 10px;\n        }\n\n        .success {\n            background-color: #EDF7ED;\n            color: #1E4620;\n        }\n\n        .error {\n            background-color: #FDEDED;\n            color: #5F2120;\n        }\n\n        .info {\n            background-color: #E5F6FD;\n            color: #528298;\n        }\n\n        .warn {\n            background-color: #FFF4E5;\n            color: #663C00;\n        }\n\n        .margin-top-20 {\n            margin-top: 20px;\n        }\n\n        .hide {\n            display: none;\n        }\n\n        .pbtn {\n            display: inline-flex;\n            -webkit-box-align: center;\n            align-items: center;\n            -webkit-box-pack: center;\n            justify-content: center;\n            position: relative;\n            box-sizing: border-box;\n            -webkit-tap-highlight-color: transparent;\n            outline: 0px;\n            border: 0px;\n            margin: 0px;\n            cursor: pointer;\n            user-select: none;\n            vertical-align: middle;\n            appearance: none;\n            text-decoration: none;\n            font-family: Roboto, Helvetica, Arial, sans-serif;\n            font-weight: 550;\n            font-size: 12px;\n            line-height: 1.75;\n            letter-spacing: 0.02857em;\n            text-transform: uppercase;\n            min-width: 64px;\n            padding: 6px 16px;\n            border-radius: 4px;\n            transition: background-color 250ms cubic-bezier(0.4, 0, 0.2, 1) 0ms, box-shadow 250ms cubic-bezier(0.4, 0, 0.2, 1) 0ms, border-color 250ms cubic-bezier(0.4, 0, 0.2, 1) 0ms, color 250ms cubic-bezier(0.4, 0, 0.2, 1) 0ms;\n            color: rgb(255, 255, 255);\n            background-color: #D71E28;\n            box-shadow: rgb(0 0 0 / 20%) 0px 3px 1px -2px, rgb(0 0 0 / 14%) 0px 2px 2px 0px, rgb(0 0 0 / 12%) 0px 1px 5px 0px;\n        }\n\n        .jp-OutputArea-output {\n            flex-grow: 1;\n            flex-shrink: 1;\n            margin: 0px;\n        }\n\n        .output_subarea {\n            padding: 0px !important;\n        }\n\n        .ptable, .pth, .ptd {\n            border: none;\n        }\n\n        .pth, .ptd {\n            max-width: 150px;\n            white-space: nowrap;\n            overflow: hidden;\n            -o-text-overflow: ellipsis;\n            -ms-text-overflow: ellipsis;\n            text-overflow: ellipsis;\n        }\n\n        .ptable {\n            display: table;\n            border-collapse: collapse;\n            border-spacing: 0;\n        }\n\n        .ptable.striped .ptr {\n            border-bottom: none;\n        }\n\n        .ptable.striped > .ptbody > .ptr:nth-child(odd) {\n            background-color: rgba(242, 242, 242, 0.5);\n        }\n\n        .ptable.striped > .ptbody > .ptr > .ptd {\n            border-radius: 0;\n        }\n\n        .ptable.highlight > .ptbody > .ptr {\n            -webkit-transition: background-color .25s ease;\n            transition: background-color .25s ease;\n        }\n\n        .ptable.highlight > .ptbody > .ptr:hover {\n            background-color: rgba(242, 242, 242, 0.5);\n        }\n\n        .ptable.centered .pthead .ptr .pth, .ptable.centered .ptbody .ptr .ptd {\n            text-align: center;\n        }\n\n        .ptr {\n            border-bottom: 1px solid rgba(0, 0, 0, 0.12);\n        }\n\n        .ptr.hightlight {\n            background-color: yellow !important;\n        }\n\n        .ptd, .pth {\n            padding: 0.2rem 0.6rem;\n            display: table-cell;\n            text-align: right;\n            vertical-align: middle;\n            border-radius: 2px;\n            position: relative;\n        }\n\n        .ptr.grey {\n            background-color: grey !important;\n        }\n\n        .ptr.strikeout .ptd:before {\n            content: \" \";\n            position: absolute;\n            top: 50%;\n            left: 0;\n            border-bottom: 1px solid #111;\n            width: 100%;\n        }\n\n        .widget-toggle-button {\n            display: inline-flex;\n            -webkit-box-align: center;\n            align-items: center;\n            -webkit-box-pack: center;\n            justify-content: center;\n            box-sizing: border-box;\n            -webkit-tap-highlight-color: transparent;\n            background-color: transparent !important;\n            outline: 0px;\n            border: 0px;\n            border-bottom: 2px solid #E4E4E4 !important;\n            box-shadow: none !important;\n            margin: 0px !important;\n            border-radius: 0px;\n            cursor: pointer;\n            user-select: none;\n            vertical-align: middle;\n            appearance: none;\n            text-decoration: none;\n            font-family: Roboto, Helvetica, Arial, sans-serif;\n            font-weight: 500;\n            font-size: 14px;\n            line-height: 1.25;\n            letter-spacing: 0.02857em;\n            max-width: 360px;\n            min-width: 90px;\n            position: relative;\n            min-height: 48px;\n            flex-shrink: 0;\n            padding: 12px 16px;\n            overflow: hidden;\n            white-space: normal;\n            text-align: center;\n            flex-direction: column;\n            color: rgba(0, 0, 0, 0.6);\n        }\n\n        .narrow-accordion .jupyter-widget-Accordion-child .jupyter-widget-Collapse-header{\n            padding: 5px;\n        }  \n\n        .mod-active {\n            color: rgb(25, 118, 210) !important;\n            border-bottom: 2px solid rgb(25, 118, 210) !important;\n        }\n\n        .narrow-tab button {\n            max-width: 15%;\n        }\n\n        .narrow-tab-fairness button {\n            max-width: 20%;\n        }\n        .narrow-tab-fs button {\n            max-width: 25%;\n        }\n\n        .overflow-fix .jupyter-widgets {\n            overflow: auto;\n        }\n\n        .inner-padding {\n            padding-top: 20px;\n        }\n\n        .fix-img img {\n            width: 100%;\n        }\n\n        .fix-img-half img {\n            width: 50%;\n        }\n\n        .flex-reverse-for-update-button {\n            flex-direction: row-reverse;\n            margin-right: 50px;\n        }\n\n        .data-summary-tab {\n            max-height: 400px;\n        }\n\n        .restricted_table_height {\n            max-height: 450px\n        }\n\n        .input-width-with-parent .widget-dropdown {\n            width: 100%;\n        }\n\n        .input-width-with-parent .widget-text {\n            width: 100%;\n        }\n\n        .no-margin {\n            margin: 0px;\n        }\n\n        .widget-hprogress label {\n            text-align: left;\n        }\n\n        .widget-dropdown label {\n            margin-right: 10px;\n        }\n\n        .form .widget-dropdown {\n            width: auto;\n        }\n\n        .form .widget-text {\n            width: auto;\n        }\n\n        .form p {\n            margin: 0px;\n        }\n\n        .widget-dropdown {\n            white-space: nowrap;\n            overflow: hidden;\n            -o-text-overflow: ellipsis;\n            -ms-text-overflow: ellipsis;\n            text-overflow: ellipsis;\n        }\n\n        .progress-train label {\n            margin-right: 10px;\n        }\n\n        select {\n            height: 97% !important;\n        }\n\n        .no-overflow {\n            overflow: none;\n        }\n\n        .split-btn button {\n            margin-bottom: 2px;\n        }\n\n        .register-btn {\n            width: 50%\n        }\n\n        .register-btn-colab {\n            width: 40%\n        }\n\n        .fix-config-from-overflow .jp-OutputArea-child {\n            display: inherit;\n        }\n        \n        .checkbox-center input[type=\"checkbox\"] {\n            vertical-align: middle;\n        }\n\n        input[type=\"checkbox\"] {\n            vertical-align: middle;\n        }\n\n        </style>\n        "
      }
     },
     "0b84c9bd2ad44c03abef1576cacb8b81": {
      "model_module": "@jupyter-widgets/base",
      "model_module_version": "1.2.0",
      "model_name": "LayoutModel",
      "state": {}
     },
     "0bf9a2db293045f9a6ae6a8b95675bf8": {
      "model_module": "@jupyter-widgets/base",
      "model_module_version": "1.2.0",
      "model_name": "LayoutModel",
      "state": {}
     },
     "0c20a63c4b444cef8d04a401513d947b": {
      "model_module": "@jupyter-widgets/controls",
      "model_module_version": "1.5.0",
      "model_name": "DropdownModel",
      "state": {
       "_options_labels": [
        "None",
        "yr",
        "mnth",
        "hr",
        "holiday",
        "weekday",
        "weathersit",
        "temp",
        "hum",
        "windspeed",
        "cnt"
       ],
       "index": 0,
       "layout": "IPY_MODEL_b6df06660d27405ab44f36bfff41d5b0",
       "style": "IPY_MODEL_fee2643b9dae44f79e16d6c03aaadaac"
      }
     },
     "0dbbfee470424ba7a0a6ab84ed52c6a6": {
      "model_module": "@jupyter-widgets/controls",
      "model_module_version": "1.5.0",
      "model_name": "HTMLModel",
      "state": {
       "layout": "IPY_MODEL_f53b97c2294f4c9d857166e349161bc5",
       "style": "IPY_MODEL_4fbd79db5526430eac8e23d0c92f8f3e",
       "value": "\n        <style>\n\n        .left-label {\n            width: 30%;\n        }\n\n        .card-panel {\n            -webkit-transition: -webkit-box-shadow .25s;\n            transition: -webkit-box-shadow .25s;\n            transition: box-shadow .25s;\n            transition: box-shadow .25s, -webkit-box-shadow .25s;\n            padding: 24px;\n            margin: 0.5rem 0 1rem 0;\n            border-radius: 2px;\n            background-color: #fff;\n        }\n\n        .card {\n            position: relative;\n            margin: 0.5rem 0.1rem 1rem 0.2rem;\n            background-color: #fff;\n            -webkit-transition: -webkit-box-shadow .25s;\n            transition: -webkit-box-shadow .25s;\n            transition: box-shadow .25s;\n            transition: box-shadow .25s, -webkit-box-shadow .25s;\n            border-radius: 2px;\n            box-shadow: 0 2px 2px 0 rgb(0 0 0 / 14%), 0 3px 1px -2px rgb(0 0 0 / 12%), 0 1px 5px 0 rgb(0 0 0 / 20%);\n            padding: 24px;\n            color: white;\n        }\n\n        .card .card-title {\n            font-size: 24px;\n            font-weight: 300;\n        }\n\n        @media only screen and (min-width: 800px) {\n            /* For notebook: */\n            .card {width: 99% !important;}\n        }\n\n        @media only screen and (min-width: 1400px) {\n            /* For colab: */\n            .card {width: 99% !important;}\n        }\n\n        .blue-grey.darken-1 {\n            background-color: #546e7a !important;\n        }\n\n        .small-card {\n            position: relative;\n            margin: 0.5rem 0 1rem 0;\n            background-color: #fff;\n            -webkit-transition: -webkit-box-shadow .25s;\n            transition: -webkit-box-shadow .25s;\n            transition: box-shadow .25s;\n            transition: box-shadow .25s, -webkit-box-shadow .25s;\n            border-radius: 2px;\n            box-shadow: 0 2px 2px 0 rgb(0 0 0 / 14%), 0 3px 1px -2px rgb(0 0 0 / 12%), 0 1px 5px 0 rgb(0 0 0 / 20%);\n            padding: 0px 5px 0px 5px;\n            color: white;\n        }\n\n        .inner-card {\n            position: relative;\n            background-color: #fff;\n            -webkit-transition: -webkit-box-shadow .25s;\n            transition: -webkit-box-shadow .25s;\n            transition: box-shadow .25s;\n            transition: box-shadow .25s, -webkit-box-shadow .25s;\n            border-radius: 2px;\n            box-shadow: 0 2px 2px 0 rgb(0 0 0 / 14%), 0 3px 1px -2px rgb(0 0 0 / 12%), 0 1px 5px 0 rgb(0 0 0 / 20%);\n            padding: 20px;\n            color: white;\n            margin: 0px 1px 1px 1px;\n        }\n\n        .card-with-tab {\n            position: relative;\n            margin: 0.5rem 0.1rem 1rem 0.2rem;\n            background-color: #fff;\n            -webkit-transition: -webkit-box-shadow .25s;\n            transition: -webkit-box-shadow .25s;\n            transition: box-shadow .25s;\n            transition: box-shadow .25s, -webkit-box-shadow .25s;\n            border-radius: 2px;\n            box-shadow: 0 2px 2px 0 rgb(0 0 0 / 14%), 0 3px 1px -2px rgb(0 0 0 / 12%), 0 1px 5px 0 rgb(0 0 0 / 20%);\n            padding: 24px;\n            color: white;\n        }\n\n        .card-with-tab button {\n            width: auto;\n            padding: 12px 40px;\n        }\n\n        .list {\n            padding: 0px 10px;\n            box-shadow: 0 2px 2px 0 rgb(0 0 0 / 14%), 0 3px 1px -2px rgb(0 0 0 / 12%), 0 1px 5px 0 rgb(0 0 0 / 20%);\n            margin: 0px 1px 60px 1px;\n        }\n\n        .list-item {\n            padding: 10px 0px;\n            border-width: 0;\n            border-style: solid;\n            border-color: rgba(0, 0, 0, 0.08);\n            border-bottom-width: thin;\n        }\n\n        .divider {\n            margin: 10px 0px;\n            border-width: 0;\n            border-style: solid;\n            border-color: rgba(0, 0, 0, 0.08);\n            border-bottom-width: thin;\n        }\n\n        .hr {\n            margin: 0;\n            -webkit-flex-shrink: 0;\n            -ms-flex-negative: 0;\n            flex-shrink: 0;\n            border-width: 0;\n            border-style: solid;\n            border-color: rgba(0, 0, 0, 0.08);\n            border-bottom-width: thin;\n        }\n\n        .notification {\n            transition: box-shadow 300ms cubic-bezier(0.4, 0, 0.2, 1) 0ms;\n            border-radius: 4px;\n            box-shadow: 0 2px 2px 0 rgb(0 0 0 / 14%), 0 3px 1px -2px rgb(0 0 0 / 12%), 0 1px 5px 0 rgb(0 0 0 / 20%);\n            font-family: Roboto, Helvetica, Arial, sans-serif;\n            font-weight: 500;\n            font-size: 12px;\n            line-height: 1.43;\n            letter-spacing: 0.01071em;\n            background-color: rgb(2, 136, 209);\n            display: flex;\n            padding: 6px 16px;\n            color: rgb(255, 255, 255);\n            margin-top: 10px;\n        }\n\n        .success {\n            background-color: #EDF7ED;\n            color: #1E4620;\n        }\n\n        .error {\n            background-color: #FDEDED;\n            color: #5F2120;\n        }\n\n        .info {\n            background-color: #E5F6FD;\n            color: #528298;\n        }\n\n        .warn {\n            background-color: #FFF4E5;\n            color: #663C00;\n        }\n\n        .margin-top-20 {\n            margin-top: 20px;\n        }\n\n        .hide {\n            display: none;\n        }\n\n        .pbtn {\n            display: inline-flex;\n            -webkit-box-align: center;\n            align-items: center;\n            -webkit-box-pack: center;\n            justify-content: center;\n            position: relative;\n            box-sizing: border-box;\n            -webkit-tap-highlight-color: transparent;\n            outline: 0px;\n            border: 0px;\n            margin: 0px;\n            cursor: pointer;\n            user-select: none;\n            vertical-align: middle;\n            appearance: none;\n            text-decoration: none;\n            font-family: Roboto, Helvetica, Arial, sans-serif;\n            font-weight: 550;\n            font-size: 12px;\n            line-height: 1.75;\n            letter-spacing: 0.02857em;\n            text-transform: uppercase;\n            min-width: 64px;\n            padding: 6px 16px;\n            border-radius: 4px;\n            transition: background-color 250ms cubic-bezier(0.4, 0, 0.2, 1) 0ms, box-shadow 250ms cubic-bezier(0.4, 0, 0.2, 1) 0ms, border-color 250ms cubic-bezier(0.4, 0, 0.2, 1) 0ms, color 250ms cubic-bezier(0.4, 0, 0.2, 1) 0ms;\n            color: rgb(255, 255, 255);\n            background-color: #D71E28;\n            box-shadow: rgb(0 0 0 / 20%) 0px 3px 1px -2px, rgb(0 0 0 / 14%) 0px 2px 2px 0px, rgb(0 0 0 / 12%) 0px 1px 5px 0px;\n        }\n\n        .jp-OutputArea-output {\n            flex-grow: 1;\n            flex-shrink: 1;\n            margin: 0px;\n        }\n\n        .output_subarea {\n            padding: 0px !important;\n        }\n\n        .ptable, .pth, .ptd {\n            border: none;\n        }\n\n        .pth, .ptd {\n            max-width: 150px;\n            white-space: nowrap;\n            overflow: hidden;\n            -o-text-overflow: ellipsis;\n            -ms-text-overflow: ellipsis;\n            text-overflow: ellipsis;\n        }\n\n        .ptable {\n            display: table;\n            border-collapse: collapse;\n            border-spacing: 0;\n        }\n\n        .ptable.striped .ptr {\n            border-bottom: none;\n        }\n\n        .ptable.striped > .ptbody > .ptr:nth-child(odd) {\n            background-color: rgba(242, 242, 242, 0.5);\n        }\n\n        .ptable.striped > .ptbody > .ptr > .ptd {\n            border-radius: 0;\n        }\n\n        .ptable.highlight > .ptbody > .ptr {\n            -webkit-transition: background-color .25s ease;\n            transition: background-color .25s ease;\n        }\n\n        .ptable.highlight > .ptbody > .ptr:hover {\n            background-color: rgba(242, 242, 242, 0.5);\n        }\n\n        .ptable.centered .pthead .ptr .pth, .ptable.centered .ptbody .ptr .ptd {\n            text-align: center;\n        }\n\n        .ptr {\n            border-bottom: 1px solid rgba(0, 0, 0, 0.12);\n        }\n\n        .ptr.hightlight {\n            background-color: yellow !important;\n        }\n\n        .ptd, .pth {\n            padding: 0.2rem 0.6rem;\n            display: table-cell;\n            text-align: right;\n            vertical-align: middle;\n            border-radius: 2px;\n            position: relative;\n        }\n\n        .ptr.grey {\n            background-color: grey !important;\n        }\n\n        .ptr.strikeout .ptd:before {\n            content: \" \";\n            position: absolute;\n            top: 50%;\n            left: 0;\n            border-bottom: 1px solid #111;\n            width: 100%;\n        }\n\n        .widget-toggle-button {\n            display: inline-flex;\n            -webkit-box-align: center;\n            align-items: center;\n            -webkit-box-pack: center;\n            justify-content: center;\n            box-sizing: border-box;\n            -webkit-tap-highlight-color: transparent;\n            background-color: transparent !important;\n            outline: 0px;\n            border: 0px;\n            border-bottom: 2px solid #E4E4E4 !important;\n            box-shadow: none !important;\n            margin: 0px !important;\n            border-radius: 0px;\n            cursor: pointer;\n            user-select: none;\n            vertical-align: middle;\n            appearance: none;\n            text-decoration: none;\n            font-family: Roboto, Helvetica, Arial, sans-serif;\n            font-weight: 500;\n            font-size: 14px;\n            line-height: 1.25;\n            letter-spacing: 0.02857em;\n            max-width: 360px;\n            min-width: 90px;\n            position: relative;\n            min-height: 48px;\n            flex-shrink: 0;\n            padding: 12px 16px;\n            overflow: hidden;\n            white-space: normal;\n            text-align: center;\n            flex-direction: column;\n            color: rgba(0, 0, 0, 0.6);\n        }\n\n        .narrow-accordion .jupyter-widget-Accordion-child .jupyter-widget-Collapse-header{\n            padding: 5px;\n        }  \n\n        .mod-active {\n            color: rgb(25, 118, 210) !important;\n            border-bottom: 2px solid rgb(25, 118, 210) !important;\n        }\n\n        .narrow-tab button {\n            max-width: 15%;\n        }\n\n        .narrow-tab-fairness button {\n            max-width: 20%;\n        }\n        .narrow-tab-fs button {\n            max-width: 25%;\n        }\n\n        .overflow-fix .jupyter-widgets {\n            overflow: auto;\n        }\n\n        .inner-padding {\n            padding-top: 20px;\n        }\n\n        .fix-img img {\n            width: 100%;\n        }\n\n        .fix-img-half img {\n            width: 50%;\n        }\n\n        .flex-reverse-for-update-button {\n            flex-direction: row-reverse;\n            margin-right: 50px;\n        }\n\n        .data-summary-tab {\n            max-height: 400px;\n        }\n\n        .restricted_table_height {\n            max-height: 450px\n        }\n\n        .input-width-with-parent .widget-dropdown {\n            width: 100%;\n        }\n\n        .input-width-with-parent .widget-text {\n            width: 100%;\n        }\n\n        .no-margin {\n            margin: 0px;\n        }\n\n        .widget-hprogress label {\n            text-align: left;\n        }\n\n        .widget-dropdown label {\n            margin-right: 10px;\n        }\n\n        .form .widget-dropdown {\n            width: auto;\n        }\n\n        .form .widget-text {\n            width: auto;\n        }\n\n        .form p {\n            margin: 0px;\n        }\n\n        .widget-dropdown {\n            white-space: nowrap;\n            overflow: hidden;\n            -o-text-overflow: ellipsis;\n            -ms-text-overflow: ellipsis;\n            text-overflow: ellipsis;\n        }\n\n        .progress-train label {\n            margin-right: 10px;\n        }\n\n        select {\n            height: 97% !important;\n        }\n\n        .no-overflow {\n            overflow: none;\n        }\n\n        .split-btn button {\n            margin-bottom: 2px;\n        }\n\n        .register-btn {\n            width: 50%\n        }\n\n        .register-btn-colab {\n            width: 40%\n        }\n\n        .fix-config-from-overflow .jp-OutputArea-child {\n            display: inherit;\n        }\n        \n        .checkbox-center input[type=\"checkbox\"] {\n            vertical-align: middle;\n        }\n\n        input[type=\"checkbox\"] {\n            vertical-align: middle;\n        }\n\n        </style>\n        "
      }
     },
     "0e193ec44b9246149d7b62fc1a3b850f": {
      "model_module": "@jupyter-widgets/controls",
      "model_module_version": "1.5.0",
      "model_name": "HTMLModel",
      "state": {
       "layout": "IPY_MODEL_7fcc8bc5ece84567b3962a25f06b9ff1",
       "style": "IPY_MODEL_1de03d4dd8244e6db5ecc949c4e77503",
       "value": "\n        <style>\n\n        .left-label {\n            width: 30%;\n        }\n\n        .card-panel {\n            -webkit-transition: -webkit-box-shadow .25s;\n            transition: -webkit-box-shadow .25s;\n            transition: box-shadow .25s;\n            transition: box-shadow .25s, -webkit-box-shadow .25s;\n            padding: 24px;\n            margin: 0.5rem 0 1rem 0;\n            border-radius: 2px;\n            background-color: #fff;\n        }\n\n        .card {\n            position: relative;\n            margin: 0.5rem 0.1rem 1rem 0.2rem;\n            background-color: #fff;\n            -webkit-transition: -webkit-box-shadow .25s;\n            transition: -webkit-box-shadow .25s;\n            transition: box-shadow .25s;\n            transition: box-shadow .25s, -webkit-box-shadow .25s;\n            border-radius: 2px;\n            box-shadow: 0 2px 2px 0 rgb(0 0 0 / 14%), 0 3px 1px -2px rgb(0 0 0 / 12%), 0 1px 5px 0 rgb(0 0 0 / 20%);\n            padding: 24px;\n            color: white;\n        }\n\n        .card .card-title {\n            font-size: 24px;\n            font-weight: 300;\n        }\n\n        @media only screen and (min-width: 800px) {\n            /* For notebook: */\n            .card {width: 99% !important;}\n        }\n\n        @media only screen and (min-width: 1400px) {\n            /* For colab: */\n            .card {width: 99% !important;}\n        }\n\n        .blue-grey.darken-1 {\n            background-color: #546e7a !important;\n        }\n\n        .small-card {\n            position: relative;\n            margin: 0.5rem 0 1rem 0;\n            background-color: #fff;\n            -webkit-transition: -webkit-box-shadow .25s;\n            transition: -webkit-box-shadow .25s;\n            transition: box-shadow .25s;\n            transition: box-shadow .25s, -webkit-box-shadow .25s;\n            border-radius: 2px;\n            box-shadow: 0 2px 2px 0 rgb(0 0 0 / 14%), 0 3px 1px -2px rgb(0 0 0 / 12%), 0 1px 5px 0 rgb(0 0 0 / 20%);\n            padding: 0px 5px 0px 5px;\n            color: white;\n        }\n\n        .inner-card {\n            position: relative;\n            background-color: #fff;\n            -webkit-transition: -webkit-box-shadow .25s;\n            transition: -webkit-box-shadow .25s;\n            transition: box-shadow .25s;\n            transition: box-shadow .25s, -webkit-box-shadow .25s;\n            border-radius: 2px;\n            box-shadow: 0 2px 2px 0 rgb(0 0 0 / 14%), 0 3px 1px -2px rgb(0 0 0 / 12%), 0 1px 5px 0 rgb(0 0 0 / 20%);\n            padding: 20px;\n            color: white;\n            margin: 0px 1px 1px 1px;\n        }\n\n        .card-with-tab {\n            position: relative;\n            margin: 0.5rem 0.1rem 1rem 0.2rem;\n            background-color: #fff;\n            -webkit-transition: -webkit-box-shadow .25s;\n            transition: -webkit-box-shadow .25s;\n            transition: box-shadow .25s;\n            transition: box-shadow .25s, -webkit-box-shadow .25s;\n            border-radius: 2px;\n            box-shadow: 0 2px 2px 0 rgb(0 0 0 / 14%), 0 3px 1px -2px rgb(0 0 0 / 12%), 0 1px 5px 0 rgb(0 0 0 / 20%);\n            padding: 24px;\n            color: white;\n        }\n\n        .card-with-tab button {\n            width: auto;\n            padding: 12px 40px;\n        }\n\n        .list {\n            padding: 0px 10px;\n            box-shadow: 0 2px 2px 0 rgb(0 0 0 / 14%), 0 3px 1px -2px rgb(0 0 0 / 12%), 0 1px 5px 0 rgb(0 0 0 / 20%);\n            margin: 0px 1px 60px 1px;\n        }\n\n        .list-item {\n            padding: 10px 0px;\n            border-width: 0;\n            border-style: solid;\n            border-color: rgba(0, 0, 0, 0.08);\n            border-bottom-width: thin;\n        }\n\n        .divider {\n            margin: 10px 0px;\n            border-width: 0;\n            border-style: solid;\n            border-color: rgba(0, 0, 0, 0.08);\n            border-bottom-width: thin;\n        }\n\n        .hr {\n            margin: 0;\n            -webkit-flex-shrink: 0;\n            -ms-flex-negative: 0;\n            flex-shrink: 0;\n            border-width: 0;\n            border-style: solid;\n            border-color: rgba(0, 0, 0, 0.08);\n            border-bottom-width: thin;\n        }\n\n        .notification {\n            transition: box-shadow 300ms cubic-bezier(0.4, 0, 0.2, 1) 0ms;\n            border-radius: 4px;\n            box-shadow: 0 2px 2px 0 rgb(0 0 0 / 14%), 0 3px 1px -2px rgb(0 0 0 / 12%), 0 1px 5px 0 rgb(0 0 0 / 20%);\n            font-family: Roboto, Helvetica, Arial, sans-serif;\n            font-weight: 500;\n            font-size: 12px;\n            line-height: 1.43;\n            letter-spacing: 0.01071em;\n            background-color: rgb(2, 136, 209);\n            display: flex;\n            padding: 6px 16px;\n            color: rgb(255, 255, 255);\n            margin-top: 10px;\n        }\n\n        .success {\n            background-color: #EDF7ED;\n            color: #1E4620;\n        }\n\n        .error {\n            background-color: #FDEDED;\n            color: #5F2120;\n        }\n\n        .info {\n            background-color: #E5F6FD;\n            color: #528298;\n        }\n\n        .warn {\n            background-color: #FFF4E5;\n            color: #663C00;\n        }\n\n        .margin-top-20 {\n            margin-top: 20px;\n        }\n\n        .hide {\n            display: none;\n        }\n\n        .pbtn {\n            display: inline-flex;\n            -webkit-box-align: center;\n            align-items: center;\n            -webkit-box-pack: center;\n            justify-content: center;\n            position: relative;\n            box-sizing: border-box;\n            -webkit-tap-highlight-color: transparent;\n            outline: 0px;\n            border: 0px;\n            margin: 0px;\n            cursor: pointer;\n            user-select: none;\n            vertical-align: middle;\n            appearance: none;\n            text-decoration: none;\n            font-family: Roboto, Helvetica, Arial, sans-serif;\n            font-weight: 550;\n            font-size: 12px;\n            line-height: 1.75;\n            letter-spacing: 0.02857em;\n            text-transform: uppercase;\n            min-width: 64px;\n            padding: 6px 16px;\n            border-radius: 4px;\n            transition: background-color 250ms cubic-bezier(0.4, 0, 0.2, 1) 0ms, box-shadow 250ms cubic-bezier(0.4, 0, 0.2, 1) 0ms, border-color 250ms cubic-bezier(0.4, 0, 0.2, 1) 0ms, color 250ms cubic-bezier(0.4, 0, 0.2, 1) 0ms;\n            color: rgb(255, 255, 255);\n            background-color: #D71E28;\n            box-shadow: rgb(0 0 0 / 20%) 0px 3px 1px -2px, rgb(0 0 0 / 14%) 0px 2px 2px 0px, rgb(0 0 0 / 12%) 0px 1px 5px 0px;\n        }\n\n        .jp-OutputArea-output {\n            flex-grow: 1;\n            flex-shrink: 1;\n            margin: 0px;\n        }\n\n        .output_subarea {\n            padding: 0px !important;\n        }\n\n        .ptable, .pth, .ptd {\n            border: none;\n        }\n\n        .pth, .ptd {\n            max-width: 150px;\n            white-space: nowrap;\n            overflow: hidden;\n            -o-text-overflow: ellipsis;\n            -ms-text-overflow: ellipsis;\n            text-overflow: ellipsis;\n        }\n\n        .ptable {\n            display: table;\n            border-collapse: collapse;\n            border-spacing: 0;\n        }\n\n        .ptable.striped .ptr {\n            border-bottom: none;\n        }\n\n        .ptable.striped > .ptbody > .ptr:nth-child(odd) {\n            background-color: rgba(242, 242, 242, 0.5);\n        }\n\n        .ptable.striped > .ptbody > .ptr > .ptd {\n            border-radius: 0;\n        }\n\n        .ptable.highlight > .ptbody > .ptr {\n            -webkit-transition: background-color .25s ease;\n            transition: background-color .25s ease;\n        }\n\n        .ptable.highlight > .ptbody > .ptr:hover {\n            background-color: rgba(242, 242, 242, 0.5);\n        }\n\n        .ptable.centered .pthead .ptr .pth, .ptable.centered .ptbody .ptr .ptd {\n            text-align: center;\n        }\n\n        .ptr {\n            border-bottom: 1px solid rgba(0, 0, 0, 0.12);\n        }\n\n        .ptr.hightlight {\n            background-color: yellow !important;\n        }\n\n        .ptd, .pth {\n            padding: 0.2rem 0.6rem;\n            display: table-cell;\n            text-align: right;\n            vertical-align: middle;\n            border-radius: 2px;\n            position: relative;\n        }\n\n        .ptr.grey {\n            background-color: grey !important;\n        }\n\n        .ptr.strikeout .ptd:before {\n            content: \" \";\n            position: absolute;\n            top: 50%;\n            left: 0;\n            border-bottom: 1px solid #111;\n            width: 100%;\n        }\n\n        .widget-toggle-button {\n            display: inline-flex;\n            -webkit-box-align: center;\n            align-items: center;\n            -webkit-box-pack: center;\n            justify-content: center;\n            box-sizing: border-box;\n            -webkit-tap-highlight-color: transparent;\n            background-color: transparent !important;\n            outline: 0px;\n            border: 0px;\n            border-bottom: 2px solid #E4E4E4 !important;\n            box-shadow: none !important;\n            margin: 0px !important;\n            border-radius: 0px;\n            cursor: pointer;\n            user-select: none;\n            vertical-align: middle;\n            appearance: none;\n            text-decoration: none;\n            font-family: Roboto, Helvetica, Arial, sans-serif;\n            font-weight: 500;\n            font-size: 14px;\n            line-height: 1.25;\n            letter-spacing: 0.02857em;\n            max-width: 360px;\n            min-width: 90px;\n            position: relative;\n            min-height: 48px;\n            flex-shrink: 0;\n            padding: 12px 16px;\n            overflow: hidden;\n            white-space: normal;\n            text-align: center;\n            flex-direction: column;\n            color: rgba(0, 0, 0, 0.6);\n        }\n\n        .narrow-accordion .jupyter-widget-Accordion-child .jupyter-widget-Collapse-header{\n            padding: 5px;\n        }  \n\n        .mod-active {\n            color: rgb(25, 118, 210) !important;\n            border-bottom: 2px solid rgb(25, 118, 210) !important;\n        }\n\n        .narrow-tab button {\n            max-width: 15%;\n        }\n\n        .narrow-tab-fairness button {\n            max-width: 20%;\n        }\n        .narrow-tab-fs button {\n            max-width: 25%;\n        }\n\n        .overflow-fix .jupyter-widgets {\n            overflow: auto;\n        }\n\n        .inner-padding {\n            padding-top: 20px;\n        }\n\n        .fix-img img {\n            width: 100%;\n        }\n\n        .fix-img-half img {\n            width: 50%;\n        }\n\n        .flex-reverse-for-update-button {\n            flex-direction: row-reverse;\n            margin-right: 50px;\n        }\n\n        .data-summary-tab {\n            max-height: 400px;\n        }\n\n        .restricted_table_height {\n            max-height: 450px\n        }\n\n        .input-width-with-parent .widget-dropdown {\n            width: 100%;\n        }\n\n        .input-width-with-parent .widget-text {\n            width: 100%;\n        }\n\n        .no-margin {\n            margin: 0px;\n        }\n\n        .widget-hprogress label {\n            text-align: left;\n        }\n\n        .widget-dropdown label {\n            margin-right: 10px;\n        }\n\n        .form .widget-dropdown {\n            width: auto;\n        }\n\n        .form .widget-text {\n            width: auto;\n        }\n\n        .form p {\n            margin: 0px;\n        }\n\n        .widget-dropdown {\n            white-space: nowrap;\n            overflow: hidden;\n            -o-text-overflow: ellipsis;\n            -ms-text-overflow: ellipsis;\n            text-overflow: ellipsis;\n        }\n\n        .progress-train label {\n            margin-right: 10px;\n        }\n\n        select {\n            height: 97% !important;\n        }\n\n        .no-overflow {\n            overflow: none;\n        }\n\n        .split-btn button {\n            margin-bottom: 2px;\n        }\n\n        .register-btn {\n            width: 50%\n        }\n\n        .register-btn-colab {\n            width: 40%\n        }\n\n        .fix-config-from-overflow .jp-OutputArea-child {\n            display: inherit;\n        }\n        \n        .checkbox-center input[type=\"checkbox\"] {\n            vertical-align: middle;\n        }\n\n        input[type=\"checkbox\"] {\n            vertical-align: middle;\n        }\n\n        </style>\n        "
      }
     },
     "0e96e777264d4c46af71254dac2f992e": {
      "model_module": "@jupyter-widgets/controls",
      "model_module_version": "1.5.0",
      "model_name": "BoxModel",
      "state": {
       "layout": "IPY_MODEL_7ab22e715f91439bb3fcb5b8e5ff4aa8"
      }
     },
     "0f43839e9f1b477aaf9122a7ead5bb6a": {
      "model_module": "@jupyter-widgets/base",
      "model_module_version": "1.2.0",
      "model_name": "LayoutModel",
      "state": {}
     },
     "0f43b5862b394012aa9d7695d4e1169e": {
      "model_module": "@jupyter-widgets/base",
      "model_module_version": "1.2.0",
      "model_name": "LayoutModel",
      "state": {
       "width": "14%"
      }
     },
     "0f75a35c473840909806d2d92c0cfd6f": {
      "model_module": "@jupyter-widgets/controls",
      "model_module_version": "1.5.0",
      "model_name": "DescriptionStyleModel",
      "state": {
       "description_width": ""
      }
     },
     "111c8541bc4a46b88e67193ba3116481": {
      "model_module": "@jupyter-widgets/base",
      "model_module_version": "1.2.0",
      "model_name": "LayoutModel",
      "state": {}
     },
     "1170834de2a74deeabd888c72d60d3c1": {
      "model_module": "@jupyter-widgets/controls",
      "model_module_version": "1.5.0",
      "model_name": "VBoxModel",
      "state": {
       "_dom_classes": [
        "card"
       ],
       "children": [
        "IPY_MODEL_d3aa1a0c62b3474f83d810a0a53ef1cb",
        "IPY_MODEL_8cebae385f914371937e7ccf2c61c356",
        "IPY_MODEL_06a082d3b92d4fac8845fd7e8d24a4dd",
        "IPY_MODEL_41eb2a2b7b104f8a8e1db3721e9ae9be",
        "IPY_MODEL_966bc59275e843e68c4d023e2195c780"
       ],
       "layout": "IPY_MODEL_9e201e2ee0dc4d48a9773a48704a2395"
      }
     },
     "1177e7e439854802ad72695c05ed4c4e": {
      "model_module": "@jupyter-widgets/controls",
      "model_module_version": "1.5.0",
      "model_name": "DescriptionStyleModel",
      "state": {
       "description_width": ""
      }
     },
     "11fe5bda63c1404ca2dc16791e805dab": {
      "model_module": "@jupyter-widgets/controls",
      "model_module_version": "1.5.0",
      "model_name": "HTMLModel",
      "state": {
       "layout": "IPY_MODEL_5262aeb36e8e4a4281d5810c01c6cee8",
       "style": "IPY_MODEL_3c8f1a886273466896a375c291f0fc25",
       "value": "<p class=\"notification info\">Excluded attribute \"season\"</p>"
      }
     },
     "12050075751144cc900d1cf6a032ba29": {
      "model_module": "@jupyter-widgets/base",
      "model_module_version": "1.2.0",
      "model_name": "LayoutModel",
      "state": {
       "width": "45%"
      }
     },
     "121d03d585ab4d2bbec37d909ab0242a": {
      "model_module": "@jupyter-widgets/controls",
      "model_module_version": "1.5.0",
      "model_name": "ButtonStyleModel",
      "state": {}
     },
     "121f39e2690e4d428a3018875e885551": {
      "model_module": "@jupyter-widgets/controls",
      "model_module_version": "1.5.0",
      "model_name": "HBoxModel",
      "state": {
       "children": [
        "IPY_MODEL_8bdd79a8f6f943ccbbdcb1a1f5f2d4d4",
        "IPY_MODEL_9391991b5c8549ccb7c798b3f658257d",
        "IPY_MODEL_ec342d68a3be4a39a5119419ced16e33",
        "IPY_MODEL_62f054da05ea47fe83a9ad14762276f0",
        "IPY_MODEL_53e42d169593411eb54eec455b57afb0"
       ],
       "layout": "IPY_MODEL_50aef39c4195414b9f6038dac1051232"
      }
     },
     "12f72cf1695b4682a3afa86b57591486": {
      "model_module": "@jupyter-widgets/base",
      "model_module_version": "1.2.0",
      "model_name": "LayoutModel",
      "state": {}
     },
     "12fce93575f04bf7ac53e502fe9f6ae0": {
      "model_module": "@jupyter-widgets/controls",
      "model_module_version": "1.5.0",
      "model_name": "DescriptionStyleModel",
      "state": {
       "description_width": ""
      }
     },
     "146af8477e734864b979dec64e374913": {
      "model_module": "@jupyter-widgets/base",
      "model_module_version": "1.2.0",
      "model_name": "LayoutModel",
      "state": {}
     },
     "148b86f8c9f74ef3881584cf426f0086": {
      "model_module": "@jupyter-widgets/controls",
      "model_module_version": "1.5.0",
      "model_name": "DescriptionStyleModel",
      "state": {
       "description_width": ""
      }
     },
     "14944652b9ef493987580deecc97da16": {
      "model_module": "@jupyter-widgets/controls",
      "model_module_version": "1.5.0",
      "model_name": "HTMLModel",
      "state": {
       "layout": "IPY_MODEL_fdb7cbf2e94c4603a33921ce1ec700d8",
       "style": "IPY_MODEL_46bc45d420c34de6b227f8e905fdae0f",
       "value": "<div style='margin-top: 5px'></div>"
      }
     },
     "14a796dbdc6a4c5a8a3d371dab8cf6e8": {
      "model_module": "@jupyter-widgets/controls",
      "model_module_version": "1.5.0",
      "model_name": "DescriptionStyleModel",
      "state": {
       "description_width": ""
      }
     },
     "153fc07271434d5cbd0431c4534de949": {
      "model_module": "@jupyter-widgets/controls",
      "model_module_version": "1.5.0",
      "model_name": "ButtonStyleModel",
      "state": {}
     },
     "1551851633f24abc954f0da0cfdcff20": {
      "model_module": "@jupyter-widgets/base",
      "model_module_version": "1.2.0",
      "model_name": "LayoutModel",
      "state": {}
     },
     "15a6be935b0f49a49193718bb3dcf1d7": {
      "model_module": "@jupyter-widgets/controls",
      "model_module_version": "1.5.0",
      "model_name": "TabModel",
      "state": {
       "_dom_classes": [
        "data-summary-tab"
       ],
       "_titles": {
        "0": "Numerical Attributes",
        "1": "Categorical Attributes"
       },
       "children": [
        "IPY_MODEL_b248b3f5101342fba11445dd6644f8b7",
        "IPY_MODEL_05c8aa2576234cb4a8ec39446cdf00a1"
       ],
       "layout": "IPY_MODEL_21e8363a8d3049818d95939e3cbf7555"
      }
     },
     "1695222f5c9242c8be8e9bea26bb30e4": {
      "model_module": "@jupyter-widgets/controls",
      "model_module_version": "1.5.0",
      "model_name": "HTMLModel",
      "state": {
       "layout": "IPY_MODEL_f1c4cf3ddbf24039bb26d81d81456f8e",
       "style": "IPY_MODEL_5f700e2e07e747acafa0b52e9db69138",
       "value": "<p>Random Seed:</p>"
      }
     },
     "16f70ecd707547f18f651e474c0fbe6b": {
      "model_module": "@jupyter-widgets/controls",
      "model_module_version": "1.5.0",
      "model_name": "HTMLModel",
      "state": {
       "layout": "IPY_MODEL_87a7c048edbe4bd1a2e6cbbb33391459",
       "style": "IPY_MODEL_d090bd714de94716bc4f3f7b2b44b4df",
       "value": "\n        <style>\n\n        .left-label {\n            width: 30%;\n        }\n\n        .card-panel {\n            -webkit-transition: -webkit-box-shadow .25s;\n            transition: -webkit-box-shadow .25s;\n            transition: box-shadow .25s;\n            transition: box-shadow .25s, -webkit-box-shadow .25s;\n            padding: 24px;\n            margin: 0.5rem 0 1rem 0;\n            border-radius: 2px;\n            background-color: #fff;\n        }\n\n        .card {\n            position: relative;\n            margin: 0.5rem 0.1rem 1rem 0.2rem;\n            background-color: #fff;\n            -webkit-transition: -webkit-box-shadow .25s;\n            transition: -webkit-box-shadow .25s;\n            transition: box-shadow .25s;\n            transition: box-shadow .25s, -webkit-box-shadow .25s;\n            border-radius: 2px;\n            box-shadow: 0 2px 2px 0 rgb(0 0 0 / 14%), 0 3px 1px -2px rgb(0 0 0 / 12%), 0 1px 5px 0 rgb(0 0 0 / 20%);\n            padding: 24px;\n            color: white;\n        }\n\n        .card .card-title {\n            font-size: 24px;\n            font-weight: 300;\n        }\n\n        @media only screen and (min-width: 800px) {\n            /* For notebook: */\n            .card {width: 99% !important;}\n        }\n\n        @media only screen and (min-width: 1400px) {\n            /* For colab: */\n            .card {width: 99% !important;}\n        }\n\n        .blue-grey.darken-1 {\n            background-color: #546e7a !important;\n        }\n\n        .small-card {\n            position: relative;\n            margin: 0.5rem 0 1rem 0;\n            background-color: #fff;\n            -webkit-transition: -webkit-box-shadow .25s;\n            transition: -webkit-box-shadow .25s;\n            transition: box-shadow .25s;\n            transition: box-shadow .25s, -webkit-box-shadow .25s;\n            border-radius: 2px;\n            box-shadow: 0 2px 2px 0 rgb(0 0 0 / 14%), 0 3px 1px -2px rgb(0 0 0 / 12%), 0 1px 5px 0 rgb(0 0 0 / 20%);\n            padding: 0px 5px 0px 5px;\n            color: white;\n        }\n\n        .inner-card {\n            position: relative;\n            background-color: #fff;\n            -webkit-transition: -webkit-box-shadow .25s;\n            transition: -webkit-box-shadow .25s;\n            transition: box-shadow .25s;\n            transition: box-shadow .25s, -webkit-box-shadow .25s;\n            border-radius: 2px;\n            box-shadow: 0 2px 2px 0 rgb(0 0 0 / 14%), 0 3px 1px -2px rgb(0 0 0 / 12%), 0 1px 5px 0 rgb(0 0 0 / 20%);\n            padding: 20px;\n            color: white;\n            margin: 0px 1px 1px 1px;\n        }\n\n        .card-with-tab {\n            position: relative;\n            margin: 0.5rem 0.1rem 1rem 0.2rem;\n            background-color: #fff;\n            -webkit-transition: -webkit-box-shadow .25s;\n            transition: -webkit-box-shadow .25s;\n            transition: box-shadow .25s;\n            transition: box-shadow .25s, -webkit-box-shadow .25s;\n            border-radius: 2px;\n            box-shadow: 0 2px 2px 0 rgb(0 0 0 / 14%), 0 3px 1px -2px rgb(0 0 0 / 12%), 0 1px 5px 0 rgb(0 0 0 / 20%);\n            padding: 24px;\n            color: white;\n        }\n\n        .card-with-tab button {\n            width: auto;\n            padding: 12px 40px;\n        }\n\n        .list {\n            padding: 0px 10px;\n            box-shadow: 0 2px 2px 0 rgb(0 0 0 / 14%), 0 3px 1px -2px rgb(0 0 0 / 12%), 0 1px 5px 0 rgb(0 0 0 / 20%);\n            margin: 0px 1px 60px 1px;\n        }\n\n        .list-item {\n            padding: 10px 0px;\n            border-width: 0;\n            border-style: solid;\n            border-color: rgba(0, 0, 0, 0.08);\n            border-bottom-width: thin;\n        }\n\n        .divider {\n            margin: 10px 0px;\n            border-width: 0;\n            border-style: solid;\n            border-color: rgba(0, 0, 0, 0.08);\n            border-bottom-width: thin;\n        }\n\n        .hr {\n            margin: 0;\n            -webkit-flex-shrink: 0;\n            -ms-flex-negative: 0;\n            flex-shrink: 0;\n            border-width: 0;\n            border-style: solid;\n            border-color: rgba(0, 0, 0, 0.08);\n            border-bottom-width: thin;\n        }\n\n        .notification {\n            transition: box-shadow 300ms cubic-bezier(0.4, 0, 0.2, 1) 0ms;\n            border-radius: 4px;\n            box-shadow: 0 2px 2px 0 rgb(0 0 0 / 14%), 0 3px 1px -2px rgb(0 0 0 / 12%), 0 1px 5px 0 rgb(0 0 0 / 20%);\n            font-family: Roboto, Helvetica, Arial, sans-serif;\n            font-weight: 500;\n            font-size: 12px;\n            line-height: 1.43;\n            letter-spacing: 0.01071em;\n            background-color: rgb(2, 136, 209);\n            display: flex;\n            padding: 6px 16px;\n            color: rgb(255, 255, 255);\n            margin-top: 10px;\n        }\n\n        .success {\n            background-color: #EDF7ED;\n            color: #1E4620;\n        }\n\n        .error {\n            background-color: #FDEDED;\n            color: #5F2120;\n        }\n\n        .info {\n            background-color: #E5F6FD;\n            color: #528298;\n        }\n\n        .warn {\n            background-color: #FFF4E5;\n            color: #663C00;\n        }\n\n        .margin-top-20 {\n            margin-top: 20px;\n        }\n\n        .hide {\n            display: none;\n        }\n\n        .pbtn {\n            display: inline-flex;\n            -webkit-box-align: center;\n            align-items: center;\n            -webkit-box-pack: center;\n            justify-content: center;\n            position: relative;\n            box-sizing: border-box;\n            -webkit-tap-highlight-color: transparent;\n            outline: 0px;\n            border: 0px;\n            margin: 0px;\n            cursor: pointer;\n            user-select: none;\n            vertical-align: middle;\n            appearance: none;\n            text-decoration: none;\n            font-family: Roboto, Helvetica, Arial, sans-serif;\n            font-weight: 550;\n            font-size: 12px;\n            line-height: 1.75;\n            letter-spacing: 0.02857em;\n            text-transform: uppercase;\n            min-width: 64px;\n            padding: 6px 16px;\n            border-radius: 4px;\n            transition: background-color 250ms cubic-bezier(0.4, 0, 0.2, 1) 0ms, box-shadow 250ms cubic-bezier(0.4, 0, 0.2, 1) 0ms, border-color 250ms cubic-bezier(0.4, 0, 0.2, 1) 0ms, color 250ms cubic-bezier(0.4, 0, 0.2, 1) 0ms;\n            color: rgb(255, 255, 255);\n            background-color: #D71E28;\n            box-shadow: rgb(0 0 0 / 20%) 0px 3px 1px -2px, rgb(0 0 0 / 14%) 0px 2px 2px 0px, rgb(0 0 0 / 12%) 0px 1px 5px 0px;\n        }\n\n        .jp-OutputArea-output {\n            flex-grow: 1;\n            flex-shrink: 1;\n            margin: 0px;\n        }\n\n        .output_subarea {\n            padding: 0px !important;\n        }\n\n        .ptable, .pth, .ptd {\n            border: none;\n        }\n\n        .pth, .ptd {\n            max-width: 150px;\n            white-space: nowrap;\n            overflow: hidden;\n            -o-text-overflow: ellipsis;\n            -ms-text-overflow: ellipsis;\n            text-overflow: ellipsis;\n        }\n\n        .ptable {\n            display: table;\n            border-collapse: collapse;\n            border-spacing: 0;\n        }\n\n        .ptable.striped .ptr {\n            border-bottom: none;\n        }\n\n        .ptable.striped > .ptbody > .ptr:nth-child(odd) {\n            background-color: rgba(242, 242, 242, 0.5);\n        }\n\n        .ptable.striped > .ptbody > .ptr > .ptd {\n            border-radius: 0;\n        }\n\n        .ptable.highlight > .ptbody > .ptr {\n            -webkit-transition: background-color .25s ease;\n            transition: background-color .25s ease;\n        }\n\n        .ptable.highlight > .ptbody > .ptr:hover {\n            background-color: rgba(242, 242, 242, 0.5);\n        }\n\n        .ptable.centered .pthead .ptr .pth, .ptable.centered .ptbody .ptr .ptd {\n            text-align: center;\n        }\n\n        .ptr {\n            border-bottom: 1px solid rgba(0, 0, 0, 0.12);\n        }\n\n        .ptr.hightlight {\n            background-color: yellow !important;\n        }\n\n        .ptd, .pth {\n            padding: 0.2rem 0.6rem;\n            display: table-cell;\n            text-align: right;\n            vertical-align: middle;\n            border-radius: 2px;\n            position: relative;\n        }\n\n        .ptr.grey {\n            background-color: grey !important;\n        }\n\n        .ptr.strikeout .ptd:before {\n            content: \" \";\n            position: absolute;\n            top: 50%;\n            left: 0;\n            border-bottom: 1px solid #111;\n            width: 100%;\n        }\n\n        .widget-toggle-button {\n            display: inline-flex;\n            -webkit-box-align: center;\n            align-items: center;\n            -webkit-box-pack: center;\n            justify-content: center;\n            box-sizing: border-box;\n            -webkit-tap-highlight-color: transparent;\n            background-color: transparent !important;\n            outline: 0px;\n            border: 0px;\n            border-bottom: 2px solid #E4E4E4 !important;\n            box-shadow: none !important;\n            margin: 0px !important;\n            border-radius: 0px;\n            cursor: pointer;\n            user-select: none;\n            vertical-align: middle;\n            appearance: none;\n            text-decoration: none;\n            font-family: Roboto, Helvetica, Arial, sans-serif;\n            font-weight: 500;\n            font-size: 14px;\n            line-height: 1.25;\n            letter-spacing: 0.02857em;\n            max-width: 360px;\n            min-width: 90px;\n            position: relative;\n            min-height: 48px;\n            flex-shrink: 0;\n            padding: 12px 16px;\n            overflow: hidden;\n            white-space: normal;\n            text-align: center;\n            flex-direction: column;\n            color: rgba(0, 0, 0, 0.6);\n        }\n\n        .narrow-accordion .jupyter-widget-Accordion-child .jupyter-widget-Collapse-header{\n            padding: 5px;\n        }  \n\n        .mod-active {\n            color: rgb(25, 118, 210) !important;\n            border-bottom: 2px solid rgb(25, 118, 210) !important;\n        }\n\n        .narrow-tab button {\n            max-width: 15%;\n        }\n\n        .narrow-tab-fairness button {\n            max-width: 20%;\n        }\n        .narrow-tab-fs button {\n            max-width: 25%;\n        }\n\n        .overflow-fix .jupyter-widgets {\n            overflow: auto;\n        }\n\n        .inner-padding {\n            padding-top: 20px;\n        }\n\n        .fix-img img {\n            width: 100%;\n        }\n\n        .fix-img-half img {\n            width: 50%;\n        }\n\n        .flex-reverse-for-update-button {\n            flex-direction: row-reverse;\n            margin-right: 50px;\n        }\n\n        .data-summary-tab {\n            max-height: 400px;\n        }\n\n        .restricted_table_height {\n            max-height: 450px\n        }\n\n        .input-width-with-parent .widget-dropdown {\n            width: 100%;\n        }\n\n        .input-width-with-parent .widget-text {\n            width: 100%;\n        }\n\n        .no-margin {\n            margin: 0px;\n        }\n\n        .widget-hprogress label {\n            text-align: left;\n        }\n\n        .widget-dropdown label {\n            margin-right: 10px;\n        }\n\n        .form .widget-dropdown {\n            width: auto;\n        }\n\n        .form .widget-text {\n            width: auto;\n        }\n\n        .form p {\n            margin: 0px;\n        }\n\n        .widget-dropdown {\n            white-space: nowrap;\n            overflow: hidden;\n            -o-text-overflow: ellipsis;\n            -ms-text-overflow: ellipsis;\n            text-overflow: ellipsis;\n        }\n\n        .progress-train label {\n            margin-right: 10px;\n        }\n\n        select {\n            height: 97% !important;\n        }\n\n        .no-overflow {\n            overflow: none;\n        }\n\n        .split-btn button {\n            margin-bottom: 2px;\n        }\n\n        .register-btn {\n            width: 50%\n        }\n\n        .register-btn-colab {\n            width: 40%\n        }\n\n        .fix-config-from-overflow .jp-OutputArea-child {\n            display: inherit;\n        }\n        \n        .checkbox-center input[type=\"checkbox\"] {\n            vertical-align: middle;\n        }\n\n        input[type=\"checkbox\"] {\n            vertical-align: middle;\n        }\n\n        </style>\n        "
      }
     },
     "17aef2bb01124114b550a001354af9db": {
      "model_module": "@jupyter-widgets/base",
      "model_module_version": "1.2.0",
      "model_name": "LayoutModel",
      "state": {
       "width": "20%"
      }
     },
     "1826b78dace847a1ab783cc89976ad37": {
      "model_module": "@jupyter-widgets/base",
      "model_module_version": "1.2.0",
      "model_name": "LayoutModel",
      "state": {}
     },
     "197ccaaebd8846d097b0003111de0912": {
      "model_module": "@jupyter-widgets/base",
      "model_module_version": "1.2.0",
      "model_name": "LayoutModel",
      "state": {}
     },
     "19f8f9bceccd4fbf81690018029a8f97": {
      "model_module": "@jupyter-widgets/controls",
      "model_module_version": "1.5.0",
      "model_name": "DescriptionStyleModel",
      "state": {
       "description_width": ""
      }
     },
     "1abfc60b9fec497d9a8ae7d1f029e35b": {
      "model_module": "@jupyter-widgets/base",
      "model_module_version": "1.2.0",
      "model_name": "LayoutModel",
      "state": {}
     },
     "1afe05a2c21049138dc520b093d69efa": {
      "model_module": "@jupyter-widgets/controls",
      "model_module_version": "1.5.0",
      "model_name": "VBoxModel",
      "state": {
       "children": [
        "IPY_MODEL_d5cc789cb5a54712bba56ad6ce874c0a",
        "IPY_MODEL_1695222f5c9242c8be8e9bea26bb30e4"
       ],
       "layout": "IPY_MODEL_35c093fc197f422a9e34416754f1b4ea"
      }
     },
     "1bdea33455d44bccba79055afa847b50": {
      "model_module": "@jupyter-widgets/controls",
      "model_module_version": "1.5.0",
      "model_name": "DescriptionStyleModel",
      "state": {
       "description_width": ""
      }
     },
     "1c3fe65bcbc54dafa1d553e4d4aa9895": {
      "model_module": "@jupyter-widgets/controls",
      "model_module_version": "1.5.0",
      "model_name": "HTMLModel",
      "state": {
       "layout": "IPY_MODEL_6a085f86191141dfb8939b87fa62c681",
       "style": "IPY_MODEL_3ff3b10b66344e8594a2b99424f85c51",
       "value": "\n        <table class='ptable striped'>\n            <thead class='pthead'>\n                <tr class='ptr'>\n                    <th class='pth'></th><th class='pth'>name</th><th class='pth'>n_missing</th><th class='pth'>n_unique</th><th class='pth'>top1</th><th class='pth'>top2</th><th class='pth'>top3</th><th class='pth'>n_others</th>\n                </tr>\n            </thead>\n\n            <tbody class='ptbody'>\n                <tr class='ptr'><td class='ptd'>0</td><td class='ptd'>season</td><td class='ptd'>0</td><td class='ptd'>4</td><td class='ptd'>3.0 : 4496</td><td class='ptd'>2.0 : 4409</td><td class='ptd'>1.0 : 4242</td><td class='ptd'>4232</td></tr><tr class='ptr'><td class='ptd'>1</td><td class='ptd'>yr</td><td class='ptd'>0</td><td class='ptd'>2</td><td class='ptd'>1.0 : 8734</td><td class='ptd'>0.0 : 8645</td><td class='ptd'>0</td><td class='ptd'>0</td></tr><tr class='ptr'><td class='ptd'>2</td><td class='ptd'>holiday</td><td class='ptd'>0</td><td class='ptd'>2</td><td class='ptd'>0.0 : 16879</td><td class='ptd'>1.0 : 500</td><td class='ptd'>0</td><td class='ptd'>0</td></tr><tr class='ptr'><td class='ptd'>3</td><td class='ptd'>workingday</td><td class='ptd'>0</td><td class='ptd'>2</td><td class='ptd'>1.0 : 11865</td><td class='ptd'>0.0 : 5514</td><td class='ptd'>0</td><td class='ptd'>0</td></tr><tr class='ptr'><td class='ptd'>4</td><td class='ptd'>weathersit</td><td class='ptd'>0</td><td class='ptd'>4</td><td class='ptd'>1.0 : 11413</td><td class='ptd'>2.0 : 4544</td><td class='ptd'>3.0 : 1419</td><td class='ptd'>3</td></tr>\n            </tbody>\n        </table>\n        "
      }
     },
     "1c72bf89266a46458f862f78cc19fd3a": {
      "model_module": "@jupyter-widgets/controls",
      "model_module_version": "1.5.0",
      "model_name": "DescriptionStyleModel",
      "state": {
       "description_width": ""
      }
     },
     "1cd7f8bc71674f6086b6c0d623731d83": {
      "model_module": "@jupyter-widgets/controls",
      "model_module_version": "1.5.0",
      "model_name": "DescriptionStyleModel",
      "state": {
       "description_width": ""
      }
     },
     "1de03d4dd8244e6db5ecc949c4e77503": {
      "model_module": "@jupyter-widgets/controls",
      "model_module_version": "1.5.0",
      "model_name": "DescriptionStyleModel",
      "state": {
       "description_width": ""
      }
     },
     "1e976f7a1fde46198df70654aedb6ec1": {
      "model_module": "@jupyter-widgets/controls",
      "model_module_version": "1.5.0",
      "model_name": "DropdownModel",
      "state": {
       "_options_labels": [
        "Classification",
        "Regression"
       ],
       "index": 1,
       "layout": "IPY_MODEL_a66fdc1eb13c4a9d9e091c5d9e127b60",
       "style": "IPY_MODEL_0787447fdcab4928b9817ae639397913"
      }
     },
     "1eabd406ecfd417cadd68f3e1911b131": {
      "model_module": "@jupyter-widgets/controls",
      "model_module_version": "1.5.0",
      "model_name": "DropdownModel",
      "state": {
       "_options_labels": [
        "Select",
        "season",
        "yr",
        "mnth",
        "hr",
        "holiday",
        "weekday",
        "workingday",
        "weathersit",
        "temp",
        "atemp",
        "hum",
        "windspeed",
        "cnt"
       ],
       "index": 0,
       "layout": "IPY_MODEL_c594d9d13bfd4056a6388d7e19c3c8c8",
       "style": "IPY_MODEL_a4a81f95fa884f90b34859e8d296b15b"
      }
     },
     "1f787e858bb249c09cc7ece6342c68c7": {
      "model_module": "@jupyter-widgets/controls",
      "model_module_version": "1.5.0",
      "model_name": "DescriptionStyleModel",
      "state": {
       "description_width": ""
      }
     },
     "1fb2f0c79de64f06bfa5a89873512ca9": {
      "model_module": "@jupyter-widgets/controls",
      "model_module_version": "1.5.0",
      "model_name": "HTMLModel",
      "state": {
       "layout": "IPY_MODEL_fa64b8132d2f44fea0e05810a78c71aa",
       "style": "IPY_MODEL_cff3f7eee0454e5ca8358f395badaaf3",
       "value": "\n        <style>\n\n        .left-label {\n            width: 30%;\n        }\n\n        .card-panel {\n            -webkit-transition: -webkit-box-shadow .25s;\n            transition: -webkit-box-shadow .25s;\n            transition: box-shadow .25s;\n            transition: box-shadow .25s, -webkit-box-shadow .25s;\n            padding: 24px;\n            margin: 0.5rem 0 1rem 0;\n            border-radius: 2px;\n            background-color: #fff;\n        }\n\n        .card {\n            position: relative;\n            margin: 0.5rem 0.1rem 1rem 0.2rem;\n            background-color: #fff;\n            -webkit-transition: -webkit-box-shadow .25s;\n            transition: -webkit-box-shadow .25s;\n            transition: box-shadow .25s;\n            transition: box-shadow .25s, -webkit-box-shadow .25s;\n            border-radius: 2px;\n            box-shadow: 0 2px 2px 0 rgb(0 0 0 / 14%), 0 3px 1px -2px rgb(0 0 0 / 12%), 0 1px 5px 0 rgb(0 0 0 / 20%);\n            padding: 24px;\n            color: white;\n        }\n\n        .card .card-title {\n            font-size: 24px;\n            font-weight: 300;\n        }\n\n        @media only screen and (min-width: 800px) {\n            /* For notebook: */\n            .card {width: 99% !important;}\n        }\n\n        @media only screen and (min-width: 1400px) {\n            /* For colab: */\n            .card {width: 99% !important;}\n        }\n\n        .blue-grey.darken-1 {\n            background-color: #546e7a !important;\n        }\n\n        .small-card {\n            position: relative;\n            margin: 0.5rem 0 1rem 0;\n            background-color: #fff;\n            -webkit-transition: -webkit-box-shadow .25s;\n            transition: -webkit-box-shadow .25s;\n            transition: box-shadow .25s;\n            transition: box-shadow .25s, -webkit-box-shadow .25s;\n            border-radius: 2px;\n            box-shadow: 0 2px 2px 0 rgb(0 0 0 / 14%), 0 3px 1px -2px rgb(0 0 0 / 12%), 0 1px 5px 0 rgb(0 0 0 / 20%);\n            padding: 0px 5px 0px 5px;\n            color: white;\n        }\n\n        .inner-card {\n            position: relative;\n            background-color: #fff;\n            -webkit-transition: -webkit-box-shadow .25s;\n            transition: -webkit-box-shadow .25s;\n            transition: box-shadow .25s;\n            transition: box-shadow .25s, -webkit-box-shadow .25s;\n            border-radius: 2px;\n            box-shadow: 0 2px 2px 0 rgb(0 0 0 / 14%), 0 3px 1px -2px rgb(0 0 0 / 12%), 0 1px 5px 0 rgb(0 0 0 / 20%);\n            padding: 20px;\n            color: white;\n            margin: 0px 1px 1px 1px;\n        }\n\n        .card-with-tab {\n            position: relative;\n            margin: 0.5rem 0.1rem 1rem 0.2rem;\n            background-color: #fff;\n            -webkit-transition: -webkit-box-shadow .25s;\n            transition: -webkit-box-shadow .25s;\n            transition: box-shadow .25s;\n            transition: box-shadow .25s, -webkit-box-shadow .25s;\n            border-radius: 2px;\n            box-shadow: 0 2px 2px 0 rgb(0 0 0 / 14%), 0 3px 1px -2px rgb(0 0 0 / 12%), 0 1px 5px 0 rgb(0 0 0 / 20%);\n            padding: 24px;\n            color: white;\n        }\n\n        .card-with-tab button {\n            width: auto;\n            padding: 12px 40px;\n        }\n\n        .list {\n            padding: 0px 10px;\n            box-shadow: 0 2px 2px 0 rgb(0 0 0 / 14%), 0 3px 1px -2px rgb(0 0 0 / 12%), 0 1px 5px 0 rgb(0 0 0 / 20%);\n            margin: 0px 1px 60px 1px;\n        }\n\n        .list-item {\n            padding: 10px 0px;\n            border-width: 0;\n            border-style: solid;\n            border-color: rgba(0, 0, 0, 0.08);\n            border-bottom-width: thin;\n        }\n\n        .divider {\n            margin: 10px 0px;\n            border-width: 0;\n            border-style: solid;\n            border-color: rgba(0, 0, 0, 0.08);\n            border-bottom-width: thin;\n        }\n\n        .hr {\n            margin: 0;\n            -webkit-flex-shrink: 0;\n            -ms-flex-negative: 0;\n            flex-shrink: 0;\n            border-width: 0;\n            border-style: solid;\n            border-color: rgba(0, 0, 0, 0.08);\n            border-bottom-width: thin;\n        }\n\n        .notification {\n            transition: box-shadow 300ms cubic-bezier(0.4, 0, 0.2, 1) 0ms;\n            border-radius: 4px;\n            box-shadow: 0 2px 2px 0 rgb(0 0 0 / 14%), 0 3px 1px -2px rgb(0 0 0 / 12%), 0 1px 5px 0 rgb(0 0 0 / 20%);\n            font-family: Roboto, Helvetica, Arial, sans-serif;\n            font-weight: 500;\n            font-size: 12px;\n            line-height: 1.43;\n            letter-spacing: 0.01071em;\n            background-color: rgb(2, 136, 209);\n            display: flex;\n            padding: 6px 16px;\n            color: rgb(255, 255, 255);\n            margin-top: 10px;\n        }\n\n        .success {\n            background-color: #EDF7ED;\n            color: #1E4620;\n        }\n\n        .error {\n            background-color: #FDEDED;\n            color: #5F2120;\n        }\n\n        .info {\n            background-color: #E5F6FD;\n            color: #528298;\n        }\n\n        .warn {\n            background-color: #FFF4E5;\n            color: #663C00;\n        }\n\n        .margin-top-20 {\n            margin-top: 20px;\n        }\n\n        .hide {\n            display: none;\n        }\n\n        .pbtn {\n            display: inline-flex;\n            -webkit-box-align: center;\n            align-items: center;\n            -webkit-box-pack: center;\n            justify-content: center;\n            position: relative;\n            box-sizing: border-box;\n            -webkit-tap-highlight-color: transparent;\n            outline: 0px;\n            border: 0px;\n            margin: 0px;\n            cursor: pointer;\n            user-select: none;\n            vertical-align: middle;\n            appearance: none;\n            text-decoration: none;\n            font-family: Roboto, Helvetica, Arial, sans-serif;\n            font-weight: 550;\n            font-size: 12px;\n            line-height: 1.75;\n            letter-spacing: 0.02857em;\n            text-transform: uppercase;\n            min-width: 64px;\n            padding: 6px 16px;\n            border-radius: 4px;\n            transition: background-color 250ms cubic-bezier(0.4, 0, 0.2, 1) 0ms, box-shadow 250ms cubic-bezier(0.4, 0, 0.2, 1) 0ms, border-color 250ms cubic-bezier(0.4, 0, 0.2, 1) 0ms, color 250ms cubic-bezier(0.4, 0, 0.2, 1) 0ms;\n            color: rgb(255, 255, 255);\n            background-color: #D71E28;\n            box-shadow: rgb(0 0 0 / 20%) 0px 3px 1px -2px, rgb(0 0 0 / 14%) 0px 2px 2px 0px, rgb(0 0 0 / 12%) 0px 1px 5px 0px;\n        }\n\n        .jp-OutputArea-output {\n            flex-grow: 1;\n            flex-shrink: 1;\n            margin: 0px;\n        }\n\n        .output_subarea {\n            padding: 0px !important;\n        }\n\n        .ptable, .pth, .ptd {\n            border: none;\n        }\n\n        .pth, .ptd {\n            max-width: 150px;\n            white-space: nowrap;\n            overflow: hidden;\n            -o-text-overflow: ellipsis;\n            -ms-text-overflow: ellipsis;\n            text-overflow: ellipsis;\n        }\n\n        .ptable {\n            display: table;\n            border-collapse: collapse;\n            border-spacing: 0;\n        }\n\n        .ptable.striped .ptr {\n            border-bottom: none;\n        }\n\n        .ptable.striped > .ptbody > .ptr:nth-child(odd) {\n            background-color: rgba(242, 242, 242, 0.5);\n        }\n\n        .ptable.striped > .ptbody > .ptr > .ptd {\n            border-radius: 0;\n        }\n\n        .ptable.highlight > .ptbody > .ptr {\n            -webkit-transition: background-color .25s ease;\n            transition: background-color .25s ease;\n        }\n\n        .ptable.highlight > .ptbody > .ptr:hover {\n            background-color: rgba(242, 242, 242, 0.5);\n        }\n\n        .ptable.centered .pthead .ptr .pth, .ptable.centered .ptbody .ptr .ptd {\n            text-align: center;\n        }\n\n        .ptr {\n            border-bottom: 1px solid rgba(0, 0, 0, 0.12);\n        }\n\n        .ptr.hightlight {\n            background-color: yellow !important;\n        }\n\n        .ptd, .pth {\n            padding: 0.2rem 0.6rem;\n            display: table-cell;\n            text-align: right;\n            vertical-align: middle;\n            border-radius: 2px;\n            position: relative;\n        }\n\n        .ptr.grey {\n            background-color: grey !important;\n        }\n\n        .ptr.strikeout .ptd:before {\n            content: \" \";\n            position: absolute;\n            top: 50%;\n            left: 0;\n            border-bottom: 1px solid #111;\n            width: 100%;\n        }\n\n        .widget-toggle-button {\n            display: inline-flex;\n            -webkit-box-align: center;\n            align-items: center;\n            -webkit-box-pack: center;\n            justify-content: center;\n            box-sizing: border-box;\n            -webkit-tap-highlight-color: transparent;\n            background-color: transparent !important;\n            outline: 0px;\n            border: 0px;\n            border-bottom: 2px solid #E4E4E4 !important;\n            box-shadow: none !important;\n            margin: 0px !important;\n            border-radius: 0px;\n            cursor: pointer;\n            user-select: none;\n            vertical-align: middle;\n            appearance: none;\n            text-decoration: none;\n            font-family: Roboto, Helvetica, Arial, sans-serif;\n            font-weight: 500;\n            font-size: 14px;\n            line-height: 1.25;\n            letter-spacing: 0.02857em;\n            max-width: 360px;\n            min-width: 90px;\n            position: relative;\n            min-height: 48px;\n            flex-shrink: 0;\n            padding: 12px 16px;\n            overflow: hidden;\n            white-space: normal;\n            text-align: center;\n            flex-direction: column;\n            color: rgba(0, 0, 0, 0.6);\n        }\n\n        .narrow-accordion .jupyter-widget-Accordion-child .jupyter-widget-Collapse-header{\n            padding: 5px;\n        }  \n\n        .mod-active {\n            color: rgb(25, 118, 210) !important;\n            border-bottom: 2px solid rgb(25, 118, 210) !important;\n        }\n\n        .narrow-tab button {\n            max-width: 15%;\n        }\n\n        .narrow-tab-fairness button {\n            max-width: 20%;\n        }\n        .narrow-tab-fs button {\n            max-width: 25%;\n        }\n\n        .overflow-fix .jupyter-widgets {\n            overflow: auto;\n        }\n\n        .inner-padding {\n            padding-top: 20px;\n        }\n\n        .fix-img img {\n            width: 100%;\n        }\n\n        .fix-img-half img {\n            width: 50%;\n        }\n\n        .flex-reverse-for-update-button {\n            flex-direction: row-reverse;\n            margin-right: 50px;\n        }\n\n        .data-summary-tab {\n            max-height: 400px;\n        }\n\n        .restricted_table_height {\n            max-height: 450px\n        }\n\n        .input-width-with-parent .widget-dropdown {\n            width: 100%;\n        }\n\n        .input-width-with-parent .widget-text {\n            width: 100%;\n        }\n\n        .no-margin {\n            margin: 0px;\n        }\n\n        .widget-hprogress label {\n            text-align: left;\n        }\n\n        .widget-dropdown label {\n            margin-right: 10px;\n        }\n\n        .form .widget-dropdown {\n            width: auto;\n        }\n\n        .form .widget-text {\n            width: auto;\n        }\n\n        .form p {\n            margin: 0px;\n        }\n\n        .widget-dropdown {\n            white-space: nowrap;\n            overflow: hidden;\n            -o-text-overflow: ellipsis;\n            -ms-text-overflow: ellipsis;\n            text-overflow: ellipsis;\n        }\n\n        .progress-train label {\n            margin-right: 10px;\n        }\n\n        select {\n            height: 97% !important;\n        }\n\n        .no-overflow {\n            overflow: none;\n        }\n\n        .split-btn button {\n            margin-bottom: 2px;\n        }\n\n        .register-btn {\n            width: 50%\n        }\n\n        .register-btn-colab {\n            width: 40%\n        }\n\n        .fix-config-from-overflow .jp-OutputArea-child {\n            display: inherit;\n        }\n        \n        .checkbox-center input[type=\"checkbox\"] {\n            vertical-align: middle;\n        }\n\n        input[type=\"checkbox\"] {\n            vertical-align: middle;\n        }\n\n        </style>\n        "
      }
     },
     "1ffa9dbc633c409d9643bffc5b5eda0d": {
      "model_module": "@jupyter-widgets/controls",
      "model_module_version": "1.5.0",
      "model_name": "DescriptionStyleModel",
      "state": {
       "description_width": ""
      }
     },
     "20d1cfc8111242e7aeb77aad543ca70f": {
      "model_module": "@jupyter-widgets/base",
      "model_module_version": "1.2.0",
      "model_name": "LayoutModel",
      "state": {
       "width": "120px"
      }
     },
     "21e8363a8d3049818d95939e3cbf7555": {
      "model_module": "@jupyter-widgets/base",
      "model_module_version": "1.2.0",
      "model_name": "LayoutModel",
      "state": {}
     },
     "21ee11a32acd4dbe8665e98b176a6630": {
      "model_module": "@jupyter-widgets/base",
      "model_module_version": "1.2.0",
      "model_name": "LayoutModel",
      "state": {
       "width": "20%"
      }
     },
     "21f6f489f6ed46b79836a96b04fb43d8": {
      "model_module": "@jupyter-widgets/controls",
      "model_module_version": "1.5.0",
      "model_name": "DescriptionStyleModel",
      "state": {
       "description_width": ""
      }
     },
     "2301e375702d4d868301f835d2daff78": {
      "model_module": "@jupyter-widgets/controls",
      "model_module_version": "1.5.0",
      "model_name": "DescriptionStyleModel",
      "state": {
       "description_width": ""
      }
     },
     "239d22e1722543669408cf09f95ab370": {
      "model_module": "@jupyter-widgets/controls",
      "model_module_version": "1.5.0",
      "model_name": "HBoxModel",
      "state": {
       "children": [
        "IPY_MODEL_ca39c53827b54eddb330e41edf52f555",
        "IPY_MODEL_6ed69ff7264240baa2ccef305b212120",
        "IPY_MODEL_af03ef6f4601457a92bde562d0c48878"
       ],
       "layout": "IPY_MODEL_616e995512174fd48ce053aa4b2bebf7"
      }
     },
     "2476bef75df84660be81b6e5288cb92a": {
      "model_module": "@jupyter-widgets/base",
      "model_module_version": "1.2.0",
      "model_name": "LayoutModel",
      "state": {}
     },
     "24ad5eba6eec493c91e5871274487616": {
      "model_module": "@jupyter-widgets/base",
      "model_module_version": "1.2.0",
      "model_name": "LayoutModel",
      "state": {}
     },
     "25b1239da5cb448b95f54666c3850a98": {
      "model_module": "@jupyter-widgets/output",
      "model_module_version": "1.0.0",
      "model_name": "OutputModel",
      "state": {
       "layout": "IPY_MODEL_57b52c6244f241608d495ef59d00ecce",
       "outputs": [
        {
         "data": {
          "text/html": "<div>\n<style scoped>\n    .dataframe tbody tr th:only-of-type {\n        vertical-align: middle;\n    }\n\n    .dataframe tbody tr th {\n        vertical-align: top;\n    }\n\n    .dataframe thead th {\n        text-align: right;\n    }\n</style>\n<table border=\"1\" class=\"dataframe\">\n  <tbody>\n    <tr>\n      <td>Excluded columns</td>\n      <td>[]</td>\n    </tr>\n    <tr>\n      <td>Target variable</td>\n      <td>cnt</td>\n    </tr>\n    <tr>\n      <td>Sample weight</td>\n      <td>None</td>\n    </tr>\n    <tr>\n      <td>Task type</td>\n      <td>Regression</td>\n    </tr>\n    <tr>\n      <td>Split method</td>\n      <td>Random</td>\n    </tr>\n    <tr>\n      <td>Test ratio</td>\n      <td>0.2</td>\n    </tr>\n    <tr>\n      <td>Random state</td>\n      <td>0</td>\n    </tr>\n    <tr>\n      <td>Train test energy distance</td>\n      <td>0.000586</td>\n    </tr>\n  </tbody>\n</table>\n</div>",
          "text/plain": "<IPython.core.display.HTML object>"
         },
         "metadata": {},
         "output_type": "display_data"
        }
       ]
      }
     },
     "265b47567d26425ca26816f737ea1865": {
      "model_module": "@jupyter-widgets/controls",
      "model_module_version": "1.5.0",
      "model_name": "HTMLModel",
      "state": {
       "layout": "IPY_MODEL_b7b75731449a49fda8ef4dd7b51b5e83",
       "style": "IPY_MODEL_f9a1438e0be24c9eb248f939d3207261",
       "value": "<p class=\"notification info\">Excluded attribute \"atemp\"</p>"
      }
     },
     "26d78f2a17884e62b5e1c1048ce9a682": {
      "model_module": "@jupyter-widgets/output",
      "model_module_version": "1.0.0",
      "model_name": "OutputModel",
      "state": {
       "layout": "IPY_MODEL_9300da695e1d4775a92f383d2e0717d1"
      }
     },
     "276d0e7316fc4d78af5be4b88b3807ad": {
      "model_module": "@jupyter-widgets/controls",
      "model_module_version": "1.5.0",
      "model_name": "HBoxModel",
      "state": {
       "children": [
        "IPY_MODEL_d69430be5b954358a9f2105c2efda6c4",
        "IPY_MODEL_8d43cd2e642747938ccb9ef96df6d981"
       ],
       "layout": "IPY_MODEL_2f016b068c3f4f5b9af4287f2f8c00aa"
      }
     },
     "2815d0eb8570418db061858e7735e8ab": {
      "model_module": "@jupyter-widgets/base",
      "model_module_version": "1.2.0",
      "model_name": "LayoutModel",
      "state": {}
     },
     "284c857c9bdb4af3b39abaff322c2016": {
      "model_module": "@jupyter-widgets/controls",
      "model_module_version": "1.5.0",
      "model_name": "ButtonStyleModel",
      "state": {}
     },
     "28dad38a19464e589d9b64dd25e1eee9": {
      "model_module": "@jupyter-widgets/controls",
      "model_module_version": "1.5.0",
      "model_name": "DescriptionStyleModel",
      "state": {
       "description_width": ""
      }
     },
     "28e3ddc709f9499e8d2ee743736c6d78": {
      "model_module": "@jupyter-widgets/base",
      "model_module_version": "1.2.0",
      "model_name": "LayoutModel",
      "state": {}
     },
     "28e4b0d38eec4f7b8047deb79d9f3b52": {
      "model_module": "@jupyter-widgets/base",
      "model_module_version": "1.2.0",
      "model_name": "LayoutModel",
      "state": {
       "overflow": "hidden",
       "width": "auto"
      }
     },
     "28ef8f38822447e6bdc9adda53ccc703": {
      "model_module": "@jupyter-widgets/base",
      "model_module_version": "1.2.0",
      "model_name": "LayoutModel",
      "state": {}
     },
     "2aa8bc5c316f474f94f1d7caadc2ed4d": {
      "model_module": "@jupyter-widgets/controls",
      "model_module_version": "1.5.0",
      "model_name": "VBoxModel",
      "state": {
       "children": [
        "IPY_MODEL_2c9d248fb1b24ed2b74259ae710623ed",
        "IPY_MODEL_b9209f7b87334b5793ed4c4ca926d240"
       ],
       "layout": "IPY_MODEL_bece0eee135441b68a68927203978c28"
      }
     },
     "2b0884f825e04e758572f0ef7cefd677": {
      "model_module": "@jupyter-widgets/controls",
      "model_module_version": "1.5.0",
      "model_name": "BoundedFloatTextModel",
      "state": {
       "layout": "IPY_MODEL_83213796cc5a4739b277a46ff786f91a",
       "max": 1,
       "step": 0.01,
       "style": "IPY_MODEL_7970b63bcc4248c1a4b79ac7653c9b1c",
       "value": 0.2
      }
     },
     "2b3ae57f386041b09d5844869ce677f6": {
      "model_module": "@jupyter-widgets/controls",
      "model_module_version": "1.5.0",
      "model_name": "HTMLModel",
      "state": {
       "layout": "IPY_MODEL_630ae21567254e9b8a808b9a0fe40dd8",
       "style": "IPY_MODEL_49ff22c866d141a286dd9e4cb9b1e43e",
       "value": "\n        <table class='ptable striped'>\n            <thead class='pthead'>\n                <tr class='ptr'>\n                    <th class='pth'></th><th class='pth'>name</th><th class='pth'>n_missing</th><th class='pth'>n_unique</th><th class='pth'>top1</th><th class='pth'>top2</th><th class='pth'>top3</th><th class='pth'>n_others</th>\n                </tr>\n            </thead>\n\n            <tbody class='ptbody'>\n                <tr class='ptr'><td class='ptd'>0</td><td class='ptd'>season</td><td class='ptd'>0</td><td class='ptd'>4</td><td class='ptd'>3.0 : 4496</td><td class='ptd'>2.0 : 4409</td><td class='ptd'>1.0 : 4242</td><td class='ptd'>4232</td></tr><tr class='ptr'><td class='ptd'>1</td><td class='ptd'>yr</td><td class='ptd'>0</td><td class='ptd'>2</td><td class='ptd'>1.0 : 8734</td><td class='ptd'>0.0 : 8645</td><td class='ptd'>0</td><td class='ptd'>0</td></tr><tr class='ptr'><td class='ptd'>2</td><td class='ptd'>holiday</td><td class='ptd'>0</td><td class='ptd'>2</td><td class='ptd'>0.0 : 16879</td><td class='ptd'>1.0 : 500</td><td class='ptd'>0</td><td class='ptd'>0</td></tr><tr class='ptr'><td class='ptd'>3</td><td class='ptd'>workingday</td><td class='ptd'>0</td><td class='ptd'>2</td><td class='ptd'>1.0 : 11865</td><td class='ptd'>0.0 : 5514</td><td class='ptd'>0</td><td class='ptd'>0</td></tr><tr class='ptr'><td class='ptd'>4</td><td class='ptd'>weathersit</td><td class='ptd'>0</td><td class='ptd'>4</td><td class='ptd'>1.0 : 11413</td><td class='ptd'>2.0 : 4544</td><td class='ptd'>3.0 : 1419</td><td class='ptd'>3</td></tr>\n            </tbody>\n        </table>\n        "
      }
     },
     "2b809b1d2df14be3bed739438086111b": {
      "model_module": "@jupyter-widgets/controls",
      "model_module_version": "1.5.0",
      "model_name": "HTMLModel",
      "state": {
       "layout": "IPY_MODEL_361bc13bf852471cb066bf89f295609c",
       "style": "IPY_MODEL_1177e7e439854802ad72695c05ed4c4e",
       "value": "\n        <table class='ptable striped'>\n            <thead class='pthead'>\n                <tr class='ptr'>\n                    <th class='pth'></th><th class='pth'>name</th><th class='pth'>n_missing</th><th class='pth'>n_unique</th><th class='pth'>top1</th><th class='pth'>top2</th><th class='pth'>top3</th><th class='pth'>n_others</th>\n                </tr>\n            </thead>\n\n            <tbody class='ptbody'>\n                <tr class='ptr grey'><td class='ptd'>0</td><td class='ptd'>season</td><td class='ptd'>0</td><td class='ptd'>4</td><td class='ptd'>3.0 : 4496</td><td class='ptd'>2.0 : 4409</td><td class='ptd'>1.0 : 4242</td><td class='ptd'>4232</td></tr><tr class='ptr'><td class='ptd'>1</td><td class='ptd'>yr</td><td class='ptd'>0</td><td class='ptd'>2</td><td class='ptd'>1.0 : 8734</td><td class='ptd'>0.0 : 8645</td><td class='ptd'>0</td><td class='ptd'>0</td></tr><tr class='ptr'><td class='ptd'>2</td><td class='ptd'>holiday</td><td class='ptd'>0</td><td class='ptd'>2</td><td class='ptd'>0.0 : 16879</td><td class='ptd'>1.0 : 500</td><td class='ptd'>0</td><td class='ptd'>0</td></tr><tr class='ptr'><td class='ptd'>3</td><td class='ptd'>workingday</td><td class='ptd'>0</td><td class='ptd'>2</td><td class='ptd'>1.0 : 11865</td><td class='ptd'>0.0 : 5514</td><td class='ptd'>0</td><td class='ptd'>0</td></tr><tr class='ptr'><td class='ptd'>4</td><td class='ptd'>weathersit</td><td class='ptd'>0</td><td class='ptd'>4</td><td class='ptd'>1.0 : 11413</td><td class='ptd'>2.0 : 4544</td><td class='ptd'>3.0 : 1419</td><td class='ptd'>3</td></tr>\n            </tbody>\n        </table>\n        "
      }
     },
     "2c74fbb80f8c485fae0e6389848a89aa": {
      "model_module": "@jupyter-widgets/base",
      "model_module_version": "1.2.0",
      "model_name": "LayoutModel",
      "state": {
       "width": "2px"
      }
     },
     "2c9d248fb1b24ed2b74259ae710623ed": {
      "model_module": "@jupyter-widgets/controls",
      "model_module_version": "1.5.0",
      "model_name": "HTMLModel",
      "state": {
       "layout": "IPY_MODEL_3cc5c5dc7e62462195f52c3ae9bbcfdf",
       "style": "IPY_MODEL_a6aff8b65eab4f51aea873c2cf3caf9d",
       "value": "<p>Task Type:</p>"
      }
     },
     "2ca8a87a17df495dbd19e816cfa22fd0": {
      "model_module": "@jupyter-widgets/controls",
      "model_module_version": "1.5.0",
      "model_name": "VBoxModel",
      "state": {
       "children": [
        "IPY_MODEL_f7c6ed6e829349d69289426417724842",
        "IPY_MODEL_06f6c6fd4f264e148e4ea78d354f1794",
        "IPY_MODEL_680fcf014a794aecbf1ba8a7a4df6c41",
        "IPY_MODEL_5735ab55172d46e595d002e7fe385daf",
        "IPY_MODEL_9fb7ef59ff644ae6a06b38503c333d75",
        "IPY_MODEL_98351cceaff9429c902fb88222fab26c",
        "IPY_MODEL_a834417447344176aa48a77f524e364c"
       ],
       "layout": "IPY_MODEL_4ad69d9e469048919ceb228d8535a2a0"
      }
     },
     "2db542c70eb744c0956380a3ecdf8e42": {
      "model_module": "@jupyter-widgets/base",
      "model_module_version": "1.2.0",
      "model_name": "LayoutModel",
      "state": {
       "width": "2px"
      }
     },
     "2f016b068c3f4f5b9af4287f2f8c00aa": {
      "model_module": "@jupyter-widgets/base",
      "model_module_version": "1.2.0",
      "model_name": "LayoutModel",
      "state": {
       "justify_content": "space-around",
       "width": "85%"
      }
     },
     "2ffdac965e8f47fc8c57e795f6d221c0": {
      "model_module": "@jupyter-widgets/controls",
      "model_module_version": "1.5.0",
      "model_name": "HTMLModel",
      "state": {
       "layout": "IPY_MODEL_e84cfb92329245fb8248e28762aaa607",
       "style": "IPY_MODEL_b442da8fa9414d32bfd80fdd0745cc58",
       "value": "<div class='divider'></div>"
      }
     },
     "30eed277fba54165a2554feae86795c1": {
      "model_module": "@jupyter-widgets/controls",
      "model_module_version": "1.5.0",
      "model_name": "HTMLModel",
      "state": {
       "layout": "IPY_MODEL_9074dac9e8d549d1abad0a30876daeeb",
       "style": "IPY_MODEL_eb09894e048f45a9a449116305f83d97",
       "value": "<p>Test Ratio:</p>"
      }
     },
     "3169fdde629149389162f5dfb5f555fa": {
      "model_module": "@jupyter-widgets/base",
      "model_module_version": "1.2.0",
      "model_name": "LayoutModel",
      "state": {}
     },
     "31a10fcd3a8b41bba0423c7a0aee1629": {
      "model_module": "@jupyter-widgets/base",
      "model_module_version": "1.2.0",
      "model_name": "LayoutModel",
      "state": {}
     },
     "322ff2ef69954b3293ad95a9b469c347": {
      "model_module": "@jupyter-widgets/base",
      "model_module_version": "1.2.0",
      "model_name": "LayoutModel",
      "state": {
       "width": "20%"
      }
     },
     "32c0d278b3214fd29f84b510233c2adc": {
      "model_module": "@jupyter-widgets/controls",
      "model_module_version": "1.5.0",
      "model_name": "HTMLModel",
      "state": {
       "layout": "IPY_MODEL_a6b2a2a3873945c092e692af63cf966e",
       "style": "IPY_MODEL_19f8f9bceccd4fbf81690018029a8f97",
       "value": "\n        <style>\n\n        .left-label {\n            width: 30%;\n        }\n\n        .card-panel {\n            -webkit-transition: -webkit-box-shadow .25s;\n            transition: -webkit-box-shadow .25s;\n            transition: box-shadow .25s;\n            transition: box-shadow .25s, -webkit-box-shadow .25s;\n            padding: 24px;\n            margin: 0.5rem 0 1rem 0;\n            border-radius: 2px;\n            background-color: #fff;\n        }\n\n        .card {\n            position: relative;\n            margin: 0.5rem 0.1rem 1rem 0.2rem;\n            background-color: #fff;\n            -webkit-transition: -webkit-box-shadow .25s;\n            transition: -webkit-box-shadow .25s;\n            transition: box-shadow .25s;\n            transition: box-shadow .25s, -webkit-box-shadow .25s;\n            border-radius: 2px;\n            box-shadow: 0 2px 2px 0 rgb(0 0 0 / 14%), 0 3px 1px -2px rgb(0 0 0 / 12%), 0 1px 5px 0 rgb(0 0 0 / 20%);\n            padding: 24px;\n            color: white;\n        }\n\n        .card .card-title {\n            font-size: 24px;\n            font-weight: 300;\n        }\n\n        @media only screen and (min-width: 800px) {\n            /* For notebook: */\n            .card {width: 99% !important;}\n        }\n\n        @media only screen and (min-width: 1400px) {\n            /* For colab: */\n            .card {width: 99% !important;}\n        }\n\n        .blue-grey.darken-1 {\n            background-color: #546e7a !important;\n        }\n\n        .small-card {\n            position: relative;\n            margin: 0.5rem 0 1rem 0;\n            background-color: #fff;\n            -webkit-transition: -webkit-box-shadow .25s;\n            transition: -webkit-box-shadow .25s;\n            transition: box-shadow .25s;\n            transition: box-shadow .25s, -webkit-box-shadow .25s;\n            border-radius: 2px;\n            box-shadow: 0 2px 2px 0 rgb(0 0 0 / 14%), 0 3px 1px -2px rgb(0 0 0 / 12%), 0 1px 5px 0 rgb(0 0 0 / 20%);\n            padding: 0px 5px 0px 5px;\n            color: white;\n        }\n\n        .inner-card {\n            position: relative;\n            background-color: #fff;\n            -webkit-transition: -webkit-box-shadow .25s;\n            transition: -webkit-box-shadow .25s;\n            transition: box-shadow .25s;\n            transition: box-shadow .25s, -webkit-box-shadow .25s;\n            border-radius: 2px;\n            box-shadow: 0 2px 2px 0 rgb(0 0 0 / 14%), 0 3px 1px -2px rgb(0 0 0 / 12%), 0 1px 5px 0 rgb(0 0 0 / 20%);\n            padding: 20px;\n            color: white;\n            margin: 0px 1px 1px 1px;\n        }\n\n        .card-with-tab {\n            position: relative;\n            margin: 0.5rem 0.1rem 1rem 0.2rem;\n            background-color: #fff;\n            -webkit-transition: -webkit-box-shadow .25s;\n            transition: -webkit-box-shadow .25s;\n            transition: box-shadow .25s;\n            transition: box-shadow .25s, -webkit-box-shadow .25s;\n            border-radius: 2px;\n            box-shadow: 0 2px 2px 0 rgb(0 0 0 / 14%), 0 3px 1px -2px rgb(0 0 0 / 12%), 0 1px 5px 0 rgb(0 0 0 / 20%);\n            padding: 24px;\n            color: white;\n        }\n\n        .card-with-tab button {\n            width: auto;\n            padding: 12px 40px;\n        }\n\n        .list {\n            padding: 0px 10px;\n            box-shadow: 0 2px 2px 0 rgb(0 0 0 / 14%), 0 3px 1px -2px rgb(0 0 0 / 12%), 0 1px 5px 0 rgb(0 0 0 / 20%);\n            margin: 0px 1px 60px 1px;\n        }\n\n        .list-item {\n            padding: 10px 0px;\n            border-width: 0;\n            border-style: solid;\n            border-color: rgba(0, 0, 0, 0.08);\n            border-bottom-width: thin;\n        }\n\n        .divider {\n            margin: 10px 0px;\n            border-width: 0;\n            border-style: solid;\n            border-color: rgba(0, 0, 0, 0.08);\n            border-bottom-width: thin;\n        }\n\n        .hr {\n            margin: 0;\n            -webkit-flex-shrink: 0;\n            -ms-flex-negative: 0;\n            flex-shrink: 0;\n            border-width: 0;\n            border-style: solid;\n            border-color: rgba(0, 0, 0, 0.08);\n            border-bottom-width: thin;\n        }\n\n        .notification {\n            transition: box-shadow 300ms cubic-bezier(0.4, 0, 0.2, 1) 0ms;\n            border-radius: 4px;\n            box-shadow: 0 2px 2px 0 rgb(0 0 0 / 14%), 0 3px 1px -2px rgb(0 0 0 / 12%), 0 1px 5px 0 rgb(0 0 0 / 20%);\n            font-family: Roboto, Helvetica, Arial, sans-serif;\n            font-weight: 500;\n            font-size: 12px;\n            line-height: 1.43;\n            letter-spacing: 0.01071em;\n            background-color: rgb(2, 136, 209);\n            display: flex;\n            padding: 6px 16px;\n            color: rgb(255, 255, 255);\n            margin-top: 10px;\n        }\n\n        .success {\n            background-color: #EDF7ED;\n            color: #1E4620;\n        }\n\n        .error {\n            background-color: #FDEDED;\n            color: #5F2120;\n        }\n\n        .info {\n            background-color: #E5F6FD;\n            color: #528298;\n        }\n\n        .warn {\n            background-color: #FFF4E5;\n            color: #663C00;\n        }\n\n        .margin-top-20 {\n            margin-top: 20px;\n        }\n\n        .hide {\n            display: none;\n        }\n\n        .pbtn {\n            display: inline-flex;\n            -webkit-box-align: center;\n            align-items: center;\n            -webkit-box-pack: center;\n            justify-content: center;\n            position: relative;\n            box-sizing: border-box;\n            -webkit-tap-highlight-color: transparent;\n            outline: 0px;\n            border: 0px;\n            margin: 0px;\n            cursor: pointer;\n            user-select: none;\n            vertical-align: middle;\n            appearance: none;\n            text-decoration: none;\n            font-family: Roboto, Helvetica, Arial, sans-serif;\n            font-weight: 550;\n            font-size: 12px;\n            line-height: 1.75;\n            letter-spacing: 0.02857em;\n            text-transform: uppercase;\n            min-width: 64px;\n            padding: 6px 16px;\n            border-radius: 4px;\n            transition: background-color 250ms cubic-bezier(0.4, 0, 0.2, 1) 0ms, box-shadow 250ms cubic-bezier(0.4, 0, 0.2, 1) 0ms, border-color 250ms cubic-bezier(0.4, 0, 0.2, 1) 0ms, color 250ms cubic-bezier(0.4, 0, 0.2, 1) 0ms;\n            color: rgb(255, 255, 255);\n            background-color: #D71E28;\n            box-shadow: rgb(0 0 0 / 20%) 0px 3px 1px -2px, rgb(0 0 0 / 14%) 0px 2px 2px 0px, rgb(0 0 0 / 12%) 0px 1px 5px 0px;\n        }\n\n        .jp-OutputArea-output {\n            flex-grow: 1;\n            flex-shrink: 1;\n            margin: 0px;\n        }\n\n        .output_subarea {\n            padding: 0px !important;\n        }\n\n        .ptable, .pth, .ptd {\n            border: none;\n        }\n\n        .pth, .ptd {\n            max-width: 150px;\n            white-space: nowrap;\n            overflow: hidden;\n            -o-text-overflow: ellipsis;\n            -ms-text-overflow: ellipsis;\n            text-overflow: ellipsis;\n        }\n\n        .ptable {\n            display: table;\n            border-collapse: collapse;\n            border-spacing: 0;\n        }\n\n        .ptable.striped .ptr {\n            border-bottom: none;\n        }\n\n        .ptable.striped > .ptbody > .ptr:nth-child(odd) {\n            background-color: rgba(242, 242, 242, 0.5);\n        }\n\n        .ptable.striped > .ptbody > .ptr > .ptd {\n            border-radius: 0;\n        }\n\n        .ptable.highlight > .ptbody > .ptr {\n            -webkit-transition: background-color .25s ease;\n            transition: background-color .25s ease;\n        }\n\n        .ptable.highlight > .ptbody > .ptr:hover {\n            background-color: rgba(242, 242, 242, 0.5);\n        }\n\n        .ptable.centered .pthead .ptr .pth, .ptable.centered .ptbody .ptr .ptd {\n            text-align: center;\n        }\n\n        .ptr {\n            border-bottom: 1px solid rgba(0, 0, 0, 0.12);\n        }\n\n        .ptr.hightlight {\n            background-color: yellow !important;\n        }\n\n        .ptd, .pth {\n            padding: 0.2rem 0.6rem;\n            display: table-cell;\n            text-align: right;\n            vertical-align: middle;\n            border-radius: 2px;\n            position: relative;\n        }\n\n        .ptr.grey {\n            background-color: grey !important;\n        }\n\n        .ptr.strikeout .ptd:before {\n            content: \" \";\n            position: absolute;\n            top: 50%;\n            left: 0;\n            border-bottom: 1px solid #111;\n            width: 100%;\n        }\n\n        .widget-toggle-button {\n            display: inline-flex;\n            -webkit-box-align: center;\n            align-items: center;\n            -webkit-box-pack: center;\n            justify-content: center;\n            box-sizing: border-box;\n            -webkit-tap-highlight-color: transparent;\n            background-color: transparent !important;\n            outline: 0px;\n            border: 0px;\n            border-bottom: 2px solid #E4E4E4 !important;\n            box-shadow: none !important;\n            margin: 0px !important;\n            border-radius: 0px;\n            cursor: pointer;\n            user-select: none;\n            vertical-align: middle;\n            appearance: none;\n            text-decoration: none;\n            font-family: Roboto, Helvetica, Arial, sans-serif;\n            font-weight: 500;\n            font-size: 14px;\n            line-height: 1.25;\n            letter-spacing: 0.02857em;\n            max-width: 360px;\n            min-width: 90px;\n            position: relative;\n            min-height: 48px;\n            flex-shrink: 0;\n            padding: 12px 16px;\n            overflow: hidden;\n            white-space: normal;\n            text-align: center;\n            flex-direction: column;\n            color: rgba(0, 0, 0, 0.6);\n        }\n\n        .narrow-accordion .jupyter-widget-Accordion-child .jupyter-widget-Collapse-header{\n            padding: 5px;\n        }  \n\n        .mod-active {\n            color: rgb(25, 118, 210) !important;\n            border-bottom: 2px solid rgb(25, 118, 210) !important;\n        }\n\n        .narrow-tab button {\n            max-width: 15%;\n        }\n\n        .narrow-tab-fairness button {\n            max-width: 20%;\n        }\n        .narrow-tab-fs button {\n            max-width: 25%;\n        }\n\n        .overflow-fix .jupyter-widgets {\n            overflow: auto;\n        }\n\n        .inner-padding {\n            padding-top: 20px;\n        }\n\n        .fix-img img {\n            width: 100%;\n        }\n\n        .fix-img-half img {\n            width: 50%;\n        }\n\n        .flex-reverse-for-update-button {\n            flex-direction: row-reverse;\n            margin-right: 50px;\n        }\n\n        .data-summary-tab {\n            max-height: 400px;\n        }\n\n        .restricted_table_height {\n            max-height: 450px\n        }\n\n        .input-width-with-parent .widget-dropdown {\n            width: 100%;\n        }\n\n        .input-width-with-parent .widget-text {\n            width: 100%;\n        }\n\n        .no-margin {\n            margin: 0px;\n        }\n\n        .widget-hprogress label {\n            text-align: left;\n        }\n\n        .widget-dropdown label {\n            margin-right: 10px;\n        }\n\n        .form .widget-dropdown {\n            width: auto;\n        }\n\n        .form .widget-text {\n            width: auto;\n        }\n\n        .form p {\n            margin: 0px;\n        }\n\n        .widget-dropdown {\n            white-space: nowrap;\n            overflow: hidden;\n            -o-text-overflow: ellipsis;\n            -ms-text-overflow: ellipsis;\n            text-overflow: ellipsis;\n        }\n\n        .progress-train label {\n            margin-right: 10px;\n        }\n\n        select {\n            height: 97% !important;\n        }\n\n        .no-overflow {\n            overflow: none;\n        }\n\n        .split-btn button {\n            margin-bottom: 2px;\n        }\n\n        .register-btn {\n            width: 50%\n        }\n\n        .register-btn-colab {\n            width: 40%\n        }\n\n        .fix-config-from-overflow .jp-OutputArea-child {\n            display: inherit;\n        }\n        \n        .checkbox-center input[type=\"checkbox\"] {\n            vertical-align: middle;\n        }\n\n        input[type=\"checkbox\"] {\n            vertical-align: middle;\n        }\n\n        </style>\n        "
      }
     },
     "33ad901a779b445b881cb2e0f4e54b44": {
      "model_module": "@jupyter-widgets/controls",
      "model_module_version": "1.5.0",
      "model_name": "HTMLModel",
      "state": {
       "layout": "IPY_MODEL_4e13f461fd8d40679e3e2f93ce67149f",
       "style": "IPY_MODEL_ae82f79d82e449de953da6854d3b72a2",
       "value": "\n        <style>\n\n        .left-label {\n            width: 30%;\n        }\n\n        .card-panel {\n            -webkit-transition: -webkit-box-shadow .25s;\n            transition: -webkit-box-shadow .25s;\n            transition: box-shadow .25s;\n            transition: box-shadow .25s, -webkit-box-shadow .25s;\n            padding: 24px;\n            margin: 0.5rem 0 1rem 0;\n            border-radius: 2px;\n            background-color: #fff;\n        }\n\n        .card {\n            position: relative;\n            margin: 0.5rem 0.1rem 1rem 0.2rem;\n            background-color: #fff;\n            -webkit-transition: -webkit-box-shadow .25s;\n            transition: -webkit-box-shadow .25s;\n            transition: box-shadow .25s;\n            transition: box-shadow .25s, -webkit-box-shadow .25s;\n            border-radius: 2px;\n            box-shadow: 0 2px 2px 0 rgb(0 0 0 / 14%), 0 3px 1px -2px rgb(0 0 0 / 12%), 0 1px 5px 0 rgb(0 0 0 / 20%);\n            padding: 24px;\n            color: white;\n        }\n\n        .card .card-title {\n            font-size: 24px;\n            font-weight: 300;\n        }\n\n        @media only screen and (min-width: 800px) {\n            /* For notebook: */\n            .card {width: 99% !important;}\n        }\n\n        @media only screen and (min-width: 1400px) {\n            /* For colab: */\n            .card {width: 99% !important;}\n        }\n\n        .blue-grey.darken-1 {\n            background-color: #546e7a !important;\n        }\n\n        .small-card {\n            position: relative;\n            margin: 0.5rem 0 1rem 0;\n            background-color: #fff;\n            -webkit-transition: -webkit-box-shadow .25s;\n            transition: -webkit-box-shadow .25s;\n            transition: box-shadow .25s;\n            transition: box-shadow .25s, -webkit-box-shadow .25s;\n            border-radius: 2px;\n            box-shadow: 0 2px 2px 0 rgb(0 0 0 / 14%), 0 3px 1px -2px rgb(0 0 0 / 12%), 0 1px 5px 0 rgb(0 0 0 / 20%);\n            padding: 0px 5px 0px 5px;\n            color: white;\n        }\n\n        .inner-card {\n            position: relative;\n            background-color: #fff;\n            -webkit-transition: -webkit-box-shadow .25s;\n            transition: -webkit-box-shadow .25s;\n            transition: box-shadow .25s;\n            transition: box-shadow .25s, -webkit-box-shadow .25s;\n            border-radius: 2px;\n            box-shadow: 0 2px 2px 0 rgb(0 0 0 / 14%), 0 3px 1px -2px rgb(0 0 0 / 12%), 0 1px 5px 0 rgb(0 0 0 / 20%);\n            padding: 20px;\n            color: white;\n            margin: 0px 1px 1px 1px;\n        }\n\n        .card-with-tab {\n            position: relative;\n            margin: 0.5rem 0.1rem 1rem 0.2rem;\n            background-color: #fff;\n            -webkit-transition: -webkit-box-shadow .25s;\n            transition: -webkit-box-shadow .25s;\n            transition: box-shadow .25s;\n            transition: box-shadow .25s, -webkit-box-shadow .25s;\n            border-radius: 2px;\n            box-shadow: 0 2px 2px 0 rgb(0 0 0 / 14%), 0 3px 1px -2px rgb(0 0 0 / 12%), 0 1px 5px 0 rgb(0 0 0 / 20%);\n            padding: 24px;\n            color: white;\n        }\n\n        .card-with-tab button {\n            width: auto;\n            padding: 12px 40px;\n        }\n\n        .list {\n            padding: 0px 10px;\n            box-shadow: 0 2px 2px 0 rgb(0 0 0 / 14%), 0 3px 1px -2px rgb(0 0 0 / 12%), 0 1px 5px 0 rgb(0 0 0 / 20%);\n            margin: 0px 1px 60px 1px;\n        }\n\n        .list-item {\n            padding: 10px 0px;\n            border-width: 0;\n            border-style: solid;\n            border-color: rgba(0, 0, 0, 0.08);\n            border-bottom-width: thin;\n        }\n\n        .divider {\n            margin: 10px 0px;\n            border-width: 0;\n            border-style: solid;\n            border-color: rgba(0, 0, 0, 0.08);\n            border-bottom-width: thin;\n        }\n\n        .hr {\n            margin: 0;\n            -webkit-flex-shrink: 0;\n            -ms-flex-negative: 0;\n            flex-shrink: 0;\n            border-width: 0;\n            border-style: solid;\n            border-color: rgba(0, 0, 0, 0.08);\n            border-bottom-width: thin;\n        }\n\n        .notification {\n            transition: box-shadow 300ms cubic-bezier(0.4, 0, 0.2, 1) 0ms;\n            border-radius: 4px;\n            box-shadow: 0 2px 2px 0 rgb(0 0 0 / 14%), 0 3px 1px -2px rgb(0 0 0 / 12%), 0 1px 5px 0 rgb(0 0 0 / 20%);\n            font-family: Roboto, Helvetica, Arial, sans-serif;\n            font-weight: 500;\n            font-size: 12px;\n            line-height: 1.43;\n            letter-spacing: 0.01071em;\n            background-color: rgb(2, 136, 209);\n            display: flex;\n            padding: 6px 16px;\n            color: rgb(255, 255, 255);\n            margin-top: 10px;\n        }\n\n        .success {\n            background-color: #EDF7ED;\n            color: #1E4620;\n        }\n\n        .error {\n            background-color: #FDEDED;\n            color: #5F2120;\n        }\n\n        .info {\n            background-color: #E5F6FD;\n            color: #528298;\n        }\n\n        .warn {\n            background-color: #FFF4E5;\n            color: #663C00;\n        }\n\n        .margin-top-20 {\n            margin-top: 20px;\n        }\n\n        .hide {\n            display: none;\n        }\n\n        .pbtn {\n            display: inline-flex;\n            -webkit-box-align: center;\n            align-items: center;\n            -webkit-box-pack: center;\n            justify-content: center;\n            position: relative;\n            box-sizing: border-box;\n            -webkit-tap-highlight-color: transparent;\n            outline: 0px;\n            border: 0px;\n            margin: 0px;\n            cursor: pointer;\n            user-select: none;\n            vertical-align: middle;\n            appearance: none;\n            text-decoration: none;\n            font-family: Roboto, Helvetica, Arial, sans-serif;\n            font-weight: 550;\n            font-size: 12px;\n            line-height: 1.75;\n            letter-spacing: 0.02857em;\n            text-transform: uppercase;\n            min-width: 64px;\n            padding: 6px 16px;\n            border-radius: 4px;\n            transition: background-color 250ms cubic-bezier(0.4, 0, 0.2, 1) 0ms, box-shadow 250ms cubic-bezier(0.4, 0, 0.2, 1) 0ms, border-color 250ms cubic-bezier(0.4, 0, 0.2, 1) 0ms, color 250ms cubic-bezier(0.4, 0, 0.2, 1) 0ms;\n            color: rgb(255, 255, 255);\n            background-color: #D71E28;\n            box-shadow: rgb(0 0 0 / 20%) 0px 3px 1px -2px, rgb(0 0 0 / 14%) 0px 2px 2px 0px, rgb(0 0 0 / 12%) 0px 1px 5px 0px;\n        }\n\n        .jp-OutputArea-output {\n            flex-grow: 1;\n            flex-shrink: 1;\n            margin: 0px;\n        }\n\n        .output_subarea {\n            padding: 0px !important;\n        }\n\n        .ptable, .pth, .ptd {\n            border: none;\n        }\n\n        .pth, .ptd {\n            max-width: 150px;\n            white-space: nowrap;\n            overflow: hidden;\n            -o-text-overflow: ellipsis;\n            -ms-text-overflow: ellipsis;\n            text-overflow: ellipsis;\n        }\n\n        .ptable {\n            display: table;\n            border-collapse: collapse;\n            border-spacing: 0;\n        }\n\n        .ptable.striped .ptr {\n            border-bottom: none;\n        }\n\n        .ptable.striped > .ptbody > .ptr:nth-child(odd) {\n            background-color: rgba(242, 242, 242, 0.5);\n        }\n\n        .ptable.striped > .ptbody > .ptr > .ptd {\n            border-radius: 0;\n        }\n\n        .ptable.highlight > .ptbody > .ptr {\n            -webkit-transition: background-color .25s ease;\n            transition: background-color .25s ease;\n        }\n\n        .ptable.highlight > .ptbody > .ptr:hover {\n            background-color: rgba(242, 242, 242, 0.5);\n        }\n\n        .ptable.centered .pthead .ptr .pth, .ptable.centered .ptbody .ptr .ptd {\n            text-align: center;\n        }\n\n        .ptr {\n            border-bottom: 1px solid rgba(0, 0, 0, 0.12);\n        }\n\n        .ptr.hightlight {\n            background-color: yellow !important;\n        }\n\n        .ptd, .pth {\n            padding: 0.2rem 0.6rem;\n            display: table-cell;\n            text-align: right;\n            vertical-align: middle;\n            border-radius: 2px;\n            position: relative;\n        }\n\n        .ptr.grey {\n            background-color: grey !important;\n        }\n\n        .ptr.strikeout .ptd:before {\n            content: \" \";\n            position: absolute;\n            top: 50%;\n            left: 0;\n            border-bottom: 1px solid #111;\n            width: 100%;\n        }\n\n        .widget-toggle-button {\n            display: inline-flex;\n            -webkit-box-align: center;\n            align-items: center;\n            -webkit-box-pack: center;\n            justify-content: center;\n            box-sizing: border-box;\n            -webkit-tap-highlight-color: transparent;\n            background-color: transparent !important;\n            outline: 0px;\n            border: 0px;\n            border-bottom: 2px solid #E4E4E4 !important;\n            box-shadow: none !important;\n            margin: 0px !important;\n            border-radius: 0px;\n            cursor: pointer;\n            user-select: none;\n            vertical-align: middle;\n            appearance: none;\n            text-decoration: none;\n            font-family: Roboto, Helvetica, Arial, sans-serif;\n            font-weight: 500;\n            font-size: 14px;\n            line-height: 1.25;\n            letter-spacing: 0.02857em;\n            max-width: 360px;\n            min-width: 90px;\n            position: relative;\n            min-height: 48px;\n            flex-shrink: 0;\n            padding: 12px 16px;\n            overflow: hidden;\n            white-space: normal;\n            text-align: center;\n            flex-direction: column;\n            color: rgba(0, 0, 0, 0.6);\n        }\n\n        .narrow-accordion .jupyter-widget-Accordion-child .jupyter-widget-Collapse-header{\n            padding: 5px;\n        }  \n\n        .mod-active {\n            color: rgb(25, 118, 210) !important;\n            border-bottom: 2px solid rgb(25, 118, 210) !important;\n        }\n\n        .narrow-tab button {\n            max-width: 15%;\n        }\n\n        .narrow-tab-fairness button {\n            max-width: 20%;\n        }\n        .narrow-tab-fs button {\n            max-width: 25%;\n        }\n\n        .overflow-fix .jupyter-widgets {\n            overflow: auto;\n        }\n\n        .inner-padding {\n            padding-top: 20px;\n        }\n\n        .fix-img img {\n            width: 100%;\n        }\n\n        .fix-img-half img {\n            width: 50%;\n        }\n\n        .flex-reverse-for-update-button {\n            flex-direction: row-reverse;\n            margin-right: 50px;\n        }\n\n        .data-summary-tab {\n            max-height: 400px;\n        }\n\n        .restricted_table_height {\n            max-height: 450px\n        }\n\n        .input-width-with-parent .widget-dropdown {\n            width: 100%;\n        }\n\n        .input-width-with-parent .widget-text {\n            width: 100%;\n        }\n\n        .no-margin {\n            margin: 0px;\n        }\n\n        .widget-hprogress label {\n            text-align: left;\n        }\n\n        .widget-dropdown label {\n            margin-right: 10px;\n        }\n\n        .form .widget-dropdown {\n            width: auto;\n        }\n\n        .form .widget-text {\n            width: auto;\n        }\n\n        .form p {\n            margin: 0px;\n        }\n\n        .widget-dropdown {\n            white-space: nowrap;\n            overflow: hidden;\n            -o-text-overflow: ellipsis;\n            -ms-text-overflow: ellipsis;\n            text-overflow: ellipsis;\n        }\n\n        .progress-train label {\n            margin-right: 10px;\n        }\n\n        select {\n            height: 97% !important;\n        }\n\n        .no-overflow {\n            overflow: none;\n        }\n\n        .split-btn button {\n            margin-bottom: 2px;\n        }\n\n        .register-btn {\n            width: 50%\n        }\n\n        .register-btn-colab {\n            width: 40%\n        }\n\n        .fix-config-from-overflow .jp-OutputArea-child {\n            display: inherit;\n        }\n        \n        .checkbox-center input[type=\"checkbox\"] {\n            vertical-align: middle;\n        }\n\n        input[type=\"checkbox\"] {\n            vertical-align: middle;\n        }\n\n        </style>\n        "
      }
     },
     "33e091089f7d462dab71c6d04203d800": {
      "model_module": "@jupyter-widgets/controls",
      "model_module_version": "1.5.0",
      "model_name": "HTMLModel",
      "state": {
       "layout": "IPY_MODEL_803f813fdc274502b980d0d871a97967",
       "style": "IPY_MODEL_bfee442969084088b244921743b152cf",
       "value": "\n        <style>\n\n        .left-label {\n            width: 30%;\n        }\n\n        .card-panel {\n            -webkit-transition: -webkit-box-shadow .25s;\n            transition: -webkit-box-shadow .25s;\n            transition: box-shadow .25s;\n            transition: box-shadow .25s, -webkit-box-shadow .25s;\n            padding: 24px;\n            margin: 0.5rem 0 1rem 0;\n            border-radius: 2px;\n            background-color: #fff;\n        }\n\n        .card {\n            position: relative;\n            margin: 0.5rem 0.1rem 1rem 0.2rem;\n            background-color: #fff;\n            -webkit-transition: -webkit-box-shadow .25s;\n            transition: -webkit-box-shadow .25s;\n            transition: box-shadow .25s;\n            transition: box-shadow .25s, -webkit-box-shadow .25s;\n            border-radius: 2px;\n            box-shadow: 0 2px 2px 0 rgb(0 0 0 / 14%), 0 3px 1px -2px rgb(0 0 0 / 12%), 0 1px 5px 0 rgb(0 0 0 / 20%);\n            padding: 24px;\n            color: white;\n        }\n\n        .card .card-title {\n            font-size: 24px;\n            font-weight: 300;\n        }\n\n        @media only screen and (min-width: 800px) {\n            /* For notebook: */\n            .card {width: 99% !important;}\n        }\n\n        @media only screen and (min-width: 1400px) {\n            /* For colab: */\n            .card {width: 99% !important;}\n        }\n\n        .blue-grey.darken-1 {\n            background-color: #546e7a !important;\n        }\n\n        .small-card {\n            position: relative;\n            margin: 0.5rem 0 1rem 0;\n            background-color: #fff;\n            -webkit-transition: -webkit-box-shadow .25s;\n            transition: -webkit-box-shadow .25s;\n            transition: box-shadow .25s;\n            transition: box-shadow .25s, -webkit-box-shadow .25s;\n            border-radius: 2px;\n            box-shadow: 0 2px 2px 0 rgb(0 0 0 / 14%), 0 3px 1px -2px rgb(0 0 0 / 12%), 0 1px 5px 0 rgb(0 0 0 / 20%);\n            padding: 0px 5px 0px 5px;\n            color: white;\n        }\n\n        .inner-card {\n            position: relative;\n            background-color: #fff;\n            -webkit-transition: -webkit-box-shadow .25s;\n            transition: -webkit-box-shadow .25s;\n            transition: box-shadow .25s;\n            transition: box-shadow .25s, -webkit-box-shadow .25s;\n            border-radius: 2px;\n            box-shadow: 0 2px 2px 0 rgb(0 0 0 / 14%), 0 3px 1px -2px rgb(0 0 0 / 12%), 0 1px 5px 0 rgb(0 0 0 / 20%);\n            padding: 20px;\n            color: white;\n            margin: 0px 1px 1px 1px;\n        }\n\n        .card-with-tab {\n            position: relative;\n            margin: 0.5rem 0.1rem 1rem 0.2rem;\n            background-color: #fff;\n            -webkit-transition: -webkit-box-shadow .25s;\n            transition: -webkit-box-shadow .25s;\n            transition: box-shadow .25s;\n            transition: box-shadow .25s, -webkit-box-shadow .25s;\n            border-radius: 2px;\n            box-shadow: 0 2px 2px 0 rgb(0 0 0 / 14%), 0 3px 1px -2px rgb(0 0 0 / 12%), 0 1px 5px 0 rgb(0 0 0 / 20%);\n            padding: 24px;\n            color: white;\n        }\n\n        .card-with-tab button {\n            width: auto;\n            padding: 12px 40px;\n        }\n\n        .list {\n            padding: 0px 10px;\n            box-shadow: 0 2px 2px 0 rgb(0 0 0 / 14%), 0 3px 1px -2px rgb(0 0 0 / 12%), 0 1px 5px 0 rgb(0 0 0 / 20%);\n            margin: 0px 1px 60px 1px;\n        }\n\n        .list-item {\n            padding: 10px 0px;\n            border-width: 0;\n            border-style: solid;\n            border-color: rgba(0, 0, 0, 0.08);\n            border-bottom-width: thin;\n        }\n\n        .divider {\n            margin: 10px 0px;\n            border-width: 0;\n            border-style: solid;\n            border-color: rgba(0, 0, 0, 0.08);\n            border-bottom-width: thin;\n        }\n\n        .hr {\n            margin: 0;\n            -webkit-flex-shrink: 0;\n            -ms-flex-negative: 0;\n            flex-shrink: 0;\n            border-width: 0;\n            border-style: solid;\n            border-color: rgba(0, 0, 0, 0.08);\n            border-bottom-width: thin;\n        }\n\n        .notification {\n            transition: box-shadow 300ms cubic-bezier(0.4, 0, 0.2, 1) 0ms;\n            border-radius: 4px;\n            box-shadow: 0 2px 2px 0 rgb(0 0 0 / 14%), 0 3px 1px -2px rgb(0 0 0 / 12%), 0 1px 5px 0 rgb(0 0 0 / 20%);\n            font-family: Roboto, Helvetica, Arial, sans-serif;\n            font-weight: 500;\n            font-size: 12px;\n            line-height: 1.43;\n            letter-spacing: 0.01071em;\n            background-color: rgb(2, 136, 209);\n            display: flex;\n            padding: 6px 16px;\n            color: rgb(255, 255, 255);\n            margin-top: 10px;\n        }\n\n        .success {\n            background-color: #EDF7ED;\n            color: #1E4620;\n        }\n\n        .error {\n            background-color: #FDEDED;\n            color: #5F2120;\n        }\n\n        .info {\n            background-color: #E5F6FD;\n            color: #528298;\n        }\n\n        .warn {\n            background-color: #FFF4E5;\n            color: #663C00;\n        }\n\n        .margin-top-20 {\n            margin-top: 20px;\n        }\n\n        .hide {\n            display: none;\n        }\n\n        .pbtn {\n            display: inline-flex;\n            -webkit-box-align: center;\n            align-items: center;\n            -webkit-box-pack: center;\n            justify-content: center;\n            position: relative;\n            box-sizing: border-box;\n            -webkit-tap-highlight-color: transparent;\n            outline: 0px;\n            border: 0px;\n            margin: 0px;\n            cursor: pointer;\n            user-select: none;\n            vertical-align: middle;\n            appearance: none;\n            text-decoration: none;\n            font-family: Roboto, Helvetica, Arial, sans-serif;\n            font-weight: 550;\n            font-size: 12px;\n            line-height: 1.75;\n            letter-spacing: 0.02857em;\n            text-transform: uppercase;\n            min-width: 64px;\n            padding: 6px 16px;\n            border-radius: 4px;\n            transition: background-color 250ms cubic-bezier(0.4, 0, 0.2, 1) 0ms, box-shadow 250ms cubic-bezier(0.4, 0, 0.2, 1) 0ms, border-color 250ms cubic-bezier(0.4, 0, 0.2, 1) 0ms, color 250ms cubic-bezier(0.4, 0, 0.2, 1) 0ms;\n            color: rgb(255, 255, 255);\n            background-color: #D71E28;\n            box-shadow: rgb(0 0 0 / 20%) 0px 3px 1px -2px, rgb(0 0 0 / 14%) 0px 2px 2px 0px, rgb(0 0 0 / 12%) 0px 1px 5px 0px;\n        }\n\n        .jp-OutputArea-output {\n            flex-grow: 1;\n            flex-shrink: 1;\n            margin: 0px;\n        }\n\n        .output_subarea {\n            padding: 0px !important;\n        }\n\n        .ptable, .pth, .ptd {\n            border: none;\n        }\n\n        .pth, .ptd {\n            max-width: 150px;\n            white-space: nowrap;\n            overflow: hidden;\n            -o-text-overflow: ellipsis;\n            -ms-text-overflow: ellipsis;\n            text-overflow: ellipsis;\n        }\n\n        .ptable {\n            display: table;\n            border-collapse: collapse;\n            border-spacing: 0;\n        }\n\n        .ptable.striped .ptr {\n            border-bottom: none;\n        }\n\n        .ptable.striped > .ptbody > .ptr:nth-child(odd) {\n            background-color: rgba(242, 242, 242, 0.5);\n        }\n\n        .ptable.striped > .ptbody > .ptr > .ptd {\n            border-radius: 0;\n        }\n\n        .ptable.highlight > .ptbody > .ptr {\n            -webkit-transition: background-color .25s ease;\n            transition: background-color .25s ease;\n        }\n\n        .ptable.highlight > .ptbody > .ptr:hover {\n            background-color: rgba(242, 242, 242, 0.5);\n        }\n\n        .ptable.centered .pthead .ptr .pth, .ptable.centered .ptbody .ptr .ptd {\n            text-align: center;\n        }\n\n        .ptr {\n            border-bottom: 1px solid rgba(0, 0, 0, 0.12);\n        }\n\n        .ptr.hightlight {\n            background-color: yellow !important;\n        }\n\n        .ptd, .pth {\n            padding: 0.2rem 0.6rem;\n            display: table-cell;\n            text-align: right;\n            vertical-align: middle;\n            border-radius: 2px;\n            position: relative;\n        }\n\n        .ptr.grey {\n            background-color: grey !important;\n        }\n\n        .ptr.strikeout .ptd:before {\n            content: \" \";\n            position: absolute;\n            top: 50%;\n            left: 0;\n            border-bottom: 1px solid #111;\n            width: 100%;\n        }\n\n        .widget-toggle-button {\n            display: inline-flex;\n            -webkit-box-align: center;\n            align-items: center;\n            -webkit-box-pack: center;\n            justify-content: center;\n            box-sizing: border-box;\n            -webkit-tap-highlight-color: transparent;\n            background-color: transparent !important;\n            outline: 0px;\n            border: 0px;\n            border-bottom: 2px solid #E4E4E4 !important;\n            box-shadow: none !important;\n            margin: 0px !important;\n            border-radius: 0px;\n            cursor: pointer;\n            user-select: none;\n            vertical-align: middle;\n            appearance: none;\n            text-decoration: none;\n            font-family: Roboto, Helvetica, Arial, sans-serif;\n            font-weight: 500;\n            font-size: 14px;\n            line-height: 1.25;\n            letter-spacing: 0.02857em;\n            max-width: 360px;\n            min-width: 90px;\n            position: relative;\n            min-height: 48px;\n            flex-shrink: 0;\n            padding: 12px 16px;\n            overflow: hidden;\n            white-space: normal;\n            text-align: center;\n            flex-direction: column;\n            color: rgba(0, 0, 0, 0.6);\n        }\n\n        .narrow-accordion .jupyter-widget-Accordion-child .jupyter-widget-Collapse-header{\n            padding: 5px;\n        }  \n\n        .mod-active {\n            color: rgb(25, 118, 210) !important;\n            border-bottom: 2px solid rgb(25, 118, 210) !important;\n        }\n\n        .narrow-tab button {\n            max-width: 15%;\n        }\n\n        .narrow-tab-fairness button {\n            max-width: 20%;\n        }\n        .narrow-tab-fs button {\n            max-width: 25%;\n        }\n\n        .overflow-fix .jupyter-widgets {\n            overflow: auto;\n        }\n\n        .inner-padding {\n            padding-top: 20px;\n        }\n\n        .fix-img img {\n            width: 100%;\n        }\n\n        .fix-img-half img {\n            width: 50%;\n        }\n\n        .flex-reverse-for-update-button {\n            flex-direction: row-reverse;\n            margin-right: 50px;\n        }\n\n        .data-summary-tab {\n            max-height: 400px;\n        }\n\n        .restricted_table_height {\n            max-height: 450px\n        }\n\n        .input-width-with-parent .widget-dropdown {\n            width: 100%;\n        }\n\n        .input-width-with-parent .widget-text {\n            width: 100%;\n        }\n\n        .no-margin {\n            margin: 0px;\n        }\n\n        .widget-hprogress label {\n            text-align: left;\n        }\n\n        .widget-dropdown label {\n            margin-right: 10px;\n        }\n\n        .form .widget-dropdown {\n            width: auto;\n        }\n\n        .form .widget-text {\n            width: auto;\n        }\n\n        .form p {\n            margin: 0px;\n        }\n\n        .widget-dropdown {\n            white-space: nowrap;\n            overflow: hidden;\n            -o-text-overflow: ellipsis;\n            -ms-text-overflow: ellipsis;\n            text-overflow: ellipsis;\n        }\n\n        .progress-train label {\n            margin-right: 10px;\n        }\n\n        select {\n            height: 97% !important;\n        }\n\n        .no-overflow {\n            overflow: none;\n        }\n\n        .split-btn button {\n            margin-bottom: 2px;\n        }\n\n        .register-btn {\n            width: 50%\n        }\n\n        .register-btn-colab {\n            width: 40%\n        }\n\n        .fix-config-from-overflow .jp-OutputArea-child {\n            display: inherit;\n        }\n        \n        .checkbox-center input[type=\"checkbox\"] {\n            vertical-align: middle;\n        }\n\n        input[type=\"checkbox\"] {\n            vertical-align: middle;\n        }\n\n        </style>\n        "
      }
     },
     "342b365a0a614d6cb223e400ae0ca14c": {
      "model_module": "@jupyter-widgets/controls",
      "model_module_version": "1.5.0",
      "model_name": "DropdownModel",
      "state": {
       "_options_labels": [
        "Random",
        "Outer-Sample",
        "Kmeans"
       ],
       "index": 0,
       "layout": "IPY_MODEL_1551851633f24abc954f0da0cfdcff20",
       "style": "IPY_MODEL_935b77bbc7814d0f85c5b9c24a048075"
      }
     },
     "35c093fc197f422a9e34416754f1b4ea": {
      "model_module": "@jupyter-widgets/base",
      "model_module_version": "1.2.0",
      "model_name": "LayoutModel",
      "state": {
       "width": "120px"
      }
     },
     "35dd4fead2544c35aca10ede47d1e718": {
      "model_module": "@jupyter-widgets/base",
      "model_module_version": "1.2.0",
      "model_name": "LayoutModel",
      "state": {
       "width": "20%"
      }
     },
     "361bc13bf852471cb066bf89f295609c": {
      "model_module": "@jupyter-widgets/base",
      "model_module_version": "1.2.0",
      "model_name": "LayoutModel",
      "state": {}
     },
     "370f267b8a0f4bc4a6a7d7465da7d6c3": {
      "model_module": "@jupyter-widgets/base",
      "model_module_version": "1.2.0",
      "model_name": "LayoutModel",
      "state": {
       "width": "120px"
      }
     },
     "371eb1c76cbc424c8af871bcdcb54476": {
      "model_module": "@jupyter-widgets/base",
      "model_module_version": "1.2.0",
      "model_name": "LayoutModel",
      "state": {}
     },
     "37666c19a17541f19fed46fa12ab45fe": {
      "model_module": "@jupyter-widgets/controls",
      "model_module_version": "1.5.0",
      "model_name": "HTMLModel",
      "state": {
       "layout": "IPY_MODEL_834faffc23c44da8be0458d70ac2d2b0",
       "style": "IPY_MODEL_148b86f8c9f74ef3881584cf426f0086",
       "value": "<link rel=\"stylesheet\" href=\"//stackpath.bootstrapcdn.com/font-awesome/4.7.0/css/font-awesome.min.css\"/>"
      }
     },
     "3828d1575c724f86b7b23602d1f3db32": {
      "model_module": "@jupyter-widgets/controls",
      "model_module_version": "1.5.0",
      "model_name": "BoundedIntTextModel",
      "state": {
       "layout": "IPY_MODEL_d5e520b7b1a9414b9180f8276a2e7670",
       "style": "IPY_MODEL_70ba51127adf4a7eae705691ede9ea5e"
      }
     },
     "388e0de04af0446894e6efe510c1c067": {
      "model_module": "@jupyter-widgets/controls",
      "model_module_version": "1.5.0",
      "model_name": "DescriptionStyleModel",
      "state": {
       "description_width": "initial"
      }
     },
     "399e75e28dfa482ba3b2fe4775ef7e8d": {
      "model_module": "@jupyter-widgets/controls",
      "model_module_version": "1.5.0",
      "model_name": "ButtonStyleModel",
      "state": {}
     },
     "3aa4a5eb869348ac9deb1990d98fe262": {
      "model_module": "@jupyter-widgets/controls",
      "model_module_version": "1.5.0",
      "model_name": "HTMLModel",
      "state": {
       "layout": "IPY_MODEL_f4a604ce0d5b4130a9b52089ce3241fb",
       "style": "IPY_MODEL_7e1bdb859e0e427bb226caadfced49a8",
       "value": "\n        <style>\n\n        .left-label {\n            width: 30%;\n        }\n\n        .card-panel {\n            -webkit-transition: -webkit-box-shadow .25s;\n            transition: -webkit-box-shadow .25s;\n            transition: box-shadow .25s;\n            transition: box-shadow .25s, -webkit-box-shadow .25s;\n            padding: 24px;\n            margin: 0.5rem 0 1rem 0;\n            border-radius: 2px;\n            background-color: #fff;\n        }\n\n        .card {\n            position: relative;\n            margin: 0.5rem 0.1rem 1rem 0.2rem;\n            background-color: #fff;\n            -webkit-transition: -webkit-box-shadow .25s;\n            transition: -webkit-box-shadow .25s;\n            transition: box-shadow .25s;\n            transition: box-shadow .25s, -webkit-box-shadow .25s;\n            border-radius: 2px;\n            box-shadow: 0 2px 2px 0 rgb(0 0 0 / 14%), 0 3px 1px -2px rgb(0 0 0 / 12%), 0 1px 5px 0 rgb(0 0 0 / 20%);\n            padding: 24px;\n            color: white;\n        }\n\n        .card .card-title {\n            font-size: 24px;\n            font-weight: 300;\n        }\n\n        @media only screen and (min-width: 800px) {\n            /* For notebook: */\n            .card {width: 99% !important;}\n        }\n\n        @media only screen and (min-width: 1400px) {\n            /* For colab: */\n            .card {width: 99% !important;}\n        }\n\n        .blue-grey.darken-1 {\n            background-color: #546e7a !important;\n        }\n\n        .small-card {\n            position: relative;\n            margin: 0.5rem 0 1rem 0;\n            background-color: #fff;\n            -webkit-transition: -webkit-box-shadow .25s;\n            transition: -webkit-box-shadow .25s;\n            transition: box-shadow .25s;\n            transition: box-shadow .25s, -webkit-box-shadow .25s;\n            border-radius: 2px;\n            box-shadow: 0 2px 2px 0 rgb(0 0 0 / 14%), 0 3px 1px -2px rgb(0 0 0 / 12%), 0 1px 5px 0 rgb(0 0 0 / 20%);\n            padding: 0px 5px 0px 5px;\n            color: white;\n        }\n\n        .inner-card {\n            position: relative;\n            background-color: #fff;\n            -webkit-transition: -webkit-box-shadow .25s;\n            transition: -webkit-box-shadow .25s;\n            transition: box-shadow .25s;\n            transition: box-shadow .25s, -webkit-box-shadow .25s;\n            border-radius: 2px;\n            box-shadow: 0 2px 2px 0 rgb(0 0 0 / 14%), 0 3px 1px -2px rgb(0 0 0 / 12%), 0 1px 5px 0 rgb(0 0 0 / 20%);\n            padding: 20px;\n            color: white;\n            margin: 0px 1px 1px 1px;\n        }\n\n        .card-with-tab {\n            position: relative;\n            margin: 0.5rem 0.1rem 1rem 0.2rem;\n            background-color: #fff;\n            -webkit-transition: -webkit-box-shadow .25s;\n            transition: -webkit-box-shadow .25s;\n            transition: box-shadow .25s;\n            transition: box-shadow .25s, -webkit-box-shadow .25s;\n            border-radius: 2px;\n            box-shadow: 0 2px 2px 0 rgb(0 0 0 / 14%), 0 3px 1px -2px rgb(0 0 0 / 12%), 0 1px 5px 0 rgb(0 0 0 / 20%);\n            padding: 24px;\n            color: white;\n        }\n\n        .card-with-tab button {\n            width: auto;\n            padding: 12px 40px;\n        }\n\n        .list {\n            padding: 0px 10px;\n            box-shadow: 0 2px 2px 0 rgb(0 0 0 / 14%), 0 3px 1px -2px rgb(0 0 0 / 12%), 0 1px 5px 0 rgb(0 0 0 / 20%);\n            margin: 0px 1px 60px 1px;\n        }\n\n        .list-item {\n            padding: 10px 0px;\n            border-width: 0;\n            border-style: solid;\n            border-color: rgba(0, 0, 0, 0.08);\n            border-bottom-width: thin;\n        }\n\n        .divider {\n            margin: 10px 0px;\n            border-width: 0;\n            border-style: solid;\n            border-color: rgba(0, 0, 0, 0.08);\n            border-bottom-width: thin;\n        }\n\n        .hr {\n            margin: 0;\n            -webkit-flex-shrink: 0;\n            -ms-flex-negative: 0;\n            flex-shrink: 0;\n            border-width: 0;\n            border-style: solid;\n            border-color: rgba(0, 0, 0, 0.08);\n            border-bottom-width: thin;\n        }\n\n        .notification {\n            transition: box-shadow 300ms cubic-bezier(0.4, 0, 0.2, 1) 0ms;\n            border-radius: 4px;\n            box-shadow: 0 2px 2px 0 rgb(0 0 0 / 14%), 0 3px 1px -2px rgb(0 0 0 / 12%), 0 1px 5px 0 rgb(0 0 0 / 20%);\n            font-family: Roboto, Helvetica, Arial, sans-serif;\n            font-weight: 500;\n            font-size: 12px;\n            line-height: 1.43;\n            letter-spacing: 0.01071em;\n            background-color: rgb(2, 136, 209);\n            display: flex;\n            padding: 6px 16px;\n            color: rgb(255, 255, 255);\n            margin-top: 10px;\n        }\n\n        .success {\n            background-color: #EDF7ED;\n            color: #1E4620;\n        }\n\n        .error {\n            background-color: #FDEDED;\n            color: #5F2120;\n        }\n\n        .info {\n            background-color: #E5F6FD;\n            color: #528298;\n        }\n\n        .warn {\n            background-color: #FFF4E5;\n            color: #663C00;\n        }\n\n        .margin-top-20 {\n            margin-top: 20px;\n        }\n\n        .hide {\n            display: none;\n        }\n\n        .pbtn {\n            display: inline-flex;\n            -webkit-box-align: center;\n            align-items: center;\n            -webkit-box-pack: center;\n            justify-content: center;\n            position: relative;\n            box-sizing: border-box;\n            -webkit-tap-highlight-color: transparent;\n            outline: 0px;\n            border: 0px;\n            margin: 0px;\n            cursor: pointer;\n            user-select: none;\n            vertical-align: middle;\n            appearance: none;\n            text-decoration: none;\n            font-family: Roboto, Helvetica, Arial, sans-serif;\n            font-weight: 550;\n            font-size: 12px;\n            line-height: 1.75;\n            letter-spacing: 0.02857em;\n            text-transform: uppercase;\n            min-width: 64px;\n            padding: 6px 16px;\n            border-radius: 4px;\n            transition: background-color 250ms cubic-bezier(0.4, 0, 0.2, 1) 0ms, box-shadow 250ms cubic-bezier(0.4, 0, 0.2, 1) 0ms, border-color 250ms cubic-bezier(0.4, 0, 0.2, 1) 0ms, color 250ms cubic-bezier(0.4, 0, 0.2, 1) 0ms;\n            color: rgb(255, 255, 255);\n            background-color: #D71E28;\n            box-shadow: rgb(0 0 0 / 20%) 0px 3px 1px -2px, rgb(0 0 0 / 14%) 0px 2px 2px 0px, rgb(0 0 0 / 12%) 0px 1px 5px 0px;\n        }\n\n        .jp-OutputArea-output {\n            flex-grow: 1;\n            flex-shrink: 1;\n            margin: 0px;\n        }\n\n        .output_subarea {\n            padding: 0px !important;\n        }\n\n        .ptable, .pth, .ptd {\n            border: none;\n        }\n\n        .pth, .ptd {\n            max-width: 150px;\n            white-space: nowrap;\n            overflow: hidden;\n            -o-text-overflow: ellipsis;\n            -ms-text-overflow: ellipsis;\n            text-overflow: ellipsis;\n        }\n\n        .ptable {\n            display: table;\n            border-collapse: collapse;\n            border-spacing: 0;\n        }\n\n        .ptable.striped .ptr {\n            border-bottom: none;\n        }\n\n        .ptable.striped > .ptbody > .ptr:nth-child(odd) {\n            background-color: rgba(242, 242, 242, 0.5);\n        }\n\n        .ptable.striped > .ptbody > .ptr > .ptd {\n            border-radius: 0;\n        }\n\n        .ptable.highlight > .ptbody > .ptr {\n            -webkit-transition: background-color .25s ease;\n            transition: background-color .25s ease;\n        }\n\n        .ptable.highlight > .ptbody > .ptr:hover {\n            background-color: rgba(242, 242, 242, 0.5);\n        }\n\n        .ptable.centered .pthead .ptr .pth, .ptable.centered .ptbody .ptr .ptd {\n            text-align: center;\n        }\n\n        .ptr {\n            border-bottom: 1px solid rgba(0, 0, 0, 0.12);\n        }\n\n        .ptr.hightlight {\n            background-color: yellow !important;\n        }\n\n        .ptd, .pth {\n            padding: 0.2rem 0.6rem;\n            display: table-cell;\n            text-align: right;\n            vertical-align: middle;\n            border-radius: 2px;\n            position: relative;\n        }\n\n        .ptr.grey {\n            background-color: grey !important;\n        }\n\n        .ptr.strikeout .ptd:before {\n            content: \" \";\n            position: absolute;\n            top: 50%;\n            left: 0;\n            border-bottom: 1px solid #111;\n            width: 100%;\n        }\n\n        .widget-toggle-button {\n            display: inline-flex;\n            -webkit-box-align: center;\n            align-items: center;\n            -webkit-box-pack: center;\n            justify-content: center;\n            box-sizing: border-box;\n            -webkit-tap-highlight-color: transparent;\n            background-color: transparent !important;\n            outline: 0px;\n            border: 0px;\n            border-bottom: 2px solid #E4E4E4 !important;\n            box-shadow: none !important;\n            margin: 0px !important;\n            border-radius: 0px;\n            cursor: pointer;\n            user-select: none;\n            vertical-align: middle;\n            appearance: none;\n            text-decoration: none;\n            font-family: Roboto, Helvetica, Arial, sans-serif;\n            font-weight: 500;\n            font-size: 14px;\n            line-height: 1.25;\n            letter-spacing: 0.02857em;\n            max-width: 360px;\n            min-width: 90px;\n            position: relative;\n            min-height: 48px;\n            flex-shrink: 0;\n            padding: 12px 16px;\n            overflow: hidden;\n            white-space: normal;\n            text-align: center;\n            flex-direction: column;\n            color: rgba(0, 0, 0, 0.6);\n        }\n\n        .narrow-accordion .jupyter-widget-Accordion-child .jupyter-widget-Collapse-header{\n            padding: 5px;\n        }  \n\n        .mod-active {\n            color: rgb(25, 118, 210) !important;\n            border-bottom: 2px solid rgb(25, 118, 210) !important;\n        }\n\n        .narrow-tab button {\n            max-width: 15%;\n        }\n\n        .narrow-tab-fairness button {\n            max-width: 20%;\n        }\n        .narrow-tab-fs button {\n            max-width: 25%;\n        }\n\n        .overflow-fix .jupyter-widgets {\n            overflow: auto;\n        }\n\n        .inner-padding {\n            padding-top: 20px;\n        }\n\n        .fix-img img {\n            width: 100%;\n        }\n\n        .fix-img-half img {\n            width: 50%;\n        }\n\n        .flex-reverse-for-update-button {\n            flex-direction: row-reverse;\n            margin-right: 50px;\n        }\n\n        .data-summary-tab {\n            max-height: 400px;\n        }\n\n        .restricted_table_height {\n            max-height: 450px\n        }\n\n        .input-width-with-parent .widget-dropdown {\n            width: 100%;\n        }\n\n        .input-width-with-parent .widget-text {\n            width: 100%;\n        }\n\n        .no-margin {\n            margin: 0px;\n        }\n\n        .widget-hprogress label {\n            text-align: left;\n        }\n\n        .widget-dropdown label {\n            margin-right: 10px;\n        }\n\n        .form .widget-dropdown {\n            width: auto;\n        }\n\n        .form .widget-text {\n            width: auto;\n        }\n\n        .form p {\n            margin: 0px;\n        }\n\n        .widget-dropdown {\n            white-space: nowrap;\n            overflow: hidden;\n            -o-text-overflow: ellipsis;\n            -ms-text-overflow: ellipsis;\n            text-overflow: ellipsis;\n        }\n\n        .progress-train label {\n            margin-right: 10px;\n        }\n\n        select {\n            height: 97% !important;\n        }\n\n        .no-overflow {\n            overflow: none;\n        }\n\n        .split-btn button {\n            margin-bottom: 2px;\n        }\n\n        .register-btn {\n            width: 50%\n        }\n\n        .register-btn-colab {\n            width: 40%\n        }\n\n        .fix-config-from-overflow .jp-OutputArea-child {\n            display: inherit;\n        }\n        \n        .checkbox-center input[type=\"checkbox\"] {\n            vertical-align: middle;\n        }\n\n        input[type=\"checkbox\"] {\n            vertical-align: middle;\n        }\n\n        </style>\n        "
      }
     },
     "3ab5fdc48d084a1180a2ea21db1c5e63": {
      "model_module": "@jupyter-widgets/base",
      "model_module_version": "1.2.0",
      "model_name": "LayoutModel",
      "state": {}
     },
     "3b6221a1f88b4cbd92a03fcde16bb756": {
      "model_module": "@jupyter-widgets/controls",
      "model_module_version": "1.5.0",
      "model_name": "DropdownModel",
      "state": {
       "_options_labels": [
        "yr",
        "mnth",
        "hr",
        "holiday",
        "weekday",
        "weathersit",
        "temp",
        "hum",
        "windspeed",
        "cnt"
       ],
       "index": 9,
       "layout": "IPY_MODEL_4e61126da45741beb14614feb130273f",
       "style": "IPY_MODEL_0509f4a57f1b44579e37da34efdc0560"
      }
     },
     "3bedfd3efb2b4c83b11c1984aa064d19": {
      "model_module": "@jupyter-widgets/base",
      "model_module_version": "1.2.0",
      "model_name": "LayoutModel",
      "state": {
       "align_items": "stretch",
       "width": "55%"
      }
     },
     "3bf3130a9ad44e4892487b241fd3ad49": {
      "model_module": "@jupyter-widgets/base",
      "model_module_version": "1.2.0",
      "model_name": "LayoutModel",
      "state": {
       "width": "20%"
      }
     },
     "3c6fbf948ba646708fe2da3c87eb013c": {
      "model_module": "@jupyter-widgets/base",
      "model_module_version": "1.2.0",
      "model_name": "LayoutModel",
      "state": {}
     },
     "3c8f1a886273466896a375c291f0fc25": {
      "model_module": "@jupyter-widgets/controls",
      "model_module_version": "1.5.0",
      "model_name": "DescriptionStyleModel",
      "state": {
       "description_width": ""
      }
     },
     "3cc5c5dc7e62462195f52c3ae9bbcfdf": {
      "model_module": "@jupyter-widgets/base",
      "model_module_version": "1.2.0",
      "model_name": "LayoutModel",
      "state": {}
     },
     "3d33e2a392df48db91690954e60a4e1a": {
      "model_module": "@jupyter-widgets/controls",
      "model_module_version": "1.5.0",
      "model_name": "HTMLModel",
      "state": {
       "layout": "IPY_MODEL_54a96e823edf450890740a4f6fdc097f",
       "style": "IPY_MODEL_665303002f344b0a84e5759811c6aea2",
       "value": "<div style='margin-right: 10px'></div>"
      }
     },
     "3df10ebac1724e55b960da0138708c44": {
      "model_module": "@jupyter-widgets/controls",
      "model_module_version": "1.5.0",
      "model_name": "HTMLModel",
      "state": {
       "layout": "IPY_MODEL_83e16b0d8fbd414e9763f7b532bd6f3e",
       "style": "IPY_MODEL_f9dc357f1b1542a5b31ec512d2152419",
       "value": "\n        <style>\n\n        .left-label {\n            width: 30%;\n        }\n\n        .card-panel {\n            -webkit-transition: -webkit-box-shadow .25s;\n            transition: -webkit-box-shadow .25s;\n            transition: box-shadow .25s;\n            transition: box-shadow .25s, -webkit-box-shadow .25s;\n            padding: 24px;\n            margin: 0.5rem 0 1rem 0;\n            border-radius: 2px;\n            background-color: #fff;\n        }\n\n        .card {\n            position: relative;\n            margin: 0.5rem 0.1rem 1rem 0.2rem;\n            background-color: #fff;\n            -webkit-transition: -webkit-box-shadow .25s;\n            transition: -webkit-box-shadow .25s;\n            transition: box-shadow .25s;\n            transition: box-shadow .25s, -webkit-box-shadow .25s;\n            border-radius: 2px;\n            box-shadow: 0 2px 2px 0 rgb(0 0 0 / 14%), 0 3px 1px -2px rgb(0 0 0 / 12%), 0 1px 5px 0 rgb(0 0 0 / 20%);\n            padding: 24px;\n            color: white;\n        }\n\n        .card .card-title {\n            font-size: 24px;\n            font-weight: 300;\n        }\n\n        @media only screen and (min-width: 800px) {\n            /* For notebook: */\n            .card {width: 99% !important;}\n        }\n\n        @media only screen and (min-width: 1400px) {\n            /* For colab: */\n            .card {width: 99% !important;}\n        }\n\n        .blue-grey.darken-1 {\n            background-color: #546e7a !important;\n        }\n\n        .small-card {\n            position: relative;\n            margin: 0.5rem 0 1rem 0;\n            background-color: #fff;\n            -webkit-transition: -webkit-box-shadow .25s;\n            transition: -webkit-box-shadow .25s;\n            transition: box-shadow .25s;\n            transition: box-shadow .25s, -webkit-box-shadow .25s;\n            border-radius: 2px;\n            box-shadow: 0 2px 2px 0 rgb(0 0 0 / 14%), 0 3px 1px -2px rgb(0 0 0 / 12%), 0 1px 5px 0 rgb(0 0 0 / 20%);\n            padding: 0px 5px 0px 5px;\n            color: white;\n        }\n\n        .inner-card {\n            position: relative;\n            background-color: #fff;\n            -webkit-transition: -webkit-box-shadow .25s;\n            transition: -webkit-box-shadow .25s;\n            transition: box-shadow .25s;\n            transition: box-shadow .25s, -webkit-box-shadow .25s;\n            border-radius: 2px;\n            box-shadow: 0 2px 2px 0 rgb(0 0 0 / 14%), 0 3px 1px -2px rgb(0 0 0 / 12%), 0 1px 5px 0 rgb(0 0 0 / 20%);\n            padding: 20px;\n            color: white;\n            margin: 0px 1px 1px 1px;\n        }\n\n        .card-with-tab {\n            position: relative;\n            margin: 0.5rem 0.1rem 1rem 0.2rem;\n            background-color: #fff;\n            -webkit-transition: -webkit-box-shadow .25s;\n            transition: -webkit-box-shadow .25s;\n            transition: box-shadow .25s;\n            transition: box-shadow .25s, -webkit-box-shadow .25s;\n            border-radius: 2px;\n            box-shadow: 0 2px 2px 0 rgb(0 0 0 / 14%), 0 3px 1px -2px rgb(0 0 0 / 12%), 0 1px 5px 0 rgb(0 0 0 / 20%);\n            padding: 24px;\n            color: white;\n        }\n\n        .card-with-tab button {\n            width: auto;\n            padding: 12px 40px;\n        }\n\n        .list {\n            padding: 0px 10px;\n            box-shadow: 0 2px 2px 0 rgb(0 0 0 / 14%), 0 3px 1px -2px rgb(0 0 0 / 12%), 0 1px 5px 0 rgb(0 0 0 / 20%);\n            margin: 0px 1px 60px 1px;\n        }\n\n        .list-item {\n            padding: 10px 0px;\n            border-width: 0;\n            border-style: solid;\n            border-color: rgba(0, 0, 0, 0.08);\n            border-bottom-width: thin;\n        }\n\n        .divider {\n            margin: 10px 0px;\n            border-width: 0;\n            border-style: solid;\n            border-color: rgba(0, 0, 0, 0.08);\n            border-bottom-width: thin;\n        }\n\n        .hr {\n            margin: 0;\n            -webkit-flex-shrink: 0;\n            -ms-flex-negative: 0;\n            flex-shrink: 0;\n            border-width: 0;\n            border-style: solid;\n            border-color: rgba(0, 0, 0, 0.08);\n            border-bottom-width: thin;\n        }\n\n        .notification {\n            transition: box-shadow 300ms cubic-bezier(0.4, 0, 0.2, 1) 0ms;\n            border-radius: 4px;\n            box-shadow: 0 2px 2px 0 rgb(0 0 0 / 14%), 0 3px 1px -2px rgb(0 0 0 / 12%), 0 1px 5px 0 rgb(0 0 0 / 20%);\n            font-family: Roboto, Helvetica, Arial, sans-serif;\n            font-weight: 500;\n            font-size: 12px;\n            line-height: 1.43;\n            letter-spacing: 0.01071em;\n            background-color: rgb(2, 136, 209);\n            display: flex;\n            padding: 6px 16px;\n            color: rgb(255, 255, 255);\n            margin-top: 10px;\n        }\n\n        .success {\n            background-color: #EDF7ED;\n            color: #1E4620;\n        }\n\n        .error {\n            background-color: #FDEDED;\n            color: #5F2120;\n        }\n\n        .info {\n            background-color: #E5F6FD;\n            color: #528298;\n        }\n\n        .warn {\n            background-color: #FFF4E5;\n            color: #663C00;\n        }\n\n        .margin-top-20 {\n            margin-top: 20px;\n        }\n\n        .hide {\n            display: none;\n        }\n\n        .pbtn {\n            display: inline-flex;\n            -webkit-box-align: center;\n            align-items: center;\n            -webkit-box-pack: center;\n            justify-content: center;\n            position: relative;\n            box-sizing: border-box;\n            -webkit-tap-highlight-color: transparent;\n            outline: 0px;\n            border: 0px;\n            margin: 0px;\n            cursor: pointer;\n            user-select: none;\n            vertical-align: middle;\n            appearance: none;\n            text-decoration: none;\n            font-family: Roboto, Helvetica, Arial, sans-serif;\n            font-weight: 550;\n            font-size: 12px;\n            line-height: 1.75;\n            letter-spacing: 0.02857em;\n            text-transform: uppercase;\n            min-width: 64px;\n            padding: 6px 16px;\n            border-radius: 4px;\n            transition: background-color 250ms cubic-bezier(0.4, 0, 0.2, 1) 0ms, box-shadow 250ms cubic-bezier(0.4, 0, 0.2, 1) 0ms, border-color 250ms cubic-bezier(0.4, 0, 0.2, 1) 0ms, color 250ms cubic-bezier(0.4, 0, 0.2, 1) 0ms;\n            color: rgb(255, 255, 255);\n            background-color: #D71E28;\n            box-shadow: rgb(0 0 0 / 20%) 0px 3px 1px -2px, rgb(0 0 0 / 14%) 0px 2px 2px 0px, rgb(0 0 0 / 12%) 0px 1px 5px 0px;\n        }\n\n        .jp-OutputArea-output {\n            flex-grow: 1;\n            flex-shrink: 1;\n            margin: 0px;\n        }\n\n        .output_subarea {\n            padding: 0px !important;\n        }\n\n        .ptable, .pth, .ptd {\n            border: none;\n        }\n\n        .pth, .ptd {\n            max-width: 150px;\n            white-space: nowrap;\n            overflow: hidden;\n            -o-text-overflow: ellipsis;\n            -ms-text-overflow: ellipsis;\n            text-overflow: ellipsis;\n        }\n\n        .ptable {\n            display: table;\n            border-collapse: collapse;\n            border-spacing: 0;\n        }\n\n        .ptable.striped .ptr {\n            border-bottom: none;\n        }\n\n        .ptable.striped > .ptbody > .ptr:nth-child(odd) {\n            background-color: rgba(242, 242, 242, 0.5);\n        }\n\n        .ptable.striped > .ptbody > .ptr > .ptd {\n            border-radius: 0;\n        }\n\n        .ptable.highlight > .ptbody > .ptr {\n            -webkit-transition: background-color .25s ease;\n            transition: background-color .25s ease;\n        }\n\n        .ptable.highlight > .ptbody > .ptr:hover {\n            background-color: rgba(242, 242, 242, 0.5);\n        }\n\n        .ptable.centered .pthead .ptr .pth, .ptable.centered .ptbody .ptr .ptd {\n            text-align: center;\n        }\n\n        .ptr {\n            border-bottom: 1px solid rgba(0, 0, 0, 0.12);\n        }\n\n        .ptr.hightlight {\n            background-color: yellow !important;\n        }\n\n        .ptd, .pth {\n            padding: 0.2rem 0.6rem;\n            display: table-cell;\n            text-align: right;\n            vertical-align: middle;\n            border-radius: 2px;\n            position: relative;\n        }\n\n        .ptr.grey {\n            background-color: grey !important;\n        }\n\n        .ptr.strikeout .ptd:before {\n            content: \" \";\n            position: absolute;\n            top: 50%;\n            left: 0;\n            border-bottom: 1px solid #111;\n            width: 100%;\n        }\n\n        .widget-toggle-button {\n            display: inline-flex;\n            -webkit-box-align: center;\n            align-items: center;\n            -webkit-box-pack: center;\n            justify-content: center;\n            box-sizing: border-box;\n            -webkit-tap-highlight-color: transparent;\n            background-color: transparent !important;\n            outline: 0px;\n            border: 0px;\n            border-bottom: 2px solid #E4E4E4 !important;\n            box-shadow: none !important;\n            margin: 0px !important;\n            border-radius: 0px;\n            cursor: pointer;\n            user-select: none;\n            vertical-align: middle;\n            appearance: none;\n            text-decoration: none;\n            font-family: Roboto, Helvetica, Arial, sans-serif;\n            font-weight: 500;\n            font-size: 14px;\n            line-height: 1.25;\n            letter-spacing: 0.02857em;\n            max-width: 360px;\n            min-width: 90px;\n            position: relative;\n            min-height: 48px;\n            flex-shrink: 0;\n            padding: 12px 16px;\n            overflow: hidden;\n            white-space: normal;\n            text-align: center;\n            flex-direction: column;\n            color: rgba(0, 0, 0, 0.6);\n        }\n\n        .narrow-accordion .jupyter-widget-Accordion-child .jupyter-widget-Collapse-header{\n            padding: 5px;\n        }  \n\n        .mod-active {\n            color: rgb(25, 118, 210) !important;\n            border-bottom: 2px solid rgb(25, 118, 210) !important;\n        }\n\n        .narrow-tab button {\n            max-width: 15%;\n        }\n\n        .narrow-tab-fairness button {\n            max-width: 20%;\n        }\n        .narrow-tab-fs button {\n            max-width: 25%;\n        }\n\n        .overflow-fix .jupyter-widgets {\n            overflow: auto;\n        }\n\n        .inner-padding {\n            padding-top: 20px;\n        }\n\n        .fix-img img {\n            width: 100%;\n        }\n\n        .fix-img-half img {\n            width: 50%;\n        }\n\n        .flex-reverse-for-update-button {\n            flex-direction: row-reverse;\n            margin-right: 50px;\n        }\n\n        .data-summary-tab {\n            max-height: 400px;\n        }\n\n        .restricted_table_height {\n            max-height: 450px\n        }\n\n        .input-width-with-parent .widget-dropdown {\n            width: 100%;\n        }\n\n        .input-width-with-parent .widget-text {\n            width: 100%;\n        }\n\n        .no-margin {\n            margin: 0px;\n        }\n\n        .widget-hprogress label {\n            text-align: left;\n        }\n\n        .widget-dropdown label {\n            margin-right: 10px;\n        }\n\n        .form .widget-dropdown {\n            width: auto;\n        }\n\n        .form .widget-text {\n            width: auto;\n        }\n\n        .form p {\n            margin: 0px;\n        }\n\n        .widget-dropdown {\n            white-space: nowrap;\n            overflow: hidden;\n            -o-text-overflow: ellipsis;\n            -ms-text-overflow: ellipsis;\n            text-overflow: ellipsis;\n        }\n\n        .progress-train label {\n            margin-right: 10px;\n        }\n\n        select {\n            height: 97% !important;\n        }\n\n        .no-overflow {\n            overflow: none;\n        }\n\n        .split-btn button {\n            margin-bottom: 2px;\n        }\n\n        .register-btn {\n            width: 50%\n        }\n\n        .register-btn-colab {\n            width: 40%\n        }\n\n        .fix-config-from-overflow .jp-OutputArea-child {\n            display: inherit;\n        }\n        \n        .checkbox-center input[type=\"checkbox\"] {\n            vertical-align: middle;\n        }\n\n        input[type=\"checkbox\"] {\n            vertical-align: middle;\n        }\n\n        </style>\n        "
      }
     },
     "3ff3b10b66344e8594a2b99424f85c51": {
      "model_module": "@jupyter-widgets/controls",
      "model_module_version": "1.5.0",
      "model_name": "DescriptionStyleModel",
      "state": {
       "description_width": ""
      }
     },
     "403afafda4ae4ac9a8512bc1b773550f": {
      "model_module": "@jupyter-widgets/controls",
      "model_module_version": "1.5.0",
      "model_name": "HTMLModel",
      "state": {
       "layout": "IPY_MODEL_c20b541bc2b84a2199ec4ea5d2ecf164",
       "style": "IPY_MODEL_86e1bc09c0dd449990a7f145cb689d88",
       "value": "\n        <style>\n\n        .left-label {\n            width: 30%;\n        }\n\n        .card-panel {\n            -webkit-transition: -webkit-box-shadow .25s;\n            transition: -webkit-box-shadow .25s;\n            transition: box-shadow .25s;\n            transition: box-shadow .25s, -webkit-box-shadow .25s;\n            padding: 24px;\n            margin: 0.5rem 0 1rem 0;\n            border-radius: 2px;\n            background-color: #fff;\n        }\n\n        .card {\n            position: relative;\n            margin: 0.5rem 0.1rem 1rem 0.2rem;\n            background-color: #fff;\n            -webkit-transition: -webkit-box-shadow .25s;\n            transition: -webkit-box-shadow .25s;\n            transition: box-shadow .25s;\n            transition: box-shadow .25s, -webkit-box-shadow .25s;\n            border-radius: 2px;\n            box-shadow: 0 2px 2px 0 rgb(0 0 0 / 14%), 0 3px 1px -2px rgb(0 0 0 / 12%), 0 1px 5px 0 rgb(0 0 0 / 20%);\n            padding: 24px;\n            color: white;\n        }\n\n        .card .card-title {\n            font-size: 24px;\n            font-weight: 300;\n        }\n\n        @media only screen and (min-width: 800px) {\n            /* For notebook: */\n            .card {width: 99% !important;}\n        }\n\n        @media only screen and (min-width: 1400px) {\n            /* For colab: */\n            .card {width: 99% !important;}\n        }\n\n        .blue-grey.darken-1 {\n            background-color: #546e7a !important;\n        }\n\n        .small-card {\n            position: relative;\n            margin: 0.5rem 0 1rem 0;\n            background-color: #fff;\n            -webkit-transition: -webkit-box-shadow .25s;\n            transition: -webkit-box-shadow .25s;\n            transition: box-shadow .25s;\n            transition: box-shadow .25s, -webkit-box-shadow .25s;\n            border-radius: 2px;\n            box-shadow: 0 2px 2px 0 rgb(0 0 0 / 14%), 0 3px 1px -2px rgb(0 0 0 / 12%), 0 1px 5px 0 rgb(0 0 0 / 20%);\n            padding: 0px 5px 0px 5px;\n            color: white;\n        }\n\n        .inner-card {\n            position: relative;\n            background-color: #fff;\n            -webkit-transition: -webkit-box-shadow .25s;\n            transition: -webkit-box-shadow .25s;\n            transition: box-shadow .25s;\n            transition: box-shadow .25s, -webkit-box-shadow .25s;\n            border-radius: 2px;\n            box-shadow: 0 2px 2px 0 rgb(0 0 0 / 14%), 0 3px 1px -2px rgb(0 0 0 / 12%), 0 1px 5px 0 rgb(0 0 0 / 20%);\n            padding: 20px;\n            color: white;\n            margin: 0px 1px 1px 1px;\n        }\n\n        .card-with-tab {\n            position: relative;\n            margin: 0.5rem 0.1rem 1rem 0.2rem;\n            background-color: #fff;\n            -webkit-transition: -webkit-box-shadow .25s;\n            transition: -webkit-box-shadow .25s;\n            transition: box-shadow .25s;\n            transition: box-shadow .25s, -webkit-box-shadow .25s;\n            border-radius: 2px;\n            box-shadow: 0 2px 2px 0 rgb(0 0 0 / 14%), 0 3px 1px -2px rgb(0 0 0 / 12%), 0 1px 5px 0 rgb(0 0 0 / 20%);\n            padding: 24px;\n            color: white;\n        }\n\n        .card-with-tab button {\n            width: auto;\n            padding: 12px 40px;\n        }\n\n        .list {\n            padding: 0px 10px;\n            box-shadow: 0 2px 2px 0 rgb(0 0 0 / 14%), 0 3px 1px -2px rgb(0 0 0 / 12%), 0 1px 5px 0 rgb(0 0 0 / 20%);\n            margin: 0px 1px 60px 1px;\n        }\n\n        .list-item {\n            padding: 10px 0px;\n            border-width: 0;\n            border-style: solid;\n            border-color: rgba(0, 0, 0, 0.08);\n            border-bottom-width: thin;\n        }\n\n        .divider {\n            margin: 10px 0px;\n            border-width: 0;\n            border-style: solid;\n            border-color: rgba(0, 0, 0, 0.08);\n            border-bottom-width: thin;\n        }\n\n        .hr {\n            margin: 0;\n            -webkit-flex-shrink: 0;\n            -ms-flex-negative: 0;\n            flex-shrink: 0;\n            border-width: 0;\n            border-style: solid;\n            border-color: rgba(0, 0, 0, 0.08);\n            border-bottom-width: thin;\n        }\n\n        .notification {\n            transition: box-shadow 300ms cubic-bezier(0.4, 0, 0.2, 1) 0ms;\n            border-radius: 4px;\n            box-shadow: 0 2px 2px 0 rgb(0 0 0 / 14%), 0 3px 1px -2px rgb(0 0 0 / 12%), 0 1px 5px 0 rgb(0 0 0 / 20%);\n            font-family: Roboto, Helvetica, Arial, sans-serif;\n            font-weight: 500;\n            font-size: 12px;\n            line-height: 1.43;\n            letter-spacing: 0.01071em;\n            background-color: rgb(2, 136, 209);\n            display: flex;\n            padding: 6px 16px;\n            color: rgb(255, 255, 255);\n            margin-top: 10px;\n        }\n\n        .success {\n            background-color: #EDF7ED;\n            color: #1E4620;\n        }\n\n        .error {\n            background-color: #FDEDED;\n            color: #5F2120;\n        }\n\n        .info {\n            background-color: #E5F6FD;\n            color: #528298;\n        }\n\n        .warn {\n            background-color: #FFF4E5;\n            color: #663C00;\n        }\n\n        .margin-top-20 {\n            margin-top: 20px;\n        }\n\n        .hide {\n            display: none;\n        }\n\n        .pbtn {\n            display: inline-flex;\n            -webkit-box-align: center;\n            align-items: center;\n            -webkit-box-pack: center;\n            justify-content: center;\n            position: relative;\n            box-sizing: border-box;\n            -webkit-tap-highlight-color: transparent;\n            outline: 0px;\n            border: 0px;\n            margin: 0px;\n            cursor: pointer;\n            user-select: none;\n            vertical-align: middle;\n            appearance: none;\n            text-decoration: none;\n            font-family: Roboto, Helvetica, Arial, sans-serif;\n            font-weight: 550;\n            font-size: 12px;\n            line-height: 1.75;\n            letter-spacing: 0.02857em;\n            text-transform: uppercase;\n            min-width: 64px;\n            padding: 6px 16px;\n            border-radius: 4px;\n            transition: background-color 250ms cubic-bezier(0.4, 0, 0.2, 1) 0ms, box-shadow 250ms cubic-bezier(0.4, 0, 0.2, 1) 0ms, border-color 250ms cubic-bezier(0.4, 0, 0.2, 1) 0ms, color 250ms cubic-bezier(0.4, 0, 0.2, 1) 0ms;\n            color: rgb(255, 255, 255);\n            background-color: #D71E28;\n            box-shadow: rgb(0 0 0 / 20%) 0px 3px 1px -2px, rgb(0 0 0 / 14%) 0px 2px 2px 0px, rgb(0 0 0 / 12%) 0px 1px 5px 0px;\n        }\n\n        .jp-OutputArea-output {\n            flex-grow: 1;\n            flex-shrink: 1;\n            margin: 0px;\n        }\n\n        .output_subarea {\n            padding: 0px !important;\n        }\n\n        .ptable, .pth, .ptd {\n            border: none;\n        }\n\n        .pth, .ptd {\n            max-width: 150px;\n            white-space: nowrap;\n            overflow: hidden;\n            -o-text-overflow: ellipsis;\n            -ms-text-overflow: ellipsis;\n            text-overflow: ellipsis;\n        }\n\n        .ptable {\n            display: table;\n            border-collapse: collapse;\n            border-spacing: 0;\n        }\n\n        .ptable.striped .ptr {\n            border-bottom: none;\n        }\n\n        .ptable.striped > .ptbody > .ptr:nth-child(odd) {\n            background-color: rgba(242, 242, 242, 0.5);\n        }\n\n        .ptable.striped > .ptbody > .ptr > .ptd {\n            border-radius: 0;\n        }\n\n        .ptable.highlight > .ptbody > .ptr {\n            -webkit-transition: background-color .25s ease;\n            transition: background-color .25s ease;\n        }\n\n        .ptable.highlight > .ptbody > .ptr:hover {\n            background-color: rgba(242, 242, 242, 0.5);\n        }\n\n        .ptable.centered .pthead .ptr .pth, .ptable.centered .ptbody .ptr .ptd {\n            text-align: center;\n        }\n\n        .ptr {\n            border-bottom: 1px solid rgba(0, 0, 0, 0.12);\n        }\n\n        .ptr.hightlight {\n            background-color: yellow !important;\n        }\n\n        .ptd, .pth {\n            padding: 0.2rem 0.6rem;\n            display: table-cell;\n            text-align: right;\n            vertical-align: middle;\n            border-radius: 2px;\n            position: relative;\n        }\n\n        .ptr.grey {\n            background-color: grey !important;\n        }\n\n        .ptr.strikeout .ptd:before {\n            content: \" \";\n            position: absolute;\n            top: 50%;\n            left: 0;\n            border-bottom: 1px solid #111;\n            width: 100%;\n        }\n\n        .widget-toggle-button {\n            display: inline-flex;\n            -webkit-box-align: center;\n            align-items: center;\n            -webkit-box-pack: center;\n            justify-content: center;\n            box-sizing: border-box;\n            -webkit-tap-highlight-color: transparent;\n            background-color: transparent !important;\n            outline: 0px;\n            border: 0px;\n            border-bottom: 2px solid #E4E4E4 !important;\n            box-shadow: none !important;\n            margin: 0px !important;\n            border-radius: 0px;\n            cursor: pointer;\n            user-select: none;\n            vertical-align: middle;\n            appearance: none;\n            text-decoration: none;\n            font-family: Roboto, Helvetica, Arial, sans-serif;\n            font-weight: 500;\n            font-size: 14px;\n            line-height: 1.25;\n            letter-spacing: 0.02857em;\n            max-width: 360px;\n            min-width: 90px;\n            position: relative;\n            min-height: 48px;\n            flex-shrink: 0;\n            padding: 12px 16px;\n            overflow: hidden;\n            white-space: normal;\n            text-align: center;\n            flex-direction: column;\n            color: rgba(0, 0, 0, 0.6);\n        }\n\n        .narrow-accordion .jupyter-widget-Accordion-child .jupyter-widget-Collapse-header{\n            padding: 5px;\n        }  \n\n        .mod-active {\n            color: rgb(25, 118, 210) !important;\n            border-bottom: 2px solid rgb(25, 118, 210) !important;\n        }\n\n        .narrow-tab button {\n            max-width: 15%;\n        }\n\n        .narrow-tab-fairness button {\n            max-width: 20%;\n        }\n        .narrow-tab-fs button {\n            max-width: 25%;\n        }\n\n        .overflow-fix .jupyter-widgets {\n            overflow: auto;\n        }\n\n        .inner-padding {\n            padding-top: 20px;\n        }\n\n        .fix-img img {\n            width: 100%;\n        }\n\n        .fix-img-half img {\n            width: 50%;\n        }\n\n        .flex-reverse-for-update-button {\n            flex-direction: row-reverse;\n            margin-right: 50px;\n        }\n\n        .data-summary-tab {\n            max-height: 400px;\n        }\n\n        .restricted_table_height {\n            max-height: 450px\n        }\n\n        .input-width-with-parent .widget-dropdown {\n            width: 100%;\n        }\n\n        .input-width-with-parent .widget-text {\n            width: 100%;\n        }\n\n        .no-margin {\n            margin: 0px;\n        }\n\n        .widget-hprogress label {\n            text-align: left;\n        }\n\n        .widget-dropdown label {\n            margin-right: 10px;\n        }\n\n        .form .widget-dropdown {\n            width: auto;\n        }\n\n        .form .widget-text {\n            width: auto;\n        }\n\n        .form p {\n            margin: 0px;\n        }\n\n        .widget-dropdown {\n            white-space: nowrap;\n            overflow: hidden;\n            -o-text-overflow: ellipsis;\n            -ms-text-overflow: ellipsis;\n            text-overflow: ellipsis;\n        }\n\n        .progress-train label {\n            margin-right: 10px;\n        }\n\n        select {\n            height: 97% !important;\n        }\n\n        .no-overflow {\n            overflow: none;\n        }\n\n        .split-btn button {\n            margin-bottom: 2px;\n        }\n\n        .register-btn {\n            width: 50%\n        }\n\n        .register-btn-colab {\n            width: 40%\n        }\n\n        .fix-config-from-overflow .jp-OutputArea-child {\n            display: inherit;\n        }\n        \n        .checkbox-center input[type=\"checkbox\"] {\n            vertical-align: middle;\n        }\n\n        input[type=\"checkbox\"] {\n            vertical-align: middle;\n        }\n\n        </style>\n        "
      }
     },
     "40dee60a78124181986f80c8ac98c627": {
      "model_module": "@jupyter-widgets/base",
      "model_module_version": "1.2.0",
      "model_name": "LayoutModel",
      "state": {
       "visibility": "hidden"
      }
     },
     "4100abc295b343aead633ea4716187f7": {
      "model_module": "@jupyter-widgets/controls",
      "model_module_version": "1.5.0",
      "model_name": "ButtonModel",
      "state": {
       "_dom_classes": [
        "pbtn"
       ],
       "button_style": "danger",
       "icon": "history",
       "layout": "IPY_MODEL_60027d3c9a0247d4905fdc917627e95e",
       "style": "IPY_MODEL_399e75e28dfa482ba3b2fe4775ef7e8d"
      }
     },
     "41182cc2f6cb41d58e05cc080edca0b3": {
      "model_module": "@jupyter-widgets/controls",
      "model_module_version": "1.5.0",
      "model_name": "HTMLModel",
      "state": {
       "layout": "IPY_MODEL_6bd6eb8306f34156950fd42b682503a5",
       "style": "IPY_MODEL_7832c9fe132249a4a59539d4af8b8dd3",
       "value": "<p>Target Variable:</p>"
      }
     },
     "419018a09562463cb56b9779a53d25ca": {
      "model_module": "@jupyter-widgets/controls",
      "model_module_version": "1.5.0",
      "model_name": "VBoxModel",
      "state": {
       "children": [
        "IPY_MODEL_7b43f9fdbec74db98ed86b589bf368e0",
        "IPY_MODEL_30eed277fba54165a2554feae86795c1"
       ],
       "layout": "IPY_MODEL_834c4cac09744cf5a42cf508e9d59ba2"
      }
     },
     "41eb2a2b7b104f8a8e1db3721e9ae9be": {
      "model_module": "@jupyter-widgets/output",
      "model_module_version": "1.0.0",
      "model_name": "OutputModel",
      "state": {
       "layout": "IPY_MODEL_92504acd5dfc4b9eb3cefc294171583e",
       "outputs": [
        {
         "data": {
          "application/vnd.jupyter.widget-view+json": {
           "model_id": "276d0e7316fc4d78af5be4b88b3807ad",
           "version_major": 2,
           "version_minor": 0
          },
          "text/plain": "HBox(children=(VBox(children=(Output(),), layout=Layout(align_items='stretch', width='55%')), Box(children=(Ou…"
         },
         "metadata": {},
         "output_type": "display_data"
        }
       ]
      }
     },
     "423d6e2bc9d84935a07534eaf8c48643": {
      "model_module": "@jupyter-widgets/controls",
      "model_module_version": "1.5.0",
      "model_name": "DescriptionStyleModel",
      "state": {
       "description_width": ""
      }
     },
     "43b39d9b5d714fa88859beb5b3accfaf": {
      "model_module": "@jupyter-widgets/base",
      "model_module_version": "1.2.0",
      "model_name": "LayoutModel",
      "state": {}
     },
     "43d09fa2dc81462a922c3a91cfd82f1a": {
      "model_module": "@jupyter-widgets/controls",
      "model_module_version": "1.5.0",
      "model_name": "DescriptionStyleModel",
      "state": {
       "description_width": ""
      }
     },
     "43e47e9929204a68b453407f6b160cc6": {
      "model_module": "@jupyter-widgets/controls",
      "model_module_version": "1.5.0",
      "model_name": "DescriptionStyleModel",
      "state": {
       "description_width": ""
      }
     },
     "4434489df38e4405b3fb5fd274891eca": {
      "model_module": "@jupyter-widgets/controls",
      "model_module_version": "1.5.0",
      "model_name": "HTMLModel",
      "state": {
       "layout": "IPY_MODEL_c3547f4d71b04cf4b4a3df0076ec2b8d",
       "style": "IPY_MODEL_be3594c2a3f747299cd7bbc94ca5fad5",
       "value": "<p class=\"notification info\">Excluded attribute \"workingday\"</p>"
      }
     },
     "452454075d864f4a99e0cc831300c1c1": {
      "model_module": "@jupyter-widgets/controls",
      "model_module_version": "1.5.0",
      "model_name": "DescriptionStyleModel",
      "state": {
       "description_width": ""
      }
     },
     "4548d7ec650742f9b70d40796add5c20": {
      "model_module": "@jupyter-widgets/base",
      "model_module_version": "1.2.0",
      "model_name": "LayoutModel",
      "state": {}
     },
     "4619292fbec24021a3a1652f46def1a3": {
      "model_module": "@jupyter-widgets/controls",
      "model_module_version": "1.5.0",
      "model_name": "BoxModel",
      "state": {
       "children": [
        "IPY_MODEL_97e5bbfaf4c6411fb1efcd98811669fd"
       ],
       "layout": "IPY_MODEL_d24b90e99c4b4e818a2838a3656cce5e"
      }
     },
     "46921e6f524e4376921127657e6e8976": {
      "model_module": "@jupyter-widgets/controls",
      "model_module_version": "1.5.0",
      "model_name": "HTMLModel",
      "state": {
       "layout": "IPY_MODEL_40dee60a78124181986f80c8ac98c627",
       "style": "IPY_MODEL_1cd7f8bc71674f6086b6c0d623731d83",
       "value": "<p>Test Ratio:</p>"
      }
     },
     "46bc45d420c34de6b227f8e905fdae0f": {
      "model_module": "@jupyter-widgets/controls",
      "model_module_version": "1.5.0",
      "model_name": "DescriptionStyleModel",
      "state": {
       "description_width": ""
      }
     },
     "48faa404656e4d008b54ab24703405c6": {
      "model_module": "@jupyter-widgets/base",
      "model_module_version": "1.2.0",
      "model_name": "LayoutModel",
      "state": {}
     },
     "49ff22c866d141a286dd9e4cb9b1e43e": {
      "model_module": "@jupyter-widgets/controls",
      "model_module_version": "1.5.0",
      "model_name": "DescriptionStyleModel",
      "state": {
       "description_width": ""
      }
     },
     "4ad69d9e469048919ceb228d8535a2a0": {
      "model_module": "@jupyter-widgets/base",
      "model_module_version": "1.2.0",
      "model_name": "LayoutModel",
      "state": {}
     },
     "4ba7b500ff064465a50f1356e2c8ee2d": {
      "model_module": "@jupyter-widgets/controls",
      "model_module_version": "1.5.0",
      "model_name": "VBoxModel",
      "state": {
       "children": [
        "IPY_MODEL_41182cc2f6cb41d58e05cc080edca0b3",
        "IPY_MODEL_b0c7ff9fc2a444b88c76fb14fbe48397",
        "IPY_MODEL_bc580dee202b4a8ea88916f5549655b3",
        "IPY_MODEL_857eae506de3454f81fb8b8a62435d94"
       ],
       "layout": "IPY_MODEL_370f267b8a0f4bc4a6a7d7465da7d6c3"
      }
     },
     "4c1b3c7216174d2288056550bbc5ab8f": {
      "model_module": "@jupyter-widgets/base",
      "model_module_version": "1.2.0",
      "model_name": "LayoutModel",
      "state": {}
     },
     "4e06c0ed84ee4821ba3a5264612b35a0": {
      "model_module": "@jupyter-widgets/controls",
      "model_module_version": "1.5.0",
      "model_name": "VBoxModel",
      "state": {
       "_dom_classes": [
        "card"
       ],
       "children": [
        "IPY_MODEL_b19dcf587c6c49ffab56af07d751d47d",
        "IPY_MODEL_4619292fbec24021a3a1652f46def1a3",
        "IPY_MODEL_2ffdac965e8f47fc8c57e795f6d221c0",
        "IPY_MODEL_e34114a8f82f4c6195776237237d3bda",
        "IPY_MODEL_a39924f62e994f8e9293676467f1511e"
       ],
       "layout": "IPY_MODEL_74664cf578ae4313957512db0aa7c14a"
      }
     },
     "4e13f461fd8d40679e3e2f93ce67149f": {
      "model_module": "@jupyter-widgets/base",
      "model_module_version": "1.2.0",
      "model_name": "LayoutModel",
      "state": {}
     },
     "4e3d64645d254e459f20b786f6a91796": {
      "model_module": "@jupyter-widgets/base",
      "model_module_version": "1.2.0",
      "model_name": "LayoutModel",
      "state": {}
     },
     "4e61126da45741beb14614feb130273f": {
      "model_module": "@jupyter-widgets/base",
      "model_module_version": "1.2.0",
      "model_name": "LayoutModel",
      "state": {}
     },
     "4ed513877cff47b98eea94f725701bdf": {
      "model_module": "@jupyter-widgets/controls",
      "model_module_version": "1.5.0",
      "model_name": "DescriptionStyleModel",
      "state": {
       "description_width": ""
      }
     },
     "4ed7cdb22da54e84b77a1f9c2dbc3138": {
      "model_module": "@jupyter-widgets/base",
      "model_module_version": "1.2.0",
      "model_name": "LayoutModel",
      "state": {
       "width": "20%"
      }
     },
     "4ef763fc57ec4420b5425e4a98ae13f2": {
      "model_module": "@jupyter-widgets/base",
      "model_module_version": "1.2.0",
      "model_name": "LayoutModel",
      "state": {
       "width": "20%"
      }
     },
     "4f923fd82f7b4d749615f283174c60e4": {
      "model_module": "@jupyter-widgets/base",
      "model_module_version": "1.2.0",
      "model_name": "LayoutModel",
      "state": {
       "width": "20%"
      }
     },
     "4fbd79db5526430eac8e23d0c92f8f3e": {
      "model_module": "@jupyter-widgets/controls",
      "model_module_version": "1.5.0",
      "model_name": "DescriptionStyleModel",
      "state": {
       "description_width": ""
      }
     },
     "50aef39c4195414b9f6038dac1051232": {
      "model_module": "@jupyter-widgets/base",
      "model_module_version": "1.2.0",
      "model_name": "LayoutModel",
      "state": {
       "justify_content": "space-between"
      }
     },
     "5262aeb36e8e4a4281d5810c01c6cee8": {
      "model_module": "@jupyter-widgets/base",
      "model_module_version": "1.2.0",
      "model_name": "LayoutModel",
      "state": {}
     },
     "538a7216e916410787bf0b516ac71c5f": {
      "model_module": "@jupyter-widgets/base",
      "model_module_version": "1.2.0",
      "model_name": "LayoutModel",
      "state": {
       "width": "20%"
      }
     },
     "53e42d169593411eb54eec455b57afb0": {
      "model_module": "@jupyter-widgets/controls",
      "model_module_version": "1.5.0",
      "model_name": "BoxModel",
      "state": {
       "layout": "IPY_MODEL_0f43b5862b394012aa9d7695d4e1169e"
      }
     },
     "54a96e823edf450890740a4f6fdc097f": {
      "model_module": "@jupyter-widgets/base",
      "model_module_version": "1.2.0",
      "model_name": "LayoutModel",
      "state": {}
     },
     "54d3d0a38a4c45bc81af337362a17dae": {
      "model_module": "@jupyter-widgets/controls",
      "model_module_version": "1.5.0",
      "model_name": "DescriptionStyleModel",
      "state": {
       "description_width": ""
      }
     },
     "5529a65bab4e48a6a2521296b3bfeac7": {
      "model_module": "@jupyter-widgets/controls",
      "model_module_version": "1.5.0",
      "model_name": "VBoxModel",
      "state": {
       "children": [
        "IPY_MODEL_86d2902cedf64fffa77c70956a9d10ea",
        "IPY_MODEL_2b0884f825e04e758572f0ef7cefd677"
       ],
       "layout": "IPY_MODEL_c0562eb324064c1193eee69c4708d256"
      }
     },
     "56f6300a1fb34663ba7cda5f04980e05": {
      "model_module": "@jupyter-widgets/base",
      "model_module_version": "1.2.0",
      "model_name": "LayoutModel",
      "state": {}
     },
     "5701aa27a1c549498f921af8cc84d2af": {
      "model_module": "@jupyter-widgets/output",
      "model_module_version": "1.0.0",
      "model_name": "OutputModel",
      "state": {
       "layout": "IPY_MODEL_9a210ad450b042149c196626f0c5143e",
       "outputs": [
        {
         "data": {
          "text/html": "<div>\n<style scoped>\n    .dataframe tbody tr th:only-of-type {\n        vertical-align: middle;\n    }\n\n    .dataframe tbody tr th {\n        vertical-align: top;\n    }\n\n    .dataframe thead th {\n        text-align: right;\n    }\n</style>\n<table border=\"1\" class=\"dataframe\">\n  <tbody>\n    <tr>\n      <td>Excluded columns</td>\n      <td>[workingday, atemp, season]</td>\n    </tr>\n    <tr>\n      <td>Target variable</td>\n      <td>cnt</td>\n    </tr>\n    <tr>\n      <td>Sample weight</td>\n      <td>None</td>\n    </tr>\n    <tr>\n      <td>Task type</td>\n      <td>Regression</td>\n    </tr>\n    <tr>\n      <td>Split method</td>\n      <td>Random</td>\n    </tr>\n    <tr>\n      <td>Test ratio</td>\n      <td>0.2</td>\n    </tr>\n    <tr>\n      <td>Random state</td>\n      <td>0</td>\n    </tr>\n    <tr>\n      <td>Train test energy distance</td>\n      <td>0.000404</td>\n    </tr>\n  </tbody>\n</table>\n</div>",
          "text/plain": "<IPython.core.display.HTML object>"
         },
         "metadata": {},
         "output_type": "display_data"
        }
       ]
      }
     },
     "5735ab55172d46e595d002e7fe385daf": {
      "model_module": "@jupyter-widgets/controls",
      "model_module_version": "1.5.0",
      "model_name": "HBoxModel",
      "state": {
       "children": [
        "IPY_MODEL_c7ed07fbf0294c55bdb2bfcf7bc3554b",
        "IPY_MODEL_850d0e2e0d1246e184f7552c64edeb35",
        "IPY_MODEL_c7bf853a9ddb45bba93f247f2459e76e",
        "IPY_MODEL_a7b33a4fc46a460889bea6f22c70b74f",
        "IPY_MODEL_7c1ce69d23654bceb99a8658eb47f4c5"
       ],
       "layout": "IPY_MODEL_c23b6b8aa8f64478a4297c4bd93f48ff"
      }
     },
     "57b52c6244f241608d495ef59d00ecce": {
      "model_module": "@jupyter-widgets/base",
      "model_module_version": "1.2.0",
      "model_name": "LayoutModel",
      "state": {}
     },
     "588460ef4dd84f5b9390e61622bd2668": {
      "model_module": "@jupyter-widgets/controls",
      "model_module_version": "1.5.0",
      "model_name": "ButtonModel",
      "state": {
       "_dom_classes": [
        "pbtn"
       ],
       "button_style": "danger",
       "description": "OK",
       "layout": "IPY_MODEL_8b958345b2de42f48cb7a33a63093dcf",
       "style": "IPY_MODEL_153fc07271434d5cbd0431c4534de949"
      }
     },
     "58922459e2df4411bef064dc383cad2e": {
      "model_module": "@jupyter-widgets/controls",
      "model_module_version": "1.5.0",
      "model_name": "DescriptionStyleModel",
      "state": {
       "description_width": "initial"
      }
     },
     "58aa0325985641cd962861ceeb969abd": {
      "model_module": "@jupyter-widgets/output",
      "model_module_version": "1.0.0",
      "model_name": "OutputModel",
      "state": {
       "layout": "IPY_MODEL_00803775467d486497dcc5399e163284",
       "outputs": [
        {
         "data": {
          "application/vnd.jupyter.widget-view+json": {
           "model_id": "2b3ae57f386041b09d5844869ce677f6",
           "version_major": 2,
           "version_minor": 0
          },
          "text/plain": "HTML(value=\"\\n        <table class='ptable striped'>\\n            <thead class='pthead'>\\n                <tr …"
         },
         "metadata": {},
         "output_type": "display_data"
        }
       ]
      }
     },
     "5bbd6d0967074b84b658eba2c8bef55e": {
      "model_module": "@jupyter-widgets/base",
      "model_module_version": "1.2.0",
      "model_name": "LayoutModel",
      "state": {}
     },
     "5bc496b5b8ca4e068ef7882aa58b6cd8": {
      "model_module": "@jupyter-widgets/controls",
      "model_module_version": "1.5.0",
      "model_name": "DescriptionStyleModel",
      "state": {
       "description_width": "initial"
      }
     },
     "5be91bce625140a89c23c748902090d4": {
      "model_module": "@jupyter-widgets/base",
      "model_module_version": "1.2.0",
      "model_name": "LayoutModel",
      "state": {}
     },
     "5c0fea9621494e829c23f92166bffe10": {
      "model_module": "@jupyter-widgets/controls",
      "model_module_version": "1.5.0",
      "model_name": "DescriptionStyleModel",
      "state": {
       "description_width": "initial"
      }
     },
     "5dc78b8df96e4a2cb23232949f78f52e": {
      "model_module": "@jupyter-widgets/controls",
      "model_module_version": "1.5.0",
      "model_name": "DropdownModel",
      "state": {
       "_options_labels": [
        "None",
        "season",
        "yr",
        "mnth",
        "hr",
        "holiday",
        "weekday",
        "workingday",
        "weathersit",
        "temp",
        "atemp",
        "hum",
        "windspeed",
        "cnt"
       ],
       "index": 0,
       "layout": "IPY_MODEL_85dbad7331ba412b900edd1f3f0b1ea9",
       "style": "IPY_MODEL_6b9d2ab0aa354d628b651b575b508258"
      }
     },
     "5de7afc3e1274580a7a43a110556834e": {
      "model_module": "@jupyter-widgets/controls",
      "model_module_version": "1.5.0",
      "model_name": "ButtonModel",
      "state": {
       "_dom_classes": [
        "pbtn"
       ],
       "button_style": "danger",
       "description": "OK",
       "layout": "IPY_MODEL_b59e4f71eeb34623bef850b099dd46d4",
       "style": "IPY_MODEL_121d03d585ab4d2bbec37d909ab0242a"
      }
     },
     "5e605bc07e454f848e00c6cec1de967b": {
      "model_module": "@jupyter-widgets/controls",
      "model_module_version": "1.5.0",
      "model_name": "DescriptionStyleModel",
      "state": {
       "description_width": "initial"
      }
     },
     "5efd9addecff4d83b852e9157040ff31": {
      "model_module": "@jupyter-widgets/output",
      "model_module_version": "1.0.0",
      "model_name": "OutputModel",
      "state": {
       "layout": "IPY_MODEL_6310f511b2d742baa8fa698b18f757d0"
      }
     },
     "5f0cbf8aeff5485da71e13af3337933f": {
      "model_module": "@jupyter-widgets/base",
      "model_module_version": "1.2.0",
      "model_name": "LayoutModel",
      "state": {
       "visibility": "hidden"
      }
     },
     "5f700e2e07e747acafa0b52e9db69138": {
      "model_module": "@jupyter-widgets/controls",
      "model_module_version": "1.5.0",
      "model_name": "DescriptionStyleModel",
      "state": {
       "description_width": ""
      }
     },
     "5fc553ce82fc4052b6680dab1d7e9878": {
      "model_module": "@jupyter-widgets/controls",
      "model_module_version": "1.5.0",
      "model_name": "DescriptionStyleModel",
      "state": {
       "description_width": ""
      }
     },
     "60027d3c9a0247d4905fdc917627e95e": {
      "model_module": "@jupyter-widgets/base",
      "model_module_version": "1.2.0",
      "model_name": "LayoutModel",
      "state": {
       "width": "25px"
      }
     },
     "6133f726f4054463b0da182a201892a2": {
      "model_module": "@jupyter-widgets/base",
      "model_module_version": "1.2.0",
      "model_name": "LayoutModel",
      "state": {}
     },
     "616e995512174fd48ce053aa4b2bebf7": {
      "model_module": "@jupyter-widgets/base",
      "model_module_version": "1.2.0",
      "model_name": "LayoutModel",
      "state": {
       "width": "20%"
      }
     },
     "62641bf6e1ea4410a415166dd916ae91": {
      "model_module": "@jupyter-widgets/controls",
      "model_module_version": "1.5.0",
      "model_name": "BoundedIntTextModel",
      "state": {
       "layout": "IPY_MODEL_04f0368facd74807971f18b12d3f552f",
       "max": 8,
       "min": 1,
       "style": "IPY_MODEL_388e0de04af0446894e6efe510c1c067",
       "value": 4
      }
     },
     "62aff885f99546a3aa44c65a5793563c": {
      "model_module": "@jupyter-widgets/controls",
      "model_module_version": "1.5.0",
      "model_name": "DescriptionStyleModel",
      "state": {
       "description_width": ""
      }
     },
     "62d2ca52b6944e5a95d991f711e8f303": {
      "model_module": "@jupyter-widgets/controls",
      "model_module_version": "1.5.0",
      "model_name": "DescriptionStyleModel",
      "state": {
       "description_width": ""
      }
     },
     "62f054da05ea47fe83a9ad14762276f0": {
      "model_module": "@jupyter-widgets/controls",
      "model_module_version": "1.5.0",
      "model_name": "HBoxModel",
      "state": {
       "children": [
        "IPY_MODEL_5de7afc3e1274580a7a43a110556834e",
        "IPY_MODEL_c776a807cfef455883a37f763116700c",
        "IPY_MODEL_04bf3e70590742498ed87f5685e4664b"
       ],
       "layout": "IPY_MODEL_05fd6be8f338461c8ec1551fdd532812"
      }
     },
     "630ae21567254e9b8a808b9a0fe40dd8": {
      "model_module": "@jupyter-widgets/base",
      "model_module_version": "1.2.0",
      "model_name": "LayoutModel",
      "state": {}
     },
     "6310f511b2d742baa8fa698b18f757d0": {
      "model_module": "@jupyter-widgets/base",
      "model_module_version": "1.2.0",
      "model_name": "LayoutModel",
      "state": {}
     },
     "63832bb7d92e4e8c980d81e22986c850": {
      "model_module": "@jupyter-widgets/base",
      "model_module_version": "1.2.0",
      "model_name": "LayoutModel",
      "state": {}
     },
     "665303002f344b0a84e5759811c6aea2": {
      "model_module": "@jupyter-widgets/controls",
      "model_module_version": "1.5.0",
      "model_name": "DescriptionStyleModel",
      "state": {
       "description_width": ""
      }
     },
     "66a125bf9ee645a39236a8d94249431f": {
      "model_module": "@jupyter-widgets/controls",
      "model_module_version": "1.5.0",
      "model_name": "VBoxModel",
      "state": {
       "children": [
        "IPY_MODEL_f01426719ff74888813941071a26c946",
        "IPY_MODEL_df16eb028eb147d29304e1ea983a4332"
       ],
       "layout": "IPY_MODEL_bfb40e3869f34c408a32e3c65de05fdb"
      }
     },
     "66bc187aaaf14903988616ad5e2cf594": {
      "model_module": "@jupyter-widgets/base",
      "model_module_version": "1.2.0",
      "model_name": "LayoutModel",
      "state": {}
     },
     "680fcf014a794aecbf1ba8a7a4df6c41": {
      "model_module": "@jupyter-widgets/controls",
      "model_module_version": "1.5.0",
      "model_name": "HTMLModel",
      "state": {
       "layout": "IPY_MODEL_f880676f90e944059b1b81483a0b7e37",
       "style": "IPY_MODEL_d124b61afa58442092d7ae4c7962636a",
       "value": "<div style='margin-top: 5px'></div>"
      }
     },
     "6810ed5341124aaeb69f5dbd046160a1": {
      "model_module": "@jupyter-widgets/controls",
      "model_module_version": "1.5.0",
      "model_name": "HTMLModel",
      "state": {
       "layout": "IPY_MODEL_dde81f00b8f44e3589b65604a16a38b7",
       "style": "IPY_MODEL_7a668f167a4341d3bb1d855eea4adeae",
       "value": "<div style='margin-right: 10px'></div>"
      }
     },
     "68e321a4ac684279bbf42881928e5e3b": {
      "model_module": "@jupyter-widgets/controls",
      "model_module_version": "1.5.0",
      "model_name": "VBoxModel",
      "state": {
       "children": [
        "IPY_MODEL_87a3381372bd483380c0220e5fe97d19",
        "IPY_MODEL_b6849edcb38f45ee80bef4cb82dcd89a"
       ],
       "layout": "IPY_MODEL_20d1cfc8111242e7aeb77aad543ca70f"
      }
     },
     "6951838b3a7e4c89bd76b4ca22407e3e": {
      "model_module": "@jupyter-widgets/output",
      "model_module_version": "1.0.0",
      "model_name": "OutputModel",
      "state": {
       "layout": "IPY_MODEL_1826b78dace847a1ab783cc89976ad37"
      }
     },
     "695fcfd7d76c4be3a6150ca9882ba48f": {
      "model_module": "@jupyter-widgets/controls",
      "model_module_version": "1.5.0",
      "model_name": "DescriptionStyleModel",
      "state": {
       "description_width": ""
      }
     },
     "69bdbec981ff4a309f4f11e0407d20a9": {
      "model_module": "@jupyter-widgets/controls",
      "model_module_version": "1.5.0",
      "model_name": "ButtonModel",
      "state": {
       "_dom_classes": [
        "pbtn"
       ],
       "button_style": "danger",
       "icon": "history",
       "layout": "IPY_MODEL_b2c9c1dda1dd42689ae2dac471171f5a",
       "style": "IPY_MODEL_dea7fd5ca9b7423a8688798e7df5f2a8"
      }
     },
     "69f61fbc229a4d39a3f1d510c408c0ed": {
      "model_module": "@jupyter-widgets/base",
      "model_module_version": "1.2.0",
      "model_name": "LayoutModel",
      "state": {
       "overflow": "hidden",
       "width": "auto"
      }
     },
     "6a085f86191141dfb8939b87fa62c681": {
      "model_module": "@jupyter-widgets/base",
      "model_module_version": "1.2.0",
      "model_name": "LayoutModel",
      "state": {}
     },
     "6aeecc59fab34340ac0a6a1b493bd4b1": {
      "model_module": "@jupyter-widgets/base",
      "model_module_version": "1.2.0",
      "model_name": "LayoutModel",
      "state": {
       "width": "20%"
      }
     },
     "6b9d2ab0aa354d628b651b575b508258": {
      "model_module": "@jupyter-widgets/controls",
      "model_module_version": "1.5.0",
      "model_name": "DescriptionStyleModel",
      "state": {
       "description_width": "initial"
      }
     },
     "6bd6eb8306f34156950fd42b682503a5": {
      "model_module": "@jupyter-widgets/base",
      "model_module_version": "1.2.0",
      "model_name": "LayoutModel",
      "state": {}
     },
     "6d45827e95a647ebaaf3444714e2218c": {
      "model_module": "@jupyter-widgets/base",
      "model_module_version": "1.2.0",
      "model_name": "LayoutModel",
      "state": {}
     },
     "6d5f2d480d4a469ab465138eef8a709f": {
      "model_module": "@jupyter-widgets/base",
      "model_module_version": "1.2.0",
      "model_name": "LayoutModel",
      "state": {}
     },
     "6d6320e74013441b9f694c1eb24bbd8d": {
      "model_module": "@jupyter-widgets/controls",
      "model_module_version": "1.5.0",
      "model_name": "DescriptionStyleModel",
      "state": {
       "description_width": ""
      }
     },
     "6da78b0bb1354e05bdbb4532f497eeec": {
      "model_module": "@jupyter-widgets/controls",
      "model_module_version": "1.5.0",
      "model_name": "HTMLModel",
      "state": {
       "layout": "IPY_MODEL_5f0cbf8aeff5485da71e13af3337933f",
       "style": "IPY_MODEL_62d2ca52b6944e5a95d991f711e8f303",
       "value": "<p>Test Ratio:</p>"
      }
     },
     "6ed69ff7264240baa2ccef305b212120": {
      "model_module": "@jupyter-widgets/controls",
      "model_module_version": "1.5.0",
      "model_name": "HBoxModel",
      "state": {
       "layout": "IPY_MODEL_2c74fbb80f8c485fae0e6389848a89aa"
      }
     },
     "6f13fb04731a4ca8ab9b68580297db86": {
      "model_module": "@jupyter-widgets/controls",
      "model_module_version": "1.5.0",
      "model_name": "HTMLModel",
      "state": {
       "layout": "IPY_MODEL_48faa404656e4d008b54ab24703405c6",
       "style": "IPY_MODEL_8167c8a0e82f4605ab734fc1f85a5f53",
       "value": "\n        <style>\n\n        .left-label {\n            width: 30%;\n        }\n\n        .card-panel {\n            -webkit-transition: -webkit-box-shadow .25s;\n            transition: -webkit-box-shadow .25s;\n            transition: box-shadow .25s;\n            transition: box-shadow .25s, -webkit-box-shadow .25s;\n            padding: 24px;\n            margin: 0.5rem 0 1rem 0;\n            border-radius: 2px;\n            background-color: #fff;\n        }\n\n        .card {\n            position: relative;\n            margin: 0.5rem 0.1rem 1rem 0.2rem;\n            background-color: #fff;\n            -webkit-transition: -webkit-box-shadow .25s;\n            transition: -webkit-box-shadow .25s;\n            transition: box-shadow .25s;\n            transition: box-shadow .25s, -webkit-box-shadow .25s;\n            border-radius: 2px;\n            box-shadow: 0 2px 2px 0 rgb(0 0 0 / 14%), 0 3px 1px -2px rgb(0 0 0 / 12%), 0 1px 5px 0 rgb(0 0 0 / 20%);\n            padding: 24px;\n            color: white;\n        }\n\n        .card .card-title {\n            font-size: 24px;\n            font-weight: 300;\n        }\n\n        @media only screen and (min-width: 800px) {\n            /* For notebook: */\n            .card {width: 99% !important;}\n        }\n\n        @media only screen and (min-width: 1400px) {\n            /* For colab: */\n            .card {width: 99% !important;}\n        }\n\n        .blue-grey.darken-1 {\n            background-color: #546e7a !important;\n        }\n\n        .small-card {\n            position: relative;\n            margin: 0.5rem 0 1rem 0;\n            background-color: #fff;\n            -webkit-transition: -webkit-box-shadow .25s;\n            transition: -webkit-box-shadow .25s;\n            transition: box-shadow .25s;\n            transition: box-shadow .25s, -webkit-box-shadow .25s;\n            border-radius: 2px;\n            box-shadow: 0 2px 2px 0 rgb(0 0 0 / 14%), 0 3px 1px -2px rgb(0 0 0 / 12%), 0 1px 5px 0 rgb(0 0 0 / 20%);\n            padding: 0px 5px 0px 5px;\n            color: white;\n        }\n\n        .inner-card {\n            position: relative;\n            background-color: #fff;\n            -webkit-transition: -webkit-box-shadow .25s;\n            transition: -webkit-box-shadow .25s;\n            transition: box-shadow .25s;\n            transition: box-shadow .25s, -webkit-box-shadow .25s;\n            border-radius: 2px;\n            box-shadow: 0 2px 2px 0 rgb(0 0 0 / 14%), 0 3px 1px -2px rgb(0 0 0 / 12%), 0 1px 5px 0 rgb(0 0 0 / 20%);\n            padding: 20px;\n            color: white;\n            margin: 0px 1px 1px 1px;\n        }\n\n        .card-with-tab {\n            position: relative;\n            margin: 0.5rem 0.1rem 1rem 0.2rem;\n            background-color: #fff;\n            -webkit-transition: -webkit-box-shadow .25s;\n            transition: -webkit-box-shadow .25s;\n            transition: box-shadow .25s;\n            transition: box-shadow .25s, -webkit-box-shadow .25s;\n            border-radius: 2px;\n            box-shadow: 0 2px 2px 0 rgb(0 0 0 / 14%), 0 3px 1px -2px rgb(0 0 0 / 12%), 0 1px 5px 0 rgb(0 0 0 / 20%);\n            padding: 24px;\n            color: white;\n        }\n\n        .card-with-tab button {\n            width: auto;\n            padding: 12px 40px;\n        }\n\n        .list {\n            padding: 0px 10px;\n            box-shadow: 0 2px 2px 0 rgb(0 0 0 / 14%), 0 3px 1px -2px rgb(0 0 0 / 12%), 0 1px 5px 0 rgb(0 0 0 / 20%);\n            margin: 0px 1px 60px 1px;\n        }\n\n        .list-item {\n            padding: 10px 0px;\n            border-width: 0;\n            border-style: solid;\n            border-color: rgba(0, 0, 0, 0.08);\n            border-bottom-width: thin;\n        }\n\n        .divider {\n            margin: 10px 0px;\n            border-width: 0;\n            border-style: solid;\n            border-color: rgba(0, 0, 0, 0.08);\n            border-bottom-width: thin;\n        }\n\n        .hr {\n            margin: 0;\n            -webkit-flex-shrink: 0;\n            -ms-flex-negative: 0;\n            flex-shrink: 0;\n            border-width: 0;\n            border-style: solid;\n            border-color: rgba(0, 0, 0, 0.08);\n            border-bottom-width: thin;\n        }\n\n        .notification {\n            transition: box-shadow 300ms cubic-bezier(0.4, 0, 0.2, 1) 0ms;\n            border-radius: 4px;\n            box-shadow: 0 2px 2px 0 rgb(0 0 0 / 14%), 0 3px 1px -2px rgb(0 0 0 / 12%), 0 1px 5px 0 rgb(0 0 0 / 20%);\n            font-family: Roboto, Helvetica, Arial, sans-serif;\n            font-weight: 500;\n            font-size: 12px;\n            line-height: 1.43;\n            letter-spacing: 0.01071em;\n            background-color: rgb(2, 136, 209);\n            display: flex;\n            padding: 6px 16px;\n            color: rgb(255, 255, 255);\n            margin-top: 10px;\n        }\n\n        .success {\n            background-color: #EDF7ED;\n            color: #1E4620;\n        }\n\n        .error {\n            background-color: #FDEDED;\n            color: #5F2120;\n        }\n\n        .info {\n            background-color: #E5F6FD;\n            color: #528298;\n        }\n\n        .warn {\n            background-color: #FFF4E5;\n            color: #663C00;\n        }\n\n        .margin-top-20 {\n            margin-top: 20px;\n        }\n\n        .hide {\n            display: none;\n        }\n\n        .pbtn {\n            display: inline-flex;\n            -webkit-box-align: center;\n            align-items: center;\n            -webkit-box-pack: center;\n            justify-content: center;\n            position: relative;\n            box-sizing: border-box;\n            -webkit-tap-highlight-color: transparent;\n            outline: 0px;\n            border: 0px;\n            margin: 0px;\n            cursor: pointer;\n            user-select: none;\n            vertical-align: middle;\n            appearance: none;\n            text-decoration: none;\n            font-family: Roboto, Helvetica, Arial, sans-serif;\n            font-weight: 550;\n            font-size: 12px;\n            line-height: 1.75;\n            letter-spacing: 0.02857em;\n            text-transform: uppercase;\n            min-width: 64px;\n            padding: 6px 16px;\n            border-radius: 4px;\n            transition: background-color 250ms cubic-bezier(0.4, 0, 0.2, 1) 0ms, box-shadow 250ms cubic-bezier(0.4, 0, 0.2, 1) 0ms, border-color 250ms cubic-bezier(0.4, 0, 0.2, 1) 0ms, color 250ms cubic-bezier(0.4, 0, 0.2, 1) 0ms;\n            color: rgb(255, 255, 255);\n            background-color: #D71E28;\n            box-shadow: rgb(0 0 0 / 20%) 0px 3px 1px -2px, rgb(0 0 0 / 14%) 0px 2px 2px 0px, rgb(0 0 0 / 12%) 0px 1px 5px 0px;\n        }\n\n        .jp-OutputArea-output {\n            flex-grow: 1;\n            flex-shrink: 1;\n            margin: 0px;\n        }\n\n        .output_subarea {\n            padding: 0px !important;\n        }\n\n        .ptable, .pth, .ptd {\n            border: none;\n        }\n\n        .pth, .ptd {\n            max-width: 150px;\n            white-space: nowrap;\n            overflow: hidden;\n            -o-text-overflow: ellipsis;\n            -ms-text-overflow: ellipsis;\n            text-overflow: ellipsis;\n        }\n\n        .ptable {\n            display: table;\n            border-collapse: collapse;\n            border-spacing: 0;\n        }\n\n        .ptable.striped .ptr {\n            border-bottom: none;\n        }\n\n        .ptable.striped > .ptbody > .ptr:nth-child(odd) {\n            background-color: rgba(242, 242, 242, 0.5);\n        }\n\n        .ptable.striped > .ptbody > .ptr > .ptd {\n            border-radius: 0;\n        }\n\n        .ptable.highlight > .ptbody > .ptr {\n            -webkit-transition: background-color .25s ease;\n            transition: background-color .25s ease;\n        }\n\n        .ptable.highlight > .ptbody > .ptr:hover {\n            background-color: rgba(242, 242, 242, 0.5);\n        }\n\n        .ptable.centered .pthead .ptr .pth, .ptable.centered .ptbody .ptr .ptd {\n            text-align: center;\n        }\n\n        .ptr {\n            border-bottom: 1px solid rgba(0, 0, 0, 0.12);\n        }\n\n        .ptr.hightlight {\n            background-color: yellow !important;\n        }\n\n        .ptd, .pth {\n            padding: 0.2rem 0.6rem;\n            display: table-cell;\n            text-align: right;\n            vertical-align: middle;\n            border-radius: 2px;\n            position: relative;\n        }\n\n        .ptr.grey {\n            background-color: grey !important;\n        }\n\n        .ptr.strikeout .ptd:before {\n            content: \" \";\n            position: absolute;\n            top: 50%;\n            left: 0;\n            border-bottom: 1px solid #111;\n            width: 100%;\n        }\n\n        .widget-toggle-button {\n            display: inline-flex;\n            -webkit-box-align: center;\n            align-items: center;\n            -webkit-box-pack: center;\n            justify-content: center;\n            box-sizing: border-box;\n            -webkit-tap-highlight-color: transparent;\n            background-color: transparent !important;\n            outline: 0px;\n            border: 0px;\n            border-bottom: 2px solid #E4E4E4 !important;\n            box-shadow: none !important;\n            margin: 0px !important;\n            border-radius: 0px;\n            cursor: pointer;\n            user-select: none;\n            vertical-align: middle;\n            appearance: none;\n            text-decoration: none;\n            font-family: Roboto, Helvetica, Arial, sans-serif;\n            font-weight: 500;\n            font-size: 14px;\n            line-height: 1.25;\n            letter-spacing: 0.02857em;\n            max-width: 360px;\n            min-width: 90px;\n            position: relative;\n            min-height: 48px;\n            flex-shrink: 0;\n            padding: 12px 16px;\n            overflow: hidden;\n            white-space: normal;\n            text-align: center;\n            flex-direction: column;\n            color: rgba(0, 0, 0, 0.6);\n        }\n\n        .narrow-accordion .jupyter-widget-Accordion-child .jupyter-widget-Collapse-header{\n            padding: 5px;\n        }  \n\n        .mod-active {\n            color: rgb(25, 118, 210) !important;\n            border-bottom: 2px solid rgb(25, 118, 210) !important;\n        }\n\n        .narrow-tab button {\n            max-width: 15%;\n        }\n\n        .narrow-tab-fairness button {\n            max-width: 20%;\n        }\n        .narrow-tab-fs button {\n            max-width: 25%;\n        }\n\n        .overflow-fix .jupyter-widgets {\n            overflow: auto;\n        }\n\n        .inner-padding {\n            padding-top: 20px;\n        }\n\n        .fix-img img {\n            width: 100%;\n        }\n\n        .fix-img-half img {\n            width: 50%;\n        }\n\n        .flex-reverse-for-update-button {\n            flex-direction: row-reverse;\n            margin-right: 50px;\n        }\n\n        .data-summary-tab {\n            max-height: 400px;\n        }\n\n        .restricted_table_height {\n            max-height: 450px\n        }\n\n        .input-width-with-parent .widget-dropdown {\n            width: 100%;\n        }\n\n        .input-width-with-parent .widget-text {\n            width: 100%;\n        }\n\n        .no-margin {\n            margin: 0px;\n        }\n\n        .widget-hprogress label {\n            text-align: left;\n        }\n\n        .widget-dropdown label {\n            margin-right: 10px;\n        }\n\n        .form .widget-dropdown {\n            width: auto;\n        }\n\n        .form .widget-text {\n            width: auto;\n        }\n\n        .form p {\n            margin: 0px;\n        }\n\n        .widget-dropdown {\n            white-space: nowrap;\n            overflow: hidden;\n            -o-text-overflow: ellipsis;\n            -ms-text-overflow: ellipsis;\n            text-overflow: ellipsis;\n        }\n\n        .progress-train label {\n            margin-right: 10px;\n        }\n\n        select {\n            height: 97% !important;\n        }\n\n        .no-overflow {\n            overflow: none;\n        }\n\n        .split-btn button {\n            margin-bottom: 2px;\n        }\n\n        .register-btn {\n            width: 50%\n        }\n\n        .register-btn-colab {\n            width: 40%\n        }\n\n        .fix-config-from-overflow .jp-OutputArea-child {\n            display: inherit;\n        }\n        \n        .checkbox-center input[type=\"checkbox\"] {\n            vertical-align: middle;\n        }\n\n        input[type=\"checkbox\"] {\n            vertical-align: middle;\n        }\n\n        </style>\n        "
      }
     },
     "6f4dff8a937e47e6a786dc3c6480bf37": {
      "model_module": "@jupyter-widgets/base",
      "model_module_version": "1.2.0",
      "model_name": "LayoutModel",
      "state": {}
     },
     "6fbd139d2f9f4658afb13bda30ce365b": {
      "model_module": "@jupyter-widgets/controls",
      "model_module_version": "1.5.0",
      "model_name": "DescriptionStyleModel",
      "state": {
       "description_width": ""
      }
     },
     "70434af09b174b05949313d80c4020f7": {
      "model_module": "@jupyter-widgets/output",
      "model_module_version": "1.0.0",
      "model_name": "OutputModel",
      "state": {
       "layout": "IPY_MODEL_ec4906d655814d23beb615ced966b0da"
      }
     },
     "70ba51127adf4a7eae705691ede9ea5e": {
      "model_module": "@jupyter-widgets/controls",
      "model_module_version": "1.5.0",
      "model_name": "DescriptionStyleModel",
      "state": {
       "description_width": "initial"
      }
     },
     "73ba564ab8af4141a2a989afcdf79830": {
      "model_module": "@jupyter-widgets/controls",
      "model_module_version": "1.5.0",
      "model_name": "HTMLModel",
      "state": {
       "layout": "IPY_MODEL_197ccaaebd8846d097b0003111de0912",
       "style": "IPY_MODEL_423d6e2bc9d84935a07534eaf8c48643",
       "value": "\n        <style>\n\n        .left-label {\n            width: 30%;\n        }\n\n        .card-panel {\n            -webkit-transition: -webkit-box-shadow .25s;\n            transition: -webkit-box-shadow .25s;\n            transition: box-shadow .25s;\n            transition: box-shadow .25s, -webkit-box-shadow .25s;\n            padding: 24px;\n            margin: 0.5rem 0 1rem 0;\n            border-radius: 2px;\n            background-color: #fff;\n        }\n\n        .card {\n            position: relative;\n            margin: 0.5rem 0.1rem 1rem 0.2rem;\n            background-color: #fff;\n            -webkit-transition: -webkit-box-shadow .25s;\n            transition: -webkit-box-shadow .25s;\n            transition: box-shadow .25s;\n            transition: box-shadow .25s, -webkit-box-shadow .25s;\n            border-radius: 2px;\n            box-shadow: 0 2px 2px 0 rgb(0 0 0 / 14%), 0 3px 1px -2px rgb(0 0 0 / 12%), 0 1px 5px 0 rgb(0 0 0 / 20%);\n            padding: 24px;\n            color: white;\n        }\n\n        .card .card-title {\n            font-size: 24px;\n            font-weight: 300;\n        }\n\n        @media only screen and (min-width: 800px) {\n            /* For notebook: */\n            .card {width: 99% !important;}\n        }\n\n        @media only screen and (min-width: 1400px) {\n            /* For colab: */\n            .card {width: 99% !important;}\n        }\n\n        .blue-grey.darken-1 {\n            background-color: #546e7a !important;\n        }\n\n        .small-card {\n            position: relative;\n            margin: 0.5rem 0 1rem 0;\n            background-color: #fff;\n            -webkit-transition: -webkit-box-shadow .25s;\n            transition: -webkit-box-shadow .25s;\n            transition: box-shadow .25s;\n            transition: box-shadow .25s, -webkit-box-shadow .25s;\n            border-radius: 2px;\n            box-shadow: 0 2px 2px 0 rgb(0 0 0 / 14%), 0 3px 1px -2px rgb(0 0 0 / 12%), 0 1px 5px 0 rgb(0 0 0 / 20%);\n            padding: 0px 5px 0px 5px;\n            color: white;\n        }\n\n        .inner-card {\n            position: relative;\n            background-color: #fff;\n            -webkit-transition: -webkit-box-shadow .25s;\n            transition: -webkit-box-shadow .25s;\n            transition: box-shadow .25s;\n            transition: box-shadow .25s, -webkit-box-shadow .25s;\n            border-radius: 2px;\n            box-shadow: 0 2px 2px 0 rgb(0 0 0 / 14%), 0 3px 1px -2px rgb(0 0 0 / 12%), 0 1px 5px 0 rgb(0 0 0 / 20%);\n            padding: 20px;\n            color: white;\n            margin: 0px 1px 1px 1px;\n        }\n\n        .card-with-tab {\n            position: relative;\n            margin: 0.5rem 0.1rem 1rem 0.2rem;\n            background-color: #fff;\n            -webkit-transition: -webkit-box-shadow .25s;\n            transition: -webkit-box-shadow .25s;\n            transition: box-shadow .25s;\n            transition: box-shadow .25s, -webkit-box-shadow .25s;\n            border-radius: 2px;\n            box-shadow: 0 2px 2px 0 rgb(0 0 0 / 14%), 0 3px 1px -2px rgb(0 0 0 / 12%), 0 1px 5px 0 rgb(0 0 0 / 20%);\n            padding: 24px;\n            color: white;\n        }\n\n        .card-with-tab button {\n            width: auto;\n            padding: 12px 40px;\n        }\n\n        .list {\n            padding: 0px 10px;\n            box-shadow: 0 2px 2px 0 rgb(0 0 0 / 14%), 0 3px 1px -2px rgb(0 0 0 / 12%), 0 1px 5px 0 rgb(0 0 0 / 20%);\n            margin: 0px 1px 60px 1px;\n        }\n\n        .list-item {\n            padding: 10px 0px;\n            border-width: 0;\n            border-style: solid;\n            border-color: rgba(0, 0, 0, 0.08);\n            border-bottom-width: thin;\n        }\n\n        .divider {\n            margin: 10px 0px;\n            border-width: 0;\n            border-style: solid;\n            border-color: rgba(0, 0, 0, 0.08);\n            border-bottom-width: thin;\n        }\n\n        .hr {\n            margin: 0;\n            -webkit-flex-shrink: 0;\n            -ms-flex-negative: 0;\n            flex-shrink: 0;\n            border-width: 0;\n            border-style: solid;\n            border-color: rgba(0, 0, 0, 0.08);\n            border-bottom-width: thin;\n        }\n\n        .notification {\n            transition: box-shadow 300ms cubic-bezier(0.4, 0, 0.2, 1) 0ms;\n            border-radius: 4px;\n            box-shadow: 0 2px 2px 0 rgb(0 0 0 / 14%), 0 3px 1px -2px rgb(0 0 0 / 12%), 0 1px 5px 0 rgb(0 0 0 / 20%);\n            font-family: Roboto, Helvetica, Arial, sans-serif;\n            font-weight: 500;\n            font-size: 12px;\n            line-height: 1.43;\n            letter-spacing: 0.01071em;\n            background-color: rgb(2, 136, 209);\n            display: flex;\n            padding: 6px 16px;\n            color: rgb(255, 255, 255);\n            margin-top: 10px;\n        }\n\n        .success {\n            background-color: #EDF7ED;\n            color: #1E4620;\n        }\n\n        .error {\n            background-color: #FDEDED;\n            color: #5F2120;\n        }\n\n        .info {\n            background-color: #E5F6FD;\n            color: #528298;\n        }\n\n        .warn {\n            background-color: #FFF4E5;\n            color: #663C00;\n        }\n\n        .margin-top-20 {\n            margin-top: 20px;\n        }\n\n        .hide {\n            display: none;\n        }\n\n        .pbtn {\n            display: inline-flex;\n            -webkit-box-align: center;\n            align-items: center;\n            -webkit-box-pack: center;\n            justify-content: center;\n            position: relative;\n            box-sizing: border-box;\n            -webkit-tap-highlight-color: transparent;\n            outline: 0px;\n            border: 0px;\n            margin: 0px;\n            cursor: pointer;\n            user-select: none;\n            vertical-align: middle;\n            appearance: none;\n            text-decoration: none;\n            font-family: Roboto, Helvetica, Arial, sans-serif;\n            font-weight: 550;\n            font-size: 12px;\n            line-height: 1.75;\n            letter-spacing: 0.02857em;\n            text-transform: uppercase;\n            min-width: 64px;\n            padding: 6px 16px;\n            border-radius: 4px;\n            transition: background-color 250ms cubic-bezier(0.4, 0, 0.2, 1) 0ms, box-shadow 250ms cubic-bezier(0.4, 0, 0.2, 1) 0ms, border-color 250ms cubic-bezier(0.4, 0, 0.2, 1) 0ms, color 250ms cubic-bezier(0.4, 0, 0.2, 1) 0ms;\n            color: rgb(255, 255, 255);\n            background-color: #D71E28;\n            box-shadow: rgb(0 0 0 / 20%) 0px 3px 1px -2px, rgb(0 0 0 / 14%) 0px 2px 2px 0px, rgb(0 0 0 / 12%) 0px 1px 5px 0px;\n        }\n\n        .jp-OutputArea-output {\n            flex-grow: 1;\n            flex-shrink: 1;\n            margin: 0px;\n        }\n\n        .output_subarea {\n            padding: 0px !important;\n        }\n\n        .ptable, .pth, .ptd {\n            border: none;\n        }\n\n        .pth, .ptd {\n            max-width: 150px;\n            white-space: nowrap;\n            overflow: hidden;\n            -o-text-overflow: ellipsis;\n            -ms-text-overflow: ellipsis;\n            text-overflow: ellipsis;\n        }\n\n        .ptable {\n            display: table;\n            border-collapse: collapse;\n            border-spacing: 0;\n        }\n\n        .ptable.striped .ptr {\n            border-bottom: none;\n        }\n\n        .ptable.striped > .ptbody > .ptr:nth-child(odd) {\n            background-color: rgba(242, 242, 242, 0.5);\n        }\n\n        .ptable.striped > .ptbody > .ptr > .ptd {\n            border-radius: 0;\n        }\n\n        .ptable.highlight > .ptbody > .ptr {\n            -webkit-transition: background-color .25s ease;\n            transition: background-color .25s ease;\n        }\n\n        .ptable.highlight > .ptbody > .ptr:hover {\n            background-color: rgba(242, 242, 242, 0.5);\n        }\n\n        .ptable.centered .pthead .ptr .pth, .ptable.centered .ptbody .ptr .ptd {\n            text-align: center;\n        }\n\n        .ptr {\n            border-bottom: 1px solid rgba(0, 0, 0, 0.12);\n        }\n\n        .ptr.hightlight {\n            background-color: yellow !important;\n        }\n\n        .ptd, .pth {\n            padding: 0.2rem 0.6rem;\n            display: table-cell;\n            text-align: right;\n            vertical-align: middle;\n            border-radius: 2px;\n            position: relative;\n        }\n\n        .ptr.grey {\n            background-color: grey !important;\n        }\n\n        .ptr.strikeout .ptd:before {\n            content: \" \";\n            position: absolute;\n            top: 50%;\n            left: 0;\n            border-bottom: 1px solid #111;\n            width: 100%;\n        }\n\n        .widget-toggle-button {\n            display: inline-flex;\n            -webkit-box-align: center;\n            align-items: center;\n            -webkit-box-pack: center;\n            justify-content: center;\n            box-sizing: border-box;\n            -webkit-tap-highlight-color: transparent;\n            background-color: transparent !important;\n            outline: 0px;\n            border: 0px;\n            border-bottom: 2px solid #E4E4E4 !important;\n            box-shadow: none !important;\n            margin: 0px !important;\n            border-radius: 0px;\n            cursor: pointer;\n            user-select: none;\n            vertical-align: middle;\n            appearance: none;\n            text-decoration: none;\n            font-family: Roboto, Helvetica, Arial, sans-serif;\n            font-weight: 500;\n            font-size: 14px;\n            line-height: 1.25;\n            letter-spacing: 0.02857em;\n            max-width: 360px;\n            min-width: 90px;\n            position: relative;\n            min-height: 48px;\n            flex-shrink: 0;\n            padding: 12px 16px;\n            overflow: hidden;\n            white-space: normal;\n            text-align: center;\n            flex-direction: column;\n            color: rgba(0, 0, 0, 0.6);\n        }\n\n        .narrow-accordion .jupyter-widget-Accordion-child .jupyter-widget-Collapse-header{\n            padding: 5px;\n        }  \n\n        .mod-active {\n            color: rgb(25, 118, 210) !important;\n            border-bottom: 2px solid rgb(25, 118, 210) !important;\n        }\n\n        .narrow-tab button {\n            max-width: 15%;\n        }\n\n        .narrow-tab-fairness button {\n            max-width: 20%;\n        }\n        .narrow-tab-fs button {\n            max-width: 25%;\n        }\n\n        .overflow-fix .jupyter-widgets {\n            overflow: auto;\n        }\n\n        .inner-padding {\n            padding-top: 20px;\n        }\n\n        .fix-img img {\n            width: 100%;\n        }\n\n        .fix-img-half img {\n            width: 50%;\n        }\n\n        .flex-reverse-for-update-button {\n            flex-direction: row-reverse;\n            margin-right: 50px;\n        }\n\n        .data-summary-tab {\n            max-height: 400px;\n        }\n\n        .restricted_table_height {\n            max-height: 450px\n        }\n\n        .input-width-with-parent .widget-dropdown {\n            width: 100%;\n        }\n\n        .input-width-with-parent .widget-text {\n            width: 100%;\n        }\n\n        .no-margin {\n            margin: 0px;\n        }\n\n        .widget-hprogress label {\n            text-align: left;\n        }\n\n        .widget-dropdown label {\n            margin-right: 10px;\n        }\n\n        .form .widget-dropdown {\n            width: auto;\n        }\n\n        .form .widget-text {\n            width: auto;\n        }\n\n        .form p {\n            margin: 0px;\n        }\n\n        .widget-dropdown {\n            white-space: nowrap;\n            overflow: hidden;\n            -o-text-overflow: ellipsis;\n            -ms-text-overflow: ellipsis;\n            text-overflow: ellipsis;\n        }\n\n        .progress-train label {\n            margin-right: 10px;\n        }\n\n        select {\n            height: 97% !important;\n        }\n\n        .no-overflow {\n            overflow: none;\n        }\n\n        .split-btn button {\n            margin-bottom: 2px;\n        }\n\n        .register-btn {\n            width: 50%\n        }\n\n        .register-btn-colab {\n            width: 40%\n        }\n\n        .fix-config-from-overflow .jp-OutputArea-child {\n            display: inherit;\n        }\n        \n        .checkbox-center input[type=\"checkbox\"] {\n            vertical-align: middle;\n        }\n\n        input[type=\"checkbox\"] {\n            vertical-align: middle;\n        }\n\n        </style>\n        "
      }
     },
     "73d4b81fe8084653b6ee3fe3954ecda1": {
      "model_module": "@jupyter-widgets/controls",
      "model_module_version": "1.5.0",
      "model_name": "ButtonStyleModel",
      "state": {}
     },
     "74272fbe853d488c9285fecc9a153a62": {
      "model_module": "@jupyter-widgets/controls",
      "model_module_version": "1.5.0",
      "model_name": "DescriptionStyleModel",
      "state": {
       "description_width": ""
      }
     },
     "74664cf578ae4313957512db0aa7c14a": {
      "model_module": "@jupyter-widgets/base",
      "model_module_version": "1.2.0",
      "model_name": "LayoutModel",
      "state": {}
     },
     "748d6a855cf142309c3c40375b454f29": {
      "model_module": "@jupyter-widgets/controls",
      "model_module_version": "1.5.0",
      "model_name": "HTMLModel",
      "state": {
       "layout": "IPY_MODEL_7671c5f2a2ce4a40b038f6e7820aea15",
       "style": "IPY_MODEL_695fcfd7d76c4be3a6150ca9882ba48f",
       "value": "\n        <style>\n\n        .left-label {\n            width: 30%;\n        }\n\n        .card-panel {\n            -webkit-transition: -webkit-box-shadow .25s;\n            transition: -webkit-box-shadow .25s;\n            transition: box-shadow .25s;\n            transition: box-shadow .25s, -webkit-box-shadow .25s;\n            padding: 24px;\n            margin: 0.5rem 0 1rem 0;\n            border-radius: 2px;\n            background-color: #fff;\n        }\n\n        .card {\n            position: relative;\n            margin: 0.5rem 0.1rem 1rem 0.2rem;\n            background-color: #fff;\n            -webkit-transition: -webkit-box-shadow .25s;\n            transition: -webkit-box-shadow .25s;\n            transition: box-shadow .25s;\n            transition: box-shadow .25s, -webkit-box-shadow .25s;\n            border-radius: 2px;\n            box-shadow: 0 2px 2px 0 rgb(0 0 0 / 14%), 0 3px 1px -2px rgb(0 0 0 / 12%), 0 1px 5px 0 rgb(0 0 0 / 20%);\n            padding: 24px;\n            color: white;\n        }\n\n        .card .card-title {\n            font-size: 24px;\n            font-weight: 300;\n        }\n\n        @media only screen and (min-width: 800px) {\n            /* For notebook: */\n            .card {width: 99% !important;}\n        }\n\n        @media only screen and (min-width: 1400px) {\n            /* For colab: */\n            .card {width: 99% !important;}\n        }\n\n        .blue-grey.darken-1 {\n            background-color: #546e7a !important;\n        }\n\n        .small-card {\n            position: relative;\n            margin: 0.5rem 0 1rem 0;\n            background-color: #fff;\n            -webkit-transition: -webkit-box-shadow .25s;\n            transition: -webkit-box-shadow .25s;\n            transition: box-shadow .25s;\n            transition: box-shadow .25s, -webkit-box-shadow .25s;\n            border-radius: 2px;\n            box-shadow: 0 2px 2px 0 rgb(0 0 0 / 14%), 0 3px 1px -2px rgb(0 0 0 / 12%), 0 1px 5px 0 rgb(0 0 0 / 20%);\n            padding: 0px 5px 0px 5px;\n            color: white;\n        }\n\n        .inner-card {\n            position: relative;\n            background-color: #fff;\n            -webkit-transition: -webkit-box-shadow .25s;\n            transition: -webkit-box-shadow .25s;\n            transition: box-shadow .25s;\n            transition: box-shadow .25s, -webkit-box-shadow .25s;\n            border-radius: 2px;\n            box-shadow: 0 2px 2px 0 rgb(0 0 0 / 14%), 0 3px 1px -2px rgb(0 0 0 / 12%), 0 1px 5px 0 rgb(0 0 0 / 20%);\n            padding: 20px;\n            color: white;\n            margin: 0px 1px 1px 1px;\n        }\n\n        .card-with-tab {\n            position: relative;\n            margin: 0.5rem 0.1rem 1rem 0.2rem;\n            background-color: #fff;\n            -webkit-transition: -webkit-box-shadow .25s;\n            transition: -webkit-box-shadow .25s;\n            transition: box-shadow .25s;\n            transition: box-shadow .25s, -webkit-box-shadow .25s;\n            border-radius: 2px;\n            box-shadow: 0 2px 2px 0 rgb(0 0 0 / 14%), 0 3px 1px -2px rgb(0 0 0 / 12%), 0 1px 5px 0 rgb(0 0 0 / 20%);\n            padding: 24px;\n            color: white;\n        }\n\n        .card-with-tab button {\n            width: auto;\n            padding: 12px 40px;\n        }\n\n        .list {\n            padding: 0px 10px;\n            box-shadow: 0 2px 2px 0 rgb(0 0 0 / 14%), 0 3px 1px -2px rgb(0 0 0 / 12%), 0 1px 5px 0 rgb(0 0 0 / 20%);\n            margin: 0px 1px 60px 1px;\n        }\n\n        .list-item {\n            padding: 10px 0px;\n            border-width: 0;\n            border-style: solid;\n            border-color: rgba(0, 0, 0, 0.08);\n            border-bottom-width: thin;\n        }\n\n        .divider {\n            margin: 10px 0px;\n            border-width: 0;\n            border-style: solid;\n            border-color: rgba(0, 0, 0, 0.08);\n            border-bottom-width: thin;\n        }\n\n        .hr {\n            margin: 0;\n            -webkit-flex-shrink: 0;\n            -ms-flex-negative: 0;\n            flex-shrink: 0;\n            border-width: 0;\n            border-style: solid;\n            border-color: rgba(0, 0, 0, 0.08);\n            border-bottom-width: thin;\n        }\n\n        .notification {\n            transition: box-shadow 300ms cubic-bezier(0.4, 0, 0.2, 1) 0ms;\n            border-radius: 4px;\n            box-shadow: 0 2px 2px 0 rgb(0 0 0 / 14%), 0 3px 1px -2px rgb(0 0 0 / 12%), 0 1px 5px 0 rgb(0 0 0 / 20%);\n            font-family: Roboto, Helvetica, Arial, sans-serif;\n            font-weight: 500;\n            font-size: 12px;\n            line-height: 1.43;\n            letter-spacing: 0.01071em;\n            background-color: rgb(2, 136, 209);\n            display: flex;\n            padding: 6px 16px;\n            color: rgb(255, 255, 255);\n            margin-top: 10px;\n        }\n\n        .success {\n            background-color: #EDF7ED;\n            color: #1E4620;\n        }\n\n        .error {\n            background-color: #FDEDED;\n            color: #5F2120;\n        }\n\n        .info {\n            background-color: #E5F6FD;\n            color: #528298;\n        }\n\n        .warn {\n            background-color: #FFF4E5;\n            color: #663C00;\n        }\n\n        .margin-top-20 {\n            margin-top: 20px;\n        }\n\n        .hide {\n            display: none;\n        }\n\n        .pbtn {\n            display: inline-flex;\n            -webkit-box-align: center;\n            align-items: center;\n            -webkit-box-pack: center;\n            justify-content: center;\n            position: relative;\n            box-sizing: border-box;\n            -webkit-tap-highlight-color: transparent;\n            outline: 0px;\n            border: 0px;\n            margin: 0px;\n            cursor: pointer;\n            user-select: none;\n            vertical-align: middle;\n            appearance: none;\n            text-decoration: none;\n            font-family: Roboto, Helvetica, Arial, sans-serif;\n            font-weight: 550;\n            font-size: 12px;\n            line-height: 1.75;\n            letter-spacing: 0.02857em;\n            text-transform: uppercase;\n            min-width: 64px;\n            padding: 6px 16px;\n            border-radius: 4px;\n            transition: background-color 250ms cubic-bezier(0.4, 0, 0.2, 1) 0ms, box-shadow 250ms cubic-bezier(0.4, 0, 0.2, 1) 0ms, border-color 250ms cubic-bezier(0.4, 0, 0.2, 1) 0ms, color 250ms cubic-bezier(0.4, 0, 0.2, 1) 0ms;\n            color: rgb(255, 255, 255);\n            background-color: #D71E28;\n            box-shadow: rgb(0 0 0 / 20%) 0px 3px 1px -2px, rgb(0 0 0 / 14%) 0px 2px 2px 0px, rgb(0 0 0 / 12%) 0px 1px 5px 0px;\n        }\n\n        .jp-OutputArea-output {\n            flex-grow: 1;\n            flex-shrink: 1;\n            margin: 0px;\n        }\n\n        .output_subarea {\n            padding: 0px !important;\n        }\n\n        .ptable, .pth, .ptd {\n            border: none;\n        }\n\n        .pth, .ptd {\n            max-width: 150px;\n            white-space: nowrap;\n            overflow: hidden;\n            -o-text-overflow: ellipsis;\n            -ms-text-overflow: ellipsis;\n            text-overflow: ellipsis;\n        }\n\n        .ptable {\n            display: table;\n            border-collapse: collapse;\n            border-spacing: 0;\n        }\n\n        .ptable.striped .ptr {\n            border-bottom: none;\n        }\n\n        .ptable.striped > .ptbody > .ptr:nth-child(odd) {\n            background-color: rgba(242, 242, 242, 0.5);\n        }\n\n        .ptable.striped > .ptbody > .ptr > .ptd {\n            border-radius: 0;\n        }\n\n        .ptable.highlight > .ptbody > .ptr {\n            -webkit-transition: background-color .25s ease;\n            transition: background-color .25s ease;\n        }\n\n        .ptable.highlight > .ptbody > .ptr:hover {\n            background-color: rgba(242, 242, 242, 0.5);\n        }\n\n        .ptable.centered .pthead .ptr .pth, .ptable.centered .ptbody .ptr .ptd {\n            text-align: center;\n        }\n\n        .ptr {\n            border-bottom: 1px solid rgba(0, 0, 0, 0.12);\n        }\n\n        .ptr.hightlight {\n            background-color: yellow !important;\n        }\n\n        .ptd, .pth {\n            padding: 0.2rem 0.6rem;\n            display: table-cell;\n            text-align: right;\n            vertical-align: middle;\n            border-radius: 2px;\n            position: relative;\n        }\n\n        .ptr.grey {\n            background-color: grey !important;\n        }\n\n        .ptr.strikeout .ptd:before {\n            content: \" \";\n            position: absolute;\n            top: 50%;\n            left: 0;\n            border-bottom: 1px solid #111;\n            width: 100%;\n        }\n\n        .widget-toggle-button {\n            display: inline-flex;\n            -webkit-box-align: center;\n            align-items: center;\n            -webkit-box-pack: center;\n            justify-content: center;\n            box-sizing: border-box;\n            -webkit-tap-highlight-color: transparent;\n            background-color: transparent !important;\n            outline: 0px;\n            border: 0px;\n            border-bottom: 2px solid #E4E4E4 !important;\n            box-shadow: none !important;\n            margin: 0px !important;\n            border-radius: 0px;\n            cursor: pointer;\n            user-select: none;\n            vertical-align: middle;\n            appearance: none;\n            text-decoration: none;\n            font-family: Roboto, Helvetica, Arial, sans-serif;\n            font-weight: 500;\n            font-size: 14px;\n            line-height: 1.25;\n            letter-spacing: 0.02857em;\n            max-width: 360px;\n            min-width: 90px;\n            position: relative;\n            min-height: 48px;\n            flex-shrink: 0;\n            padding: 12px 16px;\n            overflow: hidden;\n            white-space: normal;\n            text-align: center;\n            flex-direction: column;\n            color: rgba(0, 0, 0, 0.6);\n        }\n\n        .narrow-accordion .jupyter-widget-Accordion-child .jupyter-widget-Collapse-header{\n            padding: 5px;\n        }  \n\n        .mod-active {\n            color: rgb(25, 118, 210) !important;\n            border-bottom: 2px solid rgb(25, 118, 210) !important;\n        }\n\n        .narrow-tab button {\n            max-width: 15%;\n        }\n\n        .narrow-tab-fairness button {\n            max-width: 20%;\n        }\n        .narrow-tab-fs button {\n            max-width: 25%;\n        }\n\n        .overflow-fix .jupyter-widgets {\n            overflow: auto;\n        }\n\n        .inner-padding {\n            padding-top: 20px;\n        }\n\n        .fix-img img {\n            width: 100%;\n        }\n\n        .fix-img-half img {\n            width: 50%;\n        }\n\n        .flex-reverse-for-update-button {\n            flex-direction: row-reverse;\n            margin-right: 50px;\n        }\n\n        .data-summary-tab {\n            max-height: 400px;\n        }\n\n        .restricted_table_height {\n            max-height: 450px\n        }\n\n        .input-width-with-parent .widget-dropdown {\n            width: 100%;\n        }\n\n        .input-width-with-parent .widget-text {\n            width: 100%;\n        }\n\n        .no-margin {\n            margin: 0px;\n        }\n\n        .widget-hprogress label {\n            text-align: left;\n        }\n\n        .widget-dropdown label {\n            margin-right: 10px;\n        }\n\n        .form .widget-dropdown {\n            width: auto;\n        }\n\n        .form .widget-text {\n            width: auto;\n        }\n\n        .form p {\n            margin: 0px;\n        }\n\n        .widget-dropdown {\n            white-space: nowrap;\n            overflow: hidden;\n            -o-text-overflow: ellipsis;\n            -ms-text-overflow: ellipsis;\n            text-overflow: ellipsis;\n        }\n\n        .progress-train label {\n            margin-right: 10px;\n        }\n\n        select {\n            height: 97% !important;\n        }\n\n        .no-overflow {\n            overflow: none;\n        }\n\n        .split-btn button {\n            margin-bottom: 2px;\n        }\n\n        .register-btn {\n            width: 50%\n        }\n\n        .register-btn-colab {\n            width: 40%\n        }\n\n        .fix-config-from-overflow .jp-OutputArea-child {\n            display: inherit;\n        }\n        \n        .checkbox-center input[type=\"checkbox\"] {\n            vertical-align: middle;\n        }\n\n        input[type=\"checkbox\"] {\n            vertical-align: middle;\n        }\n\n        </style>\n        "
      }
     },
     "7671c5f2a2ce4a40b038f6e7820aea15": {
      "model_module": "@jupyter-widgets/base",
      "model_module_version": "1.2.0",
      "model_name": "LayoutModel",
      "state": {}
     },
     "7750abfd04494c658416e2fbd4997dff": {
      "model_module": "@jupyter-widgets/base",
      "model_module_version": "1.2.0",
      "model_name": "LayoutModel",
      "state": {
       "width": "120px"
      }
     },
     "7832c9fe132249a4a59539d4af8b8dd3": {
      "model_module": "@jupyter-widgets/controls",
      "model_module_version": "1.5.0",
      "model_name": "DescriptionStyleModel",
      "state": {
       "description_width": ""
      }
     },
     "78c546e1d0584cefab2f2f5d436549b6": {
      "model_module": "@jupyter-widgets/controls",
      "model_module_version": "1.5.0",
      "model_name": "HTMLModel",
      "state": {
       "layout": "IPY_MODEL_6d5f2d480d4a469ab465138eef8a709f",
       "style": "IPY_MODEL_28dad38a19464e589d9b64dd25e1eee9",
       "value": "\n        <style>\n\n        .left-label {\n            width: 30%;\n        }\n\n        .card-panel {\n            -webkit-transition: -webkit-box-shadow .25s;\n            transition: -webkit-box-shadow .25s;\n            transition: box-shadow .25s;\n            transition: box-shadow .25s, -webkit-box-shadow .25s;\n            padding: 24px;\n            margin: 0.5rem 0 1rem 0;\n            border-radius: 2px;\n            background-color: #fff;\n        }\n\n        .card {\n            position: relative;\n            margin: 0.5rem 0.1rem 1rem 0.2rem;\n            background-color: #fff;\n            -webkit-transition: -webkit-box-shadow .25s;\n            transition: -webkit-box-shadow .25s;\n            transition: box-shadow .25s;\n            transition: box-shadow .25s, -webkit-box-shadow .25s;\n            border-radius: 2px;\n            box-shadow: 0 2px 2px 0 rgb(0 0 0 / 14%), 0 3px 1px -2px rgb(0 0 0 / 12%), 0 1px 5px 0 rgb(0 0 0 / 20%);\n            padding: 24px;\n            color: white;\n        }\n\n        .card .card-title {\n            font-size: 24px;\n            font-weight: 300;\n        }\n\n        @media only screen and (min-width: 800px) {\n            /* For notebook: */\n            .card {width: 99% !important;}\n        }\n\n        @media only screen and (min-width: 1400px) {\n            /* For colab: */\n            .card {width: 99% !important;}\n        }\n\n        .blue-grey.darken-1 {\n            background-color: #546e7a !important;\n        }\n\n        .small-card {\n            position: relative;\n            margin: 0.5rem 0 1rem 0;\n            background-color: #fff;\n            -webkit-transition: -webkit-box-shadow .25s;\n            transition: -webkit-box-shadow .25s;\n            transition: box-shadow .25s;\n            transition: box-shadow .25s, -webkit-box-shadow .25s;\n            border-radius: 2px;\n            box-shadow: 0 2px 2px 0 rgb(0 0 0 / 14%), 0 3px 1px -2px rgb(0 0 0 / 12%), 0 1px 5px 0 rgb(0 0 0 / 20%);\n            padding: 0px 5px 0px 5px;\n            color: white;\n        }\n\n        .inner-card {\n            position: relative;\n            background-color: #fff;\n            -webkit-transition: -webkit-box-shadow .25s;\n            transition: -webkit-box-shadow .25s;\n            transition: box-shadow .25s;\n            transition: box-shadow .25s, -webkit-box-shadow .25s;\n            border-radius: 2px;\n            box-shadow: 0 2px 2px 0 rgb(0 0 0 / 14%), 0 3px 1px -2px rgb(0 0 0 / 12%), 0 1px 5px 0 rgb(0 0 0 / 20%);\n            padding: 20px;\n            color: white;\n            margin: 0px 1px 1px 1px;\n        }\n\n        .card-with-tab {\n            position: relative;\n            margin: 0.5rem 0.1rem 1rem 0.2rem;\n            background-color: #fff;\n            -webkit-transition: -webkit-box-shadow .25s;\n            transition: -webkit-box-shadow .25s;\n            transition: box-shadow .25s;\n            transition: box-shadow .25s, -webkit-box-shadow .25s;\n            border-radius: 2px;\n            box-shadow: 0 2px 2px 0 rgb(0 0 0 / 14%), 0 3px 1px -2px rgb(0 0 0 / 12%), 0 1px 5px 0 rgb(0 0 0 / 20%);\n            padding: 24px;\n            color: white;\n        }\n\n        .card-with-tab button {\n            width: auto;\n            padding: 12px 40px;\n        }\n\n        .list {\n            padding: 0px 10px;\n            box-shadow: 0 2px 2px 0 rgb(0 0 0 / 14%), 0 3px 1px -2px rgb(0 0 0 / 12%), 0 1px 5px 0 rgb(0 0 0 / 20%);\n            margin: 0px 1px 60px 1px;\n        }\n\n        .list-item {\n            padding: 10px 0px;\n            border-width: 0;\n            border-style: solid;\n            border-color: rgba(0, 0, 0, 0.08);\n            border-bottom-width: thin;\n        }\n\n        .divider {\n            margin: 10px 0px;\n            border-width: 0;\n            border-style: solid;\n            border-color: rgba(0, 0, 0, 0.08);\n            border-bottom-width: thin;\n        }\n\n        .hr {\n            margin: 0;\n            -webkit-flex-shrink: 0;\n            -ms-flex-negative: 0;\n            flex-shrink: 0;\n            border-width: 0;\n            border-style: solid;\n            border-color: rgba(0, 0, 0, 0.08);\n            border-bottom-width: thin;\n        }\n\n        .notification {\n            transition: box-shadow 300ms cubic-bezier(0.4, 0, 0.2, 1) 0ms;\n            border-radius: 4px;\n            box-shadow: 0 2px 2px 0 rgb(0 0 0 / 14%), 0 3px 1px -2px rgb(0 0 0 / 12%), 0 1px 5px 0 rgb(0 0 0 / 20%);\n            font-family: Roboto, Helvetica, Arial, sans-serif;\n            font-weight: 500;\n            font-size: 12px;\n            line-height: 1.43;\n            letter-spacing: 0.01071em;\n            background-color: rgb(2, 136, 209);\n            display: flex;\n            padding: 6px 16px;\n            color: rgb(255, 255, 255);\n            margin-top: 10px;\n        }\n\n        .success {\n            background-color: #EDF7ED;\n            color: #1E4620;\n        }\n\n        .error {\n            background-color: #FDEDED;\n            color: #5F2120;\n        }\n\n        .info {\n            background-color: #E5F6FD;\n            color: #528298;\n        }\n\n        .warn {\n            background-color: #FFF4E5;\n            color: #663C00;\n        }\n\n        .margin-top-20 {\n            margin-top: 20px;\n        }\n\n        .hide {\n            display: none;\n        }\n\n        .pbtn {\n            display: inline-flex;\n            -webkit-box-align: center;\n            align-items: center;\n            -webkit-box-pack: center;\n            justify-content: center;\n            position: relative;\n            box-sizing: border-box;\n            -webkit-tap-highlight-color: transparent;\n            outline: 0px;\n            border: 0px;\n            margin: 0px;\n            cursor: pointer;\n            user-select: none;\n            vertical-align: middle;\n            appearance: none;\n            text-decoration: none;\n            font-family: Roboto, Helvetica, Arial, sans-serif;\n            font-weight: 550;\n            font-size: 12px;\n            line-height: 1.75;\n            letter-spacing: 0.02857em;\n            text-transform: uppercase;\n            min-width: 64px;\n            padding: 6px 16px;\n            border-radius: 4px;\n            transition: background-color 250ms cubic-bezier(0.4, 0, 0.2, 1) 0ms, box-shadow 250ms cubic-bezier(0.4, 0, 0.2, 1) 0ms, border-color 250ms cubic-bezier(0.4, 0, 0.2, 1) 0ms, color 250ms cubic-bezier(0.4, 0, 0.2, 1) 0ms;\n            color: rgb(255, 255, 255);\n            background-color: #D71E28;\n            box-shadow: rgb(0 0 0 / 20%) 0px 3px 1px -2px, rgb(0 0 0 / 14%) 0px 2px 2px 0px, rgb(0 0 0 / 12%) 0px 1px 5px 0px;\n        }\n\n        .jp-OutputArea-output {\n            flex-grow: 1;\n            flex-shrink: 1;\n            margin: 0px;\n        }\n\n        .output_subarea {\n            padding: 0px !important;\n        }\n\n        .ptable, .pth, .ptd {\n            border: none;\n        }\n\n        .pth, .ptd {\n            max-width: 150px;\n            white-space: nowrap;\n            overflow: hidden;\n            -o-text-overflow: ellipsis;\n            -ms-text-overflow: ellipsis;\n            text-overflow: ellipsis;\n        }\n\n        .ptable {\n            display: table;\n            border-collapse: collapse;\n            border-spacing: 0;\n        }\n\n        .ptable.striped .ptr {\n            border-bottom: none;\n        }\n\n        .ptable.striped > .ptbody > .ptr:nth-child(odd) {\n            background-color: rgba(242, 242, 242, 0.5);\n        }\n\n        .ptable.striped > .ptbody > .ptr > .ptd {\n            border-radius: 0;\n        }\n\n        .ptable.highlight > .ptbody > .ptr {\n            -webkit-transition: background-color .25s ease;\n            transition: background-color .25s ease;\n        }\n\n        .ptable.highlight > .ptbody > .ptr:hover {\n            background-color: rgba(242, 242, 242, 0.5);\n        }\n\n        .ptable.centered .pthead .ptr .pth, .ptable.centered .ptbody .ptr .ptd {\n            text-align: center;\n        }\n\n        .ptr {\n            border-bottom: 1px solid rgba(0, 0, 0, 0.12);\n        }\n\n        .ptr.hightlight {\n            background-color: yellow !important;\n        }\n\n        .ptd, .pth {\n            padding: 0.2rem 0.6rem;\n            display: table-cell;\n            text-align: right;\n            vertical-align: middle;\n            border-radius: 2px;\n            position: relative;\n        }\n\n        .ptr.grey {\n            background-color: grey !important;\n        }\n\n        .ptr.strikeout .ptd:before {\n            content: \" \";\n            position: absolute;\n            top: 50%;\n            left: 0;\n            border-bottom: 1px solid #111;\n            width: 100%;\n        }\n\n        .widget-toggle-button {\n            display: inline-flex;\n            -webkit-box-align: center;\n            align-items: center;\n            -webkit-box-pack: center;\n            justify-content: center;\n            box-sizing: border-box;\n            -webkit-tap-highlight-color: transparent;\n            background-color: transparent !important;\n            outline: 0px;\n            border: 0px;\n            border-bottom: 2px solid #E4E4E4 !important;\n            box-shadow: none !important;\n            margin: 0px !important;\n            border-radius: 0px;\n            cursor: pointer;\n            user-select: none;\n            vertical-align: middle;\n            appearance: none;\n            text-decoration: none;\n            font-family: Roboto, Helvetica, Arial, sans-serif;\n            font-weight: 500;\n            font-size: 14px;\n            line-height: 1.25;\n            letter-spacing: 0.02857em;\n            max-width: 360px;\n            min-width: 90px;\n            position: relative;\n            min-height: 48px;\n            flex-shrink: 0;\n            padding: 12px 16px;\n            overflow: hidden;\n            white-space: normal;\n            text-align: center;\n            flex-direction: column;\n            color: rgba(0, 0, 0, 0.6);\n        }\n\n        .narrow-accordion .jupyter-widget-Accordion-child .jupyter-widget-Collapse-header{\n            padding: 5px;\n        }  \n\n        .mod-active {\n            color: rgb(25, 118, 210) !important;\n            border-bottom: 2px solid rgb(25, 118, 210) !important;\n        }\n\n        .narrow-tab button {\n            max-width: 15%;\n        }\n\n        .narrow-tab-fairness button {\n            max-width: 20%;\n        }\n        .narrow-tab-fs button {\n            max-width: 25%;\n        }\n\n        .overflow-fix .jupyter-widgets {\n            overflow: auto;\n        }\n\n        .inner-padding {\n            padding-top: 20px;\n        }\n\n        .fix-img img {\n            width: 100%;\n        }\n\n        .fix-img-half img {\n            width: 50%;\n        }\n\n        .flex-reverse-for-update-button {\n            flex-direction: row-reverse;\n            margin-right: 50px;\n        }\n\n        .data-summary-tab {\n            max-height: 400px;\n        }\n\n        .restricted_table_height {\n            max-height: 450px\n        }\n\n        .input-width-with-parent .widget-dropdown {\n            width: 100%;\n        }\n\n        .input-width-with-parent .widget-text {\n            width: 100%;\n        }\n\n        .no-margin {\n            margin: 0px;\n        }\n\n        .widget-hprogress label {\n            text-align: left;\n        }\n\n        .widget-dropdown label {\n            margin-right: 10px;\n        }\n\n        .form .widget-dropdown {\n            width: auto;\n        }\n\n        .form .widget-text {\n            width: auto;\n        }\n\n        .form p {\n            margin: 0px;\n        }\n\n        .widget-dropdown {\n            white-space: nowrap;\n            overflow: hidden;\n            -o-text-overflow: ellipsis;\n            -ms-text-overflow: ellipsis;\n            text-overflow: ellipsis;\n        }\n\n        .progress-train label {\n            margin-right: 10px;\n        }\n\n        select {\n            height: 97% !important;\n        }\n\n        .no-overflow {\n            overflow: none;\n        }\n\n        .split-btn button {\n            margin-bottom: 2px;\n        }\n\n        .register-btn {\n            width: 50%\n        }\n\n        .register-btn-colab {\n            width: 40%\n        }\n\n        .fix-config-from-overflow .jp-OutputArea-child {\n            display: inherit;\n        }\n        \n        .checkbox-center input[type=\"checkbox\"] {\n            vertical-align: middle;\n        }\n\n        input[type=\"checkbox\"] {\n            vertical-align: middle;\n        }\n\n        </style>\n        "
      }
     },
     "7970b63bcc4248c1a4b79ac7653c9b1c": {
      "model_module": "@jupyter-widgets/controls",
      "model_module_version": "1.5.0",
      "model_name": "DescriptionStyleModel",
      "state": {
       "description_width": "initial"
      }
     },
     "7a668f167a4341d3bb1d855eea4adeae": {
      "model_module": "@jupyter-widgets/controls",
      "model_module_version": "1.5.0",
      "model_name": "DescriptionStyleModel",
      "state": {
       "description_width": ""
      }
     },
     "7a96918cb9e84ac7b4c0e576a309e2ae": {
      "model_module": "@jupyter-widgets/base",
      "model_module_version": "1.2.0",
      "model_name": "LayoutModel",
      "state": {}
     },
     "7ab22e715f91439bb3fcb5b8e5ff4aa8": {
      "model_module": "@jupyter-widgets/base",
      "model_module_version": "1.2.0",
      "model_name": "LayoutModel",
      "state": {
       "width": "20%"
      }
     },
     "7b43f9fdbec74db98ed86b589bf368e0": {
      "model_module": "@jupyter-widgets/controls",
      "model_module_version": "1.5.0",
      "model_name": "HTMLModel",
      "state": {
       "layout": "IPY_MODEL_7a96918cb9e84ac7b4c0e576a309e2ae",
       "style": "IPY_MODEL_9d78aef62f0347e1bd7822c4da4d80ab",
       "value": "<p>Sample Weight:</p>"
      }
     },
     "7c1ce69d23654bceb99a8658eb47f4c5": {
      "model_module": "@jupyter-widgets/controls",
      "model_module_version": "1.5.0",
      "model_name": "BoxModel",
      "state": {
       "layout": "IPY_MODEL_af2e81e17c6747e3b7f23ccc14d33735"
      }
     },
     "7e1bdb859e0e427bb226caadfced49a8": {
      "model_module": "@jupyter-widgets/controls",
      "model_module_version": "1.5.0",
      "model_name": "DescriptionStyleModel",
      "state": {
       "description_width": ""
      }
     },
     "7fcc8bc5ece84567b3962a25f06b9ff1": {
      "model_module": "@jupyter-widgets/base",
      "model_module_version": "1.2.0",
      "model_name": "LayoutModel",
      "state": {}
     },
     "7fd7b61a95d847839417d90c6506573e": {
      "model_module": "@jupyter-widgets/controls",
      "model_module_version": "1.5.0",
      "model_name": "DescriptionStyleModel",
      "state": {
       "description_width": "initial"
      }
     },
     "803f813fdc274502b980d0d871a97967": {
      "model_module": "@jupyter-widgets/base",
      "model_module_version": "1.2.0",
      "model_name": "LayoutModel",
      "state": {}
     },
     "8065e6e68ef44b4dbc5f2490ca6d1c8a": {
      "model_module": "@jupyter-widgets/controls",
      "model_module_version": "1.5.0",
      "model_name": "HTMLModel",
      "state": {
       "layout": "IPY_MODEL_43b39d9b5d714fa88859beb5b3accfaf",
       "style": "IPY_MODEL_e73db0d0377b4dbaaa9f2dad773fd02f",
       "value": "\n        <table class='ptable striped'>\n            <thead class='pthead'>\n                <tr class='ptr'>\n                    <th class='pth'></th><th class='pth'>name</th><th class='pth'>n_missing</th><th class='pth'>mean</th><th class='pth'>std</th><th class='pth'>min</th><th class='pth'>q1</th><th class='pth'>median</th><th class='pth'>q3</th><th class='pth'>max</th>\n                </tr>\n            </thead>\n\n            <tbody class='ptbody'>\n                <tr class='ptr'><td class='ptd'>0</td><td class='ptd'>mnth</td><td class='ptd'>0.0</td><td class='ptd'>6.537775</td><td class='ptd'>3.438776</td><td class='ptd'>1.0</td><td class='ptd'>4.0</td><td class='ptd'>7.0</td><td class='ptd'>10.0</td><td class='ptd'>12.0</td></tr><tr class='ptr'><td class='ptd'>1</td><td class='ptd'>hr</td><td class='ptd'>0.0</td><td class='ptd'>11.546752</td><td class='ptd'>6.914405</td><td class='ptd'>0.0</td><td class='ptd'>6.0</td><td class='ptd'>12.0</td><td class='ptd'>18.0</td><td class='ptd'>23.0</td></tr><tr class='ptr'><td class='ptd'>2</td><td class='ptd'>weekday</td><td class='ptd'>0.0</td><td class='ptd'>3.003683</td><td class='ptd'>2.005771</td><td class='ptd'>0.0</td><td class='ptd'>1.0</td><td class='ptd'>3.0</td><td class='ptd'>5.0</td><td class='ptd'>6.0</td></tr><tr class='ptr'><td class='ptd'>3</td><td class='ptd'>temp</td><td class='ptd'>0.0</td><td class='ptd'>0.496987</td><td class='ptd'>0.192556</td><td class='ptd'>0.02</td><td class='ptd'>0.34</td><td class='ptd'>0.5</td><td class='ptd'>0.66</td><td class='ptd'>1.0</td></tr><tr class='ptr'><td class='ptd'>4</td><td class='ptd'>atemp</td><td class='ptd'>0.0</td><td class='ptd'>0.475775</td><td class='ptd'>0.17185</td><td class='ptd'>0.0</td><td class='ptd'>0.3333</td><td class='ptd'>0.4848</td><td class='ptd'>0.6212</td><td class='ptd'>1.0</td></tr><tr class='ptr'><td class='ptd'>5</td><td class='ptd'>hum</td><td class='ptd'>0.0</td><td class='ptd'>0.627229</td><td class='ptd'>0.19293</td><td class='ptd'>0.0</td><td class='ptd'>0.48</td><td class='ptd'>0.63</td><td class='ptd'>0.78</td><td class='ptd'>1.0</td></tr><tr class='ptr'><td class='ptd'>6</td><td class='ptd'>windspeed</td><td class='ptd'>0.0</td><td class='ptd'>0.190098</td><td class='ptd'>0.12234</td><td class='ptd'>0.0</td><td class='ptd'>0.1045</td><td class='ptd'>0.194</td><td class='ptd'>0.2537</td><td class='ptd'>0.8507</td></tr><tr class='ptr'><td class='ptd'>7</td><td class='ptd'>cnt</td><td class='ptd'>0.0</td><td class='ptd'>189.463088</td><td class='ptd'>181.387599</td><td class='ptd'>1.0</td><td class='ptd'>40.0</td><td class='ptd'>142.0</td><td class='ptd'>281.0</td><td class='ptd'>977.0</td></tr>\n            </tbody>\n        </table>\n        "
      }
     },
     "810f235d11cf47128fc388c31c6337f7": {
      "model_module": "@jupyter-widgets/base",
      "model_module_version": "1.2.0",
      "model_name": "LayoutModel",
      "state": {}
     },
     "8167c8a0e82f4605ab734fc1f85a5f53": {
      "model_module": "@jupyter-widgets/controls",
      "model_module_version": "1.5.0",
      "model_name": "DescriptionStyleModel",
      "state": {
       "description_width": ""
      }
     },
     "83213796cc5a4739b277a46ff786f91a": {
      "model_module": "@jupyter-widgets/base",
      "model_module_version": "1.2.0",
      "model_name": "LayoutModel",
      "state": {
       "overflow": "hidden",
       "width": "auto"
      }
     },
     "834c4cac09744cf5a42cf508e9d59ba2": {
      "model_module": "@jupyter-widgets/base",
      "model_module_version": "1.2.0",
      "model_name": "LayoutModel",
      "state": {
       "width": "120px"
      }
     },
     "834faffc23c44da8be0458d70ac2d2b0": {
      "model_module": "@jupyter-widgets/base",
      "model_module_version": "1.2.0",
      "model_name": "LayoutModel",
      "state": {}
     },
     "83e16b0d8fbd414e9763f7b532bd6f3e": {
      "model_module": "@jupyter-widgets/base",
      "model_module_version": "1.2.0",
      "model_name": "LayoutModel",
      "state": {}
     },
     "8445409811c0472b80506c48d2243018": {
      "model_module": "@jupyter-widgets/base",
      "model_module_version": "1.2.0",
      "model_name": "LayoutModel",
      "state": {
       "width": "20%"
      }
     },
     "847b78037d4e4ff8ac1e24d6ad34d456": {
      "model_module": "@jupyter-widgets/controls",
      "model_module_version": "1.5.0",
      "model_name": "HTMLModel",
      "state": {
       "layout": "IPY_MODEL_2815d0eb8570418db061858e7735e8ab",
       "style": "IPY_MODEL_eb4eaa6635c5432c92c5b22348548429",
       "value": "\n        <table class='ptable striped'>\n            <thead class='pthead'>\n                <tr class='ptr'>\n                    <th class='pth'></th><th class='pth'>name</th><th class='pth'>n_missing</th><th class='pth'>mean</th><th class='pth'>std</th><th class='pth'>min</th><th class='pth'>q1</th><th class='pth'>median</th><th class='pth'>q3</th><th class='pth'>max</th>\n                </tr>\n            </thead>\n\n            <tbody class='ptbody'>\n                <tr class='ptr'><td class='ptd'>0</td><td class='ptd'>mnth</td><td class='ptd'>0.0</td><td class='ptd'>6.5378</td><td class='ptd'>3.4388</td><td class='ptd'>1.0</td><td class='ptd'>4.0</td><td class='ptd'>7.0</td><td class='ptd'>10.0</td><td class='ptd'>12.0</td></tr><tr class='ptr'><td class='ptd'>1</td><td class='ptd'>hr</td><td class='ptd'>0.0</td><td class='ptd'>11.5468</td><td class='ptd'>6.9144</td><td class='ptd'>0.0</td><td class='ptd'>6.0</td><td class='ptd'>12.0</td><td class='ptd'>18.0</td><td class='ptd'>23.0</td></tr><tr class='ptr'><td class='ptd'>2</td><td class='ptd'>weekday</td><td class='ptd'>0.0</td><td class='ptd'>3.0037</td><td class='ptd'>2.0058</td><td class='ptd'>0.0</td><td class='ptd'>1.0</td><td class='ptd'>3.0</td><td class='ptd'>5.0</td><td class='ptd'>6.0</td></tr><tr class='ptr'><td class='ptd'>3</td><td class='ptd'>temp</td><td class='ptd'>0.0</td><td class='ptd'>0.497</td><td class='ptd'>0.1926</td><td class='ptd'>0.02</td><td class='ptd'>0.34</td><td class='ptd'>0.5</td><td class='ptd'>0.66</td><td class='ptd'>1.0</td></tr><tr class='ptr'><td class='ptd'>4</td><td class='ptd'>atemp</td><td class='ptd'>0.0</td><td class='ptd'>0.4758</td><td class='ptd'>0.1719</td><td class='ptd'>0.0</td><td class='ptd'>0.3333</td><td class='ptd'>0.4848</td><td class='ptd'>0.6212</td><td class='ptd'>1.0</td></tr><tr class='ptr'><td class='ptd'>5</td><td class='ptd'>hum</td><td class='ptd'>0.0</td><td class='ptd'>0.6272</td><td class='ptd'>0.1929</td><td class='ptd'>0.0</td><td class='ptd'>0.48</td><td class='ptd'>0.63</td><td class='ptd'>0.78</td><td class='ptd'>1.0</td></tr><tr class='ptr'><td class='ptd'>6</td><td class='ptd'>windspeed</td><td class='ptd'>0.0</td><td class='ptd'>0.1901</td><td class='ptd'>0.1223</td><td class='ptd'>0.0</td><td class='ptd'>0.1045</td><td class='ptd'>0.194</td><td class='ptd'>0.2537</td><td class='ptd'>0.8507</td></tr><tr class='ptr'><td class='ptd'>7</td><td class='ptd'>cnt</td><td class='ptd'>0.0</td><td class='ptd'>189.4631</td><td class='ptd'>181.3876</td><td class='ptd'>1.0</td><td class='ptd'>40.0</td><td class='ptd'>142.0</td><td class='ptd'>281.0</td><td class='ptd'>977.0</td></tr>\n            </tbody>\n        </table>\n        "
      }
     },
     "8480132852ef4546b279126249538f4e": {
      "model_module": "@jupyter-widgets/controls",
      "model_module_version": "1.5.0",
      "model_name": "ButtonStyleModel",
      "state": {}
     },
     "84c0f9da6fa849a7a66b006e34b3a428": {
      "model_module": "@jupyter-widgets/base",
      "model_module_version": "1.2.0",
      "model_name": "LayoutModel",
      "state": {
       "height": "1px",
       "overflow": "hidden",
       "visibility": "hidden"
      }
     },
     "850d0e2e0d1246e184f7552c64edeb35": {
      "model_module": "@jupyter-widgets/controls",
      "model_module_version": "1.5.0",
      "model_name": "DropdownModel",
      "state": {
       "_options_labels": [
        "Select",
        "season",
        "yr",
        "mnth",
        "hr",
        "holiday",
        "weekday",
        "workingday",
        "weathersit",
        "temp",
        "atemp",
        "hum",
        "windspeed",
        "cnt"
       ],
       "index": 0,
       "layout": "IPY_MODEL_4ef763fc57ec4420b5425e4a98ae13f2",
       "style": "IPY_MODEL_8954c7d79d0e495290319d6b77c359da"
      }
     },
     "857eae506de3454f81fb8b8a62435d94": {
      "model_module": "@jupyter-widgets/controls",
      "model_module_version": "1.5.0",
      "model_name": "HBoxModel",
      "state": {
       "_dom_classes": [
        "split-btn"
       ],
       "children": [
        "IPY_MODEL_079906c403904cd0b47f23bf55a34ec6"
       ],
       "layout": "IPY_MODEL_01a0c73328db46a992c6b77bc9667824"
      }
     },
     "85dbad7331ba412b900edd1f3f0b1ea9": {
      "model_module": "@jupyter-widgets/base",
      "model_module_version": "1.2.0",
      "model_name": "LayoutModel",
      "state": {
       "height": "1px",
       "overflow": "hidden",
       "visibility": "hidden"
      }
     },
     "86163462e0a344e189b6eac4415ac77b": {
      "model_module": "@jupyter-widgets/base",
      "model_module_version": "1.2.0",
      "model_name": "LayoutModel",
      "state": {}
     },
     "86d2902cedf64fffa77c70956a9d10ea": {
      "model_module": "@jupyter-widgets/controls",
      "model_module_version": "1.5.0",
      "model_name": "DropdownModel",
      "state": {
       "_options_labels": [
        "None",
        "season",
        "yr",
        "mnth",
        "hr",
        "holiday",
        "weekday",
        "workingday",
        "weathersit",
        "temp",
        "atemp",
        "hum",
        "windspeed",
        "cnt"
       ],
       "index": 0,
       "layout": "IPY_MODEL_28e3ddc709f9499e8d2ee743736c6d78",
       "style": "IPY_MODEL_5e605bc07e454f848e00c6cec1de967b"
      }
     },
     "86e1bc09c0dd449990a7f145cb689d88": {
      "model_module": "@jupyter-widgets/controls",
      "model_module_version": "1.5.0",
      "model_name": "DescriptionStyleModel",
      "state": {
       "description_width": ""
      }
     },
     "8754d48a901c4e289d510cd675770ef2": {
      "model_module": "@jupyter-widgets/base",
      "model_module_version": "1.2.0",
      "model_name": "LayoutModel",
      "state": {}
     },
     "879c7e922b034cb8aa3b72c0cba67de1": {
      "model_module": "@jupyter-widgets/base",
      "model_module_version": "1.2.0",
      "model_name": "LayoutModel",
      "state": {}
     },
     "87a3381372bd483380c0220e5fe97d19": {
      "model_module": "@jupyter-widgets/controls",
      "model_module_version": "1.5.0",
      "model_name": "HTMLModel",
      "state": {
       "layout": "IPY_MODEL_63832bb7d92e4e8c980d81e22986c850",
       "style": "IPY_MODEL_4ed513877cff47b98eea94f725701bdf",
       "value": "<p>Sample Weight:</p>"
      }
     },
     "87a7c048edbe4bd1a2e6cbbb33391459": {
      "model_module": "@jupyter-widgets/base",
      "model_module_version": "1.2.0",
      "model_name": "LayoutModel",
      "state": {}
     },
     "88b4df68be9d4cd5b4e93b142cf6977e": {
      "model_module": "@jupyter-widgets/output",
      "model_module_version": "1.0.0",
      "model_name": "OutputModel",
      "state": {
       "layout": "IPY_MODEL_ffc356a7445a4018bfc169b750677a21",
       "outputs": [
        {
         "data": {
          "application/vnd.jupyter.widget-view+json": {
           "model_id": "4434489df38e4405b3fb5fd274891eca",
           "version_major": 2,
           "version_minor": 0
          },
          "text/plain": "HTML(value='<p class=\"notification info\">Excluded attribute \"workingday\"</p>')"
         },
         "metadata": {},
         "output_type": "display_data"
        }
       ]
      }
     },
     "88e3a0dfcb454418b018e85035603cfc": {
      "model_module": "@jupyter-widgets/controls",
      "model_module_version": "1.5.0",
      "model_name": "HTMLModel",
      "state": {
       "layout": "IPY_MODEL_aa3a107bd021481c9e732d89c27d376c",
       "style": "IPY_MODEL_bc45b2e0a5ed4c83901440288d7ea5db",
       "value": "\n        <style>\n\n        .left-label {\n            width: 30%;\n        }\n\n        .card-panel {\n            -webkit-transition: -webkit-box-shadow .25s;\n            transition: -webkit-box-shadow .25s;\n            transition: box-shadow .25s;\n            transition: box-shadow .25s, -webkit-box-shadow .25s;\n            padding: 24px;\n            margin: 0.5rem 0 1rem 0;\n            border-radius: 2px;\n            background-color: #fff;\n        }\n\n        .card {\n            position: relative;\n            margin: 0.5rem 0.1rem 1rem 0.2rem;\n            background-color: #fff;\n            -webkit-transition: -webkit-box-shadow .25s;\n            transition: -webkit-box-shadow .25s;\n            transition: box-shadow .25s;\n            transition: box-shadow .25s, -webkit-box-shadow .25s;\n            border-radius: 2px;\n            box-shadow: 0 2px 2px 0 rgb(0 0 0 / 14%), 0 3px 1px -2px rgb(0 0 0 / 12%), 0 1px 5px 0 rgb(0 0 0 / 20%);\n            padding: 24px;\n            color: white;\n        }\n\n        .card .card-title {\n            font-size: 24px;\n            font-weight: 300;\n        }\n\n        @media only screen and (min-width: 800px) {\n            /* For notebook: */\n            .card {width: 99% !important;}\n        }\n\n        @media only screen and (min-width: 1400px) {\n            /* For colab: */\n            .card {width: 99% !important;}\n        }\n\n        .blue-grey.darken-1 {\n            background-color: #546e7a !important;\n        }\n\n        .small-card {\n            position: relative;\n            margin: 0.5rem 0 1rem 0;\n            background-color: #fff;\n            -webkit-transition: -webkit-box-shadow .25s;\n            transition: -webkit-box-shadow .25s;\n            transition: box-shadow .25s;\n            transition: box-shadow .25s, -webkit-box-shadow .25s;\n            border-radius: 2px;\n            box-shadow: 0 2px 2px 0 rgb(0 0 0 / 14%), 0 3px 1px -2px rgb(0 0 0 / 12%), 0 1px 5px 0 rgb(0 0 0 / 20%);\n            padding: 0px 5px 0px 5px;\n            color: white;\n        }\n\n        .inner-card {\n            position: relative;\n            background-color: #fff;\n            -webkit-transition: -webkit-box-shadow .25s;\n            transition: -webkit-box-shadow .25s;\n            transition: box-shadow .25s;\n            transition: box-shadow .25s, -webkit-box-shadow .25s;\n            border-radius: 2px;\n            box-shadow: 0 2px 2px 0 rgb(0 0 0 / 14%), 0 3px 1px -2px rgb(0 0 0 / 12%), 0 1px 5px 0 rgb(0 0 0 / 20%);\n            padding: 20px;\n            color: white;\n            margin: 0px 1px 1px 1px;\n        }\n\n        .card-with-tab {\n            position: relative;\n            margin: 0.5rem 0.1rem 1rem 0.2rem;\n            background-color: #fff;\n            -webkit-transition: -webkit-box-shadow .25s;\n            transition: -webkit-box-shadow .25s;\n            transition: box-shadow .25s;\n            transition: box-shadow .25s, -webkit-box-shadow .25s;\n            border-radius: 2px;\n            box-shadow: 0 2px 2px 0 rgb(0 0 0 / 14%), 0 3px 1px -2px rgb(0 0 0 / 12%), 0 1px 5px 0 rgb(0 0 0 / 20%);\n            padding: 24px;\n            color: white;\n        }\n\n        .card-with-tab button {\n            width: auto;\n            padding: 12px 40px;\n        }\n\n        .list {\n            padding: 0px 10px;\n            box-shadow: 0 2px 2px 0 rgb(0 0 0 / 14%), 0 3px 1px -2px rgb(0 0 0 / 12%), 0 1px 5px 0 rgb(0 0 0 / 20%);\n            margin: 0px 1px 60px 1px;\n        }\n\n        .list-item {\n            padding: 10px 0px;\n            border-width: 0;\n            border-style: solid;\n            border-color: rgba(0, 0, 0, 0.08);\n            border-bottom-width: thin;\n        }\n\n        .divider {\n            margin: 10px 0px;\n            border-width: 0;\n            border-style: solid;\n            border-color: rgba(0, 0, 0, 0.08);\n            border-bottom-width: thin;\n        }\n\n        .hr {\n            margin: 0;\n            -webkit-flex-shrink: 0;\n            -ms-flex-negative: 0;\n            flex-shrink: 0;\n            border-width: 0;\n            border-style: solid;\n            border-color: rgba(0, 0, 0, 0.08);\n            border-bottom-width: thin;\n        }\n\n        .notification {\n            transition: box-shadow 300ms cubic-bezier(0.4, 0, 0.2, 1) 0ms;\n            border-radius: 4px;\n            box-shadow: 0 2px 2px 0 rgb(0 0 0 / 14%), 0 3px 1px -2px rgb(0 0 0 / 12%), 0 1px 5px 0 rgb(0 0 0 / 20%);\n            font-family: Roboto, Helvetica, Arial, sans-serif;\n            font-weight: 500;\n            font-size: 12px;\n            line-height: 1.43;\n            letter-spacing: 0.01071em;\n            background-color: rgb(2, 136, 209);\n            display: flex;\n            padding: 6px 16px;\n            color: rgb(255, 255, 255);\n            margin-top: 10px;\n        }\n\n        .success {\n            background-color: #EDF7ED;\n            color: #1E4620;\n        }\n\n        .error {\n            background-color: #FDEDED;\n            color: #5F2120;\n        }\n\n        .info {\n            background-color: #E5F6FD;\n            color: #528298;\n        }\n\n        .warn {\n            background-color: #FFF4E5;\n            color: #663C00;\n        }\n\n        .margin-top-20 {\n            margin-top: 20px;\n        }\n\n        .hide {\n            display: none;\n        }\n\n        .pbtn {\n            display: inline-flex;\n            -webkit-box-align: center;\n            align-items: center;\n            -webkit-box-pack: center;\n            justify-content: center;\n            position: relative;\n            box-sizing: border-box;\n            -webkit-tap-highlight-color: transparent;\n            outline: 0px;\n            border: 0px;\n            margin: 0px;\n            cursor: pointer;\n            user-select: none;\n            vertical-align: middle;\n            appearance: none;\n            text-decoration: none;\n            font-family: Roboto, Helvetica, Arial, sans-serif;\n            font-weight: 550;\n            font-size: 12px;\n            line-height: 1.75;\n            letter-spacing: 0.02857em;\n            text-transform: uppercase;\n            min-width: 64px;\n            padding: 6px 16px;\n            border-radius: 4px;\n            transition: background-color 250ms cubic-bezier(0.4, 0, 0.2, 1) 0ms, box-shadow 250ms cubic-bezier(0.4, 0, 0.2, 1) 0ms, border-color 250ms cubic-bezier(0.4, 0, 0.2, 1) 0ms, color 250ms cubic-bezier(0.4, 0, 0.2, 1) 0ms;\n            color: rgb(255, 255, 255);\n            background-color: #D71E28;\n            box-shadow: rgb(0 0 0 / 20%) 0px 3px 1px -2px, rgb(0 0 0 / 14%) 0px 2px 2px 0px, rgb(0 0 0 / 12%) 0px 1px 5px 0px;\n        }\n\n        .jp-OutputArea-output {\n            flex-grow: 1;\n            flex-shrink: 1;\n            margin: 0px;\n        }\n\n        .output_subarea {\n            padding: 0px !important;\n        }\n\n        .ptable, .pth, .ptd {\n            border: none;\n        }\n\n        .pth, .ptd {\n            max-width: 150px;\n            white-space: nowrap;\n            overflow: hidden;\n            -o-text-overflow: ellipsis;\n            -ms-text-overflow: ellipsis;\n            text-overflow: ellipsis;\n        }\n\n        .ptable {\n            display: table;\n            border-collapse: collapse;\n            border-spacing: 0;\n        }\n\n        .ptable.striped .ptr {\n            border-bottom: none;\n        }\n\n        .ptable.striped > .ptbody > .ptr:nth-child(odd) {\n            background-color: rgba(242, 242, 242, 0.5);\n        }\n\n        .ptable.striped > .ptbody > .ptr > .ptd {\n            border-radius: 0;\n        }\n\n        .ptable.highlight > .ptbody > .ptr {\n            -webkit-transition: background-color .25s ease;\n            transition: background-color .25s ease;\n        }\n\n        .ptable.highlight > .ptbody > .ptr:hover {\n            background-color: rgba(242, 242, 242, 0.5);\n        }\n\n        .ptable.centered .pthead .ptr .pth, .ptable.centered .ptbody .ptr .ptd {\n            text-align: center;\n        }\n\n        .ptr {\n            border-bottom: 1px solid rgba(0, 0, 0, 0.12);\n        }\n\n        .ptr.hightlight {\n            background-color: yellow !important;\n        }\n\n        .ptd, .pth {\n            padding: 0.2rem 0.6rem;\n            display: table-cell;\n            text-align: right;\n            vertical-align: middle;\n            border-radius: 2px;\n            position: relative;\n        }\n\n        .ptr.grey {\n            background-color: grey !important;\n        }\n\n        .ptr.strikeout .ptd:before {\n            content: \" \";\n            position: absolute;\n            top: 50%;\n            left: 0;\n            border-bottom: 1px solid #111;\n            width: 100%;\n        }\n\n        .widget-toggle-button {\n            display: inline-flex;\n            -webkit-box-align: center;\n            align-items: center;\n            -webkit-box-pack: center;\n            justify-content: center;\n            box-sizing: border-box;\n            -webkit-tap-highlight-color: transparent;\n            background-color: transparent !important;\n            outline: 0px;\n            border: 0px;\n            border-bottom: 2px solid #E4E4E4 !important;\n            box-shadow: none !important;\n            margin: 0px !important;\n            border-radius: 0px;\n            cursor: pointer;\n            user-select: none;\n            vertical-align: middle;\n            appearance: none;\n            text-decoration: none;\n            font-family: Roboto, Helvetica, Arial, sans-serif;\n            font-weight: 500;\n            font-size: 14px;\n            line-height: 1.25;\n            letter-spacing: 0.02857em;\n            max-width: 360px;\n            min-width: 90px;\n            position: relative;\n            min-height: 48px;\n            flex-shrink: 0;\n            padding: 12px 16px;\n            overflow: hidden;\n            white-space: normal;\n            text-align: center;\n            flex-direction: column;\n            color: rgba(0, 0, 0, 0.6);\n        }\n\n        .narrow-accordion .jupyter-widget-Accordion-child .jupyter-widget-Collapse-header{\n            padding: 5px;\n        }  \n\n        .mod-active {\n            color: rgb(25, 118, 210) !important;\n            border-bottom: 2px solid rgb(25, 118, 210) !important;\n        }\n\n        .narrow-tab button {\n            max-width: 15%;\n        }\n\n        .narrow-tab-fairness button {\n            max-width: 20%;\n        }\n        .narrow-tab-fs button {\n            max-width: 25%;\n        }\n\n        .overflow-fix .jupyter-widgets {\n            overflow: auto;\n        }\n\n        .inner-padding {\n            padding-top: 20px;\n        }\n\n        .fix-img img {\n            width: 100%;\n        }\n\n        .fix-img-half img {\n            width: 50%;\n        }\n\n        .flex-reverse-for-update-button {\n            flex-direction: row-reverse;\n            margin-right: 50px;\n        }\n\n        .data-summary-tab {\n            max-height: 400px;\n        }\n\n        .restricted_table_height {\n            max-height: 450px\n        }\n\n        .input-width-with-parent .widget-dropdown {\n            width: 100%;\n        }\n\n        .input-width-with-parent .widget-text {\n            width: 100%;\n        }\n\n        .no-margin {\n            margin: 0px;\n        }\n\n        .widget-hprogress label {\n            text-align: left;\n        }\n\n        .widget-dropdown label {\n            margin-right: 10px;\n        }\n\n        .form .widget-dropdown {\n            width: auto;\n        }\n\n        .form .widget-text {\n            width: auto;\n        }\n\n        .form p {\n            margin: 0px;\n        }\n\n        .widget-dropdown {\n            white-space: nowrap;\n            overflow: hidden;\n            -o-text-overflow: ellipsis;\n            -ms-text-overflow: ellipsis;\n            text-overflow: ellipsis;\n        }\n\n        .progress-train label {\n            margin-right: 10px;\n        }\n\n        select {\n            height: 97% !important;\n        }\n\n        .no-overflow {\n            overflow: none;\n        }\n\n        .split-btn button {\n            margin-bottom: 2px;\n        }\n\n        .register-btn {\n            width: 50%\n        }\n\n        .register-btn-colab {\n            width: 40%\n        }\n\n        .fix-config-from-overflow .jp-OutputArea-child {\n            display: inherit;\n        }\n        \n        .checkbox-center input[type=\"checkbox\"] {\n            vertical-align: middle;\n        }\n\n        input[type=\"checkbox\"] {\n            vertical-align: middle;\n        }\n\n        </style>\n        "
      }
     },
     "8954c7d79d0e495290319d6b77c359da": {
      "model_module": "@jupyter-widgets/controls",
      "model_module_version": "1.5.0",
      "model_name": "DescriptionStyleModel",
      "state": {
       "description_width": "initial"
      }
     },
     "89d9e52532de4231b66a68290dfac625": {
      "model_module": "@jupyter-widgets/controls",
      "model_module_version": "1.5.0",
      "model_name": "DescriptionStyleModel",
      "state": {
       "description_width": ""
      }
     },
     "8a6dc5ff667c45f29983b4757814f9f1": {
      "model_module": "@jupyter-widgets/controls",
      "model_module_version": "1.5.0",
      "model_name": "HTMLModel",
      "state": {
       "layout": "IPY_MODEL_e63dcb29bbbd427eb530b1f180386cc4",
       "style": "IPY_MODEL_62aff885f99546a3aa44c65a5793563c",
       "value": "\n        <table class='ptable striped'>\n            <thead class='pthead'>\n                <tr class='ptr'>\n                    <th class='pth'></th><th class='pth'>name</th><th class='pth'>n_missing</th><th class='pth'>n_unique</th><th class='pth'>top1</th><th class='pth'>top2</th><th class='pth'>top3</th><th class='pth'>n_others</th>\n                </tr>\n            </thead>\n\n            <tbody class='ptbody'>\n                <tr class='ptr grey'><td class='ptd'>0</td><td class='ptd'>season</td><td class='ptd'>0</td><td class='ptd'>4</td><td class='ptd'>3.0 : 4496</td><td class='ptd'>2.0 : 4409</td><td class='ptd'>1.0 : 4242</td><td class='ptd'>4232</td></tr><tr class='ptr'><td class='ptd'>1</td><td class='ptd'>yr</td><td class='ptd'>0</td><td class='ptd'>2</td><td class='ptd'>1.0 : 8734</td><td class='ptd'>0.0 : 8645</td><td class='ptd'>0</td><td class='ptd'>0</td></tr><tr class='ptr'><td class='ptd'>2</td><td class='ptd'>holiday</td><td class='ptd'>0</td><td class='ptd'>2</td><td class='ptd'>0.0 : 16879</td><td class='ptd'>1.0 : 500</td><td class='ptd'>0</td><td class='ptd'>0</td></tr><tr class='ptr'><td class='ptd'>3</td><td class='ptd'>workingday</td><td class='ptd'>0</td><td class='ptd'>2</td><td class='ptd'>1.0 : 11865</td><td class='ptd'>0.0 : 5514</td><td class='ptd'>0</td><td class='ptd'>0</td></tr><tr class='ptr'><td class='ptd'>4</td><td class='ptd'>weathersit</td><td class='ptd'>0</td><td class='ptd'>4</td><td class='ptd'>1.0 : 11413</td><td class='ptd'>2.0 : 4544</td><td class='ptd'>3.0 : 1419</td><td class='ptd'>3</td></tr>\n            </tbody>\n        </table>\n        "
      }
     },
     "8b958345b2de42f48cb7a33a63093dcf": {
      "model_module": "@jupyter-widgets/base",
      "model_module_version": "1.2.0",
      "model_name": "LayoutModel",
      "state": {}
     },
     "8bdd79a8f6f943ccbbdcb1a1f5f2d4d4": {
      "model_module": "@jupyter-widgets/controls",
      "model_module_version": "1.5.0",
      "model_name": "HTMLModel",
      "state": {
       "layout": "IPY_MODEL_4ed7cdb22da54e84b77a1f9c2dbc3138",
       "style": "IPY_MODEL_f0537163dd214610965d3538901757d4",
       "value": "Update Attribute:"
      }
     },
     "8c1fd874d45c45f4b7cbf7374c72a31b": {
      "model_module": "@jupyter-widgets/output",
      "model_module_version": "1.0.0",
      "model_name": "OutputModel",
      "state": {
       "layout": "IPY_MODEL_86163462e0a344e189b6eac4415ac77b",
       "outputs": [
        {
         "data": {
          "image/png": "iVBORw0KGgoAAAANSUhEUgAAAkAAAAGwCAYAAABB4NqyAAAABHNCSVQICAgIfAhkiAAAAAlwSFlzAAALEgAACxIB0t1+/AAAADh0RVh0U29mdHdhcmUAbWF0cGxvdGxpYiB2ZXJzaW9uMy4xLjIsIGh0dHA6Ly9tYXRwbG90bGliLm9yZy8li6FKAAAgAElEQVR4nO3debyt9dz/8ddbSYYSKlJx+uUoGe4kKXPGJkVCA1FuiTJP3bjpvk1RpkgJISJlTAOR23xHyRjilFJKTtwyRJPP74/vtbPOss8++5yzz1577ev1fDz2Y691reta63ut4Vrv9Z2uVBWSJEl9crNRF0CSJGm2GYAkSVLvGIAkSVLvGIAkSVLvGIAkSVLvGIAkSVLvGIAkSVLvGIAkSVLvGIAkSVLvGIAkSVLvGIA0UkkOTVJJfrmU2xd1tx86gnJdtYru+xndPt1mKbd/tbt9qr9DZ6AcJyb55gzczyenUd53r+zjDDzeoUm2mcZ6Ww+V4S9JfpHkg0m2nmT9nyQ5ZjnK8YwkT16O9d+d5OcD1/foynWn6d7HFPe9oHte1h9aPmOPMc1y7DH0nP+pe16PSrLZJOv/Jckhy3H/L0zymJkttfpq9VEXQAL+DmySZOuqOndiYZL7A3ftbp9t7wc+P4LHBXgusPbA9Q8CFwGvG1h22Qw8zquBNWbgfv4DOGLg+tuBG4GXDiz77Qw8zoTXAlcB353m+v8OnA+sCdwN2Bf4TpIXVtW7BtbbG/jzcpTjGV05Tprm+kcA71uO+18eC2jPyyeB3w0s/wqwHfD7VfS4S7Mz8AfgVsAWwLOA/ZPsU1WfHlhve+A3y3G/L6Tt45kzVVD1lwFIc8FfgfOAPYFzB5bvSTuA328mHiTJmlU1rTBVVZcxMyFjuVXVTwevJ/krsLiqzl7WtkluWVV/m+bjLFrBIg7fzy+Bm2rwklwN3DCd8s6S8wfK8lXg/UmOAt6e5GtV9SOAif8zLcmawLVVdfGquP+pVNUfgFG8DudV1UTo/UqS99KCy/FJvllVv+vKd84IyiYBNoFp7jgReHKSAHT/n9wtX0KS7ZKckuTyJH9N8oMk+wytM9HMtE3XpPQ34GXdbXdJckaSvyX5VbfuJ5N8dWD7JZrAkjy8u7+HJzm5q7q/KMlzl7dsMyXJ5l2ZnpzkY13wOLm77ZlJvp3k/5L8PsmXk2w5tP0STWBJDuzu7x5JvpLkmiQ/TbLLDJb55klen+SSJNd2zSO7D63z2CTf6Z7jPyY5N8lju9v+0q32roFmlnutQFFeTgveBww87hJNYEkWJvl89/xdk+SCJC/tbjsVeBjwxIFyHDx4P0leluTXwDXAmsNNYAM2HXi+L0yy19Dz8S9Nc4NNW2nNef/T3fTjbvlVw+sNbLtOkvcnWdx9Br6Z5IGTPWb3nrikex0+nWTd5XyeAaiq64HnA7ek1cBNPM4STWBJ7p/kf5JcneTPSX6c5GkTZaLVCL9k4DnfpbvtoO4988duv85IssXQPp2a5AtJdk/y8+7+v5xkk6H11ujeoxd179FLkrxjaJ2nJvlRkr8nuSzJa5J27NL4MABprvg0cEfgwd31hwDrAZ+ZZN27At+iNW08DvgU8MHhL47Ox4FTgZ2AU7uD1CnAPYD9gRfTDswPmGY53wf8EHgCrTbhqCzZH2V5yjZT3kFr9ngi/2yKuitwXLfsabSmmm8m2Xga93ci7df644FLgZOT3HGGyvpRWhPfW4FdgK919/9AgCQbAp8FzgF2o9UCfgq4Xbf99t3/t9KadrYDLlzeQlTVX4FvA9tOsdqnaF/YT+/K+jbg1t1tLwG+TwseE+U4eWDb3YBdae+tJwA3TPE4JwBnAbvTams+mmS75didnwEHdZf36cry2CnW/0RXplcCTwL+BpyV5N5D6+1Ie/8cRGt6egTtOVghVXUJ8AuW8pwnuQVwOnAl7cfPE2hN0bftVtmb1pT6Mf75nE8E+I2B99Kew/1ozebfSrLe0MPcGziEtu/7AZsDHx5a5yTaceEDtKa8V/LP9x9JngN8CPgi7TP+tu4+XzGNp0FzSVX559/I/oBDgau6y58Djuouvwf4bHf5KuDQpWwfWlPue4GvDCx/BlDAC4bW37lbvs3Asg2B64GvTlau7vrDu+3+e2DZzYHFwGErWLbbTPM5Ohf40CTLN+/u5+PL2H61rqy/Al4+sPxE4JsD1w/s7m/vgWUbdMuesRyv6ReAUydZ/oDuvnYeWn46cEZ3eQfal1emuP8CDp5GObbu1t12Kbe/D7h04PpPgGO6y7fstt1uivv/KvDJSZb/hNb/Za2h5e8Gfj5wfY/uMd44tN55g8/fYLkm2fZOQ+/Pey1jvQcPvwa0fmCXAScMPeblwJoDy14P/GUZz/kSjzfJ7V8CvjFw/S/AIUPv5w2muP+LgSOm8X5fgxaknjuw/FRabdwdB5b9e/eY63bXHzT8GRi67zW71/bwoeUv75avOVXZ/Jtbf9YAaS45Edij+yW4B5M0fwEkuV2SI5NcQgsu19OaMu4+yeqnDV2/P/DbqrqpA21V/Qb43jTLeFPny2rV+r8ENlrBss2U4X0kyb3TmuJ+R6t9uI7WUXY65RjcxyuA/6PbxzSrD/wtzzHkUcCfgDMH74NW+zExKuuntOD48SQ7JVlrOe5/eS21yaJaP6oLgCOT7JNkg+W8769X1XQ7VA/Xcn4GWOYotxW0Da3p7/SJBVV1XfeYDx5a9+u1ZJ+5nwK3TrLOSjz+VM1Ev6aFiA93zVS3n/adJlt1zV6Lae/3a4H1+df3+4+q6sqB6xP97SY+w4+gBfBJjz20/oi3o9VaDr6Hv9It33S6ZdboGYA0l5wC3AZ4A62pYWmjsD4EPAU4HHgMLdQcR/t1NuzKoet3otXaDJts2WT+OHT9uqHHXZ6yzZQl9jHJ7WghZn3gBbTmxPvTmkqmU46p9vHZ/DPYXU+rqZuudWmj264buo8jgHXTOqn/mlZLd0dajeBVaf2z7rwcjzNdG/Kv749BO9Oa144BfpPk7CRTNZkNmup+h/1ukuvrdV+sM20DWof6Glp+JTAcOCZ7H8DKvZeX+pxX1TXAo7vH+RjwuyRnZpLh84O65tkv0Y4ZB9GC3P2BSyYp67L26Q7AlVX1j6U83EQfqO+w5Ht4ojP3dJqYNUc4CkxzRlX9Na1z6YuAk6v101hC2oianWlNIIMdVpcW5ocP9L+l9S0ath4rOdx+Bco2U4b38SG0oLddDYw86oLRyvoUS47UG/7ynsofaLVJS5vH5TqAqvoy8OW0eZJ2pPVxOpbWD2dGJLk1rbljuP/HTarqQmDPLog8EHgjrR/ZhlV17TIeYvg1mcr6tC/rweuLq2qi39Df+dfpCqZdOzLkClq4ylAIuiPt9VllktwV2IzWr2dSVXUesEv3WdqeFo4/BUzV0f2RtOdj96oaHLiwIs/R74E7JrnZUkLQxHP0ZFqT8rBJ5zPT3GQNkOaao2k1P0ubkO4WtDb+m76AumaSXad5/+cAdxrsuNx1vJ2JofYrW7aZcsvu/2A5HkELRSulqhZX1bkDf79ejs3PojUT3Dh0HxN/S3zhVNVfqupkWnPE4Iie61n5GrW30OaoOXZZK1bVDVX1deDNtBqCiQ7hw7V/K+oJk1wfnOPoMlqn/UGPHro+3dqZ79BqSnacWJBkDVqH95WeFHNpuhB5JK0PzkeWtX5V/b2qzqAdBzZLslp302TP+UR/rYnngCS7AivSfHpWd/9Lm+Dye8DVwEZLeQ9fvQKPqRGxBkhzSlV9lda5dGm3X53kHOA1Sf4E/IM2AuNqlpw8cGlOp43iOinJf9BGwLyWVi2/tGrv6ZZ9Zcs2U75F268PJHk7re/Pa5jZyQiXW1V9O8nJwOlJ3gz8iNbkeR/gDlX1om7I8w60fk2/ATYBnsqSzaE/B3ZP8h3afv6kpp7f6Z7dCOVb8M+JEB8MvLCqfjzZBkk2pdVUfIzWDLYWbTTQItrIuIly7J1kJ1pN2CVVNd2m1EF7pw3v/15Xti2B5w3c/hngQ0n+C/gGrSZsuI/QL2nvt3/vwsbfquqHww9UVd9Kciatn80htPfE82lNO29agbIvzVZJ/kALJxMTIW4G7FPdHEDDkmxPq/39FK1G7I605+FrVXVjt9rPgcckeSTtc/VL2kjCG7p9OgpYSHutlnsm9+49+mnaZ2cTWhBdD3hsVe1XVdckeSXwtrSpBb5CC18LaR3Ld1rex9ToWAOkcbQ3rfr5eOCdtAPm8dPZsKv23412IP1gt/3RtM6Qfxpl2WZKtUkcn0ILD6fQ+kXsz5LNLKOyN2001HNpo8XeR5tP5xvd7efTQtHhtH5M/0ULIS8YuI/n0X6ln0mr0bvbMh7z/cD/AmfQAulFwANqyVmgh/2B9ny9ghbGjqUFnx0Gmo4O7x7/493/pyyjHEvzVFqz4GdpTW37VtW3Bm7/KC2cHEB7P61Jm8X7Jl3wOpg2/P2btJqMpXkK7X3xlu7+bgM8qqp+soLln8xptOf887TX+lvAlrXkLNDDLqYF2v+mvTfeRtuXvQfWeRXtx8rEVAkPqTah5z7APbvHe2Z3fXn6YQ3ai9bseiDtB9ObaU23AFTVe2iv2cO7cpxEG1K/ymrQtGrkX/vCSf2S5La0L8V3V9VrR10eSdKqZxOYeifJgbTmgl/SqrdfTGseOW6U5ZIkzR4DkProWlrTxl1o7fffpTUBzIUmIknSLLAJTJIk9Y6doCVJUu8YgCRJUu/0vg/QuuuuWwsWLBh1MSRJ0kr63ve+d1VVTTbb/7/ofQBasGAB55577rJXlCRJc1p3IuppsQlMkiT1jgFIkiT1jgFIkiT1jgFIkiT1jgFIkiT1jgFIkiT1jgFIkiT1zkgCUJIdklyQZFGSQya5PUmO7G7/UZKtlrVtkkOT/CbJD7q/nWZrfyRJ0niZ9QCUZDXgKGBHYAtgryRbDK22I7Cw+zsAOHqa2769qrbs/k5ftXsiSZLG1ShqgLYBFlXVRVV1HXAisNvQOrsBx1dzNrBOkg2mua0kSdKURhGANgQuHbh+WbdsOussa9uDuyaz45LcbuaKLEmS5pNRBKBMsqymuc5U2x4NbApsCVwBvHWpBUgOSHJuknMXL1687BJLkqR5ZRQB6DJg44HrGwGXT3OdpW5bVVdW1Y1V9Q/gfbTmsklV1bFVtXVVbb3eetM6aawkSZpHRhGAzgEWJtkkyRrAnsApQ+ucAuzbjQbbFri6qq6Yatuuj9CEJwA/WdU7IkmSxtPqs/2AVXVDkoOBLwKrAcdV1flJDuxuPwY4HdgJWARcA+w31bbdXb8lyZa0JrGLgWfP3l79qwWHnDbKh5+2iw/bedRFkCRp1s16AALohqifPrTsmIHLBRw03W275U+b4WJKkqR5ypmgJUlS7xiAJElS7xiAJElS7xiAJElS7xiAJElS7xiAJElS7xiAJElS7xiAJElS7xiAJElS7xiAJElS7xiAJElS7xiAJElS7xiAJElS7xiAJElS7xiAJElS7xiAJElS7xiAJElS7xiAJElS7xiAJElS7xiAJElS7xiAJElS7xiAJElS7xiAJElS7xiAJElS7xiAJElS7xiAJElS7xiAJElS7xiAJElS7xiAJElS7xiAJElS7xiAJElS7xiAJElS7xiAJElS7xiAJElS7xiAJElS7xiAJElS7xiAJElS7xiAJElS7xiAJElS7xiAJElS7xiAJElS7xiAJElS7xiAJElS7xiAJElS7xiAJElS7xiAJElS7xiAJElS7xiAJElS7xiAJElS7xiAJElS7xiAJElS7xiAJElS7xiAJElS7xiAJElS7xiAJElS7xiAJElS7xiAJElS74wkACXZIckFSRYlOWSS25PkyO72HyXZajm2fWmSSrLuqt4PSZI0nmY9ACVZDTgK2BHYAtgryRZDq+0ILOz+DgCOns62STYGHg38ehXvhiRJGmOjqAHaBlhUVRdV1XXAicBuQ+vsBhxfzdnAOkk2mMa2bwdeDtQq3wtJkjS2RhGANgQuHbh+WbdsOussddskuwK/qaofznSBJUnS/LL6CB4zkywbrrFZ2jqTLk9yK+BVwGOmVYDkAFrTGne5y12ms4kkSZpHRlEDdBmw8cD1jYDLp7nO0pZvCmwC/DDJxd3y85LcabICVNWxVbV1VW293nrrrcSuSJKkcTSKAHQOsDDJJknWAPYEThla5xRg32402LbA1VV1xdK2raofV9X6VbWgqhbQgtJWVfXbWdsrSZI0Nma9CayqbkhyMPBFYDXguKo6P8mB3e3HAKcDOwGLgGuA/abadrb3QZIkjbdR9AGiqk6nhZzBZccMXC7goOluO8k6C1a+lJIkab5yJmhJktQ7BiBJktQ7BiBJktQ7BiBJktQ7BiBJktQ7BiBJktQ7BiBJktQ7BiBJktQ7BiBJktQ7BiBJktQ7BiBJktQ7BiBJktQ7BiBJktQ7BiBJktQ7BiBJktQ7BiBJktQ7BiBJktQ7BiBJktQ7BiBJktQ7BiBJktQ7BiBJktQ7BiBJktQ7BiBJktQ7BiBJktQ7BiBJktQ7BiBJktQ7BiBJktQ7BiBJktQ7BiBJktQ7BiBJktQ7BiBJktQ7BiBJktQ7BiBJktQ7BiBJktQ7BiBJktQ7BiBJktQ7BiBJktQ7BiBJktQ7BiBJktQ7BiBJktQ7BiBJktQ7BiBJktQ7BiBJktQ7BiBJktQ7BiBJktQ7BiBJktQ7BiBJktQ7BiBJktQ7BiBJktQ7BiBJktQ7BiBJktQ7BiBJktQ7BiBJktQ7BiBJktQ7BiBJktQ7BiBJktQ7IwlASXZIckGSRUkOmeT2JDmyu/1HSbZa1rZJXtet+4MkZya582ztjyRJGi+zHoCSrAYcBewIbAHslWSLodV2BBZ2fwcAR09j28Or6j5VtSVwKvCaVb0vkiRpPI2iBmgbYFFVXVRV1wEnArsNrbMbcHw1ZwPrJNlgqm2r6k8D298aqFW9I5IkaTytPoLH3BC4dOD6ZcADprHOhsvaNskbgH2Bq4HtZ67IkiRpPhlFDVAmWTZcW7O0dabctqpeVVUbAycABy+1AMkBSc5Ncu7ixYunUWRJkjSfjCIAXQZsPHB9I+Dyaa4znW0BPgY8cWkFqKpjq2rrqtp6vfXWW46iS5Kk+WAUAegcYGGSTZKsAewJnDK0zinAvt1osG2Bq6vqiqm2TbJwYPtdgZ+v6h2RJEnjadb7AFXVDUkOBr4IrAYcV1XnJzmwu/0Y4HRgJ2ARcA2w31Tbdnd9WJLNgH8AlwAHzuJuSZKkMTKKTtBU1em0kDO47JiBywUcNN1tu+VLbfKSJEka5EzQkiSpdwxAkiSpdwxAkiSpdwxAkiSpdwxAkiSpdwxAkiSpdwxAkiSpdwxAkiSpdwxAkiSpdwxAkiSpdwxAkiSpd0ZyLjCNnwWHnDbqIkzLxYftPOoiSJLGgDVAkiSpdwxAkiSpdwxAkiSpd+wDpF4ahz5N9meSpFVnuQNQkkuBmmqdqrrLCpdIkiRpFVuRGqCnzngpJEmSZtFyB6Cq+tqqKIgkSdJsWe5O0El2SPLAgeubJvlWkquTfCHJBjNbREmSpJm1IqPAXseSfYA+AFwN7A38FThiBsolSZK0yqxIH6BNgXMAkqwPPBi4a1X9Jsl3gB/NYPkkSZJm3MrOA7Qd8Kuq+k13/ffAbVbyPiVJklapFQlA5wDPT7I28O/AGQO3/T/gqpkomCRJ0qqyIgHoRcBBwP8BdwcOG7jtacDXZ6BckiRJq8yK9AG6GDgJuBdwHq3Za8I7gOtWvliSJEmrzorUAL0b2Bn4GfBEBkZ9VdUfq+qaGSqbJEnSKrEiAWhH4LFV9fLu8i4zWyRJkqRVa0UC0K2r6gqAqroUuO3MFkmSJGnVWpE+QKsn2R7IUq5TVV+ZicJJkiStCisSgH4HHDdw/fdD14s2HF6SJGlOWpGToS5YBeWQJEmaNSs7E7QkSdLYMQBJkqTeMQBJkqTeMQBJkqTeMQBJkqTeMQBJkqTeMQBJkqTeMQBJkqTeMQBJkqTeMQBJkqTeMQBJkqTeMQBJkqTeMQBJkqTeMQBJkqTeMQBJkqTeMQBJkqTeMQBJkqTeMQBJkqTeMQBJkqTeMQBJkqTeWX3UBZC08hYcctqoi7BMFx+286iLIEk3sQZIkiT1jgFIkiT1jgFIkiT1zkgCUJIdklyQZFGSQya5PUmO7G7/UZKtlrVtksOT/Lxb/zNJ1pmt/ZEkSeNl1gNQktWAo4AdgS2AvZJsMbTajsDC7u8A4OhpbPsl4F5VdR/gF8B/rOJdkSRJY2oUNUDbAIuq6qKqug44EdhtaJ3dgOOrORtYJ8kGU21bVWdW1Q3d9mcDG83GzkiSpPEzigC0IXDpwPXLumXTWWc62wLsD5yx0iWVJEnz0igCUCZZVtNcZ5nbJnkVcANwwlILkByQ5Nwk5y5evHgZxZUkSfPNKALQZcDGA9c3Ai6f5jpTbpvk6cAuwD5VNRyqblJVx1bV1lW19XrrrbdCOyFJksbXKALQOcDCJJskWQPYEzhlaJ1TgH270WDbAldX1RVTbZtkB+AVwK5Vdc1s7YwkSRo/s34qjKq6IcnBwBeB1YDjqur8JAd2tx8DnA7sBCwCrgH2m2rb7q7fDdwC+FISgLOr6sDZ2zNJkjQuRnIusKo6nRZyBpcdM3C5gIOmu223/G4zXExJkjRPORO0JEnqHQOQJEnqHQOQJEnqHQOQJEnqHQOQJEnqnZGMApOkqSw45LRRF2GZLj5s51EXQdJKsAZIkiT1jjVAkrQKjUNtFlijpf6xBkiSJPWOAUiSJPWOAUiSJPWOAUiSJPWOAUiSJPWOAUiSJPWOAUiSJPWOAUiSJPWOAUiSJPWOAUiSJPWOAUiSJPWOAUiSJPWOAUiSJPWOAUiSJPWOAUiSJPWOAUiSJPWOAUiSJPWOAUiSJPWOAUiSJPWOAUiSJPWOAUiSJPWOAUiSJPWOAUiSJPWOAUiSJPWOAUiSJPWOAUiSJPWOAUiSJPWOAUiSJPWOAUiSJPWOAUiSJPWOAUiSJPWOAUiSJPWOAUiSJPWOAUiSJPWOAUiSJPWOAUiSJPWOAUiSJPWOAUiSJPWOAUiSJPWOAUiSJPWOAUiSJPWOAUiSJPWOAUiSJPWOAUiSJPXO6qMugCRpfCw45LRRF2FaLj5s51EXQXOcNUCSJKl3DECSJKl3DECSJKl3DECSJKl3RhKAkuyQ5IIki5IcMsntSXJkd/uPkmy1rG2TPCnJ+Un+kWTr2doXSZI0fmY9ACVZDTgK2BHYAtgryRZDq+0ILOz+DgCOnsa2PwF2B76+qvdBkiSNt1HUAG0DLKqqi6rqOuBEYLehdXYDjq/mbGCdJBtMtW1V/ayqLpi93ZAkSeNqFAFoQ+DSgeuXdcums850tpUkSZrSKAJQJllW01xnOtsuuwDJAUnOTXLu4sWLl3dzSZI05kYRgC4DNh64vhFw+TTXmc62y1RVx1bV1lW19Xrrrbe8m0uSpDE3igB0DrAwySZJ1gD2BE4ZWucUYN9uNNi2wNVVdcU0t5UkSZrSrJ8LrKpuSHIw8EVgNeC4qjo/yYHd7ccApwM7AYuAa4D9ptoWIMkTgHcB6wGnJflBVT12dvdOkiSNg5GcDLWqTqeFnMFlxwxcLuCg6W7bLf8M8JmZLakkSZqPnAlakiT1jgFIkiT1jgFIkiT1jgFIkiT1jgFIkiT1jgFIkiT1jgFIkiT1jgFIkiT1jgFIkiT1jgFIkiT1jgFIkiT1jgFIkiT1jgFIkiT1jgFIkiT1jgFIkiT1jgFIkiT1jgFIkiT1jgFIkiT1jgFIkiT1jgFIkiT1jgFIkiT1jgFIkiT1jgFIkiT1jgFIkiT1jgFIkiT1jgFIkiT1jgFIkiT1jgFIkiT1jgFIkiT1jgFIkiT1jgFIkiT1jgFIkiT1jgFIkiT1jgFIkiT1jgFIkiT1jgFIkiT1jgFIkiT1jgFIkiT1jgFIkiT1jgFIkiT1jgFIkiT1jgFIkiT1jgFIkiT1jgFIkiT1zuqjLoAkSaOy4JDTRl2Eabn4sJ1HXYR5xxogSZLUOwYgSZLUOwYgSZLUOwYgSZLUOwYgSZLUOwYgSZLUOwYgSZLUOwYgSZLUOwYgSZLUOwYgSZLUOwYgSZLUOyMJQEl2SHJBkkVJDpnk9iQ5srv9R0m2Wta2SW6f5EtJftn9v91s7Y8kSRovsx6AkqwGHAXsCGwB7JVki6HVdgQWdn8HAEdPY9tDgLOqaiFwVnddkiTpX4yiBmgbYFFVXVRV1wEnArsNrbMbcHw1ZwPrJNlgGdvuBny4u/xh4PGrekckSdJ4Wn0Ej7khcOnA9cuAB0xjnQ2Xse0dq+oKgKq6Isn6M1loSZLmugWHnDbqIizTxYftPOoiAKMJQJlkWU1znelsu+wCJAfQmtYA/pLkguW9jxFZF7hqJu8wb57Je1tu7s8URrwvML/2x/faMrg/M8r9mcIq3pe7TnfFUQSgy4CNB65vBFw+zXXWmGLbK5Ns0NX+bAD8bmkFqKpjgWNXrPijk+Tcqtp61OWYKe7P3Daf9mc+7Qu4P3Od+zMeRtEH6BxgYZJNkqwB7AmcMrTOKcC+3WiwbYGru+atqbY9BXh6d/npwOdW9Y5IkqTxNOs1QFV1Q5KDgS8CqwHHVdX5SQ7sbj8GOB3YCVgEXAPsN9W23V0fBpyU5JnAr4EnzeJuSZKkMTKKJjCq6nRayBlcdszA5QIOmu623fLfA4+c2ZLOOWPXbLcM7s/cNp/2Zz7tC7g/c537MwbSsoYkSVJ/eCoMSZLUOwYgSZpCEo+T0jzkB1uSJpFk0yQLq+of8zEEJZlsXrXelWFVmc/7Nl/Muw91H3TTA8yr127iYNGHg0Yf9nGe2Am4IMlm4x6CkqyfZEF3+WFJblsj7gCaJBNlSPL4JNuNsjwzJckuSR4y6ud3tiVZu/s/Np+TsSmolrB2Vf0DbvqwPT7JuqMu1MqoqkryaOA/k7wwye1HXaZVpdvXhyR57qjLsix9DGvdD4xU1buANwFnJbnbmIegDYH3JTkKeBEjGgE8aCD8PBh4NvCT0ZZo5SW5L/A8Jj9rwbbr+YEAABZ9SURBVLyU5GZJ7gL8b5K7Tnw3jYNx/TD3VpK7AickuXuSJ9EO0C8EDk2y/WhLt+K6CS/fBvwW2B14eZLhc8TNJ38D9k+y+agLMpWBL6mDk3woyX5J/t+oy7UqdSdhngjk/6C9J7+eZPNxC0FJHppk06r6PnAJsC/wiar6fZKbj6hMNxu4/Fjg1cBXq+rPoyjPTEmyCW0+uiur6usTQXrU5VqVuh8K/6iqXwOnAY8fpxaKsSiklnAt8G3gzbSD2ZZV9XDg98AuSR4+bh+6JJsBBwNHdacpeQLtF9Q+Iy3YKlRV59Im9FwAkGS1kRZoyOB7qGuaeDxtJvYtgOcnufuoyjYbkmwKHAN8AXgEcCTwjTHsE7QpcH2SWwKfBF5D+3Hx6Kq6HiDJLWazQAO11xsDP6WFzLslueNslmMmdWV/BnAq8IAkTxkI0mN1PF5OGw1c/jJwn263x6IWaFw+xL030b5aVb+lHZQ/BzwIeEi3ytuBvwB7DSwbF5sAtwd2SLKgm9Ty9cBDui+ieSHJNklOSvLIJLcFzgX+K8nNq+rGUZdvwlDfjC2BrYGjq+oo4ETgj8BzktxjhMVc1a4GvlVV3wL+UlWH0T535yS5+1w/wE8EtKr6ILAm8HPgsqp6O/Au4K1J7pvkkbRAu8q/C5I8MMme3eXnAV8Dng98C1gIPCPJ+qu6HKvIVcB9gc2BFwN7J3kC/LMWdT5Jslr3nfTFJG9O8gLgS8Cm6c7qMA4MQGOgq6p+UpLndgeQpwJn0kLPi5Lcv6r+CLyTVs09p89uP/GLKMnm3a/ALwOvoJ3Y9slJ7gasTzvdyXUjK+gMGPz1V1XfBX4AbE+r/bkS+Ht3fc70txkIP88GTqCdW+/g7rbv0cL3DcDTR9WMMtMG3pNrpZ1n8I+0WomXDYSdTwNns+QJmeeciWaJ7vKdquoXtJl8T0hyr6o6jtbcfCJwOHDqLAW62wFvSnIo8G/Ao4ELgRuB73bXD0qy3iyUZUYkuXMXiG+kfUbWoIWhj9GC5RNHWsAZNnCMWqOq/gQ8nHYezgcD7wUuBR4wtO6cNfKOcFq2qro+ySnAecDNgU2r6q9JjgP+DLwyyRFV9a0kb5rrvzi6auHH0L5czwDWoTV3fQh4Ke08bpcCL62qS0dVzpU1UZPS9c3aBLi0qt7Y3fYzWrPS3WhNmWfOpdctySOAnWlNrNcn+WaS91bVs6vq+0n+Afxmohll3HWv0860DsIX0mpMngicl+QOwGXA04B9q+qCwVqyuWYgwL4E2CrJ86rqDd1rdlKSJ1fVh5J8A/hrV6s8G+U6Lcl1tPB1dlVdmOQyYA9ak/cFwFa0JrE5L8mtgZcB/5bkRFrXhBuBNavqE0lWp52Xcl4YOJ7tSKsBPhf4YVV9DvhWkt2BewIvS/KRqvrKSAs8HVXl3xz9oztVSXf59sDJtGaTVwwsvwPwEuDjtKruzHY5l3d/gLVoJ7h9IO3A91bgrG75PYH3AC8HbjX8PIzbH/A4WnB9Lq3W7nDgZt1ttwDuDHwPeMSoyzpQ5lsAb6QdvB/aLbs18HXgY6Mu3yra5wd1n6170PrJnN8t/3+0TrpvBnYedTmXsQ+Dx4tnAd8A1u2uT3yWnk3r1H3PEZZzN+B3wJ7d9ZsBz+yOY+uP+nlczn1ZkxbaPgG8qtuv7wJ3HHXZZnAfbzZw+THAD4GHAh/ojl3PG1p/L+Ctoy73dP6sAZqjhvph3B34Q1U9KcmGwCeS3Kaq/pN2wP4+8P6q+vsIi7xMVVVpoz4OAG4LHNHt40uSHEFrQ34MralhT2C/rtbhhpEVejl1nSE3qqrvda/VM2k1PQ+khdiNgXclObiqrgUuT/JNWi3YyCXZi3YA/2+ggKckubaqvpNkJ+BTSTaoqitGWtCZdwvgEFrg2YlW+wVwQ1W9fmKluVrzM3S8uCWt+fjjwGZJ9gN2THJOVb0iya1oTa8jUVWfS3IDrTmMqjoxyQeB21RrVhkb3TH3vCQH0N5DN6P1BdoEuHKuvl+mq2uOPCDJsVW1mDYI4im0wRv3pv14fU53jJg4YertgYVJblZzvK+cfYDmqIGD2YuBk2gfshdU1W9oAWKXJGfQqpMvrKqrR1fa6UmyFa0m5BTgGmDbJPcEqKqXAt8B7l5VX6bt8yfHLPysATyZ1i9r6+61eimwHu3L9YnA8cAOtBFGEyNhNgV+NpJC/6vNaf2T7kSrrfot8LQkD6qqvwA7zIfwM0n/hJsDH6HV/jyqqi7umgFf0zWBAXO3Q+vA8eJAYKJp/KG0Ydm/A94PrJVknap6e1VdOLLC0prDaP3+Dk+yR7Wh1GMVfgZV1dVV9buqeh2tVmT/bvmcfL8sh7vTaqmfl2Qt4CjgD7TaumdW1cdog2/2T7KgOwZeDxwy18MP2AdoTkvyUFoH2fsB9wI+2P2gODLJo2idUz9fVZeMspzTkTZR1snAB6rqw0nOpo2W2CPJ6lX1w6p6wcT6VXXmqMq6oqrquiSfpjXlHZDkmqr6adcH6IyquiTJQloN18e7bS5NsveoD/5J1qyqv1fVa5NcA5xOqwl5F+2Lavck36NNwzDWBvoyPBrYlnZA/yjt4L4XsHb3+XoDrbn596Mr7fQleTjtNXtyVf09yZm0Pj7XJNmNtq9rjrKMg6rqjCT70/pcjb2B2p4LgYcmuWVV/W3U5VoZ1fqVbkyrEX0h7XjwR1oN4jVJ7gcsBl5QVRcDJHnfuAQ/A9AcMlhlmDb8e39gbVr7/Q+TPAs4pmv+eiOt9mcsVNWvk5xEGxnxqWodSQ8HXksb4XZhV8MwlgZeu81oYfUewEvTZt69jDYsdmJuo6dV1XlJVquqG0cRfobeazsAj0ny5qq6sqre3P2S+xRtUso3A6vP9SbW6erCz87AobSQ8wJgs6p6ftr0BO+kjeZ5afclPSebMYaave4APBa4P22E1XeqanGS2yTZh9Y/5Uk1Sx2ep6uqvjTqMsyU7n0V4K/AS8Y9/AB0zd7PBq6gjfi6Be1zcx5wNK0p7OXVRhrO2SbipckYlbU3kuxC+6X9EOCWtF8UJ1ebvfUBtKaJx1fVH0ZYzCkN/Mq+P22k0w9pQ/SfQ2tDfmoXghbSRk38eITFnRFp8+J8njaR40a0vgALgP8A7khrM/9tVX1tVGUclmQjWn+R42idtD9UVVd2y0+hHcy3H6emyOlIchjwbloH1lfSak1+PXD7nP71PhR+bkWbWXxd2qikWwPvqarz00YiPYzWTH7xqMqr8ZA2t8/fu9rsW9Nq7V/d/WB7NK0m6Arad9BatNMyXTpuwWeCfYDmgMH+CGnz/BxHCz870A5qt6XVkqxXVd8BHj0m4edxwAdptSInALvSOs2dDHw27dQCvxzn8DPUl+TmwEVV9eOqOoMWhjakjWpbo6o+Merwk3+djO7rtH5ZXwV2pE1GtwltVNRngb3mYfi5GS0kHE0b9r5XV0O5a5KnpM3KPadruwbCz0to+/EF2g+Nj9H6bR2QZMuquqGqzjL8aFnSOs8fQevEDG2ur7VpHZ+hjdS9lDZtx+uBa6qbpmQcww8YgEZu6JfcXWkjb7arqtcAb6H1/1kIbADs2h285+TkgBNhoAs/G9P6IzyC9iV7M+Csbl/fRutzcYel3de46PZ1u66Z4QJg9STP6W77MW1o9f/RDiZzwWST0f2K1nHxO7R+Ii+lnWPupKq6bETlnHFJ7p3k32gj7o6ijfg6tap+1fW3OwK4omuWnPMH9CR70zqlP532Q2nfqvoBrenyWlqz6xqTdPiWlpBkra7G84XArZLsV22U6tuAhyd5RNdk/r/AN4Hjax7MAWYT2AgNhZ+DaBOtrU0XELqOjHvQZnw+BXjNXO2Q2R1kdwd+QxsV8FRaP4q1aXP77FVtZM1OwC+qatHICruSunC3PfC5qro6yVuBH1ebXG43Ws3djbTOzm8BnlXtZJRzQleVPTEZ3bPSzgW1B625bk3ajK5/r6qrRlfKmTFQG/lwWk3JhbQRUufQhvsfTZud+z7AK6uNThoL3THjp8CWtP4/u1XVtd3ruS5w7Xx4DbVqpY3uOpz2mTiZ9qP7CFpt/bm0H7EH0k5ZsiNwQLWRumPPTtAjNBB+dqP1F3kabQKze9OGiH+zqj6Z5HraF+ycDD9wU03IhbSZnYtWs3A/WhPDy7rw80DgHbRwNM7uTNuvW9GGs69O6ysD7dfRL2kTOe4DvG4uhR9oHU+TvBp4X5Kzqs3D8nHaqMKFtHNf/XG0pZwZ3fvyQbTP1R602q77ARPh4eF0Vf5V9csRFXOZMvmcKjfQmiKuAB5Xbcbu/6C9P58/DrVYGr2q+nPaqNyH0ULzR9OmXzmU9kPuo7Tj2ubAR6rq7JEVdoZZAzRiaZPl/S/tVAj/nmRN2oiNdWi1Pv8zLn0wuk5zX6R1+N0f+DFtHpK1aAHhobQw9PmRFXIlDdQoPIj25fMOYBvaSK8TaPv6Z9r+/mNiZMhc/DLqRkK9CXhjF4JuxhhORjeVrmby9bSO6Pesqp91HT2fBdyyBiY5nKvSTVHQXd6b9qX0a9rn63TaZ+4UWofuFwF7V9VPR1RcjZGh0aB7A7sAp3chaHvad9EnaBPtzrlj2MoyAM0BaedQeTdt6OTHu5Ebb6GdE+c1VXXNSAu4HLqOdPejNS28vNow4r1pge4bVfXjuRoIlmUg/KxeVTckuS+tKWkh8BPa/Bh3oPWneWXXH2NOSzuvz7HAi6rqk6Muz0wYeJ3uRzvB7lW0fdwceEz3i3d/WnX+PsD1c/H92IW3u9N+gT+GdsLJd9K+kLainYrgf2gBbw3aYIn/rKrzR1JgjZWBz8nGwOVVdWPaORr3p/WN+2jafFiHAk+pNrHrvGIAmiMGfo2/aSAE3a7a9ONjJ20o/ztpE/49GDi4qn4y2lKtuIGDxQ7A3rSmlDNpfZ4+SPsF/glaCLpNVf1uZIVdTl2foAur6qJRl2VlDYTTHWkh/CnVTuOxGq227om085ztALx3HGojk7yP1kT+FeDYqlrU9Wn6T+B9VXVit95taozn0tLs645nr6U1269O6wR9T9opfM6qqg8muX3N4VHHK8MANIcM/Bp/cVWdPOryrKwk29E+SCdX1RdHXZ6V1QWFw2jTwD8LWKuqdk2yLS3sfaSq3j3KMvZV2hQRi7vL96CNhNqn2pnrF9JGIV4JvI7WP+1ZVfWNJDefi6NZuubkGweavg4BDqaN9PpKkpvTpip4C2129feOa82qRiPtHJOn0I5lV9LOWbgbbfTuo2l95l5cVZePrJCrmAFojplPv8ZhiV/kY39wTjvh4bdpUxK8njZ53iVdU8X9aLMlz5sOguOiCwMnAYur6oC0WZFfReuXtT5txN4fgPfRDvivBx5Jm09rznX2TpuFex/g97QBEfetqj260YYPAnavqsu79bYBfl0DkzhKS5Nu9vnu8l1pkxw+a6IvUJJ3A/9bVSck2XA+NnsNch6gOaaqvjRfwg/ARAfucQ8/nTWBT9KqjHftws+OtNl3v2f4GY2uBuc5wN2SvK4bLXkprdno27Sw803gXt378TXAl2h9ZuacqrqONiT53bQa1P/ulr8EOBs4KcnGVXVdVX3T8KNl6Ya60/Xz2T7Js2mn69m5m/NnYoThH2ijCKH1n5vXHAYvTWJotNeGtIPBR2gzdP+52ukitqfN0fSCeRLwxs5AzeJGtPMTPT3JX6vqsIF17kvr+/MKuClgvHIU5Z3KwHsuVfWTJCfQhibfO8nlVXVVVb2w+5V+fJJHTfyal5Ym7VQppyU5knZKonfTJm39KW2usjckWZ/WD2hXWj+g+fKjdUo2gUlL0c3P9GrgRNqB4URaR9S30n48rA28ocZo8rz5KMlDgA/T5va5M22eqe9X1YuTbEnrJ/OeqvrsXG2KHSxXF9gurqr/6/ozHQ18oqqO7jqtfpt2ahUnOdS0JHkCcAithueQaifXfiptNvQ7AesBPwO+W1Wnjq6ks8sAJE2i64T6NlpNwaOAFwO7DHS0vS3tS2jxXP1S7YsuqN63qg7tRnttQpvR9tSq+s+uuWgsTtiYNgHdE2gzVl9E+7W+EW0E2yLgycD9aw5P2qi5qetfehJt3q/Du5HGTwbuBSwG3jFQAzmnPyczxT5A0pDuV/frgFvSmk0Opo0oWpxkpyT3raqrJ8JQXw4Wc0XX6XxQAfsmWbfaebwW0frK7J7kbjUmJ2xMmw9sp6p6CHAL2pm3/4M26eFTgc/Qgp7hR8utqr4E7Ec74fHESY4/QZvD7IsTn4+5/jmZSfYBkliyCYI2qdy1tKGhTwGe28298lBan5+9RlRMcdPpLR5JGxH15ao6Jcm9gS+lTbp5B1oH512r6sJRlnUqA31+Jmbj/TvwrCTPo+3DS2lzFh0BHF5VZ4ywuJoHumbg64DXJVmjqj4MfGzU5RoVA5DETV+qDwC27OZUeSrt8/Fa4PVJHgY8jjZb93mjLGtfDQSGrWmh4PvAgWnnmHsXbQbut9H6Zh0xDuGnu7oxcAnwhW4o8v2Ap3Ud7X8B/InWd0NaaVV1etf8dViSLwG/rX89z1wv2AdI4qa5ZN5Ja2o4kHYur7fSmiAupJ0w8+qqOqdPbeRzQZK1qzs/WRcO3kELot9N8jjaCU2vAI6squuSrFXtdBdz/nVK8lza5HPn0SY+fHWSzwC3ps2i/kxgr4lmPGmmDE4e2lf2AVLvpZ0LZx1arcIFtL4XoZ1D6gDaBHtfrqpzoF9t5KPWdUY/IcmdBhbfizZRINVOZXEWsCnwsiS3AP7S3TanX6ckO9H246nAZrTpFgCeRBuR8yjgOYYfrQp9Dz9gDZB6Lu3kra+mjbR5H3A1sC/wftponOcBD+s61moEuk7PmwH3qKrPJNkGOAb4eFUd3q3zOGBRVf1shEWdtq7ZbkPa+21jWl+zXboarM2r6uddH43rRlpQaR4zAKn3uiHt9wfeQxtpczvg7VX1syR3cabd0Uo7l9dHaGdGf05VfSLJ/WlNlmdU1etGWsBpGJrnZ23gzcCNtGHIF1bVdt1tB9Jm6H15VV07qvJKfWAAkjppJwd8Lm2U1yVVtc3guXM0eyaZGPCxtKatFwOHVtXxaSehPZo2y/Ov5nqTF0CSLarqp0meSat1vI52vq/30+YvOoh2wtOfjLCYUi8YgKQB3bTx9wRuWVVfH3V5+mxoVN7bgO/Spu8/GXhLVX0gyW2r6uqRFnSakmxHm038jcD/0ELPN2j79UzaSK8jDD/S7DAASUsxDqOI5quhUXnPps3L9E5gd2A12oy22wJXjMNrlHbm9vVp5V4T+C/gwbSard27eaYm5gOSNAscBSYtxTh8sc5Hk4zK2wW4gTbU/TDge8B9qurycXiNug7Pr6JNzrgPcBmtn9kvaSPa9uqaWg0/0iwyAEmaM7pReQfSws+dgf2By2lB6NO0DsILquqPIyvk8ru0+/swbc6i04A/VdWxwLOAj9nPTJp9NoFJmlPm66i8JP9Gq8FaC1i3qjYfcZGkXjMASZqT5uOovCTrA48EXgDsWVUXj7ZEUn8ZgCTNWfN1VF6Sm1fV9aMuh9RnBiBJY8FReZJmkgFIkiT1jqPAJElS7xiAJElS7xiAJElS7xiAJElS7xiAJElS7xiAJElS7xiAJElS7xiAJElS7xiAJElS7xiAJElS7xiAJElS7/x/Ts6/+dx/eRYAAAAASUVORK5CYII=\n",
          "text/plain": "<Figure size 576x432 with 1 Axes>"
         },
         "metadata": {
          "needs_background": "light"
         },
         "output_type": "display_data"
        }
       ]
      }
     },
     "8c60b6e81238476e9a1beb98182789f3": {
      "model_module": "@jupyter-widgets/controls",
      "model_module_version": "1.5.0",
      "model_name": "DescriptionStyleModel",
      "state": {
       "description_width": ""
      }
     },
     "8cebae385f914371937e7ccf2c61c356": {
      "model_module": "@jupyter-widgets/controls",
      "model_module_version": "1.5.0",
      "model_name": "BoxModel",
      "state": {
       "children": [
        "IPY_MODEL_70434af09b174b05949313d80c4020f7"
       ],
       "layout": "IPY_MODEL_9a3b4dc9cccf461a96d75a2cad769db3"
      }
     },
     "8d43cd2e642747938ccb9ef96df6d981": {
      "model_module": "@jupyter-widgets/controls",
      "model_module_version": "1.5.0",
      "model_name": "BoxModel",
      "state": {
       "children": [
        "IPY_MODEL_9a3462499f0443e78f66f6146160750e"
       ],
       "layout": "IPY_MODEL_12050075751144cc900d1cf6a032ba29"
      }
     },
     "8db327c36d3c47f2b113b43339b2d34a": {
      "model_module": "@jupyter-widgets/controls",
      "model_module_version": "1.5.0",
      "model_name": "HTMLModel",
      "state": {
       "layout": "IPY_MODEL_fcb6b6ca9e614761a5b07a1806be65bd",
       "style": "IPY_MODEL_eb826fa1a0184358b77e0220ef3213fd",
       "value": "<p>Target Variable:</p>"
      }
     },
     "8e0c8257024e482a958c2fbcc49522df": {
      "model_module": "@jupyter-widgets/base",
      "model_module_version": "1.2.0",
      "model_name": "LayoutModel",
      "state": {
       "width": "25px"
      }
     },
     "8e7b3e19ffc04aa28b17d4fa33002b4b": {
      "model_module": "@jupyter-widgets/controls",
      "model_module_version": "1.5.0",
      "model_name": "HTMLModel",
      "state": {
       "layout": "IPY_MODEL_56f6300a1fb34663ba7cda5f04980e05",
       "style": "IPY_MODEL_8c60b6e81238476e9a1beb98182789f3",
       "value": "\n        <style>\n\n        .left-label {\n            width: 30%;\n        }\n\n        .card-panel {\n            -webkit-transition: -webkit-box-shadow .25s;\n            transition: -webkit-box-shadow .25s;\n            transition: box-shadow .25s;\n            transition: box-shadow .25s, -webkit-box-shadow .25s;\n            padding: 24px;\n            margin: 0.5rem 0 1rem 0;\n            border-radius: 2px;\n            background-color: #fff;\n        }\n\n        .card {\n            position: relative;\n            margin: 0.5rem 0.1rem 1rem 0.2rem;\n            background-color: #fff;\n            -webkit-transition: -webkit-box-shadow .25s;\n            transition: -webkit-box-shadow .25s;\n            transition: box-shadow .25s;\n            transition: box-shadow .25s, -webkit-box-shadow .25s;\n            border-radius: 2px;\n            box-shadow: 0 2px 2px 0 rgb(0 0 0 / 14%), 0 3px 1px -2px rgb(0 0 0 / 12%), 0 1px 5px 0 rgb(0 0 0 / 20%);\n            padding: 24px;\n            color: white;\n        }\n\n        .card .card-title {\n            font-size: 24px;\n            font-weight: 300;\n        }\n\n        @media only screen and (min-width: 800px) {\n            /* For notebook: */\n            .card {width: 99% !important;}\n        }\n\n        @media only screen and (min-width: 1400px) {\n            /* For colab: */\n            .card {width: 99% !important;}\n        }\n\n        .blue-grey.darken-1 {\n            background-color: #546e7a !important;\n        }\n\n        .small-card {\n            position: relative;\n            margin: 0.5rem 0 1rem 0;\n            background-color: #fff;\n            -webkit-transition: -webkit-box-shadow .25s;\n            transition: -webkit-box-shadow .25s;\n            transition: box-shadow .25s;\n            transition: box-shadow .25s, -webkit-box-shadow .25s;\n            border-radius: 2px;\n            box-shadow: 0 2px 2px 0 rgb(0 0 0 / 14%), 0 3px 1px -2px rgb(0 0 0 / 12%), 0 1px 5px 0 rgb(0 0 0 / 20%);\n            padding: 0px 5px 0px 5px;\n            color: white;\n        }\n\n        .inner-card {\n            position: relative;\n            background-color: #fff;\n            -webkit-transition: -webkit-box-shadow .25s;\n            transition: -webkit-box-shadow .25s;\n            transition: box-shadow .25s;\n            transition: box-shadow .25s, -webkit-box-shadow .25s;\n            border-radius: 2px;\n            box-shadow: 0 2px 2px 0 rgb(0 0 0 / 14%), 0 3px 1px -2px rgb(0 0 0 / 12%), 0 1px 5px 0 rgb(0 0 0 / 20%);\n            padding: 20px;\n            color: white;\n            margin: 0px 1px 1px 1px;\n        }\n\n        .card-with-tab {\n            position: relative;\n            margin: 0.5rem 0.1rem 1rem 0.2rem;\n            background-color: #fff;\n            -webkit-transition: -webkit-box-shadow .25s;\n            transition: -webkit-box-shadow .25s;\n            transition: box-shadow .25s;\n            transition: box-shadow .25s, -webkit-box-shadow .25s;\n            border-radius: 2px;\n            box-shadow: 0 2px 2px 0 rgb(0 0 0 / 14%), 0 3px 1px -2px rgb(0 0 0 / 12%), 0 1px 5px 0 rgb(0 0 0 / 20%);\n            padding: 24px;\n            color: white;\n        }\n\n        .card-with-tab button {\n            width: auto;\n            padding: 12px 40px;\n        }\n\n        .list {\n            padding: 0px 10px;\n            box-shadow: 0 2px 2px 0 rgb(0 0 0 / 14%), 0 3px 1px -2px rgb(0 0 0 / 12%), 0 1px 5px 0 rgb(0 0 0 / 20%);\n            margin: 0px 1px 60px 1px;\n        }\n\n        .list-item {\n            padding: 10px 0px;\n            border-width: 0;\n            border-style: solid;\n            border-color: rgba(0, 0, 0, 0.08);\n            border-bottom-width: thin;\n        }\n\n        .divider {\n            margin: 10px 0px;\n            border-width: 0;\n            border-style: solid;\n            border-color: rgba(0, 0, 0, 0.08);\n            border-bottom-width: thin;\n        }\n\n        .hr {\n            margin: 0;\n            -webkit-flex-shrink: 0;\n            -ms-flex-negative: 0;\n            flex-shrink: 0;\n            border-width: 0;\n            border-style: solid;\n            border-color: rgba(0, 0, 0, 0.08);\n            border-bottom-width: thin;\n        }\n\n        .notification {\n            transition: box-shadow 300ms cubic-bezier(0.4, 0, 0.2, 1) 0ms;\n            border-radius: 4px;\n            box-shadow: 0 2px 2px 0 rgb(0 0 0 / 14%), 0 3px 1px -2px rgb(0 0 0 / 12%), 0 1px 5px 0 rgb(0 0 0 / 20%);\n            font-family: Roboto, Helvetica, Arial, sans-serif;\n            font-weight: 500;\n            font-size: 12px;\n            line-height: 1.43;\n            letter-spacing: 0.01071em;\n            background-color: rgb(2, 136, 209);\n            display: flex;\n            padding: 6px 16px;\n            color: rgb(255, 255, 255);\n            margin-top: 10px;\n        }\n\n        .success {\n            background-color: #EDF7ED;\n            color: #1E4620;\n        }\n\n        .error {\n            background-color: #FDEDED;\n            color: #5F2120;\n        }\n\n        .info {\n            background-color: #E5F6FD;\n            color: #528298;\n        }\n\n        .warn {\n            background-color: #FFF4E5;\n            color: #663C00;\n        }\n\n        .margin-top-20 {\n            margin-top: 20px;\n        }\n\n        .hide {\n            display: none;\n        }\n\n        .pbtn {\n            display: inline-flex;\n            -webkit-box-align: center;\n            align-items: center;\n            -webkit-box-pack: center;\n            justify-content: center;\n            position: relative;\n            box-sizing: border-box;\n            -webkit-tap-highlight-color: transparent;\n            outline: 0px;\n            border: 0px;\n            margin: 0px;\n            cursor: pointer;\n            user-select: none;\n            vertical-align: middle;\n            appearance: none;\n            text-decoration: none;\n            font-family: Roboto, Helvetica, Arial, sans-serif;\n            font-weight: 550;\n            font-size: 12px;\n            line-height: 1.75;\n            letter-spacing: 0.02857em;\n            text-transform: uppercase;\n            min-width: 64px;\n            padding: 6px 16px;\n            border-radius: 4px;\n            transition: background-color 250ms cubic-bezier(0.4, 0, 0.2, 1) 0ms, box-shadow 250ms cubic-bezier(0.4, 0, 0.2, 1) 0ms, border-color 250ms cubic-bezier(0.4, 0, 0.2, 1) 0ms, color 250ms cubic-bezier(0.4, 0, 0.2, 1) 0ms;\n            color: rgb(255, 255, 255);\n            background-color: #D71E28;\n            box-shadow: rgb(0 0 0 / 20%) 0px 3px 1px -2px, rgb(0 0 0 / 14%) 0px 2px 2px 0px, rgb(0 0 0 / 12%) 0px 1px 5px 0px;\n        }\n\n        .jp-OutputArea-output {\n            flex-grow: 1;\n            flex-shrink: 1;\n            margin: 0px;\n        }\n\n        .output_subarea {\n            padding: 0px !important;\n        }\n\n        .ptable, .pth, .ptd {\n            border: none;\n        }\n\n        .pth, .ptd {\n            max-width: 150px;\n            white-space: nowrap;\n            overflow: hidden;\n            -o-text-overflow: ellipsis;\n            -ms-text-overflow: ellipsis;\n            text-overflow: ellipsis;\n        }\n\n        .ptable {\n            display: table;\n            border-collapse: collapse;\n            border-spacing: 0;\n        }\n\n        .ptable.striped .ptr {\n            border-bottom: none;\n        }\n\n        .ptable.striped > .ptbody > .ptr:nth-child(odd) {\n            background-color: rgba(242, 242, 242, 0.5);\n        }\n\n        .ptable.striped > .ptbody > .ptr > .ptd {\n            border-radius: 0;\n        }\n\n        .ptable.highlight > .ptbody > .ptr {\n            -webkit-transition: background-color .25s ease;\n            transition: background-color .25s ease;\n        }\n\n        .ptable.highlight > .ptbody > .ptr:hover {\n            background-color: rgba(242, 242, 242, 0.5);\n        }\n\n        .ptable.centered .pthead .ptr .pth, .ptable.centered .ptbody .ptr .ptd {\n            text-align: center;\n        }\n\n        .ptr {\n            border-bottom: 1px solid rgba(0, 0, 0, 0.12);\n        }\n\n        .ptr.hightlight {\n            background-color: yellow !important;\n        }\n\n        .ptd, .pth {\n            padding: 0.2rem 0.6rem;\n            display: table-cell;\n            text-align: right;\n            vertical-align: middle;\n            border-radius: 2px;\n            position: relative;\n        }\n\n        .ptr.grey {\n            background-color: grey !important;\n        }\n\n        .ptr.strikeout .ptd:before {\n            content: \" \";\n            position: absolute;\n            top: 50%;\n            left: 0;\n            border-bottom: 1px solid #111;\n            width: 100%;\n        }\n\n        .widget-toggle-button {\n            display: inline-flex;\n            -webkit-box-align: center;\n            align-items: center;\n            -webkit-box-pack: center;\n            justify-content: center;\n            box-sizing: border-box;\n            -webkit-tap-highlight-color: transparent;\n            background-color: transparent !important;\n            outline: 0px;\n            border: 0px;\n            border-bottom: 2px solid #E4E4E4 !important;\n            box-shadow: none !important;\n            margin: 0px !important;\n            border-radius: 0px;\n            cursor: pointer;\n            user-select: none;\n            vertical-align: middle;\n            appearance: none;\n            text-decoration: none;\n            font-family: Roboto, Helvetica, Arial, sans-serif;\n            font-weight: 500;\n            font-size: 14px;\n            line-height: 1.25;\n            letter-spacing: 0.02857em;\n            max-width: 360px;\n            min-width: 90px;\n            position: relative;\n            min-height: 48px;\n            flex-shrink: 0;\n            padding: 12px 16px;\n            overflow: hidden;\n            white-space: normal;\n            text-align: center;\n            flex-direction: column;\n            color: rgba(0, 0, 0, 0.6);\n        }\n\n        .narrow-accordion .jupyter-widget-Accordion-child .jupyter-widget-Collapse-header{\n            padding: 5px;\n        }  \n\n        .mod-active {\n            color: rgb(25, 118, 210) !important;\n            border-bottom: 2px solid rgb(25, 118, 210) !important;\n        }\n\n        .narrow-tab button {\n            max-width: 15%;\n        }\n\n        .narrow-tab-fairness button {\n            max-width: 20%;\n        }\n        .narrow-tab-fs button {\n            max-width: 25%;\n        }\n\n        .overflow-fix .jupyter-widgets {\n            overflow: auto;\n        }\n\n        .inner-padding {\n            padding-top: 20px;\n        }\n\n        .fix-img img {\n            width: 100%;\n        }\n\n        .fix-img-half img {\n            width: 50%;\n        }\n\n        .flex-reverse-for-update-button {\n            flex-direction: row-reverse;\n            margin-right: 50px;\n        }\n\n        .data-summary-tab {\n            max-height: 400px;\n        }\n\n        .restricted_table_height {\n            max-height: 450px\n        }\n\n        .input-width-with-parent .widget-dropdown {\n            width: 100%;\n        }\n\n        .input-width-with-parent .widget-text {\n            width: 100%;\n        }\n\n        .no-margin {\n            margin: 0px;\n        }\n\n        .widget-hprogress label {\n            text-align: left;\n        }\n\n        .widget-dropdown label {\n            margin-right: 10px;\n        }\n\n        .form .widget-dropdown {\n            width: auto;\n        }\n\n        .form .widget-text {\n            width: auto;\n        }\n\n        .form p {\n            margin: 0px;\n        }\n\n        .widget-dropdown {\n            white-space: nowrap;\n            overflow: hidden;\n            -o-text-overflow: ellipsis;\n            -ms-text-overflow: ellipsis;\n            text-overflow: ellipsis;\n        }\n\n        .progress-train label {\n            margin-right: 10px;\n        }\n\n        select {\n            height: 97% !important;\n        }\n\n        .no-overflow {\n            overflow: none;\n        }\n\n        .split-btn button {\n            margin-bottom: 2px;\n        }\n\n        .register-btn {\n            width: 50%\n        }\n\n        .register-btn-colab {\n            width: 40%\n        }\n\n        .fix-config-from-overflow .jp-OutputArea-child {\n            display: inherit;\n        }\n        \n        .checkbox-center input[type=\"checkbox\"] {\n            vertical-align: middle;\n        }\n\n        input[type=\"checkbox\"] {\n            vertical-align: middle;\n        }\n\n        </style>\n        "
      }
     },
     "8f4363c3f6664a59b1eb90bf22686415": {
      "model_module": "@jupyter-widgets/controls",
      "model_module_version": "1.5.0",
      "model_name": "DescriptionStyleModel",
      "state": {
       "description_width": ""
      }
     },
     "9074dac9e8d549d1abad0a30876daeeb": {
      "model_module": "@jupyter-widgets/base",
      "model_module_version": "1.2.0",
      "model_name": "LayoutModel",
      "state": {}
     },
     "9131eb5813fc4a81b151dbd886b2ec30": {
      "model_module": "@jupyter-widgets/controls",
      "model_module_version": "1.5.0",
      "model_name": "DescriptionStyleModel",
      "state": {
       "description_width": ""
      }
     },
     "9243b6b9a6c04a24b5cfeed6a35e7085": {
      "model_module": "@jupyter-widgets/base",
      "model_module_version": "1.2.0",
      "model_name": "LayoutModel",
      "state": {}
     },
     "924f0b5a148942be8ccc23608112f1e7": {
      "model_module": "@jupyter-widgets/controls",
      "model_module_version": "1.5.0",
      "model_name": "HTMLModel",
      "state": {
       "layout": "IPY_MODEL_6133f726f4054463b0da182a201892a2",
       "style": "IPY_MODEL_43d09fa2dc81462a922c3a91cfd82f1a",
       "value": "\n        <table class='ptable striped'>\n            <thead class='pthead'>\n                <tr class='ptr'>\n                    <th class='pth'></th><th class='pth'>name</th><th class='pth'>n_missing</th><th class='pth'>n_unique</th><th class='pth'>top1</th><th class='pth'>top2</th><th class='pth'>top3</th><th class='pth'>n_others</th>\n                </tr>\n            </thead>\n\n            <tbody class='ptbody'>\n                <tr class='ptr grey'><td class='ptd'>0</td><td class='ptd'>season</td><td class='ptd'>0</td><td class='ptd'>4</td><td class='ptd'>3.0 : 4496</td><td class='ptd'>2.0 : 4409</td><td class='ptd'>1.0 : 4242</td><td class='ptd'>4232</td></tr><tr class='ptr'><td class='ptd'>1</td><td class='ptd'>yr</td><td class='ptd'>0</td><td class='ptd'>2</td><td class='ptd'>1.0 : 8734</td><td class='ptd'>0.0 : 8645</td><td class='ptd'>0</td><td class='ptd'>0</td></tr><tr class='ptr'><td class='ptd'>2</td><td class='ptd'>holiday</td><td class='ptd'>0</td><td class='ptd'>2</td><td class='ptd'>0.0 : 16879</td><td class='ptd'>1.0 : 500</td><td class='ptd'>0</td><td class='ptd'>0</td></tr><tr class='ptr'><td class='ptd'>3</td><td class='ptd'>workingday</td><td class='ptd'>0</td><td class='ptd'>2</td><td class='ptd'>1.0 : 11865</td><td class='ptd'>0.0 : 5514</td><td class='ptd'>0</td><td class='ptd'>0</td></tr><tr class='ptr'><td class='ptd'>4</td><td class='ptd'>weathersit</td><td class='ptd'>0</td><td class='ptd'>4</td><td class='ptd'>1.0 : 11413</td><td class='ptd'>2.0 : 4544</td><td class='ptd'>3.0 : 1419</td><td class='ptd'>3</td></tr>\n            </tbody>\n        </table>\n        "
      }
     },
     "92504acd5dfc4b9eb3cefc294171583e": {
      "model_module": "@jupyter-widgets/base",
      "model_module_version": "1.2.0",
      "model_name": "LayoutModel",
      "state": {}
     },
     "9300da695e1d4775a92f383d2e0717d1": {
      "model_module": "@jupyter-widgets/base",
      "model_module_version": "1.2.0",
      "model_name": "LayoutModel",
      "state": {}
     },
     "93073d63bbec4a4b9fe38aa8f4ffbbac": {
      "model_module": "@jupyter-widgets/controls",
      "model_module_version": "1.5.0",
      "model_name": "DescriptionStyleModel",
      "state": {
       "description_width": "initial"
      }
     },
     "934df07b6d8b44bdb1a5bf7e0f173b3e": {
      "model_module": "@jupyter-widgets/base",
      "model_module_version": "1.2.0",
      "model_name": "LayoutModel",
      "state": {
       "justify_content": "space-between"
      }
     },
     "935b77bbc7814d0f85c5b9c24a048075": {
      "model_module": "@jupyter-widgets/controls",
      "model_module_version": "1.5.0",
      "model_name": "DescriptionStyleModel",
      "state": {
       "description_width": "initial"
      }
     },
     "9391991b5c8549ccb7c798b3f658257d": {
      "model_module": "@jupyter-widgets/controls",
      "model_module_version": "1.5.0",
      "model_name": "DropdownModel",
      "state": {
       "_options_labels": [
        "Select",
        "season",
        "yr",
        "mnth",
        "hr",
        "holiday",
        "weekday",
        "workingday",
        "weathersit",
        "temp",
        "atemp",
        "hum",
        "windspeed",
        "cnt"
       ],
       "index": 0,
       "layout": "IPY_MODEL_538a7216e916410787bf0b516ac71c5f",
       "style": "IPY_MODEL_58922459e2df4411bef064dc383cad2e"
      }
     },
     "94e669d7ef8c49f9877b8d8b64776fce": {
      "model_module": "@jupyter-widgets/controls",
      "model_module_version": "1.5.0",
      "model_name": "HTMLModel",
      "state": {
       "layout": "IPY_MODEL_66bc187aaaf14903988616ad5e2cf594",
       "style": "IPY_MODEL_21f6f489f6ed46b79836a96b04fb43d8",
       "value": "\n        <table class='ptable striped'>\n            <thead class='pthead'>\n                <tr class='ptr'>\n                    <th class='pth'></th><th class='pth'>name</th><th class='pth'>n_missing</th><th class='pth'>mean</th><th class='pth'>std</th><th class='pth'>min</th><th class='pth'>q1</th><th class='pth'>median</th><th class='pth'>q3</th><th class='pth'>max</th>\n                </tr>\n            </thead>\n\n            <tbody class='ptbody'>\n                <tr class='ptr'><td class='ptd'>0</td><td class='ptd'>mnth</td><td class='ptd'>0.0</td><td class='ptd'>6.5378</td><td class='ptd'>3.4388</td><td class='ptd'>1.0</td><td class='ptd'>4.0</td><td class='ptd'>7.0</td><td class='ptd'>10.0</td><td class='ptd'>12.0</td></tr><tr class='ptr'><td class='ptd'>1</td><td class='ptd'>hr</td><td class='ptd'>0.0</td><td class='ptd'>11.5468</td><td class='ptd'>6.9144</td><td class='ptd'>0.0</td><td class='ptd'>6.0</td><td class='ptd'>12.0</td><td class='ptd'>18.0</td><td class='ptd'>23.0</td></tr><tr class='ptr'><td class='ptd'>2</td><td class='ptd'>weekday</td><td class='ptd'>0.0</td><td class='ptd'>3.0037</td><td class='ptd'>2.0058</td><td class='ptd'>0.0</td><td class='ptd'>1.0</td><td class='ptd'>3.0</td><td class='ptd'>5.0</td><td class='ptd'>6.0</td></tr><tr class='ptr'><td class='ptd'>3</td><td class='ptd'>temp</td><td class='ptd'>0.0</td><td class='ptd'>0.497</td><td class='ptd'>0.1926</td><td class='ptd'>0.02</td><td class='ptd'>0.34</td><td class='ptd'>0.5</td><td class='ptd'>0.66</td><td class='ptd'>1.0</td></tr><tr class='ptr'><td class='ptd'>4</td><td class='ptd'>atemp</td><td class='ptd'>0.0</td><td class='ptd'>0.4758</td><td class='ptd'>0.1719</td><td class='ptd'>0.0</td><td class='ptd'>0.3333</td><td class='ptd'>0.4848</td><td class='ptd'>0.6212</td><td class='ptd'>1.0</td></tr><tr class='ptr'><td class='ptd'>5</td><td class='ptd'>hum</td><td class='ptd'>0.0</td><td class='ptd'>0.6272</td><td class='ptd'>0.1929</td><td class='ptd'>0.0</td><td class='ptd'>0.48</td><td class='ptd'>0.63</td><td class='ptd'>0.78</td><td class='ptd'>1.0</td></tr><tr class='ptr'><td class='ptd'>6</td><td class='ptd'>windspeed</td><td class='ptd'>0.0</td><td class='ptd'>0.1901</td><td class='ptd'>0.1223</td><td class='ptd'>0.0</td><td class='ptd'>0.1045</td><td class='ptd'>0.194</td><td class='ptd'>0.2537</td><td class='ptd'>0.8507</td></tr><tr class='ptr'><td class='ptd'>7</td><td class='ptd'>cnt</td><td class='ptd'>0.0</td><td class='ptd'>189.4631</td><td class='ptd'>181.3876</td><td class='ptd'>1.0</td><td class='ptd'>40.0</td><td class='ptd'>142.0</td><td class='ptd'>281.0</td><td class='ptd'>977.0</td></tr>\n            </tbody>\n        </table>\n        "
      }
     },
     "966bc59275e843e68c4d023e2195c780": {
      "model_module": "@jupyter-widgets/output",
      "model_module_version": "1.0.0",
      "model_name": "OutputModel",
      "state": {
       "layout": "IPY_MODEL_09bf427995c349168c4d349f328cb36b",
       "outputs": [
        {
         "data": {
          "text/html": "<p class=\"notification info\">Default Data Preparation Done</p>",
          "text/plain": "<IPython.core.display.HTML object>"
         },
         "metadata": {},
         "output_type": "display_data"
        }
       ]
      }
     },
     "97e5bbfaf4c6411fb1efcd98811669fd": {
      "model_module": "@jupyter-widgets/output",
      "model_module_version": "1.0.0",
      "model_name": "OutputModel",
      "state": {
       "layout": "IPY_MODEL_5be91bce625140a89c23c748902090d4"
      }
     },
     "980542235ea64d88817fcbd3756a20d2": {
      "model_module": "@jupyter-widgets/base",
      "model_module_version": "1.2.0",
      "model_name": "LayoutModel",
      "state": {}
     },
     "98351cceaff9429c902fb88222fab26c": {
      "model_module": "@jupyter-widgets/controls",
      "model_module_version": "1.5.0",
      "model_name": "HBoxModel",
      "state": {
       "children": [
        "IPY_MODEL_d177bf442e004f38ab2696bd70789df2",
        "IPY_MODEL_1eabd406ecfd417cadd68f3e1911b131",
        "IPY_MODEL_239d22e1722543669408cf09f95ab370",
        "IPY_MODEL_cb692a592a1c449da9dcbb5fe221ba53",
        "IPY_MODEL_7c1ce69d23654bceb99a8658eb47f4c5"
       ],
       "layout": "IPY_MODEL_ea60deb3035540ecacbc0b01a3c42430"
      }
     },
     "9a210ad450b042149c196626f0c5143e": {
      "model_module": "@jupyter-widgets/base",
      "model_module_version": "1.2.0",
      "model_name": "LayoutModel",
      "state": {}
     },
     "9a3462499f0443e78f66f6146160750e": {
      "model_module": "@jupyter-widgets/output",
      "model_module_version": "1.0.0",
      "model_name": "OutputModel",
      "state": {
       "layout": "IPY_MODEL_da7c553eea1d444cb713806e03e2298f",
       "outputs": [
        {
         "data": {
          "image/png": "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\n",
          "text/plain": "<Figure size 576x432 with 1 Axes>"
         },
         "metadata": {
          "needs_background": "light"
         },
         "output_type": "display_data"
        }
       ]
      }
     },
     "9a3b4dc9cccf461a96d75a2cad769db3": {
      "model_module": "@jupyter-widgets/base",
      "model_module_version": "1.2.0",
      "model_name": "LayoutModel",
      "state": {
       "overflow": "hidden"
      }
     },
     "9b7cb538729c469ab1574127d321cf7a": {
      "model_module": "@jupyter-widgets/controls",
      "model_module_version": "1.5.0",
      "model_name": "DescriptionStyleModel",
      "state": {
       "description_width": "initial"
      }
     },
     "9c4e58fd5ea8495d983747b1976b1365": {
      "model_module": "@jupyter-widgets/controls",
      "model_module_version": "1.5.0",
      "model_name": "HTMLModel",
      "state": {
       "layout": "IPY_MODEL_9243b6b9a6c04a24b5cfeed6a35e7085",
       "style": "IPY_MODEL_c45fb85605a84cacb2c545110ffbde3d",
       "value": "\n        <style>\n\n        .left-label {\n            width: 30%;\n        }\n\n        .card-panel {\n            -webkit-transition: -webkit-box-shadow .25s;\n            transition: -webkit-box-shadow .25s;\n            transition: box-shadow .25s;\n            transition: box-shadow .25s, -webkit-box-shadow .25s;\n            padding: 24px;\n            margin: 0.5rem 0 1rem 0;\n            border-radius: 2px;\n            background-color: #fff;\n        }\n\n        .card {\n            position: relative;\n            margin: 0.5rem 0.1rem 1rem 0.2rem;\n            background-color: #fff;\n            -webkit-transition: -webkit-box-shadow .25s;\n            transition: -webkit-box-shadow .25s;\n            transition: box-shadow .25s;\n            transition: box-shadow .25s, -webkit-box-shadow .25s;\n            border-radius: 2px;\n            box-shadow: 0 2px 2px 0 rgb(0 0 0 / 14%), 0 3px 1px -2px rgb(0 0 0 / 12%), 0 1px 5px 0 rgb(0 0 0 / 20%);\n            padding: 24px;\n            color: white;\n        }\n\n        .card .card-title {\n            font-size: 24px;\n            font-weight: 300;\n        }\n\n        @media only screen and (min-width: 800px) {\n            /* For notebook: */\n            .card {width: 99% !important;}\n        }\n\n        @media only screen and (min-width: 1400px) {\n            /* For colab: */\n            .card {width: 99% !important;}\n        }\n\n        .blue-grey.darken-1 {\n            background-color: #546e7a !important;\n        }\n\n        .small-card {\n            position: relative;\n            margin: 0.5rem 0 1rem 0;\n            background-color: #fff;\n            -webkit-transition: -webkit-box-shadow .25s;\n            transition: -webkit-box-shadow .25s;\n            transition: box-shadow .25s;\n            transition: box-shadow .25s, -webkit-box-shadow .25s;\n            border-radius: 2px;\n            box-shadow: 0 2px 2px 0 rgb(0 0 0 / 14%), 0 3px 1px -2px rgb(0 0 0 / 12%), 0 1px 5px 0 rgb(0 0 0 / 20%);\n            padding: 0px 5px 0px 5px;\n            color: white;\n        }\n\n        .inner-card {\n            position: relative;\n            background-color: #fff;\n            -webkit-transition: -webkit-box-shadow .25s;\n            transition: -webkit-box-shadow .25s;\n            transition: box-shadow .25s;\n            transition: box-shadow .25s, -webkit-box-shadow .25s;\n            border-radius: 2px;\n            box-shadow: 0 2px 2px 0 rgb(0 0 0 / 14%), 0 3px 1px -2px rgb(0 0 0 / 12%), 0 1px 5px 0 rgb(0 0 0 / 20%);\n            padding: 20px;\n            color: white;\n            margin: 0px 1px 1px 1px;\n        }\n\n        .card-with-tab {\n            position: relative;\n            margin: 0.5rem 0.1rem 1rem 0.2rem;\n            background-color: #fff;\n            -webkit-transition: -webkit-box-shadow .25s;\n            transition: -webkit-box-shadow .25s;\n            transition: box-shadow .25s;\n            transition: box-shadow .25s, -webkit-box-shadow .25s;\n            border-radius: 2px;\n            box-shadow: 0 2px 2px 0 rgb(0 0 0 / 14%), 0 3px 1px -2px rgb(0 0 0 / 12%), 0 1px 5px 0 rgb(0 0 0 / 20%);\n            padding: 24px;\n            color: white;\n        }\n\n        .card-with-tab button {\n            width: auto;\n            padding: 12px 40px;\n        }\n\n        .list {\n            padding: 0px 10px;\n            box-shadow: 0 2px 2px 0 rgb(0 0 0 / 14%), 0 3px 1px -2px rgb(0 0 0 / 12%), 0 1px 5px 0 rgb(0 0 0 / 20%);\n            margin: 0px 1px 60px 1px;\n        }\n\n        .list-item {\n            padding: 10px 0px;\n            border-width: 0;\n            border-style: solid;\n            border-color: rgba(0, 0, 0, 0.08);\n            border-bottom-width: thin;\n        }\n\n        .divider {\n            margin: 10px 0px;\n            border-width: 0;\n            border-style: solid;\n            border-color: rgba(0, 0, 0, 0.08);\n            border-bottom-width: thin;\n        }\n\n        .hr {\n            margin: 0;\n            -webkit-flex-shrink: 0;\n            -ms-flex-negative: 0;\n            flex-shrink: 0;\n            border-width: 0;\n            border-style: solid;\n            border-color: rgba(0, 0, 0, 0.08);\n            border-bottom-width: thin;\n        }\n\n        .notification {\n            transition: box-shadow 300ms cubic-bezier(0.4, 0, 0.2, 1) 0ms;\n            border-radius: 4px;\n            box-shadow: 0 2px 2px 0 rgb(0 0 0 / 14%), 0 3px 1px -2px rgb(0 0 0 / 12%), 0 1px 5px 0 rgb(0 0 0 / 20%);\n            font-family: Roboto, Helvetica, Arial, sans-serif;\n            font-weight: 500;\n            font-size: 12px;\n            line-height: 1.43;\n            letter-spacing: 0.01071em;\n            background-color: rgb(2, 136, 209);\n            display: flex;\n            padding: 6px 16px;\n            color: rgb(255, 255, 255);\n            margin-top: 10px;\n        }\n\n        .success {\n            background-color: #EDF7ED;\n            color: #1E4620;\n        }\n\n        .error {\n            background-color: #FDEDED;\n            color: #5F2120;\n        }\n\n        .info {\n            background-color: #E5F6FD;\n            color: #528298;\n        }\n\n        .warn {\n            background-color: #FFF4E5;\n            color: #663C00;\n        }\n\n        .margin-top-20 {\n            margin-top: 20px;\n        }\n\n        .hide {\n            display: none;\n        }\n\n        .pbtn {\n            display: inline-flex;\n            -webkit-box-align: center;\n            align-items: center;\n            -webkit-box-pack: center;\n            justify-content: center;\n            position: relative;\n            box-sizing: border-box;\n            -webkit-tap-highlight-color: transparent;\n            outline: 0px;\n            border: 0px;\n            margin: 0px;\n            cursor: pointer;\n            user-select: none;\n            vertical-align: middle;\n            appearance: none;\n            text-decoration: none;\n            font-family: Roboto, Helvetica, Arial, sans-serif;\n            font-weight: 550;\n            font-size: 12px;\n            line-height: 1.75;\n            letter-spacing: 0.02857em;\n            text-transform: uppercase;\n            min-width: 64px;\n            padding: 6px 16px;\n            border-radius: 4px;\n            transition: background-color 250ms cubic-bezier(0.4, 0, 0.2, 1) 0ms, box-shadow 250ms cubic-bezier(0.4, 0, 0.2, 1) 0ms, border-color 250ms cubic-bezier(0.4, 0, 0.2, 1) 0ms, color 250ms cubic-bezier(0.4, 0, 0.2, 1) 0ms;\n            color: rgb(255, 255, 255);\n            background-color: #D71E28;\n            box-shadow: rgb(0 0 0 / 20%) 0px 3px 1px -2px, rgb(0 0 0 / 14%) 0px 2px 2px 0px, rgb(0 0 0 / 12%) 0px 1px 5px 0px;\n        }\n\n        .jp-OutputArea-output {\n            flex-grow: 1;\n            flex-shrink: 1;\n            margin: 0px;\n        }\n\n        .output_subarea {\n            padding: 0px !important;\n        }\n\n        .ptable, .pth, .ptd {\n            border: none;\n        }\n\n        .pth, .ptd {\n            max-width: 150px;\n            white-space: nowrap;\n            overflow: hidden;\n            -o-text-overflow: ellipsis;\n            -ms-text-overflow: ellipsis;\n            text-overflow: ellipsis;\n        }\n\n        .ptable {\n            display: table;\n            border-collapse: collapse;\n            border-spacing: 0;\n        }\n\n        .ptable.striped .ptr {\n            border-bottom: none;\n        }\n\n        .ptable.striped > .ptbody > .ptr:nth-child(odd) {\n            background-color: rgba(242, 242, 242, 0.5);\n        }\n\n        .ptable.striped > .ptbody > .ptr > .ptd {\n            border-radius: 0;\n        }\n\n        .ptable.highlight > .ptbody > .ptr {\n            -webkit-transition: background-color .25s ease;\n            transition: background-color .25s ease;\n        }\n\n        .ptable.highlight > .ptbody > .ptr:hover {\n            background-color: rgba(242, 242, 242, 0.5);\n        }\n\n        .ptable.centered .pthead .ptr .pth, .ptable.centered .ptbody .ptr .ptd {\n            text-align: center;\n        }\n\n        .ptr {\n            border-bottom: 1px solid rgba(0, 0, 0, 0.12);\n        }\n\n        .ptr.hightlight {\n            background-color: yellow !important;\n        }\n\n        .ptd, .pth {\n            padding: 0.2rem 0.6rem;\n            display: table-cell;\n            text-align: right;\n            vertical-align: middle;\n            border-radius: 2px;\n            position: relative;\n        }\n\n        .ptr.grey {\n            background-color: grey !important;\n        }\n\n        .ptr.strikeout .ptd:before {\n            content: \" \";\n            position: absolute;\n            top: 50%;\n            left: 0;\n            border-bottom: 1px solid #111;\n            width: 100%;\n        }\n\n        .widget-toggle-button {\n            display: inline-flex;\n            -webkit-box-align: center;\n            align-items: center;\n            -webkit-box-pack: center;\n            justify-content: center;\n            box-sizing: border-box;\n            -webkit-tap-highlight-color: transparent;\n            background-color: transparent !important;\n            outline: 0px;\n            border: 0px;\n            border-bottom: 2px solid #E4E4E4 !important;\n            box-shadow: none !important;\n            margin: 0px !important;\n            border-radius: 0px;\n            cursor: pointer;\n            user-select: none;\n            vertical-align: middle;\n            appearance: none;\n            text-decoration: none;\n            font-family: Roboto, Helvetica, Arial, sans-serif;\n            font-weight: 500;\n            font-size: 14px;\n            line-height: 1.25;\n            letter-spacing: 0.02857em;\n            max-width: 360px;\n            min-width: 90px;\n            position: relative;\n            min-height: 48px;\n            flex-shrink: 0;\n            padding: 12px 16px;\n            overflow: hidden;\n            white-space: normal;\n            text-align: center;\n            flex-direction: column;\n            color: rgba(0, 0, 0, 0.6);\n        }\n\n        .narrow-accordion .jupyter-widget-Accordion-child .jupyter-widget-Collapse-header{\n            padding: 5px;\n        }  \n\n        .mod-active {\n            color: rgb(25, 118, 210) !important;\n            border-bottom: 2px solid rgb(25, 118, 210) !important;\n        }\n\n        .narrow-tab button {\n            max-width: 15%;\n        }\n\n        .narrow-tab-fairness button {\n            max-width: 20%;\n        }\n        .narrow-tab-fs button {\n            max-width: 25%;\n        }\n\n        .overflow-fix .jupyter-widgets {\n            overflow: auto;\n        }\n\n        .inner-padding {\n            padding-top: 20px;\n        }\n\n        .fix-img img {\n            width: 100%;\n        }\n\n        .fix-img-half img {\n            width: 50%;\n        }\n\n        .flex-reverse-for-update-button {\n            flex-direction: row-reverse;\n            margin-right: 50px;\n        }\n\n        .data-summary-tab {\n            max-height: 400px;\n        }\n\n        .restricted_table_height {\n            max-height: 450px\n        }\n\n        .input-width-with-parent .widget-dropdown {\n            width: 100%;\n        }\n\n        .input-width-with-parent .widget-text {\n            width: 100%;\n        }\n\n        .no-margin {\n            margin: 0px;\n        }\n\n        .widget-hprogress label {\n            text-align: left;\n        }\n\n        .widget-dropdown label {\n            margin-right: 10px;\n        }\n\n        .form .widget-dropdown {\n            width: auto;\n        }\n\n        .form .widget-text {\n            width: auto;\n        }\n\n        .form p {\n            margin: 0px;\n        }\n\n        .widget-dropdown {\n            white-space: nowrap;\n            overflow: hidden;\n            -o-text-overflow: ellipsis;\n            -ms-text-overflow: ellipsis;\n            text-overflow: ellipsis;\n        }\n\n        .progress-train label {\n            margin-right: 10px;\n        }\n\n        select {\n            height: 97% !important;\n        }\n\n        .no-overflow {\n            overflow: none;\n        }\n\n        .split-btn button {\n            margin-bottom: 2px;\n        }\n\n        .register-btn {\n            width: 50%\n        }\n\n        .register-btn-colab {\n            width: 40%\n        }\n\n        .fix-config-from-overflow .jp-OutputArea-child {\n            display: inherit;\n        }\n        \n        .checkbox-center input[type=\"checkbox\"] {\n            vertical-align: middle;\n        }\n\n        input[type=\"checkbox\"] {\n            vertical-align: middle;\n        }\n\n        </style>\n        "
      }
     },
     "9c522bf39ea34579a382c0b2a4c8e366": {
      "model_module": "@jupyter-widgets/base",
      "model_module_version": "1.2.0",
      "model_name": "LayoutModel",
      "state": {
       "overflow": "hidden",
       "width": "80%"
      }
     },
     "9d78aef62f0347e1bd7822c4da4d80ab": {
      "model_module": "@jupyter-widgets/controls",
      "model_module_version": "1.5.0",
      "model_name": "DescriptionStyleModel",
      "state": {
       "description_width": ""
      }
     },
     "9d89230b5e5c45b3a529360bbf506f96": {
      "model_module": "@jupyter-widgets/controls",
      "model_module_version": "1.5.0",
      "model_name": "HTMLModel",
      "state": {
       "layout": "IPY_MODEL_3c6fbf948ba646708fe2da3c87eb013c",
       "style": "IPY_MODEL_e3f07a431983419e97d04967a3bd8a5b",
       "value": "<div style='margin-top: 5px'></div>"
      }
     },
     "9e1164bb86994298bd76302102d83152": {
      "model_module": "@jupyter-widgets/controls",
      "model_module_version": "1.5.0",
      "model_name": "HTMLModel",
      "state": {
       "layout": "IPY_MODEL_d468f9d4190746fdbabd2305fff10618",
       "style": "IPY_MODEL_8f4363c3f6664a59b1eb90bf22686415",
       "value": "\n        <style>\n\n        .left-label {\n            width: 30%;\n        }\n\n        .card-panel {\n            -webkit-transition: -webkit-box-shadow .25s;\n            transition: -webkit-box-shadow .25s;\n            transition: box-shadow .25s;\n            transition: box-shadow .25s, -webkit-box-shadow .25s;\n            padding: 24px;\n            margin: 0.5rem 0 1rem 0;\n            border-radius: 2px;\n            background-color: #fff;\n        }\n\n        .card {\n            position: relative;\n            margin: 0.5rem 0.1rem 1rem 0.2rem;\n            background-color: #fff;\n            -webkit-transition: -webkit-box-shadow .25s;\n            transition: -webkit-box-shadow .25s;\n            transition: box-shadow .25s;\n            transition: box-shadow .25s, -webkit-box-shadow .25s;\n            border-radius: 2px;\n            box-shadow: 0 2px 2px 0 rgb(0 0 0 / 14%), 0 3px 1px -2px rgb(0 0 0 / 12%), 0 1px 5px 0 rgb(0 0 0 / 20%);\n            padding: 24px;\n            color: white;\n        }\n\n        .card .card-title {\n            font-size: 24px;\n            font-weight: 300;\n        }\n\n        @media only screen and (min-width: 800px) {\n            /* For notebook: */\n            .card {width: 99% !important;}\n        }\n\n        @media only screen and (min-width: 1400px) {\n            /* For colab: */\n            .card {width: 99% !important;}\n        }\n\n        .blue-grey.darken-1 {\n            background-color: #546e7a !important;\n        }\n\n        .small-card {\n            position: relative;\n            margin: 0.5rem 0 1rem 0;\n            background-color: #fff;\n            -webkit-transition: -webkit-box-shadow .25s;\n            transition: -webkit-box-shadow .25s;\n            transition: box-shadow .25s;\n            transition: box-shadow .25s, -webkit-box-shadow .25s;\n            border-radius: 2px;\n            box-shadow: 0 2px 2px 0 rgb(0 0 0 / 14%), 0 3px 1px -2px rgb(0 0 0 / 12%), 0 1px 5px 0 rgb(0 0 0 / 20%);\n            padding: 0px 5px 0px 5px;\n            color: white;\n        }\n\n        .inner-card {\n            position: relative;\n            background-color: #fff;\n            -webkit-transition: -webkit-box-shadow .25s;\n            transition: -webkit-box-shadow .25s;\n            transition: box-shadow .25s;\n            transition: box-shadow .25s, -webkit-box-shadow .25s;\n            border-radius: 2px;\n            box-shadow: 0 2px 2px 0 rgb(0 0 0 / 14%), 0 3px 1px -2px rgb(0 0 0 / 12%), 0 1px 5px 0 rgb(0 0 0 / 20%);\n            padding: 20px;\n            color: white;\n            margin: 0px 1px 1px 1px;\n        }\n\n        .card-with-tab {\n            position: relative;\n            margin: 0.5rem 0.1rem 1rem 0.2rem;\n            background-color: #fff;\n            -webkit-transition: -webkit-box-shadow .25s;\n            transition: -webkit-box-shadow .25s;\n            transition: box-shadow .25s;\n            transition: box-shadow .25s, -webkit-box-shadow .25s;\n            border-radius: 2px;\n            box-shadow: 0 2px 2px 0 rgb(0 0 0 / 14%), 0 3px 1px -2px rgb(0 0 0 / 12%), 0 1px 5px 0 rgb(0 0 0 / 20%);\n            padding: 24px;\n            color: white;\n        }\n\n        .card-with-tab button {\n            width: auto;\n            padding: 12px 40px;\n        }\n\n        .list {\n            padding: 0px 10px;\n            box-shadow: 0 2px 2px 0 rgb(0 0 0 / 14%), 0 3px 1px -2px rgb(0 0 0 / 12%), 0 1px 5px 0 rgb(0 0 0 / 20%);\n            margin: 0px 1px 60px 1px;\n        }\n\n        .list-item {\n            padding: 10px 0px;\n            border-width: 0;\n            border-style: solid;\n            border-color: rgba(0, 0, 0, 0.08);\n            border-bottom-width: thin;\n        }\n\n        .divider {\n            margin: 10px 0px;\n            border-width: 0;\n            border-style: solid;\n            border-color: rgba(0, 0, 0, 0.08);\n            border-bottom-width: thin;\n        }\n\n        .hr {\n            margin: 0;\n            -webkit-flex-shrink: 0;\n            -ms-flex-negative: 0;\n            flex-shrink: 0;\n            border-width: 0;\n            border-style: solid;\n            border-color: rgba(0, 0, 0, 0.08);\n            border-bottom-width: thin;\n        }\n\n        .notification {\n            transition: box-shadow 300ms cubic-bezier(0.4, 0, 0.2, 1) 0ms;\n            border-radius: 4px;\n            box-shadow: 0 2px 2px 0 rgb(0 0 0 / 14%), 0 3px 1px -2px rgb(0 0 0 / 12%), 0 1px 5px 0 rgb(0 0 0 / 20%);\n            font-family: Roboto, Helvetica, Arial, sans-serif;\n            font-weight: 500;\n            font-size: 12px;\n            line-height: 1.43;\n            letter-spacing: 0.01071em;\n            background-color: rgb(2, 136, 209);\n            display: flex;\n            padding: 6px 16px;\n            color: rgb(255, 255, 255);\n            margin-top: 10px;\n        }\n\n        .success {\n            background-color: #EDF7ED;\n            color: #1E4620;\n        }\n\n        .error {\n            background-color: #FDEDED;\n            color: #5F2120;\n        }\n\n        .info {\n            background-color: #E5F6FD;\n            color: #528298;\n        }\n\n        .warn {\n            background-color: #FFF4E5;\n            color: #663C00;\n        }\n\n        .margin-top-20 {\n            margin-top: 20px;\n        }\n\n        .hide {\n            display: none;\n        }\n\n        .pbtn {\n            display: inline-flex;\n            -webkit-box-align: center;\n            align-items: center;\n            -webkit-box-pack: center;\n            justify-content: center;\n            position: relative;\n            box-sizing: border-box;\n            -webkit-tap-highlight-color: transparent;\n            outline: 0px;\n            border: 0px;\n            margin: 0px;\n            cursor: pointer;\n            user-select: none;\n            vertical-align: middle;\n            appearance: none;\n            text-decoration: none;\n            font-family: Roboto, Helvetica, Arial, sans-serif;\n            font-weight: 550;\n            font-size: 12px;\n            line-height: 1.75;\n            letter-spacing: 0.02857em;\n            text-transform: uppercase;\n            min-width: 64px;\n            padding: 6px 16px;\n            border-radius: 4px;\n            transition: background-color 250ms cubic-bezier(0.4, 0, 0.2, 1) 0ms, box-shadow 250ms cubic-bezier(0.4, 0, 0.2, 1) 0ms, border-color 250ms cubic-bezier(0.4, 0, 0.2, 1) 0ms, color 250ms cubic-bezier(0.4, 0, 0.2, 1) 0ms;\n            color: rgb(255, 255, 255);\n            background-color: #D71E28;\n            box-shadow: rgb(0 0 0 / 20%) 0px 3px 1px -2px, rgb(0 0 0 / 14%) 0px 2px 2px 0px, rgb(0 0 0 / 12%) 0px 1px 5px 0px;\n        }\n\n        .jp-OutputArea-output {\n            flex-grow: 1;\n            flex-shrink: 1;\n            margin: 0px;\n        }\n\n        .output_subarea {\n            padding: 0px !important;\n        }\n\n        .ptable, .pth, .ptd {\n            border: none;\n        }\n\n        .pth, .ptd {\n            max-width: 150px;\n            white-space: nowrap;\n            overflow: hidden;\n            -o-text-overflow: ellipsis;\n            -ms-text-overflow: ellipsis;\n            text-overflow: ellipsis;\n        }\n\n        .ptable {\n            display: table;\n            border-collapse: collapse;\n            border-spacing: 0;\n        }\n\n        .ptable.striped .ptr {\n            border-bottom: none;\n        }\n\n        .ptable.striped > .ptbody > .ptr:nth-child(odd) {\n            background-color: rgba(242, 242, 242, 0.5);\n        }\n\n        .ptable.striped > .ptbody > .ptr > .ptd {\n            border-radius: 0;\n        }\n\n        .ptable.highlight > .ptbody > .ptr {\n            -webkit-transition: background-color .25s ease;\n            transition: background-color .25s ease;\n        }\n\n        .ptable.highlight > .ptbody > .ptr:hover {\n            background-color: rgba(242, 242, 242, 0.5);\n        }\n\n        .ptable.centered .pthead .ptr .pth, .ptable.centered .ptbody .ptr .ptd {\n            text-align: center;\n        }\n\n        .ptr {\n            border-bottom: 1px solid rgba(0, 0, 0, 0.12);\n        }\n\n        .ptr.hightlight {\n            background-color: yellow !important;\n        }\n\n        .ptd, .pth {\n            padding: 0.2rem 0.6rem;\n            display: table-cell;\n            text-align: right;\n            vertical-align: middle;\n            border-radius: 2px;\n            position: relative;\n        }\n\n        .ptr.grey {\n            background-color: grey !important;\n        }\n\n        .ptr.strikeout .ptd:before {\n            content: \" \";\n            position: absolute;\n            top: 50%;\n            left: 0;\n            border-bottom: 1px solid #111;\n            width: 100%;\n        }\n\n        .widget-toggle-button {\n            display: inline-flex;\n            -webkit-box-align: center;\n            align-items: center;\n            -webkit-box-pack: center;\n            justify-content: center;\n            box-sizing: border-box;\n            -webkit-tap-highlight-color: transparent;\n            background-color: transparent !important;\n            outline: 0px;\n            border: 0px;\n            border-bottom: 2px solid #E4E4E4 !important;\n            box-shadow: none !important;\n            margin: 0px !important;\n            border-radius: 0px;\n            cursor: pointer;\n            user-select: none;\n            vertical-align: middle;\n            appearance: none;\n            text-decoration: none;\n            font-family: Roboto, Helvetica, Arial, sans-serif;\n            font-weight: 500;\n            font-size: 14px;\n            line-height: 1.25;\n            letter-spacing: 0.02857em;\n            max-width: 360px;\n            min-width: 90px;\n            position: relative;\n            min-height: 48px;\n            flex-shrink: 0;\n            padding: 12px 16px;\n            overflow: hidden;\n            white-space: normal;\n            text-align: center;\n            flex-direction: column;\n            color: rgba(0, 0, 0, 0.6);\n        }\n\n        .narrow-accordion .jupyter-widget-Accordion-child .jupyter-widget-Collapse-header{\n            padding: 5px;\n        }  \n\n        .mod-active {\n            color: rgb(25, 118, 210) !important;\n            border-bottom: 2px solid rgb(25, 118, 210) !important;\n        }\n\n        .narrow-tab button {\n            max-width: 15%;\n        }\n\n        .narrow-tab-fairness button {\n            max-width: 20%;\n        }\n        .narrow-tab-fs button {\n            max-width: 25%;\n        }\n\n        .overflow-fix .jupyter-widgets {\n            overflow: auto;\n        }\n\n        .inner-padding {\n            padding-top: 20px;\n        }\n\n        .fix-img img {\n            width: 100%;\n        }\n\n        .fix-img-half img {\n            width: 50%;\n        }\n\n        .flex-reverse-for-update-button {\n            flex-direction: row-reverse;\n            margin-right: 50px;\n        }\n\n        .data-summary-tab {\n            max-height: 400px;\n        }\n\n        .restricted_table_height {\n            max-height: 450px\n        }\n\n        .input-width-with-parent .widget-dropdown {\n            width: 100%;\n        }\n\n        .input-width-with-parent .widget-text {\n            width: 100%;\n        }\n\n        .no-margin {\n            margin: 0px;\n        }\n\n        .widget-hprogress label {\n            text-align: left;\n        }\n\n        .widget-dropdown label {\n            margin-right: 10px;\n        }\n\n        .form .widget-dropdown {\n            width: auto;\n        }\n\n        .form .widget-text {\n            width: auto;\n        }\n\n        .form p {\n            margin: 0px;\n        }\n\n        .widget-dropdown {\n            white-space: nowrap;\n            overflow: hidden;\n            -o-text-overflow: ellipsis;\n            -ms-text-overflow: ellipsis;\n            text-overflow: ellipsis;\n        }\n\n        .progress-train label {\n            margin-right: 10px;\n        }\n\n        select {\n            height: 97% !important;\n        }\n\n        .no-overflow {\n            overflow: none;\n        }\n\n        .split-btn button {\n            margin-bottom: 2px;\n        }\n\n        .register-btn {\n            width: 50%\n        }\n\n        .register-btn-colab {\n            width: 40%\n        }\n\n        .fix-config-from-overflow .jp-OutputArea-child {\n            display: inherit;\n        }\n        \n        .checkbox-center input[type=\"checkbox\"] {\n            vertical-align: middle;\n        }\n\n        input[type=\"checkbox\"] {\n            vertical-align: middle;\n        }\n\n        </style>\n        "
      }
     },
     "9e201e2ee0dc4d48a9773a48704a2395": {
      "model_module": "@jupyter-widgets/base",
      "model_module_version": "1.2.0",
      "model_name": "LayoutModel",
      "state": {}
     },
     "9faf087ecfa14d4daefca688466971ff": {
      "model_module": "@jupyter-widgets/controls",
      "model_module_version": "1.5.0",
      "model_name": "BoundedIntTextModel",
      "state": {
       "layout": "IPY_MODEL_28e4b0d38eec4f7b8047deb79d9f3b52",
       "max": 8,
       "min": 1,
       "style": "IPY_MODEL_93073d63bbec4a4b9fe38aa8f4ffbbac",
       "value": 4
      }
     },
     "9fb7ef59ff644ae6a06b38503c333d75": {
      "model_module": "@jupyter-widgets/controls",
      "model_module_version": "1.5.0",
      "model_name": "HTMLModel",
      "state": {
       "layout": "IPY_MODEL_0f43839e9f1b477aaf9122a7ead5bb6a",
       "style": "IPY_MODEL_14a796dbdc6a4c5a8a3d371dab8cf6e8",
       "value": "<div style='margin-top: 5px'></div>"
      }
     },
     "a1be16502c034376a94cd78c306147ce": {
      "model_module": "@jupyter-widgets/base",
      "model_module_version": "1.2.0",
      "model_name": "LayoutModel",
      "state": {}
     },
     "a248bff3a14947cea9707c1fbe75664a": {
      "model_module": "@jupyter-widgets/base",
      "model_module_version": "1.2.0",
      "model_name": "LayoutModel",
      "state": {}
     },
     "a26e54210c134237b282a04251344ed0": {
      "model_module": "@jupyter-widgets/controls",
      "model_module_version": "1.5.0",
      "model_name": "VBoxModel",
      "state": {
       "children": [
        "IPY_MODEL_0c20a63c4b444cef8d04a401513d947b",
        "IPY_MODEL_bbce269fedcd40c5b2db1d8b5163242c"
       ],
       "layout": "IPY_MODEL_21ee11a32acd4dbe8665e98b176a6630"
      }
     },
     "a39924f62e994f8e9293676467f1511e": {
      "model_module": "@jupyter-widgets/output",
      "model_module_version": "1.0.0",
      "model_name": "OutputModel",
      "state": {
       "layout": "IPY_MODEL_00dd3467a4144e989fb7936e98604806",
       "outputs": [
        {
         "data": {
          "text/html": "<p class=\"notification info\">Default Data Preparation Done</p>",
          "text/plain": "<IPython.core.display.HTML object>"
         },
         "metadata": {},
         "output_type": "display_data"
        }
       ]
      }
     },
     "a488cf76107445e9a3f4d22bdec98072": {
      "model_module": "@jupyter-widgets/controls",
      "model_module_version": "1.5.0",
      "model_name": "HTMLModel",
      "state": {
       "layout": "IPY_MODEL_0b84c9bd2ad44c03abef1576cacb8b81",
       "style": "IPY_MODEL_f655f08511f64b7ba2ce01902d1d3f6f",
       "value": "\n        <style>\n\n        .left-label {\n            width: 30%;\n        }\n\n        .card-panel {\n            -webkit-transition: -webkit-box-shadow .25s;\n            transition: -webkit-box-shadow .25s;\n            transition: box-shadow .25s;\n            transition: box-shadow .25s, -webkit-box-shadow .25s;\n            padding: 24px;\n            margin: 0.5rem 0 1rem 0;\n            border-radius: 2px;\n            background-color: #fff;\n        }\n\n        .card {\n            position: relative;\n            margin: 0.5rem 0.1rem 1rem 0.2rem;\n            background-color: #fff;\n            -webkit-transition: -webkit-box-shadow .25s;\n            transition: -webkit-box-shadow .25s;\n            transition: box-shadow .25s;\n            transition: box-shadow .25s, -webkit-box-shadow .25s;\n            border-radius: 2px;\n            box-shadow: 0 2px 2px 0 rgb(0 0 0 / 14%), 0 3px 1px -2px rgb(0 0 0 / 12%), 0 1px 5px 0 rgb(0 0 0 / 20%);\n            padding: 24px;\n            color: white;\n        }\n\n        .card .card-title {\n            font-size: 24px;\n            font-weight: 300;\n        }\n\n        @media only screen and (min-width: 800px) {\n            /* For notebook: */\n            .card {width: 99% !important;}\n        }\n\n        @media only screen and (min-width: 1400px) {\n            /* For colab: */\n            .card {width: 99% !important;}\n        }\n\n        .blue-grey.darken-1 {\n            background-color: #546e7a !important;\n        }\n\n        .small-card {\n            position: relative;\n            margin: 0.5rem 0 1rem 0;\n            background-color: #fff;\n            -webkit-transition: -webkit-box-shadow .25s;\n            transition: -webkit-box-shadow .25s;\n            transition: box-shadow .25s;\n            transition: box-shadow .25s, -webkit-box-shadow .25s;\n            border-radius: 2px;\n            box-shadow: 0 2px 2px 0 rgb(0 0 0 / 14%), 0 3px 1px -2px rgb(0 0 0 / 12%), 0 1px 5px 0 rgb(0 0 0 / 20%);\n            padding: 0px 5px 0px 5px;\n            color: white;\n        }\n\n        .inner-card {\n            position: relative;\n            background-color: #fff;\n            -webkit-transition: -webkit-box-shadow .25s;\n            transition: -webkit-box-shadow .25s;\n            transition: box-shadow .25s;\n            transition: box-shadow .25s, -webkit-box-shadow .25s;\n            border-radius: 2px;\n            box-shadow: 0 2px 2px 0 rgb(0 0 0 / 14%), 0 3px 1px -2px rgb(0 0 0 / 12%), 0 1px 5px 0 rgb(0 0 0 / 20%);\n            padding: 20px;\n            color: white;\n            margin: 0px 1px 1px 1px;\n        }\n\n        .card-with-tab {\n            position: relative;\n            margin: 0.5rem 0.1rem 1rem 0.2rem;\n            background-color: #fff;\n            -webkit-transition: -webkit-box-shadow .25s;\n            transition: -webkit-box-shadow .25s;\n            transition: box-shadow .25s;\n            transition: box-shadow .25s, -webkit-box-shadow .25s;\n            border-radius: 2px;\n            box-shadow: 0 2px 2px 0 rgb(0 0 0 / 14%), 0 3px 1px -2px rgb(0 0 0 / 12%), 0 1px 5px 0 rgb(0 0 0 / 20%);\n            padding: 24px;\n            color: white;\n        }\n\n        .card-with-tab button {\n            width: auto;\n            padding: 12px 40px;\n        }\n\n        .list {\n            padding: 0px 10px;\n            box-shadow: 0 2px 2px 0 rgb(0 0 0 / 14%), 0 3px 1px -2px rgb(0 0 0 / 12%), 0 1px 5px 0 rgb(0 0 0 / 20%);\n            margin: 0px 1px 60px 1px;\n        }\n\n        .list-item {\n            padding: 10px 0px;\n            border-width: 0;\n            border-style: solid;\n            border-color: rgba(0, 0, 0, 0.08);\n            border-bottom-width: thin;\n        }\n\n        .divider {\n            margin: 10px 0px;\n            border-width: 0;\n            border-style: solid;\n            border-color: rgba(0, 0, 0, 0.08);\n            border-bottom-width: thin;\n        }\n\n        .hr {\n            margin: 0;\n            -webkit-flex-shrink: 0;\n            -ms-flex-negative: 0;\n            flex-shrink: 0;\n            border-width: 0;\n            border-style: solid;\n            border-color: rgba(0, 0, 0, 0.08);\n            border-bottom-width: thin;\n        }\n\n        .notification {\n            transition: box-shadow 300ms cubic-bezier(0.4, 0, 0.2, 1) 0ms;\n            border-radius: 4px;\n            box-shadow: 0 2px 2px 0 rgb(0 0 0 / 14%), 0 3px 1px -2px rgb(0 0 0 / 12%), 0 1px 5px 0 rgb(0 0 0 / 20%);\n            font-family: Roboto, Helvetica, Arial, sans-serif;\n            font-weight: 500;\n            font-size: 12px;\n            line-height: 1.43;\n            letter-spacing: 0.01071em;\n            background-color: rgb(2, 136, 209);\n            display: flex;\n            padding: 6px 16px;\n            color: rgb(255, 255, 255);\n            margin-top: 10px;\n        }\n\n        .success {\n            background-color: #EDF7ED;\n            color: #1E4620;\n        }\n\n        .error {\n            background-color: #FDEDED;\n            color: #5F2120;\n        }\n\n        .info {\n            background-color: #E5F6FD;\n            color: #528298;\n        }\n\n        .warn {\n            background-color: #FFF4E5;\n            color: #663C00;\n        }\n\n        .margin-top-20 {\n            margin-top: 20px;\n        }\n\n        .hide {\n            display: none;\n        }\n\n        .pbtn {\n            display: inline-flex;\n            -webkit-box-align: center;\n            align-items: center;\n            -webkit-box-pack: center;\n            justify-content: center;\n            position: relative;\n            box-sizing: border-box;\n            -webkit-tap-highlight-color: transparent;\n            outline: 0px;\n            border: 0px;\n            margin: 0px;\n            cursor: pointer;\n            user-select: none;\n            vertical-align: middle;\n            appearance: none;\n            text-decoration: none;\n            font-family: Roboto, Helvetica, Arial, sans-serif;\n            font-weight: 550;\n            font-size: 12px;\n            line-height: 1.75;\n            letter-spacing: 0.02857em;\n            text-transform: uppercase;\n            min-width: 64px;\n            padding: 6px 16px;\n            border-radius: 4px;\n            transition: background-color 250ms cubic-bezier(0.4, 0, 0.2, 1) 0ms, box-shadow 250ms cubic-bezier(0.4, 0, 0.2, 1) 0ms, border-color 250ms cubic-bezier(0.4, 0, 0.2, 1) 0ms, color 250ms cubic-bezier(0.4, 0, 0.2, 1) 0ms;\n            color: rgb(255, 255, 255);\n            background-color: #D71E28;\n            box-shadow: rgb(0 0 0 / 20%) 0px 3px 1px -2px, rgb(0 0 0 / 14%) 0px 2px 2px 0px, rgb(0 0 0 / 12%) 0px 1px 5px 0px;\n        }\n\n        .jp-OutputArea-output {\n            flex-grow: 1;\n            flex-shrink: 1;\n            margin: 0px;\n        }\n\n        .output_subarea {\n            padding: 0px !important;\n        }\n\n        .ptable, .pth, .ptd {\n            border: none;\n        }\n\n        .pth, .ptd {\n            max-width: 150px;\n            white-space: nowrap;\n            overflow: hidden;\n            -o-text-overflow: ellipsis;\n            -ms-text-overflow: ellipsis;\n            text-overflow: ellipsis;\n        }\n\n        .ptable {\n            display: table;\n            border-collapse: collapse;\n            border-spacing: 0;\n        }\n\n        .ptable.striped .ptr {\n            border-bottom: none;\n        }\n\n        .ptable.striped > .ptbody > .ptr:nth-child(odd) {\n            background-color: rgba(242, 242, 242, 0.5);\n        }\n\n        .ptable.striped > .ptbody > .ptr > .ptd {\n            border-radius: 0;\n        }\n\n        .ptable.highlight > .ptbody > .ptr {\n            -webkit-transition: background-color .25s ease;\n            transition: background-color .25s ease;\n        }\n\n        .ptable.highlight > .ptbody > .ptr:hover {\n            background-color: rgba(242, 242, 242, 0.5);\n        }\n\n        .ptable.centered .pthead .ptr .pth, .ptable.centered .ptbody .ptr .ptd {\n            text-align: center;\n        }\n\n        .ptr {\n            border-bottom: 1px solid rgba(0, 0, 0, 0.12);\n        }\n\n        .ptr.hightlight {\n            background-color: yellow !important;\n        }\n\n        .ptd, .pth {\n            padding: 0.2rem 0.6rem;\n            display: table-cell;\n            text-align: right;\n            vertical-align: middle;\n            border-radius: 2px;\n            position: relative;\n        }\n\n        .ptr.grey {\n            background-color: grey !important;\n        }\n\n        .ptr.strikeout .ptd:before {\n            content: \" \";\n            position: absolute;\n            top: 50%;\n            left: 0;\n            border-bottom: 1px solid #111;\n            width: 100%;\n        }\n\n        .widget-toggle-button {\n            display: inline-flex;\n            -webkit-box-align: center;\n            align-items: center;\n            -webkit-box-pack: center;\n            justify-content: center;\n            box-sizing: border-box;\n            -webkit-tap-highlight-color: transparent;\n            background-color: transparent !important;\n            outline: 0px;\n            border: 0px;\n            border-bottom: 2px solid #E4E4E4 !important;\n            box-shadow: none !important;\n            margin: 0px !important;\n            border-radius: 0px;\n            cursor: pointer;\n            user-select: none;\n            vertical-align: middle;\n            appearance: none;\n            text-decoration: none;\n            font-family: Roboto, Helvetica, Arial, sans-serif;\n            font-weight: 500;\n            font-size: 14px;\n            line-height: 1.25;\n            letter-spacing: 0.02857em;\n            max-width: 360px;\n            min-width: 90px;\n            position: relative;\n            min-height: 48px;\n            flex-shrink: 0;\n            padding: 12px 16px;\n            overflow: hidden;\n            white-space: normal;\n            text-align: center;\n            flex-direction: column;\n            color: rgba(0, 0, 0, 0.6);\n        }\n\n        .narrow-accordion .jupyter-widget-Accordion-child .jupyter-widget-Collapse-header{\n            padding: 5px;\n        }  \n\n        .mod-active {\n            color: rgb(25, 118, 210) !important;\n            border-bottom: 2px solid rgb(25, 118, 210) !important;\n        }\n\n        .narrow-tab button {\n            max-width: 15%;\n        }\n\n        .narrow-tab-fairness button {\n            max-width: 20%;\n        }\n        .narrow-tab-fs button {\n            max-width: 25%;\n        }\n\n        .overflow-fix .jupyter-widgets {\n            overflow: auto;\n        }\n\n        .inner-padding {\n            padding-top: 20px;\n        }\n\n        .fix-img img {\n            width: 100%;\n        }\n\n        .fix-img-half img {\n            width: 50%;\n        }\n\n        .flex-reverse-for-update-button {\n            flex-direction: row-reverse;\n            margin-right: 50px;\n        }\n\n        .data-summary-tab {\n            max-height: 400px;\n        }\n\n        .restricted_table_height {\n            max-height: 450px\n        }\n\n        .input-width-with-parent .widget-dropdown {\n            width: 100%;\n        }\n\n        .input-width-with-parent .widget-text {\n            width: 100%;\n        }\n\n        .no-margin {\n            margin: 0px;\n        }\n\n        .widget-hprogress label {\n            text-align: left;\n        }\n\n        .widget-dropdown label {\n            margin-right: 10px;\n        }\n\n        .form .widget-dropdown {\n            width: auto;\n        }\n\n        .form .widget-text {\n            width: auto;\n        }\n\n        .form p {\n            margin: 0px;\n        }\n\n        .widget-dropdown {\n            white-space: nowrap;\n            overflow: hidden;\n            -o-text-overflow: ellipsis;\n            -ms-text-overflow: ellipsis;\n            text-overflow: ellipsis;\n        }\n\n        .progress-train label {\n            margin-right: 10px;\n        }\n\n        select {\n            height: 97% !important;\n        }\n\n        .no-overflow {\n            overflow: none;\n        }\n\n        .split-btn button {\n            margin-bottom: 2px;\n        }\n\n        .register-btn {\n            width: 50%\n        }\n\n        .register-btn-colab {\n            width: 40%\n        }\n\n        .fix-config-from-overflow .jp-OutputArea-child {\n            display: inherit;\n        }\n        \n        .checkbox-center input[type=\"checkbox\"] {\n            vertical-align: middle;\n        }\n\n        input[type=\"checkbox\"] {\n            vertical-align: middle;\n        }\n\n        </style>\n        "
      }
     },
     "a4a81f95fa884f90b34859e8d296b15b": {
      "model_module": "@jupyter-widgets/controls",
      "model_module_version": "1.5.0",
      "model_name": "DescriptionStyleModel",
      "state": {
       "description_width": "initial"
      }
     },
     "a66fdc1eb13c4a9d9e091c5d9e127b60": {
      "model_module": "@jupyter-widgets/base",
      "model_module_version": "1.2.0",
      "model_name": "LayoutModel",
      "state": {}
     },
     "a6aff8b65eab4f51aea873c2cf3caf9d": {
      "model_module": "@jupyter-widgets/controls",
      "model_module_version": "1.5.0",
      "model_name": "DescriptionStyleModel",
      "state": {
       "description_width": ""
      }
     },
     "a6b2a2a3873945c092e692af63cf966e": {
      "model_module": "@jupyter-widgets/base",
      "model_module_version": "1.2.0",
      "model_name": "LayoutModel",
      "state": {}
     },
     "a7b33a4fc46a460889bea6f22c70b74f": {
      "model_module": "@jupyter-widgets/controls",
      "model_module_version": "1.5.0",
      "model_name": "HBoxModel",
      "state": {
       "children": [
        "IPY_MODEL_588460ef4dd84f5b9390e61622bd2668",
        "IPY_MODEL_6ed69ff7264240baa2ccef305b212120",
        "IPY_MODEL_4100abc295b343aead633ea4716187f7"
       ],
       "layout": "IPY_MODEL_c269dce78fc14a1ab00704a6cd2a0223"
      }
     },
     "a834417447344176aa48a77f524e364c": {
      "model_module": "@jupyter-widgets/output",
      "model_module_version": "1.0.0",
      "model_name": "OutputModel",
      "state": {
       "layout": "IPY_MODEL_879c7e922b034cb8aa3b72c0cba67de1"
      }
     },
     "a91c5c545230465fb8e244637e619916": {
      "model_module": "@jupyter-widgets/controls",
      "model_module_version": "1.5.0",
      "model_name": "VBoxModel",
      "state": {
       "children": [
        "IPY_MODEL_1e976f7a1fde46198df70654aedb6ec1",
        "IPY_MODEL_afc2fcf56d984c9394c892e461e3fab5"
       ],
       "layout": "IPY_MODEL_bbf4bbab6a064309aacd310dd1cd5e77"
      }
     },
     "aa3a107bd021481c9e732d89c27d376c": {
      "model_module": "@jupyter-widgets/base",
      "model_module_version": "1.2.0",
      "model_name": "LayoutModel",
      "state": {}
     },
     "ac5697ecc4434e3ebe6090aa9230997e": {
      "model_module": "@jupyter-widgets/controls",
      "model_module_version": "1.5.0",
      "model_name": "ButtonStyleModel",
      "state": {}
     },
     "ae82f79d82e449de953da6854d3b72a2": {
      "model_module": "@jupyter-widgets/controls",
      "model_module_version": "1.5.0",
      "model_name": "DescriptionStyleModel",
      "state": {
       "description_width": ""
      }
     },
     "af03ef6f4601457a92bde562d0c48878": {
      "model_module": "@jupyter-widgets/controls",
      "model_module_version": "1.5.0",
      "model_name": "ButtonModel",
      "state": {
       "_dom_classes": [
        "pbtn"
       ],
       "button_style": "danger",
       "icon": "history",
       "layout": "IPY_MODEL_ba746a3373594e069622a1206e45f5f9",
       "style": "IPY_MODEL_73d4b81fe8084653b6ee3fe3954ecda1"
      }
     },
     "af2e81e17c6747e3b7f23ccc14d33735": {
      "model_module": "@jupyter-widgets/base",
      "model_module_version": "1.2.0",
      "model_name": "LayoutModel",
      "state": {
       "width": "14%"
      }
     },
     "afc2fcf56d984c9394c892e461e3fab5": {
      "model_module": "@jupyter-widgets/controls",
      "model_module_version": "1.5.0",
      "model_name": "BoundedIntTextModel",
      "state": {
       "layout": "IPY_MODEL_060f13ba97ca497cb2b7b1fc93d0792f",
       "style": "IPY_MODEL_0353891274b947aab347cded88928d75"
      }
     },
     "afcf14c95a9e45b3a2282f9a9e6ebd52": {
      "model_module": "@jupyter-widgets/controls",
      "model_module_version": "1.5.0",
      "model_name": "DescriptionStyleModel",
      "state": {
       "description_width": ""
      }
     },
     "b0c7ff9fc2a444b88c76fb14fbe48397": {
      "model_module": "@jupyter-widgets/controls",
      "model_module_version": "1.5.0",
      "model_name": "HTMLModel",
      "state": {
       "layout": "IPY_MODEL_146af8477e734864b979dec64e374913",
       "style": "IPY_MODEL_e49c4102a7c44de4b0a443dd93c59876",
       "value": "<p>Split Method:</p>"
      }
     },
     "b108b80c87b342fca9c0ef948243edce": {
      "model_module": "@jupyter-widgets/controls",
      "model_module_version": "1.5.0",
      "model_name": "DropdownModel",
      "state": {
       "_options_labels": [
        "Select",
        "season",
        "yr",
        "mnth",
        "hr",
        "holiday",
        "weekday",
        "workingday",
        "weathersit",
        "temp",
        "atemp",
        "hum",
        "windspeed",
        "cnt"
       ],
       "index": 7,
       "layout": "IPY_MODEL_e1640720f3934b92a97e1922ede5fb22",
       "style": "IPY_MODEL_5bc496b5b8ca4e068ef7882aa58b6cd8"
      }
     },
     "b1814338878e42f2833245b9c2b51749": {
      "model_module": "@jupyter-widgets/base",
      "model_module_version": "1.2.0",
      "model_name": "LayoutModel",
      "state": {}
     },
     "b19dcf587c6c49ffab56af07d751d47d": {
      "model_module": "@jupyter-widgets/controls",
      "model_module_version": "1.5.0",
      "model_name": "HBoxModel",
      "state": {
       "_dom_classes": [
        "form"
       ],
       "children": [
        "IPY_MODEL_0568b767fde8477bb4db242dbe37f5b7",
        "IPY_MODEL_cd29a320302c4f8a9ce2213be885478d",
        "IPY_MODEL_6810ed5341124aaeb69f5dbd046160a1",
        "IPY_MODEL_1afe05a2c21049138dc520b093d69efa",
        "IPY_MODEL_f01ae97da9634d2b99942075e8a83d18",
        "IPY_MODEL_ecafed1eaad141af8a6d045416ec1d59",
        "IPY_MODEL_68e321a4ac684279bbf42881928e5e3b",
        "IPY_MODEL_a26e54210c134237b282a04251344ed0"
       ],
       "layout": "IPY_MODEL_9c522bf39ea34579a382c0b2a4c8e366"
      }
     },
     "b1d6f7aa8ca444639ae91fb010aa1f18": {
      "model_module": "@jupyter-widgets/controls",
      "model_module_version": "1.5.0",
      "model_name": "DescriptionStyleModel",
      "state": {
       "description_width": ""
      }
     },
     "b248b3f5101342fba11445dd6644f8b7": {
      "model_module": "@jupyter-widgets/output",
      "model_module_version": "1.0.0",
      "model_name": "OutputModel",
      "state": {
       "layout": "IPY_MODEL_0bf9a2db293045f9a6ae6a8b95675bf8",
       "outputs": [
        {
         "data": {
          "application/vnd.jupyter.widget-view+json": {
           "model_id": "0848c38c441f4364ba07f7b4646e6e56",
           "version_major": 2,
           "version_minor": 0
          },
          "text/plain": "HTML(value=\"\\n        <table class='ptable striped'>\\n            <thead class='pthead'>\\n                <tr …"
         },
         "metadata": {},
         "output_type": "display_data"
        }
       ]
      }
     },
     "b265f751ec8d41a189f3455eb003a12e": {
      "model_module": "@jupyter-widgets/controls",
      "model_module_version": "1.5.0",
      "model_name": "DescriptionStyleModel",
      "state": {
       "description_width": ""
      }
     },
     "b2c9c1dda1dd42689ae2dac471171f5a": {
      "model_module": "@jupyter-widgets/base",
      "model_module_version": "1.2.0",
      "model_name": "LayoutModel",
      "state": {
       "width": "25px"
      }
     },
     "b3ad5a784cd446539c35b57c6bee7b7a": {
      "model_module": "@jupyter-widgets/controls",
      "model_module_version": "1.5.0",
      "model_name": "ButtonModel",
      "state": {
       "_dom_classes": [
        "pbtn"
       ],
       "button_style": "danger",
       "description": "OK",
       "layout": "IPY_MODEL_efe5fc2cd3d44f3884db4d256c183c60",
       "style": "IPY_MODEL_0737762f7e6d431294ca373cc8f16fb2"
      }
     },
     "b442da8fa9414d32bfd80fdd0745cc58": {
      "model_module": "@jupyter-widgets/controls",
      "model_module_version": "1.5.0",
      "model_name": "DescriptionStyleModel",
      "state": {
       "description_width": ""
      }
     },
     "b4a339233f2448c9bb3180ea8c1ec7cf": {
      "model_module": "@jupyter-widgets/controls",
      "model_module_version": "1.5.0",
      "model_name": "ButtonStyleModel",
      "state": {}
     },
     "b4f712698bb74d15b955aabab1859590": {
      "model_module": "@jupyter-widgets/controls",
      "model_module_version": "1.5.0",
      "model_name": "HTMLModel",
      "state": {
       "layout": "IPY_MODEL_c490400c008841368309b3b49ff6fdbd",
       "style": "IPY_MODEL_b1d6f7aa8ca444639ae91fb010aa1f18",
       "value": "\n        <table class='ptable striped'>\n            <thead class='pthead'>\n                <tr class='ptr'>\n                    <th class='pth'></th><th class='pth'>name</th><th class='pth'>n_missing</th><th class='pth'>n_unique</th><th class='pth'>top1</th><th class='pth'>top2</th><th class='pth'>top3</th><th class='pth'>n_others</th>\n                </tr>\n            </thead>\n\n            <tbody class='ptbody'>\n                <tr class='ptr grey'><td class='ptd'>0</td><td class='ptd'>season</td><td class='ptd'>0</td><td class='ptd'>4</td><td class='ptd'>3.0 : 4496</td><td class='ptd'>2.0 : 4409</td><td class='ptd'>1.0 : 4242</td><td class='ptd'>4232</td></tr><tr class='ptr'><td class='ptd'>1</td><td class='ptd'>yr</td><td class='ptd'>0</td><td class='ptd'>2</td><td class='ptd'>1.0 : 8734</td><td class='ptd'>0.0 : 8645</td><td class='ptd'>0</td><td class='ptd'>0</td></tr><tr class='ptr'><td class='ptd'>2</td><td class='ptd'>holiday</td><td class='ptd'>0</td><td class='ptd'>2</td><td class='ptd'>0.0 : 16879</td><td class='ptd'>1.0 : 500</td><td class='ptd'>0</td><td class='ptd'>0</td></tr><tr class='ptr grey'><td class='ptd'>3</td><td class='ptd'>workingday</td><td class='ptd'>0</td><td class='ptd'>2</td><td class='ptd'>1.0 : 11865</td><td class='ptd'>0.0 : 5514</td><td class='ptd'>0</td><td class='ptd'>0</td></tr><tr class='ptr'><td class='ptd'>4</td><td class='ptd'>weathersit</td><td class='ptd'>0</td><td class='ptd'>4</td><td class='ptd'>1.0 : 11413</td><td class='ptd'>2.0 : 4544</td><td class='ptd'>3.0 : 1419</td><td class='ptd'>3</td></tr>\n            </tbody>\n        </table>\n        "
      }
     },
     "b516e0f94ef44bb8b2f5121b9eb37869": {
      "model_module": "@jupyter-widgets/controls",
      "model_module_version": "1.5.0",
      "model_name": "DescriptionStyleModel",
      "state": {
       "description_width": ""
      }
     },
     "b56948a2dcdb4cfe869fa0fd7808c098": {
      "model_module": "@jupyter-widgets/controls",
      "model_module_version": "1.5.0",
      "model_name": "HTMLModel",
      "state": {
       "layout": "IPY_MODEL_b7d17bb4452941d7b7b97deee03b2f5f",
       "style": "IPY_MODEL_5fc553ce82fc4052b6680dab1d7e9878",
       "value": "<link rel=\"stylesheet\" href=\"//stackpath.bootstrapcdn.com/font-awesome/4.7.0/css/font-awesome.min.css\"/>"
      }
     },
     "b59e4f71eeb34623bef850b099dd46d4": {
      "model_module": "@jupyter-widgets/base",
      "model_module_version": "1.2.0",
      "model_name": "LayoutModel",
      "state": {}
     },
     "b6849edcb38f45ee80bef4cb82dcd89a": {
      "model_module": "@jupyter-widgets/controls",
      "model_module_version": "1.5.0",
      "model_name": "HTMLModel",
      "state": {
       "layout": "IPY_MODEL_6d45827e95a647ebaaf3444714e2218c",
       "style": "IPY_MODEL_b8962e870a154eda9757b50adbc64f58",
       "value": "<p>Test Ratio:</p>"
      }
     },
     "b6df06660d27405ab44f36bfff41d5b0": {
      "model_module": "@jupyter-widgets/base",
      "model_module_version": "1.2.0",
      "model_name": "LayoutModel",
      "state": {}
     },
     "b7b75731449a49fda8ef4dd7b51b5e83": {
      "model_module": "@jupyter-widgets/base",
      "model_module_version": "1.2.0",
      "model_name": "LayoutModel",
      "state": {}
     },
     "b7d17bb4452941d7b7b97deee03b2f5f": {
      "model_module": "@jupyter-widgets/base",
      "model_module_version": "1.2.0",
      "model_name": "LayoutModel",
      "state": {}
     },
     "b8962e870a154eda9757b50adbc64f58": {
      "model_module": "@jupyter-widgets/controls",
      "model_module_version": "1.5.0",
      "model_name": "DescriptionStyleModel",
      "state": {
       "description_width": ""
      }
     },
     "b9209f7b87334b5793ed4c4ca926d240": {
      "model_module": "@jupyter-widgets/controls",
      "model_module_version": "1.5.0",
      "model_name": "HTMLModel",
      "state": {
       "layout": "IPY_MODEL_a1be16502c034376a94cd78c306147ce",
       "style": "IPY_MODEL_89d9e52532de4231b66a68290dfac625",
       "value": "<p>Random Seed:</p>"
      }
     },
     "ba746a3373594e069622a1206e45f5f9": {
      "model_module": "@jupyter-widgets/base",
      "model_module_version": "1.2.0",
      "model_name": "LayoutModel",
      "state": {
       "width": "25px"
      }
     },
     "bb3cb9bc48f14dd3908dcd9fdd4ec090": {
      "model_module": "@jupyter-widgets/controls",
      "model_module_version": "1.5.0",
      "model_name": "HTMLModel",
      "state": {
       "layout": "IPY_MODEL_810f235d11cf47128fc388c31c6337f7",
       "style": "IPY_MODEL_e7ca5aba34d34843b296c77e81138076",
       "value": "Data Shape:(17379, 13)"
      }
     },
     "bbce269fedcd40c5b2db1d8b5163242c": {
      "model_module": "@jupyter-widgets/controls",
      "model_module_version": "1.5.0",
      "model_name": "BoundedFloatTextModel",
      "state": {
       "layout": "IPY_MODEL_69f61fbc229a4d39a3f1d510c408c0ed",
       "max": 1,
       "step": 0.01,
       "style": "IPY_MODEL_d15174f77749414b829919d362664544",
       "value": 0.2
      }
     },
     "bbf4bbab6a064309aacd310dd1cd5e77": {
      "model_module": "@jupyter-widgets/base",
      "model_module_version": "1.2.0",
      "model_name": "LayoutModel",
      "state": {
       "width": "20%"
      }
     },
     "bc45b2e0a5ed4c83901440288d7ea5db": {
      "model_module": "@jupyter-widgets/controls",
      "model_module_version": "1.5.0",
      "model_name": "DescriptionStyleModel",
      "state": {
       "description_width": ""
      }
     },
     "bc580dee202b4a8ea88916f5549655b3": {
      "model_module": "@jupyter-widgets/controls",
      "model_module_version": "1.5.0",
      "model_name": "HTMLModel",
      "state": {
       "layout": "IPY_MODEL_31a10fcd3a8b41bba0423c7a0aee1629",
       "style": "IPY_MODEL_12fce93575f04bf7ac53e502fe9f6ae0",
       "value": "<div style='margin-top: 5px'></div>"
      }
     },
     "bc7cab3dc8b24aab97cc261283907d51": {
      "model_module": "@jupyter-widgets/controls",
      "model_module_version": "1.5.0",
      "model_name": "HTMLModel",
      "state": {
       "layout": "IPY_MODEL_1abfc60b9fec497d9a8ae7d1f029e35b",
       "style": "IPY_MODEL_1c72bf89266a46458f862f78cc19fd3a",
       "value": "<p>Split Method:</p>"
      }
     },
     "bcd899aba9f6450b83361b43e0aff2ad": {
      "model_module": "@jupyter-widgets/output",
      "model_module_version": "1.0.0",
      "model_name": "OutputModel",
      "state": {
       "layout": "IPY_MODEL_3ab5fdc48d084a1180a2ea21db1c5e63",
       "outputs": [
        {
         "data": {
          "application/vnd.jupyter.widget-view+json": {
           "model_id": "847b78037d4e4ff8ac1e24d6ad34d456",
           "version_major": 2,
           "version_minor": 0
          },
          "text/plain": "HTML(value=\"\\n        <table class='ptable striped'>\\n            <thead class='pthead'>\\n                <tr …"
         },
         "metadata": {},
         "output_type": "display_data"
        }
       ]
      }
     },
     "be3594c2a3f747299cd7bbc94ca5fad5": {
      "model_module": "@jupyter-widgets/controls",
      "model_module_version": "1.5.0",
      "model_name": "DescriptionStyleModel",
      "state": {
       "description_width": ""
      }
     },
     "be5f2bff1ba24f5f994f50f6bb1515e8": {
      "model_module": "@jupyter-widgets/base",
      "model_module_version": "1.2.0",
      "model_name": "LayoutModel",
      "state": {}
     },
     "bece0eee135441b68a68927203978c28": {
      "model_module": "@jupyter-widgets/base",
      "model_module_version": "1.2.0",
      "model_name": "LayoutModel",
      "state": {
       "width": "120px"
      }
     },
     "bfb40e3869f34c408a32e3c65de05fdb": {
      "model_module": "@jupyter-widgets/base",
      "model_module_version": "1.2.0",
      "model_name": "LayoutModel",
      "state": {
       "width": "20%"
      }
     },
     "bfe668995b9b4317acca475d67651902": {
      "model_module": "@jupyter-widgets/output",
      "model_module_version": "1.0.0",
      "model_name": "OutputModel",
      "state": {
       "layout": "IPY_MODEL_cb1b2f8f1fa74df78825e26cf8ce2bfe"
      }
     },
     "bfee442969084088b244921743b152cf": {
      "model_module": "@jupyter-widgets/controls",
      "model_module_version": "1.5.0",
      "model_name": "DescriptionStyleModel",
      "state": {
       "description_width": ""
      }
     },
     "c017ff9d543e41d0bad0ea95600878c9": {
      "model_module": "@jupyter-widgets/controls",
      "model_module_version": "1.5.0",
      "model_name": "DescriptionStyleModel",
      "state": {
       "description_width": "initial"
      }
     },
     "c0562eb324064c1193eee69c4708d256": {
      "model_module": "@jupyter-widgets/base",
      "model_module_version": "1.2.0",
      "model_name": "LayoutModel",
      "state": {
       "width": "20%"
      }
     },
     "c20b541bc2b84a2199ec4ea5d2ecf164": {
      "model_module": "@jupyter-widgets/base",
      "model_module_version": "1.2.0",
      "model_name": "LayoutModel",
      "state": {}
     },
     "c2365cc4cfff499189f9dd5498ff9cb7": {
      "model_module": "@jupyter-widgets/base",
      "model_module_version": "1.2.0",
      "model_name": "LayoutModel",
      "state": {}
     },
     "c23b6b8aa8f64478a4297c4bd93f48ff": {
      "model_module": "@jupyter-widgets/base",
      "model_module_version": "1.2.0",
      "model_name": "LayoutModel",
      "state": {
       "justify_content": "space-between"
      }
     },
     "c269dce78fc14a1ab00704a6cd2a0223": {
      "model_module": "@jupyter-widgets/base",
      "model_module_version": "1.2.0",
      "model_name": "LayoutModel",
      "state": {
       "width": "20%"
      }
     },
     "c3547f4d71b04cf4b4a3df0076ec2b8d": {
      "model_module": "@jupyter-widgets/base",
      "model_module_version": "1.2.0",
      "model_name": "LayoutModel",
      "state": {}
     },
     "c45fb85605a84cacb2c545110ffbde3d": {
      "model_module": "@jupyter-widgets/controls",
      "model_module_version": "1.5.0",
      "model_name": "DescriptionStyleModel",
      "state": {
       "description_width": ""
      }
     },
     "c490400c008841368309b3b49ff6fdbd": {
      "model_module": "@jupyter-widgets/base",
      "model_module_version": "1.2.0",
      "model_name": "LayoutModel",
      "state": {}
     },
     "c57d8ca2b5d9492fb0c071368e4ce880": {
      "model_module": "@jupyter-widgets/controls",
      "model_module_version": "1.5.0",
      "model_name": "DescriptionStyleModel",
      "state": {
       "description_width": ""
      }
     },
     "c594d9d13bfd4056a6388d7e19c3c8c8": {
      "model_module": "@jupyter-widgets/base",
      "model_module_version": "1.2.0",
      "model_name": "LayoutModel",
      "state": {
       "width": "20%"
      }
     },
     "c5f22f88bd644157b58e4a959a49cff4": {
      "model_module": "@jupyter-widgets/controls",
      "model_module_version": "1.5.0",
      "model_name": "DropdownModel",
      "state": {
       "_options_labels": [
        "Classification",
        "Regression"
       ],
       "index": 1,
       "layout": "IPY_MODEL_6f4dff8a937e47e6a786dc3c6480bf37",
       "style": "IPY_MODEL_c017ff9d543e41d0bad0ea95600878c9"
      }
     },
     "c6dc2c081cd74d9ab0e1d144184eebed": {
      "model_module": "@jupyter-widgets/base",
      "model_module_version": "1.2.0",
      "model_name": "LayoutModel",
      "state": {}
     },
     "c776a807cfef455883a37f763116700c": {
      "model_module": "@jupyter-widgets/controls",
      "model_module_version": "1.5.0",
      "model_name": "HBoxModel",
      "state": {
       "layout": "IPY_MODEL_2db542c70eb744c0956380a3ecdf8e42"
      }
     },
     "c7bf853a9ddb45bba93f247f2459e76e": {
      "model_module": "@jupyter-widgets/controls",
      "model_module_version": "1.5.0",
      "model_name": "DropdownModel",
      "state": {
       "_options_labels": [
        "Type",
        "categorical",
        "numerical"
       ],
       "index": 0,
       "layout": "IPY_MODEL_3bf3130a9ad44e4892487b241fd3ad49",
       "style": "IPY_MODEL_d067db6ee8d64dfab6245ba8f9a9238d"
      }
     },
     "c7ed07fbf0294c55bdb2bfcf7bc3554b": {
      "model_module": "@jupyter-widgets/controls",
      "model_module_version": "1.5.0",
      "model_name": "HTMLModel",
      "state": {
       "layout": "IPY_MODEL_17aef2bb01124114b550a001354af9db",
       "style": "IPY_MODEL_ed26e0f1fae54e19bd9fbab2ef7f840e",
       "value": "Update Attribute:"
      }
     },
     "ca39c53827b54eddb330e41edf52f555": {
      "model_module": "@jupyter-widgets/controls",
      "model_module_version": "1.5.0",
      "model_name": "ButtonModel",
      "state": {
       "_dom_classes": [
        "pbtn"
       ],
       "button_style": "danger",
       "description": "OK",
       "layout": "IPY_MODEL_28ef8f38822447e6bdc9adda53ccc703",
       "style": "IPY_MODEL_284c857c9bdb4af3b39abaff322c2016"
      }
     },
     "cb1b2f8f1fa74df78825e26cf8ce2bfe": {
      "model_module": "@jupyter-widgets/base",
      "model_module_version": "1.2.0",
      "model_name": "LayoutModel",
      "state": {}
     },
     "cb692a592a1c449da9dcbb5fe221ba53": {
      "model_module": "@jupyter-widgets/controls",
      "model_module_version": "1.5.0",
      "model_name": "BoxModel",
      "state": {
       "layout": "IPY_MODEL_6aeecc59fab34340ac0a6a1b493bd4b1"
      }
     },
     "cb7e94681c6847e8abda0fa10ffbbaa8": {
      "model_module": "@jupyter-widgets/base",
      "model_module_version": "1.2.0",
      "model_name": "LayoutModel",
      "state": {
       "width": "20%"
      }
     },
     "cd29a320302c4f8a9ce2213be885478d": {
      "model_module": "@jupyter-widgets/controls",
      "model_module_version": "1.5.0",
      "model_name": "VBoxModel",
      "state": {
       "children": [
        "IPY_MODEL_3b6221a1f88b4cbd92a03fcde16bb756",
        "IPY_MODEL_342b365a0a614d6cb223e400ae0ca14c"
       ],
       "layout": "IPY_MODEL_35dd4fead2544c35aca10ede47d1e718"
      }
     },
     "cd8e3e022f0b4ae4a9ce2a4159d34d98": {
      "model_module": "@jupyter-widgets/controls",
      "model_module_version": "1.5.0",
      "model_name": "HTMLModel",
      "state": {
       "layout": "IPY_MODEL_c6dc2c081cd74d9ab0e1d144184eebed",
       "style": "IPY_MODEL_6fbd139d2f9f4658afb13bda30ce365b",
       "value": "<div style='margin-top: 5px'></div>"
      }
     },
     "cff3f7eee0454e5ca8358f395badaaf3": {
      "model_module": "@jupyter-widgets/controls",
      "model_module_version": "1.5.0",
      "model_name": "DescriptionStyleModel",
      "state": {
       "description_width": ""
      }
     },
     "d067db6ee8d64dfab6245ba8f9a9238d": {
      "model_module": "@jupyter-widgets/controls",
      "model_module_version": "1.5.0",
      "model_name": "DescriptionStyleModel",
      "state": {
       "description_width": "initial"
      }
     },
     "d090bd714de94716bc4f3f7b2b44b4df": {
      "model_module": "@jupyter-widgets/controls",
      "model_module_version": "1.5.0",
      "model_name": "DescriptionStyleModel",
      "state": {
       "description_width": ""
      }
     },
     "d124b61afa58442092d7ae4c7962636a": {
      "model_module": "@jupyter-widgets/controls",
      "model_module_version": "1.5.0",
      "model_name": "DescriptionStyleModel",
      "state": {
       "description_width": ""
      }
     },
     "d15174f77749414b829919d362664544": {
      "model_module": "@jupyter-widgets/controls",
      "model_module_version": "1.5.0",
      "model_name": "DescriptionStyleModel",
      "state": {
       "description_width": "initial"
      }
     },
     "d177bf442e004f38ab2696bd70789df2": {
      "model_module": "@jupyter-widgets/controls",
      "model_module_version": "1.5.0",
      "model_name": "HTMLModel",
      "state": {
       "layout": "IPY_MODEL_322ff2ef69954b3293ad95a9b469c347",
       "style": "IPY_MODEL_1ffa9dbc633c409d9643bffc5b5eda0d",
       "value": "Exclude Attribute:"
      }
     },
     "d1df0a7114d849b6886803abc43f28c3": {
      "model_module": "@jupyter-widgets/controls",
      "model_module_version": "1.5.0",
      "model_name": "HBoxModel",
      "state": {
       "children": [
        "IPY_MODEL_d9081032cea344d78131cb1bbf4a92ef",
        "IPY_MODEL_e6a2a006aee047e3bec3ce2d8a0abe34"
       ],
       "layout": "IPY_MODEL_e7966aa3f22c4b28a2d6d626adda1ea7"
      }
     },
     "d24b90e99c4b4e818a2838a3656cce5e": {
      "model_module": "@jupyter-widgets/base",
      "model_module_version": "1.2.0",
      "model_name": "LayoutModel",
      "state": {
       "overflow": "hidden"
      }
     },
     "d3aa1a0c62b3474f83d810a0a53ef1cb": {
      "model_module": "@jupyter-widgets/controls",
      "model_module_version": "1.5.0",
      "model_name": "HBoxModel",
      "state": {
       "_dom_classes": [
        "form"
       ],
       "children": [
        "IPY_MODEL_4ba7b500ff064465a50f1356e2c8ee2d",
        "IPY_MODEL_66a125bf9ee645a39236a8d94249431f",
        "IPY_MODEL_04303605d9d748d0ba5905fe5598e259",
        "IPY_MODEL_2aa8bc5c316f474f94f1d7caadc2ed4d",
        "IPY_MODEL_a91c5c545230465fb8e244637e619916",
        "IPY_MODEL_3d33e2a392df48db91690954e60a4e1a",
        "IPY_MODEL_419018a09562463cb56b9779a53d25ca",
        "IPY_MODEL_5529a65bab4e48a6a2521296b3bfeac7"
       ],
       "layout": "IPY_MODEL_f8b98f94c4a7425fb4fbb40ff4019b15"
      }
     },
     "d468f9d4190746fdbabd2305fff10618": {
      "model_module": "@jupyter-widgets/base",
      "model_module_version": "1.2.0",
      "model_name": "LayoutModel",
      "state": {}
     },
     "d5cc789cb5a54712bba56ad6ce874c0a": {
      "model_module": "@jupyter-widgets/controls",
      "model_module_version": "1.5.0",
      "model_name": "HTMLModel",
      "state": {
       "layout": "IPY_MODEL_b1814338878e42f2833245b9c2b51749",
       "style": "IPY_MODEL_54d3d0a38a4c45bc81af337362a17dae",
       "value": "<p>Task Type:</p>"
      }
     },
     "d5e520b7b1a9414b9180f8276a2e7670": {
      "model_module": "@jupyter-widgets/base",
      "model_module_version": "1.2.0",
      "model_name": "LayoutModel",
      "state": {
       "justify_content": "flex-end",
       "width": "auto"
      }
     },
     "d69430be5b954358a9f2105c2efda6c4": {
      "model_module": "@jupyter-widgets/controls",
      "model_module_version": "1.5.0",
      "model_name": "VBoxModel",
      "state": {
       "children": [
        "IPY_MODEL_25b1239da5cb448b95f54666c3850a98"
       ],
       "layout": "IPY_MODEL_3bedfd3efb2b4c83b11c1984aa064d19"
      }
     },
     "d6993fb455b94ebeaa2a26918ca8969a": {
      "model_module": "@jupyter-widgets/controls",
      "model_module_version": "1.5.0",
      "model_name": "HTMLModel",
      "state": {
       "layout": "IPY_MODEL_24ad5eba6eec493c91e5871274487616",
       "style": "IPY_MODEL_1bdea33455d44bccba79055afa847b50",
       "value": "\n        <table class='ptable striped'>\n            <thead class='pthead'>\n                <tr class='ptr'>\n                    <th class='pth'></th><th class='pth'>name</th><th class='pth'>n_missing</th><th class='pth'>mean</th><th class='pth'>std</th><th class='pth'>min</th><th class='pth'>q1</th><th class='pth'>median</th><th class='pth'>q3</th><th class='pth'>max</th>\n                </tr>\n            </thead>\n\n            <tbody class='ptbody'>\n                <tr class='ptr'><td class='ptd'>0</td><td class='ptd'>mnth</td><td class='ptd'>0.0</td><td class='ptd'>6.537775</td><td class='ptd'>3.438776</td><td class='ptd'>1.0</td><td class='ptd'>4.0</td><td class='ptd'>7.0</td><td class='ptd'>10.0</td><td class='ptd'>12.0</td></tr><tr class='ptr'><td class='ptd'>1</td><td class='ptd'>hr</td><td class='ptd'>0.0</td><td class='ptd'>11.546752</td><td class='ptd'>6.914405</td><td class='ptd'>0.0</td><td class='ptd'>6.0</td><td class='ptd'>12.0</td><td class='ptd'>18.0</td><td class='ptd'>23.0</td></tr><tr class='ptr'><td class='ptd'>2</td><td class='ptd'>weekday</td><td class='ptd'>0.0</td><td class='ptd'>3.003683</td><td class='ptd'>2.005771</td><td class='ptd'>0.0</td><td class='ptd'>1.0</td><td class='ptd'>3.0</td><td class='ptd'>5.0</td><td class='ptd'>6.0</td></tr><tr class='ptr'><td class='ptd'>3</td><td class='ptd'>temp</td><td class='ptd'>0.0</td><td class='ptd'>0.496987</td><td class='ptd'>0.192556</td><td class='ptd'>0.02</td><td class='ptd'>0.34</td><td class='ptd'>0.5</td><td class='ptd'>0.66</td><td class='ptd'>1.0</td></tr><tr class='ptr'><td class='ptd'>4</td><td class='ptd'>atemp</td><td class='ptd'>0.0</td><td class='ptd'>0.475775</td><td class='ptd'>0.17185</td><td class='ptd'>0.0</td><td class='ptd'>0.3333</td><td class='ptd'>0.4848</td><td class='ptd'>0.6212</td><td class='ptd'>1.0</td></tr><tr class='ptr'><td class='ptd'>5</td><td class='ptd'>hum</td><td class='ptd'>0.0</td><td class='ptd'>0.627229</td><td class='ptd'>0.19293</td><td class='ptd'>0.0</td><td class='ptd'>0.48</td><td class='ptd'>0.63</td><td class='ptd'>0.78</td><td class='ptd'>1.0</td></tr><tr class='ptr'><td class='ptd'>6</td><td class='ptd'>windspeed</td><td class='ptd'>0.0</td><td class='ptd'>0.190098</td><td class='ptd'>0.12234</td><td class='ptd'>0.0</td><td class='ptd'>0.1045</td><td class='ptd'>0.194</td><td class='ptd'>0.2537</td><td class='ptd'>0.8507</td></tr><tr class='ptr'><td class='ptd'>7</td><td class='ptd'>cnt</td><td class='ptd'>0.0</td><td class='ptd'>189.463088</td><td class='ptd'>181.387599</td><td class='ptd'>1.0</td><td class='ptd'>40.0</td><td class='ptd'>142.0</td><td class='ptd'>281.0</td><td class='ptd'>977.0</td></tr>\n            </tbody>\n        </table>\n        "
      }
     },
     "d854aa05c7944cb6866994f1810b6c1a": {
      "model_module": "@jupyter-widgets/base",
      "model_module_version": "1.2.0",
      "model_name": "LayoutModel",
      "state": {}
     },
     "d8a9cbf62074404faa42d8260394f2d5": {
      "model_module": "@jupyter-widgets/controls",
      "model_module_version": "1.5.0",
      "model_name": "HBoxModel",
      "state": {
       "children": [
        "IPY_MODEL_b3ad5a784cd446539c35b57c6bee7b7a",
        "IPY_MODEL_c776a807cfef455883a37f763116700c",
        "IPY_MODEL_69bdbec981ff4a309f4f11e0407d20a9"
       ],
       "layout": "IPY_MODEL_cb7e94681c6847e8abda0fa10ffbbaa8"
      }
     },
     "d9081032cea344d78131cb1bbf4a92ef": {
      "model_module": "@jupyter-widgets/controls",
      "model_module_version": "1.5.0",
      "model_name": "VBoxModel",
      "state": {
       "children": [
        "IPY_MODEL_5701aa27a1c549498f921af8cc84d2af"
       ],
       "layout": "IPY_MODEL_026b23c038384eb3acee8421ff5a8f76"
      }
     },
     "d922ff70369d4463906834d3901f2ed8": {
      "model_module": "@jupyter-widgets/base",
      "model_module_version": "1.2.0",
      "model_name": "LayoutModel",
      "state": {}
     },
     "d9d119910b46401da154c465d0b6467e": {
      "model_module": "@jupyter-widgets/controls",
      "model_module_version": "1.5.0",
      "model_name": "HBoxModel",
      "state": {
       "_dom_classes": [
        "split-btn"
       ],
       "children": [
        "IPY_MODEL_03f1ceaff1714066b521654d495913bd"
       ],
       "layout": "IPY_MODEL_f9cb0d4486744b7d8bfa0957917e421e"
      }
     },
     "da7c553eea1d444cb713806e03e2298f": {
      "model_module": "@jupyter-widgets/base",
      "model_module_version": "1.2.0",
      "model_name": "LayoutModel",
      "state": {}
     },
     "dcf509a52eb14012bd6877ddbb332d79": {
      "model_module": "@jupyter-widgets/base",
      "model_module_version": "1.2.0",
      "model_name": "LayoutModel",
      "state": {}
     },
     "dde81f00b8f44e3589b65604a16a38b7": {
      "model_module": "@jupyter-widgets/base",
      "model_module_version": "1.2.0",
      "model_name": "LayoutModel",
      "state": {}
     },
     "dea7fd5ca9b7423a8688798e7df5f2a8": {
      "model_module": "@jupyter-widgets/controls",
      "model_module_version": "1.5.0",
      "model_name": "ButtonStyleModel",
      "state": {}
     },
     "df16eb028eb147d29304e1ea983a4332": {
      "model_module": "@jupyter-widgets/controls",
      "model_module_version": "1.5.0",
      "model_name": "DropdownModel",
      "state": {
       "_options_labels": [
        "Random",
        "Outer-Sample",
        "Kmeans"
       ],
       "index": 0,
       "layout": "IPY_MODEL_371eb1c76cbc424c8af871bcdcb54476",
       "style": "IPY_MODEL_7fd7b61a95d847839417d90c6506573e"
      }
     },
     "df451b3e53f748a186dd0efa26f57f12": {
      "model_module": "@jupyter-widgets/controls",
      "model_module_version": "1.5.0",
      "model_name": "HTMLModel",
      "state": {
       "layout": "IPY_MODEL_111c8541bc4a46b88e67193ba3116481",
       "style": "IPY_MODEL_fd653f8b0d5043bdb59b36fdf07ffd6d",
       "value": "\n        <style>\n\n        .left-label {\n            width: 30%;\n        }\n\n        .card-panel {\n            -webkit-transition: -webkit-box-shadow .25s;\n            transition: -webkit-box-shadow .25s;\n            transition: box-shadow .25s;\n            transition: box-shadow .25s, -webkit-box-shadow .25s;\n            padding: 24px;\n            margin: 0.5rem 0 1rem 0;\n            border-radius: 2px;\n            background-color: #fff;\n        }\n\n        .card {\n            position: relative;\n            margin: 0.5rem 0.1rem 1rem 0.2rem;\n            background-color: #fff;\n            -webkit-transition: -webkit-box-shadow .25s;\n            transition: -webkit-box-shadow .25s;\n            transition: box-shadow .25s;\n            transition: box-shadow .25s, -webkit-box-shadow .25s;\n            border-radius: 2px;\n            box-shadow: 0 2px 2px 0 rgb(0 0 0 / 14%), 0 3px 1px -2px rgb(0 0 0 / 12%), 0 1px 5px 0 rgb(0 0 0 / 20%);\n            padding: 24px;\n            color: white;\n        }\n\n        .card .card-title {\n            font-size: 24px;\n            font-weight: 300;\n        }\n\n        @media only screen and (min-width: 800px) {\n            /* For notebook: */\n            .card {width: 99% !important;}\n        }\n\n        @media only screen and (min-width: 1400px) {\n            /* For colab: */\n            .card {width: 99% !important;}\n        }\n\n        .blue-grey.darken-1 {\n            background-color: #546e7a !important;\n        }\n\n        .small-card {\n            position: relative;\n            margin: 0.5rem 0 1rem 0;\n            background-color: #fff;\n            -webkit-transition: -webkit-box-shadow .25s;\n            transition: -webkit-box-shadow .25s;\n            transition: box-shadow .25s;\n            transition: box-shadow .25s, -webkit-box-shadow .25s;\n            border-radius: 2px;\n            box-shadow: 0 2px 2px 0 rgb(0 0 0 / 14%), 0 3px 1px -2px rgb(0 0 0 / 12%), 0 1px 5px 0 rgb(0 0 0 / 20%);\n            padding: 0px 5px 0px 5px;\n            color: white;\n        }\n\n        .inner-card {\n            position: relative;\n            background-color: #fff;\n            -webkit-transition: -webkit-box-shadow .25s;\n            transition: -webkit-box-shadow .25s;\n            transition: box-shadow .25s;\n            transition: box-shadow .25s, -webkit-box-shadow .25s;\n            border-radius: 2px;\n            box-shadow: 0 2px 2px 0 rgb(0 0 0 / 14%), 0 3px 1px -2px rgb(0 0 0 / 12%), 0 1px 5px 0 rgb(0 0 0 / 20%);\n            padding: 20px;\n            color: white;\n            margin: 0px 1px 1px 1px;\n        }\n\n        .card-with-tab {\n            position: relative;\n            margin: 0.5rem 0.1rem 1rem 0.2rem;\n            background-color: #fff;\n            -webkit-transition: -webkit-box-shadow .25s;\n            transition: -webkit-box-shadow .25s;\n            transition: box-shadow .25s;\n            transition: box-shadow .25s, -webkit-box-shadow .25s;\n            border-radius: 2px;\n            box-shadow: 0 2px 2px 0 rgb(0 0 0 / 14%), 0 3px 1px -2px rgb(0 0 0 / 12%), 0 1px 5px 0 rgb(0 0 0 / 20%);\n            padding: 24px;\n            color: white;\n        }\n\n        .card-with-tab button {\n            width: auto;\n            padding: 12px 40px;\n        }\n\n        .list {\n            padding: 0px 10px;\n            box-shadow: 0 2px 2px 0 rgb(0 0 0 / 14%), 0 3px 1px -2px rgb(0 0 0 / 12%), 0 1px 5px 0 rgb(0 0 0 / 20%);\n            margin: 0px 1px 60px 1px;\n        }\n\n        .list-item {\n            padding: 10px 0px;\n            border-width: 0;\n            border-style: solid;\n            border-color: rgba(0, 0, 0, 0.08);\n            border-bottom-width: thin;\n        }\n\n        .divider {\n            margin: 10px 0px;\n            border-width: 0;\n            border-style: solid;\n            border-color: rgba(0, 0, 0, 0.08);\n            border-bottom-width: thin;\n        }\n\n        .hr {\n            margin: 0;\n            -webkit-flex-shrink: 0;\n            -ms-flex-negative: 0;\n            flex-shrink: 0;\n            border-width: 0;\n            border-style: solid;\n            border-color: rgba(0, 0, 0, 0.08);\n            border-bottom-width: thin;\n        }\n\n        .notification {\n            transition: box-shadow 300ms cubic-bezier(0.4, 0, 0.2, 1) 0ms;\n            border-radius: 4px;\n            box-shadow: 0 2px 2px 0 rgb(0 0 0 / 14%), 0 3px 1px -2px rgb(0 0 0 / 12%), 0 1px 5px 0 rgb(0 0 0 / 20%);\n            font-family: Roboto, Helvetica, Arial, sans-serif;\n            font-weight: 500;\n            font-size: 12px;\n            line-height: 1.43;\n            letter-spacing: 0.01071em;\n            background-color: rgb(2, 136, 209);\n            display: flex;\n            padding: 6px 16px;\n            color: rgb(255, 255, 255);\n            margin-top: 10px;\n        }\n\n        .success {\n            background-color: #EDF7ED;\n            color: #1E4620;\n        }\n\n        .error {\n            background-color: #FDEDED;\n            color: #5F2120;\n        }\n\n        .info {\n            background-color: #E5F6FD;\n            color: #528298;\n        }\n\n        .warn {\n            background-color: #FFF4E5;\n            color: #663C00;\n        }\n\n        .margin-top-20 {\n            margin-top: 20px;\n        }\n\n        .hide {\n            display: none;\n        }\n\n        .pbtn {\n            display: inline-flex;\n            -webkit-box-align: center;\n            align-items: center;\n            -webkit-box-pack: center;\n            justify-content: center;\n            position: relative;\n            box-sizing: border-box;\n            -webkit-tap-highlight-color: transparent;\n            outline: 0px;\n            border: 0px;\n            margin: 0px;\n            cursor: pointer;\n            user-select: none;\n            vertical-align: middle;\n            appearance: none;\n            text-decoration: none;\n            font-family: Roboto, Helvetica, Arial, sans-serif;\n            font-weight: 550;\n            font-size: 12px;\n            line-height: 1.75;\n            letter-spacing: 0.02857em;\n            text-transform: uppercase;\n            min-width: 64px;\n            padding: 6px 16px;\n            border-radius: 4px;\n            transition: background-color 250ms cubic-bezier(0.4, 0, 0.2, 1) 0ms, box-shadow 250ms cubic-bezier(0.4, 0, 0.2, 1) 0ms, border-color 250ms cubic-bezier(0.4, 0, 0.2, 1) 0ms, color 250ms cubic-bezier(0.4, 0, 0.2, 1) 0ms;\n            color: rgb(255, 255, 255);\n            background-color: #D71E28;\n            box-shadow: rgb(0 0 0 / 20%) 0px 3px 1px -2px, rgb(0 0 0 / 14%) 0px 2px 2px 0px, rgb(0 0 0 / 12%) 0px 1px 5px 0px;\n        }\n\n        .jp-OutputArea-output {\n            flex-grow: 1;\n            flex-shrink: 1;\n            margin: 0px;\n        }\n\n        .output_subarea {\n            padding: 0px !important;\n        }\n\n        .ptable, .pth, .ptd {\n            border: none;\n        }\n\n        .pth, .ptd {\n            max-width: 150px;\n            white-space: nowrap;\n            overflow: hidden;\n            -o-text-overflow: ellipsis;\n            -ms-text-overflow: ellipsis;\n            text-overflow: ellipsis;\n        }\n\n        .ptable {\n            display: table;\n            border-collapse: collapse;\n            border-spacing: 0;\n        }\n\n        .ptable.striped .ptr {\n            border-bottom: none;\n        }\n\n        .ptable.striped > .ptbody > .ptr:nth-child(odd) {\n            background-color: rgba(242, 242, 242, 0.5);\n        }\n\n        .ptable.striped > .ptbody > .ptr > .ptd {\n            border-radius: 0;\n        }\n\n        .ptable.highlight > .ptbody > .ptr {\n            -webkit-transition: background-color .25s ease;\n            transition: background-color .25s ease;\n        }\n\n        .ptable.highlight > .ptbody > .ptr:hover {\n            background-color: rgba(242, 242, 242, 0.5);\n        }\n\n        .ptable.centered .pthead .ptr .pth, .ptable.centered .ptbody .ptr .ptd {\n            text-align: center;\n        }\n\n        .ptr {\n            border-bottom: 1px solid rgba(0, 0, 0, 0.12);\n        }\n\n        .ptr.hightlight {\n            background-color: yellow !important;\n        }\n\n        .ptd, .pth {\n            padding: 0.2rem 0.6rem;\n            display: table-cell;\n            text-align: right;\n            vertical-align: middle;\n            border-radius: 2px;\n            position: relative;\n        }\n\n        .ptr.grey {\n            background-color: grey !important;\n        }\n\n        .ptr.strikeout .ptd:before {\n            content: \" \";\n            position: absolute;\n            top: 50%;\n            left: 0;\n            border-bottom: 1px solid #111;\n            width: 100%;\n        }\n\n        .widget-toggle-button {\n            display: inline-flex;\n            -webkit-box-align: center;\n            align-items: center;\n            -webkit-box-pack: center;\n            justify-content: center;\n            box-sizing: border-box;\n            -webkit-tap-highlight-color: transparent;\n            background-color: transparent !important;\n            outline: 0px;\n            border: 0px;\n            border-bottom: 2px solid #E4E4E4 !important;\n            box-shadow: none !important;\n            margin: 0px !important;\n            border-radius: 0px;\n            cursor: pointer;\n            user-select: none;\n            vertical-align: middle;\n            appearance: none;\n            text-decoration: none;\n            font-family: Roboto, Helvetica, Arial, sans-serif;\n            font-weight: 500;\n            font-size: 14px;\n            line-height: 1.25;\n            letter-spacing: 0.02857em;\n            max-width: 360px;\n            min-width: 90px;\n            position: relative;\n            min-height: 48px;\n            flex-shrink: 0;\n            padding: 12px 16px;\n            overflow: hidden;\n            white-space: normal;\n            text-align: center;\n            flex-direction: column;\n            color: rgba(0, 0, 0, 0.6);\n        }\n\n        .narrow-accordion .jupyter-widget-Accordion-child .jupyter-widget-Collapse-header{\n            padding: 5px;\n        }  \n\n        .mod-active {\n            color: rgb(25, 118, 210) !important;\n            border-bottom: 2px solid rgb(25, 118, 210) !important;\n        }\n\n        .narrow-tab button {\n            max-width: 15%;\n        }\n\n        .narrow-tab-fairness button {\n            max-width: 20%;\n        }\n        .narrow-tab-fs button {\n            max-width: 25%;\n        }\n\n        .overflow-fix .jupyter-widgets {\n            overflow: auto;\n        }\n\n        .inner-padding {\n            padding-top: 20px;\n        }\n\n        .fix-img img {\n            width: 100%;\n        }\n\n        .fix-img-half img {\n            width: 50%;\n        }\n\n        .flex-reverse-for-update-button {\n            flex-direction: row-reverse;\n            margin-right: 50px;\n        }\n\n        .data-summary-tab {\n            max-height: 400px;\n        }\n\n        .restricted_table_height {\n            max-height: 450px\n        }\n\n        .input-width-with-parent .widget-dropdown {\n            width: 100%;\n        }\n\n        .input-width-with-parent .widget-text {\n            width: 100%;\n        }\n\n        .no-margin {\n            margin: 0px;\n        }\n\n        .widget-hprogress label {\n            text-align: left;\n        }\n\n        .widget-dropdown label {\n            margin-right: 10px;\n        }\n\n        .form .widget-dropdown {\n            width: auto;\n        }\n\n        .form .widget-text {\n            width: auto;\n        }\n\n        .form p {\n            margin: 0px;\n        }\n\n        .widget-dropdown {\n            white-space: nowrap;\n            overflow: hidden;\n            -o-text-overflow: ellipsis;\n            -ms-text-overflow: ellipsis;\n            text-overflow: ellipsis;\n        }\n\n        .progress-train label {\n            margin-right: 10px;\n        }\n\n        select {\n            height: 97% !important;\n        }\n\n        .no-overflow {\n            overflow: none;\n        }\n\n        .split-btn button {\n            margin-bottom: 2px;\n        }\n\n        .register-btn {\n            width: 50%\n        }\n\n        .register-btn-colab {\n            width: 40%\n        }\n\n        .fix-config-from-overflow .jp-OutputArea-child {\n            display: inherit;\n        }\n        \n        .checkbox-center input[type=\"checkbox\"] {\n            vertical-align: middle;\n        }\n\n        input[type=\"checkbox\"] {\n            vertical-align: middle;\n        }\n\n        </style>\n        "
      }
     },
     "e1640720f3934b92a97e1922ede5fb22": {
      "model_module": "@jupyter-widgets/base",
      "model_module_version": "1.2.0",
      "model_name": "LayoutModel",
      "state": {
       "width": "20%"
      }
     },
     "e243e83a00a84f3288b929c1fb41a10a": {
      "model_module": "@jupyter-widgets/base",
      "model_module_version": "1.2.0",
      "model_name": "LayoutModel",
      "state": {
       "height": "80%",
       "width": "100%"
      }
     },
     "e34114a8f82f4c6195776237237d3bda": {
      "model_module": "@jupyter-widgets/output",
      "model_module_version": "1.0.0",
      "model_name": "OutputModel",
      "state": {
       "layout": "IPY_MODEL_d922ff70369d4463906834d3901f2ed8",
       "outputs": [
        {
         "data": {
          "application/vnd.jupyter.widget-view+json": {
           "model_id": "d1df0a7114d849b6886803abc43f28c3",
           "version_major": 2,
           "version_minor": 0
          },
          "text/plain": "HBox(children=(VBox(children=(Output(),), layout=Layout(align_items='stretch', width='55%')), Box(children=(Ou…"
         },
         "metadata": {},
         "output_type": "display_data"
        }
       ]
      }
     },
     "e3f07a431983419e97d04967a3bd8a5b": {
      "model_module": "@jupyter-widgets/controls",
      "model_module_version": "1.5.0",
      "model_name": "DescriptionStyleModel",
      "state": {
       "description_width": ""
      }
     },
     "e49c4102a7c44de4b0a443dd93c59876": {
      "model_module": "@jupyter-widgets/controls",
      "model_module_version": "1.5.0",
      "model_name": "DescriptionStyleModel",
      "state": {
       "description_width": ""
      }
     },
     "e4c17eefb6a4437b8980c7efb83e89e5": {
      "model_module": "@jupyter-widgets/base",
      "model_module_version": "1.2.0",
      "model_name": "LayoutModel",
      "state": {}
     },
     "e63dcb29bbbd427eb530b1f180386cc4": {
      "model_module": "@jupyter-widgets/base",
      "model_module_version": "1.2.0",
      "model_name": "LayoutModel",
      "state": {}
     },
     "e647e44055f14109ac6d47222ddee1e6": {
      "model_module": "@jupyter-widgets/controls",
      "model_module_version": "1.5.0",
      "model_name": "HTMLModel",
      "state": {
       "layout": "IPY_MODEL_3169fdde629149389162f5dfb5f555fa",
       "style": "IPY_MODEL_9131eb5813fc4a81b151dbd886b2ec30",
       "value": "\n        <style>\n\n        .left-label {\n            width: 30%;\n        }\n\n        .card-panel {\n            -webkit-transition: -webkit-box-shadow .25s;\n            transition: -webkit-box-shadow .25s;\n            transition: box-shadow .25s;\n            transition: box-shadow .25s, -webkit-box-shadow .25s;\n            padding: 24px;\n            margin: 0.5rem 0 1rem 0;\n            border-radius: 2px;\n            background-color: #fff;\n        }\n\n        .card {\n            position: relative;\n            margin: 0.5rem 0.1rem 1rem 0.2rem;\n            background-color: #fff;\n            -webkit-transition: -webkit-box-shadow .25s;\n            transition: -webkit-box-shadow .25s;\n            transition: box-shadow .25s;\n            transition: box-shadow .25s, -webkit-box-shadow .25s;\n            border-radius: 2px;\n            box-shadow: 0 2px 2px 0 rgb(0 0 0 / 14%), 0 3px 1px -2px rgb(0 0 0 / 12%), 0 1px 5px 0 rgb(0 0 0 / 20%);\n            padding: 24px;\n            color: white;\n        }\n\n        .card .card-title {\n            font-size: 24px;\n            font-weight: 300;\n        }\n\n        @media only screen and (min-width: 800px) {\n            /* For notebook: */\n            .card {width: 99% !important;}\n        }\n\n        @media only screen and (min-width: 1400px) {\n            /* For colab: */\n            .card {width: 99% !important;}\n        }\n\n        .blue-grey.darken-1 {\n            background-color: #546e7a !important;\n        }\n\n        .small-card {\n            position: relative;\n            margin: 0.5rem 0 1rem 0;\n            background-color: #fff;\n            -webkit-transition: -webkit-box-shadow .25s;\n            transition: -webkit-box-shadow .25s;\n            transition: box-shadow .25s;\n            transition: box-shadow .25s, -webkit-box-shadow .25s;\n            border-radius: 2px;\n            box-shadow: 0 2px 2px 0 rgb(0 0 0 / 14%), 0 3px 1px -2px rgb(0 0 0 / 12%), 0 1px 5px 0 rgb(0 0 0 / 20%);\n            padding: 0px 5px 0px 5px;\n            color: white;\n        }\n\n        .inner-card {\n            position: relative;\n            background-color: #fff;\n            -webkit-transition: -webkit-box-shadow .25s;\n            transition: -webkit-box-shadow .25s;\n            transition: box-shadow .25s;\n            transition: box-shadow .25s, -webkit-box-shadow .25s;\n            border-radius: 2px;\n            box-shadow: 0 2px 2px 0 rgb(0 0 0 / 14%), 0 3px 1px -2px rgb(0 0 0 / 12%), 0 1px 5px 0 rgb(0 0 0 / 20%);\n            padding: 20px;\n            color: white;\n            margin: 0px 1px 1px 1px;\n        }\n\n        .card-with-tab {\n            position: relative;\n            margin: 0.5rem 0.1rem 1rem 0.2rem;\n            background-color: #fff;\n            -webkit-transition: -webkit-box-shadow .25s;\n            transition: -webkit-box-shadow .25s;\n            transition: box-shadow .25s;\n            transition: box-shadow .25s, -webkit-box-shadow .25s;\n            border-radius: 2px;\n            box-shadow: 0 2px 2px 0 rgb(0 0 0 / 14%), 0 3px 1px -2px rgb(0 0 0 / 12%), 0 1px 5px 0 rgb(0 0 0 / 20%);\n            padding: 24px;\n            color: white;\n        }\n\n        .card-with-tab button {\n            width: auto;\n            padding: 12px 40px;\n        }\n\n        .list {\n            padding: 0px 10px;\n            box-shadow: 0 2px 2px 0 rgb(0 0 0 / 14%), 0 3px 1px -2px rgb(0 0 0 / 12%), 0 1px 5px 0 rgb(0 0 0 / 20%);\n            margin: 0px 1px 60px 1px;\n        }\n\n        .list-item {\n            padding: 10px 0px;\n            border-width: 0;\n            border-style: solid;\n            border-color: rgba(0, 0, 0, 0.08);\n            border-bottom-width: thin;\n        }\n\n        .divider {\n            margin: 10px 0px;\n            border-width: 0;\n            border-style: solid;\n            border-color: rgba(0, 0, 0, 0.08);\n            border-bottom-width: thin;\n        }\n\n        .hr {\n            margin: 0;\n            -webkit-flex-shrink: 0;\n            -ms-flex-negative: 0;\n            flex-shrink: 0;\n            border-width: 0;\n            border-style: solid;\n            border-color: rgba(0, 0, 0, 0.08);\n            border-bottom-width: thin;\n        }\n\n        .notification {\n            transition: box-shadow 300ms cubic-bezier(0.4, 0, 0.2, 1) 0ms;\n            border-radius: 4px;\n            box-shadow: 0 2px 2px 0 rgb(0 0 0 / 14%), 0 3px 1px -2px rgb(0 0 0 / 12%), 0 1px 5px 0 rgb(0 0 0 / 20%);\n            font-family: Roboto, Helvetica, Arial, sans-serif;\n            font-weight: 500;\n            font-size: 12px;\n            line-height: 1.43;\n            letter-spacing: 0.01071em;\n            background-color: rgb(2, 136, 209);\n            display: flex;\n            padding: 6px 16px;\n            color: rgb(255, 255, 255);\n            margin-top: 10px;\n        }\n\n        .success {\n            background-color: #EDF7ED;\n            color: #1E4620;\n        }\n\n        .error {\n            background-color: #FDEDED;\n            color: #5F2120;\n        }\n\n        .info {\n            background-color: #E5F6FD;\n            color: #528298;\n        }\n\n        .warn {\n            background-color: #FFF4E5;\n            color: #663C00;\n        }\n\n        .margin-top-20 {\n            margin-top: 20px;\n        }\n\n        .hide {\n            display: none;\n        }\n\n        .pbtn {\n            display: inline-flex;\n            -webkit-box-align: center;\n            align-items: center;\n            -webkit-box-pack: center;\n            justify-content: center;\n            position: relative;\n            box-sizing: border-box;\n            -webkit-tap-highlight-color: transparent;\n            outline: 0px;\n            border: 0px;\n            margin: 0px;\n            cursor: pointer;\n            user-select: none;\n            vertical-align: middle;\n            appearance: none;\n            text-decoration: none;\n            font-family: Roboto, Helvetica, Arial, sans-serif;\n            font-weight: 550;\n            font-size: 12px;\n            line-height: 1.75;\n            letter-spacing: 0.02857em;\n            text-transform: uppercase;\n            min-width: 64px;\n            padding: 6px 16px;\n            border-radius: 4px;\n            transition: background-color 250ms cubic-bezier(0.4, 0, 0.2, 1) 0ms, box-shadow 250ms cubic-bezier(0.4, 0, 0.2, 1) 0ms, border-color 250ms cubic-bezier(0.4, 0, 0.2, 1) 0ms, color 250ms cubic-bezier(0.4, 0, 0.2, 1) 0ms;\n            color: rgb(255, 255, 255);\n            background-color: #D71E28;\n            box-shadow: rgb(0 0 0 / 20%) 0px 3px 1px -2px, rgb(0 0 0 / 14%) 0px 2px 2px 0px, rgb(0 0 0 / 12%) 0px 1px 5px 0px;\n        }\n\n        .jp-OutputArea-output {\n            flex-grow: 1;\n            flex-shrink: 1;\n            margin: 0px;\n        }\n\n        .output_subarea {\n            padding: 0px !important;\n        }\n\n        .ptable, .pth, .ptd {\n            border: none;\n        }\n\n        .pth, .ptd {\n            max-width: 150px;\n            white-space: nowrap;\n            overflow: hidden;\n            -o-text-overflow: ellipsis;\n            -ms-text-overflow: ellipsis;\n            text-overflow: ellipsis;\n        }\n\n        .ptable {\n            display: table;\n            border-collapse: collapse;\n            border-spacing: 0;\n        }\n\n        .ptable.striped .ptr {\n            border-bottom: none;\n        }\n\n        .ptable.striped > .ptbody > .ptr:nth-child(odd) {\n            background-color: rgba(242, 242, 242, 0.5);\n        }\n\n        .ptable.striped > .ptbody > .ptr > .ptd {\n            border-radius: 0;\n        }\n\n        .ptable.highlight > .ptbody > .ptr {\n            -webkit-transition: background-color .25s ease;\n            transition: background-color .25s ease;\n        }\n\n        .ptable.highlight > .ptbody > .ptr:hover {\n            background-color: rgba(242, 242, 242, 0.5);\n        }\n\n        .ptable.centered .pthead .ptr .pth, .ptable.centered .ptbody .ptr .ptd {\n            text-align: center;\n        }\n\n        .ptr {\n            border-bottom: 1px solid rgba(0, 0, 0, 0.12);\n        }\n\n        .ptr.hightlight {\n            background-color: yellow !important;\n        }\n\n        .ptd, .pth {\n            padding: 0.2rem 0.6rem;\n            display: table-cell;\n            text-align: right;\n            vertical-align: middle;\n            border-radius: 2px;\n            position: relative;\n        }\n\n        .ptr.grey {\n            background-color: grey !important;\n        }\n\n        .ptr.strikeout .ptd:before {\n            content: \" \";\n            position: absolute;\n            top: 50%;\n            left: 0;\n            border-bottom: 1px solid #111;\n            width: 100%;\n        }\n\n        .widget-toggle-button {\n            display: inline-flex;\n            -webkit-box-align: center;\n            align-items: center;\n            -webkit-box-pack: center;\n            justify-content: center;\n            box-sizing: border-box;\n            -webkit-tap-highlight-color: transparent;\n            background-color: transparent !important;\n            outline: 0px;\n            border: 0px;\n            border-bottom: 2px solid #E4E4E4 !important;\n            box-shadow: none !important;\n            margin: 0px !important;\n            border-radius: 0px;\n            cursor: pointer;\n            user-select: none;\n            vertical-align: middle;\n            appearance: none;\n            text-decoration: none;\n            font-family: Roboto, Helvetica, Arial, sans-serif;\n            font-weight: 500;\n            font-size: 14px;\n            line-height: 1.25;\n            letter-spacing: 0.02857em;\n            max-width: 360px;\n            min-width: 90px;\n            position: relative;\n            min-height: 48px;\n            flex-shrink: 0;\n            padding: 12px 16px;\n            overflow: hidden;\n            white-space: normal;\n            text-align: center;\n            flex-direction: column;\n            color: rgba(0, 0, 0, 0.6);\n        }\n\n        .narrow-accordion .jupyter-widget-Accordion-child .jupyter-widget-Collapse-header{\n            padding: 5px;\n        }  \n\n        .mod-active {\n            color: rgb(25, 118, 210) !important;\n            border-bottom: 2px solid rgb(25, 118, 210) !important;\n        }\n\n        .narrow-tab button {\n            max-width: 15%;\n        }\n\n        .narrow-tab-fairness button {\n            max-width: 20%;\n        }\n        .narrow-tab-fs button {\n            max-width: 25%;\n        }\n\n        .overflow-fix .jupyter-widgets {\n            overflow: auto;\n        }\n\n        .inner-padding {\n            padding-top: 20px;\n        }\n\n        .fix-img img {\n            width: 100%;\n        }\n\n        .fix-img-half img {\n            width: 50%;\n        }\n\n        .flex-reverse-for-update-button {\n            flex-direction: row-reverse;\n            margin-right: 50px;\n        }\n\n        .data-summary-tab {\n            max-height: 400px;\n        }\n\n        .restricted_table_height {\n            max-height: 450px\n        }\n\n        .input-width-with-parent .widget-dropdown {\n            width: 100%;\n        }\n\n        .input-width-with-parent .widget-text {\n            width: 100%;\n        }\n\n        .no-margin {\n            margin: 0px;\n        }\n\n        .widget-hprogress label {\n            text-align: left;\n        }\n\n        .widget-dropdown label {\n            margin-right: 10px;\n        }\n\n        .form .widget-dropdown {\n            width: auto;\n        }\n\n        .form .widget-text {\n            width: auto;\n        }\n\n        .form p {\n            margin: 0px;\n        }\n\n        .widget-dropdown {\n            white-space: nowrap;\n            overflow: hidden;\n            -o-text-overflow: ellipsis;\n            -ms-text-overflow: ellipsis;\n            text-overflow: ellipsis;\n        }\n\n        .progress-train label {\n            margin-right: 10px;\n        }\n\n        select {\n            height: 97% !important;\n        }\n\n        .no-overflow {\n            overflow: none;\n        }\n\n        .split-btn button {\n            margin-bottom: 2px;\n        }\n\n        .register-btn {\n            width: 50%\n        }\n\n        .register-btn-colab {\n            width: 40%\n        }\n\n        .fix-config-from-overflow .jp-OutputArea-child {\n            display: inherit;\n        }\n        \n        .checkbox-center input[type=\"checkbox\"] {\n            vertical-align: middle;\n        }\n\n        input[type=\"checkbox\"] {\n            vertical-align: middle;\n        }\n\n        </style>\n        "
      }
     },
     "e6a2a006aee047e3bec3ce2d8a0abe34": {
      "model_module": "@jupyter-widgets/controls",
      "model_module_version": "1.5.0",
      "model_name": "BoxModel",
      "state": {
       "children": [
        "IPY_MODEL_8c1fd874d45c45f4b7cbf7374c72a31b"
       ],
       "layout": "IPY_MODEL_ec145619ed6743a992c800098f65fbaa"
      }
     },
     "e73db0d0377b4dbaaa9f2dad773fd02f": {
      "model_module": "@jupyter-widgets/controls",
      "model_module_version": "1.5.0",
      "model_name": "DescriptionStyleModel",
      "state": {
       "description_width": ""
      }
     },
     "e7966aa3f22c4b28a2d6d626adda1ea7": {
      "model_module": "@jupyter-widgets/base",
      "model_module_version": "1.2.0",
      "model_name": "LayoutModel",
      "state": {
       "justify_content": "space-around",
       "width": "85%"
      }
     },
     "e7ca5aba34d34843b296c77e81138076": {
      "model_module": "@jupyter-widgets/controls",
      "model_module_version": "1.5.0",
      "model_name": "DescriptionStyleModel",
      "state": {
       "description_width": ""
      }
     },
     "e84cfb92329245fb8248e28762aaa607": {
      "model_module": "@jupyter-widgets/base",
      "model_module_version": "1.2.0",
      "model_name": "LayoutModel",
      "state": {}
     },
     "e8d94df9d20843188b4195678155ceec": {
      "model_module": "@jupyter-widgets/controls",
      "model_module_version": "1.5.0",
      "model_name": "DropdownModel",
      "state": {
       "_options_labels": [
        "None",
        "yr",
        "mnth",
        "hr",
        "holiday",
        "weekday",
        "weathersit",
        "temp",
        "hum",
        "windspeed",
        "cnt"
       ],
       "index": 0,
       "layout": "IPY_MODEL_84c0f9da6fa849a7a66b006e34b3a428",
       "style": "IPY_MODEL_5c0fea9621494e829c23f92166bffe10"
      }
     },
     "ea60deb3035540ecacbc0b01a3c42430": {
      "model_module": "@jupyter-widgets/base",
      "model_module_version": "1.2.0",
      "model_name": "LayoutModel",
      "state": {
       "justify_content": "space-between"
      }
     },
     "eb09894e048f45a9a449116305f83d97": {
      "model_module": "@jupyter-widgets/controls",
      "model_module_version": "1.5.0",
      "model_name": "DescriptionStyleModel",
      "state": {
       "description_width": ""
      }
     },
     "eb4eaa6635c5432c92c5b22348548429": {
      "model_module": "@jupyter-widgets/controls",
      "model_module_version": "1.5.0",
      "model_name": "DescriptionStyleModel",
      "state": {
       "description_width": ""
      }
     },
     "eb826fa1a0184358b77e0220ef3213fd": {
      "model_module": "@jupyter-widgets/controls",
      "model_module_version": "1.5.0",
      "model_name": "DescriptionStyleModel",
      "state": {
       "description_width": ""
      }
     },
     "ec145619ed6743a992c800098f65fbaa": {
      "model_module": "@jupyter-widgets/base",
      "model_module_version": "1.2.0",
      "model_name": "LayoutModel",
      "state": {
       "width": "45%"
      }
     },
     "ec342d68a3be4a39a5119419ced16e33": {
      "model_module": "@jupyter-widgets/controls",
      "model_module_version": "1.5.0",
      "model_name": "DropdownModel",
      "state": {
       "_options_labels": [
        "Type",
        "categorical",
        "numerical"
       ],
       "index": 0,
       "layout": "IPY_MODEL_4f923fd82f7b4d749615f283174c60e4",
       "style": "IPY_MODEL_9b7cb538729c469ab1574127d321cf7a"
      }
     },
     "ec4906d655814d23beb615ced966b0da": {
      "model_module": "@jupyter-widgets/base",
      "model_module_version": "1.2.0",
      "model_name": "LayoutModel",
      "state": {}
     },
     "ecafed1eaad141af8a6d045416ec1d59": {
      "model_module": "@jupyter-widgets/controls",
      "model_module_version": "1.5.0",
      "model_name": "HTMLModel",
      "state": {
       "layout": "IPY_MODEL_5bbd6d0967074b84b658eba2c8bef55e",
       "style": "IPY_MODEL_b516e0f94ef44bb8b2f5121b9eb37869",
       "value": "<div style='margin-right: 10px'></div>"
      }
     },
     "ed26e0f1fae54e19bd9fbab2ef7f840e": {
      "model_module": "@jupyter-widgets/controls",
      "model_module_version": "1.5.0",
      "model_name": "DescriptionStyleModel",
      "state": {
       "description_width": ""
      }
     },
     "ef41ee5f9a924550a2db473f6ed7d7cb": {
      "model_module": "@jupyter-widgets/base",
      "model_module_version": "1.2.0",
      "model_name": "LayoutModel",
      "state": {
       "width": "20%"
      }
     },
     "efe5fc2cd3d44f3884db4d256c183c60": {
      "model_module": "@jupyter-widgets/base",
      "model_module_version": "1.2.0",
      "model_name": "LayoutModel",
      "state": {}
     },
     "f01426719ff74888813941071a26c946": {
      "model_module": "@jupyter-widgets/controls",
      "model_module_version": "1.5.0",
      "model_name": "DropdownModel",
      "state": {
       "_options_labels": [
        "season",
        "yr",
        "mnth",
        "hr",
        "holiday",
        "weekday",
        "workingday",
        "weathersit",
        "temp",
        "atemp",
        "hum",
        "windspeed",
        "cnt"
       ],
       "index": 12,
       "layout": "IPY_MODEL_12f72cf1695b4682a3afa86b57591486",
       "style": "IPY_MODEL_f53e225e432140f5bd328c5ec9bc6a38"
      }
     },
     "f01ae97da9634d2b99942075e8a83d18": {
      "model_module": "@jupyter-widgets/controls",
      "model_module_version": "1.5.0",
      "model_name": "VBoxModel",
      "state": {
       "children": [
        "IPY_MODEL_c5f22f88bd644157b58e4a959a49cff4",
        "IPY_MODEL_3828d1575c724f86b7b23602d1f3db32"
       ],
       "layout": "IPY_MODEL_ef41ee5f9a924550a2db473f6ed7d7cb"
      }
     },
     "f0537163dd214610965d3538901757d4": {
      "model_module": "@jupyter-widgets/controls",
      "model_module_version": "1.5.0",
      "model_name": "DescriptionStyleModel",
      "state": {
       "description_width": ""
      }
     },
     "f1c4cf3ddbf24039bb26d81d81456f8e": {
      "model_module": "@jupyter-widgets/base",
      "model_module_version": "1.2.0",
      "model_name": "LayoutModel",
      "state": {}
     },
     "f4a604ce0d5b4130a9b52089ce3241fb": {
      "model_module": "@jupyter-widgets/base",
      "model_module_version": "1.2.0",
      "model_name": "LayoutModel",
      "state": {}
     },
     "f506797e4ee84e3fa01a36cec49fadf2": {
      "model_module": "@jupyter-widgets/output",
      "model_module_version": "1.0.0",
      "model_name": "OutputModel",
      "state": {
       "layout": "IPY_MODEL_c2365cc4cfff499189f9dd5498ff9cb7"
      }
     },
     "f53b97c2294f4c9d857166e349161bc5": {
      "model_module": "@jupyter-widgets/base",
      "model_module_version": "1.2.0",
      "model_name": "LayoutModel",
      "state": {}
     },
     "f53e225e432140f5bd328c5ec9bc6a38": {
      "model_module": "@jupyter-widgets/controls",
      "model_module_version": "1.5.0",
      "model_name": "DescriptionStyleModel",
      "state": {
       "description_width": "initial"
      }
     },
     "f55bac61d80e443baa0e4540019f3071": {
      "model_module": "@jupyter-widgets/base",
      "model_module_version": "1.2.0",
      "model_name": "LayoutModel",
      "state": {}
     },
     "f5da998d80a04da5972a7936464dc06e": {
      "model_module": "@jupyter-widgets/controls",
      "model_module_version": "1.5.0",
      "model_name": "HTMLModel",
      "state": {
       "layout": "IPY_MODEL_8445409811c0472b80506c48d2243018",
       "style": "IPY_MODEL_afcf14c95a9e45b3a2282f9a9e6ebd52",
       "value": "Exclude Attribute:"
      }
     },
     "f655f08511f64b7ba2ce01902d1d3f6f": {
      "model_module": "@jupyter-widgets/controls",
      "model_module_version": "1.5.0",
      "model_name": "DescriptionStyleModel",
      "state": {
       "description_width": ""
      }
     },
     "f7b332d74bfe4ed9a9eb43a808203534": {
      "model_module": "@jupyter-widgets/base",
      "model_module_version": "1.2.0",
      "model_name": "LayoutModel",
      "state": {
       "height": "80%",
       "width": "100%"
      }
     },
     "f7c6ed6e829349d69289426417724842": {
      "model_module": "@jupyter-widgets/controls",
      "model_module_version": "1.5.0",
      "model_name": "HTMLModel",
      "state": {
       "layout": "IPY_MODEL_dcf509a52eb14012bd6877ddbb332d79",
       "style": "IPY_MODEL_c57d8ca2b5d9492fb0c071368e4ce880",
       "value": "Data Shape:(17379, 13)"
      }
     },
     "f880676f90e944059b1b81483a0b7e37": {
      "model_module": "@jupyter-widgets/base",
      "model_module_version": "1.2.0",
      "model_name": "LayoutModel",
      "state": {}
     },
     "f8b98f94c4a7425fb4fbb40ff4019b15": {
      "model_module": "@jupyter-widgets/base",
      "model_module_version": "1.2.0",
      "model_name": "LayoutModel",
      "state": {
       "overflow": "hidden",
       "width": "80%"
      }
     },
     "f9a1438e0be24c9eb248f939d3207261": {
      "model_module": "@jupyter-widgets/controls",
      "model_module_version": "1.5.0",
      "model_name": "DescriptionStyleModel",
      "state": {
       "description_width": ""
      }
     },
     "f9cb0d4486744b7d8bfa0957917e421e": {
      "model_module": "@jupyter-widgets/base",
      "model_module_version": "1.2.0",
      "model_name": "LayoutModel",
      "state": {
       "justify_content": "space-between",
       "width": "100%"
      }
     },
     "f9dc357f1b1542a5b31ec512d2152419": {
      "model_module": "@jupyter-widgets/controls",
      "model_module_version": "1.5.0",
      "model_name": "DescriptionStyleModel",
      "state": {
       "description_width": ""
      }
     },
     "fa64b8132d2f44fea0e05810a78c71aa": {
      "model_module": "@jupyter-widgets/base",
      "model_module_version": "1.2.0",
      "model_name": "LayoutModel",
      "state": {}
     },
     "fcb6b6ca9e614761a5b07a1806be65bd": {
      "model_module": "@jupyter-widgets/base",
      "model_module_version": "1.2.0",
      "model_name": "LayoutModel",
      "state": {}
     },
     "fd653f8b0d5043bdb59b36fdf07ffd6d": {
      "model_module": "@jupyter-widgets/controls",
      "model_module_version": "1.5.0",
      "model_name": "DescriptionStyleModel",
      "state": {
       "description_width": ""
      }
     },
     "fdb7cbf2e94c4603a33921ce1ec700d8": {
      "model_module": "@jupyter-widgets/base",
      "model_module_version": "1.2.0",
      "model_name": "LayoutModel",
      "state": {}
     },
     "fe25902fb3e94a49979597a06be76b6d": {
      "model_module": "@jupyter-widgets/controls",
      "model_module_version": "1.5.0",
      "model_name": "HTMLModel",
      "state": {
       "layout": "IPY_MODEL_a248bff3a14947cea9707c1fbe75664a",
       "style": "IPY_MODEL_452454075d864f4a99e0cc831300c1c1",
       "value": "\n        <table class='ptable striped'>\n            <thead class='pthead'>\n                <tr class='ptr'>\n                    <th class='pth'></th><th class='pth'>name</th><th class='pth'>n_missing</th><th class='pth'>mean</th><th class='pth'>std</th><th class='pth'>min</th><th class='pth'>q1</th><th class='pth'>median</th><th class='pth'>q3</th><th class='pth'>max</th>\n                </tr>\n            </thead>\n\n            <tbody class='ptbody'>\n                <tr class='ptr'><td class='ptd'>0</td><td class='ptd'>mnth</td><td class='ptd'>0.0</td><td class='ptd'>6.537775</td><td class='ptd'>3.438776</td><td class='ptd'>1.0</td><td class='ptd'>4.0</td><td class='ptd'>7.0</td><td class='ptd'>10.0</td><td class='ptd'>12.0</td></tr><tr class='ptr'><td class='ptd'>1</td><td class='ptd'>hr</td><td class='ptd'>0.0</td><td class='ptd'>11.546752</td><td class='ptd'>6.914405</td><td class='ptd'>0.0</td><td class='ptd'>6.0</td><td class='ptd'>12.0</td><td class='ptd'>18.0</td><td class='ptd'>23.0</td></tr><tr class='ptr'><td class='ptd'>2</td><td class='ptd'>weekday</td><td class='ptd'>0.0</td><td class='ptd'>3.003683</td><td class='ptd'>2.005771</td><td class='ptd'>0.0</td><td class='ptd'>1.0</td><td class='ptd'>3.0</td><td class='ptd'>5.0</td><td class='ptd'>6.0</td></tr><tr class='ptr'><td class='ptd'>3</td><td class='ptd'>temp</td><td class='ptd'>0.0</td><td class='ptd'>0.496987</td><td class='ptd'>0.192556</td><td class='ptd'>0.02</td><td class='ptd'>0.34</td><td class='ptd'>0.5</td><td class='ptd'>0.66</td><td class='ptd'>1.0</td></tr><tr class='ptr grey'><td class='ptd'>4</td><td class='ptd'>atemp</td><td class='ptd'>0.0</td><td class='ptd'>0.475775</td><td class='ptd'>0.17185</td><td class='ptd'>0.0</td><td class='ptd'>0.3333</td><td class='ptd'>0.4848</td><td class='ptd'>0.6212</td><td class='ptd'>1.0</td></tr><tr class='ptr'><td class='ptd'>5</td><td class='ptd'>hum</td><td class='ptd'>0.0</td><td class='ptd'>0.627229</td><td class='ptd'>0.19293</td><td class='ptd'>0.0</td><td class='ptd'>0.48</td><td class='ptd'>0.63</td><td class='ptd'>0.78</td><td class='ptd'>1.0</td></tr><tr class='ptr'><td class='ptd'>6</td><td class='ptd'>windspeed</td><td class='ptd'>0.0</td><td class='ptd'>0.190098</td><td class='ptd'>0.12234</td><td class='ptd'>0.0</td><td class='ptd'>0.1045</td><td class='ptd'>0.194</td><td class='ptd'>0.2537</td><td class='ptd'>0.8507</td></tr><tr class='ptr'><td class='ptd'>7</td><td class='ptd'>cnt</td><td class='ptd'>0.0</td><td class='ptd'>189.463088</td><td class='ptd'>181.387599</td><td class='ptd'>1.0</td><td class='ptd'>40.0</td><td class='ptd'>142.0</td><td class='ptd'>281.0</td><td class='ptd'>977.0</td></tr>\n            </tbody>\n        </table>\n        "
      }
     },
     "fee2643b9dae44f79e16d6c03aaadaac": {
      "model_module": "@jupyter-widgets/controls",
      "model_module_version": "1.5.0",
      "model_name": "DescriptionStyleModel",
      "state": {
       "description_width": "initial"
      }
     },
     "ff7ea1349b714a1c9ff104de0d2148a3": {
      "model_module": "@jupyter-widgets/controls",
      "model_module_version": "1.5.0",
      "model_name": "HBoxModel",
      "state": {
       "children": [
        "IPY_MODEL_f5da998d80a04da5972a7936464dc06e",
        "IPY_MODEL_b108b80c87b342fca9c0ef948243edce",
        "IPY_MODEL_d8a9cbf62074404faa42d8260394f2d5",
        "IPY_MODEL_0e96e777264d4c46af71254dac2f992e",
        "IPY_MODEL_53e42d169593411eb54eec455b57afb0"
       ],
       "layout": "IPY_MODEL_934df07b6d8b44bdb1a5bf7e0f173b3e"
      }
     },
     "ffc356a7445a4018bfc169b750677a21": {
      "model_module": "@jupyter-widgets/base",
      "model_module_version": "1.2.0",
      "model_name": "LayoutModel",
      "state": {}
     }
    },
    "version_major": 2,
    "version_minor": 0
   }
  }
 },
 "nbformat": 4,
 "nbformat_minor": 5
}
