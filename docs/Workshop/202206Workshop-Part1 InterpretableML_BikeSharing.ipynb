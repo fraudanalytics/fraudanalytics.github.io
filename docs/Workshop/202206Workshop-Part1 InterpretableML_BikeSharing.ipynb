{
 "cells": [
  {
   "cell_type": "markdown",
   "id": "82095c7e",
   "metadata": {
    "id": "82095c7e"
   },
   "source": [
    "<font size=5>Machine Learning Model Validation Workshop, 2022</font>\n",
    "\n",
    "<font size=4 color=blue>Session 1: Machine Learning Interpretability</font>\n",
    "\n",
    "By Aijun Zhang, June 29, 2022\n",
    "\n",
    "This demo (based on BikeSharing data) covers: \n",
    "\n",
    "- Intro to PiML and Data Dashboard \n",
    "\n",
    "- Post-hoc Explainability Tools/Puzzles\n",
    "\n",
    "- FANOVA-Interpretable Models: EBM and GAMI-Net\n",
    "\n",
    "Today we mainly demonstrate the use of PiML through its low-code interface. In the forthcoming series of PiML tutorials, we will provide the automatic run through calling high-code APIs. "
   ]
  },
  {
   "cell_type": "markdown",
   "id": "3228f7c6",
   "metadata": {
    "id": "3228f7c6"
   },
   "source": [
    "# Initialize PiML Experiment\n",
    "\n",
    "1. Run `!pip install piml` to install the latest version of PiML.\n",
    "2. In Google Colab, we need restart the runtime in order to use newly installed version.\n",
    "3. Initilaize a new experiment by `piml.Experiment()`"
   ]
  },
  {
   "cell_type": "code",
   "execution_count": null,
   "id": "iSDFiI-6K3SZ",
   "metadata": {
    "id": "iSDFiI-6K3SZ"
   },
   "outputs": [],
   "source": [
    "!pip install piml"
   ]
  },
  {
   "cell_type": "code",
   "execution_count": null,
   "id": "0e30c60a",
   "metadata": {
    "id": "0e30c60a"
   },
   "outputs": [],
   "source": [
    "from piml import Experiment\n",
    "exp = Experiment()"
   ]
  },
  {
   "cell_type": "markdown",
   "id": "8ceb806b",
   "metadata": {
    "id": "8ceb806b"
   },
   "source": [
    "# Load and Prepare Data"
   ]
  },
  {
   "cell_type": "code",
   "execution_count": null,
   "id": "EwaUA6zM9RUU",
   "metadata": {
    "colab": {
     "base_uri": "https://localhost:8080/",
     "height": 460,
     "referenced_widgets": [
      "6b0ea80bda9641708a325e896d5d216a",
      "61502d9adfa942d989a311b34457efc3",
      "6ed946e5d7f745f89dfb86579e93dd61",
      "a70444f1ddc24b81ad75a1337499534d",
      "d5665c3bccab4478a8e89ba536ac6683",
      "8943e5319eac44e38db4dac8602f72ea",
      "9573b8bc2b1e4d21989e8892e8d64474",
      "2860268ccc6c41538586ddd2cad56305",
      "cb66b2da4d11405c8ebf880536080764",
      "4535abd59134475a9807df3496dfadc0",
      "7623504b2914480c85350a8ba3165db3",
      "737dfd8fe31e4914845f7c9dd0f80d72",
      "2541e570da5f41fda03b74fd8a775673",
      "0c242334d0c1406197af6137a32349f3",
      "956546ae6b8f4f0f81e2cf5dc762174f"
     ]
    },
    "executionInfo": {
     "elapsed": 354,
     "status": "ok",
     "timestamp": 1656506561487,
     "user": {
      "displayName": "Aijun Zhang",
      "userId": "04897292400908543781"
     },
     "user_tz": -480
    },
    "id": "EwaUA6zM9RUU",
    "outputId": "6356f1b0-e54c-463d-c9ff-b0820ef9257f"
   },
   "outputs": [
    {
     "data": {
      "application/vnd.jupyter.widget-view+json": {
       "model_id": "6b0ea80bda9641708a325e896d5d216a",
       "version_major": 2,
       "version_minor": 0
      },
      "text/plain": [
       "HTML(value='\\n        <style>\\n\\n        .left-label {\\n            width: 30%;\\n        }\\n\\n        .card-pa…"
      ]
     },
     "metadata": {},
     "output_type": "display_data"
    },
    {
     "data": {
      "application/vnd.jupyter.widget-view+json": {
       "model_id": "a70444f1ddc24b81ad75a1337499534d",
       "version_major": 2,
       "version_minor": 0
      },
      "text/plain": [
       "VBox(children=(Dropdown(layout=Layout(width='20%'), options=('Select Data', 'CoCircles', 'Friedman', 'BikeShar…"
      ]
     },
     "metadata": {},
     "output_type": "display_data"
    }
   ],
   "source": [
    "# Choose BikeSharing\n",
    "exp.data_loader()"
   ]
  },
  {
   "cell_type": "code",
   "execution_count": null,
   "id": "bb72c998",
   "metadata": {
    "colab": {
     "base_uri": "https://localhost:8080/",
     "height": 562,
     "referenced_widgets": [
      "39c0973910524189a0018cbd50288f9c",
      "4439e27efd834f4fbb0de097f42ae002",
      "75f940b08ce94f20b7bfa3c4b001c60d",
      "1bbde89d06424c599fa956496a39572f",
      "beaafb0ee9234d0eb564452bc89febbf",
      "f64c194ca27b4fbc81e8f6457565ed96",
      "22b0905aadcf4d06826501ef277ecb23",
      "8a3c388e9dcf48a3ae0af11e2a5d9370",
      "4c9891e302ae4ec2a0a70f391f7fc2f5",
      "c9d7a50978de4f4b9d7480b0064ed100",
      "0b831c8bc9b14a1fa891391a65b2d45d",
      "323702b2359145858aa9c4c04af78917",
      "e6f40a688b7e4297952be34a3eedc01e",
      "2bf2072a9ab3444da482ab25e9f381e7",
      "e16f98838ffa4ba5ac4998f15050bcaa",
      "17658fe2fe714321a3bdcf1fc8922145",
      "2a8b37fbc09c445687514ce3c55730d8",
      "3d3c66666a9240bc8404f0c8cadd28fb",
      "e6b562947d3f4c8fa6bc68a6787e4457",
      "1f364ce24ee9497ba6ede091f63bdc6c",
      "46f362edc3f5468592de3176b29ccac8",
      "87dbf623f5894cb49394428b2c768710",
      "7da6e4e3718a4ef78f035d99adb045c3",
      "3a624eba4e724cbe9ad18293dcf93d35",
      "15d7aa3ff85b48d2aae9c8ea1d79b720",
      "d40d2fc57a2b4eba836d024682faa127",
      "bd4ca8cb7ff24d80acb24befee3ec6c5",
      "b4dedd53aab5404790a25655fbd77562",
      "c479e258c17a476c9ff5e870e210f180",
      "131a1aeccb954418a0d37347b2eea074",
      "0e1a9eac0cd1447cb4eb2e4655e64fea",
      "235a4e66612c46ee8de7f50261fd8ef5",
      "a41accd854cf464a9422936e793eb788",
      "43ed9a4d3952444e8db366debc04fac4",
      "606bff2a956347919930cacdda090e8c",
      "4b7577dd6c724a7e89b10eb3ecd51ab1",
      "142c84fb0240496b8ea414faf4ae7810",
      "5c2547f0449048cf92de5b8486957c8f",
      "1c9b101ceb2c47ac809c7bdfa3d2c0e0",
      "6097568136254565b413c4d05815b8b3",
      "0fa943defb594ea3bc83bf45bb07dbef",
      "36dc8221c0104dc7a2056410ad4e13c1",
      "ce008d50bd3f4b7d83b0daad60f86984",
      "c910822416394b5e9deae2100c72ac6d",
      "5f1cf626da5c4b27b5c06452a65cdd86",
      "bd6bde15cdf24808bebb703c8eecb752",
      "a9e6a123ff6149a29e91c0adc0ee9e6b",
      "bca4f96e46c4450699b5b4a47e986a18",
      "41b88dc724824a87a91ebad02fa45cca",
      "c9dff65ce0a04b9cb07cc1c92b822614",
      "d21fa5433bcd4c5f8618c332fc8fc206",
      "97e9689204b145a091e66982bb0fde84",
      "a86b29cc36774fb9aae5be75c77429a1",
      "f54e7c7ef14e4d6e8edf464d23219224",
      "6f387e4dc5d544b79567733669298734",
      "b769bec4228843e69d257cc212bf65d3",
      "34eb695460e14c6f9b03dd23d8d6a481",
      "70d146787fa649a3bc48e491468e0d6a",
      "88f6452a18874496bf1a6533b3c8834f",
      "06123797b4d849e2bd22ea9348d94131",
      "1f5be798152a4df68bcc28c5d939e2bd",
      "3dbed208d61b4b7ba8d7e38c2ed0ef29",
      "4fedbd8e6f8742dca9ba15d01492c802",
      "e83f73fac03f40f7947385ed71db436b",
      "514e5df9ceec464d8e130502b57e0d1d",
      "c87e16eaee4444d9b44ce1963156403f",
      "f23f16cf644b4509993328c6a7af41b7",
      "a9f39ab85b294838b778f673d16050c8",
      "71b639eea68c47dd950c315b7d5ee668",
      "2df742e6e28d4624a8d81bf748b881b2",
      "e7ca78dbf3f240ac832e9261e599288a",
      "2de3f0af51dd438991a01ea63f25c770",
      "248e173c91fe4548b8c3426549512a87",
      "adc28c413f2f4d7f8f36d385b96563a4",
      "1e6da36ad47d4901a7d0478d665f86fb",
      "82a71b86650e470d94a8a80994972b2c",
      "95d2b998f11c4295b60b63a1ba0ce242",
      "24e4026f73c44ace949a0831c9347d5a",
      "e560302bbab7402a9a4aa98e072bb0f8",
      "3c21c41e324c4469a0f8dd1d6e0ff940",
      "21a140c4ca474349b7c112a37056fbc6",
      "a35d1c7851474d9b85486fd9f3624b17",
      "93e85364a35a476482fd2ceaac3a03eb",
      "8d7d0c05987043f1ae611abaaa1c029d",
      "beeb68ff67184bf8a9a9cfed9643590f",
      "0b1a071f96694680a8281e0c69d04b3b",
      "4c46814a5583400a940a7e72a1a2519e",
      "efe638c27e9c41cf978b7fe71ec7ac00",
      "354f8f71f5004c30a3cbb44d440e1c9c",
      "794723a22b4b441c9c1f1884d2559d65",
      "eda78590da264a6f83ed6cfc50ff15b3",
      "089853e77ac845f0828fbfcbfb9c291d",
      "cfa0708883ee42bb8dcaaa360a0685bf",
      "ee80964b388c4a478ca581d09600443e",
      "130699bdd1df44bba82ddc9ca313cb8e",
      "b5bde952c752490f93ca68af32a95d13",
      "7cff0f1809c44d3db39787215096da9c",
      "8c127f9ad8cf428ca01310ee9be539a6",
      "5a31694d336443cf90c9f07a48d84da8",
      "74e30cdcdcf94795815c5e22cdcf7e60",
      "1014179bc94a4ee3b3f9105f55ad1a56"
     ]
    },
    "executionInfo": {
     "elapsed": 1415,
     "status": "ok",
     "timestamp": 1656506579049,
     "user": {
      "displayName": "Aijun Zhang",
      "userId": "04897292400908543781"
     },
     "user_tz": -480
    },
    "id": "bb72c998",
    "outputId": "623c6b92-78ae-414b-f910-25320ae6b14c"
   },
   "outputs": [
    {
     "data": {
      "application/vnd.jupyter.widget-view+json": {
       "model_id": "39c0973910524189a0018cbd50288f9c",
       "version_major": 2,
       "version_minor": 0
      },
      "text/plain": [
       "HTML(value='\\n        <style>\\n\\n        .left-label {\\n            width: 30%;\\n        }\\n\\n        .card-pa…"
      ]
     },
     "metadata": {},
     "output_type": "display_data"
    },
    {
     "data": {
      "application/vnd.jupyter.widget-view+json": {
       "model_id": "1bbde89d06424c599fa956496a39572f",
       "version_major": 2,
       "version_minor": 0
      },
      "text/plain": [
       "HTML(value='<link rel=\"stylesheet\" href=\"//stackpath.bootstrapcdn.com/font-awesome/4.7.0/css/font-awesome.min.…"
      ]
     },
     "metadata": {},
     "output_type": "display_data"
    },
    {
     "data": {
      "application/vnd.jupyter.widget-view+json": {
       "model_id": "22b0905aadcf4d06826501ef277ecb23",
       "version_major": 2,
       "version_minor": 0
      },
      "text/plain": [
       "VBox(children=(HTML(value='Data Shape:(17379, 13)'), Tab(children=(Output(), Output()), _dom_classes=('data-su…"
      ]
     },
     "metadata": {},
     "output_type": "display_data"
    }
   ],
   "source": [
    "# Exclude these features one-by-one: \"season\", \"workingday\", \"atemp\" (highly correlated with others)\n",
    "exp.data_summary()"
   ]
  },
  {
   "cell_type": "code",
   "execution_count": null,
   "id": "dfa7f482",
   "metadata": {
    "colab": {
     "base_uri": "https://localhost:8080/",
     "height": 335,
     "referenced_widgets": [
      "c1336a9a94474d63a0d039b4ff95afee",
      "0ce81c0f6e8f43a68d9dbb1e06c3f375",
      "48619b175a5c4820991a7d856aa0bb67",
      "be4b172a68084850b59de4e5c82cba6e",
      "a127fd21e1cb43fb9e42e35e189a3fc4",
      "40ff1b68733a45108e35d2d3510e87c5",
      "7dd8aa983fff40a09b568cc9ad9b0b8b",
      "5fc3728813c84ad58e83a285daf95d98",
      "91c4186519bc47cfa6c45fd1c556e36e",
      "6ae0715599a845bd80df85356bc4eccf",
      "aaaadbd1c5cd4c06b9da6bddfb33627f",
      "d90e7ac86035412987a0923aaee29f7c",
      "a75a2b2b6cdc440fa0ee385ccb541bef",
      "365403c5a6864f289d75d673376a54f8",
      "49eef8398e2044ed995e6d26fece1319",
      "cec01ab28d664293ade8fa09df6c5b7c",
      "73ca8880e6994e868971a1a507fbfcd0",
      "3b1e0dfef8ee481895463de82e46913b",
      "5bf7964a41624636a98b3c4ea9446e61",
      "0988240d423e4505bcabf7cc6a4f44aa",
      "87450d7e42254affb853ac40fe8c6077",
      "6ddf5112be6448499e077103d62ef9f3",
      "f18058e9370b4351ac8c0efed4f10588",
      "74f06f9b2db841caa47ccf5c84277600",
      "1580005d3ed14790af32158e6b417543",
      "e60a65f2551642a0898cc97d26e3621f",
      "1527f000a8a446b089559be2838bb7cb",
      "f6d0cf170ca343158b9ee036321eb1cd",
      "e9a519f8a0c047298c2c0a1a7b41481d",
      "5fd550a808024c4ba60b03c2dd737427",
      "8eb31fdd4b3e40689ca4cd3d987e31fb",
      "6e55af9b5ae94a089782aec9ea317770",
      "ece0182c73794d84a2a3dfa326c0db0b",
      "8c94b7b396174370b194aa63210d466f",
      "10dc57f48d914bd19355e2e3eee3752c",
      "8b895dd0336347bf9a25cf0378efdc80",
      "9d728dfe6a99487994c3f8352e65a839",
      "4fda3492d06a4e06a9466622387a09c8",
      "3d0ca9af29b64ed7b427a9a7fe538ec9",
      "4a32970ddbff41dba0f7edd1cee29785",
      "47a4582ed2fa44649f7c70cd056cffe7",
      "863aa297ab854e2ea1c877b8598a8758",
      "c3afcb2bb2c44ea497136709938b0b03",
      "15481bdb396149d2b7331601c501e795",
      "c021baa394eb4581b5121a1d9685907b",
      "727947493d4248958c1031dd2bfe77c2",
      "858c7e0cc80d40dc8c329952ee74a7f7",
      "65216a6af11946aca7d283022aef3410",
      "2dbf508656ba4d7e9b5b5e2666353bdf",
      "ceddb5f10baa4fc69c4e17426720c502",
      "ff73a45199d9453ba4b28dfe30c7ac2a",
      "80bfc1e9c2e0488487f0647c374a949a",
      "70a68c1c2e094fcd8180fde3725afd55",
      "2a27e008aab54a8ba97f856f70088a0e",
      "b9858f6973ea463f957c185f33dbd95b",
      "ff81de9f26934b578f61ad506d854fcd",
      "b7ba55025bb54cd19d4e31d51ad8ae33",
      "35fd4425b5804f448f35a6c4d3e0f9ec",
      "3feb307190f54af98b487379cba576d5",
      "9bb55bbca90c41b9a813bd901abf6e96",
      "4c4f18c2f7364dc99f632697cc6760d8",
      "96f100bd954c487ea751c56fc1fba243",
      "f3caafb55f4e49da9776361d3de0eb68",
      "604292fa6d824d5c97a6e114f831a9ba",
      "b6b085e7f6c646b6837d194e94ab5e30"
     ]
    },
    "executionInfo": {
     "elapsed": 1001,
     "status": "ok",
     "timestamp": 1656506619006,
     "user": {
      "displayName": "Aijun Zhang",
      "userId": "04897292400908543781"
     },
     "user_tz": -480
    },
    "id": "dfa7f482",
    "outputId": "654c70be-a6d1-43bc-cf1f-829211271613"
   },
   "outputs": [
    {
     "data": {
      "application/vnd.jupyter.widget-view+json": {
       "model_id": "c1336a9a94474d63a0d039b4ff95afee",
       "version_major": 2,
       "version_minor": 0
      },
      "text/plain": [
       "HTML(value='\\n        <style>\\n\\n        .left-label {\\n            width: 30%;\\n        }\\n\\n        .card-pa…"
      ]
     },
     "metadata": {},
     "output_type": "display_data"
    },
    {
     "data": {
      "application/vnd.jupyter.widget-view+json": {
       "model_id": "be4b172a68084850b59de4e5c82cba6e",
       "version_major": 2,
       "version_minor": 0
      },
      "text/plain": [
       "Output()"
      ]
     },
     "metadata": {},
     "output_type": "display_data"
    },
    {
     "data": {
      "application/vnd.jupyter.widget-view+json": {
       "model_id": "40ff1b68733a45108e35d2d3510e87c5",
       "version_major": 2,
       "version_minor": 0
      },
      "text/plain": [
       "VBox(children=(HBox(children=(VBox(children=(HTML(value='<p>Target Variable:</p>'), HTML(value='<p>Random Seed…"
      ]
     },
     "metadata": {},
     "output_type": "display_data"
    }
   ],
   "source": [
    "exp.data_prepare()"
   ]
  },
  {
   "cell_type": "code",
   "execution_count": null,
   "id": "e6cf0f5e",
   "metadata": {
    "colab": {
     "base_uri": "https://localhost:8080/",
     "height": 566,
     "referenced_widgets": [
      "24601b840bbf485b89842d7833137713",
      "fe3ad8ea224e49249393e2de73e3b75c",
      "7cf5eabc2e414aae8134730bb151fa6b",
      "79474d9fde764dc587ac17f46ae2e352",
      "e5026106a10e4131b5369eab29bb4206",
      "12a552c00f204582b521e52df23ca113",
      "6e6e3abeaf29407eb2187b9715d36037",
      "ddf6ef903a4b4affa23b76cc21d8aabf",
      "9d7754e47c9f416584f367db20526e92",
      "3f38f3a900de427e80dc9cf5cdb6bdb8",
      "908cd5c070dc496489fdcbdc36a1025f",
      "b59fab9ddb1142909cbb690593c9daa8",
      "c167fac10c8c4c2b97ce7d018845d103",
      "849e8d65fa5a489ebd0fddf9f93d5ea2",
      "b304e7682f4b44cea307689128082ba1",
      "9e36b7ecbcf8447fa469fdcbb8d3e05c",
      "38408daf88984ab2a207dda6f46b15d0",
      "fe82fbb9b2174aa5a6dbe65c74ececa8",
      "d6d2b34ff2104de79a26a356b536201c",
      "c4a55f2508a94a46807ef02d5cf99d10",
      "cd3ef222ebd540a88a9e77a144ff67ea",
      "5f46c4d054d347c4a514ecd66230d0b3",
      "9459d9bb42e84a0096e7908dfc9c004b",
      "d2c734eae2084a9f990ed8ac4f0b15fc",
      "744bbea7bca741d2a15142c8c4271b22",
      "7091e45bb8084df0be5c079c982d4bf8",
      "3c4788db53d941efa3197f0d0b65fed0",
      "28c510159f31467c934e4bc7abd8ab91",
      "7987ce1d40424214996249bd6937f5f6",
      "24454f85c4924752a7b315d40ccf3a56",
      "f875b8f00eea46ea8c6519cbe69ad054",
      "c7a3e425e929423fa615f3a59737cf35",
      "8b7d0a49159640869625dd9039351f96",
      "6df6c083920a479cb012fe825dd142c2",
      "9955a8ed899d4378a3bef955d6cb84c5",
      "19edea2475534682888841981c94c25e",
      "bc0275b94471456aae4effa92da859ff",
      "13a933f1a55941ec94326c24e2007761",
      "b00dadcd227348e8b1c1286dbc2e90dd",
      "7fb2210d6f094bc6b88bdd9c1987693f",
      "05deb50382d641748a98e8afd4728d98",
      "736de89531c24ee9bf0925d32945156a",
      "26871ec90b3d42b7ae09894f4aa89c15",
      "c6eb863099a44c3e8dd11beaca81d96c",
      "3eac1393126b43d88b4640fdbf440c2b",
      "8fb7881ae8564a87b5d4ef0fc9758cf3",
      "afc43fc23b6b47c5a7dca7a4df9971d0",
      "d5273c77c067461ba63dcfa7d9464abf",
      "ce60cc76527b43aa830857369dc062c6",
      "0a91202be11841499a3cd0d33f1cd804",
      "e0e41096a8db464e948dc2a4ca7d96dd",
      "1118d2d6830f49508c95013c9e0eb34e",
      "f3d92a0e802e41cb8700d7cb3e3d474c"
     ]
    },
    "executionInfo": {
     "elapsed": 1787,
     "status": "ok",
     "timestamp": 1656506629658,
     "user": {
      "displayName": "Aijun Zhang",
      "userId": "04897292400908543781"
     },
     "user_tz": -480
    },
    "id": "e6cf0f5e",
    "outputId": "34726d54-f1c4-4f6b-f6c9-e63ad15f058c"
   },
   "outputs": [
    {
     "data": {
      "application/vnd.jupyter.widget-view+json": {
       "model_id": "24601b840bbf485b89842d7833137713",
       "version_major": 2,
       "version_minor": 0
      },
      "text/plain": [
       "HTML(value='\\n        <style>\\n\\n        .left-label {\\n            width: 30%;\\n        }\\n\\n        .card-pa…"
      ]
     },
     "metadata": {},
     "output_type": "display_data"
    },
    {
     "data": {
      "application/javascript": "google.colab.output.setIframeHeight(0, true, {maxHeight: 5000})",
      "text/plain": [
       "<IPython.core.display.Javascript object>"
      ]
     },
     "metadata": {},
     "output_type": "display_data"
    },
    {
     "data": {
      "application/vnd.jupyter.widget-view+json": {
       "model_id": "79474d9fde764dc587ac17f46ae2e352",
       "version_major": 2,
       "version_minor": 0
      },
      "text/plain": [
       "HBox(children=(VBox(children=(HTML(value='<h4>Univariate:</h4>'), HBox(children=(Dropdown(layout=Layout(width=…"
      ]
     },
     "metadata": {},
     "output_type": "display_data"
    }
   ],
   "source": [
    "exp.eda()"
   ]
  },
  {
   "cell_type": "markdown",
   "id": "5b6a7196",
   "metadata": {
    "id": "5b6a7196"
   },
   "source": [
    "# Post-hoc Explainability Tools/Puzzles"
   ]
  },
  {
   "cell_type": "markdown",
   "id": "c09ce62b",
   "metadata": {
    "id": "c09ce62b"
   },
   "source": [
    "## Example 1: XGBoost Model"
   ]
  },
  {
   "cell_type": "code",
   "execution_count": null,
   "id": "71f60cb3",
   "metadata": {
    "colab": {
     "base_uri": "https://localhost:8080/",
     "height": 68,
     "referenced_widgets": [
      "1b3cfbc9d8f94a11a14f4f808b78a44e",
      "a5400fdd6fc843f2bf92225d683c8bda",
      "20c25d38718e4dce97bf2a1d7095cd62",
      "4503d832a4a647508cde3784a3fb6238",
      "4224111814b44ee8b67b643ad5275f83",
      "1e38a0cb88474c89b5aabf416702b6a3"
     ]
    },
    "executionInfo": {
     "elapsed": 7856,
     "status": "ok",
     "timestamp": 1656506659487,
     "user": {
      "displayName": "Aijun Zhang",
      "userId": "04897292400908543781"
     },
     "user_tz": -480
    },
    "id": "71f60cb3",
    "outputId": "824b6380-d6c7-4bf1-bba2-ade578f97d61",
    "run_control": {
     "marked": false
    }
   },
   "outputs": [
    {
     "data": {
      "application/vnd.jupyter.widget-view+json": {
       "model_id": "1b3cfbc9d8f94a11a14f4f808b78a44e",
       "version_major": 2,
       "version_minor": 0
      },
      "text/plain": [
       "HTML(value='\\n        <style>\\n\\n        .left-label {\\n            width: 30%;\\n        }\\n\\n        .card-pa…"
      ]
     },
     "metadata": {},
     "output_type": "display_data"
    },
    {
     "data": {
      "application/vnd.jupyter.widget-view+json": {
       "model_id": "4503d832a4a647508cde3784a3fb6238",
       "version_major": 2,
       "version_minor": 0
      },
      "text/plain": [
       "HTML(value=\"<p class='notification info'>Register XGBoost Done</p>\")"
      ]
     },
     "metadata": {},
     "output_type": "display_data"
    }
   ],
   "source": [
    "import xgboost as xgb\n",
    "model = xgb.XGBRegressor(max_depth=7, n_estimators=500)\n",
    "exp.model_train(model, name=\"XGBoost\")"
   ]
  },
  {
   "cell_type": "code",
   "execution_count": null,
   "id": "iAnuwdceO8Dj",
   "metadata": {
    "colab": {
     "base_uri": "https://localhost:8080/",
     "height": 147,
     "referenced_widgets": [
      "0ff2674fc43d440bb6987f209239b1c7",
      "66793db9ffe34a89bcf7f1150a6b93c6",
      "759091da5c9346bd87e1aee0380e8f44"
     ]
    },
    "executionInfo": {
     "elapsed": 637,
     "status": "ok",
     "timestamp": 1656506660087,
     "user": {
      "displayName": "Aijun Zhang",
      "userId": "04897292400908543781"
     },
     "user_tz": -480
    },
    "id": "iAnuwdceO8Dj",
    "outputId": "10b48574-b51d-48d8-8c05-ccaf850bbedb",
    "run_control": {
     "marked": false
    }
   },
   "outputs": [
    {
     "data": {
      "application/vnd.jupyter.widget-view+json": {
       "model_id": "0ff2674fc43d440bb6987f209239b1c7",
       "version_major": 2,
       "version_minor": 0
      },
      "text/plain": [
       "HTML(value='\\n        <style>\\n\\n        .left-label {\\n            width: 30%;\\n        }\\n\\n        .card-pa…"
      ]
     },
     "metadata": {},
     "output_type": "display_data"
    },
    {
     "data": {
      "text/html": [
       "\n",
       "  <div id=\"df-a2b636a5-c575-47bf-b771-e0c6c1aa79cd\">\n",
       "    <div class=\"colab-df-container\">\n",
       "      <div>\n",
       "<style scoped>\n",
       "    .dataframe tbody tr th:only-of-type {\n",
       "        vertical-align: middle;\n",
       "    }\n",
       "\n",
       "    .dataframe tbody tr th {\n",
       "        vertical-align: top;\n",
       "    }\n",
       "\n",
       "    .dataframe thead th {\n",
       "        text-align: right;\n",
       "    }\n",
       "</style>\n",
       "<table border=\"1\" class=\"dataframe\">\n",
       "  <thead>\n",
       "    <tr style=\"text-align: right;\">\n",
       "      <th></th>\n",
       "      <th></th>\n",
       "      <th>MSE</th>\n",
       "      <th>MAE</th>\n",
       "      <th>R2</th>\n",
       "    </tr>\n",
       "  </thead>\n",
       "  <tbody>\n",
       "    <tr>\n",
       "      <th>0</th>\n",
       "      <td>Train</td>\n",
       "      <td>0.000047</td>\n",
       "      <td>0.004484</td>\n",
       "      <td>0.998625</td>\n",
       "    </tr>\n",
       "    <tr>\n",
       "      <th>1</th>\n",
       "      <td>Test</td>\n",
       "      <td>0.001905</td>\n",
       "      <td>0.027622</td>\n",
       "      <td>0.945735</td>\n",
       "    </tr>\n",
       "    <tr>\n",
       "      <th>2</th>\n",
       "      <td>Gap</td>\n",
       "      <td>0.001857</td>\n",
       "      <td>0.023138</td>\n",
       "      <td>-0.052891</td>\n",
       "    </tr>\n",
       "  </tbody>\n",
       "</table>\n",
       "</div>\n",
       "      <button class=\"colab-df-convert\" onclick=\"convertToInteractive('df-a2b636a5-c575-47bf-b771-e0c6c1aa79cd')\"\n",
       "              title=\"Convert this dataframe to an interactive table.\"\n",
       "              style=\"display:none;\">\n",
       "        \n",
       "  <svg xmlns=\"http://www.w3.org/2000/svg\" height=\"24px\"viewBox=\"0 0 24 24\"\n",
       "       width=\"24px\">\n",
       "    <path d=\"M0 0h24v24H0V0z\" fill=\"none\"/>\n",
       "    <path d=\"M18.56 5.44l.94 2.06.94-2.06 2.06-.94-2.06-.94-.94-2.06-.94 2.06-2.06.94zm-11 1L8.5 8.5l.94-2.06 2.06-.94-2.06-.94L8.5 2.5l-.94 2.06-2.06.94zm10 10l.94 2.06.94-2.06 2.06-.94-2.06-.94-.94-2.06-.94 2.06-2.06.94z\"/><path d=\"M17.41 7.96l-1.37-1.37c-.4-.4-.92-.59-1.43-.59-.52 0-1.04.2-1.43.59L10.3 9.45l-7.72 7.72c-.78.78-.78 2.05 0 2.83L4 21.41c.39.39.9.59 1.41.59.51 0 1.02-.2 1.41-.59l7.78-7.78 2.81-2.81c.8-.78.8-2.07 0-2.86zM5.41 20L4 18.59l7.72-7.72 1.47 1.35L5.41 20z\"/>\n",
       "  </svg>\n",
       "      </button>\n",
       "      \n",
       "  <style>\n",
       "    .colab-df-container {\n",
       "      display:flex;\n",
       "      flex-wrap:wrap;\n",
       "      gap: 12px;\n",
       "    }\n",
       "\n",
       "    .colab-df-convert {\n",
       "      background-color: #E8F0FE;\n",
       "      border: none;\n",
       "      border-radius: 50%;\n",
       "      cursor: pointer;\n",
       "      display: none;\n",
       "      fill: #1967D2;\n",
       "      height: 32px;\n",
       "      padding: 0 0 0 0;\n",
       "      width: 32px;\n",
       "    }\n",
       "\n",
       "    .colab-df-convert:hover {\n",
       "      background-color: #E2EBFA;\n",
       "      box-shadow: 0px 1px 2px rgba(60, 64, 67, 0.3), 0px 1px 3px 1px rgba(60, 64, 67, 0.15);\n",
       "      fill: #174EA6;\n",
       "    }\n",
       "\n",
       "    [theme=dark] .colab-df-convert {\n",
       "      background-color: #3B4455;\n",
       "      fill: #D2E3FC;\n",
       "    }\n",
       "\n",
       "    [theme=dark] .colab-df-convert:hover {\n",
       "      background-color: #434B5C;\n",
       "      box-shadow: 0px 1px 3px 1px rgba(0, 0, 0, 0.15);\n",
       "      filter: drop-shadow(0px 1px 2px rgba(0, 0, 0, 0.3));\n",
       "      fill: #FFFFFF;\n",
       "    }\n",
       "  </style>\n",
       "\n",
       "      <script>\n",
       "        const buttonEl =\n",
       "          document.querySelector('#df-a2b636a5-c575-47bf-b771-e0c6c1aa79cd button.colab-df-convert');\n",
       "        buttonEl.style.display =\n",
       "          google.colab.kernel.accessAllowed ? 'block' : 'none';\n",
       "\n",
       "        async function convertToInteractive(key) {\n",
       "          const element = document.querySelector('#df-a2b636a5-c575-47bf-b771-e0c6c1aa79cd');\n",
       "          const dataTable =\n",
       "            await google.colab.kernel.invokeFunction('convertToInteractive',\n",
       "                                                     [key], {});\n",
       "          if (!dataTable) return;\n",
       "\n",
       "          const docLinkHtml = 'Like what you see? Visit the ' +\n",
       "            '<a target=\"_blank\" href=https://colab.research.google.com/notebooks/data_table.ipynb>data table notebook</a>'\n",
       "            + ' to learn more about interactive tables.';\n",
       "          element.innerHTML = '';\n",
       "          dataTable['output_type'] = 'display_data';\n",
       "          await google.colab.output.renderOutput(dataTable, element);\n",
       "          const docLink = document.createElement('div');\n",
       "          docLink.innerHTML = docLinkHtml;\n",
       "          element.appendChild(docLink);\n",
       "        }\n",
       "      </script>\n",
       "    </div>\n",
       "  </div>\n",
       "  "
      ],
      "text/plain": [
       "               MSE       MAE        R2\n",
       "0  Train  0.000047  0.004484  0.998625\n",
       "1   Test  0.001905  0.027622  0.945735\n",
       "2    Gap  0.001857  0.023138 -0.052891"
      ]
     },
     "metadata": {},
     "output_type": "display_data"
    }
   ],
   "source": [
    "# Check model performance\n",
    "exp.model_diagnose(model=\"XGBoost\", show='accuracy_table')"
   ]
  },
  {
   "cell_type": "code",
   "execution_count": null,
   "id": "9e9640be",
   "metadata": {
    "colab": {
     "base_uri": "https://localhost:8080/",
     "height": 354,
     "referenced_widgets": [
      "746d7171696548cd8decc97662461014",
      "c4a18d775f8e466c86a6e50653eb384b",
      "f2fa438ad1a74818a2a4c808c97d3c23"
     ]
    },
    "executionInfo": {
     "elapsed": 24,
     "status": "ok",
     "timestamp": 1656506660089,
     "user": {
      "displayName": "Aijun Zhang",
      "userId": "04897292400908543781"
     },
     "user_tz": -480
    },
    "id": "9e9640be",
    "outputId": "2575e66c-5623-471a-d32a-adaa19bfc24c",
    "run_control": {
     "marked": false
    }
   },
   "outputs": [
    {
     "data": {
      "application/vnd.jupyter.widget-view+json": {
       "model_id": "746d7171696548cd8decc97662461014",
       "version_major": 2,
       "version_minor": 0
      },
      "text/plain": [
       "HTML(value='\\n        <style>\\n\\n        .left-label {\\n            width: 30%;\\n        }\\n\\n        .card-pa…"
      ]
     },
     "metadata": {},
     "output_type": "display_data"
    },
    {
     "data": {
      "image/png": "[encoded data removed]",
      "text/plain": [
       "<Figure size 432x360 with 1 Axes>"
      ]
     },
     "metadata": {
      "needs_background": "light"
     },
     "output_type": "display_data"
    }
   ],
   "source": [
    "# Tree-based Variable Importance\n",
    "import matplotlib.pyplot as plt\n",
    "plt.rcParams[\"figure.figsize\"] = (6, 5)\n",
    "\n",
    "feature_names = exp.get_feature_names()\n",
    "model.get_booster().feature_names = feature_names\n",
    "xgb.plot_importance(model, title=\"XGBoost Variable Importance\", show_values=False)\n",
    "plt.show()"
   ]
  },
  {
   "cell_type": "code",
   "execution_count": null,
   "id": "ccnv_SfhMa4K",
   "metadata": {
    "colab": {
     "base_uri": "https://localhost:8080/",
     "height": 373,
     "referenced_widgets": [
      "eb15b20ae0704ef881b8adf7e9820524",
      "6cf71726e2054d418b5905eed48f67ad",
      "027f5bd2d53f4a32b58690097204e9dd"
     ]
    },
    "executionInfo": {
     "elapsed": 7862,
     "status": "ok",
     "timestamp": 1656506667936,
     "user": {
      "displayName": "Aijun Zhang",
      "userId": "04897292400908543781"
     },
     "user_tz": -480
    },
    "id": "ccnv_SfhMa4K",
    "outputId": "d280cc4c-1964-41ca-e836-6b966f30ed8b",
    "run_control": {
     "marked": false
    }
   },
   "outputs": [
    {
     "data": {
      "application/vnd.jupyter.widget-view+json": {
       "model_id": "eb15b20ae0704ef881b8adf7e9820524",
       "version_major": 2,
       "version_minor": 0
      },
      "text/plain": [
       "HTML(value='\\n        <style>\\n\\n        .left-label {\\n            width: 30%;\\n        }\\n\\n        .card-pa…"
      ]
     },
     "metadata": {},
     "output_type": "display_data"
    },
    {
     "data": {
      "image/png": "[encoded data removed]",
      "text/plain": [
       "<Figure size 432x360 with 1 Axes>"
      ]
     },
     "metadata": {
      "needs_background": "light"
     },
     "output_type": "display_data"
    }
   ],
   "source": [
    "# Permutation Feature Importance\n",
    "exp.model_explain(model='XGBoost', show='pfi', figsize=(6, 5))"
   ]
  },
  {
   "cell_type": "code",
   "execution_count": null,
   "id": "ob5movQzMoQW",
   "metadata": {
    "colab": {
     "base_uri": "https://localhost:8080/",
     "height": 445,
     "referenced_widgets": [
      "967f27e063ae4d3ca144264510f9621c",
      "e940ae1b10f44f4cb856f3746740ca4b",
      "e0960be3c4ba4484b0dea8577bbc62ee"
     ]
    },
    "executionInfo": {
     "elapsed": 11061,
     "status": "ok",
     "timestamp": 1656506678978,
     "user": {
      "displayName": "Aijun Zhang",
      "userId": "04897292400908543781"
     },
     "user_tz": -480
    },
    "id": "ob5movQzMoQW",
    "outputId": "89588038-45dc-4345-eb7c-5005fe676102",
    "run_control": {
     "marked": false
    }
   },
   "outputs": [
    {
     "data": {
      "application/vnd.jupyter.widget-view+json": {
       "model_id": "967f27e063ae4d3ca144264510f9621c",
       "version_major": 2,
       "version_minor": 0
      },
      "text/plain": [
       "HTML(value='\\n        <style>\\n\\n        .left-label {\\n            width: 30%;\\n        }\\n\\n        .card-pa…"
      ]
     },
     "metadata": {},
     "output_type": "display_data"
    },
    {
     "data": {
      "image/png": "[encoded data removed]",
      "text/plain": [
       "<Figure size 576x432 with 1 Axes>"
      ]
     },
     "metadata": {},
     "output_type": "display_data"
    }
   ],
   "source": [
    "# SHAP Feature Importance\n",
    "exp.model_explain(model='XGBoost', show='shap_fi', sample_size=500, figsize=(6, 5))"
   ]
  },
  {
   "cell_type": "code",
   "execution_count": null,
   "id": "ylvQJFNZMy3z",
   "metadata": {
    "colab": {
     "base_uri": "https://localhost:8080/",
     "height": 373,
     "referenced_widgets": [
      "5e4a06d6055742b39b3c7564b24ec1cb",
      "6851d9980a114152a80abe6c6f0a7ad5",
      "1ead1d8156eb4e5fb6f0caeae732b762"
     ]
    },
    "executionInfo": {
     "elapsed": 5015,
     "status": "ok",
     "timestamp": 1656506683976,
     "user": {
      "displayName": "Aijun Zhang",
      "userId": "04897292400908543781"
     },
     "user_tz": -480
    },
    "id": "ylvQJFNZMy3z",
    "outputId": "4b4ba620-8dd5-4a72-c482-37cdee12f2e9",
    "run_control": {
     "marked": false
    }
   },
   "outputs": [
    {
     "data": {
      "application/vnd.jupyter.widget-view+json": {
       "model_id": "5e4a06d6055742b39b3c7564b24ec1cb",
       "version_major": 2,
       "version_minor": 0
      },
      "text/plain": [
       "HTML(value='\\n        <style>\\n\\n        .left-label {\\n            width: 30%;\\n        }\\n\\n        .card-pa…"
      ]
     },
     "metadata": {},
     "output_type": "display_data"
    },
    {
     "data": {
      "image/png": "[encoded data removed]",
      "text/plain": [
       "<Figure size 360x360 with 1 Axes>"
      ]
     },
     "metadata": {
      "needs_background": "light"
     },
     "output_type": "display_data"
    }
   ],
   "source": [
    "# PDP \n",
    "exp.model_explain(model='XGBoost', show='pdp', uni_feature='temp', figsize=(6, 5))"
   ]
  },
  {
   "cell_type": "code",
   "execution_count": null,
   "id": "fUxxtph5M5Ph",
   "metadata": {
    "colab": {
     "base_uri": "https://localhost:8080/",
     "height": 373,
     "referenced_widgets": [
      "122a65a2f1c54b9eb79867fc8679eac3",
      "efa686d1301c44ee8bddad560c16ab80",
      "6e7134f587b94af4b447f1a9841e064a"
     ]
    },
    "executionInfo": {
     "elapsed": 6538,
     "status": "ok",
     "timestamp": 1656506690492,
     "user": {
      "displayName": "Aijun Zhang",
      "userId": "04897292400908543781"
     },
     "user_tz": -480
    },
    "id": "fUxxtph5M5Ph",
    "outputId": "e1b4489f-d07b-48e2-86c0-445fded84c41",
    "run_control": {
     "marked": false
    }
   },
   "outputs": [
    {
     "data": {
      "application/vnd.jupyter.widget-view+json": {
       "model_id": "122a65a2f1c54b9eb79867fc8679eac3",
       "version_major": 2,
       "version_minor": 0
      },
      "text/plain": [
       "HTML(value='\\n        <style>\\n\\n        .left-label {\\n            width: 30%;\\n        }\\n\\n        .card-pa…"
      ]
     },
     "metadata": {},
     "output_type": "display_data"
    },
    {
     "data": {
      "image/png": "[encoded data removed]",
      "text/plain": [
       "<Figure size 360x360 with 1 Axes>"
      ]
     },
     "metadata": {
      "needs_background": "light"
     },
     "output_type": "display_data"
    }
   ],
   "source": [
    "# ICE\n",
    "exp.model_explain(model='XGBoost', show='ice', uni_feature='temp', figsize=(6, 5))"
   ]
  },
  {
   "cell_type": "code",
   "execution_count": null,
   "id": "W6NjRGeOM_VV",
   "metadata": {
    "colab": {
     "base_uri": "https://localhost:8080/",
     "height": 373,
     "referenced_widgets": [
      "7f38ce9afb7e4e3396faa2d04d3e73bf",
      "e865e773343a4c90af34168d5fa4be25",
      "f200b9b3e86b4ff8b78175a6997da0e2"
     ]
    },
    "executionInfo": {
     "elapsed": 654,
     "status": "ok",
     "timestamp": 1656506691133,
     "user": {
      "displayName": "Aijun Zhang",
      "userId": "04897292400908543781"
     },
     "user_tz": -480
    },
    "id": "W6NjRGeOM_VV",
    "outputId": "6bd06779-9689-4b6a-c2d7-09764f371c45",
    "run_control": {
     "marked": false
    }
   },
   "outputs": [
    {
     "data": {
      "application/vnd.jupyter.widget-view+json": {
       "model_id": "7f38ce9afb7e4e3396faa2d04d3e73bf",
       "version_major": 2,
       "version_minor": 0
      },
      "text/plain": [
       "HTML(value='\\n        <style>\\n\\n        .left-label {\\n            width: 30%;\\n        }\\n\\n        .card-pa…"
      ]
     },
     "metadata": {},
     "output_type": "display_data"
    },
    {
     "data": {
      "image/png": "[encoded data removed]",
      "text/plain": [
       "<Figure size 360x360 with 1 Axes>"
      ]
     },
     "metadata": {
      "needs_background": "light"
     },
     "output_type": "display_data"
    }
   ],
   "source": [
    "# ALE\n",
    "exp.model_explain(model='XGBoost', show='ale', uni_feature='temp', figsize=(6, 5))"
   ]
  },
  {
   "cell_type": "code",
   "execution_count": null,
   "id": "m0DTdKhnNGNA",
   "metadata": {
    "colab": {
     "base_uri": "https://localhost:8080/",
     "height": 445,
     "referenced_widgets": [
      "4dbc8509d04d4b188405d1406a527c40",
      "da0a408866634466837b4fc88389a201",
      "9320ec36eb134581a17ce38a98a6e5a2"
     ]
    },
    "executionInfo": {
     "elapsed": 621,
     "status": "ok",
     "timestamp": 1656506691740,
     "user": {
      "displayName": "Aijun Zhang",
      "userId": "04897292400908543781"
     },
     "user_tz": -480
    },
    "id": "m0DTdKhnNGNA",
    "outputId": "c5fddc50-4455-4555-a925-37167890ce13",
    "run_control": {
     "marked": false
    }
   },
   "outputs": [
    {
     "data": {
      "application/vnd.jupyter.widget-view+json": {
       "model_id": "4dbc8509d04d4b188405d1406a527c40",
       "version_major": 2,
       "version_minor": 0
      },
      "text/plain": [
       "HTML(value='\\n        <style>\\n\\n        .left-label {\\n            width: 30%;\\n        }\\n\\n        .card-pa…"
      ]
     },
     "metadata": {},
     "output_type": "display_data"
    },
    {
     "data": {
      "image/png": "[encoded data removed]",
      "text/plain": [
       "<Figure size 576x432 with 2 Axes>"
      ]
     },
     "metadata": {
      "needs_background": "light"
     },
     "output_type": "display_data"
    }
   ],
   "source": [
    "# Local - LIME\n",
    "exp.model_explain(model='XGBoost', show='lime', sample_id=1, figsize=(6, 5))"
   ]
  },
  {
   "cell_type": "code",
   "execution_count": null,
   "id": "HviIG4zDNMEC",
   "metadata": {
    "colab": {
     "base_uri": "https://localhost:8080/",
     "height": 445,
     "referenced_widgets": [
      "02a70728dda1458d9a2eaa2b31495b82",
      "f31821ab9b9f4988a848d805c693fe1c",
      "555a9a9ffac540bfa6fcb9a92f71deba"
     ]
    },
    "executionInfo": {
     "elapsed": 1113,
     "status": "ok",
     "timestamp": 1656506692843,
     "user": {
      "displayName": "Aijun Zhang",
      "userId": "04897292400908543781"
     },
     "user_tz": -480
    },
    "id": "HviIG4zDNMEC",
    "outputId": "31a63dfd-8ae1-41e8-d53d-3eb485760125",
    "run_control": {
     "marked": false
    }
   },
   "outputs": [
    {
     "data": {
      "application/vnd.jupyter.widget-view+json": {
       "model_id": "02a70728dda1458d9a2eaa2b31495b82",
       "version_major": 2,
       "version_minor": 0
      },
      "text/plain": [
       "HTML(value='\\n        <style>\\n\\n        .left-label {\\n            width: 30%;\\n        }\\n\\n        .card-pa…"
      ]
     },
     "metadata": {},
     "output_type": "display_data"
    },
    {
     "data": {
      "image/png": "[encoded data removed]",
      "text/plain": [
       "<Figure size 576x432 with 3 Axes>"
      ]
     },
     "metadata": {},
     "output_type": "display_data"
    }
   ],
   "source": [
    "# Local - SHAP (TreeSHAP)\n",
    "exp.model_explain(model='XGBoost', show='shap_waterfall', sample_id=1, figsize=(6, 5))"
   ]
  },
  {
   "cell_type": "markdown",
   "id": "Ueu80_lKNcYx",
   "metadata": {
    "id": "Ueu80_lKNcYx"
   },
   "source": [
    "## Example 2: DNN Model"
   ]
  },
  {
   "cell_type": "code",
   "execution_count": null,
   "id": "bUEpyCInNlAt",
   "metadata": {
    "colab": {
     "base_uri": "https://localhost:8080/",
     "height": 68,
     "referenced_widgets": [
      "48895d6f0d3948ca91aa11e24275f6d4",
      "f530323b9f2e4a938b07c7e47731790f",
      "3cb352880a5a4d82a4827e5f2d894778",
      "7d1ae5913f3541f69c38bb2579830434",
      "420eacd83af248c7872de9e33a07738f",
      "eb93f38b6b624d94bfe2062a2eefa5e6"
     ]
    },
    "executionInfo": {
     "elapsed": 15508,
     "status": "ok",
     "timestamp": 1656506708340,
     "user": {
      "displayName": "Aijun Zhang",
      "userId": "04897292400908543781"
     },
     "user_tz": -480
    },
    "id": "bUEpyCInNlAt",
    "outputId": "fdc52fe8-66dd-48e2-b9b2-911d518afce2",
    "run_control": {
     "marked": false
    }
   },
   "outputs": [
    {
     "data": {
      "application/vnd.jupyter.widget-view+json": {
       "model_id": "48895d6f0d3948ca91aa11e24275f6d4",
       "version_major": 2,
       "version_minor": 0
      },
      "text/plain": [
       "HTML(value='\\n        <style>\\n\\n        .left-label {\\n            width: 30%;\\n        }\\n\\n        .card-pa…"
      ]
     },
     "metadata": {},
     "output_type": "display_data"
    },
    {
     "data": {
      "application/vnd.jupyter.widget-view+json": {
       "model_id": "7d1ae5913f3541f69c38bb2579830434",
       "version_major": 2,
       "version_minor": 0
      },
      "text/plain": [
       "HTML(value=\"<p class='notification info'>Register MLP Done</p>\")"
      ]
     },
     "metadata": {},
     "output_type": "display_data"
    }
   ],
   "source": [
    "from sklearn.neural_network import MLPRegressor\n",
    "\n",
    "exp.model_train(MLPRegressor(hidden_layer_sizes=[100] * 4, activation=\"relu\", random_state=0), name='MLP')"
   ]
  },
  {
   "cell_type": "code",
   "execution_count": null,
   "id": "NAoFPsQXOKIu",
   "metadata": {
    "colab": {
     "base_uri": "https://localhost:8080/",
     "height": 373,
     "referenced_widgets": [
      "9eb2d5974eac43c3b92a6f4de84dd45d",
      "5289648688634dddbdc90a75ce285644",
      "f640550e63584486bf77e100cc1a4691"
     ]
    },
    "executionInfo": {
     "elapsed": 711,
     "status": "ok",
     "timestamp": 1656506708937,
     "user": {
      "displayName": "Aijun Zhang",
      "userId": "04897292400908543781"
     },
     "user_tz": -480
    },
    "id": "NAoFPsQXOKIu",
    "outputId": "6d2a286a-9d0e-422f-bcc7-55e433290031",
    "run_control": {
     "marked": false
    }
   },
   "outputs": [
    {
     "data": {
      "application/vnd.jupyter.widget-view+json": {
       "model_id": "9eb2d5974eac43c3b92a6f4de84dd45d",
       "version_major": 2,
       "version_minor": 0
      },
      "text/plain": [
       "HTML(value='\\n        <style>\\n\\n        .left-label {\\n            width: 30%;\\n        }\\n\\n        .card-pa…"
      ]
     },
     "metadata": {},
     "output_type": "display_data"
    },
    {
     "data": {
      "image/png": "[encoded data removed]",
      "text/plain": [
       "<Figure size 432x360 with 1 Axes>"
      ]
     },
     "metadata": {
      "needs_background": "light"
     },
     "output_type": "display_data"
    }
   ],
   "source": [
    "# Check model performance\n",
    "exp.model_compare(models=['XGBoost', 'MLP'], show=\"accuracy_mse\", figsize=(6, 5))"
   ]
  },
  {
   "cell_type": "code",
   "execution_count": null,
   "id": "ti4VaFg7PZJc",
   "metadata": {
    "colab": {
     "base_uri": "https://localhost:8080/",
     "height": 373,
     "referenced_widgets": [
      "28c2f05140e74d61a69ec7381c779755",
      "e686ed26ca78473c9a37cec21f5d3aa0",
      "f13761af75f947f6b56752a6efdc23bb"
     ]
    },
    "executionInfo": {
     "elapsed": 1198,
     "status": "ok",
     "timestamp": 1656506710089,
     "user": {
      "displayName": "Aijun Zhang",
      "userId": "04897292400908543781"
     },
     "user_tz": -480
    },
    "id": "ti4VaFg7PZJc",
    "outputId": "fb9cdd6e-4b9f-4c2e-e57f-49743e11446a",
    "run_control": {
     "marked": false
    }
   },
   "outputs": [
    {
     "data": {
      "application/vnd.jupyter.widget-view+json": {
       "model_id": "28c2f05140e74d61a69ec7381c779755",
       "version_major": 2,
       "version_minor": 0
      },
      "text/plain": [
       "HTML(value='\\n        <style>\\n\\n        .left-label {\\n            width: 30%;\\n        }\\n\\n        .card-pa…"
      ]
     },
     "metadata": {},
     "output_type": "display_data"
    },
    {
     "data": {
      "image/png": "[encoded data removed]",
      "text/plain": [
       "<Figure size 432x360 with 1 Axes>"
      ]
     },
     "metadata": {
      "needs_background": "light"
     },
     "output_type": "display_data"
    }
   ],
   "source": [
    "# Permutation Feature Importance\n",
    "exp.model_explain(model='MLP', show='pfi', figsize=(6, 5))"
   ]
  },
  {
   "cell_type": "code",
   "execution_count": null,
   "id": "_CPJzmrKQD9H",
   "metadata": {
    "colab": {
     "base_uri": "https://localhost:8080/",
     "height": 477,
     "referenced_widgets": [
      "0e7875df227a4c1b8e206caac90ca87e",
      "102dd020a7ef475abcc54d6be1ce15eb",
      "64c6a0f747af4a948c80137a29952570",
      "753ecf2d58864f8bb6e499309824655c",
      "d2ba10971d1848f89cacbb35b549a372",
      "a924379cf4dd4ae1802fa9509aef2390",
      "af65fecd246043aca8497fd1e352ea1e",
      "cd0ad0089df740918c62666f3f7ca6d0",
      "9385ce88382f4ef9b1f06ec29328dfb2",
      "440e5431bd1c4bfa97c9678d2bf818f2",
      "b0e9f66101b94e3391413dda58c2fedf",
      "b841fb903bf14b30bde1990e6dc1d71a",
      "242da1bb55864af3ab00bc5c34bf7707",
      "a419f8d5ce444ef5a622b1e8d1652963"
     ]
    },
    "executionInfo": {
     "elapsed": 26983,
     "status": "ok",
     "timestamp": 1656506737010,
     "user": {
      "displayName": "Aijun Zhang",
      "userId": "04897292400908543781"
     },
     "user_tz": -480
    },
    "id": "_CPJzmrKQD9H",
    "outputId": "baef4301-2d44-437c-d820-2c361b49afd2",
    "run_control": {
     "marked": false
    }
   },
   "outputs": [
    {
     "data": {
      "application/vnd.jupyter.widget-view+json": {
       "model_id": "0e7875df227a4c1b8e206caac90ca87e",
       "version_major": 2,
       "version_minor": 0
      },
      "text/plain": [
       "HTML(value='\\n        <style>\\n\\n        .left-label {\\n            width: 30%;\\n        }\\n\\n        .card-pa…"
      ]
     },
     "metadata": {},
     "output_type": "display_data"
    },
    {
     "data": {
      "application/vnd.jupyter.widget-view+json": {
       "model_id": "753ecf2d58864f8bb6e499309824655c",
       "version_major": 2,
       "version_minor": 0
      },
      "text/plain": [
       "  0%|          | 0/10 [00:00<?, ?it/s]"
      ]
     },
     "metadata": {},
     "output_type": "display_data"
    },
    {
     "data": {
      "image/png": "[encoded data removed]",
      "text/plain": [
       "<Figure size 576x432 with 1 Axes>"
      ]
     },
     "metadata": {},
     "output_type": "display_data"
    }
   ],
   "source": [
    "# SHAP Feature Importance\n",
    "exp.model_explain(model='MLP', show='shap_fi', sample_size=10, figsize=(6, 5))"
   ]
  },
  {
   "cell_type": "code",
   "execution_count": null,
   "id": "oj_OKloYQIec",
   "metadata": {
    "colab": {
     "base_uri": "https://localhost:8080/",
     "height": 373,
     "referenced_widgets": [
      "f6f7c4b61d6f4af19478c8ba83c388ca",
      "ccaa21e0e9e443fa84344ded1cd1fd6f",
      "8f2e09f8b82348cf868a726f01cd334e"
     ]
    },
    "executionInfo": {
     "elapsed": 2080,
     "status": "ok",
     "timestamp": 1656506739046,
     "user": {
      "displayName": "Aijun Zhang",
      "userId": "04897292400908543781"
     },
     "user_tz": -480
    },
    "id": "oj_OKloYQIec",
    "outputId": "53091334-20e5-4914-9892-5247936151ce",
    "run_control": {
     "marked": false
    }
   },
   "outputs": [
    {
     "data": {
      "application/vnd.jupyter.widget-view+json": {
       "model_id": "f6f7c4b61d6f4af19478c8ba83c388ca",
       "version_major": 2,
       "version_minor": 0
      },
      "text/plain": [
       "HTML(value='\\n        <style>\\n\\n        .left-label {\\n            width: 30%;\\n        }\\n\\n        .card-pa…"
      ]
     },
     "metadata": {},
     "output_type": "display_data"
    },
    {
     "data": {
      "image/png": "[encoded data removed]",
      "text/plain": [
       "<Figure size 360x360 with 1 Axes>"
      ]
     },
     "metadata": {
      "needs_background": "light"
     },
     "output_type": "display_data"
    }
   ],
   "source": [
    "# PDP \n",
    "exp.model_explain(model='MLP', show='pdp', uni_feature='temp', figsize=(6, 5))"
   ]
  },
  {
   "cell_type": "code",
   "execution_count": null,
   "id": "MQUsMrxzQMk5",
   "metadata": {
    "colab": {
     "base_uri": "https://localhost:8080/",
     "height": 373,
     "referenced_widgets": [
      "d030d71b9d684264bf952366c2a9005f",
      "de9b48d5528045e0a1d21274c152fd7c",
      "bf90b499da6e4f8b98e1a0dad754ca9b"
     ]
    },
    "executionInfo": {
     "elapsed": 3802,
     "status": "ok",
     "timestamp": 1656506742833,
     "user": {
      "displayName": "Aijun Zhang",
      "userId": "04897292400908543781"
     },
     "user_tz": -480
    },
    "id": "MQUsMrxzQMk5",
    "outputId": "4a8e5561-5294-4136-cb26-3c0178940e18",
    "run_control": {
     "marked": false
    }
   },
   "outputs": [
    {
     "data": {
      "application/vnd.jupyter.widget-view+json": {
       "model_id": "d030d71b9d684264bf952366c2a9005f",
       "version_major": 2,
       "version_minor": 0
      },
      "text/plain": [
       "HTML(value='\\n        <style>\\n\\n        .left-label {\\n            width: 30%;\\n        }\\n\\n        .card-pa…"
      ]
     },
     "metadata": {},
     "output_type": "display_data"
    },
    {
     "data": {
      "image/png": "[encoded data removed]",
      "text/plain": [
       "<Figure size 360x360 with 1 Axes>"
      ]
     },
     "metadata": {
      "needs_background": "light"
     },
     "output_type": "display_data"
    }
   ],
   "source": [
    "# ICE\n",
    "exp.model_explain(model='MLP', show='ice', uni_feature='temp', figsize=(6, 5))"
   ]
  },
  {
   "cell_type": "code",
   "execution_count": null,
   "id": "MHZ8pzzNQM_-",
   "metadata": {
    "colab": {
     "base_uri": "https://localhost:8080/",
     "height": 373,
     "referenced_widgets": [
      "648a13bc897b43cfb0b37a08b98856bc",
      "c0eba3d087aa4eada9a04c0529b9301a",
      "26eaefa9b141471c881c10b9cb88dcfd"
     ]
    },
    "executionInfo": {
     "elapsed": 775,
     "status": "ok",
     "timestamp": 1656506743556,
     "user": {
      "displayName": "Aijun Zhang",
      "userId": "04897292400908543781"
     },
     "user_tz": -480
    },
    "id": "MHZ8pzzNQM_-",
    "outputId": "4f43a87e-95f2-4d5d-a3a4-6392daf9c61f",
    "run_control": {
     "marked": false
    }
   },
   "outputs": [
    {
     "data": {
      "application/vnd.jupyter.widget-view+json": {
       "model_id": "648a13bc897b43cfb0b37a08b98856bc",
       "version_major": 2,
       "version_minor": 0
      },
      "text/plain": [
       "HTML(value='\\n        <style>\\n\\n        .left-label {\\n            width: 30%;\\n        }\\n\\n        .card-pa…"
      ]
     },
     "metadata": {},
     "output_type": "display_data"
    },
    {
     "data": {
      "image/png": "[encoded data removed]",
      "text/plain": [
       "<Figure size 360x360 with 1 Axes>"
      ]
     },
     "metadata": {
      "needs_background": "light"
     },
     "output_type": "display_data"
    }
   ],
   "source": [
    "# ALE \n",
    "exp.model_explain(model='MLP', show='ale', uni_feature='temp', figsize=(6, 5))"
   ]
  },
  {
   "cell_type": "code",
   "execution_count": null,
   "id": "7tCV2X0qQj7T",
   "metadata": {
    "colab": {
     "base_uri": "https://localhost:8080/",
     "height": 445,
     "referenced_widgets": [
      "e864c9d99d164bf1820d5377480b8c9b",
      "bef93d9801db435f99ec78226b1c3059",
      "8ef83cd9a15e4ce5a81bb8d892e8f4e6"
     ]
    },
    "executionInfo": {
     "elapsed": 57,
     "status": "ok",
     "timestamp": 1656506743562,
     "user": {
      "displayName": "Aijun Zhang",
      "userId": "04897292400908543781"
     },
     "user_tz": -480
    },
    "id": "7tCV2X0qQj7T",
    "outputId": "9249ea26-3ef7-43aa-c579-1dfa1c00e2fd",
    "run_control": {
     "marked": false
    }
   },
   "outputs": [
    {
     "data": {
      "application/vnd.jupyter.widget-view+json": {
       "model_id": "e864c9d99d164bf1820d5377480b8c9b",
       "version_major": 2,
       "version_minor": 0
      },
      "text/plain": [
       "HTML(value='\\n        <style>\\n\\n        .left-label {\\n            width: 30%;\\n        }\\n\\n        .card-pa…"
      ]
     },
     "metadata": {},
     "output_type": "display_data"
    },
    {
     "data": {
      "image/png": "[encoded data removed]",
      "text/plain": [
       "<Figure size 576x432 with 2 Axes>"
      ]
     },
     "metadata": {
      "needs_background": "light"
     },
     "output_type": "display_data"
    }
   ],
   "source": [
    "# Local - LIME\n",
    "exp.model_explain(model='MLP', show='lime', sample_id=1, figsize=(6, 5))"
   ]
  },
  {
   "cell_type": "code",
   "execution_count": null,
   "id": "UbJigYeOQzJh",
   "metadata": {
    "colab": {
     "base_uri": "https://localhost:8080/",
     "height": 445,
     "referenced_widgets": [
      "a24e640bbb904982b6aaa0c301d49609",
      "a478d9bea5b146c18b82492a5ead93d4",
      "e2d95b60344543ac8b4b7f6ad3f70b1b"
     ]
    },
    "executionInfo": {
     "elapsed": 3473,
     "status": "ok",
     "timestamp": 1656506746998,
     "user": {
      "displayName": "Aijun Zhang",
      "userId": "04897292400908543781"
     },
     "user_tz": -480
    },
    "id": "UbJigYeOQzJh",
    "outputId": "f6de78ce-b6a6-4790-e5f1-00dd0b192b7f",
    "run_control": {
     "marked": false
    }
   },
   "outputs": [
    {
     "data": {
      "application/vnd.jupyter.widget-view+json": {
       "model_id": "a24e640bbb904982b6aaa0c301d49609",
       "version_major": 2,
       "version_minor": 0
      },
      "text/plain": [
       "HTML(value='\\n        <style>\\n\\n        .left-label {\\n            width: 30%;\\n        }\\n\\n        .card-pa…"
      ]
     },
     "metadata": {},
     "output_type": "display_data"
    },
    {
     "data": {
      "image/png": "[encoded data removed]",
      "text/plain": [
       "<Figure size 576x432 with 3 Axes>"
      ]
     },
     "metadata": {},
     "output_type": "display_data"
    }
   ],
   "source": [
    "# Local - LIME (KernelSHAP)\n",
    "exp.model_explain(model='MLP', show='shap_waterfall', sample_id=1, figsize=(6, 5))"
   ]
  },
  {
   "cell_type": "markdown",
   "id": "M52Fuo0AWyzC",
   "metadata": {
    "id": "M52Fuo0AWyzC"
   },
   "source": [
    "# FANOVA-Intepretable models: GAMI-Net and EBM\n",
    "\n"
   ]
  },
  {
   "cell_type": "code",
   "execution_count": null,
   "id": "U17SpLwcWx3y",
   "metadata": {
    "colab": {
     "base_uri": "https://localhost:8080/",
     "height": 976,
     "referenced_widgets": [
      "c91fd1499e3f42d9ac77e423ae322103",
      "1e1f7c40555d460aa20a1784fd421b08",
      "9aa7e5e9678742eb9ee95648eb897a72",
      "b719081f220248c8973e473309916e6e",
      "b546de11afe8400c81bb32f42a3551e0",
      "eb1338afedea4b2eb214cf67d46052cb",
      "bbfa7ffd9dfa4205aed1042d6e78a7c8",
      "60b8eba19ca045a6ae36583dc3be2db8",
      "2f19550ce5d34635818bdc717190b9ec",
      "f8f50826ecb24948929296a15473fd35",
      "6be66937290545288036f8391d3f5649",
      "c0057a55a8fc44c7b931720f6fbbb726",
      "703f453e29da4c8fb18bf1c2cb623557",
      "7e2fa8dbe43d48698f54bda50509f333",
      "545daabedd1f46f293aea3f7e8637b8e",
      "a560ec7b95204b35b06fc09ce4f35cbf",
      "eeb04e803f094f2c8c1f12e599945fe0",
      "aa80631b14384504bdb2ce46ce3f484d",
      "dce1b99ecd804b1694ffefa7a69777e7",
      "dcaf2aaeb90b4991a4fb080b075c803e",
      "e9033a0ea08e4e3cb04a78fb891763f8",
      "7b9f4b9c86804cb89d83889a20f48d81",
      "f984da6dbd7c4647afa7f7712e69aafd",
      "a1e713a9c8e142b2ae8604b30d830c6e",
      "72ea6c43b144453394c41905ace61b2f",
      "87963ab9fc7648878afd62c805c66d93",
      "85c40893ecb14eeebd604b9e7dc70354",
      "0e3e5a8a472e43eba494be271230248c",
      "f5383d6b87864b7d8e50de346a388044",
      "a7619767596940be8f0308dd42d494a6",
      "a57a6df0df94466fb9440e4f98a2fd84",
      "e3e8b9697fb94f84b371db9b3f14c83b",
      "c24093ddae9c4eef9f3c2b07b2cf6c88",
      "3b5cb7cbb0c64c8a920b518404335fa4",
      "8e3c5f93ce7e4fdd913a800be0ca6024",
      "77f8a7bdbc814a4790edc856f0648692",
      "b2a239d1d7744f1aaf159ce79964afe4",
      "d0801931b0004d17aaa18c7a22d6d1f3",
      "58d29759f4984b0186c4baf667621ee9",
      "68d9ed0f89114123b40f9f85acd8700a",
      "51709fe9e7214db9b216e336fe2fc347",
      "ecf95f45809945a2bdba83403d6d7b13",
      "15525552b6094dba91617c6cced35ae1",
      "6ae7fbc5ed624b3f90f21dc8ca467c75",
      "1cb84cb6040c4fe98f9d250979671b3b",
      "8aec7a4ec72b40e0bbdf9eeb7e7fab47",
      "7735a1d73f074653b67ee8701e433ef3",
      "c36daf06f0784321b4ebfd32a0a144b5",
      "797017c0238d48a9b5d9e7b24502d6ae",
      "98cdde95c808499aade27067d1b8d7ee",
      "7454bff7001646cc834a34359fea2a14",
      "dd47b400ef22446ead72e59fe8368964",
      "534419caf61b4aae903d57dd8b8c3be2",
      "34680f380e8a447080a7ea2ea193123b",
      "6b4bcc45cd2c495ebf11090928abed1c",
      "779ea858cbb84304adc7ce5b6eb50ac1",
      "6ec03df4a7e84d89b25bc457a7b4ae37",
      "4c6e0e0bcccb4933971fb7390f787f4a",
      "f7dc9cb3a48043fd90b107e898d00670",
      "2f7886396ba04369945b298296e8645a",
      "685590c058c9453da07a39fbba12597b",
      "6ba02004faad4d87a6e09062c1827ffb",
      "cc9761dbac934599a57bc0d8eb99e6c1",
      "b262f6ef42664bafbc116ee248e7f12c",
      "e42e4f9efbbc4c34bfc73fcdf9633a75",
      "7ac6526f49a246d493c7271189e533a8",
      "838f8e59ddad42fb8e0fd0446a60cb59",
      "40891c076e694e81b76151fc494f943e",
      "bccd0bc490ab4f02a10103a4a3848f6b",
      "0bfa810a15ae4216b6f856699aa485c3",
      "30eb758f923a4dc1bd34df8773aacde0",
      "a3c058b767dc4aa7b4207cd81c2eeada",
      "35abec07ab054068b01dfb55da36b2d3",
      "f2164b7f613641de9ac56e9b35cf9f9d",
      "a237bb3129b54df98a23f72e173cf22e",
      "a1c1cc9504c74af888e35533cfde71a5",
      "f82bf3a7bd784c42970d8f4682fc6dad",
      "de5460538e084625907739ee7313e18a",
      "aee21f1bbb654cc0a3dae41ff0062987",
      "a765f7b516514ae38bd8bf0f325b13be",
      "f741134261e44ea7928c16bebed5441b",
      "1acd6e5ade0043469c2bd4f245a48505",
      "9893eb9819a849a98bf167a5fa6cc99c",
      "4c83226bced442c0a06895e31aeecd69",
      "3fb858f259d540efa3db925c83590d46",
      "7ac42b91767a44abab1a6f25e1ba6798",
      "d37449bf96f14e818f3255b087481f40",
      "a00400e8d193462c82d71f6ce2098c0b",
      "1755e2ff256a461da91320d3009cd14c",
      "b8034708529f4c148f14b6eb2c3fb227",
      "286e3013614d4798b9d3d9cfe2d9455b",
      "eb0f39accadc450aa1b2458fd2299ec9",
      "de59d5625c954ddebd567e1884b91c53",
      "e6fbe87f43374c4da247f12e78a67760",
      "f01201d799364a3cb33980c8631221ae",
      "25794d0a23d84d04982f9835e6edd142",
      "aa1b973b18174f4e862981da2cd4cf21",
      "9f10b4e67c7547a8bd8a356c80873fa8",
      "ac67faee1a824cc0b4048a6a6d15596a",
      "c924e7aa0ff04839ab066dd66168c39c",
      "84054b1ec7984ca1827efcfe6aca9d43",
      "ade1749c08b341e283a2085acb4ef765",
      "f6fdc75902394579bac513e0815aed55",
      "57158d699a2e4d28acf5c1d690a1dc75",
      "f835bbfb4a574b8cbd7106921442c3b9",
      "abacbdd25bd14ec0b65f41d684495c08",
      "45e0ff650cef46e2b90b25f2c0adc6b5",
      "a7bf9457221c4f16b519b6fc3f2d5475",
      "27b9edb35cc149cc8f9e5e68c7ae3d03",
      "c98c611b8db642d2a82a08ff74b88d1e",
      "2c83f4e37ff3426cab640bbd8ea88089",
      "074f08cea8fb4aa3a0b868e901dec700",
      "531f9580d59044e48bedf8e912a95d6b",
      "eaf0a4d249d94a44b5ba9844ffe1d730",
      "6ace0abff1614f6c8471aae05b322877",
      "e62bc5f8d3e64c5fb4251db14d0573f2",
      "c6e897b74b2546b1bfbc86114f6eed85",
      "32489d6c99a44d09a36ceda7f4376ba9",
      "9af581871e86427893ea170e44a5f967",
      "90f55391c32746ea9193a4e01ae96a07",
      "873d1bd2013740fe8ec0ba485c6d5430",
      "708f1398b74e4011bf437d6e6f68050b",
      "8957545fcb9f4ba48fec875350301197",
      "eb572c4bc1444522b55f35b88edfe313",
      "2cafb06e36d5445899e1e0b35ced56ac",
      "789ba50cf7c9487b9828349dd89094b7",
      "228922a42f2f45faac43031c2948deb9",
      "b2622b47c0834e778c7e60d76771f541",
      "894ef979c4fa4d1f8ec1c21e10aa8e09",
      "dd655b55192a4f4ab128ce739ccabff1",
      "3632f863cc124f2799612e73bd0a61d5",
      "167a98d9c28a4ec49342e076fe7a1585",
      "38f35b145d5c4494834d26e9f483e207",
      "c387c91f76964be4b09c672235bdb579",
      "8d3518631bbe486e956a360efa26dcd8",
      "2333716652484c818d95fd90a91c0487",
      "0c4c134591504505a3f9c557d47f8366",
      "b5fddd2d17ae445084d5649a1bbb7686",
      "257b5b7a6e8347659c87fb13524186f0",
      "e731d1fdafe348c98543e8e9fa671cdb",
      "708f81b6c9d947e491d789760e3f941e",
      "b3bba153b67e4afab792b0b63681df7a",
      "8770e84d618c444fb8f21b9b281607cd",
      "67a7a14b08b54a6287efadf0c68d71ed",
      "747d032860734b499a8d59df99833524",
      "d3e1cbbf7ac34a45ba38e0374577e667",
      "2aff16c56c194844acb542159f22d04f",
      "d0ca3c075dce4982964a0009f458a57b",
      "c7b0d4eab6d642ed8655dae2cdb0625f",
      "bbac8ef96e8141478a44f888aed7046b",
      "e3d054ae0ea9402bb80ec6a43efccb5f"
     ]
    },
    "executionInfo": {
     "elapsed": 2170,
     "status": "ok",
     "timestamp": 1656506966962,
     "user": {
      "displayName": "Aijun Zhang",
      "userId": "04897292400908543781"
     },
     "user_tz": -480
    },
    "id": "U17SpLwcWx3y",
    "outputId": "2b71de41-ae6f-4ae3-e2d7-321f8b5a792f"
   },
   "outputs": [
    {
     "data": {
      "application/vnd.jupyter.widget-view+json": {
       "model_id": "c91fd1499e3f42d9ac77e423ae322103",
       "version_major": 2,
       "version_minor": 0
      },
      "text/plain": [
       "HTML(value='\\n        <style>\\n\\n        .left-label {\\n            width: 30%;\\n        }\\n\\n        .card-pa…"
      ]
     },
     "metadata": {},
     "output_type": "display_data"
    },
    {
     "data": {
      "application/javascript": "google.colab.output.setIframeHeight(0, true, {maxHeight: 5000})",
      "text/plain": [
       "<IPython.core.display.Javascript object>"
      ]
     },
     "metadata": {},
     "output_type": "display_data"
    },
    {
     "data": {
      "text/html": [
       "<link rel=\"stylesheet\" href=\"https://stackpath.bootstrapcdn.com/font-awesome/4.7.0/css/font-awesome.min.css\"> "
      ],
      "text/plain": [
       "<IPython.core.display.HTML object>"
      ]
     },
     "metadata": {},
     "output_type": "display_data"
    },
    {
     "data": {
      "application/vnd.jupyter.widget-view+json": {
       "model_id": "b719081f220248c8973e473309916e6e",
       "version_major": 2,
       "version_minor": 0
      },
      "text/plain": [
       "VBox(children=(Box(children=(Box(children=(HTML(value=\"<h4 style='margin: 10px 0px;'>Choose Model</h4>\"), Box(…"
      ]
     },
     "metadata": {},
     "output_type": "display_data"
    }
   ],
   "source": [
    "# Choose EBM and GAMI-Net\n",
    "exp.model_train()"
   ]
  },
  {
   "cell_type": "code",
   "execution_count": null,
   "id": "8yFZhil6dAX5",
   "metadata": {
    "colab": {
     "base_uri": "https://localhost:8080/",
     "height": 1015,
     "referenced_widgets": [
      "cffaba1bc454469497aff79261579be3",
      "7d57d41345b24b989a9dce13fdd2d074",
      "333ff725a0b74201abf82958bbf087f1",
      "453795d67aae4a529a369ef605fa03ce",
      "aa675000576a489f84e76c3266770b98",
      "c866d013861443e5a1630d7074df2c3f",
      "55048a45528146ab86f9d76327415fc0",
      "f00239fb31f3498287775901d9d06a39",
      "b47795c7f89a4d9d99bb29ae4869fade",
      "21f8598ff77241a79e5dce3aef2b2db3",
      "fd47550569be4e6eb8088cff4cddad21",
      "516baa0d08cd40f3ae36f3506d9cfcd4",
      "bd4533b64922446a8fb7f378e6f75078",
      "49589c9d8ae443029999b497e59e4f45",
      "9e430b26ad7f4be0be6f7afc1b588619",
      "43771bb560674630b1fb03a174f8359c",
      "e992b150b2ad4c39a3dc6ab1ede5da2b",
      "eafd0869d20a44bc8a19f09ed69b6a1d",
      "f89bebf2c8f74af2a95bb052b057cce6",
      "607a92ddcdf94341b9066f0379cf5399",
      "b71250410d6b4aa4a2a6801a75a397c3",
      "8eb14dd6997543fba7f0985ea9577c93",
      "35a52237410243528bd0c2e3d16fec55",
      "608a324177f942f197fee66cb3422897",
      "3e86f84c4a6a498db672049966eb87de",
      "e7466c16bd9141949bb8e8025f3ccb20",
      "c323a926d934421a8e14df09700f42d7",
      "17559d90a8c24c42a7feae6345f698ee",
      "2a8511670d0f49a9af6be1ae117c74a3",
      "e70e9f22080b4f5a9bc98f77d3403e2d",
      "f30625c6d0f440819e16eb6ad6683572",
      "14fd317b041e42dd9514515f1b0987c6",
      "171dd172f0ab449c832456c1073f2dc7",
      "5443f4a96baf4d04931547526acf7743",
      "36c1ecdd114c4ceeb04f346d0cb10920",
      "4f2eef5c465945bb9427c3f71e49a100",
      "4c9469ebf01c47a2947128a88130c86f",
      "33b539ff1ad9486fb620a5eec6dace2f",
      "7fcbfc943c14447f9abf9adb27c5324c",
      "6e63f67559e346f8bf6c8e42ffaa3fd7",
      "718b7a840d2d4d3685fd11b0e80aaf76",
      "e3da303007024d1aa49471c65fae8208",
      "ee1136e178bb410494b8965828d89ead",
      "6f01c0f3d8564ed4939c7ca3f8430070",
      "248fc4672c6a4c6581f9d19f95f8541b",
      "a7019abfc4004461881d4eb0040170d5",
      "83b6419633ce4c07919220b7c2f77afa",
      "07b698e370bb4511a6ebe23d0883d41f",
      "a6f4c0b114ee4fad8b2ec59aa111fc90",
      "a40f94341e184026afdc17b22f7deb7c",
      "09d24410ac034152b69db2923710a217",
      "f574ee6837624c6e92288296200d0408",
      "a700b7b239c543dc8caa609e5eeb51b5",
      "bebf808c44aa4720bc2b3e96ce833622",
      "5499b90304d046b8add7978ac37d4b3c",
      "7c515c2dfc6c4fb8a8e4f133ba3b7619",
      "1cfa3f04bf6e4e469754ff8863b2bc98",
      "f9a5dd4326f147859de0c31d1d85da0f",
      "80cec5083c0943a69d5a0ad8c9e518e6",
      "7bb0a9b0843949fa83d52edf05b5b639",
      "e338fedaac524da18744c5617154ea2a",
      "d50de6775ae94ac489d5094812e33ba1",
      "a26a9683204b476aaabda5b30fbadd7e",
      "73fab35795b84a59a806408488d3e5b7",
      "43b8c9e0620b412cb0267b039c157035",
      "929927dbc00a476cb61a823203349c7a",
      "7f85084425e445379535c999d884bc8c",
      "70794b83838e4ed5a252994ccb142c17",
      "9cf82e4c7896474e80a9261b3099fbc6",
      "627dd6d74d6a4374ac208c6599d93512",
      "f919235678034d77a1aa411e458d87fe",
      "b51e8e58881e40b7819a813bacd572ef",
      "8615fd51e73f4a7fbcdab312b8bc8b60",
      "dbab09787a40486daa18176b725dfe8e",
      "50f750b1d4044e038e09e9e63e45591c",
      "d9a093ced37f42bd914627e0b6ef1522",
      "a4c0e6f28b4847faaa2d336f002cf122",
      "9794ced80891465c8871af819ebe9044",
      "19d0ac380e6440e1b39cb2f1e98cc5e5",
      "329c12f9202d4470a280493f2967c81a",
      "d4bf45cd3492462ba3db9b8d1578666f",
      "aefeaa2cb42a4ff69c6584c88e13bbc2",
      "1d3049fd3fcf4d5b9241f131d63115dd",
      "a7a1f1b1569d4ed4987b187823d7e846",
      "dd57fa5e6dbb4d3d9a308240551e49f3",
      "71ba534bfa0d4d83a3deec40bb620c14",
      "2ba7d49fe778476ca2799859955c2f12",
      "feeac02f4cc646de9ca2fa897c264d30",
      "652694a3e0a94688814712ee9376f212",
      "8cd6f40ade9c44e98d863df90d69a658",
      "76ffa6705e804e27848155f2c5f8467e",
      "c9901f2097f642288222cbe10975c8ed",
      "43f5467032334e00a53e68b086c74a3c",
      "154d1fdbcee4415cb5a63558d8345b56",
      "3902e10b4bcc411b9e4be3937a6ef2bc",
      "a8c7d03f8e3b42478762767d7ae7b1c3",
      "01d82e4256934601ad7de95442ba9c11",
      "2bbbf2a4386244deb258a9a07baa92ee",
      "69dc3b0d02d04d1bb9e81a26dfd8d4ff",
      "dab9509a9031484ba3b51ae918cb6b82",
      "a85e900057f541c7ab836f1ac72c3eca",
      "a79dc442827c40f6a25f97aa363b42bd",
      "0b04efd98f8e404293166d958cc49eda",
      "f74084cc7ce84673aaf046c83b158236",
      "f8a06524aa974a1c904f7f193d07a262",
      "6f11d1d2ccbe4ba5b9774bc1ea124903",
      "7c066f5ca3654969bb78dfadd746db06",
      "8cf50eebfdc34c7a80470aef38536c83",
      "e8fdb8dffabb4965b5700b7113268d1a",
      "1d714e89e6f0416c92b97a6d63471166",
      "02d2b11f9c8d4a55b9282b89c6fb04f8",
      "34c2b4e91f564e35aa015ffb75e9f774",
      "2c2cf13c2159483eb3be72d318921a30",
      "231d803a4f9c4633a184a4d734e8a9bc",
      "884d273bfd9f459996eca8ef8e2503c7",
      "be29175601c549b399669dfbba4479ff",
      "b65a136f396e4ac7b373c32d90ec4cfa",
      "d761caf79fd84b7ab1b926d0774ea828",
      "5544de2df8024bd0b7c82ff4f6df6fba",
      "5d1dbf690764453b8dca0a51e2d4b151",
      "9ee2eac61160428380569daf8276bcf9",
      "9b8d90e2ba9c4f6c9429273b87b86f95",
      "eb31cde8ebc049778558197107d2eddf",
      "3dbeafc1d50d458eafd07e4b36eebd1f",
      "91a222bb3ee74bf2a1638a4751639eff",
      "c55872c261e64dad9aa15300b7d7ef22",
      "baee62e2d8104fe58b48d9bfa9c72d51",
      "cd9a395443d24825a2349d0cda7386e3",
      "4ac2581fc8244fc38081788077e05512",
      "bafb953e010746c09a9e50e111b380d3",
      "13604d254eca4165b1b46fbf9a218fa0",
      "e166f17069994bc4b7e5eb0d7a4bb91d",
      "677bdb57233b4211a14a17a2fb479b27",
      "3ae80d7e46b745e98d32b26ba8b37708",
      "ea7dcabd24234b2ca6d1c67285cda7f5",
      "687a49e4db4b4f43b89e2d2d05ff1f60",
      "b66b5f528ff745749b6b3420c54bced1",
      "ceccbcd2bf744c7290369634f8fc6610",
      "95d5f9dd2a234d219fdd1d39913e2117",
      "aa5080dbc4c0458fa58a569157de3062",
      "1dbe80a4d97c46559897783cda3f8ce9"
     ]
    },
    "executionInfo": {
     "elapsed": 294,
     "status": "ok",
     "timestamp": 1656507080145,
     "user": {
      "displayName": "Aijun Zhang",
      "userId": "04897292400908543781"
     },
     "user_tz": -480
    },
    "id": "8yFZhil6dAX5",
    "outputId": "78d76938-a909-4315-ae35-a8a4a1592822"
   },
   "outputs": [
    {
     "data": {
      "application/vnd.jupyter.widget-view+json": {
       "model_id": "cffaba1bc454469497aff79261579be3",
       "version_major": 2,
       "version_minor": 0
      },
      "text/plain": [
       "HTML(value='\\n        <style>\\n\\n        .left-label {\\n            width: 30%;\\n        }\\n\\n        .card-pa…"
      ]
     },
     "metadata": {},
     "output_type": "display_data"
    },
    {
     "data": {
      "application/javascript": "google.colab.output.setIframeHeight(0, true, {maxHeight: 5000})",
      "text/plain": [
       "<IPython.core.display.Javascript object>"
      ]
     },
     "metadata": {},
     "output_type": "display_data"
    },
    {
     "data": {
      "application/vnd.jupyter.widget-view+json": {
       "model_id": "453795d67aae4a529a369ef605fa03ce",
       "version_major": 2,
       "version_minor": 0
      },
      "text/plain": [
       "VBox(children=(Dropdown(layout=Layout(width='20%'), options=('Select Model', 'EBM', 'GAMI-Net'), style=Descrip…"
      ]
     },
     "metadata": {},
     "output_type": "display_data"
    }
   ],
   "source": [
    "# Choose EBM\n",
    "exp.model_interpret()"
   ]
  },
  {
   "cell_type": "code",
   "execution_count": null,
   "id": "BdxSOu3ReyO3",
   "metadata": {
    "colab": {
     "base_uri": "https://localhost:8080/",
     "height": 1018,
     "referenced_widgets": [
      "313d4a81dd5f41bea555957c35d1c68b",
      "1b1e8e9d6cff4f51a001fefe4276efaf",
      "3a98f883cd7d40978e96abb8bf46a23d",
      "c7ab71e8084343779503864255a9d82a",
      "d6e37fea8a3546cfbb3d539cfed84906",
      "9df829a66d0e4cbdace9a22dc4d5e41b",
      "ce0716ce42a74e849709624bce793918",
      "cc351a4a14fe4ce494d503c657b25fce",
      "eac8f33d40c641d08958caaae3486c1d",
      "b6e3fa4dcf304100a0483688258d7910",
      "464ec26ec8c342ec936c89ab39cdac1b",
      "f0be37eaf0924e66bc69267a672c2160",
      "094e889b482a4476a4baa5621c14a764",
      "fa1327e54b674f7c82ff7270a4a3f45f",
      "e4d3298e2cc64f71be5970b0616b054a",
      "eadce53a7caf498085c91fb8f0ef42bd",
      "1b756953a3d840a99f310d3a3e5b530e",
      "22b45371cdad4dd89ea4e2ee975862c4",
      "9c539a61d1a249debfb1cd9a9f527e9f",
      "47cf9e28582947c98763eaf2c909d2f4",
      "8b7ba3e0246e49c5be908b275e7db1e8",
      "91e58c5d776743769af400714babcc23",
      "d96a7969d13d4cb1a0ff75e0be9a242c",
      "a0dc018ae20946bab2a94c3a0551968b",
      "201a1ecd3c87471f8a74448c836ae453",
      "e1a285f7584e484487c00030c557ceba",
      "1eb54ed2820b48ceb0f3ed71809de0a2",
      "df0c8b7628c647ca9e63c62e2d2d1425",
      "c30f176873bb40b8b849dcbc8315e80b",
      "c43d94ca201e43b59df7f0774a01ed5d",
      "7467ba9db6cc47caa74d29b55bb867a2",
      "a61cbf66674a4f2583a4df7c9e25c958",
      "f1eaf3fb33364890889370f514b8bb6c",
      "0f0319f435df49dbb44699c6be8ac480",
      "9b01e813b6674d41bf847d1cd73b9189",
      "c74ad19a1baa4a63afe779527b5a527e",
      "b4731758a81443149e31aa43d90171bd",
      "5aa61b13f6ba412e95d1d09e61f60e89",
      "0ebfac41f4f944878e6a9c01bd57be96",
      "47c698521929460285f8c741da6f2d20",
      "b0a1e453393a419ebd357322696b2c30",
      "2f264b599fc5496fa2dac3dc8fab4aef",
      "f92ad150112843afa5085ec7db5b4e4f",
      "efa0a866c28544c2b6bef22ec305f26f",
      "15ec059c4bda46ccb64900781303aa2a",
      "15d583ea3a0940fab447be014586d8e2",
      "96b054735a6f43fa8575cb9982d32895",
      "3c0aa7bc630049419a1e1e2ac7518492",
      "e25a4cb2d05c41f0b512b1af4a57000e",
      "6c1cb50390ec4bb689bb39ebd64de674",
      "feac9d4420964dbc8e7d18c9fa638883",
      "43c3d355ea4a44c49fca04bf507dea3e",
      "ddd84a97683b44baa1356de4cc7f4f69",
      "0c1d76f0e8fc4c77a400b9f63d5a3fdc",
      "fbafbf606d3e46429fbd917e0593b0cf",
      "6af220afcc324840a0862a72d8853120",
      "0c1bc606b26740ee9527da064dba0e5b",
      "93ac249758a34feaa89e48f8ab724c5c",
      "80a57b4805a641a7a076c25b6e755262",
      "e32356e9bdb941b3a5eb7097b6353aab",
      "966a4e9b113848bb856ea30e90a7095a",
      "e9ebed3c56794c7fa0354be5b3464ca0",
      "c7d59060314f42709b1a0a4bbe24f8f2",
      "ae8089283f9d47b6b09d5c2d398abd74",
      "cff6888b191d4aacbf475dd978a61dcb",
      "cbca8edc02324c7186d331ed5d1391df",
      "943533f5e9184f36a933409439ba7818",
      "f9286713834a484c853b7865b613a9ac",
      "c41c0cad6ad74d99b6af5fb688389967",
      "423727e8701f4c3c93199f27c0919670",
      "be31f9c450ad438391e771d484aa3178",
      "8dd6f41c8bd54255bdaa622113b3cb4f",
      "4f81d370ee7548789d8eb1e86e32259c",
      "8524f5488ef34d6596fda30ad76b2770",
      "57c980f872fa41958a127f48bda8213a",
      "976da787b9944fa1a376e9eb34d3d1dc",
      "389f82bf33dc49729bfbca3522b66dab",
      "597153ac7b934db6b64d2fa22b82244d",
      "2aa62091709842848ce4d518e8328fcc",
      "0d26163359b54e8bb8d8f96fa1461f77",
      "c2ed836e205c4236abf345e3d046939f",
      "82a635d25fbf4387b8b16f5b7a6d4d6e",
      "6a94ae3793c64e7c993825f24fef3d27",
      "d078cbc206034e5db60096edba2be516",
      "043e7c9724cf4def9a5c6bfc85965347",
      "56215481c6374d39ab5d2aa9626b52f4",
      "aed2dda37e2d47e1b5a63a39c8c433fa",
      "7aac604b7d8a4d3cbd2a3af7f20ac3f4",
      "b917f9ed55aa490ca2aa48a92d41c6c1",
      "32ea015bf49e4bb18694fce6b27ae291",
      "629eb9fb25334d309e527750c1aa1528",
      "81fd90e27a1242f8a62277c56e492098",
      "d6f0f1929cd94411bc6046ba4e5351a0",
      "62141a8562d449f6a5347a9eb39322f5",
      "7b81b409245e4c7bbc1f7f6b4cf80117",
      "ff3f938685ad436b901a8be1574e13d6",
      "0320318d7d1d4de48ec0c596a8a0b2be",
      "77d767d8f5da4d8ab525077fb3a590d3",
      "5b256383ed8c48388bffa9da66e2ca1e",
      "11b7e5ab66194b5db29478470e67cbf6",
      "51cdc6d095f34df09ca7d7122d6a758e",
      "2aff386bb2334009a7e1d9b2972f2158",
      "b7064d2b2ab54a61b2c87747f75d067b",
      "62f3a0b751c4443e9bde9c79927cec48",
      "3c3fb81e87a54500b5dfec22d222c563",
      "511e635bcbad42a680020e336aaa3134",
      "ba92769e9b9b43b89079165a9c4be47b",
      "a984ca2b4c484ca29c06e14efd2e0f6e",
      "f21194d3aeed4ac68a1b3331ba428466",
      "380393c738ac45cebb43adad87a30d62",
      "2f1c1b0f45a945b8aa2d50cc619aed6f",
      "7b47dd5267c548cb9ae0f541a85c5727",
      "96169ff46db64010b5b0ef70c1b11550",
      "19162a4c21f9418eba78adbf595a48c0",
      "73dbedaa25e1465f99d113c760d3970b",
      "6921f0cbf1a048fd9d1c4a5a5aa4d785",
      "9d080b2dfcad4be38423696a743b002d",
      "1cc3f199e19b4192b8263bfa5024d1d5",
      "9091aec18d98448fbc89bb4cfdaa8024",
      "cc46e21bf82748239d3728ea9045f118",
      "a24dded71d474ecf9f871c041e485d63",
      "7aff14ab7b8b4719a3aea71f4a4742e3",
      "6979952b9cd14e2ca3093b770386d55d",
      "d0a396e690ed494ca60cec8b9aec2b26",
      "953383e4de4b4ddbbb9b12a18359355c",
      "22c802c4580e4d998e44a51b68c08a98",
      "d65878217fd744b0a8c9df6c247bad81",
      "df63b472a1cc4ec39a07f4f871a97dea",
      "ef20e86b7834419696845484f04c478f",
      "13f22eb37ece42ff9fc71990ce9c0d19",
      "25b05fd9836a476b88e2b8281fc82d1d",
      "66a6aa06eb6f4beba3f6a0586845b8f9",
      "bc2ed4a837d743a692cd69726c62e8d6",
      "a3bd90c2092746eeb9f47eaf15a65132",
      "3bc78a41bcb34caebc23cc18971fe19f",
      "cd76a4b4a6eb420a8be76fc89cd95a35",
      "9a66ef8a427e4f99b8175ebfb06db03b",
      "5d45f0ba9f294d21b66c3bd7b0d40f03",
      "a50c9d165675406b9f7b68aa9525057d",
      "1e196a5ada6f4913bce7bda74efca2d3",
      "981b8f2db6af4cad8470c60e10b1354f"
     ]
    },
    "executionInfo": {
     "elapsed": 487,
     "status": "ok",
     "timestamp": 1656507124923,
     "user": {
      "displayName": "Aijun Zhang",
      "userId": "04897292400908543781"
     },
     "user_tz": -480
    },
    "id": "BdxSOu3ReyO3",
    "outputId": "93aa7daf-fe27-460b-f4ba-3e5414e3eb78"
   },
   "outputs": [
    {
     "data": {
      "application/vnd.jupyter.widget-view+json": {
       "model_id": "313d4a81dd5f41bea555957c35d1c68b",
       "version_major": 2,
       "version_minor": 0
      },
      "text/plain": [
       "HTML(value='\\n        <style>\\n\\n        .left-label {\\n            width: 30%;\\n        }\\n\\n        .card-pa…"
      ]
     },
     "metadata": {},
     "output_type": "display_data"
    },
    {
     "data": {
      "application/javascript": "google.colab.output.setIframeHeight(0, true, {maxHeight: 5000})",
      "text/plain": [
       "<IPython.core.display.Javascript object>"
      ]
     },
     "metadata": {},
     "output_type": "display_data"
    },
    {
     "data": {
      "application/vnd.jupyter.widget-view+json": {
       "model_id": "c7ab71e8084343779503864255a9d82a",
       "version_major": 2,
       "version_minor": 0
      },
      "text/plain": [
       "VBox(children=(Dropdown(layout=Layout(width='20%'), options=('Select Model', 'EBM', 'GAMI-Net'), style=Descrip…"
      ]
     },
     "metadata": {},
     "output_type": "display_data"
    }
   ],
   "source": [
    "# Choose GAMI-Net\n",
    "exp.model_interpret()"
   ]
  },
  {
   "cell_type": "code",
   "execution_count": null,
   "id": "09003b32",
   "metadata": {
    "colab": {
     "base_uri": "https://localhost:8080/",
     "height": 1520,
     "referenced_widgets": [
      "10101651b1324ad9b9f21f2d8132b52d",
      "7e84aa2e27ad4335965fc8a13cbd6790",
      "e308aa9cd11f42bc9898e3dc936ed865",
      "95b2eaac326b498d8ed023d96fdb8525",
      "ed6ab100be2347bbb9732068ceb069ea",
      "ba52fec714bb4097b703ff19daa93cd8",
      "24e599aebcff45078fea253c0f5cb8e3",
      "67e20fa9ec9040cab4a0bf98d2efcdf7",
      "7a8934729dfc4296a1eb810463bee184",
      "0be3a7be352745bfad78fab42474ad79",
      "3f116c98202041a99e9486e61dd72c97",
      "46d5710263b147feb4ead8e32a4ca912",
      "2ca7262209ca44d3867b0c954e443bdb",
      "211022ace8de4df8a014bdadd3526600",
      "d4a29d3686914acc84360b6bbd34c6c2",
      "adc9d58d03984a5492e6a699c1e85796",
      "2792fbe316234ddd9fda041f8e62b4e8",
      "5f54a247439a47a789ee3a28abaa1264",
      "38660d2c8dc94e6f8432fa91561c0c5b",
      "8ca2844b2a8148e88fe7da64c183dfe6",
      "74f7f8185a354935a1caf6f2db957740",
      "12401d8cee6440b09302fbe8c9ec916e",
      "a16e637af7c94c8eb8b45680bc9cd307",
      "5bb74f6cfb154150bb06d39bfaf3449e",
      "f042e6d149754a03b533515b538410dc",
      "f6dd5ee738d247269e87df8894d67729",
      "4be501a965e44f9b974b1da5e0ebb07f",
      "8637c117c26749f182954b0ffce5e446",
      "862f0265fd424617b0e7924ef61a89d1",
      "4e0a73d8429f4dbb9f0404aa794dedd9",
      "93509bc13e724abbac1ca0b3b634bb66",
      "386203123a894dd3b1099d008860d70f",
      "25067bf1c0314da387c7c72825611f7c",
      "2dceb3104a8e452b889ce74c9e55de07",
      "6ee95fc5159d42f1bbfba9f73869eef6",
      "3c207d2d02c649acac13bc22a3d5b47e",
      "57b23fa39697469ab6cfc90362116e7d",
      "6388ba186f3743d7b52a6126eb76e23c",
      "196ac63db3fc4f15a7a1194629c0ab21",
      "9f34eb91708d48809de36901b45d7243",
      "7e77b2682b284d81ae68a9eb1ef79214",
      "5cfa3935efb7413b8cbcf627850516d1",
      "4cd6c839e0984b78b30ccb6bf61b120d",
      "4443e443b4544240be8849d33fbc2810",
      "b0975bf7a2a243aaa47a6bde68a80535",
      "cb15dce6ebf2469d90e23a85534957f1",
      "e3c13ad99d2949659bc97b6191bc3fd8",
      "01c7575bb48c487eb2e2b8ab20ff22c5",
      "c4f4e7ea19b14df79d9565cda37b1db5",
      "d3f7fd633d594b798bc211d4623ce721",
      "0f463f173c9242dbb1786a8f4744ac8f",
      "c47d6217b1794bbeba5029b2653596e6",
      "782f61aa936649f5a3b91a6cc9401370",
      "4cdcf75644934db48fcac8b3ab47ae93",
      "4e0e9248b5a34871bbeb1cc1efed3703",
      "e35cf4ab347248cea0ae927588dbc11a",
      "e0380ebaf3274e87b3e0296dc56c4023",
      "92d7b95956da4ffbb5d57a1089380091",
      "3506d8b3ff4442c7837d14a10dbd8b6a",
      "33f16ff98fcb41b4abd338ae9200885f",
      "51fde3a049a34c9c9fe2c1c429aae5b2",
      "d18489b6e3a6407b90102c9e3ee6eda6",
      "f5384df7c5df493bacb6db2460718cc2",
      "50f3a78d7460440f8ddd0fec2704f261",
      "7074c63c980c4c1ba943999ab82c0832",
      "25d4352935004736a14c40bd8f52fe4e",
      "aa02df50e0ba47b38e2d2fb8921a69f1",
      "337e3a7b738d4d52a6eea86d08022b71",
      "bc810f4f77834f219bca824477442fc2",
      "78a7e66f79114d2ea582f48f7ec71b99",
      "1a6d686d7b964e1ca6864a60f5296b46",
      "f19c1e17369f4476a6cd6496fbfadde9",
      "a275148213b9494496b2d2d34255168b",
      "a750f198572a443a998e6e4ef9775b37",
      "a630947cfb4448619dff9e94233b72bd",
      "8662112cbb1f48e3a877e9394687a190",
      "0df9b8da7ee9479b8300f4073db5890b",
      "1ec9207aa4784385bef8fba4c09ca1e9",
      "02f3270032144f509aa10a2c4a7f0f8b",
      "2cc1f557b4964f0db8605fe00f51720d",
      "53321d22a190461e9ef6648d200f7bc6",
      "c087b2b64ceb4297ae34542bbe4770ba",
      "2d76a0f014bf468a9c94bc2f4151e4e4",
      "5c0752b779214ffe9c3ca4d3eeb6df72",
      "67ae1df760bd4cca96111a53eb71c720",
      "a399dcb9f8be4012b3025d7a833c8fff",
      "fd8901bdaaf949bdb45ac55e1af166e4",
      "48fb4ee12b8e4642b331c4a73e626f17",
      "49503661de0340d1bca3b1ba67e24354",
      "e23e15453c274c65997d41b36eec6ccb",
      "becac7a63a414da081feb622d78a77e0",
      "2fe1a67228734b1db692edfb660c0986",
      "00f058f047c341a49602a617224c634d",
      "4108266732314ba7b7cbd461c7a6b617",
      "2f72e9928d14480fb46521b6ffc2ae6d",
      "260487103c4a414f921c93c0999b28cd",
      "2f08dd480c3a4383af8c301a78ae953c",
      "58d12f947c0e4830a3e156c31a7956a2",
      "1b1da51e423d455fa5fa58d16c95ab65",
      "b2a38f1b542b47f698edac2abf257ea8",
      "f2bf00fd30b74b2ca91dd34ff60d5cae",
      "509ed27a54f142d1bcabf0a397899961",
      "8d948267a837428ab4d4e112caf88691",
      "764a51d0cbff4606bd6b5efe241c75b1",
      "9196a557c8df4fcfb2a1ea4bfed4aa2a",
      "8ef75484b873403e955e9c640e26f13c",
      "44f6b10bfceb4211af7a2621fa8d8b68",
      "74ddfc6234ef4f339b98e23615acdf2c",
      "1a5a9a30cb2f4f2e9cee0499ab6ac98e",
      "08ba3e6a24644b01ac6df64ab4055c1d",
      "17d449b81a7a4e7f95df3fba1e05c7dd",
      "43411ea5134e458686fba77c3722a033",
      "3fae6e264349406a8a4d705e0bb96774",
      "a9d850a609e44022b0c16785dc2b6e9c",
      "d9ae2cb85ead403bba3609cbcd0e684e",
      "e7292c9adb664eb69824972fbcc4dfd2",
      "413dcdfab57e44aea3aab0deab316d7f",
      "1afa1ba221c84b2a96e7f17cf362e243",
      "4b7c176d74654943855c54f324f378a1",
      "339957add9a344e497b1ce8183b5174b",
      "a3cf222daf594bdfad4e91717d2d8dc2",
      "1a2998c63dfe4364887e05b02a8aab71",
      "1c1cf499eb2943968573b50f2ad0e230",
      "7e92d0b7f1a64bdb9ce3e172c54fec39",
      "17c078f451764c74819c5cbdae44d991",
      "29c20011c9e544ccb4e080d2e489b54d",
      "787fb237acda413f911d31f73c1d144e",
      "4525653177b44dafb57c5e97012d083a",
      "c1352def967c44f4b2686f6802135f04",
      "76b801f0495a42fcbe297e4c4cd0cce9",
      "8cdbc1e59b2c42b1bb7a220977285e69",
      "fef8e0d5a3cc43438df3a46d0e45014b",
      "fe06034f12674afeb9719524857201b4",
      "d90a997b2fc24e13a04808f1b5143997",
      "d6c3984c14934523871266311dfb1f9d",
      "2025693ead4547d2ba7bd0b56306856e",
      "613b297ebb3f4285adc5a2302d8e409a",
      "90371f87d66e4442ad398c1c2476499c",
      "454ffd07e72b461b806cc36d40247dc6"
     ]
    },
    "executionInfo": {
     "elapsed": 389,
     "status": "ok",
     "timestamp": 1656507140515,
     "user": {
      "displayName": "Aijun Zhang",
      "userId": "04897292400908543781"
     },
     "user_tz": -480
    },
    "id": "09003b32",
    "outputId": "aac1a57a-234e-433c-8b5c-3c8855af2de5",
    "scrolled": false
   },
   "outputs": [
    {
     "data": {
      "application/vnd.jupyter.widget-view+json": {
       "model_id": "10101651b1324ad9b9f21f2d8132b52d",
       "version_major": 2,
       "version_minor": 0
      },
      "text/plain": [
       "HTML(value='\\n        <style>\\n\\n        .left-label {\\n            width: 30%;\\n        }\\n\\n        .card-pa…"
      ]
     },
     "metadata": {},
     "output_type": "display_data"
    },
    {
     "data": {
      "application/javascript": "google.colab.output.setIframeHeight(0, true, {maxHeight: 5000})",
      "text/plain": [
       "<IPython.core.display.Javascript object>"
      ]
     },
     "metadata": {},
     "output_type": "display_data"
    },
    {
     "data": {
      "application/vnd.jupyter.widget-view+json": {
       "model_id": "95b2eaac326b498d8ed023d96fdb8525",
       "version_major": 2,
       "version_minor": 0
      },
      "text/plain": [
       "VBox(children=(Dropdown(layout=Layout(width='20%'), options=('Select Model', 'XGBoost', 'MLP', 'EBM', 'GAMI-Ne…"
      ]
     },
     "metadata": {},
     "output_type": "display_data"
    }
   ],
   "source": [
    "# Choose GAMI-Net or EBM to compare Post-hoc explain results \n",
    "#   local: sample_id=0 check rank-order/mangitude\n",
    "#  global: FI (weakday), Effect plots (hr, hr x weekday)\n",
    "exp.model_explain()"
   ]
  },
  {
   "cell_type": "markdown",
   "id": "QxgHjD8NP5U4",
   "metadata": {
    "heading_collapsed": true,
    "id": "QxgHjD8NP5U4"
   },
   "source": [
    "# Compare/Diagnose/Explain"
   ]
  },
  {
   "cell_type": "code",
   "execution_count": null,
   "id": "FmmkRrccOzrJ",
   "metadata": {
    "colab": {
     "base_uri": "https://localhost:8080/",
     "height": 550,
     "referenced_widgets": [
      "7db4a1e4678340b099c64502e1f3e44d",
      "2b4b6f32d64c4cb3b6652ebf5fe117c5",
      "eafa471a810247cea3620f43e0038e77",
      "928d835af31848a3aade0cabc4492910",
      "d199c62b9bbf4b969f05e4daa9c2a668",
      "6218234e9c974c18a877fe39c6e2cc17",
      "291f3125a55d4abc977d34feb83326da",
      "7ca011a9c04e470b95bca2c4791c936c",
      "5072ddc1f10a4997a10157afbd351de0",
      "f108ece4ff284af9b575f8d0cbe3017e",
      "0fbec3b018254c48a9eb328511d5ab5a",
      "da7be36f8df541908be36a5970a665ce",
      "49b5f1da58eb4304b782643a93ec3cc3",
      "b563894b249d446583348f48a0236244",
      "2fcfe1c4f697487a92cb370c730c0d5e",
      "6fd5738ad0bb4dbf8d8874e65f894ea1",
      "3089f26e401a41d78640ce0285294108",
      "d2cc064ca6da49f9a92f81cfa4484743",
      "e72a6d58127c42f9a67e1fcd495d01df",
      "4b61c64e69724775be6ef6afeaecd70a",
      "2834de3b2c264ef19e5cfb5fd530421f",
      "a593466094554b9f8e9bd3ce4355c877",
      "e14208eaecba4cc79c6a3a5d302f1b43",
      "14e32af94ab4408fbdff009cfca9757b",
      "b856beaee5b445dea08c7a218f53a628",
      "84dfa085b25542f7a03c98c10bdb3e30",
      "e950a8415f3d4c62a66cb17f3c87df01",
      "b07aa0fdaae745c5a3b771339f480fd8",
      "52ee924c64aa46919bcf95b1befd0b98",
      "093bf1e205f2407ca5935cf29279ca4a",
      "4674f3461a524f81aebdeed43f9beb0c",
      "8d7a4fd57b2542a1975dc9e8766b8a73",
      "292ac068847c43308964392a85a86ef0",
      "824bfbef3bc445b0bcda7ba7fc1fc36e",
      "2be8f3fb6ff14134bc891dad70e7d678",
      "82c373482b594052bd9a6a38b4ad1199",
      "3b5e5f1537604c20bb6d4fbfd28c4777",
      "1d396c893c454b57b30ecdf9734eb9b7",
      "02ff340bdb3c43cfb5b436f67812f91f",
      "b7b19241d84b4d74a9b299e1abbcd244",
      "0df660e2b95c4b21bf9abb9aebf80348",
      "0bda65dca0264c1b8da17ef7eb4fd738",
      "3ec737153f294e6997756f2a0115d70a",
      "71d099810a62404d8e5a569fffadf7e1",
      "a1c9d5ec47f644128b8aae4ed2c281e7",
      "8d872eb1e6804d038c74968ed3b2d289",
      "ce44958c18af4ac0a8a2d0e4cfb97790",
      "f3900bf1b4d94b6fad65b1ef86765c2c",
      "343f1869c4de4b999547977d53878b4a",
      "df6d9210f33541c88a3163bd959ae764",
      "4925833d368d4d65a3dfa5b3a8c577a7",
      "2a6f6e4d86e24815b2b3618bd1c1f855",
      "ccb379d8e26f4f8f83ddaf44a34889df",
      "cb43ddab8c794007bbf897e124f790f0",
      "80b84d1ecaab430a933879c320d3f186",
      "717cca099d674427ac2f7d0c81a65af0",
      "0f9aaa115c014071aac52039846d15ac",
      "cc444c9f78ba40f48e27609db1247061",
      "99f6a11f57654b96b9efe8f3b8dce11e",
      "d716a073daff40f1a817e7ab25cff072",
      "7f8d7287d61f4b698eb89e2d93ab61b4",
      "040fdf88c9794aef92169dd091604fc1",
      "dd1965eaf09e4e0d9ff1513743f2f8d6",
      "1f408c2718994d9c8cd0eb3740a2d3b0",
      "4fd7d2e63c6e43fc9b0f187a1613edf6",
      "98224905980d4d99a39493d195b458ec",
      "430e15d92dfc44fdb0908ec3c94f5114",
      "c786836a00074d9d9f15a125fc0e69f3",
      "db251e7b73b0435897921fe9c6639d60",
      "5011c7dac6f94216a112085c9cbd1ac1",
      "b75527279fcd44aebdfa38ea98163744",
      "5abd744241a046afbd031a8ff96c0f12",
      "38d738d5fa0a41109afdcdd032d54361",
      "29f5ad96a582494d8f7acd09acd73a60",
      "d250abd4a8974e62a9dd3011617d7c42",
      "8c2b0da8742f467c8850b639a0754968",
      "91a9a8bea79144eabb5db6d8a4c00407",
      "8461cc138a7943fbbcc30e44ee18bb21",
      "07c9d1593f754876acf043cfe994ea7d",
      "a08cf559027d41e98a79deeffb571f30",
      "f478874a67bd4a798555801c2ab7a23b",
      "5b3434bf1f2c4769886402f363dd41f1",
      "831cbcd18d13418c9cf7870adb8f4872",
      "2e7c1836761143e2bc0095839015e3d6",
      "c611615846604fd991d7d3a941ca6c39"
     ]
    },
    "executionInfo": {
     "elapsed": 430,
     "status": "ok",
     "timestamp": 1656507196442,
     "user": {
      "displayName": "Aijun Zhang",
      "userId": "04897292400908543781"
     },
     "user_tz": -480
    },
    "hidden": true,
    "id": "FmmkRrccOzrJ",
    "outputId": "b7ec1b02-b858-446c-d3b6-f85273f6f86a"
   },
   "outputs": [
    {
     "data": {
      "application/vnd.jupyter.widget-view+json": {
       "model_id": "7db4a1e4678340b099c64502e1f3e44d",
       "version_major": 2,
       "version_minor": 0
      },
      "text/plain": [
       "HTML(value='\\n        <style>\\n\\n        .left-label {\\n            width: 30%;\\n        }\\n\\n        .card-pa…"
      ]
     },
     "metadata": {},
     "output_type": "display_data"
    },
    {
     "data": {
      "application/javascript": "google.colab.output.setIframeHeight(0, true, {maxHeight: 5000})",
      "text/plain": [
       "<IPython.core.display.Javascript object>"
      ]
     },
     "metadata": {},
     "output_type": "display_data"
    },
    {
     "data": {
      "application/vnd.jupyter.widget-view+json": {
       "model_id": "928d835af31848a3aade0cabc4492910",
       "version_major": 2,
       "version_minor": 0
      },
      "text/plain": [
       "VBox(children=(HBox(children=(Dropdown(layout=Layout(width='30%'), options=('Select Model', 'XGBoost', 'MLP', …"
      ]
     },
     "metadata": {},
     "output_type": "display_data"
    }
   ],
   "source": [
    "exp.model_compare()"
   ]
  },
  {
   "cell_type": "code",
   "execution_count": null,
   "id": "ELqeYifKS7Dy",
   "metadata": {
    "colab": {
     "base_uri": "https://localhost:8080/",
     "height": 137,
     "referenced_widgets": [
      "66264b9b0d5847d8abd04ffebc628460",
      "1b1fbc0fa22e47bea73d16dacd991a52",
      "4cc46728ec0e4d93bd79b8b1dd49d778",
      "ec98c93ed28f4e9bbe654c73b64a804c",
      "89a98cb9eac74f3897ffcba7ce29bcce",
      "6c3e2a94d2a24204940827f6d3a845db",
      "74f92254c5274431805825ffbbb23de1",
      "7d2c1d71d94749b7856251837efc425b",
      "a00a246d66674a929fda8f941cd22d8d",
      "4a8d4cd2d1d4471d84c9927d981ebe34",
      "20bc4b35174d4e23b5604ad92c574ecb",
      "f57546e1335e4bab8a3a1c059f0fb716",
      "d3b9b6e96ad64f299d5628dc0471ac5e"
     ]
    },
    "executionInfo": {
     "elapsed": 324,
     "status": "ok",
     "timestamp": 1656507499071,
     "user": {
      "displayName": "Aijun Zhang",
      "userId": "04897292400908543781"
     },
     "user_tz": -480
    },
    "hidden": true,
    "id": "ELqeYifKS7Dy",
    "outputId": "1188e901-f78e-4974-c159-1e44d77c0848"
   },
   "outputs": [
    {
     "data": {
      "application/vnd.jupyter.widget-view+json": {
       "model_id": "66264b9b0d5847d8abd04ffebc628460",
       "version_major": 2,
       "version_minor": 0
      },
      "text/plain": [
       "HTML(value='\\n        <style>\\n\\n        .left-label {\\n            width: 30%;\\n        }\\n\\n        .card-pa…"
      ]
     },
     "metadata": {},
     "output_type": "display_data"
    },
    {
     "data": {
      "application/javascript": "google.colab.output.setIframeHeight(0, true, {maxHeight: 5000})",
      "text/plain": [
       "<IPython.core.display.Javascript object>"
      ]
     },
     "metadata": {},
     "output_type": "display_data"
    },
    {
     "data": {
      "application/vnd.jupyter.widget-view+json": {
       "model_id": "ec98c93ed28f4e9bbe654c73b64a804c",
       "version_major": 2,
       "version_minor": 0
      },
      "text/plain": [
       "VBox(children=(Dropdown(layout=Layout(width='20%'), options=('Select Model', 'XGBoost', 'MLP'), style=Descript…"
      ]
     },
     "metadata": {},
     "output_type": "display_data"
    }
   ],
   "source": [
    "exp.model_diagnose()"
   ]
  },
  {
   "cell_type": "code",
   "execution_count": null,
   "id": "K6AcyauHSnDK",
   "metadata": {
    "colab": {
     "base_uri": "https://localhost:8080/",
     "height": 123,
     "referenced_widgets": [
      "ef24e4a4bd8442ceb0ce2664cc0f581f",
      "39749b3bdfcc47bf8956231672d8317d",
      "90d7a7e8a2aa4826a87d2ae0a6fee650",
      "b5355cfb30d547dda87f33b6a18a792e",
      "45ef5b14509440449887568697311502",
      "f6e934d3b0274a44b7c24a5ca22a5cf9",
      "e9075452ac84442e95f0a9ee32901929",
      "ef7efdaca85244c99bb7dd7c917e341f",
      "56d776b37d2a41a8a514e7fae67d2fbe",
      "d582b5d69285413597ab85d3f7a6b8b5"
     ]
    },
    "executionInfo": {
     "elapsed": 359,
     "status": "ok",
     "timestamp": 1656507502640,
     "user": {
      "displayName": "Aijun Zhang",
      "userId": "04897292400908543781"
     },
     "user_tz": -480
    },
    "hidden": true,
    "id": "K6AcyauHSnDK",
    "outputId": "0aa970f2-4d5a-412d-c4f2-5d8f8bcc000a"
   },
   "outputs": [
    {
     "data": {
      "application/vnd.jupyter.widget-view+json": {
       "model_id": "ef24e4a4bd8442ceb0ce2664cc0f581f",
       "version_major": 2,
       "version_minor": 0
      },
      "text/plain": [
       "HTML(value='\\n        <style>\\n\\n        .left-label {\\n            width: 30%;\\n        }\\n\\n        .card-pa…"
      ]
     },
     "metadata": {},
     "output_type": "display_data"
    },
    {
     "data": {
      "application/javascript": "google.colab.output.setIframeHeight(0, true, {maxHeight: 5000})",
      "text/plain": [
       "<IPython.core.display.Javascript object>"
      ]
     },
     "metadata": {},
     "output_type": "display_data"
    },
    {
     "data": {
      "application/vnd.jupyter.widget-view+json": {
       "model_id": "b5355cfb30d547dda87f33b6a18a792e",
       "version_major": 2,
       "version_minor": 0
      },
      "text/plain": [
       "VBox(children=(Dropdown(layout=Layout(width='20%'), options=('Select Model', 'XGBoost', 'MLP'), style=Descript…"
      ]
     },
     "metadata": {},
     "output_type": "display_data"
    }
   ],
   "source": [
    "exp.model_explain()"
   ]
  },
  {
   "cell_type": "markdown",
   "id": "c1bf34b7",
   "metadata": {
    "heading_collapsed": true,
    "id": "c1bf34b7"
   },
   "source": [
    "# Appendix - High-code Automation"
   ]
  },
  {
   "cell_type": "markdown",
   "id": "ux1MogdTTaqx",
   "metadata": {
    "hidden": true,
    "id": "ux1MogdTTaqx"
   },
   "source": [
    "## Load and Prepare Data"
   ]
  },
  {
   "cell_type": "code",
   "execution_count": null,
   "id": "70f0c116",
   "metadata": {
    "colab": {
     "base_uri": "https://localhost:8080/",
     "height": 428,
     "referenced_widgets": [
      "511b4940e11b43ac8e853f8b988f7c10",
      "3661e6bd12574f69af1a8ec24e524381",
      "86ef8112e64042ca864be7938348a6df"
     ]
    },
    "executionInfo": {
     "elapsed": 968,
     "status": "ok",
     "timestamp": 1656507309842,
     "user": {
      "displayName": "Aijun Zhang",
      "userId": "04897292400908543781"
     },
     "user_tz": -480
    },
    "hidden": true,
    "id": "70f0c116",
    "outputId": "54696442-12a9-457a-ccac-d50d426f73a1",
    "run_control": {
     "marked": true
    }
   },
   "outputs": [
    {
     "data": {
      "application/vnd.jupyter.widget-view+json": {
       "model_id": "511b4940e11b43ac8e853f8b988f7c10",
       "version_major": 2,
       "version_minor": 0
      },
      "text/plain": [
       "HTML(value='\\n        <style>\\n\\n        .left-label {\\n            width: 30%;\\n        }\\n\\n        .card-pa…"
      ]
     },
     "metadata": {},
     "output_type": "display_data"
    },
    {
     "data": {
      "text/html": [
       "\n",
       "  <div id=\"df-c95d76f1-84a5-42b7-82f7-21b8da63c971\">\n",
       "    <div class=\"colab-df-container\">\n",
       "      <div>\n",
       "<style scoped>\n",
       "    .dataframe tbody tr th:only-of-type {\n",
       "        vertical-align: middle;\n",
       "    }\n",
       "\n",
       "    .dataframe tbody tr th {\n",
       "        vertical-align: top;\n",
       "    }\n",
       "\n",
       "    .dataframe thead th {\n",
       "        text-align: right;\n",
       "    }\n",
       "</style>\n",
       "<table border=\"1\" class=\"dataframe\">\n",
       "  <thead>\n",
       "    <tr style=\"text-align: right;\">\n",
       "      <th></th>\n",
       "      <th>season</th>\n",
       "      <th>yr</th>\n",
       "      <th>mnth</th>\n",
       "      <th>hr</th>\n",
       "      <th>holiday</th>\n",
       "      <th>weekday</th>\n",
       "      <th>workingday</th>\n",
       "      <th>weathersit</th>\n",
       "      <th>temp</th>\n",
       "      <th>atemp</th>\n",
       "      <th>hum</th>\n",
       "      <th>windspeed</th>\n",
       "      <th>cnt</th>\n",
       "    </tr>\n",
       "  </thead>\n",
       "  <tbody>\n",
       "    <tr>\n",
       "      <th>0</th>\n",
       "      <td>1.0</td>\n",
       "      <td>0.0</td>\n",
       "      <td>1.0</td>\n",
       "      <td>0.0</td>\n",
       "      <td>0.0</td>\n",
       "      <td>6.0</td>\n",
       "      <td>0.0</td>\n",
       "      <td>1.0</td>\n",
       "      <td>0.24</td>\n",
       "      <td>0.2879</td>\n",
       "      <td>0.81</td>\n",
       "      <td>0.0000</td>\n",
       "      <td>16.0</td>\n",
       "    </tr>\n",
       "    <tr>\n",
       "      <th>1</th>\n",
       "      <td>1.0</td>\n",
       "      <td>0.0</td>\n",
       "      <td>1.0</td>\n",
       "      <td>1.0</td>\n",
       "      <td>0.0</td>\n",
       "      <td>6.0</td>\n",
       "      <td>0.0</td>\n",
       "      <td>1.0</td>\n",
       "      <td>0.22</td>\n",
       "      <td>0.2727</td>\n",
       "      <td>0.80</td>\n",
       "      <td>0.0000</td>\n",
       "      <td>40.0</td>\n",
       "    </tr>\n",
       "    <tr>\n",
       "      <th>2</th>\n",
       "      <td>1.0</td>\n",
       "      <td>0.0</td>\n",
       "      <td>1.0</td>\n",
       "      <td>2.0</td>\n",
       "      <td>0.0</td>\n",
       "      <td>6.0</td>\n",
       "      <td>0.0</td>\n",
       "      <td>1.0</td>\n",
       "      <td>0.22</td>\n",
       "      <td>0.2727</td>\n",
       "      <td>0.80</td>\n",
       "      <td>0.0000</td>\n",
       "      <td>32.0</td>\n",
       "    </tr>\n",
       "    <tr>\n",
       "      <th>3</th>\n",
       "      <td>1.0</td>\n",
       "      <td>0.0</td>\n",
       "      <td>1.0</td>\n",
       "      <td>3.0</td>\n",
       "      <td>0.0</td>\n",
       "      <td>6.0</td>\n",
       "      <td>0.0</td>\n",
       "      <td>1.0</td>\n",
       "      <td>0.24</td>\n",
       "      <td>0.2879</td>\n",
       "      <td>0.75</td>\n",
       "      <td>0.0000</td>\n",
       "      <td>13.0</td>\n",
       "    </tr>\n",
       "    <tr>\n",
       "      <th>4</th>\n",
       "      <td>1.0</td>\n",
       "      <td>0.0</td>\n",
       "      <td>1.0</td>\n",
       "      <td>4.0</td>\n",
       "      <td>0.0</td>\n",
       "      <td>6.0</td>\n",
       "      <td>0.0</td>\n",
       "      <td>1.0</td>\n",
       "      <td>0.24</td>\n",
       "      <td>0.2879</td>\n",
       "      <td>0.75</td>\n",
       "      <td>0.0000</td>\n",
       "      <td>1.0</td>\n",
       "    </tr>\n",
       "    <tr>\n",
       "      <th>...</th>\n",
       "      <td>...</td>\n",
       "      <td>...</td>\n",
       "      <td>...</td>\n",
       "      <td>...</td>\n",
       "      <td>...</td>\n",
       "      <td>...</td>\n",
       "      <td>...</td>\n",
       "      <td>...</td>\n",
       "      <td>...</td>\n",
       "      <td>...</td>\n",
       "      <td>...</td>\n",
       "      <td>...</td>\n",
       "      <td>...</td>\n",
       "    </tr>\n",
       "    <tr>\n",
       "      <th>17374</th>\n",
       "      <td>1.0</td>\n",
       "      <td>1.0</td>\n",
       "      <td>12.0</td>\n",
       "      <td>19.0</td>\n",
       "      <td>0.0</td>\n",
       "      <td>1.0</td>\n",
       "      <td>1.0</td>\n",
       "      <td>2.0</td>\n",
       "      <td>0.26</td>\n",
       "      <td>0.2576</td>\n",
       "      <td>0.60</td>\n",
       "      <td>0.1642</td>\n",
       "      <td>119.0</td>\n",
       "    </tr>\n",
       "    <tr>\n",
       "      <th>17375</th>\n",
       "      <td>1.0</td>\n",
       "      <td>1.0</td>\n",
       "      <td>12.0</td>\n",
       "      <td>20.0</td>\n",
       "      <td>0.0</td>\n",
       "      <td>1.0</td>\n",
       "      <td>1.0</td>\n",
       "      <td>2.0</td>\n",
       "      <td>0.26</td>\n",
       "      <td>0.2576</td>\n",
       "      <td>0.60</td>\n",
       "      <td>0.1642</td>\n",
       "      <td>89.0</td>\n",
       "    </tr>\n",
       "    <tr>\n",
       "      <th>17376</th>\n",
       "      <td>1.0</td>\n",
       "      <td>1.0</td>\n",
       "      <td>12.0</td>\n",
       "      <td>21.0</td>\n",
       "      <td>0.0</td>\n",
       "      <td>1.0</td>\n",
       "      <td>1.0</td>\n",
       "      <td>1.0</td>\n",
       "      <td>0.26</td>\n",
       "      <td>0.2576</td>\n",
       "      <td>0.60</td>\n",
       "      <td>0.1642</td>\n",
       "      <td>90.0</td>\n",
       "    </tr>\n",
       "    <tr>\n",
       "      <th>17377</th>\n",
       "      <td>1.0</td>\n",
       "      <td>1.0</td>\n",
       "      <td>12.0</td>\n",
       "      <td>22.0</td>\n",
       "      <td>0.0</td>\n",
       "      <td>1.0</td>\n",
       "      <td>1.0</td>\n",
       "      <td>1.0</td>\n",
       "      <td>0.26</td>\n",
       "      <td>0.2727</td>\n",
       "      <td>0.56</td>\n",
       "      <td>0.1343</td>\n",
       "      <td>61.0</td>\n",
       "    </tr>\n",
       "    <tr>\n",
       "      <th>17378</th>\n",
       "      <td>1.0</td>\n",
       "      <td>1.0</td>\n",
       "      <td>12.0</td>\n",
       "      <td>23.0</td>\n",
       "      <td>0.0</td>\n",
       "      <td>1.0</td>\n",
       "      <td>1.0</td>\n",
       "      <td>1.0</td>\n",
       "      <td>0.26</td>\n",
       "      <td>0.2727</td>\n",
       "      <td>0.65</td>\n",
       "      <td>0.1343</td>\n",
       "      <td>49.0</td>\n",
       "    </tr>\n",
       "  </tbody>\n",
       "</table>\n",
       "<p>17379 rows × 13 columns</p>\n",
       "</div>\n",
       "      <button class=\"colab-df-convert\" onclick=\"convertToInteractive('df-c95d76f1-84a5-42b7-82f7-21b8da63c971')\"\n",
       "              title=\"Convert this dataframe to an interactive table.\"\n",
       "              style=\"display:none;\">\n",
       "        \n",
       "  <svg xmlns=\"http://www.w3.org/2000/svg\" height=\"24px\"viewBox=\"0 0 24 24\"\n",
       "       width=\"24px\">\n",
       "    <path d=\"M0 0h24v24H0V0z\" fill=\"none\"/>\n",
       "    <path d=\"M18.56 5.44l.94 2.06.94-2.06 2.06-.94-2.06-.94-.94-2.06-.94 2.06-2.06.94zm-11 1L8.5 8.5l.94-2.06 2.06-.94-2.06-.94L8.5 2.5l-.94 2.06-2.06.94zm10 10l.94 2.06.94-2.06 2.06-.94-2.06-.94-.94-2.06-.94 2.06-2.06.94z\"/><path d=\"M17.41 7.96l-1.37-1.37c-.4-.4-.92-.59-1.43-.59-.52 0-1.04.2-1.43.59L10.3 9.45l-7.72 7.72c-.78.78-.78 2.05 0 2.83L4 21.41c.39.39.9.59 1.41.59.51 0 1.02-.2 1.41-.59l7.78-7.78 2.81-2.81c.8-.78.8-2.07 0-2.86zM5.41 20L4 18.59l7.72-7.72 1.47 1.35L5.41 20z\"/>\n",
       "  </svg>\n",
       "      </button>\n",
       "      \n",
       "  <style>\n",
       "    .colab-df-container {\n",
       "      display:flex;\n",
       "      flex-wrap:wrap;\n",
       "      gap: 12px;\n",
       "    }\n",
       "\n",
       "    .colab-df-convert {\n",
       "      background-color: #E8F0FE;\n",
       "      border: none;\n",
       "      border-radius: 50%;\n",
       "      cursor: pointer;\n",
       "      display: none;\n",
       "      fill: #1967D2;\n",
       "      height: 32px;\n",
       "      padding: 0 0 0 0;\n",
       "      width: 32px;\n",
       "    }\n",
       "\n",
       "    .colab-df-convert:hover {\n",
       "      background-color: #E2EBFA;\n",
       "      box-shadow: 0px 1px 2px rgba(60, 64, 67, 0.3), 0px 1px 3px 1px rgba(60, 64, 67, 0.15);\n",
       "      fill: #174EA6;\n",
       "    }\n",
       "\n",
       "    [theme=dark] .colab-df-convert {\n",
       "      background-color: #3B4455;\n",
       "      fill: #D2E3FC;\n",
       "    }\n",
       "\n",
       "    [theme=dark] .colab-df-convert:hover {\n",
       "      background-color: #434B5C;\n",
       "      box-shadow: 0px 1px 3px 1px rgba(0, 0, 0, 0.15);\n",
       "      filter: drop-shadow(0px 1px 2px rgba(0, 0, 0, 0.3));\n",
       "      fill: #FFFFFF;\n",
       "    }\n",
       "  </style>\n",
       "\n",
       "      <script>\n",
       "        const buttonEl =\n",
       "          document.querySelector('#df-c95d76f1-84a5-42b7-82f7-21b8da63c971 button.colab-df-convert');\n",
       "        buttonEl.style.display =\n",
       "          google.colab.kernel.accessAllowed ? 'block' : 'none';\n",
       "\n",
       "        async function convertToInteractive(key) {\n",
       "          const element = document.querySelector('#df-c95d76f1-84a5-42b7-82f7-21b8da63c971');\n",
       "          const dataTable =\n",
       "            await google.colab.kernel.invokeFunction('convertToInteractive',\n",
       "                                                     [key], {});\n",
       "          if (!dataTable) return;\n",
       "\n",
       "          const docLinkHtml = 'Like what you see? Visit the ' +\n",
       "            '<a target=\"_blank\" href=https://colab.research.google.com/notebooks/data_table.ipynb>data table notebook</a>'\n",
       "            + ' to learn more about interactive tables.';\n",
       "          element.innerHTML = '';\n",
       "          dataTable['output_type'] = 'display_data';\n",
       "          await google.colab.output.renderOutput(dataTable, element);\n",
       "          const docLink = document.createElement('div');\n",
       "          docLink.innerHTML = docLinkHtml;\n",
       "          element.appendChild(docLink);\n",
       "        }\n",
       "      </script>\n",
       "    </div>\n",
       "  </div>\n",
       "  "
      ],
      "text/plain": [
       "       season   yr  mnth    hr  holiday  weekday  workingday  weathersit  \\\n",
       "0         1.0  0.0   1.0   0.0      0.0      6.0         0.0         1.0   \n",
       "1         1.0  0.0   1.0   1.0      0.0      6.0         0.0         1.0   \n",
       "2         1.0  0.0   1.0   2.0      0.0      6.0         0.0         1.0   \n",
       "3         1.0  0.0   1.0   3.0      0.0      6.0         0.0         1.0   \n",
       "4         1.0  0.0   1.0   4.0      0.0      6.0         0.0         1.0   \n",
       "...       ...  ...   ...   ...      ...      ...         ...         ...   \n",
       "17374     1.0  1.0  12.0  19.0      0.0      1.0         1.0         2.0   \n",
       "17375     1.0  1.0  12.0  20.0      0.0      1.0         1.0         2.0   \n",
       "17376     1.0  1.0  12.0  21.0      0.0      1.0         1.0         1.0   \n",
       "17377     1.0  1.0  12.0  22.0      0.0      1.0         1.0         1.0   \n",
       "17378     1.0  1.0  12.0  23.0      0.0      1.0         1.0         1.0   \n",
       "\n",
       "       temp   atemp   hum  windspeed    cnt  \n",
       "0      0.24  0.2879  0.81     0.0000   16.0  \n",
       "1      0.22  0.2727  0.80     0.0000   40.0  \n",
       "2      0.22  0.2727  0.80     0.0000   32.0  \n",
       "3      0.24  0.2879  0.75     0.0000   13.0  \n",
       "4      0.24  0.2879  0.75     0.0000    1.0  \n",
       "...     ...     ...   ...        ...    ...  \n",
       "17374  0.26  0.2576  0.60     0.1642  119.0  \n",
       "17375  0.26  0.2576  0.60     0.1642   89.0  \n",
       "17376  0.26  0.2576  0.60     0.1642   90.0  \n",
       "17377  0.26  0.2727  0.56     0.1343   61.0  \n",
       "17378  0.26  0.2727  0.65     0.1343   49.0  \n",
       "\n",
       "[17379 rows x 13 columns]"
      ]
     },
     "metadata": {},
     "output_type": "display_data"
    }
   ],
   "source": [
    "# Choose BikeSharing  \n",
    "exp.data_loader(data='BikeSharing')"
   ]
  },
  {
   "cell_type": "code",
   "execution_count": null,
   "id": "656b3fe8",
   "metadata": {
    "colab": {
     "base_uri": "https://localhost:8080/",
     "height": 403,
     "referenced_widgets": [
      "87e02246807e47ff9f461ea424c8b73c",
      "97735861bad9464abae04d2c41faca23",
      "c95aa70c9e6e4b1e8347f7f0a3d74cb1",
      "699dbd0ed7124429bb01edaa04b78828",
      "681ebd0ad2254051a076a3f442122a14",
      "3ef4867fa82f48378a6368913f14e2d9",
      "efdc4eae4cce488988a99c27f9a64b2b",
      "cc7a0b689a8a4be0a86a55f80110231a",
      "68b1121f8adc40cbae2d8f310fbb1aac",
      "04d37364cd6d41609f2a1610ddf660b7",
      "d1218d07dff8488886cf399ee13f40f0",
      "f5171a1c9ade49c9865469cb48d9fc3f"
     ]
    },
    "executionInfo": {
     "elapsed": 507,
     "status": "ok",
     "timestamp": 1656507310323,
     "user": {
      "displayName": "Aijun Zhang",
      "userId": "04897292400908543781"
     },
     "user_tz": -480
    },
    "hidden": true,
    "id": "656b3fe8",
    "outputId": "c2a76942-06cd-4082-f218-f9babc239c14",
    "run_control": {
     "marked": true
    }
   },
   "outputs": [
    {
     "data": {
      "application/vnd.jupyter.widget-view+json": {
       "model_id": "87e02246807e47ff9f461ea424c8b73c",
       "version_major": 2,
       "version_minor": 0
      },
      "text/plain": [
       "HTML(value='\\n        <style>\\n\\n        .left-label {\\n            width: 30%;\\n        }\\n\\n        .card-pa…"
      ]
     },
     "metadata": {},
     "output_type": "display_data"
    },
    {
     "data": {
      "application/vnd.jupyter.widget-view+json": {
       "model_id": "699dbd0ed7124429bb01edaa04b78828",
       "version_major": 2,
       "version_minor": 0
      },
      "text/plain": [
       "HTML(value='Data Shape:(17379, 13)')"
      ]
     },
     "metadata": {},
     "output_type": "display_data"
    },
    {
     "data": {
      "application/vnd.jupyter.widget-view+json": {
       "model_id": "efdc4eae4cce488988a99c27f9a64b2b",
       "version_major": 2,
       "version_minor": 0
      },
      "text/plain": [
       "Tab(children=(Output(), Output()), layout=Layout(height='350px'), _titles={'0': 'Numerical Attributes', '1': '…"
      ]
     },
     "metadata": {},
     "output_type": "display_data"
    }
   ],
   "source": [
    "# Exclude these features one-by-one: \"season\", \"workingday\", \"atemp\" (highly correlated with others)\n",
    "exp.data_summary(feature_type={}, feature_exclude=[\"season\", \"workingday\", \"atemp\"])"
   ]
  },
  {
   "cell_type": "code",
   "execution_count": null,
   "id": "5Lk8I2G4n5XQ",
   "metadata": {
    "colab": {
     "base_uri": "https://localhost:8080/",
     "height": 210,
     "referenced_widgets": [
      "245ab781098649579bd79bc0617909e5",
      "0133b7cf25ce43c0aedb6b96f20e9567",
      "fdf38a2b1f324f8995f433d2cccd1b42",
      "a8817a0639cc4265aafee5e02a878e5f",
      "71a2a89a3b85451db4a24d52cbbbd644"
     ]
    },
    "executionInfo": {
     "elapsed": 114,
     "status": "ok",
     "timestamp": 1656507310328,
     "user": {
      "displayName": "Aijun Zhang",
      "userId": "04897292400908543781"
     },
     "user_tz": -480
    },
    "hidden": true,
    "id": "5Lk8I2G4n5XQ",
    "outputId": "6a603108-1fc9-4df0-def2-be286603c702",
    "run_control": {
     "marked": true
    }
   },
   "outputs": [
    {
     "data": {
      "application/vnd.jupyter.widget-view+json": {
       "model_id": "245ab781098649579bd79bc0617909e5",
       "version_major": 2,
       "version_minor": 0
      },
      "text/plain": [
       "HTML(value='\\n        <style>\\n\\n        .left-label {\\n            width: 30%;\\n        }\\n\\n        .card-pa…"
      ]
     },
     "metadata": {},
     "output_type": "display_data"
    },
    {
     "data": {
      "application/vnd.jupyter.widget-view+json": {
       "model_id": "a8817a0639cc4265aafee5e02a878e5f",
       "version_major": 2,
       "version_minor": 0
      },
      "text/plain": [
       "Output()"
      ]
     },
     "metadata": {},
     "output_type": "display_data"
    },
    {
     "data": {
      "text/html": [
       "\n",
       "  <div id=\"df-d736823e-2808-44a4-ae6d-081445da7003\">\n",
       "    <div class=\"colab-df-container\">\n",
       "      <div>\n",
       "<style scoped>\n",
       "    .dataframe tbody tr th:only-of-type {\n",
       "        vertical-align: middle;\n",
       "    }\n",
       "\n",
       "    .dataframe tbody tr th {\n",
       "        vertical-align: top;\n",
       "    }\n",
       "\n",
       "    .dataframe thead th {\n",
       "        text-align: right;\n",
       "    }\n",
       "</style>\n",
       "<table border=\"1\" class=\"dataframe\">\n",
       "  <thead>\n",
       "    <tr style=\"text-align: right;\">\n",
       "      <th></th>\n",
       "      <th>0</th>\n",
       "      <th>1</th>\n",
       "    </tr>\n",
       "  </thead>\n",
       "  <tbody>\n",
       "    <tr>\n",
       "      <th>0</th>\n",
       "      <td>Inactive columns name</td>\n",
       "      <td>[season, workingday, atemp]</td>\n",
       "    </tr>\n",
       "    <tr>\n",
       "      <th>1</th>\n",
       "      <td>Target colunm name</td>\n",
       "      <td>cnt</td>\n",
       "    </tr>\n",
       "    <tr>\n",
       "      <th>2</th>\n",
       "      <td>Task type</td>\n",
       "      <td>Regression</td>\n",
       "    </tr>\n",
       "    <tr>\n",
       "      <th>3</th>\n",
       "      <td>Test ratio</td>\n",
       "      <td>0.2</td>\n",
       "    </tr>\n",
       "    <tr>\n",
       "      <th>4</th>\n",
       "      <td>Random state</td>\n",
       "      <td>0</td>\n",
       "    </tr>\n",
       "  </tbody>\n",
       "</table>\n",
       "</div>\n",
       "      <button class=\"colab-df-convert\" onclick=\"convertToInteractive('df-d736823e-2808-44a4-ae6d-081445da7003')\"\n",
       "              title=\"Convert this dataframe to an interactive table.\"\n",
       "              style=\"display:none;\">\n",
       "        \n",
       "  <svg xmlns=\"http://www.w3.org/2000/svg\" height=\"24px\"viewBox=\"0 0 24 24\"\n",
       "       width=\"24px\">\n",
       "    <path d=\"M0 0h24v24H0V0z\" fill=\"none\"/>\n",
       "    <path d=\"M18.56 5.44l.94 2.06.94-2.06 2.06-.94-2.06-.94-.94-2.06-.94 2.06-2.06.94zm-11 1L8.5 8.5l.94-2.06 2.06-.94-2.06-.94L8.5 2.5l-.94 2.06-2.06.94zm10 10l.94 2.06.94-2.06 2.06-.94-2.06-.94-.94-2.06-.94 2.06-2.06.94z\"/><path d=\"M17.41 7.96l-1.37-1.37c-.4-.4-.92-.59-1.43-.59-.52 0-1.04.2-1.43.59L10.3 9.45l-7.72 7.72c-.78.78-.78 2.05 0 2.83L4 21.41c.39.39.9.59 1.41.59.51 0 1.02-.2 1.41-.59l7.78-7.78 2.81-2.81c.8-.78.8-2.07 0-2.86zM5.41 20L4 18.59l7.72-7.72 1.47 1.35L5.41 20z\"/>\n",
       "  </svg>\n",
       "      </button>\n",
       "      \n",
       "  <style>\n",
       "    .colab-df-container {\n",
       "      display:flex;\n",
       "      flex-wrap:wrap;\n",
       "      gap: 12px;\n",
       "    }\n",
       "\n",
       "    .colab-df-convert {\n",
       "      background-color: #E8F0FE;\n",
       "      border: none;\n",
       "      border-radius: 50%;\n",
       "      cursor: pointer;\n",
       "      display: none;\n",
       "      fill: #1967D2;\n",
       "      height: 32px;\n",
       "      padding: 0 0 0 0;\n",
       "      width: 32px;\n",
       "    }\n",
       "\n",
       "    .colab-df-convert:hover {\n",
       "      background-color: #E2EBFA;\n",
       "      box-shadow: 0px 1px 2px rgba(60, 64, 67, 0.3), 0px 1px 3px 1px rgba(60, 64, 67, 0.15);\n",
       "      fill: #174EA6;\n",
       "    }\n",
       "\n",
       "    [theme=dark] .colab-df-convert {\n",
       "      background-color: #3B4455;\n",
       "      fill: #D2E3FC;\n",
       "    }\n",
       "\n",
       "    [theme=dark] .colab-df-convert:hover {\n",
       "      background-color: #434B5C;\n",
       "      box-shadow: 0px 1px 3px 1px rgba(0, 0, 0, 0.15);\n",
       "      filter: drop-shadow(0px 1px 2px rgba(0, 0, 0, 0.3));\n",
       "      fill: #FFFFFF;\n",
       "    }\n",
       "  </style>\n",
       "\n",
       "      <script>\n",
       "        const buttonEl =\n",
       "          document.querySelector('#df-d736823e-2808-44a4-ae6d-081445da7003 button.colab-df-convert');\n",
       "        buttonEl.style.display =\n",
       "          google.colab.kernel.accessAllowed ? 'block' : 'none';\n",
       "\n",
       "        async function convertToInteractive(key) {\n",
       "          const element = document.querySelector('#df-d736823e-2808-44a4-ae6d-081445da7003');\n",
       "          const dataTable =\n",
       "            await google.colab.kernel.invokeFunction('convertToInteractive',\n",
       "                                                     [key], {});\n",
       "          if (!dataTable) return;\n",
       "\n",
       "          const docLinkHtml = 'Like what you see? Visit the ' +\n",
       "            '<a target=\"_blank\" href=https://colab.research.google.com/notebooks/data_table.ipynb>data table notebook</a>'\n",
       "            + ' to learn more about interactive tables.';\n",
       "          element.innerHTML = '';\n",
       "          dataTable['output_type'] = 'display_data';\n",
       "          await google.colab.output.renderOutput(dataTable, element);\n",
       "          const docLink = document.createElement('div');\n",
       "          docLink.innerHTML = docLinkHtml;\n",
       "          element.appendChild(docLink);\n",
       "        }\n",
       "      </script>\n",
       "    </div>\n",
       "  </div>\n",
       "  "
      ],
      "text/plain": [
       "                       0                            1\n",
       "0  Inactive columns name  [season, workingday, atemp]\n",
       "1     Target colunm name                          cnt\n",
       "2              Task type                   Regression\n",
       "3             Test ratio                          0.2\n",
       "4           Random state                            0"
      ]
     },
     "metadata": {},
     "output_type": "display_data"
    }
   ],
   "source": [
    "# exp.data_prepare() #Low-code\n",
    "exp.data_prepare(target='cnt', task_type='regression', test_ratio=0.2, random_state=0)"
   ]
  },
  {
   "cell_type": "markdown",
   "id": "f511067c",
   "metadata": {
    "hidden": true,
    "id": "f511067c"
   },
   "source": [
    "## Train Black-box Models"
   ]
  },
  {
   "cell_type": "code",
   "execution_count": null,
   "id": "87d271be",
   "metadata": {
    "colab": {
     "base_uri": "https://localhost:8080/",
     "height": 68,
     "referenced_widgets": [
      "557dd57fd76f405eb09e669a36ce3bdb",
      "114f7441e61549369707b12af53cf40c",
      "a1e5e2583bfd4b1eb86c1c5cf29effb0",
      "82db7d0e946047209530797c1f118f76",
      "87e7f52689db42918c2dd797721fed68",
      "1a77825e89d542cfa34a54550179a9e1"
     ]
    },
    "executionInfo": {
     "elapsed": 8854,
     "status": "ok",
     "timestamp": 1656507320986,
     "user": {
      "displayName": "Aijun Zhang",
      "userId": "04897292400908543781"
     },
     "user_tz": -480
    },
    "hidden": true,
    "id": "87d271be",
    "outputId": "9160095b-8b79-48be-cd0d-d6c77e7be67b",
    "run_control": {
     "marked": true
    }
   },
   "outputs": [
    {
     "data": {
      "application/vnd.jupyter.widget-view+json": {
       "model_id": "557dd57fd76f405eb09e669a36ce3bdb",
       "version_major": 2,
       "version_minor": 0
      },
      "text/plain": [
       "HTML(value='\\n        <style>\\n\\n        .left-label {\\n            width: 30%;\\n        }\\n\\n        .card-pa…"
      ]
     },
     "metadata": {},
     "output_type": "display_data"
    },
    {
     "data": {
      "application/vnd.jupyter.widget-view+json": {
       "model_id": "82db7d0e946047209530797c1f118f76",
       "version_major": 2,
       "version_minor": 0
      },
      "text/plain": [
       "HTML(value=\"<p class='notification info'>Register XGBoost Done</p>\")"
      ]
     },
     "metadata": {},
     "output_type": "display_data"
    }
   ],
   "source": [
    "import xgboost as xgb\n",
    "model = xgb.XGBRegressor(max_depth=7, n_estimators=500)\n",
    "exp.model_train(model, name='XGBoost')"
   ]
  },
  {
   "cell_type": "code",
   "execution_count": null,
   "id": "6fnehj9sTmSw",
   "metadata": {
    "colab": {
     "base_uri": "https://localhost:8080/",
     "height": 68,
     "referenced_widgets": [
      "ee9a3ec23eb24fac82f184afc6bf8982",
      "1d64f0d361e84c1f9fd1b68712d5977a",
      "01a8825fa1a24597a035f0dd76084808",
      "273afc036f4243ae85fc3efbb0caa050",
      "02f6f90737e64e66bcb7bac3009faf72",
      "7d9a233de0384805aa2d00631b9f02eb"
     ]
    },
    "executionInfo": {
     "elapsed": 17066,
     "status": "ok",
     "timestamp": 1656507338012,
     "user": {
      "displayName": "Aijun Zhang",
      "userId": "04897292400908543781"
     },
     "user_tz": -480
    },
    "hidden": true,
    "id": "6fnehj9sTmSw",
    "outputId": "382b8182-0679-4754-f24b-502e000654e3",
    "run_control": {
     "marked": true
    }
   },
   "outputs": [
    {
     "data": {
      "application/vnd.jupyter.widget-view+json": {
       "model_id": "ee9a3ec23eb24fac82f184afc6bf8982",
       "version_major": 2,
       "version_minor": 0
      },
      "text/plain": [
       "HTML(value='\\n        <style>\\n\\n        .left-label {\\n            width: 30%;\\n        }\\n\\n        .card-pa…"
      ]
     },
     "metadata": {},
     "output_type": "display_data"
    },
    {
     "data": {
      "application/vnd.jupyter.widget-view+json": {
       "model_id": "273afc036f4243ae85fc3efbb0caa050",
       "version_major": 2,
       "version_minor": 0
      },
      "text/plain": [
       "HTML(value=\"<p class='notification info'>Register MLP Done</p>\")"
      ]
     },
     "metadata": {},
     "output_type": "display_data"
    }
   ],
   "source": [
    "from sklearn.neural_network import MLPRegressor\n",
    "\n",
    "exp.model_train(MLPRegressor(hidden_layer_sizes=[100]*4, activation=\"relu\", random_state=0), name='MLP')"
   ]
  },
  {
   "cell_type": "markdown",
   "id": "THcfieWUUYgB",
   "metadata": {
    "hidden": true,
    "id": "THcfieWUUYgB"
   },
   "source": [
    "## Comparison and Benchmarking"
   ]
  },
  {
   "cell_type": "code",
   "execution_count": null,
   "id": "0d4b31d2",
   "metadata": {
    "colab": {
     "base_uri": "https://localhost:8080/",
     "height": 365,
     "referenced_widgets": [
      "fc6a637a52124bc894e0afeb9afa9cdb",
      "6557e30278634046bd356a18fb7c2e14",
      "89f657c909544ce2a4acf43fb185a3e1",
      "dcdf719fccfc44d9ad83f7c648e1cad1",
      "424e542382b241c6a95ef925ff35aafb",
      "0f673e2ed90f4275a27988ecb5e176b4",
      "8f7a8e777b3f4da9afac843342096367",
      "ad6cde7a21f04863a394f6e48120bce1",
      "60bec5c7fe434276beb61eec510236cf",
      "a34bf954ca074679a28a31a34d54e6fb",
      "d93f1b7000c441a79973b60517adbe02",
      "4ce0b3a46aad40e6b7c1a93b9dee1984",
      "f1d5e17bc69948d487b7a69f375cda2e",
      "e7d06b9dab534e02bd37b13391d6ca6e",
      "6c3a7d6fbf824403b5acd2f3a7220fd0",
      "260cc359b7c3455188885dccb73d4d69",
      "2968609c4f2040858ed9314b3e4a00ef",
      "db722c3354cf483ab9c8b84426c897b8",
      "3600cfeba9fe4e31a0c7310b868e6424",
      "11393437656545d3a644c20b5453168d",
      "03c5e43686504cb1b98cd389b6dece4c",
      "144af1f562dc45b589b44a20afcd9636",
      "ad16fd051ee84e45a7abf7de0af6e045"
     ]
    },
    "executionInfo": {
     "elapsed": 1187,
     "status": "ok",
     "timestamp": 1656507339176,
     "user": {
      "displayName": "Aijun Zhang",
      "userId": "04897292400908543781"
     },
     "user_tz": -480
    },
    "hidden": true,
    "id": "0d4b31d2",
    "outputId": "6dbd0bee-2d07-4bdf-ea61-8049ec312f37",
    "run_control": {
     "marked": true
    }
   },
   "outputs": [
    {
     "data": {
      "application/vnd.jupyter.widget-view+json": {
       "model_id": "fc6a637a52124bc894e0afeb9afa9cdb",
       "version_major": 2,
       "version_minor": 0
      },
      "text/plain": [
       "HTML(value='\\n        <style>\\n\\n        .left-label {\\n            width: 30%;\\n        }\\n\\n        .card-pa…"
      ]
     },
     "metadata": {},
     "output_type": "display_data"
    },
    {
     "data": {
      "application/javascript": "google.colab.output.setIframeHeight(0, true, {maxHeight: 5000})",
      "text/plain": [
       "<IPython.core.display.Javascript object>"
      ]
     },
     "metadata": {},
     "output_type": "display_data"
    },
    {
     "data": {
      "application/vnd.jupyter.widget-view+json": {
       "model_id": "dcdf719fccfc44d9ad83f7c648e1cad1",
       "version_major": 2,
       "version_minor": 0
      },
      "text/plain": [
       "VBox(children=(HTML(value=\"<div style='margin-top: 5px'></div>\"), HBox(children=(Box(children=(Output(),), lay…"
      ]
     },
     "metadata": {},
     "output_type": "display_data"
    }
   ],
   "source": [
    "exp.model_compare(models=['XGBoost', 'MLP'], show='accuracy_plot')"
   ]
  },
  {
   "cell_type": "code",
   "execution_count": null,
   "id": "091b13c5",
   "metadata": {
    "colab": {
     "base_uri": "https://localhost:8080/",
     "height": 356,
     "referenced_widgets": [
      "7db731fd266b407eb4bfb99afb7a0e66",
      "d02879ef506346f980978d3f266fbeb6",
      "dc50f614555e4b1986b7cf2272e38feb",
      "d96ce45d52b14c73840238753f5979dc",
      "11cd9015c88e4a8aabaf17124672e5fd",
      "f22b9efa77d1463fa2cfe52ee35b2302",
      "d7b8351487b14501be480fb1c13bce8d",
      "1c6a4688e461425fa338ae523bb4544b",
      "689d7ec7032449919e6509c27458c55d",
      "29069f66ad084cc3a45bd9a033b203f4",
      "8b21b50e9804483b8843b1127058b712",
      "2602adb114914a65a35fec2ad596bd29",
      "b07a02df06ba43cd922274b2229c6cef",
      "dedd31a22198436eb20b92b6f4d91a03",
      "7cffac6435fe46f3a972868bb77cd1e9",
      "6c055c0fa053414d978d0244f761d4bc",
      "e403e792a86340148717fe016b9da94a",
      "bc6e94284d274796882f9a3f7e985553",
      "6ae9d3e5f1e94e1e8bdaf60c8da5ca7e",
      "7e469ea165e84538b9aa2b3514a71e1d"
     ]
    },
    "executionInfo": {
     "elapsed": 9187,
     "status": "ok",
     "timestamp": 1656507348326,
     "user": {
      "displayName": "Aijun Zhang",
      "userId": "04897292400908543781"
     },
     "user_tz": -480
    },
    "hidden": true,
    "id": "091b13c5",
    "outputId": "c6513cbf-3934-46e6-e99f-749fcd62ae52",
    "run_control": {
     "marked": true
    }
   },
   "outputs": [
    {
     "data": {
      "application/vnd.jupyter.widget-view+json": {
       "model_id": "7db731fd266b407eb4bfb99afb7a0e66",
       "version_major": 2,
       "version_minor": 0
      },
      "text/plain": [
       "HTML(value='\\n        <style>\\n\\n        .left-label {\\n            width: 30%;\\n        }\\n\\n        .card-pa…"
      ]
     },
     "metadata": {},
     "output_type": "display_data"
    },
    {
     "data": {
      "application/javascript": "google.colab.output.setIframeHeight(0, true, {maxHeight: 5000})",
      "text/plain": [
       "<IPython.core.display.Javascript object>"
      ]
     },
     "metadata": {},
     "output_type": "display_data"
    },
    {
     "data": {
      "application/vnd.jupyter.widget-view+json": {
       "model_id": "d96ce45d52b14c73840238753f5979dc",
       "version_major": 2,
       "version_minor": 0
      },
      "text/plain": [
       "VBox(children=(HBox(children=(Box(children=(Output(),), layout=Layout(width='36%')), HTML(value=\"<div style='m…"
      ]
     },
     "metadata": {},
     "output_type": "display_data"
    }
   ],
   "source": [
    "exp.model_compare(models=['XGBoost', 'MLP'], show='robustness_perf')"
   ]
  },
  {
   "cell_type": "code",
   "execution_count": null,
   "id": "bcc7353d",
   "metadata": {
    "colab": {
     "base_uri": "https://localhost:8080/",
     "height": 356,
     "referenced_widgets": [
      "361f636322a04b86ac6b73bbd1bb9ee9",
      "cecbaf8887d8414cbb41a966b67c7eb6",
      "755f103df62b4e7b956dd33697596da1",
      "f271f3108ebe4c87a73b91ba3b08a7f9",
      "44b221ac501848a18d7a6abd9842eb77",
      "e566686c46c9409390868b3c47f130ae",
      "8f0b3d85105448869f0d2becdb320410",
      "79def603a9ae4f29b645899fc4405bab",
      "4bd451c6058846adba1669665e980bab",
      "3100ee7b7006426d82956b214fe9d3ea",
      "8f2b34580f814f93ac58b2c84d36cbfc",
      "d421d5a34e284153a947d110960371ae",
      "892daac067044889be2efe556eb1c852",
      "b65d1fd81f504075b648781a381acd6b",
      "16fe9469424e4eecb87dea6ea76bee9b",
      "745b9810cb3c4fbf9144749c9bb9fe60",
      "20bafa97cbf94bb3b217282eebefb094",
      "508ae208b7b34fdeaae27dad543a2a2d",
      "57c3e15027a047cf888c81f572d3fac6",
      "fd72b81ed8bb4263a72d8d5d7e1035f4"
     ]
    },
    "executionInfo": {
     "elapsed": 1588,
     "status": "ok",
     "timestamp": 1656507351604,
     "user": {
      "displayName": "Aijun Zhang",
      "userId": "04897292400908543781"
     },
     "user_tz": -480
    },
    "hidden": true,
    "id": "bcc7353d",
    "outputId": "6912bc09-ed09-472e-9e1c-4f051c3f43ab",
    "run_control": {
     "marked": true
    }
   },
   "outputs": [
    {
     "data": {
      "application/vnd.jupyter.widget-view+json": {
       "model_id": "361f636322a04b86ac6b73bbd1bb9ee9",
       "version_major": 2,
       "version_minor": 0
      },
      "text/plain": [
       "HTML(value='\\n        <style>\\n\\n        .left-label {\\n            width: 30%;\\n        }\\n\\n        .card-pa…"
      ]
     },
     "metadata": {},
     "output_type": "display_data"
    },
    {
     "data": {
      "application/javascript": "google.colab.output.setIframeHeight(0, true, {maxHeight: 5000})",
      "text/plain": [
       "<IPython.core.display.Javascript object>"
      ]
     },
     "metadata": {},
     "output_type": "display_data"
    },
    {
     "data": {
      "application/vnd.jupyter.widget-view+json": {
       "model_id": "f271f3108ebe4c87a73b91ba3b08a7f9",
       "version_major": 2,
       "version_minor": 0
      },
      "text/plain": [
       "VBox(children=(HBox(children=(Box(children=(Output(),), layout=Layout(width='36%')), HTML(value=\"<div style='m…"
      ]
     },
     "metadata": {},
     "output_type": "display_data"
    }
   ],
   "source": [
    "exp.model_compare(models=['XGBoost', 'MLP'], show='resilience_perf', alpha=0.2)"
   ]
  }
 ],
 "metadata": {
  "colab": {
   "collapsed_sections": [
    "c1bf34b7",
    "ux1MogdTTaqx",
    "f511067c",
    "THcfieWUUYgB"
   ],
   "name": "202206Workshop-Part1 InterpretableML_BikeSharing.ipynb",
   "provenance": []
  },
  "kernelspec": {
   "display_name": "py39",
   "language": "python",
   "name": "py39"
  },
  "language_info": {
   "codemirror_mode": {
    "name": "ipython",
    "version": 3
   },
   "file_extension": ".py",
   "mimetype": "text/x-python",
   "name": "python",
   "nbconvert_exporter": "python",
   "pygments_lexer": "ipython3",
   "version": "3.9.6"
  },
  "toc": {
   "base_numbering": 1,
   "nav_menu": {},
   "number_sections": true,
   "sideBar": true,
   "skip_h1_title": false,
   "title_cell": "Table of Contents",
   "title_sidebar": "Contents",
   "toc_cell": false,
   "toc_position": {},
   "toc_section_display": true,
   "toc_window_display": false
  },
  "widgets": {
   "application/vnd.jupyter.widget-state+json": {
    "state": {},
    "version_major": 2,
    "version_minor": 0
   }
  }
 },
 "nbformat": 4,
 "nbformat_minor": 5
}
