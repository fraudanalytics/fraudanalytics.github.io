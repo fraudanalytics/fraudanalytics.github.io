{
  "cells": [
    {
      "cell_type": "code",
      "execution_count": null,
      "metadata": {
        "collapsed": false
      },
      "outputs": [],
      "source": [
        "%matplotlib inline"
      ]
    },
    {
      "cell_type": "markdown",
      "metadata": {},
      "source": [
        "\n# Scored Test: Regression\n"
      ]
    },
    {
      "cell_type": "code",
      "execution_count": null,
      "metadata": {
        "collapsed": false
      },
      "outputs": [],
      "source": [
        "import numpy as np\nfrom xgboost import XGBRegressor\nfrom sklearn.datasets import fetch_california_housing\nfrom sklearn.model_selection import train_test_split\n\ndata = fetch_california_housing()\ntrain_x, test_x, train_y, test_y, train_idx, test_idx = train_test_split(data.data, data.target,\n                                                                         np.arange(data.data.shape[0]), test_size=0.2)\n\nxgb2 = XGBRegressor(max_depth=2, n_estimators=100)\nxgb2.fit(train_x, train_y)"
      ]
    },
    {
      "cell_type": "markdown",
      "metadata": {},
      "source": [
        "Extract the required data inputs from PiML workflow \n\n"
      ]
    },
    {
      "cell_type": "code",
      "execution_count": null,
      "metadata": {
        "collapsed": false
      },
      "outputs": [],
      "source": [
        "X = data.data\ny = data.target\ntask_type = 'regression'\nprediction = xgb2.predict(data.data)\nfeature_names = data.feature_names\ntarget_name = data.target_names[0]"
      ]
    },
    {
      "cell_type": "markdown",
      "metadata": {},
      "source": [
        "Prepare the necessary data information\n\n"
      ]
    },
    {
      "cell_type": "code",
      "execution_count": null,
      "metadata": {
        "collapsed": false
      },
      "outputs": [],
      "source": [
        "data_dict = {'x': X,\n             'y': y,\n             'task_type': task_type,\n             'prediction': prediction,\n             'feature_names': feature_names,\n             'target_name': target_name,\n             'train_idx': train_idx,\n             'test_idx': test_idx}"
      ]
    },
    {
      "cell_type": "markdown",
      "metadata": {},
      "source": [
        "Show the accuracy table \n\n"
      ]
    },
    {
      "cell_type": "code",
      "execution_count": null,
      "metadata": {
        "collapsed": false
      },
      "outputs": [],
      "source": [
        "from piml.scored_test import test_accuracy_table\nresult = test_accuracy_table(**data_dict)"
      ]
    },
    {
      "cell_type": "markdown",
      "metadata": {},
      "source": [
        "Plot the prediction residuals against one feature of interest \n\n"
      ]
    },
    {
      "cell_type": "code",
      "execution_count": null,
      "metadata": {
        "collapsed": false
      },
      "outputs": [],
      "source": [
        "from piml.scored_test import test_accuracy_residual\nresult = test_accuracy_residual(**data_dict, show_feature='MedInc', figsize=(5, 4))"
      ]
    },
    {
      "cell_type": "markdown",
      "metadata": {},
      "source": [
        "Run weakspot test to detect weak regions\n\n"
      ]
    },
    {
      "cell_type": "code",
      "execution_count": null,
      "metadata": {
        "collapsed": false
      },
      "outputs": [],
      "source": [
        "from piml.scored_test import test_weakspot\nresult = test_weakspot(**data_dict, slice_features=['MedInc'], figsize=(5, 4))"
      ]
    },
    {
      "cell_type": "markdown",
      "metadata": {},
      "source": [
        "Run overfit test to detect overfit regions\n\n"
      ]
    },
    {
      "cell_type": "code",
      "execution_count": null,
      "metadata": {
        "collapsed": false
      },
      "outputs": [],
      "source": [
        "from piml.scored_test import test_overfit\nresult = test_overfit(**data_dict, slice_method=\"histogram\", slice_features=['MedInc'], figsize=(5, 4))"
      ]
    },
    {
      "cell_type": "markdown",
      "metadata": {},
      "source": [
        "Run reliability test to show relationship between prediction uncertainty and feature of interest \n\n"
      ]
    },
    {
      "cell_type": "code",
      "execution_count": null,
      "metadata": {
        "collapsed": false
      },
      "outputs": [],
      "source": [
        "from piml.scored_test import test_reliability_marginal\nresult = test_reliability_marginal(**data_dict, show_feature='MedInc', figsize=(5, 4))"
      ]
    },
    {
      "cell_type": "markdown",
      "metadata": {},
      "source": [
        "Run reliability test to show data distance between reliable and unreliable samples. \n\n"
      ]
    },
    {
      "cell_type": "code",
      "execution_count": null,
      "metadata": {
        "collapsed": false
      },
      "outputs": [],
      "source": [
        "from piml.scored_test import test_reliability_distance\nresult = test_reliability_distance(**data_dict, figsize=(5, 4))"
      ]
    },
    {
      "cell_type": "markdown",
      "metadata": {},
      "source": [
        "Run resilience test to show how model performance changes under distributional shift.\n\n"
      ]
    },
    {
      "cell_type": "code",
      "execution_count": null,
      "metadata": {
        "collapsed": false
      },
      "outputs": [],
      "source": [
        "from piml.scored_test import test_resilience_perf\nresult = test_resilience_perf(**data_dict, figsize=(5, 4))"
      ]
    },
    {
      "cell_type": "markdown",
      "metadata": {},
      "source": [
        "We can calculate the distributional difference between good regions and bad regions, e.g. the weak regions and the rest. Similarly, such plot can also be used for other tests, like reliablity. \n\n"
      ]
    },
    {
      "cell_type": "code",
      "execution_count": null,
      "metadata": {
        "collapsed": false
      },
      "outputs": [],
      "source": [
        "from piml.scored_test import test_resilience_distance\nresult = test_resilience_distance(**data_dict, figsize=(5, 4))"
      ]
    },
    {
      "cell_type": "markdown",
      "metadata": {},
      "source": [
        "The distributional difference histogram plot. \n\n"
      ]
    },
    {
      "cell_type": "code",
      "execution_count": null,
      "metadata": {
        "collapsed": false
      },
      "outputs": [],
      "source": [
        "from piml.scored_test import test_resilience_shift_histogram\nresult = test_resilience_shift_histogram(**data_dict, show_feature='MedInc', figsize=(5, 4))"
      ]
    },
    {
      "cell_type": "markdown",
      "metadata": {},
      "source": [
        "The distributional difference density plot. \n\n"
      ]
    },
    {
      "cell_type": "code",
      "execution_count": null,
      "metadata": {
        "collapsed": false
      },
      "outputs": [],
      "source": [
        "from piml.scored_test import test_resilience_shift_density\nresult = test_resilience_shift_density(**data_dict, show_feature='MedInc', figsize=(5, 4))"
      ]
    }
  ],
  "metadata": {
    "kernelspec": {
      "display_name": "Python 3",
      "language": "python",
      "name": "python3"
    },
    "language_info": {
      "codemirror_mode": {
        "name": "ipython",
        "version": 3
      },
      "file_extension": ".py",
      "mimetype": "text/x-python",
      "name": "python",
      "nbconvert_exporter": "python",
      "pygments_lexer": "ipython3",
      "version": "3.9.12"
    }
  },
  "nbformat": 4,
  "nbformat_minor": 0
}