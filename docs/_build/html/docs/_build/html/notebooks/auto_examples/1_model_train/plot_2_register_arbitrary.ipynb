{
  "cells": [
    {
      "cell_type": "code",
      "execution_count": null,
      "metadata": {
        "collapsed": false
      },
      "outputs": [],
      "source": [
        "%matplotlib inline"
      ]
    },
    {
      "cell_type": "markdown",
      "metadata": {},
      "source": [
        "\n# Registering Arbitrary Models\nIf the model is neither sklearn style nor H2O style, we can still register it into PiML.\n"
      ]
    },
    {
      "cell_type": "markdown",
      "metadata": {},
      "source": [
        "For demonstration, we simulate a simple binary classification dataset and fit a GLM using statsmodels.\n\n"
      ]
    },
    {
      "cell_type": "code",
      "execution_count": null,
      "metadata": {
        "collapsed": false
      },
      "outputs": [],
      "source": [
        "import numpy as np\nimport statsmodels.api as sm\n\nx = np.random.uniform(-1, 1, size=(1000, 2))\ny = (np.sum(x, axis=1) + np.random.normal(0, 0.1, size=(1000,))) > 0.0\n\nglm_binom = sm.GLM(y, x, family=sm.families.Binomial())\nglm_results  = glm_binom.fit()"
      ]
    },
    {
      "cell_type": "markdown",
      "metadata": {},
      "source": [
        "Next, we generate a simple model that.\n\n"
      ]
    },
    {
      "cell_type": "code",
      "execution_count": null,
      "metadata": {
        "collapsed": false
      },
      "outputs": [],
      "source": [
        "def predict_proba_func(X):\n    proba = glm_binom.predict(glm_results.params, exog=X)\n    return np.vstack([1 - proba, proba]).T\n\ndef predict_func(X):\n    proba = glm_binom.predict(glm_results.params, exog=X)\n    return proba > 0.5"
      ]
    },
    {
      "cell_type": "markdown",
      "metadata": {},
      "source": [
        "Register the fitted model into PiML (please make sure the datasets of different pipelines are the same)\n\n"
      ]
    },
    {
      "cell_type": "code",
      "execution_count": null,
      "metadata": {
        "collapsed": false
      },
      "outputs": [],
      "source": [
        "from piml import Experiment\n\nexp = Experiment(highcode_only=True)\npipeline = exp.make_pipeline(predict_func=predict_func,\n                             predict_proba_func=predict_proba_func,\n                             task_type=\"classification\",\n                             train_x=x[:800],\n                             train_y=y[:800],\n                             test_x=x[800:],\n                             test_y=y[800:],\n                             feature_names=[\"X0\", \"X1\"],\n                             target_name=\"Y\")\nexp.register(pipeline, \"Statsmodels-GLM\")"
      ]
    },
    {
      "cell_type": "markdown",
      "metadata": {},
      "source": [
        "Check model performance\n\n"
      ]
    },
    {
      "cell_type": "code",
      "execution_count": null,
      "metadata": {
        "collapsed": false
      },
      "outputs": [],
      "source": [
        "exp.model_diagnose(model=\"Statsmodels-GLM\", show=\"accuracy_table\")"
      ]
    },
    {
      "cell_type": "markdown",
      "metadata": {},
      "source": [
        "Explain using post-hoc explanation tools \n\n"
      ]
    },
    {
      "cell_type": "code",
      "execution_count": null,
      "metadata": {
        "collapsed": false
      },
      "outputs": [],
      "source": [
        "exp.model_explain(model=\"Statsmodels-GLM\", show=\"pfi\", figsize=(5, 4))"
      ]
    },
    {
      "cell_type": "markdown",
      "metadata": {},
      "source": [
        "Explain using post-hoc explanation tools \n\n"
      ]
    },
    {
      "cell_type": "code",
      "execution_count": null,
      "metadata": {
        "collapsed": false
      },
      "outputs": [],
      "source": [
        "exp.model_explain(model=\"Statsmodels-GLM\", show=\"ale\", uni_feature=\"X0\", figsize=(5, 4))"
      ]
    },
    {
      "cell_type": "markdown",
      "metadata": {},
      "source": [
        "Run validataion tests\n\n"
      ]
    },
    {
      "cell_type": "code",
      "execution_count": null,
      "metadata": {
        "collapsed": false
      },
      "outputs": [],
      "source": [
        "exp.model_explain(model=\"Statsmodels-GLM\", show=\"pdp\", uni_feature=\"X0\", figsize=(5, 4))"
      ]
    }
  ],
  "metadata": {
    "kernelspec": {
      "display_name": "Python 3",
      "language": "python",
      "name": "python3"
    },
    "language_info": {
      "codemirror_mode": {
        "name": "ipython",
        "version": 3
      },
      "file_extension": ".py",
      "mimetype": "text/x-python",
      "name": "python",
      "nbconvert_exporter": "python",
      "pygments_lexer": "ipython3",
      "version": "3.9.12"
    }
  },
  "nbformat": 4,
  "nbformat_minor": 0
}