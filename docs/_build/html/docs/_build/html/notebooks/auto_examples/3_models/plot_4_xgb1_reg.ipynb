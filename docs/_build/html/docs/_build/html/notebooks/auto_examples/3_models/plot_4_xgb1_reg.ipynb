{
  "cells": [
    {
      "cell_type": "markdown",
      "metadata": {},
      "source": [
        "\n# XGB-1 Regression (California Housing)\n"
      ]
    },
    {
      "cell_type": "markdown",
      "metadata": {},
      "source": [
        "Experiment initialization and data preparation\n\n"
      ]
    },
    {
      "cell_type": "code",
      "execution_count": null,
      "metadata": {
        "collapsed": false
      },
      "outputs": [],
      "source": [
        "from piml import Experiment\nfrom piml.models import XGB1Regressor\n\nexp = Experiment()\nexp.data_loader(data=\"CaliforniaHousing_trim2\", silent=True)\nexp.data_prepare(target=\"MedHouseVal\", task_type=\"regression\", silent=True)"
      ]
    },
    {
      "cell_type": "markdown",
      "metadata": {},
      "source": [
        "Train model\n\n"
      ]
    },
    {
      "cell_type": "code",
      "execution_count": null,
      "metadata": {
        "collapsed": false
      },
      "outputs": [],
      "source": [
        "exp.model_train(model=XGB1Regressor(n_estimators=500, max_bin=20, min_bin_size=0.01), name=\"XGB1\")"
      ]
    },
    {
      "cell_type": "markdown",
      "metadata": {},
      "source": [
        "Train model with monotonicity constrained on MedInc\n\n"
      ]
    },
    {
      "cell_type": "code",
      "execution_count": null,
      "metadata": {
        "collapsed": false
      },
      "outputs": [],
      "source": [
        "exp.model_train(model=XGB1Regressor(n_estimators=500, max_bin=20, min_bin_size=0.01,\n                                    mono_increasing_list=(\"MedInc\", )),\n                name=\"Mono-XGB1\")"
      ]
    },
    {
      "cell_type": "markdown",
      "metadata": {},
      "source": [
        "Evaluate predictive performance of XGB1\n\n"
      ]
    },
    {
      "cell_type": "code",
      "execution_count": null,
      "metadata": {
        "collapsed": false
      },
      "outputs": [],
      "source": [
        "exp.model_diagnose(model=\"XGB1\", show='accuracy_table')"
      ]
    },
    {
      "cell_type": "markdown",
      "metadata": {},
      "source": [
        "Evaluate predictive performance of Mono-XGB1\n\n"
      ]
    },
    {
      "cell_type": "code",
      "execution_count": null,
      "metadata": {
        "collapsed": false
      },
      "outputs": [],
      "source": [
        "exp.model_diagnose(model=\"Mono-XGB1\", show='accuracy_table')"
      ]
    },
    {
      "cell_type": "markdown",
      "metadata": {},
      "source": [
        "Global effect plot of XGB1 on MedInc\n\n"
      ]
    },
    {
      "cell_type": "code",
      "execution_count": null,
      "metadata": {
        "collapsed": false
      },
      "outputs": [],
      "source": [
        "exp.model_interpret(model=\"XGB1\", show=\"global_effect_plot\", uni_feature=\"MedInc\",\n                    original_scale=True, figsize=(5, 4))"
      ]
    },
    {
      "cell_type": "markdown",
      "metadata": {},
      "source": [
        "Global effect plot of Mono-XGB1 on MedInc   \n\n"
      ]
    },
    {
      "cell_type": "code",
      "execution_count": null,
      "metadata": {
        "collapsed": false
      },
      "outputs": [],
      "source": [
        "exp.model_interpret(model=\"Mono-XGB1\", show=\"global_effect_plot\", uni_feature=\"MedInc\",\n                    original_scale=True, figsize=(5, 4))"
      ]
    },
    {
      "cell_type": "markdown",
      "metadata": {},
      "source": [
        "Feature importance of Mono-XGB1    \n\n"
      ]
    },
    {
      "cell_type": "code",
      "execution_count": null,
      "metadata": {
        "collapsed": false
      },
      "outputs": [],
      "source": [
        "exp.model_interpret(model=\"Mono-XGB1\", show=\"global_fi\", figsize=(5, 4))"
      ]
    },
    {
      "cell_type": "markdown",
      "metadata": {},
      "source": [
        "Weight of evidence plot of Mono-XGB1 on MedInc\n\n"
      ]
    },
    {
      "cell_type": "code",
      "execution_count": null,
      "metadata": {
        "collapsed": false
      },
      "outputs": [],
      "source": [
        "exp.model_interpret(model=\"Mono-XGB1\", show=\"xgb1_woe\", uni_feature=\"MedInc\", original_scale=True, figsize=(5, 4))"
      ]
    },
    {
      "cell_type": "markdown",
      "metadata": {},
      "source": [
        "Information value plot of Mono-XGB1  \n\n"
      ]
    },
    {
      "cell_type": "code",
      "execution_count": null,
      "metadata": {
        "collapsed": false
      },
      "outputs": [],
      "source": [
        "exp.model_interpret(model=\"Mono-XGB1\", show=\"xgb1_iv\", figsize=(5, 4))"
      ]
    },
    {
      "cell_type": "markdown",
      "metadata": {},
      "source": [
        "Local interpretation of Mono-XGB1  \n\n"
      ]
    },
    {
      "cell_type": "code",
      "execution_count": null,
      "metadata": {
        "collapsed": false
      },
      "outputs": [],
      "source": [
        "exp.model_interpret(model=\"Mono-XGB1\", show=\"local_fi\", sample_id=0, original_scale=True, figsize=(5, 4))"
      ]
    }
  ],
  "metadata": {
    "kernelspec": {
      "display_name": "Python 3",
      "language": "python",
      "name": "python3"
    },
    "language_info": {
      "codemirror_mode": {
        "name": "ipython",
        "version": 3
      },
      "file_extension": ".py",
      "mimetype": "text/x-python",
      "name": "python",
      "nbconvert_exporter": "python",
      "pygments_lexer": "ipython3",
      "version": "3.10.11"
    }
  },
  "nbformat": 4,
  "nbformat_minor": 0
}