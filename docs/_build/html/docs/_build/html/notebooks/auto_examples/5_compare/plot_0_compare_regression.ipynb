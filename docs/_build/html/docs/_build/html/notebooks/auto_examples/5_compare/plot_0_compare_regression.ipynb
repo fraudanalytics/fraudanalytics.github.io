{
  "cells": [
    {
      "cell_type": "code",
      "execution_count": null,
      "metadata": {
        "collapsed": false
      },
      "outputs": [],
      "source": [
        "%matplotlib inline"
      ]
    },
    {
      "cell_type": "markdown",
      "metadata": {},
      "source": [
        "\n# Model Comparison: Regression\n"
      ]
    },
    {
      "cell_type": "markdown",
      "metadata": {},
      "source": [
        "Experiment initialization and data preparation\n\n"
      ]
    },
    {
      "cell_type": "code",
      "execution_count": null,
      "metadata": {
        "collapsed": false
      },
      "outputs": [],
      "source": [
        "from piml import Experiment\nfrom piml.models import GLMRegressor\nfrom xgboost import XGBRegressor\n\nexp = Experiment()\nexp.data_loader(data=\"BikeSharing\", silent=True)\nexp.data_summary(feature_exclude=[\"yr\", \"mnth\", \"temp\"], silent=True)\nexp.data_prepare(target=\"cnt\", task_type=\"regression\", silent=True)"
      ]
    },
    {
      "cell_type": "markdown",
      "metadata": {},
      "source": [
        "Train Model\n\n"
      ]
    },
    {
      "cell_type": "code",
      "execution_count": null,
      "metadata": {
        "collapsed": false
      },
      "outputs": [],
      "source": [
        "exp.model_train(GLMRegressor(), name=\"GLM\")\nexp.model_train(XGBRegressor(max_depth=2), name=\"XGB2\")\nexp.model_train(XGBRegressor(max_depth=7), name=\"XGB7\")"
      ]
    },
    {
      "cell_type": "markdown",
      "metadata": {},
      "source": [
        "Accuracy comparison with MSE\n\n"
      ]
    },
    {
      "cell_type": "code",
      "execution_count": null,
      "metadata": {
        "collapsed": false
      },
      "outputs": [],
      "source": [
        "exp.model_compare(models=[\"GLM\", \"XGB2\", \"XGB7\"], show=\"accuracy_plot\", metric=\"MSE\", figsize=(5, 4))"
      ]
    },
    {
      "cell_type": "markdown",
      "metadata": {},
      "source": [
        "Accuracy comparison with MAE\n\n"
      ]
    },
    {
      "cell_type": "code",
      "execution_count": null,
      "metadata": {
        "collapsed": false
      },
      "outputs": [],
      "source": [
        "exp.model_compare(models=[\"GLM\", \"XGB2\", \"XGB7\"], show=\"accuracy_plot\", metric=\"MAE\", figsize=(5, 4))"
      ]
    },
    {
      "cell_type": "markdown",
      "metadata": {},
      "source": [
        "Accuracy comparison with R2\n\n"
      ]
    },
    {
      "cell_type": "code",
      "execution_count": null,
      "metadata": {
        "collapsed": false
      },
      "outputs": [],
      "source": [
        "exp.model_compare(models=[\"GLM\", \"XGB2\", \"XGB7\"], show=\"accuracy_plot\", metric=\"R2\", figsize=(5, 4))"
      ]
    },
    {
      "cell_type": "markdown",
      "metadata": {},
      "source": [
        "Overfit comparison with MSE metric\n\n"
      ]
    },
    {
      "cell_type": "code",
      "execution_count": null,
      "metadata": {
        "collapsed": false
      },
      "outputs": [],
      "source": [
        "exp.model_compare(models=[\"GLM\", \"XGB2\", \"XGB7\"], show=\"overfit\",\n                  slice_method=\"histogram\", slice_feature=\"hr\", \n                  bins=10, metric=\"MSE\", original_scale=True, figsize=(5, 4))"
      ]
    },
    {
      "cell_type": "markdown",
      "metadata": {},
      "source": [
        "Overfit comparison with MAE metric\n\n"
      ]
    },
    {
      "cell_type": "code",
      "execution_count": null,
      "metadata": {
        "collapsed": false
      },
      "outputs": [],
      "source": [
        "exp.model_compare(models=[\"GLM\", \"XGB2\", \"XGB7\"], show=\"overfit\",\n                  slice_method=\"histogram\", slice_feature=\"hr\", \n                  metric=\"MAE\", original_scale=True, figsize=(5, 4))"
      ]
    },
    {
      "cell_type": "markdown",
      "metadata": {},
      "source": [
        "Reliability coverage comparison \n\n"
      ]
    },
    {
      "cell_type": "code",
      "execution_count": null,
      "metadata": {
        "collapsed": false
      },
      "outputs": [],
      "source": [
        "exp.model_compare(models=[\"GLM\", \"XGB2\", \"XGB7\"], show=\"reliability_coverage\", alpha=0.1, figsize=(5, 4))"
      ]
    },
    {
      "cell_type": "markdown",
      "metadata": {},
      "source": [
        "Reliability bandwidth comparison \n\n"
      ]
    },
    {
      "cell_type": "code",
      "execution_count": null,
      "metadata": {
        "collapsed": false
      },
      "outputs": [],
      "source": [
        "exp.model_compare(models=[\"GLM\", \"XGB2\", \"XGB7\"], show=\"reliability_bandwidth\", alpha=0.1, figsize=(5, 4))"
      ]
    },
    {
      "cell_type": "markdown",
      "metadata": {},
      "source": [
        "Robustness comparison with default settings\n\n"
      ]
    },
    {
      "cell_type": "code",
      "execution_count": null,
      "metadata": {
        "collapsed": false
      },
      "outputs": [],
      "source": [
        "exp.model_compare(models=[\"GLM\", \"XGB2\", \"XGB7\"], show=\"robustness_perf\", figsize=(5, 4))"
      ]
    },
    {
      "cell_type": "markdown",
      "metadata": {},
      "source": [
        "Robustness comparison on worst alpha-percent samples\n\n"
      ]
    },
    {
      "cell_type": "code",
      "execution_count": null,
      "metadata": {
        "collapsed": false
      },
      "outputs": [],
      "source": [
        "exp.model_compare(models=[\"GLM\", \"XGB2\", \"XGB7\"], show=\"robustness_perf_worst\", alpha=0.3, figsize=(5, 4))"
      ]
    },
    {
      "cell_type": "markdown",
      "metadata": {},
      "source": [
        "Resilience comparison with worst-sample scenario\n\n"
      ]
    },
    {
      "cell_type": "code",
      "execution_count": null,
      "metadata": {
        "collapsed": false
      },
      "outputs": [],
      "source": [
        "exp.model_compare(models=[\"GLM\", \"XGB2\", \"XGB7\"], show=\"resilience_perf\", \n                  resilience_method=\"worst-sample\", immu_feature=None, metric=\"MAE\", figsize=(5, 4))"
      ]
    },
    {
      "cell_type": "markdown",
      "metadata": {},
      "source": [
        "Resilience distance comparison with worst-sample scenario\n\n"
      ]
    },
    {
      "cell_type": "code",
      "execution_count": null,
      "metadata": {
        "collapsed": false
      },
      "outputs": [],
      "source": [
        "exp.model_compare(models=[\"GLM\", \"XGB2\", \"XGB7\"], show=\"resilience_distance\", \n                  resilience_method=\"worst-sample\", metric=\"MAE\", alpha=0.3, figsize=(5, 4))"
      ]
    }
  ],
  "metadata": {
    "kernelspec": {
      "display_name": "Python 3",
      "language": "python",
      "name": "python3"
    },
    "language_info": {
      "codemirror_mode": {
        "name": "ipython",
        "version": 3
      },
      "file_extension": ".py",
      "mimetype": "text/x-python",
      "name": "python",
      "nbconvert_exporter": "python",
      "pygments_lexer": "ipython3",
      "version": "3.9.12"
    }
  },
  "nbformat": 4,
  "nbformat_minor": 0
}