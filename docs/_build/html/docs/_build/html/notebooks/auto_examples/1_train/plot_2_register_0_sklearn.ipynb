{
  "cells": [
    {
      "cell_type": "code",
      "execution_count": null,
      "metadata": {
        "collapsed": false
      },
      "outputs": [],
      "source": [
        "%matplotlib inline"
      ]
    },
    {
      "cell_type": "markdown",
      "metadata": {},
      "source": [
        "\n# Register sklearn Style Models\nAssume we have sklearn style models fitted outside PiML workflow\n"
      ]
    },
    {
      "cell_type": "markdown",
      "metadata": {},
      "source": [
        "For demonstration, we fit a model using XGBoost's sklearn API\n\n"
      ]
    },
    {
      "cell_type": "code",
      "execution_count": null,
      "metadata": {
        "collapsed": false
      },
      "outputs": [],
      "source": [
        "from xgboost import XGBRegressor\nfrom sklearn.datasets import fetch_california_housing\nfrom sklearn.model_selection import train_test_split\n\ndata = fetch_california_housing()\ntrain_x, test_x, train_y, test_y = train_test_split(data.data, data.target, test_size=0.2)\nfeature_names = data.feature_names\ntarget_name = data.target_names[0]\n\nxgb2 = XGBRegressor(max_depth=2, n_estimators=100)\nxgb2.fit(train_x, train_y)\n\nxgb7 = XGBRegressor(max_depth=7, n_estimators=100)\nxgb7.fit(train_x, train_y)"
      ]
    },
    {
      "cell_type": "markdown",
      "metadata": {},
      "source": [
        "Load PiML\n\n"
      ]
    },
    {
      "cell_type": "code",
      "execution_count": null,
      "metadata": {
        "collapsed": false
      },
      "outputs": [],
      "source": [
        "from piml import Experiment\nexp = Experiment(highcode_only=True)"
      ]
    },
    {
      "cell_type": "markdown",
      "metadata": {},
      "source": [
        "Register the fitted model into PiML (please make sure the datasets of different pipelines are the same)\n\n"
      ]
    },
    {
      "cell_type": "code",
      "execution_count": null,
      "metadata": {
        "collapsed": false
      },
      "outputs": [],
      "source": [
        "pipeline_xgb2 = exp.make_pipeline(model=xgb2,\n                                  train_x=train_x,\n                                  train_y=train_y.ravel(),\n                                  test_x=test_x,\n                                  test_y=test_y.ravel(),\n                                  feature_names=feature_names,\n                                  target_name=target_name)\nexp.register(pipeline_xgb2, \"XGB-External-2\")\n\npipeline_xgb7 = exp.make_pipeline(model=xgb7,\n                                  train_x=train_x,\n                                  train_y=train_y.ravel(),\n                                  test_x=test_x,\n                                  test_y=test_y.ravel(),\n                                  feature_names=feature_names,\n                                  target_name=target_name)\nexp.register(pipeline_xgb7, \"XGB-External-7\")"
      ]
    },
    {
      "cell_type": "markdown",
      "metadata": {},
      "source": [
        "Check model performance\n\n"
      ]
    },
    {
      "cell_type": "code",
      "execution_count": null,
      "metadata": {
        "collapsed": false
      },
      "outputs": [],
      "source": [
        "exp.model_diagnose(model=\"XGB-External-2\", show=\"accuracy_table\")"
      ]
    },
    {
      "cell_type": "markdown",
      "metadata": {},
      "source": [
        "Check model performance\n\n"
      ]
    },
    {
      "cell_type": "code",
      "execution_count": null,
      "metadata": {
        "collapsed": false
      },
      "outputs": [],
      "source": [
        "exp.model_diagnose(model=\"XGB-External-7\", show=\"accuracy_table\")"
      ]
    },
    {
      "cell_type": "markdown",
      "metadata": {},
      "source": [
        "Compare model robustness \n\n"
      ]
    },
    {
      "cell_type": "code",
      "execution_count": null,
      "metadata": {
        "collapsed": false
      },
      "outputs": [],
      "source": [
        "exp.model_compare(models=[\"XGB-External-2\", \"XGB-External-7\"], show=\"robustness_perf\", figsize=(5, 4))"
      ]
    },
    {
      "cell_type": "markdown",
      "metadata": {},
      "source": [
        "Compare model resilience\n\n"
      ]
    },
    {
      "cell_type": "code",
      "execution_count": null,
      "metadata": {
        "collapsed": false
      },
      "outputs": [],
      "source": [
        "exp.model_compare(models=[\"XGB-External-7\", \"XGB-External-2\"], show=\"resilience_perf\", figsize=(5, 4))"
      ]
    }
  ],
  "metadata": {
    "kernelspec": {
      "display_name": "Python 3",
      "language": "python",
      "name": "python3"
    },
    "language_info": {
      "codemirror_mode": {
        "name": "ipython",
        "version": 3
      },
      "file_extension": ".py",
      "mimetype": "text/x-python",
      "name": "python",
      "nbconvert_exporter": "python",
      "pygments_lexer": "ipython3",
      "version": "3.9.12"
    }
  },
  "nbformat": 4,
  "nbformat_minor": 0
}