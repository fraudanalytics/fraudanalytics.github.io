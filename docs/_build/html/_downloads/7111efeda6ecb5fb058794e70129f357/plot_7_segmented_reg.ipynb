{
  "cells": [
    {
      "cell_type": "code",
      "execution_count": null,
      "metadata": {
        "collapsed": false
      },
      "outputs": [],
      "source": [
        "%matplotlib inline"
      ]
    },
    {
      "cell_type": "markdown",
      "metadata": {},
      "source": [
        "\n# Segmented Diagnose (Regression)\n"
      ]
    },
    {
      "cell_type": "markdown",
      "metadata": {},
      "source": [
        "Experiment initialization and data preparation\n\n"
      ]
    },
    {
      "cell_type": "code",
      "execution_count": null,
      "metadata": {
        "collapsed": false
      },
      "outputs": [],
      "source": [
        "from piml import Experiment\nfrom piml.models import XGB2Regressor\n\nexp = Experiment()\nexp.data_loader(data=\"BikeSharing\", silent=True)\nexp.data_summary(feature_exclude=[\"yr\", \"mnth\", \"temp\"], silent=True)\nexp.data_prepare(target=\"cnt\", task_type=\"regression\", silent=True)"
      ]
    },
    {
      "cell_type": "markdown",
      "metadata": {},
      "source": [
        "Train Model\n\n"
      ]
    },
    {
      "cell_type": "code",
      "execution_count": null,
      "metadata": {
        "collapsed": false
      },
      "outputs": [],
      "source": [
        "exp.model_train(XGB2Regressor(), name=\"XGB2\")"
      ]
    },
    {
      "cell_type": "markdown",
      "metadata": {},
      "source": [
        "Summary of all segments (top 10 with the worst performance)\n\n"
      ]
    },
    {
      "cell_type": "code",
      "execution_count": null,
      "metadata": {
        "collapsed": false
      },
      "outputs": [],
      "source": [
        "result = exp.segmented_diagnose(model='XGB2', show='segment_table',\n                                segment_method='uniform', segment_bins=5, return_data=True)\nresult.data.head(10)"
      ]
    },
    {
      "cell_type": "markdown",
      "metadata": {},
      "source": [
        "Summary of all segments of a given feature (top 10 with the worst performance)\n\n"
      ]
    },
    {
      "cell_type": "code",
      "execution_count": null,
      "metadata": {
        "collapsed": false
      },
      "outputs": [],
      "source": [
        "result = exp.segmented_diagnose(model=\"XGB2\", show=\"segment_table\",\n                                segment_method=\"uniform\", segment_feature=\"hr\", segment_bins=5, return_data=True)\nresult.data"
      ]
    },
    {
      "cell_type": "markdown",
      "metadata": {},
      "source": [
        "Residual analysis of the samples in that segment\n\n"
      ]
    },
    {
      "cell_type": "code",
      "execution_count": null,
      "metadata": {
        "collapsed": false
      },
      "outputs": [],
      "source": [
        "exp.segmented_diagnose(model=\"XGB2\", show=\"accuracy_residual\", \n                       segment_method=\"uniform\", segment_feature=\"hr\", segment_bins=5, segment_id=0,\n                       show_feature=\"atemp\", figsize=(5, 4))"
      ]
    },
    {
      "cell_type": "markdown",
      "metadata": {},
      "source": [
        "Weakspot analysis of the samples in that segment\n\n"
      ]
    },
    {
      "cell_type": "code",
      "execution_count": null,
      "metadata": {
        "collapsed": false
      },
      "outputs": [],
      "source": [
        "exp.segmented_diagnose(model=\"XGB2\", show=\"weakspot\", \n                       segment_method=\"uniform\", segment_feature=\"hr\", segment_bins=5, segment_id=0,\n                       slice_features=[\"atemp\"], metric=\"MSE\", figsize=(5, 4))"
      ]
    },
    {
      "cell_type": "markdown",
      "metadata": {},
      "source": [
        "Distributional distance comparison between the specificed segment and the remaining (feature-by-feature)\n\n"
      ]
    },
    {
      "cell_type": "code",
      "execution_count": null,
      "metadata": {
        "collapsed": false
      },
      "outputs": [],
      "source": [
        "res = exp.segmented_diagnose(model=\"XGB2\", show=\"distribution_shift\",\n                             segment_method=\"uniform\", segment_feature=\"hr\", segment_bins=5, segment_id=0,\n                             figsize=(5, 4), return_data=True)"
      ]
    },
    {
      "cell_type": "markdown",
      "metadata": {},
      "source": [
        "Distributional distance comparison between the specificed segment and the remaining (density of one selected feature)\n\n"
      ]
    },
    {
      "cell_type": "code",
      "execution_count": null,
      "metadata": {
        "collapsed": false
      },
      "outputs": [],
      "source": [
        "res = exp.segmented_diagnose(model=\"XGB2\", show=\"distribution_shift\",\n                             segment_method=\"uniform\", segment_feature=\"hr\", segment_bins=5,\n                             segment_id=0, show_feature=\"hum\", figsize=(5, 4), return_data=True)"
      ]
    }
  ],
  "metadata": {
    "kernelspec": {
      "display_name": "Python 3",
      "language": "python",
      "name": "python3"
    },
    "language_info": {
      "codemirror_mode": {
        "name": "ipython",
        "version": 3
      },
      "file_extension": ".py",
      "mimetype": "text/x-python",
      "name": "python",
      "nbconvert_exporter": "python",
      "pygments_lexer": "ipython3",
      "version": "3.9.12"
    }
  },
  "nbformat": 4,
  "nbformat_minor": 0
}