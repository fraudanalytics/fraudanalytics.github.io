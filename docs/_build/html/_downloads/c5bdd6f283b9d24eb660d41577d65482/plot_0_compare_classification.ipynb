{
  "cells": [
    {
      "cell_type": "code",
      "execution_count": null,
      "metadata": {
        "collapsed": false
      },
      "outputs": [],
      "source": [
        "%matplotlib inline"
      ]
    },
    {
      "cell_type": "markdown",
      "metadata": {},
      "source": [
        "\n# Model Comparison: Classification\n"
      ]
    },
    {
      "cell_type": "markdown",
      "metadata": {},
      "source": [
        "Experiment initialization and data preparation\n\n"
      ]
    },
    {
      "cell_type": "code",
      "execution_count": null,
      "metadata": {
        "collapsed": false
      },
      "outputs": [],
      "source": [
        "from piml import Experiment\nfrom piml.models import TreeClassifier\nfrom piml.models import FIGSClassifier\nfrom piml.models import XGB2Classifier\n\nexp = Experiment()\nexp.data_loader(data=\"TaiwanCredit\", silent=True)\nexp.data_summary(feature_exclude=[\"LIMIT_BAL\", \"SEX\", \"EDUCATION\", \"MARRIAGE\", \"AGE\"], silent=True)\nexp.data_prepare(target=\"FlagDefault\", task_type=\"classification\", silent=True)"
      ]
    },
    {
      "cell_type": "markdown",
      "metadata": {},
      "source": [
        "Train Model\n\n"
      ]
    },
    {
      "cell_type": "code",
      "execution_count": null,
      "metadata": {
        "collapsed": false
      },
      "outputs": [],
      "source": [
        "exp.model_train(TreeClassifier(), name=\"Tree\")\nexp.model_train(FIGSClassifier(), name=\"FIGS\")\nexp.model_train(XGB2Classifier(), name=\"XGB2\")"
      ]
    },
    {
      "cell_type": "markdown",
      "metadata": {},
      "source": [
        "Accuracy comparison with ACC\n\n"
      ]
    },
    {
      "cell_type": "code",
      "execution_count": null,
      "metadata": {
        "collapsed": false
      },
      "outputs": [],
      "source": [
        "exp.model_compare(models=[\"Tree\", \"FIGS\", \"XGB2\"], show=\"accuracy_plot\", metric=\"ACC\", figsize=(5, 4))"
      ]
    },
    {
      "cell_type": "markdown",
      "metadata": {},
      "source": [
        "Accuracy comparison with AUC\n\n"
      ]
    },
    {
      "cell_type": "code",
      "execution_count": null,
      "metadata": {
        "collapsed": false
      },
      "outputs": [],
      "source": [
        "exp.model_compare(models=[\"Tree\", \"FIGS\", \"XGB2\"], show=\"accuracy_plot\", metric=\"AUC\", figsize=(5, 4))"
      ]
    },
    {
      "cell_type": "markdown",
      "metadata": {},
      "source": [
        "Accuracy comparison with F1\n\n"
      ]
    },
    {
      "cell_type": "code",
      "execution_count": null,
      "metadata": {
        "collapsed": false
      },
      "outputs": [],
      "source": [
        "exp.model_compare(models=[\"Tree\", \"FIGS\", \"XGB2\"], show=\"accuracy_plot\", metric=\"F1\", figsize=(5, 4))"
      ]
    },
    {
      "cell_type": "markdown",
      "metadata": {},
      "source": [
        "Overfit comparison with ACC metric\n\n"
      ]
    },
    {
      "cell_type": "code",
      "execution_count": null,
      "metadata": {
        "collapsed": false
      },
      "outputs": [],
      "source": [
        "exp.model_compare(models=[\"Tree\", \"FIGS\", \"XGB2\"], show=\"overfit\",\n                  slice_method=\"histogram\", slice_feature=\"PAY_1\", \n                  bins=10, metric=\"ACC\", original_scale=True, figsize=(5, 4))"
      ]
    },
    {
      "cell_type": "markdown",
      "metadata": {},
      "source": [
        "Overfit comparison with AUC metric\n\n"
      ]
    },
    {
      "cell_type": "code",
      "execution_count": null,
      "metadata": {
        "collapsed": false
      },
      "outputs": [],
      "source": [
        "exp.model_compare(models=[\"Tree\", \"FIGS\", \"XGB2\"], show=\"overfit\",\n                  slice_method=\"histogram\", slice_feature=\"PAY_1\", \n                  metric=\"AUC\", original_scale=True, figsize=(5, 4))"
      ]
    },
    {
      "cell_type": "markdown",
      "metadata": {},
      "source": [
        "Reliability bandwidth comparison \n\n"
      ]
    },
    {
      "cell_type": "code",
      "execution_count": null,
      "metadata": {
        "collapsed": false
      },
      "outputs": [],
      "source": [
        "exp.model_compare(models=[\"Tree\", \"FIGS\", \"XGB2\"], show=\"reliability_bandwidth\", figsize=(5, 4))"
      ]
    },
    {
      "cell_type": "markdown",
      "metadata": {},
      "source": [
        "Reliability diagram comparison \n\n"
      ]
    },
    {
      "cell_type": "code",
      "execution_count": null,
      "metadata": {
        "collapsed": false
      },
      "outputs": [],
      "source": [
        "exp.model_compare(models=[\"Tree\", \"FIGS\", \"XGB2\"], show=\"reliability_perf\", bins=10, figsize=(5, 4))"
      ]
    },
    {
      "cell_type": "markdown",
      "metadata": {},
      "source": [
        "Robustness comparison with default settings\n\n"
      ]
    },
    {
      "cell_type": "code",
      "execution_count": null,
      "metadata": {
        "collapsed": false
      },
      "outputs": [],
      "source": [
        "exp.model_compare(models=[\"Tree\", \"FIGS\", \"XGB2\"], show=\"robustness_perf\", figsize=(5, 4))"
      ]
    },
    {
      "cell_type": "markdown",
      "metadata": {},
      "source": [
        "Robustness comparison on worst alpha-percent samples\n\n"
      ]
    },
    {
      "cell_type": "code",
      "execution_count": null,
      "metadata": {
        "collapsed": false
      },
      "outputs": [],
      "source": [
        "exp.model_compare(models=[\"Tree\", \"FIGS\", \"XGB2\"], show=\"robustness_perf_worst\", alpha=0.3, figsize=(5, 4))"
      ]
    },
    {
      "cell_type": "markdown",
      "metadata": {},
      "source": [
        "Resilience comparison with worst-sample scenario\n\n"
      ]
    },
    {
      "cell_type": "code",
      "execution_count": null,
      "metadata": {
        "collapsed": false
      },
      "outputs": [],
      "source": [
        "exp.model_compare(models=[\"Tree\", \"FIGS\", \"XGB2\"], show=\"resilience_perf\",\n                  resilience_method=\"worst-sample\", immu_feature=None, metric=\"AUC\", figsize=(5, 4))"
      ]
    },
    {
      "cell_type": "markdown",
      "metadata": {},
      "source": [
        "Resilience distance comparison with worst-sample scenario\n\n"
      ]
    },
    {
      "cell_type": "code",
      "execution_count": null,
      "metadata": {
        "collapsed": false
      },
      "outputs": [],
      "source": [
        "exp.model_compare(models=[\"Tree\", \"FIGS\", \"XGB2\"], show=\"resilience_distance\",\n                  resilience_method=\"worst-sample\", metric=\"AUC\", alpha=0.3, figsize=(5, 4))"
      ]
    }
  ],
  "metadata": {
    "kernelspec": {
      "display_name": "Python 3",
      "language": "python",
      "name": "python3"
    },
    "language_info": {
      "codemirror_mode": {
        "name": "ipython",
        "version": 3
      },
      "file_extension": ".py",
      "mimetype": "text/x-python",
      "name": "python",
      "nbconvert_exporter": "python",
      "pygments_lexer": "ipython3",
      "version": "3.9.12"
    }
  },
  "nbformat": 4,
  "nbformat_minor": 0
}