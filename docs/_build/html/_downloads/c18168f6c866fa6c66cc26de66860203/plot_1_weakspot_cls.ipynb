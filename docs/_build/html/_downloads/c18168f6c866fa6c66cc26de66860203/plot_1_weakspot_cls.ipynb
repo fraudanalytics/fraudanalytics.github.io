{
  "cells": [
    {
      "cell_type": "code",
      "execution_count": null,
      "metadata": {
        "collapsed": false
      },
      "outputs": [],
      "source": [
        "%matplotlib inline"
      ]
    },
    {
      "cell_type": "markdown",
      "metadata": {},
      "source": [
        "\n# WeakSpot: Classification    \n"
      ]
    },
    {
      "cell_type": "markdown",
      "metadata": {},
      "source": [
        "Experiment initialization and data preparation\n\n"
      ]
    },
    {
      "cell_type": "code",
      "execution_count": null,
      "metadata": {
        "collapsed": false
      },
      "outputs": [],
      "source": [
        "from piml import Experiment\nfrom piml.models import XGB2Classifier\n\nexp = Experiment()\nexp.data_loader(data=\"TaiwanCredit\", silent=True)\nexp.data_summary(feature_exclude=[\"LIMIT_BAL\", \"SEX\", \"EDUCATION\", \"MARRIAGE\", \"AGE\"], silent=True)\nexp.data_prepare(target=\"FlagDefault\", task_type=\"classification\", silent=True)"
      ]
    },
    {
      "cell_type": "markdown",
      "metadata": {},
      "source": [
        "Train Model\n\n"
      ]
    },
    {
      "cell_type": "code",
      "execution_count": null,
      "metadata": {
        "collapsed": false
      },
      "outputs": [],
      "source": [
        "exp.model_train(XGB2Classifier(), name=\"XGB2\")"
      ]
    },
    {
      "cell_type": "markdown",
      "metadata": {},
      "source": [
        "Histogram-based weakspot for a single feature\n\n"
      ]
    },
    {
      "cell_type": "code",
      "execution_count": null,
      "metadata": {
        "collapsed": false
      },
      "outputs": [],
      "source": [
        "results = exp.model_diagnose(model=\"XGB2\", show=\"weakspot\", slice_method=\"histogram\", \n                             slice_features=[\"PAY_1\"], threshold=1.1, min_samples=100,\n                             return_data=True, figsize=(5, 4))\nresults.data"
      ]
    },
    {
      "cell_type": "markdown",
      "metadata": {},
      "source": [
        "Histogram-based weakspot for two features\n\n"
      ]
    },
    {
      "cell_type": "code",
      "execution_count": null,
      "metadata": {
        "collapsed": false
      },
      "outputs": [],
      "source": [
        "results = exp.model_diagnose(model=\"XGB2\", show=\"weakspot\", slice_method=\"histogram\", \n                             slice_features=[\"PAY_1\", \"PAY_2\"], threshold=1.1, min_samples=100,\n                             return_data=True, figsize=(5, 4))\nresults.data"
      ]
    },
    {
      "cell_type": "markdown",
      "metadata": {},
      "source": [
        "Histogram-based weakspot for a single feature on test set\n\n"
      ]
    },
    {
      "cell_type": "code",
      "execution_count": null,
      "metadata": {
        "collapsed": false
      },
      "outputs": [],
      "source": [
        "results = exp.model_diagnose(model=\"XGB2\", show=\"weakspot\", slice_method=\"histogram\", \n                             slice_features=[\"PAY_1\"], threshold=1.1, min_samples=100,\n                             use_test=True, return_data=True, figsize=(5, 4))\nresults.data"
      ]
    },
    {
      "cell_type": "markdown",
      "metadata": {},
      "source": [
        "Histogram-based weakspot for a single feature using AUC metric\n\n"
      ]
    },
    {
      "cell_type": "code",
      "execution_count": null,
      "metadata": {
        "collapsed": false
      },
      "outputs": [],
      "source": [
        "results = exp.model_diagnose(model=\"XGB2\", show=\"weakspot\", slice_method=\"histogram\", \n                             slice_features=[\"PAY_1\"], threshold=1.1, min_samples=100,\n                             metric=\"AUC\", return_data=True, figsize=(5, 4))\nresults.data"
      ]
    },
    {
      "cell_type": "markdown",
      "metadata": {},
      "source": [
        "Tree-based weakspot for a single feature using ACC metric\n\n"
      ]
    },
    {
      "cell_type": "code",
      "execution_count": null,
      "metadata": {
        "collapsed": false
      },
      "outputs": [],
      "source": [
        "results = exp.model_diagnose(model=\"XGB2\", show=\"weakspot\", slice_method=\"tree\", \n                             slice_features=[\"PAY_1\"], threshold=1.1, min_samples=100,\n                             metric=\"ACC\", return_data=True, figsize=(5, 4))\nresults.data"
      ]
    }
  ],
  "metadata": {
    "kernelspec": {
      "display_name": "Python 3",
      "language": "python",
      "name": "python3"
    },
    "language_info": {
      "codemirror_mode": {
        "name": "ipython",
        "version": 3
      },
      "file_extension": ".py",
      "mimetype": "text/x-python",
      "name": "python",
      "nbconvert_exporter": "python",
      "pygments_lexer": "ipython3",
      "version": "3.9.12"
    }
  },
  "nbformat": 4,
  "nbformat_minor": 0
}