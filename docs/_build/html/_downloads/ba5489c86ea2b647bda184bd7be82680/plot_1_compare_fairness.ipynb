{
  "cells": [
    {
      "cell_type": "code",
      "execution_count": null,
      "metadata": {
        "collapsed": false
      },
      "outputs": [],
      "source": [
        "%matplotlib inline"
      ]
    },
    {
      "cell_type": "markdown",
      "metadata": {},
      "source": [
        "\n# Fairness Comparison\n"
      ]
    },
    {
      "cell_type": "markdown",
      "metadata": {},
      "source": [
        "Experiment initialization and data preparation\n\n"
      ]
    },
    {
      "cell_type": "code",
      "execution_count": null,
      "metadata": {
        "collapsed": false
      },
      "outputs": [],
      "source": [
        "from piml import Experiment\nfrom piml.models import GLMClassifier, ExplainableBoostingClassifier\n\nexp = Experiment()\nexp.data_loader(\"SimuCredit\", silent=True)\nexp.data_summary(feature_exclude=[\"Race\", \"Gender\"], silent=True)\nexp.data_prepare(target=\"Approved\", task_type=\"classification\", silent=True)"
      ]
    },
    {
      "cell_type": "markdown",
      "metadata": {},
      "source": [
        "Train Model\n\n"
      ]
    },
    {
      "cell_type": "code",
      "execution_count": null,
      "metadata": {
        "collapsed": false
      },
      "outputs": [],
      "source": [
        "exp.model_train(GLMClassifier(), name=\"GLM\")\nexp.model_train(ExplainableBoostingClassifier(), name=\"EBM\")"
      ]
    },
    {
      "cell_type": "markdown",
      "metadata": {},
      "source": [
        "Fairness Metric\n\n"
      ]
    },
    {
      "cell_type": "code",
      "execution_count": null,
      "metadata": {
        "collapsed": false
      },
      "outputs": [],
      "source": [
        "metrics_result = exp.model_fairness_compare(models=[\"GLM\", \"EBM\"],\n                                            show=\"metrics\",\n                                            metric=\"AIR\",\n                                            group_category=[\"Race\", \"Gender\"],\n                                            reference_group=[1., 1.],\n                                            protected_group=[0., 0.],\n                                            favorable_threshold=0.5,\n                                            return_data=True,\n                                            figsize=(6, 4))\nmetrics_result.data"
      ]
    },
    {
      "cell_type": "markdown",
      "metadata": {},
      "source": [
        "Fairness Segmented\n\n"
      ]
    },
    {
      "cell_type": "code",
      "execution_count": null,
      "metadata": {
        "collapsed": false
      },
      "outputs": [],
      "source": [
        "segmented_result = exp.model_fairness_compare(models=[\"GLM\", \"EBM\"],\n                                              show=\"segmented\",\n                                              metric=\"AIR\",\n                                              segment_feature=\"Balance\",\n                                              group_category=[\"Race\", \"Gender\"],\n                                              reference_group=[1., 1.],\n                                              protected_group=[0., 0.],\n                                              favorable_threshold=0.5,\n                                              segment_bins=5,\n                                              return_data=True,\n                                              figsize=(8, 4))\nsegmented_result.data"
      ]
    }
  ],
  "metadata": {
    "kernelspec": {
      "display_name": "Python 3",
      "language": "python",
      "name": "python3"
    },
    "language_info": {
      "codemirror_mode": {
        "name": "ipython",
        "version": 3
      },
      "file_extension": ".py",
      "mimetype": "text/x-python",
      "name": "python",
      "nbconvert_exporter": "python",
      "pygments_lexer": "ipython3",
      "version": "3.9.12"
    }
  },
  "nbformat": 4,
  "nbformat_minor": 0
}