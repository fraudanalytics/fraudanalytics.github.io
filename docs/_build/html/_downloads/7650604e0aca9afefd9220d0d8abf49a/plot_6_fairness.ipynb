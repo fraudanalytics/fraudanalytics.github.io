{
  "cells": [
    {
      "cell_type": "code",
      "execution_count": null,
      "metadata": {
        "collapsed": false
      },
      "outputs": [],
      "source": [
        "%matplotlib inline"
      ]
    },
    {
      "cell_type": "markdown",
      "metadata": {},
      "source": [
        "\n# Fairness Test: XGB2\n"
      ]
    },
    {
      "cell_type": "markdown",
      "metadata": {},
      "source": [
        "Experiment initialization and data preparation\n\n"
      ]
    },
    {
      "cell_type": "code",
      "execution_count": null,
      "metadata": {
        "collapsed": false
      },
      "outputs": [],
      "source": [
        "from piml import Experiment\nfrom piml.models import XGB2Classifier\n\nexp = Experiment()\nexp.data_loader(\"SimuCredit\", silent=True)\nexp.data_summary(feature_exclude=[\"Race\", \"Gender\"], silent=True)\nexp.data_prepare(target=\"Approved\", task_type=\"classification\", silent=True)"
      ]
    },
    {
      "cell_type": "markdown",
      "metadata": {},
      "source": [
        "Train Model\n\n"
      ]
    },
    {
      "cell_type": "code",
      "execution_count": null,
      "metadata": {
        "collapsed": false
      },
      "outputs": [],
      "source": [
        "exp.model_train(XGB2Classifier(max_depth=2,\n                               n_estimators=100, \n                               mono_increasing_list=[\"Mortgage\", \"Balance\"],\n                               mono_decreasing_list=[\"Amount Past Due\", \"Utilization\", \"Delinquency\",\n                                                     \"Credit Inquiry\", \"Open Trade\"]),\n                name=\"XGB2_monotonic\")"
      ]
    },
    {
      "cell_type": "markdown",
      "metadata": {},
      "source": [
        "Fairness Metric\n\n"
      ]
    },
    {
      "cell_type": "code",
      "execution_count": null,
      "metadata": {
        "collapsed": false
      },
      "outputs": [],
      "source": [
        "metrics_result = exp.model_fairness(model=\"XGB2_monotonic\",\n                                    show=\"metrics\",\n                                    metric=\"AIR\",\n                                    group_category=[\"Race\", \"Gender\"],\n                                    reference_group=[1., 1.],\n                                    protected_group=[0., 0.],\n                                    favorable_threshold=0.5,\n                                    performance_metric=\"ACC\",\n                                    return_data=True,\n                                    figsize=(5, 4))\nmetrics_result.data"
      ]
    },
    {
      "cell_type": "markdown",
      "metadata": {},
      "source": [
        "Fairness Segmented\n\n"
      ]
    },
    {
      "cell_type": "code",
      "execution_count": null,
      "metadata": {
        "collapsed": false
      },
      "outputs": [],
      "source": [
        "segmented_result = exp.model_fairness(model=\"XGB2_monotonic\",\n                                      show=\"segmented\",\n                                      metric=\"AIR\",\n                                      segment_feature=\"Balance\",\n                                      group_category=[\"Race\", \"Gender\"],\n                                      reference_group=[1., 1.],\n                                      protected_group=[0., 0.],\n                                      favorable_threshold=0.5,\n                                      segment_bins=5,\n                                      return_data=True,\n                                      figsize=(10, 4))\nsegmented_result.data"
      ]
    },
    {
      "cell_type": "markdown",
      "metadata": {},
      "source": [
        "Fairness Binning\n\n"
      ]
    },
    {
      "cell_type": "code",
      "execution_count": null,
      "metadata": {
        "collapsed": false
      },
      "outputs": [],
      "source": [
        "binning_result = exp.model_fairness(model=\"XGB2_monotonic\", show=\"binning\",\n                                    metric=\"AIR\",\n                                    group_category=[\"Race\", \"Gender\"],\n                                    reference_group=[1., 1.],\n                                    protected_group=[0., 0.],\n                                    favorable_threshold=0.5,\n                                    performance_metric=\"F1\",\n                                    binning_dict={\"Balance\": {\"type\": \"quantile\", \"value\": [1, 5]},\n                                                  \"Mortgage\": {\"type\": \"uniform\", \"value\": [1, 5]},\n                                                  \"Amount Past Due\": {\"type\": \"custom\", \"value\": (0, 100)}},\n                                    return_data=True,\n                                    figsize=(10, 4))\nbinning_result.data"
      ]
    },
    {
      "cell_type": "markdown",
      "metadata": {},
      "source": [
        "Fairness Thresholding\n\n"
      ]
    },
    {
      "cell_type": "code",
      "execution_count": null,
      "metadata": {
        "collapsed": false
      },
      "outputs": [],
      "source": [
        "thresholding_result = exp.model_fairness(model=\"XGB2_monotonic\",\n                                         show=\"thresholding\",\n                                         metric=\"AIR\", \n                                         group_category=[\"Race\", \"Gender\"],\n                                         reference_group=[1., 1.],\n                                         protected_group=[0., 0.],\n                                         favorable_threshold=0.32,\n                                         performance_metric=\"ACC\",\n                                         return_data=True,\n                                         figsize=(10, 4))\nthresholding_result.data"
      ]
    }
  ],
  "metadata": {
    "kernelspec": {
      "display_name": "Python 3",
      "language": "python",
      "name": "python3"
    },
    "language_info": {
      "codemirror_mode": {
        "name": "ipython",
        "version": 3
      },
      "file_extension": ".py",
      "mimetype": "text/x-python",
      "name": "python",
      "nbconvert_exporter": "python",
      "pygments_lexer": "ipython3",
      "version": "3.9.12"
    }
  },
  "nbformat": 4,
  "nbformat_minor": 0
}