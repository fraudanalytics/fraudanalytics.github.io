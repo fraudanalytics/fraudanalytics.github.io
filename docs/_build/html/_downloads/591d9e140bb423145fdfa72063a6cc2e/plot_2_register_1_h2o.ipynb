{
  "cells": [
    {
      "cell_type": "code",
      "execution_count": null,
      "metadata": {
        "collapsed": false
      },
      "outputs": [],
      "source": [
        "%matplotlib inline"
      ]
    },
    {
      "cell_type": "markdown",
      "metadata": {},
      "source": [
        "\n# Register H2O Models\nAssume we have fitted a H2O model outside PiML workflow\n"
      ]
    },
    {
      "cell_type": "markdown",
      "metadata": {},
      "source": [
        "For demonstration, we fit a model using H2O\n\n"
      ]
    },
    {
      "cell_type": "code",
      "execution_count": null,
      "metadata": {
        "collapsed": false
      },
      "outputs": [],
      "source": [
        "import h2o\nh2o.no_progress()\nh2o.init(verbose=False)\n\nimport numpy as np\nimport pandas as pd\nfrom sklearn.datasets import fetch_california_housing\nfrom h2o.estimators import H2OGradientBoostingEstimator\n\ndata = fetch_california_housing()\nfeature_names = data.feature_names\ntarget_name = data.target_names[0]\n\nh2o_data = h2o.H2OFrame(pd.DataFrame(np.hstack([data.data, data.target.reshape(-1, 1)]),\n                                     columns=feature_names + [target_name])\n                       )\nh2o_data_train, h2o_data_test = h2o_data.split_frame(ratios=[0.8], seed=2023)\n\ngbm_model = H2OGradientBoostingEstimator()\ngbm_model.train(feature_names, target_name, training_frame=h2o_data_train)\n\n# Save the model to file system\nmojo_file_path = gbm_model.save_mojo(path=\"./\")"
      ]
    },
    {
      "cell_type": "markdown",
      "metadata": {},
      "source": [
        "Then, we can test this model using PiML\n\n"
      ]
    },
    {
      "cell_type": "code",
      "execution_count": null,
      "metadata": {
        "collapsed": false
      },
      "outputs": [],
      "source": [
        "from piml import Experiment\nexp = Experiment(highcode_only=True)"
      ]
    },
    {
      "cell_type": "markdown",
      "metadata": {},
      "source": [
        "Load the MOJO model into memory and register it into PiML\n\n"
      ]
    },
    {
      "cell_type": "code",
      "execution_count": null,
      "metadata": {
        "collapsed": false
      },
      "outputs": [],
      "source": [
        "imported_model = h2o.import_mojo(mojo_file_path)\n\npipeline = exp.make_pipeline(model=imported_model,\n                             task_type=\"regression\",\n                             train_x=h2o_data_train[feature_names].as_data_frame().values,\n                             train_y=h2o_data_train[target_name].as_data_frame().values.ravel(),\n                             test_x=h2o_data_test[feature_names].as_data_frame().values,\n                             test_y=h2o_data_test[target_name].as_data_frame().values.ravel(),\n                             feature_names=feature_names,\n                             target_name=target_name)\nexp.register(pipeline, \"H2O-GBM\")"
      ]
    },
    {
      "cell_type": "markdown",
      "metadata": {},
      "source": [
        "Check model performance\n\n"
      ]
    },
    {
      "cell_type": "code",
      "execution_count": null,
      "metadata": {
        "collapsed": false
      },
      "outputs": [],
      "source": [
        "exp.model_diagnose(model=\"H2O-GBM\", show=\"accuracy_table\")"
      ]
    },
    {
      "cell_type": "markdown",
      "metadata": {},
      "source": [
        "Explain using post-hoc explanation tools \n\n"
      ]
    },
    {
      "cell_type": "code",
      "execution_count": null,
      "metadata": {
        "collapsed": false
      },
      "outputs": [],
      "source": [
        "exp.model_explain(model=\"H2O-GBM\", show=\"pfi\", figsize=(5, 4))"
      ]
    },
    {
      "cell_type": "markdown",
      "metadata": {},
      "source": [
        "Run validataion tests\n\n"
      ]
    },
    {
      "cell_type": "code",
      "execution_count": null,
      "metadata": {
        "collapsed": false
      },
      "outputs": [],
      "source": [
        "exp.model_diagnose(model=\"H2O-GBM\", show=\"weakspot\", slice_features=[\"MedInc\"], figsize=(5, 4))"
      ]
    }
  ],
  "metadata": {
    "kernelspec": {
      "display_name": "Python 3",
      "language": "python",
      "name": "python3"
    },
    "language_info": {
      "codemirror_mode": {
        "name": "ipython",
        "version": 3
      },
      "file_extension": ".py",
      "mimetype": "text/x-python",
      "name": "python",
      "nbconvert_exporter": "python",
      "pygments_lexer": "ipython3",
      "version": "3.9.12"
    }
  },
  "nbformat": 4,
  "nbformat_minor": 0
}