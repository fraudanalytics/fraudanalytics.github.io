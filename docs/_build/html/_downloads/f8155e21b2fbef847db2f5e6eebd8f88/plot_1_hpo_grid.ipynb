{
  "cells": [
    {
      "cell_type": "code",
      "execution_count": null,
      "metadata": {
        "collapsed": false
      },
      "outputs": [],
      "source": [
        "%matplotlib inline"
      ]
    },
    {
      "cell_type": "markdown",
      "metadata": {},
      "source": [
        "\n# HPO - Grid Search\n"
      ]
    },
    {
      "cell_type": "markdown",
      "metadata": {},
      "source": [
        "Experiment initialization and data preparation\n\n"
      ]
    },
    {
      "cell_type": "code",
      "execution_count": null,
      "metadata": {
        "collapsed": false
      },
      "outputs": [],
      "source": [
        "from piml import Experiment\nfrom piml.models import XGB2Regressor\n\nexp = Experiment()\nexp.data_loader(data=\"BikeSharing\", silent=True)\nexp.data_summary(feature_exclude=[\"yr\", \"mnth\", \"temp\"], silent=True)\nexp.data_prepare(target=\"cnt\", task_type=\"regression\", silent=True)"
      ]
    },
    {
      "cell_type": "markdown",
      "metadata": {},
      "source": [
        "Train Model\n\n"
      ]
    },
    {
      "cell_type": "code",
      "execution_count": null,
      "metadata": {
        "collapsed": false
      },
      "outputs": [],
      "source": [
        "exp.model_train(model=XGB2Regressor(), name=\"XGB2\")"
      ]
    },
    {
      "cell_type": "markdown",
      "metadata": {},
      "source": [
        "Define hyperparameter search space for grid search\n\n"
      ]
    },
    {
      "cell_type": "code",
      "execution_count": null,
      "metadata": {
        "collapsed": false
      },
      "outputs": [],
      "source": [
        "parameters = {'n_estimators': [100, 300, 500],\n              'eta': [0.1, 0.3, 0.5],\n              'reg_lambda': [0.0, 0.5, 1.0],\n              'reg_alpha': [0.0, 0.5, 1.0]\n             }"
      ]
    },
    {
      "cell_type": "markdown",
      "metadata": {},
      "source": [
        "Tune hyperparameters of registered models\n\n"
      ]
    },
    {
      "cell_type": "code",
      "execution_count": null,
      "metadata": {
        "collapsed": false
      },
      "outputs": [],
      "source": [
        "result = exp.model_tune(\"XGB2\", method=\"grid\", parameters=parameters, metric=['MSE', 'MAE'], test_ratio=0.2)\nresult.data"
      ]
    },
    {
      "cell_type": "markdown",
      "metadata": {},
      "source": [
        "Show hyperparameter result plot\n\n"
      ]
    },
    {
      "cell_type": "code",
      "execution_count": null,
      "metadata": {
        "collapsed": false
      },
      "outputs": [],
      "source": [
        "fig = result.plot(param='n_estimators', figsize=(6, 4.5))"
      ]
    },
    {
      "cell_type": "markdown",
      "metadata": {},
      "source": [
        "Refit model using a selected hyperparameter\n\n"
      ]
    },
    {
      "cell_type": "code",
      "execution_count": null,
      "metadata": {
        "collapsed": false
      },
      "outputs": [],
      "source": [
        "params = result.get_params_ranks(rank=1)\nexp.model_train(XGB2Regressor(**params), name=\"XGB2-HPO-GridSearch\")"
      ]
    },
    {
      "cell_type": "markdown",
      "metadata": {},
      "source": [
        "Compare the default model and HPO refitted model\n\n"
      ]
    },
    {
      "cell_type": "code",
      "execution_count": null,
      "metadata": {
        "collapsed": false
      },
      "outputs": [],
      "source": [
        "exp.model_diagnose(\"XGB2\", show=\"accuracy_table\")"
      ]
    },
    {
      "cell_type": "markdown",
      "metadata": {},
      "source": [
        "Compare the default model and HPO refitted model\n\n"
      ]
    },
    {
      "cell_type": "code",
      "execution_count": null,
      "metadata": {
        "collapsed": false
      },
      "outputs": [],
      "source": [
        "exp.model_diagnose(\"XGB2-HPO-GridSearch\", show=\"accuracy_table\")"
      ]
    }
  ],
  "metadata": {
    "kernelspec": {
      "display_name": "Python 3",
      "language": "python",
      "name": "python3"
    },
    "language_info": {
      "codemirror_mode": {
        "name": "ipython",
        "version": 3
      },
      "file_extension": ".py",
      "mimetype": "text/x-python",
      "name": "python",
      "nbconvert_exporter": "python",
      "pygments_lexer": "ipython3",
      "version": "3.9.12"
    }
  },
  "nbformat": 4,
  "nbformat_minor": 0
}