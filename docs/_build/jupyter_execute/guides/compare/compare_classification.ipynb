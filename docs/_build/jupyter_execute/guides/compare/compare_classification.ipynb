{
 "cells": [
  {
   "cell_type": "code",
   "execution_count": null,
   "id": "75da9fa3",
   "metadata": {},
   "outputs": [],
   "source": [
    "exp.model_compare(models=[\"Tree\", \"FIGS\", \"XGB2\"], show=\"accuracy_plot\", metric=\"ACC\")"
   ]
  },
  {
   "cell_type": "code",
   "execution_count": null,
   "id": "005f99ee",
   "metadata": {},
   "outputs": [],
   "source": [
    "exp.model_compare(models=[\"Tree\", \"FIGS\", \"XGB2\"], show=\"accuracy_plot\", metric=\"AUC\")"
   ]
  },
  {
   "cell_type": "code",
   "execution_count": null,
   "id": "6301d909",
   "metadata": {},
   "outputs": [],
   "source": [
    "exp.model_compare(models=[\"Tree\", \"FIGS\", \"XGB2\"], show=\"accuracy_plot\", metric=\"F1\")"
   ]
  },
  {
   "cell_type": "code",
   "execution_count": null,
   "id": "ad342dd9",
   "metadata": {},
   "outputs": [],
   "source": [
    "exp.model_compare(models=[\"Tree\", \"FIGS\", \"XGB2\"], show=\"overfit\",\n",
    "                  slice_method=\"histogram\", slice_feature=\"PAY_1\",\n",
    "                  bins=10, metric=\"ACC\", figsize=(5, 4))"
   ]
  },
  {
   "cell_type": "code",
   "execution_count": null,
   "id": "300f744a",
   "metadata": {},
   "outputs": [],
   "source": [
    "exp.model_compare(models=[\"Tree\", \"FIGS\", \"XGB2\"], show=\"overfit\",\n",
    "                  slice_method=\"histogram\", slice_feature=\"PAY_1\",\n",
    "                  metric=\"AUC\", original_scale=True, figsize=(5, 4))"
   ]
  },
  {
   "cell_type": "code",
   "execution_count": null,
   "id": "eff0afa2",
   "metadata": {},
   "outputs": [],
   "source": [
    "exp.model_compare(models=[\"Tree\", \"FIGS\", \"XGB2\"], show=\"reliability_bandwidth\", figsize=(5, 4))"
   ]
  },
  {
   "cell_type": "code",
   "execution_count": null,
   "id": "1ba9b5de",
   "metadata": {},
   "outputs": [],
   "source": [
    "exp.model_compare(models=[\"Tree\", \"FIGS\", \"XGB2\"], show=\"reliability_perf\",\n",
    "                  bins=10, figsize=(5, 4))"
   ]
  },
  {
   "cell_type": "code",
   "execution_count": null,
   "id": "d79f2cf3",
   "metadata": {},
   "outputs": [],
   "source": [
    "exp.model_compare(models=[\"Tree\", \"FIGS\", \"XGB2\"], show=\"robustness_perf\",\n",
    "                  figsize=(5, 4))"
   ]
  },
  {
   "cell_type": "code",
   "execution_count": null,
   "id": "81641409",
   "metadata": {},
   "outputs": [],
   "source": [
    "exp.model_compare(models=[\"Tree\", \"FIGS\", \"XGB2\"], show=\"robustness_perf_worst\",\n",
    "                  alpha=0.3, figsize=(5, 4))"
   ]
  },
  {
   "cell_type": "code",
   "execution_count": null,
   "id": "91b76b26",
   "metadata": {},
   "outputs": [],
   "source": [
    "exp.model_compare(models=[\"Tree\", \"FIGS\", \"XGB2\"], show=\"resilience_perf\",\n",
    "                  resilience_method=\"worst-sample\", immu_feature=None, metric=\"AUC\", figsize=(5, 4))"
   ]
  },
  {
   "cell_type": "code",
   "execution_count": null,
   "id": "9eb3092e",
   "metadata": {},
   "outputs": [],
   "source": [
    "exp.model_compare(models=[\"Tree\", \"FIGS\", \"XGB2\"], show=\"resilience_distance\",\n",
    "                  resilience_method=\"worst-sample\", metric=\"AUC\", alpha=0.3, figsize=(5, 4))"
   ]
  }
 ],
 "metadata": {
  "kernelspec": {
   "display_name": "Python 3",
   "language": "python",
   "name": "python3"
  },
  "language_info": {
   "codemirror_mode": {
    "name": "ipython",
    "version": 3
   },
   "file_extension": ".py",
   "mimetype": "text/x-python",
   "name": "python",
   "nbconvert_exporter": "python",
   "pygments_lexer": "ipython3",
   "version": "3.9.12"
  }
 },
 "nbformat": 4,
 "nbformat_minor": 5
}