{
 "cells": [
  {
   "cell_type": "code",
   "execution_count": null,
   "id": "6cf4f8cd",
   "metadata": {},
   "outputs": [],
   "source": [
    "metrics_result = exp.model_fairness_compare(models=[\"GLM\", \"EBM\"], show=\"metrics\", metric=\"AIR\",\n",
    "                                            group_category=[\"Race\", \"Gender\"],\n",
    "                                            reference_group=[1., 1.], protected_group=[0., 0.],\n",
    "                                            favorable_threshold=0.5,\n",
    "                                            figsize=(6, 4), return_data=True)"
   ]
  },
  {
   "cell_type": "code",
   "execution_count": null,
   "id": "9d984396",
   "metadata": {},
   "outputs": [],
   "source": [
    "segmented_result = exp.model_fairness_compare(models=[\"GLM\", \"EBM\"], show=\"segmented\", metric=\"AIR\",\n",
    "                                              segment_feature=\"Balance\",\n",
    "                                              group_category=[\"Race\", \"Gender\"],\n",
    "                                              reference_group=[1., 1.], protected_group=[0., 0.],\n",
    "                                              segment_bins=5, favorable_threshold=0.5,\n",
    "                                              return_data=True, figsize=(8, 4))"
   ]
  }
 ],
 "metadata": {
  "kernelspec": {
   "display_name": "Python 3",
   "language": "python",
   "name": "python3"
  },
  "language_info": {
   "codemirror_mode": {
    "name": "ipython",
    "version": 3
   },
   "file_extension": ".py",
   "mimetype": "text/x-python",
   "name": "python",
   "nbconvert_exporter": "python",
   "pygments_lexer": "ipython3",
   "version": "3.9.12"
  }
 },
 "nbformat": 4,
 "nbformat_minor": 5
}