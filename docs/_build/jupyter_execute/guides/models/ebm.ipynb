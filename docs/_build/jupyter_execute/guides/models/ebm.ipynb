{
 "cells": [
  {
   "cell_type": "code",
   "execution_count": null,
   "id": "3497cc9a",
   "metadata": {},
   "outputs": [],
   "source": [
    "from piml.models import ExplainableBoostingRegressor\n",
    "exp.model_train(model=ExplainableBoostingRegressor(interactions=10), name=\"EBM\")"
   ]
  },
  {
   "cell_type": "code",
   "execution_count": null,
   "id": "1c615351",
   "metadata": {},
   "outputs": [],
   "source": [
    "exp.model_interpret(model=\"EBM\", show=\"global_effect_plot\", uni_feature=\"hr\",\n",
    "                    original_scale=True, figsize=(5, 4))"
   ]
  },
  {
   "cell_type": "code",
   "execution_count": null,
   "id": "8c2c235a",
   "metadata": {},
   "outputs": [],
   "source": [
    "exp.model_interpret(model=\"EBM\", show=\"global_effect_plot\", bi_features=[\"hr\", \"season\"],\n",
    "                    original_scale=True, figsize=(5, 4))"
   ]
  },
  {
   "cell_type": "code",
   "execution_count": null,
   "id": "5a1fa47b",
   "metadata": {},
   "outputs": [],
   "source": [
    "exp.model_interpret(model=\"EBM\", show=\"global_ei\", figsize=(5, 4))"
   ]
  },
  {
   "cell_type": "code",
   "execution_count": null,
   "id": "21cb60f4",
   "metadata": {},
   "outputs": [],
   "source": [
    "exp.model_interpret(model=\"EBM\", show=\"global_fi\", figsize=(5, 4))"
   ]
  },
  {
   "cell_type": "code",
   "execution_count": null,
   "id": "1a1a4f87",
   "metadata": {},
   "outputs": [],
   "source": [
    "exp.model_interpret(model=\"EBM\", show=\"local_ei\", sample_id=0, original_scale=True, figsize=(5, 4))"
   ]
  },
  {
   "cell_type": "code",
   "execution_count": null,
   "id": "8353cf25",
   "metadata": {},
   "outputs": [],
   "source": [
    "exp.model_interpret(model=\"EBM\", show=\"local_fi\", sample_id=0, original_scale=True, figsize=(5, 4))"
   ]
  }
 ],
 "metadata": {
  "kernelspec": {
   "display_name": "Python 3",
   "language": "python",
   "name": "python3"
  },
  "language_info": {
   "codemirror_mode": {
    "name": "ipython",
    "version": 3
   },
   "file_extension": ".py",
   "mimetype": "text/x-python",
   "name": "python",
   "nbconvert_exporter": "python",
   "pygments_lexer": "ipython3",
   "version": "3.9.12"
  }
 },
 "nbformat": 4,
 "nbformat_minor": 5
}