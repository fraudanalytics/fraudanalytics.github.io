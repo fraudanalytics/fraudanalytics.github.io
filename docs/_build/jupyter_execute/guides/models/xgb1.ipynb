{
 "cells": [
  {
   "cell_type": "code",
   "execution_count": null,
   "id": "3d48802c",
   "metadata": {},
   "outputs": [],
   "source": [
    "from piml.models import XGB1Regressor\n",
    "exp.model_train(model=XGB1Regressor(n_estimators=100, max_bin=20, min_bin_size=0.01), name=\"XGB1\")"
   ]
  },
  {
   "cell_type": "code",
   "execution_count": null,
   "id": "49356849",
   "metadata": {},
   "outputs": [],
   "source": [
    "exp.model_interpret(model=\"XGB1\", show=\"global_effect_plot\", uni_feature=\"MedInc\",\n",
    "                    original_scale=True, figsize=(5, 4))"
   ]
  },
  {
   "cell_type": "code",
   "execution_count": null,
   "id": "c51ce9b1",
   "metadata": {},
   "outputs": [],
   "source": [
    "exp.model_interpret(model=\"XGB1\", show=\"global_fi\", figsize=(5, 4))"
   ]
  },
  {
   "cell_type": "code",
   "execution_count": null,
   "id": "0d5c3db3",
   "metadata": {},
   "outputs": [],
   "source": [
    "exp.model_interpret(model=\"XGB1\", show=\"xgb1_woe\", uni_feature=\"MedInc\",\n",
    "                   original_scale=True, figsize=(5, 4))"
   ]
  },
  {
   "cell_type": "code",
   "execution_count": null,
   "id": "d7eabd49",
   "metadata": {},
   "outputs": [],
   "source": [
    "exp.model_interpret(model=\"XGB1\", show=\"xgb1_iv\", figsize=(5, 4))"
   ]
  },
  {
   "cell_type": "code",
   "execution_count": null,
   "id": "9bcb06fd",
   "metadata": {},
   "outputs": [],
   "source": [
    "exp.model_interpret(model=\"XGB1\", show=\"local_fi\", sample_id=0, original_scale=True, figsize=(5, 4))"
   ]
  }
 ],
 "metadata": {
  "kernelspec": {
   "display_name": "Python 3",
   "language": "python",
   "name": "python3"
  },
  "language_info": {
   "codemirror_mode": {
    "name": "ipython",
    "version": 3
   },
   "file_extension": ".py",
   "mimetype": "text/x-python",
   "name": "python",
   "nbconvert_exporter": "python",
   "pygments_lexer": "ipython3",
   "version": "3.9.12"
  }
 },
 "nbformat": 4,
 "nbformat_minor": 5
}