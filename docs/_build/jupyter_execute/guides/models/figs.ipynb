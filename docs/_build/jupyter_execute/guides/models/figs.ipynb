{
 "cells": [
  {
   "cell_type": "code",
   "execution_count": null,
   "id": "cc4edf76",
   "metadata": {},
   "outputs": [],
   "source": [
    "from piml.models import FIGSRegressor\n",
    "exp.model_train(model=FIGSRegressor(max_iter=100, max_depth=4), name=\"FIGS\")"
   ]
  },
  {
   "cell_type": "code",
   "execution_count": null,
   "id": "612fa5ff",
   "metadata": {},
   "outputs": [],
   "source": [
    "exp.model_interpret(model=\"FIGS\", show=\"figs_heatmap\", tree_idx=0, figsize=(12, 4))"
   ]
  },
  {
   "cell_type": "code",
   "execution_count": null,
   "id": "781d55aa",
   "metadata": {},
   "outputs": [],
   "source": [
    "exp.model_interpret(model=\"FIGS\", show=\"tree_global\", tree_idx=0, root=0,\n",
    "                    depth=3, original_scale=True, figsize=(16, 10))"
   ]
  },
  {
   "cell_type": "code",
   "execution_count": null,
   "id": "4009884d",
   "metadata": {},
   "outputs": [],
   "source": [
    "exp.model_interpret(model=\"FIGS\", show=\"tree_global\", tree_idx=1, root=0,\n",
    "                    depth=3, original_scale=True, figsize=(16, 10))"
   ]
  },
  {
   "cell_type": "code",
   "execution_count": null,
   "id": "bed0f92a",
   "metadata": {},
   "outputs": [],
   "source": [
    "exp.model_interpret(model=\"FIGS\", show=\"tree_local\", sample_id=0, tree_idx=0,\n",
    "                    original_scale=True, figsize=(16, 10))"
   ]
  },
  {
   "cell_type": "code",
   "execution_count": null,
   "id": "28e0d91f",
   "metadata": {},
   "outputs": [],
   "source": [
    "exp.model_interpret(model=\"FIGS\", show=\"tree_local\", sample_id=0, tree_idx=1,\n",
    "                    original_scale=True, figsize=(16, 10))"
   ]
  }
 ],
 "metadata": {
  "kernelspec": {
   "display_name": "Python 3",
   "language": "python",
   "name": "python3"
  },
  "language_info": {
   "codemirror_mode": {
    "name": "ipython",
    "version": 3
   },
   "file_extension": ".py",
   "mimetype": "text/x-python",
   "name": "python",
   "nbconvert_exporter": "python",
   "pygments_lexer": "ipython3",
   "version": "3.9.12"
  }
 },
 "nbformat": 4,
 "nbformat_minor": 5
}