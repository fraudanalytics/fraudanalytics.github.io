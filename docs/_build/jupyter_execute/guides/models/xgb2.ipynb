{
 "cells": [
  {
   "cell_type": "code",
   "execution_count": null,
   "id": "d773d78f",
   "metadata": {},
   "outputs": [],
   "source": [
    "from piml.models import XGB2Regressor\n",
    "exp.model_train(model=XGB2Regressor(), name=\"XGB2\")"
   ]
  },
  {
   "cell_type": "code",
   "execution_count": null,
   "id": "a530b2d9",
   "metadata": {},
   "outputs": [],
   "source": [
    "exp.model_interpret(model=\"XGB2\", show=\"global_effect_plot\", uni_feature=\"atemp\",\n",
    "                    original_scale=True, figsize=(5, 4))"
   ]
  },
  {
   "cell_type": "code",
   "execution_count": null,
   "id": "0c589177",
   "metadata": {},
   "outputs": [],
   "source": [
    "exp.model_interpret(model=\"XGB2\", show=\"global_effect_plot\", bi_features=[\"hr\", \"workingday\"],\n",
    "                    sliced_line=False, original_scale=True, figsize=(5, 4))"
   ]
  },
  {
   "cell_type": "code",
   "execution_count": null,
   "id": "07fd0b8e",
   "metadata": {},
   "outputs": [],
   "source": [
    "exp.model_interpret(model=\"XGB2\", show=\"global_ei\", figsize=(5, 4))"
   ]
  },
  {
   "cell_type": "code",
   "execution_count": null,
   "id": "1a2274b7",
   "metadata": {},
   "outputs": [],
   "source": [
    "exp.model_interpret(model='XGB2', show=\"global_fi\", figsize=(5, 4))"
   ]
  },
  {
   "cell_type": "code",
   "execution_count": null,
   "id": "629112cf",
   "metadata": {},
   "outputs": [],
   "source": [
    "exp.model_interpret(model='XGB2', show=\"local_ei\", sample_id=0, original_scale=True, figsize=(5, 4))"
   ]
  },
  {
   "cell_type": "code",
   "execution_count": null,
   "id": "0f8657e8",
   "metadata": {},
   "outputs": [],
   "source": [
    "exp.model_interpret(model=\"XGB2\", show=\"local_fi\", sample_id=0, original_scale=True, figsize=(5, 4))"
   ]
  }
 ],
 "metadata": {
  "kernelspec": {
   "display_name": "Python 3",
   "language": "python",
   "name": "python3"
  },
  "language_info": {
   "codemirror_mode": {
    "name": "ipython",
    "version": 3
   },
   "file_extension": ".py",
   "mimetype": "text/x-python",
   "name": "python",
   "nbconvert_exporter": "python",
   "pygments_lexer": "ipython3",
   "version": "3.9.12"
  }
 },
 "nbformat": 4,
 "nbformat_minor": 5
}