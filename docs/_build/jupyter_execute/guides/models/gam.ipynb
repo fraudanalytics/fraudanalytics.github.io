{
 "cells": [
  {
   "cell_type": "code",
   "execution_count": null,
   "id": "999acde3",
   "metadata": {},
   "outputs": [],
   "source": [
    "from piml.models import GAMRegressor\n",
    "exp.model_train(model=GAMRegressor(spline_order=1, n_splines=20, lam=0.6), name=\"GAM\")"
   ]
  },
  {
   "cell_type": "code",
   "execution_count": null,
   "id": "7a02a0f5",
   "metadata": {},
   "outputs": [],
   "source": [
    "exp.model_interpret(model=\"GAM\", show=\"global_effect_plot\", uni_feature=\"MedInc\",\n",
    "                    original_scale=True, figsize=(5, 4))"
   ]
  },
  {
   "cell_type": "code",
   "execution_count": null,
   "id": "c69b02af",
   "metadata": {},
   "outputs": [],
   "source": [
    "exp.model_interpret(model=\"GAM\",show=\"global_fi\", figsize=(5, 4))"
   ]
  },
  {
   "cell_type": "code",
   "execution_count": null,
   "id": "fa1644b3",
   "metadata": {},
   "outputs": [],
   "source": [
    "exp.model_interpret(model=\"GAM\",show=\"local_fi\", sample_id=0, original_scale=True, figsize=(5, 4))"
   ]
  }
 ],
 "metadata": {
  "kernelspec": {
   "display_name": "Python 3",
   "language": "python",
   "name": "python3"
  },
  "language_info": {
   "codemirror_mode": {
    "name": "ipython",
    "version": 3
   },
   "file_extension": ".py",
   "mimetype": "text/x-python",
   "name": "python",
   "nbconvert_exporter": "python",
   "pygments_lexer": "ipython3",
   "version": "3.9.12"
  }
 },
 "nbformat": 4,
 "nbformat_minor": 5
}