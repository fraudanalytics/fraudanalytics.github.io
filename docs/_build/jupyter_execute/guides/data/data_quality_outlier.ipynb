{
 "cells": [
  {
   "cell_type": "code",
   "execution_count": null,
   "id": "7c50fd4f",
   "metadata": {},
   "outputs": [],
   "source": [
    "from piml.data.outlier_detection import PCA\n",
    "exp.data_quality(method=PCA(), show='od_score_distribution', threshold=0.999)"
   ]
  },
  {
   "cell_type": "code",
   "execution_count": null,
   "id": "3a421565",
   "metadata": {},
   "outputs": [],
   "source": [
    "from piml.data.outlier_detection import PCA\n",
    "exp.data_quality(method=PCA(), show='od_marginal_outlier_distribution', threshold=0.999)"
   ]
  },
  {
   "cell_type": "code",
   "execution_count": null,
   "id": "e735ee60",
   "metadata": {},
   "outputs": [],
   "source": [
    "from piml.data.outlier_detection import PCA, CBLOF\n",
    "exp.data_quality(method=[PCA(), CBLOF()], show='od_tsne_comparison', threshold=[0.999, 0.999])"
   ]
  }
 ],
 "metadata": {
  "kernelspec": {
   "display_name": "Python 3",
   "language": "python",
   "name": "python3"
  },
  "language_info": {
   "codemirror_mode": {
    "name": "ipython",
    "version": 3
   },
   "file_extension": ".py",
   "mimetype": "text/x-python",
   "name": "python",
   "nbconvert_exporter": "python",
   "pygments_lexer": "ipython3",
   "version": "3.9.12"
  }
 },
 "nbformat": 4,
 "nbformat_minor": 5
}