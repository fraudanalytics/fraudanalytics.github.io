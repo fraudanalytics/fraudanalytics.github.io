{
 "cells": [
  {
   "cell_type": "code",
   "execution_count": null,
   "id": "9de576aa",
   "metadata": {},
   "outputs": [],
   "source": [
    "exp.data_loader(data=\"CoCircles\")"
   ]
  },
  {
   "cell_type": "code",
   "execution_count": null,
   "id": "2f4df94a",
   "metadata": {},
   "outputs": [],
   "source": [
    "data = pd.read_csv('https://github.com/SelfExplainML/PiML-Toolbox/blob/main/datasets/BikeSharing.csv?raw=true')\n",
    "exp.data_loader(data=data)"
   ]
  },
  {
   "cell_type": "code",
   "execution_count": null,
   "id": "60971194",
   "metadata": {},
   "outputs": [],
   "source": [
    "exp.data_loader(data=\"./myfile.parquet\", spark=True, spark_sample_size=10000, spark_random_state=0)"
   ]
  },
  {
   "cell_type": "code",
   "execution_count": null,
   "id": "734f85d9",
   "metadata": {},
   "outputs": [],
   "source": [
    "exp.data_loader(data=\"./myfile.parquet\", spark=True, spark_sample_size=10000,\n",
    "                spark_sample_by_feature='Y', spark_random_state=0)"
   ]
  },
  {
   "cell_type": "code",
   "execution_count": null,
   "id": "a2c47d86",
   "metadata": {},
   "outputs": [],
   "source": [
    "exp.data_loader(data=\"./myfile.parquet\", spark=True, spark_sample_size=10000,\n",
    "                spark_sample_by_feature='Y', spark_sample_fractions={0.0: 1, 1.0: 5},\n",
    "                spark_random_state=0)"
   ]
  }
 ],
 "metadata": {
  "kernelspec": {
   "display_name": "Python 3",
   "language": "python",
   "name": "python3"
  },
  "language_info": {
   "codemirror_mode": {
    "name": "ipython",
    "version": 3
   },
   "file_extension": ".py",
   "mimetype": "text/x-python",
   "name": "python",
   "nbconvert_exporter": "python",
   "pygments_lexer": "ipython3",
   "version": "3.9.12"
  }
 },
 "nbformat": 4,
 "nbformat_minor": 5
}