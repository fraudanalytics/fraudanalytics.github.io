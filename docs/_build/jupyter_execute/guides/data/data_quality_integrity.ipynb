{
 "cells": [
  {
   "cell_type": "code",
   "execution_count": null,
   "id": "5066e091",
   "metadata": {},
   "outputs": [],
   "source": [
    "exp.data_quality(show=\"integrity_single_column_check\")"
   ]
  },
  {
   "cell_type": "code",
   "execution_count": null,
   "id": "680713f4",
   "metadata": {},
   "outputs": [],
   "source": [
    "exp.data_quality(show=\"integrity_duplicated_samples\")"
   ]
  },
  {
   "cell_type": "code",
   "execution_count": null,
   "id": "cc7abcb5",
   "metadata": {},
   "outputs": [],
   "source": [
    "exp.data_quality(show=\"integrity_highly_correlated_features\")"
   ]
  }
 ],
 "metadata": {
  "kernelspec": {
   "display_name": "Python 3",
   "language": "python",
   "name": "python3"
  },
  "language_info": {
   "codemirror_mode": {
    "name": "ipython",
    "version": 3
   },
   "file_extension": ".py",
   "mimetype": "text/x-python",
   "name": "python",
   "nbconvert_exporter": "python",
   "pygments_lexer": "ipython3",
   "version": "3.9.12"
  }
 },
 "nbformat": 4,
 "nbformat_minor": 5
}