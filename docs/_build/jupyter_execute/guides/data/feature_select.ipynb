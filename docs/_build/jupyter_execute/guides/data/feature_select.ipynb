{
 "cells": [
  {
   "cell_type": "code",
   "execution_count": null,
   "id": "e78a333d",
   "metadata": {},
   "outputs": [],
   "source": [
    "exp.feature_select(method=\"cor\", corr_algorithm=\"pearson\", threshold=0.1, figsize=(5, 4))"
   ]
  },
  {
   "cell_type": "code",
   "execution_count": null,
   "id": "661392cf",
   "metadata": {},
   "outputs": [],
   "source": [
    "exp.feature_select(method=\"cor\", corr_algorithm=\"spearman\", threshold=0.1, figsize=(5, 4))"
   ]
  },
  {
   "cell_type": "code",
   "execution_count": null,
   "id": "22e4d64c",
   "metadata": {},
   "outputs": [],
   "source": [
    "exp.feature_select(method=\"dcor\", threshold=0.1, figsize=(5, 4))"
   ]
  },
  {
   "cell_type": "code",
   "execution_count": null,
   "id": "e1362483",
   "metadata": {},
   "outputs": [],
   "source": [
    "exp.feature_select(method=\"pfi\", threshold=0.95, figsize=(5, 4))"
   ]
  },
  {
   "cell_type": "code",
   "execution_count": null,
   "id": "5c2d622f",
   "metadata": {},
   "outputs": [],
   "source": [
    "exp.feature_select(method=\"rcit\", threshold=0.001, n_forward_phase=2, kernel_size=100, figsize=(5, 4))"
   ]
  },
  {
   "cell_type": "code",
   "execution_count": null,
   "id": "18c2426d",
   "metadata": {},
   "outputs": [],
   "source": [
    "exp.feature_select(method=\"rcit\", threshold=0.001, preset=[\"hr\", \"temp\"], figsize=(5, 4))"
   ]
  }
 ],
 "metadata": {
  "kernelspec": {
   "display_name": "Python 3",
   "language": "python",
   "name": "python3"
  },
  "language_info": {
   "codemirror_mode": {
    "name": "ipython",
    "version": 3
   },
   "file_extension": ".py",
   "mimetype": "text/x-python",
   "name": "python",
   "nbconvert_exporter": "python",
   "pygments_lexer": "ipython3",
   "version": "3.9.12"
  }
 },
 "nbformat": 4,
 "nbformat_minor": 5
}