{
 "cells": [
  {
   "cell_type": "code",
   "execution_count": null,
   "id": "d463e218",
   "metadata": {},
   "outputs": [],
   "source": [
    "exp.data_quality(show=\"drift_test_distance\", distance_metric=\"PSI\",\n",
    "                 psi_buckets=\"uniform\", figsize=(5, 4))"
   ]
  },
  {
   "cell_type": "code",
   "execution_count": null,
   "id": "5f741002",
   "metadata": {},
   "outputs": [],
   "source": [
    "exp.data_quality(show=\"drift_test_distance\", distance_metric=\"PSI\", psi_buckets='quantile',\n",
    "                 show_feature=\"atemp\", figsize=(5, 4))"
   ]
  },
  {
   "cell_type": "code",
   "execution_count": null,
   "id": "775a5847",
   "metadata": {},
   "outputs": [],
   "source": [
    "exp.data_quality(show=\"drift_test_info\", figsize=(5, 4))"
   ]
  }
 ],
 "metadata": {
  "kernelspec": {
   "display_name": "Python 3",
   "language": "python",
   "name": "python3"
  },
  "language_info": {
   "codemirror_mode": {
    "name": "ipython",
    "version": 3
   },
   "file_extension": ".py",
   "mimetype": "text/x-python",
   "name": "python",
   "nbconvert_exporter": "python",
   "pygments_lexer": "ipython3",
   "version": "3.9.12"
  }
 },
 "nbformat": 4,
 "nbformat_minor": 5
}