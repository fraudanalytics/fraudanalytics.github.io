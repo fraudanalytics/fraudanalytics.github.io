{
 "cells": [
  {
   "cell_type": "code",
   "execution_count": null,
   "id": "8810640d",
   "metadata": {},
   "outputs": [],
   "source": [
    "exp.model_diagnose(model=\"FIGS\", show='robustness_perf', perturb_features=None,\n",
    "                  perturb_method=\"raw\", metric=\"MSE\", perturb_size=0.1, figsize=(6, 4))"
   ]
  },
  {
   "cell_type": "code",
   "execution_count": null,
   "id": "9159cc4c",
   "metadata": {},
   "outputs": [],
   "source": [
    "exp.model_diagnose(model=\"FIGS\", show=\"robustness_perf\", perturb_features=[\"hr\", \"atemp\"],\n",
    "                  perturb_method='raw', metric=\"MSE\", perturb_size=0.1,  figsize=(6, 4))"
   ]
  },
  {
   "cell_type": "code",
   "execution_count": null,
   "id": "d256f50b",
   "metadata": {},
   "outputs": [],
   "source": [
    "exp.model_diagnose(model=\"FIGS\", show=\"robustness_perf_worst\", perturb_features=None,\n",
    "                  perturb_method=\"raw\", metric=\"MSE\", perturb_size=0.1, alpha=0.3, figsize=(6, 4))"
   ]
  }
 ],
 "metadata": {
  "kernelspec": {
   "display_name": "Python 3",
   "language": "python",
   "name": "python3"
  },
  "language_info": {
   "codemirror_mode": {
    "name": "ipython",
    "version": 3
   },
   "file_extension": ".py",
   "mimetype": "text/x-python",
   "name": "python",
   "nbconvert_exporter": "python",
   "pygments_lexer": "ipython3",
   "version": "3.9.12"
  }
 },
 "nbformat": 4,
 "nbformat_minor": 5
}