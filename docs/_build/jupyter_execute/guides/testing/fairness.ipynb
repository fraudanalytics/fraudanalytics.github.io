{
 "cells": [
  {
   "cell_type": "code",
   "execution_count": null,
   "id": "a61ff431",
   "metadata": {},
   "outputs": [],
   "source": [
    "metrics_result = exp.model_fairness(model=\"XGB2_monotonic\", show=\"metrics\", metric=\"AIR\",\n",
    "                group_category=[\"Race\", \"Gender\"], reference_group=[1., 1.],\n",
    "                protected_group=[0., 0.], favorable_threshold=0.5,\n",
    "                figsize=(6, 4), return_data=True)"
   ]
  },
  {
   "cell_type": "code",
   "execution_count": null,
   "id": "d61cd514",
   "metadata": {},
   "outputs": [],
   "source": [
    "segmented_result = exp.model_fairness(model=\"XGB2_monotonic\", show=\"segmented\", metric=\"AIR\",\n",
    "                                       segment_feature=\"Balance\", group_category=[\"Race\",\"Gender\"],\n",
    "                                       reference_group=[1., 1.], protected_group=[0., 0.],\n",
    "                                       segment_bins=5, favorable_threshold=0.5,\n",
    "                                       return_data=True, figsize=(8, 4))"
   ]
  },
  {
   "cell_type": "code",
   "execution_count": null,
   "id": "d6b66734",
   "metadata": {},
   "outputs": [],
   "source": [
    "binning_dict = {\"Balance\": {\"type\": \"quantile\", \"value\": [1, 5]},\n",
    "                \"Mortgage\": {\"type\": \"uniform\", \"value\": [1, 5]},\n",
    "                \"Amount Past Due\": {\"type\": \"custom\", \"value\": (0, 100)}}\n",
    "binning_result = exp.model_fairness(model=\"XGB2_monotonic\", show=\"binning\", metric=\"AIR\",\n",
    "                                     group_category=[\"Race\",\"Gender\"],\n",
    "                                     reference_group=[1., 1.], protected_group=[0., 0.],\n",
    "                                     favorable_threshold=0.5, performance_metric=\"F1\",\n",
    "                                     binning_dict=binning_dict, return_data=True, figsize=(8,4))"
   ]
  },
  {
   "cell_type": "code",
   "execution_count": null,
   "id": "61a91f2c",
   "metadata": {},
   "outputs": [],
   "source": [
    "thresholding_result = exp.model_fairness(model=\"XGB2_monotonic\", show=\"thresholding\", metric=\"AIR\",\n",
    "                                         group_category=[\"Race\",\"Gender\"],\n",
    "                                         reference_group=[1., 1.], protected_group=[0., 0.],\n",
    "                                         favorable_threshold=0.32, performance_metric=\"ACC\",\n",
    "                                         return_data=True)"
   ]
  }
 ],
 "metadata": {
  "kernelspec": {
   "display_name": "Python 3",
   "language": "python",
   "name": "python3"
  },
  "language_info": {
   "codemirror_mode": {
    "name": "ipython",
    "version": 3
   },
   "file_extension": ".py",
   "mimetype": "text/x-python",
   "name": "python",
   "nbconvert_exporter": "python",
   "pygments_lexer": "ipython3",
   "version": "3.9.12"
  }
 },
 "nbformat": 4,
 "nbformat_minor": 5
}