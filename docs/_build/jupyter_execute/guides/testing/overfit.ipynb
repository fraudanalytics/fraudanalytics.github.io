{
 "cells": [
  {
   "cell_type": "code",
   "execution_count": null,
   "id": "81b8b03c",
   "metadata": {},
   "outputs": [],
   "source": [
    "results = exp.model_diagnose(model=\"XGB2\", show=\"overfit\", slice_method=\"histogram\",\n",
    "                             slice_features=[\"hr\"], threshold=1.05, min_samples=100,\n",
    "                             return_data=True, figsize=(5, 4))"
   ]
  },
  {
   "cell_type": "code",
   "execution_count": null,
   "id": "be0d28ed",
   "metadata": {},
   "outputs": [],
   "source": [
    "results=exp.model_diagnose(model=\"XGB2\", show=\"overfit\", slice_method=\"histogram\",\n",
    "                           slice_features=[\"hr\", \"atemp\"], threshold=1.05, min_samples=100,\n",
    "                           return_data=True, figsize=(5, 4))"
   ]
  }
 ],
 "metadata": {
  "kernelspec": {
   "display_name": "Python 3",
   "language": "python",
   "name": "python3"
  },
  "language_info": {
   "codemirror_mode": {
    "name": "ipython",
    "version": 3
   },
   "file_extension": ".py",
   "mimetype": "text/x-python",
   "name": "python",
   "nbconvert_exporter": "python",
   "pygments_lexer": "ipython3",
   "version": "3.9.12"
  }
 },
 "nbformat": 4,
 "nbformat_minor": 5
}