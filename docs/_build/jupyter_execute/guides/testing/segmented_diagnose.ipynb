{
 "cells": [
  {
   "cell_type": "code",
   "execution_count": null,
   "id": "bd7bd633",
   "metadata": {},
   "outputs": [],
   "source": [
    "result = exp.segmented_diagnose(model='XGB2', show='segment_table',\n",
    "                                segment_method='uniform', segment_bins=5, return_data=True)\n",
    "result.data"
   ]
  },
  {
   "cell_type": "code",
   "execution_count": null,
   "id": "801c29e8",
   "metadata": {},
   "outputs": [],
   "source": [
    "result = exp.segmented_diagnose(model='XGB2', show='accuracy_table', segment_id=0, return_data=True)\n",
    "result.data.head(10)"
   ]
  },
  {
   "cell_type": "code",
   "execution_count": null,
   "id": "03a88239",
   "metadata": {},
   "outputs": [],
   "source": [
    "exp.segmented_diagnose(model='XGB2', show='accuracy_residual', segment_id=0, show_feature='atemp')"
   ]
  },
  {
   "cell_type": "code",
   "execution_count": null,
   "id": "f5310cce",
   "metadata": {},
   "outputs": [],
   "source": [
    "exp.segmented_diagnose(model='XGB2', show='weakspot', segment_id=0, slice_features=['atemp'])"
   ]
  },
  {
   "cell_type": "code",
   "execution_count": null,
   "id": "308310d4",
   "metadata": {},
   "outputs": [],
   "source": [
    "exp.segmented_diagnose(model='XGB2', show='distribution_shift', segment_id=0)"
   ]
  },
  {
   "cell_type": "code",
   "execution_count": null,
   "id": "81bf7508",
   "metadata": {},
   "outputs": [],
   "source": [
    "exp.segmented_diagnose(model='XGB2', show='distribution_shift', segment_id=0, show_feature='hum')"
   ]
  }
 ],
 "metadata": {
  "kernelspec": {
   "display_name": "Python 3",
   "language": "python",
   "name": "python3"
  },
  "language_info": {
   "codemirror_mode": {
    "name": "ipython",
    "version": 3
   },
   "file_extension": ".py",
   "mimetype": "text/x-python",
   "name": "python",
   "nbconvert_exporter": "python",
   "pygments_lexer": "ipython3",
   "version": "3.9.12"
  }
 },
 "nbformat": 4,
 "nbformat_minor": 5
}