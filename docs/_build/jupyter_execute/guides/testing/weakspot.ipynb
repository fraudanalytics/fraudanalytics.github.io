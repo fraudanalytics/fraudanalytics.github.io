{
 "cells": [
  {
   "cell_type": "code",
   "execution_count": null,
   "id": "b602bce7",
   "metadata": {},
   "outputs": [],
   "source": [
    "results = exp.model_diagnose(model=\"XGB2\", show=\"weakspot\", slice_method=\"histogram\",\n",
    "                        slice_features=[\"PAY_1\"], threshold=1.1, min_samples=100, metric=\"ACC\",\n",
    "                        use_test=True, return_data=True, figsize=(5, 4))"
   ]
  },
  {
   "cell_type": "code",
   "execution_count": null,
   "id": "538a1ead",
   "metadata": {},
   "outputs": [],
   "source": [
    "results = exp.model_diagnose(model=\"XGB2\", show=\"weakspot\", slice_method=\"histogram\",\n",
    "                       slice_features=[\"PAY_1\", \"PAY_2\"], threshold=1.1, min_samples=100, metric=\"ACC\", use_test=True, return_data=True, figsize=(5, 4))"
   ]
  }
 ],
 "metadata": {
  "kernelspec": {
   "display_name": "Python 3",
   "language": "python",
   "name": "python3"
  },
  "language_info": {
   "codemirror_mode": {
    "name": "ipython",
    "version": 3
   },
   "file_extension": ".py",
   "mimetype": "text/x-python",
   "name": "python",
   "nbconvert_exporter": "python",
   "pygments_lexer": "ipython3",
   "version": "3.9.12"
  }
 },
 "nbformat": 4,
 "nbformat_minor": 5
}