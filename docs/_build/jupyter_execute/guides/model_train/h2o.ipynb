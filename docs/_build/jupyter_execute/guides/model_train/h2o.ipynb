{
 "cells": [
  {
   "cell_type": "code",
   "execution_count": null,
   "id": "72ea23dc",
   "metadata": {},
   "outputs": [],
   "source": [
    "import h2o\n",
    "h2o.no_progress()\n",
    "h2o.init(verbose=False)\n",
    "\n",
    "import numpy as np\n",
    "import pandas as pd\n",
    "from sklearn.datasets import fetch_california_housing\n",
    "from h2o.estimators import H2OGradientBoostingEstimator\n",
    "\n",
    "data = fetch_california_housing()\n",
    "feature_names = data.feature_names\n",
    "target_name = data.target_names[0]\n",
    "\n",
    "h2o_data = h2o.H2OFrame(pd.DataFrame(np.hstack([data.data, data.target.reshape(-1, 1)]),\n",
    "                                    columns=feature_names + [target_name]))\n",
    "h2o_data_train, h2o_data_test = h2o_data.split_frame(ratios=[0.8], seed=2023)\n",
    "\n",
    "gbm_model = H2OGradientBoostingEstimator()\n",
    "gbm_model.train(feature_names, target_name, training_frame=h2o_data_train)"
   ]
  },
  {
   "cell_type": "code",
   "execution_count": null,
   "id": "1bb7bebe",
   "metadata": {},
   "outputs": [],
   "source": [
    "mojo_file_path = gbm_model.save_mojo(path=\"./\")"
   ]
  },
  {
   "cell_type": "code",
   "execution_count": null,
   "id": "80ea48fb",
   "metadata": {},
   "outputs": [],
   "source": [
    "from piml import Experiment\n",
    "exp = Experiment(highcode_only=True)\n",
    "\n",
    "imported_model = h2o.import_mojo(mojo_file_path)\n",
    "pipeline = exp.make_pipeline(model=imported_model,\n",
    "                             task_type=\"regression\",\n",
    "                             train_x=h2o_data_train[feature_names].as_data_frame().values,\n",
    "                             train_y=h2o_data_train[target_name].as_data_frame().values.ravel(),\n",
    "                             test_x=h2o_data_test[feature_names].as_data_frame().values,\n",
    "                             test_y=h2o_data_test[target_name].as_data_frame().values.ravel(),\n",
    "                             feature_names=feature_names,\n",
    "                             target_name=target_name)\n",
    "exp.register(pipeline, \"H2O-GBM\")"
   ]
  },
  {
   "cell_type": "code",
   "execution_count": null,
   "id": "df1ae87f",
   "metadata": {},
   "outputs": [],
   "source": [
    "exp.model_explain(model=\"H2O-GBM\", show=\"pfi\", figsize=(5, 4))"
   ]
  }
 ],
 "metadata": {
  "kernelspec": {
   "display_name": "Python 3",
   "language": "python",
   "name": "python3"
  },
  "language_info": {
   "codemirror_mode": {
    "name": "ipython",
    "version": 3
   },
   "file_extension": ".py",
   "mimetype": "text/x-python",
   "name": "python",
   "nbconvert_exporter": "python",
   "pygments_lexer": "ipython3",
   "version": "3.9.12"
  }
 },
 "nbformat": 4,
 "nbformat_minor": 5
}