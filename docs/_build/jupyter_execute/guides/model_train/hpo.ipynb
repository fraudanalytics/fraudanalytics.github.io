{
 "cells": [
  {
   "cell_type": "code",
   "execution_count": null,
   "id": "410e98fa",
   "metadata": {},
   "outputs": [],
   "source": [
    "parameters = {'n_estimators': [100, 300, 500],\n",
    "              'eta': [0.1, 0.3, 0.5],\n",
    "              'reg_lambda': [0.0, 0.5, 1.0],\n",
    "              'reg_alpha': [0.0, 0.5, 1.0]}\n",
    "result = exp.model_tune(\"XGB2\", method=\"grid\", parameters=parameters, metric=['MSE', 'MAE'], test_ratio=0.2)"
   ]
  },
  {
   "cell_type": "code",
   "execution_count": null,
   "id": "d99eb10a",
   "metadata": {},
   "outputs": [],
   "source": [
    "result.data"
   ]
  },
  {
   "cell_type": "code",
   "execution_count": null,
   "id": "90a9cf7e",
   "metadata": {},
   "outputs": [],
   "source": [
    "result.plot(param='n_estimators', figsize=(6, 4.5))"
   ]
  },
  {
   "cell_type": "code",
   "execution_count": null,
   "id": "ab64737f",
   "metadata": {},
   "outputs": [],
   "source": [
    "params = result.get_params_ranks(rank=1)\n",
    "exp.model_train(XGB2Regressor(**params), name=\"XGB2-HPO-GridSearch\")"
   ]
  }
 ],
 "metadata": {
  "kernelspec": {
   "display_name": "Python 3",
   "language": "python",
   "name": "python3"
  },
  "language_info": {
   "codemirror_mode": {
    "name": "ipython",
    "version": 3
   },
   "file_extension": ".py",
   "mimetype": "text/x-python",
   "name": "python",
   "nbconvert_exporter": "python",
   "pygments_lexer": "ipython3",
   "version": "3.9.12"
  }
 },
 "nbformat": 4,
 "nbformat_minor": 5
}