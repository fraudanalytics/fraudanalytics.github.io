{
 "cells": [
  {
   "cell_type": "code",
   "execution_count": null,
   "id": "800b73d3",
   "metadata": {},
   "outputs": [],
   "source": [
    "exp.model_explain(model=\"XGB2\", show=\"hstats\", sample_size=2000, grid_size=5,\n",
    "                  figsize=(5, 4))"
   ]
  },
  {
   "cell_type": "code",
   "execution_count": null,
   "id": "85b08b8c",
   "metadata": {},
   "outputs": [],
   "source": [
    "result = exp.model_explain(model=\"XGB2\", show=\"hstats\", sample_size=2000, grid_size=5,\n",
    "                           return_data=True, figsize=(5, 4))\n",
    "result.data"
   ]
  }
 ],
 "metadata": {
  "kernelspec": {
   "display_name": "Python 3",
   "language": "python",
   "name": "python3"
  },
  "language_info": {
   "codemirror_mode": {
    "name": "ipython",
    "version": 3
   },
   "file_extension": ".py",
   "mimetype": "text/x-python",
   "name": "python",
   "nbconvert_exporter": "python",
   "pygments_lexer": "ipython3",
   "version": "3.9.12"
  }
 },
 "nbformat": 4,
 "nbformat_minor": 5
}