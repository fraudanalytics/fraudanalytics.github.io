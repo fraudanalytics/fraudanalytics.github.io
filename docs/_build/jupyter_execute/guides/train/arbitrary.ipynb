{
 "cells": [
  {
   "cell_type": "code",
   "execution_count": null,
   "id": "57f897da",
   "metadata": {},
   "outputs": [],
   "source": [
    "import numpy as np\n",
    "import statsmodels.api as sm\n",
    "\n",
    "x = np.random.uniform(-1, 1, size=(1000, 2))\n",
    "y = (np.sum(x, axis=1) + np.random.normal(0, 0.1, size=(1000,))) > 0.0\n",
    "\n",
    "glm_binom = sm.GLM(y, x, family=sm.families.Binomial())\n",
    "glm_results  = glm_binom.fit()"
   ]
  },
  {
   "cell_type": "code",
   "execution_count": null,
   "id": "c0a211de",
   "metadata": {},
   "outputs": [],
   "source": [
    "def predict_proba_func(X):\n",
    "    proba = glm_binom.predict(glm_results.params, exog=X)\n",
    "    return np.vstack([1 - proba, proba]).T\n",
    "\n",
    "def predict_func(X):\n",
    "    proba = glm_binom.predict(glm_results.params, exog=X)\n",
    "    return proba > 0.5"
   ]
  },
  {
   "cell_type": "code",
   "execution_count": null,
   "id": "5f0fbf36",
   "metadata": {},
   "outputs": [],
   "source": [
    "from piml import Experiment\n",
    "exp = Experiment(highcode_only=True)\n",
    "\n",
    "pipeline = exp.make_pipeline(predict_func=predict_func,\n",
    "                             predict_proba_func=predict_proba_func,\n",
    "                             task_type=\"classification\",\n",
    "                             train_x=x[:800],\n",
    "                             train_y=y[:800],\n",
    "                             test_x=x[800:],\n",
    "                             test_y=y[800:],\n",
    "                             feature_names=[\"X0\", \"X1\"],\n",
    "                             target_name=\"Y\")\n",
    "exp.register(pipeline, \"Statsmodels-GLM\")"
   ]
  },
  {
   "cell_type": "code",
   "execution_count": null,
   "id": "10e6ed97",
   "metadata": {},
   "outputs": [],
   "source": [
    "exp.model_explain(model=\"Statsmodels-GLM\", show=\"ale\", uni_feature=\"X0\", figsize=(5, 4))"
   ]
  }
 ],
 "metadata": {
  "kernelspec": {
   "display_name": "Python 3",
   "language": "python",
   "name": "python3"
  },
  "language_info": {
   "codemirror_mode": {
    "name": "ipython",
    "version": 3
   },
   "file_extension": ".py",
   "mimetype": "text/x-python",
   "name": "python",
   "nbconvert_exporter": "python",
   "pygments_lexer": "ipython3",
   "version": "3.9.12"
  }
 },
 "nbformat": 4,
 "nbformat_minor": 5
}