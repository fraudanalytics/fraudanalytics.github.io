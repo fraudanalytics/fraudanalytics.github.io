{
 "cells": [
  {
   "cell_type": "code",
   "execution_count": null,
   "id": "e82125b4",
   "metadata": {},
   "outputs": [],
   "source": [
    "from piml import Experiment\n",
    "exp = Experiment()\n",
    "exp.data_loader(data='CaliforniaHousing_raw')\n",
    "exp.data_prepare(target='MedHouseVal', task_type='regression', random_state=0)"
   ]
  },
  {
   "cell_type": "code",
   "execution_count": null,
   "id": "7598d8df",
   "metadata": {},
   "outputs": [],
   "source": [
    "from lightgbm import LGBMRegressor\n",
    "lgbm2 = LGBMRegressor(max_depth=2)\n",
    "exp.model_train(lgbm2, name='LGBM_2')"
   ]
  },
  {
   "cell_type": "code",
   "execution_count": null,
   "id": "62b2ea1a",
   "metadata": {},
   "outputs": [],
   "source": [
    "exp.model_save(\"LGBM_2\", \"CH_LGBM_2.pkl\")"
   ]
  },
  {
   "cell_type": "code",
   "execution_count": null,
   "id": "107e2189",
   "metadata": {},
   "outputs": [],
   "source": [
    "pipeline = exp.make_pipeline(model='CH_LGBM_2.pkl')\n",
    "exp.register(pipeline, \"LGBM_2_load\")"
   ]
  },
  {
   "cell_type": "code",
   "execution_count": null,
   "id": "03bde064",
   "metadata": {},
   "outputs": [],
   "source": [
    "from sklearn.model_selection import train_test_split\n",
    "train_x, test_x, train_y, test_y = train_test_split(exp.dataset.x, exp.dataset.y, test_size=0.2)\n",
    "\n",
    "lgbm7 = LGBMRegressor(max_depth=7, n_estimators=100)\n",
    "lgbm7.fit(train_x, train_y)\n",
    "\n",
    "pipeline = exp.make_pipeline(model=lgbm7, train_x=train_x, train_y=train_y.ravel(),\n",
    "                             test_x=test_x, test_y=test_y.ravel())\n",
    "exp.register(pipeline, \"LGBM_7\")"
   ]
  },
  {
   "cell_type": "code",
   "execution_count": null,
   "id": "0967817a",
   "metadata": {},
   "outputs": [],
   "source": [
    "exp.model_explain(model=\"LGBM_7\", show=\"pdp\", uni_feature=\"MedInc\", figsize=(5, 4))"
   ]
  }
 ],
 "metadata": {
  "kernelspec": {
   "display_name": "Python 3",
   "language": "python",
   "name": "python3"
  },
  "language_info": {
   "codemirror_mode": {
    "name": "ipython",
    "version": 3
   },
   "file_extension": ".py",
   "mimetype": "text/x-python",
   "name": "python",
   "nbconvert_exporter": "python",
   "pygments_lexer": "ipython3",
   "version": "3.9.12"
  }
 },
 "nbformat": 4,
 "nbformat_minor": 5
}